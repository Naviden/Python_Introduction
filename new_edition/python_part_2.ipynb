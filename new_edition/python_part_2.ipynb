{
 "cells": [
  {
   "cell_type": "markdown",
   "metadata": {},
   "source": [
    "## Files"
   ]
  },
  {
   "cell_type": "markdown",
   "metadata": {},
   "source": [
    "Technically speaking files are categorized as one of the core python data types (like strings, lists,...) while actually they are external objects saved on your machine which are imported to Python using python built-in functions like **open**. Python, either using built-in function or external libraries is able to read from and write to a wide range of files. Here we'll going to see three commonly used files: *.txt , .csv* and *.json* files."
   ]
  },
  {
   "cell_type": "markdown",
   "metadata": {},
   "source": [
    "### Text files"
   ]
  },
  {
   "cell_type": "code",
   "execution_count": 73,
   "metadata": {},
   "outputs": [],
   "source": [
    "# creating a new file and writing to it\n",
    "file = open('first_text_file.txt', 'w')\n",
    "file.write('Navid Nobani')\n",
    "file.close()"
   ]
  },
  {
   "cell_type": "code",
   "execution_count": 74,
   "metadata": {},
   "outputs": [],
   "source": [
    "# openning an existing file and writing to it\n",
    "file = open('first_text_file.txt', 'a')\n",
    "file.write('\\nanother line!')\n",
    "file.close()"
   ]
  },
  {
   "cell_type": "code",
   "execution_count": 77,
   "metadata": {},
   "outputs": [
    {
     "name": "stdout",
     "output_type": "stream",
     "text": [
      "Hello World!\n",
      "\n"
     ]
    }
   ],
   "source": [
    "# openning an existing file and reading from it\n",
    "file = open('first_text_file.txt', 'r')\n",
    "line = file.readline()\n",
    "print(line)\n",
    "file.close()"
   ]
  },
  {
   "cell_type": "markdown",
   "metadata": {},
   "source": [
    "As you have noticed, in order to read from/write to a file, we do these steps:\n",
    "- open/create a file\n",
    "- read from/write to it\n",
    "- close the file\n",
    "\n",
    "Just like opening and actions you do on the file, closing it is absolutely important since having an open instance uses your RAM and slows down your script. Actually there is a better way to manage opening and closing files which is using content managers. Given our limited time we can't go in details here but fortunately using them is easy. Look at the following example:"
   ]
  },
  {
   "cell_type": "code",
   "execution_count": 79,
   "metadata": {},
   "outputs": [],
   "source": [
    "with open('first_text_file.txt', 'w') as file:\n",
    "    file.write('Some funny text :D')"
   ]
  },
  {
   "cell_type": "markdown",
   "metadata": {},
   "source": [
    "This is equal to the following code:"
   ]
  },
  {
   "cell_type": "code",
   "execution_count": 80,
   "metadata": {},
   "outputs": [],
   "source": [
    "# creating a new file and writing to it\n",
    "file = open('second_text_file.txt', 'w')\n",
    "file.write('Some funny text :D')\n",
    "file.close()"
   ]
  },
  {
   "cell_type": "markdown",
   "metadata": {},
   "source": [
    "### CSV Files"
   ]
  },
  {
   "cell_type": "markdown",
   "metadata": {},
   "source": [
    "There are two main ways to open a csv file: \n",
    "- using [csv module](https://docs.python.org/3/library/csv.html) ( which comes with python)\n",
    "- or using [pandas library](https://pandas.pydata.org/) (which you should install it first)\n",
    "\n",
    "*[This site](https://realpython.com/python-csv/) has a rich explanation about csv files in Python.*\n",
    "\n",
    "first let's take a look at csv library:"
   ]
  },
  {
   "cell_type": "code",
   "execution_count": null,
   "metadata": {},
   "outputs": [],
   "source": [
    "import csv # NEW STUFF !\n",
    "\n",
    "with open('./files/data/camdenhousesales15.csv') as csv_file:\n",
    "    csv_reader = csv.reader(csv_file, delimiter=',')\n",
    "    for row in csv_reader: # NEW STUFF !\n",
    "        print(row)"
   ]
  },
  {
   "cell_type": "markdown",
   "metadata": {},
   "source": [
    "For working with csv files (specially the big ones!) I personally prefer pandas library over csv module. Later in the course we'll briefly learn about pandas but let's have a sneak peek now!"
   ]
  },
  {
   "cell_type": "code",
   "execution_count": null,
   "metadata": {},
   "outputs": [],
   "source": [
    "import pandas as pd\n",
    "\n",
    "df = pd.read_csv('./files/data/camdenhousesales15.csv')\n",
    "df"
   ]
  },
  {
   "cell_type": "markdown",
   "metadata": {},
   "source": [
    "The table you see in the previous cell is a \"DataFrame\" one of the most important non-core data types you'll use in data science field. We'll learn more about dataframes later in the course."
   ]
  },
  {
   "cell_type": "markdown",
   "metadata": {},
   "source": [
    "# Functions"
   ]
  },
  {
   "cell_type": "markdown",
   "metadata": {},
   "source": [
    "Python functions are a bundle of code that perform a specific functionality if this functionality is going to be reused later in another part of the code. "
   ]
  },
  {
   "cell_type": "markdown",
   "metadata": {},
   "source": [
    "Suppose we want to perform some simple statistics on a list of numbers:"
   ]
  },
  {
   "cell_type": "code",
   "execution_count": 55,
   "metadata": {},
   "outputs": [
    {
     "name": "stdout",
     "output_type": "stream",
     "text": [
      "0.2883400052995804\n",
      "0.49948825007353703\n",
      "0.5006297820093312\n",
      "5.536675737993768e-06\n",
      "0.999992042302966\n"
     ]
    }
   ],
   "source": [
    "import numpy as np\n",
    "np.random.seed(42)\n",
    "\n",
    "data = np.random.rand(1,100_000).tolist()[0]\n",
    "std = np.std(data)\n",
    "mean = np.mean(data)\n",
    "median = np.median(data)\n",
    "min_val = min(data)\n",
    "max_val = max(data)\n",
    "for val in [std, mean, median, min_val, max_val]:\n",
    "    print(val)"
   ]
  },
  {
   "cell_type": "markdown",
   "metadata": {},
   "source": [
    "Ok, we did it! but what if we now want to repeat these processes for another list of numbers. We have two options:\n",
    "    \n",
    "- Updating the data variable with a new list\n",
    "- Re-write all the steps for another list\n",
    "\n",
    "Both these solutions are bad! or at least not Pythonic. The correct way to deal with such a task is to pack them as a function."
   ]
  },
  {
   "cell_type": "markdown",
   "metadata": {},
   "source": [
    "## Built-in functions"
   ]
  },
  {
   "cell_type": "markdown",
   "metadata": {},
   "source": [
    "Until this point, we have many functions without knowing the exact definition of a function! We've seen:\n",
    "\n",
    "- print\n",
    "- len\n",
    "- max\n",
    "- min\n",
    "\n",
    "These are just few example of hundreds of functions that are part of core python language (it means to use them you don't need to import any library/package). A function always has the following structure:\n",
    "\n",
    "<img src=\"Images/function.png\" width=\"500\"> \n",
    "\n",
    "Parameters are inputs that functions may or may not need in order to perform their desired tasks. For example lats take a look at **print** function which take a string as input and prints it."
   ]
  },
  {
   "cell_type": "code",
   "execution_count": 25,
   "metadata": {},
   "outputs": [
    {
     "name": "stdout",
     "output_type": "stream",
     "text": [
      "My shiny text!\n",
      "\n",
      "X+++Y+++Z\n",
      "X Y Z +++ °°°\n"
     ]
    }
   ],
   "source": [
    "print('My shiny text!')\n",
    "print() # prints an empty line\n",
    "print('X', 'Y', 'Z', sep='+++', end='\\n')\n",
    "print('X', 'Y', 'Z', '+++', '°°°')"
   ]
  },
  {
   "cell_type": "markdown",
   "metadata": {},
   "source": [
    "you can see that print accepts zero , one or (technically) infinite number of parameters. Let's see another built-in function : **map**\n",
    "\n",
    "**map** returns a special iterable with type \"map\":"
   ]
  },
  {
   "cell_type": "code",
   "execution_count": 42,
   "metadata": {},
   "outputs": [
    {
     "data": {
      "text/plain": [
       "[-1.567, 0.2, -65.0]"
      ]
     },
     "execution_count": 42,
     "metadata": {},
     "output_type": "execute_result"
    }
   ],
   "source": [
    "my_list = ['-1.567', '0.2', '-65']\n",
    "list(map(float, my_list))"
   ]
  },
  {
   "cell_type": "markdown",
   "metadata": {},
   "source": [
    "map takes either no parameter and returns an empty list or takes two or more parameters.(let's say the function we want to apply and the iterable we want to apply function to). It means it won't work with just one parameter(function or iterable) and we will get a \"TypeError\" message."
   ]
  },
  {
   "cell_type": "markdown",
   "metadata": {},
   "source": [
    "  "
   ]
  },
  {
   "cell_type": "markdown",
   "metadata": {},
   "source": [
    "<img src=\"Images/student.svg\"   width=\"30\" align=\"left\">               "
   ]
  },
  {
   "cell_type": "markdown",
   "metadata": {},
   "source": [
    "**YOUR TURN :** using **map** and **abs** functions, create a list with the absolute value of the list's items."
   ]
  },
  {
   "cell_type": "code",
   "execution_count": 76,
   "metadata": {},
   "outputs": [
    {
     "data": {
      "text/plain": [
       "[1, 5.5, 9, 123, 65]"
      ]
     },
     "execution_count": 76,
     "metadata": {},
     "output_type": "execute_result"
    }
   ],
   "source": [
    "new_list = [-1, 5.5, -9, -123, 65]\n",
    "list(map(abs, new_list))"
   ]
  },
  {
   "cell_type": "markdown",
   "metadata": {},
   "source": [
    "## The Other Built-in functions:"
   ]
  },
  {
   "cell_type": "markdown",
   "metadata": {},
   "source": [
    "### isinstance"
   ]
  },
  {
   "cell_type": "code",
   "execution_count": 17,
   "metadata": {
    "ExecuteTime": {
     "end_time": "2020-05-22T09:19:40.269471Z",
     "start_time": "2020-05-22T09:19:40.260772Z"
    }
   },
   "outputs": [],
   "source": [
    "cities = ['CO', 'MI', 'BN', 22100, 'RO', 20147, 'LE']"
   ]
  },
  {
   "cell_type": "code",
   "execution_count": 21,
   "metadata": {
    "ExecuteTime": {
     "end_time": "2020-05-22T09:22:21.637166Z",
     "start_time": "2020-05-22T09:22:21.631215Z"
    }
   },
   "outputs": [
    {
     "name": "stdout",
     "output_type": "stream",
     "text": [
      "Wrong format --> 22100\n",
      "Wrong format --> 20147\n"
     ]
    }
   ],
   "source": [
    "for city in cities:\n",
    "    if type(city) != str:\n",
    "        print(f'Wrong format --> {city}')"
   ]
  },
  {
   "cell_type": "code",
   "execution_count": 28,
   "metadata": {
    "ExecuteTime": {
     "end_time": "2020-05-22T09:25:52.664118Z",
     "start_time": "2020-05-22T09:25:52.625169Z"
    }
   },
   "outputs": [
    {
     "name": "stdout",
     "output_type": "stream",
     "text": [
      "Wrong format --> 22100\n",
      "Wrong format --> 20147\n"
     ]
    }
   ],
   "source": [
    "for city in cities:\n",
    "    if not isinstance(city, str):\n",
    "        print(f'Wrong format --> {city}')"
   ]
  },
  {
   "cell_type": "markdown",
   "metadata": {},
   "source": [
    "<img src=\"Images/wizard.svg\"   width=\"30\" align=\"left\" >               "
   ]
  },
  {
   "cell_type": "markdown",
   "metadata": {},
   "source": [
    "**YOUR TURN:**\n",
    "    \n",
    "What is happening in the following code?"
   ]
  },
  {
   "cell_type": "code",
   "execution_count": 30,
   "metadata": {
    "ExecuteTime": {
     "end_time": "2020-05-22T09:27:30.304603Z",
     "start_time": "2020-05-22T09:27:30.282885Z"
    }
   },
   "outputs": [
    {
     "name": "stdout",
     "output_type": "stream",
     "text": [
      "Wrong format --> 22100\n",
      "Wrong format --> 20147\n"
     ]
    }
   ],
   "source": [
    "print(*[f'Wrong format --> {city}' for city in cities if not isinstance(city, str)], sep='\\n')"
   ]
  },
  {
   "cell_type": "markdown",
   "metadata": {},
   "source": [
    "### filter"
   ]
  },
  {
   "cell_type": "code",
   "execution_count": 36,
   "metadata": {
    "ExecuteTime": {
     "end_time": "2020-05-22T09:41:35.788322Z",
     "start_time": "2020-05-22T09:41:35.774595Z"
    }
   },
   "outputs": [
    {
     "name": "stdout",
     "output_type": "stream",
     "text": [
      "Wrong format --> 22100\n",
      "Wrong format --> 20147\n"
     ]
    }
   ],
   "source": [
    "cities = ['CO', 'MI', 'BN', 22100, 'RO', 20147, 'LE']\n",
    "\n",
    "def filter_cities(city):\n",
    "    if type(city) != str:\n",
    "        return True\n",
    "\n",
    "filtered_items = filter(filter_cities, cities)\n",
    "\n",
    "for item in filtered_items:\n",
    "    print(f'Wrong format --> {item}')"
   ]
  },
  {
   "cell_type": "markdown",
   "metadata": {},
   "source": [
    "<img src=\"Images/wizard.svg\"   width=\"30\" align=\"left\" >               "
   ]
  },
  {
   "cell_type": "markdown",
   "metadata": {},
   "source": [
    "**YOUR TURN:**\n",
    "    \n",
    "What is happening in the following code?"
   ]
  },
  {
   "cell_type": "code",
   "execution_count": 37,
   "metadata": {},
   "outputs": [
    {
     "name": "stdout",
     "output_type": "stream",
     "text": [
      "Wrong format --> 22100\n",
      "Wrong format --> 20147\n"
     ]
    }
   ],
   "source": [
    "print(*[f'Wrong format --> {city}' for city in list(filter(lambda x: not isinstance(x, str), cities))], sep='\\n')"
   ]
  },
  {
   "cell_type": "markdown",
   "metadata": {},
   "source": [
    "### all"
   ]
  },
  {
   "cell_type": "code",
   "execution_count": 44,
   "metadata": {
    "ExecuteTime": {
     "end_time": "2020-05-22T09:56:56.360131Z",
     "start_time": "2020-05-22T09:56:56.322438Z"
    }
   },
   "outputs": [
    {
     "data": {
      "text/plain": [
       "False"
      ]
     },
     "execution_count": 44,
     "metadata": {},
     "output_type": "execute_result"
    }
   ],
   "source": [
    "cities = ['CO', 'MI', 'BN', 22100, 'RO', 20147, 'LE']\n",
    "\n",
    "all([isinstance(city, str) for city in cities])"
   ]
  },
  {
   "cell_type": "markdown",
   "metadata": {},
   "source": [
    "### any"
   ]
  },
  {
   "cell_type": "code",
   "execution_count": 45,
   "metadata": {
    "ExecuteTime": {
     "end_time": "2020-05-22T09:57:07.098449Z",
     "start_time": "2020-05-22T09:57:07.083560Z"
    }
   },
   "outputs": [
    {
     "data": {
      "text/plain": [
       "True"
      ]
     },
     "execution_count": 45,
     "metadata": {},
     "output_type": "execute_result"
    }
   ],
   "source": [
    "any([isinstance(city, str) for city in cities])"
   ]
  },
  {
   "cell_type": "markdown",
   "metadata": {},
   "source": [
    "<img src=\"Images/wizard.svg\"   width=\"30\" align=\"left\" >               "
   ]
  },
  {
   "cell_type": "markdown",
   "metadata": {},
   "source": [
    "**YOUR TURN:**\n",
    "    \n",
    "Use the df below and filter it for the rows that all of their items are bigger than one:"
   ]
  },
  {
   "cell_type": "code",
   "execution_count": 4,
   "metadata": {},
   "outputs": [],
   "source": [
    "import pandas as pd\n",
    "df = pd.DataFrame({'C_1':'a 3ab ac a5d ce af ah a a7e ak a3l'.split(),\n",
    "                   'C_2':'aa ytcb c a3d ce af agh at3i aj ank fa'.split()})"
   ]
  },
  {
   "cell_type": "code",
   "execution_count": 5,
   "metadata": {},
   "outputs": [
    {
     "data": {
      "text/html": [
       "<div>\n",
       "<style scoped>\n",
       "    .dataframe tbody tr th:only-of-type {\n",
       "        vertical-align: middle;\n",
       "    }\n",
       "\n",
       "    .dataframe tbody tr th {\n",
       "        vertical-align: top;\n",
       "    }\n",
       "\n",
       "    .dataframe thead th {\n",
       "        text-align: right;\n",
       "    }\n",
       "</style>\n",
       "<table border=\"1\" class=\"dataframe\">\n",
       "  <thead>\n",
       "    <tr style=\"text-align: right;\">\n",
       "      <th></th>\n",
       "      <th>C_1</th>\n",
       "      <th>C_2</th>\n",
       "    </tr>\n",
       "  </thead>\n",
       "  <tbody>\n",
       "    <tr>\n",
       "      <th>0</th>\n",
       "      <td>a</td>\n",
       "      <td>aa</td>\n",
       "    </tr>\n",
       "    <tr>\n",
       "      <th>1</th>\n",
       "      <td>3ab</td>\n",
       "      <td>ytcb</td>\n",
       "    </tr>\n",
       "    <tr>\n",
       "      <th>2</th>\n",
       "      <td>ac</td>\n",
       "      <td>c</td>\n",
       "    </tr>\n",
       "    <tr>\n",
       "      <th>3</th>\n",
       "      <td>a5d</td>\n",
       "      <td>a3d</td>\n",
       "    </tr>\n",
       "    <tr>\n",
       "      <th>4</th>\n",
       "      <td>ce</td>\n",
       "      <td>ce</td>\n",
       "    </tr>\n",
       "    <tr>\n",
       "      <th>5</th>\n",
       "      <td>af</td>\n",
       "      <td>af</td>\n",
       "    </tr>\n",
       "    <tr>\n",
       "      <th>6</th>\n",
       "      <td>ah</td>\n",
       "      <td>agh</td>\n",
       "    </tr>\n",
       "    <tr>\n",
       "      <th>7</th>\n",
       "      <td>a</td>\n",
       "      <td>at3i</td>\n",
       "    </tr>\n",
       "    <tr>\n",
       "      <th>8</th>\n",
       "      <td>a7e</td>\n",
       "      <td>aj</td>\n",
       "    </tr>\n",
       "    <tr>\n",
       "      <th>9</th>\n",
       "      <td>ak</td>\n",
       "      <td>ank</td>\n",
       "    </tr>\n",
       "    <tr>\n",
       "      <th>10</th>\n",
       "      <td>a3l</td>\n",
       "      <td>fa</td>\n",
       "    </tr>\n",
       "  </tbody>\n",
       "</table>\n",
       "</div>"
      ],
      "text/plain": [
       "    C_1   C_2\n",
       "0     a    aa\n",
       "1   3ab  ytcb\n",
       "2    ac     c\n",
       "3   a5d   a3d\n",
       "4    ce    ce\n",
       "5    af    af\n",
       "6    ah   agh\n",
       "7     a  at3i\n",
       "8   a7e    aj\n",
       "9    ak   ank\n",
       "10  a3l    fa"
      ]
     },
     "execution_count": 5,
     "metadata": {},
     "output_type": "execute_result"
    }
   ],
   "source": [
    "df"
   ]
  },
  {
   "cell_type": "code",
   "execution_count": 7,
   "metadata": {},
   "outputs": [
    {
     "data": {
      "text/html": [
       "<div>\n",
       "<style scoped>\n",
       "    .dataframe tbody tr th:only-of-type {\n",
       "        vertical-align: middle;\n",
       "    }\n",
       "\n",
       "    .dataframe tbody tr th {\n",
       "        vertical-align: top;\n",
       "    }\n",
       "\n",
       "    .dataframe thead th {\n",
       "        text-align: right;\n",
       "    }\n",
       "</style>\n",
       "<table border=\"1\" class=\"dataframe\">\n",
       "  <thead>\n",
       "    <tr style=\"text-align: right;\">\n",
       "      <th></th>\n",
       "      <th>0</th>\n",
       "      <th>1</th>\n",
       "    </tr>\n",
       "  </thead>\n",
       "  <tbody>\n",
       "    <tr>\n",
       "      <th>0</th>\n",
       "      <td>3ab</td>\n",
       "      <td>ytcb</td>\n",
       "    </tr>\n",
       "    <tr>\n",
       "      <th>0</th>\n",
       "      <td>a5d</td>\n",
       "      <td>a3d</td>\n",
       "    </tr>\n",
       "    <tr>\n",
       "      <th>0</th>\n",
       "      <td>ce</td>\n",
       "      <td>ce</td>\n",
       "    </tr>\n",
       "    <tr>\n",
       "      <th>0</th>\n",
       "      <td>af</td>\n",
       "      <td>af</td>\n",
       "    </tr>\n",
       "    <tr>\n",
       "      <th>0</th>\n",
       "      <td>ah</td>\n",
       "      <td>agh</td>\n",
       "    </tr>\n",
       "    <tr>\n",
       "      <th>0</th>\n",
       "      <td>a7e</td>\n",
       "      <td>aj</td>\n",
       "    </tr>\n",
       "    <tr>\n",
       "      <th>0</th>\n",
       "      <td>ak</td>\n",
       "      <td>ank</td>\n",
       "    </tr>\n",
       "    <tr>\n",
       "      <th>0</th>\n",
       "      <td>a3l</td>\n",
       "      <td>fa</td>\n",
       "    </tr>\n",
       "  </tbody>\n",
       "</table>\n",
       "</div>"
      ],
      "text/plain": [
       "     0     1\n",
       "0  3ab  ytcb\n",
       "0  a5d   a3d\n",
       "0   ce    ce\n",
       "0   af    af\n",
       "0   ah   agh\n",
       "0  a7e    aj\n",
       "0   ak   ank\n",
       "0  a3l    fa"
      ]
     },
     "execution_count": 7,
     "metadata": {},
     "output_type": "execute_result"
    }
   ],
   "source": [
    "res = []\n",
    "for i in range(len(df)):\n",
    "    if all([len(x) > 1 for x in df.iloc[i, :]]):\n",
    "        res.append(pd.DataFrame(df.iloc[i, :].values).T)\n",
    "pd.concat(res)#.reset_index(drop=True)"
   ]
  },
  {
   "cell_type": "code",
   "execution_count": 93,
   "metadata": {},
   "outputs": [
    {
     "data": {
      "text/html": [
       "<div>\n",
       "<style scoped>\n",
       "    .dataframe tbody tr th:only-of-type {\n",
       "        vertical-align: middle;\n",
       "    }\n",
       "\n",
       "    .dataframe tbody tr th {\n",
       "        vertical-align: top;\n",
       "    }\n",
       "\n",
       "    .dataframe thead th {\n",
       "        text-align: right;\n",
       "    }\n",
       "</style>\n",
       "<table border=\"1\" class=\"dataframe\">\n",
       "  <thead>\n",
       "    <tr style=\"text-align: right;\">\n",
       "      <th></th>\n",
       "      <th>C_1</th>\n",
       "      <th>C_2</th>\n",
       "    </tr>\n",
       "  </thead>\n",
       "  <tbody>\n",
       "    <tr>\n",
       "      <th>1</th>\n",
       "      <td>3ab</td>\n",
       "      <td>ytcb</td>\n",
       "    </tr>\n",
       "    <tr>\n",
       "      <th>3</th>\n",
       "      <td>a5d</td>\n",
       "      <td>a3d</td>\n",
       "    </tr>\n",
       "    <tr>\n",
       "      <th>4</th>\n",
       "      <td>ce</td>\n",
       "      <td>ce</td>\n",
       "    </tr>\n",
       "    <tr>\n",
       "      <th>5</th>\n",
       "      <td>af</td>\n",
       "      <td>af</td>\n",
       "    </tr>\n",
       "    <tr>\n",
       "      <th>6</th>\n",
       "      <td>ah</td>\n",
       "      <td>agh</td>\n",
       "    </tr>\n",
       "    <tr>\n",
       "      <th>8</th>\n",
       "      <td>a7e</td>\n",
       "      <td>aj</td>\n",
       "    </tr>\n",
       "    <tr>\n",
       "      <th>9</th>\n",
       "      <td>ak</td>\n",
       "      <td>ank</td>\n",
       "    </tr>\n",
       "    <tr>\n",
       "      <th>10</th>\n",
       "      <td>a3l</td>\n",
       "      <td>fa</td>\n",
       "    </tr>\n",
       "  </tbody>\n",
       "</table>\n",
       "</div>"
      ],
      "text/plain": [
       "    C_1   C_2\n",
       "1   3ab  ytcb\n",
       "3   a5d   a3d\n",
       "4    ce    ce\n",
       "5    af    af\n",
       "6    ah   agh\n",
       "8   a7e    aj\n",
       "9    ak   ank\n",
       "10  a3l    fa"
      ]
     },
     "execution_count": 93,
     "metadata": {},
     "output_type": "execute_result"
    }
   ],
   "source": [
    "res = []\n",
    "for i in range(len(df)):\n",
    "    if all([len(x) > 1 for x in df.iloc[i, :]]): # try to re-write the code using any\n",
    "        res.append(i)\n",
    "df[df.index.isin(res)]"
   ]
  },
  {
   "cell_type": "markdown",
   "metadata": {},
   "source": [
    "### Finding index of a list/string item/character"
   ]
  },
  {
   "cell_type": "markdown",
   "metadata": {},
   "source": [
    "It often happens that we want to find the index of an item (or character) in a list (or a string). The easiest way to do so is using *index* method:"
   ]
  },
  {
   "cell_type": "code",
   "execution_count": 6,
   "metadata": {},
   "outputs": [
    {
     "data": {
      "text/plain": [
       "2"
      ]
     },
     "execution_count": 6,
     "metadata": {},
     "output_type": "execute_result"
    }
   ],
   "source": [
    "# finding the index of 'foo'\n",
    "small_list = ['pipa', 'papa', 'foo', 'bar', 'ham']\n",
    "small_list.index('foo')"
   ]
  },
  {
   "cell_type": "markdown",
   "metadata": {},
   "source": [
    "The same thing exists for strings:"
   ]
  },
  {
   "cell_type": "code",
   "execution_count": 9,
   "metadata": {},
   "outputs": [
    {
     "data": {
      "text/plain": [
       "22"
      ]
     },
     "execution_count": 9,
     "metadata": {},
     "output_type": "execute_result"
    }
   ],
   "source": [
    "# getting index of 'want'\n",
    "example_string = 'this is a test text I want to use here'\n",
    "example_string.index('want')"
   ]
  },
  {
   "cell_type": "markdown",
   "metadata": {},
   "source": [
    "## Range function"
   ]
  },
  {
   "cell_type": "markdown",
   "metadata": {},
   "source": [
    "Range is a simple and handy function which usually is used within a for loop(but not always). range function has three inputs:\n",
    "    - start\n",
    "    - end\n",
    "    - step"
   ]
  },
  {
   "cell_type": "markdown",
   "metadata": {},
   "source": [
    "  "
   ]
  },
  {
   "cell_type": "code",
   "execution_count": 94,
   "metadata": {},
   "outputs": [
    {
     "name": "stdout",
     "output_type": "stream",
     "text": [
      "0\n",
      "1\n",
      "2\n",
      "3\n"
     ]
    }
   ],
   "source": [
    "for i in [0, 1, 2, 3]:\n",
    "    print(i)"
   ]
  },
  {
   "cell_type": "code",
   "execution_count": 100,
   "metadata": {},
   "outputs": [
    {
     "name": "stdout",
     "output_type": "stream",
     "text": [
      "0\n",
      "1\n",
      "2\n",
      "3\n",
      "4\n",
      "5\n",
      "6\n",
      "7\n",
      "8\n",
      "9\n"
     ]
    }
   ],
   "source": [
    "for i in range(10):\n",
    "    print(i)"
   ]
  },
  {
   "cell_type": "code",
   "execution_count": 101,
   "metadata": {},
   "outputs": [
    {
     "name": "stdout",
     "output_type": "stream",
     "text": [
      "ABC\n",
      "BVG\n",
      "UHY\n",
      "UQH\n",
      "LLL\n"
     ]
    }
   ],
   "source": [
    "my_list = ['ABC', 'BVG', 'UHY', 'UQH', 'LLL']\n",
    "for i in range(len(my_list)):\n",
    "    print(my_list[i])"
   ]
  },
  {
   "cell_type": "markdown",
   "metadata": {},
   "source": [
    "<img src=\"Images/wizard.svg\"   width=\"30\" align=\"left\">               "
   ]
  },
  {
   "cell_type": "markdown",
   "metadata": {},
   "source": [
    "**YOUR TURN**: using as for loop print items inside each key of the given dictionary and print numbers that are less than 10. (some numbers by mistake were recorded as a string, take care of them too!)\n",
    "\n",
    "**Hint**: *You may want to use **.isnumeric( )** string method*"
   ]
  },
  {
   "cell_type": "code",
   "execution_count": 149,
   "metadata": {},
   "outputs": [],
   "source": [
    "target = {'A': [1.0, 5 ,7, 'foo'], \n",
    "          'B': [4, [12], '3', 83]}"
   ]
  },
  {
   "cell_type": "code",
   "execution_count": 152,
   "metadata": {},
   "outputs": [
    {
     "name": "stdout",
     "output_type": "stream",
     "text": [
      "1.0\n",
      "5\n",
      "7\n",
      "4\n",
      "3\n"
     ]
    }
   ],
   "source": [
    "for key in target.keys():\n",
    "    for item in target[key]:\n",
    "        check = 0\n",
    "        if type(item) in [int, float] :\n",
    "            if item < 10 :\n",
    "                check = 1\n",
    "        elif type(item) == str:\n",
    "            if item.isnumeric():\n",
    "                if int(item) < 10 :\n",
    "                    check = 1\n",
    "        if check == 1:\n",
    "            print(item)    "
   ]
  },
  {
   "cell_type": "code",
   "execution_count": null,
   "metadata": {},
   "outputs": [],
   "source": [
    "(\\   .-.   .-.   .-.   .-.   .-.   .-.   .-.   .-.   /_\")\n",
    " \\\\_//^\\\\_//^\\\\_//^\\\\_//^\\\\_//^\\\\_//^\\\\_//^\\\\_//^\\\\_//\n",
    "  `\"`   `\"`   `\"`   `\"`   `\"`   `\"`   `\"`   `\"`   `\"`"
   ]
  },
  {
   "cell_type": "markdown",
   "metadata": {},
   "source": [
    "## Custom functions"
   ]
  },
  {
   "cell_type": "markdown",
   "metadata": {},
   "source": [
    "Although there are numerous built-in and third-party modules and packages ready to be used by you, there are some tasks that are too specific which you can't find any existing module/function to do that task for you. In these cases ( which happen a lot) we need to write our own functions.\n",
    "Consider the initial example we saw at the beginning of the \"functions\", calculating some simple statistics."
   ]
  },
  {
   "cell_type": "code",
   "execution_count": 85,
   "metadata": {},
   "outputs": [],
   "source": [
    "def simple_stat(data, log=True):\n",
    "    \"\"\"Calculating simple statistics of a given list.\n",
    "    \n",
    "    For the the given list of numbers, calculates standard deviation, \n",
    "    Mean, Median, Minimum and Maximum statistics.\n",
    "\n",
    "    Args:\n",
    "        data : A list of numerical data.\n",
    "        log: If True, prints a simple report.\n",
    "        \n",
    "    Returns:\n",
    "        Return a list of the given numbers\n",
    "    \"\"\"\n",
    "    std = np.std(data)\n",
    "    mean = np.mean(data)\n",
    "    median = np.median(data)\n",
    "    min_val = min(data)\n",
    "    max_val = max(data)\n",
    "    \n",
    "    vals = [std, mean, median, min_val, max_val]\n",
    "    names = ['Standard deviation', 'Mean', 'Median', 'Min', 'Max']\n",
    "    \n",
    "    if log:\n",
    "        for name, val in zip(names, vals):\n",
    "            print(f'{name} : {val}')\n",
    "            #print(f'{name} : {round(val, 2)}')\n",
    "    return vals"
   ]
  },
  {
   "cell_type": "code",
   "execution_count": 79,
   "metadata": {},
   "outputs": [],
   "source": [
    "def simple_stat(data):\n",
    "    \n",
    "    std = np.std(data)\n",
    "    mean = np.mean(data)\n",
    "    median = np.median(data)\n",
    "    min_val = min(data)\n",
    "    max_val = max(data)\n",
    "    \n",
    "    vals = [std, mean, median, min_val, max_val]\n",
    "    names = ['Standard deviation', 'Mean', 'Median', 'Min', 'Max']\n",
    "    \n",
    "    for name, val in zip(names, vals):\n",
    "        print(f'{name} : {val}')\n",
    "    return vals"
   ]
  },
  {
   "cell_type": "code",
   "execution_count": 81,
   "metadata": {},
   "outputs": [],
   "source": [
    "import numpy as np"
   ]
  },
  {
   "cell_type": "code",
   "execution_count": 86,
   "metadata": {},
   "outputs": [
    {
     "name": "stdout",
     "output_type": "stream",
     "text": [
      "Standard deviation : 0.29\n",
      "Mean : 0.5\n",
      "Median : 0.5\n",
      "Min : 0.0\n",
      "Max : 1.0\n"
     ]
    }
   ],
   "source": [
    "np.random.seed(42)\n",
    "\n",
    "data = np.random.rand(1,100_000).tolist()[0]\n",
    "results = simple_stat(data)"
   ]
  },
  {
   "cell_type": "markdown",
   "metadata": {},
   "source": [
    "Following figure shows the structure of a custom function:\n",
    "\n",
    "<img src=\"Images/function_detail.png\" width=\"900\"> "
   ]
  },
  {
   "cell_type": "markdown",
   "metadata": {},
   "source": [
    "<img src=\"Images/student.svg\"   width=\"30\" align=\"left\">               "
   ]
  },
  {
   "cell_type": "markdown",
   "metadata": {},
   "source": [
    "**YOUR TURN :** \n",
    "\n",
    "- Using **round** function, modify the *simple_stat* in a way that returns the 2-digit rounded values.\n",
    "- Add *range* statistics to results"
   ]
  },
  {
   "cell_type": "code",
   "execution_count": 84,
   "metadata": {},
   "outputs": [
    {
     "data": {
      "text/plain": [
       "134.4564"
      ]
     },
     "execution_count": 84,
     "metadata": {},
     "output_type": "execute_result"
    }
   ],
   "source": [
    "round(134.456435453, 4)"
   ]
  },
  {
   "cell_type": "code",
   "execution_count": null,
   "metadata": {},
   "outputs": [],
   "source": [
    "(\\   .-.   .-.   .-.   .-.   .-.   .-.   .-.   .-.   /_\")\n",
    " \\\\_//^\\\\_//^\\\\_//^\\\\_//^\\\\_//^\\\\_//^\\\\_//^\\\\_//^\\\\_//\n",
    "  `\"`   `\"`   `\"`   `\"`   `\"`   `\"`   `\"`   `\"`   `\"`"
   ]
  },
  {
   "cell_type": "markdown",
   "metadata": {},
   "source": [
    "## Lambda functions"
   ]
  },
  {
   "cell_type": "markdown",
   "metadata": {},
   "source": [
    "Lambda functions are smaller and simpler version of normal function which come handy when we use **functional programming** features of Python. Providing a technical definition of functional programming is way beyond scope of our mini-course but in a nutshell, it means using functions as arguments of other functions. \n",
    "Let's first see the example of map function we saw:"
   ]
  },
  {
   "cell_type": "code",
   "execution_count": 58,
   "metadata": {},
   "outputs": [
    {
     "data": {
      "text/plain": [
       "[-1.567, 0.2, -65.0]"
      ]
     },
     "execution_count": 58,
     "metadata": {},
     "output_type": "execute_result"
    }
   ],
   "source": [
    "my_list = ['-1.567', '0.2', '-65']\n",
    "list(map(float, my_list))"
   ]
  },
  {
   "cell_type": "markdown",
   "metadata": {},
   "source": [
    "Now suppose that on top of changing the data types from str to float, we want to add 100 to each of them. remember how map function . works? It applies the first argument you give to it (in this case, float) to the sequence you pass as the second argument (in our example: my_list). So it's clear that we need to somehow change float to *something* that also adds 100 to each item. This *something* either should be *type* or a *function*. Ok, based on whjat we have learned until this point, create a custom function which does what we want:"
   ]
  },
  {
   "cell_type": "code",
   "execution_count": 59,
   "metadata": {},
   "outputs": [],
   "source": [
    "def float_plus_100(number):\n",
    "    \"\"\"Converts the given number to float and adds 100 to it\n",
    "    \n",
    "    args:\n",
    "        number : int or float\n",
    "        \n",
    "    returns:\n",
    "        float\n",
    "    \"\"\"\n",
    "    return float(number) + 100"
   ]
  },
  {
   "cell_type": "markdown",
   "metadata": {},
   "source": [
    "Ok, our function is ready. Let's test it:"
   ]
  },
  {
   "cell_type": "code",
   "execution_count": 60,
   "metadata": {},
   "outputs": [
    {
     "data": {
      "text/plain": [
       "103.14"
      ]
     },
     "execution_count": 60,
     "metadata": {},
     "output_type": "execute_result"
    }
   ],
   "source": [
    "float_plus_100('3.14')"
   ]
  },
  {
   "cell_type": "markdown",
   "metadata": {},
   "source": [
    "It works! Now we can add it to our map function:"
   ]
  },
  {
   "cell_type": "code",
   "execution_count": 61,
   "metadata": {},
   "outputs": [
    {
     "data": {
      "text/plain": [
       "[98.433, 100.2, 35.0]"
      ]
     },
     "execution_count": 61,
     "metadata": {},
     "output_type": "execute_result"
    }
   ],
   "source": [
    "list(map(float_plus_100, my_list))"
   ]
  },
  {
   "cell_type": "markdown",
   "metadata": {},
   "source": [
    "We did it! The only problem is in order to perform such a simple task we had to write a function, which most probably we're not going to use it again! That's why lambda functions exist! Let's re-write or code using lambda:"
   ]
  },
  {
   "cell_type": "code",
   "execution_count": 62,
   "metadata": {},
   "outputs": [
    {
     "data": {
      "text/plain": [
       "[98.433, 100.2, 35.0]"
      ]
     },
     "execution_count": 62,
     "metadata": {},
     "output_type": "execute_result"
    }
   ],
   "source": [
    "list(map(lambda x : float(x)+100, my_list))"
   ]
  },
  {
   "cell_type": "markdown",
   "metadata": {},
   "source": [
    "As you can see, we did the same thing without defining any function. In the following figure you can see the comparison between a lambda function and its corespondent function:\n",
    "\n",
    "<img src=\"Images/lambda.png\" width=\"800\"> "
   ]
  },
  {
   "cell_type": "markdown",
   "metadata": {},
   "source": [
    "Such a comparison may indicate that lambda functions are the definite choice but in reality, we use functions way more than we use lambdas since dealing with real data, often we should perform tasks that are too complex to be written as a lambda function."
   ]
  },
  {
   "cell_type": "markdown",
   "metadata": {},
   "source": [
    "# Control Flow"
   ]
  },
  {
   "cell_type": "markdown",
   "metadata": {},
   "source": [
    "Until now, we've works with single items. for example we sliced a string, or write a file. But what if we want to do something (perform an action) on a sequence of objects? The first type of loops we explore is for loops."
   ]
  },
  {
   "cell_type": "markdown",
   "metadata": {},
   "source": [
    "## For statement"
   ]
  },
  {
   "cell_type": "markdown",
   "metadata": {},
   "source": [
    "Suppose that we have a list of our colleagues year of births and we want to calculate their ages, print them and put them in a new list called ages:"
   ]
  },
  {
   "cell_type": "code",
   "execution_count": 88,
   "metadata": {},
   "outputs": [],
   "source": [
    "years = [1987, 1990, 1980, 1973]\n",
    "ages = [] # creating an empty list"
   ]
  },
  {
   "cell_type": "markdown",
   "metadata": {},
   "source": [
    "We know how to get a list's items using indexes. So what if we take each item and subtract it from 2019?"
   ]
  },
  {
   "cell_type": "code",
   "execution_count": 89,
   "metadata": {},
   "outputs": [
    {
     "name": "stdout",
     "output_type": "stream",
     "text": [
      "32\n",
      "29\n",
      "39\n",
      "46\n"
     ]
    }
   ],
   "source": [
    "age_1 = 2019 - years[0]\n",
    "print(age_1)\n",
    "ages.append(age_1)\n",
    "\n",
    "age_2 = 2019 - years[1]\n",
    "print(age_2)\n",
    "ages.append(age_2)\n",
    "\n",
    "age_3 = 2019 - years[2]\n",
    "print(age_3)\n",
    "ages.append(age_3)\n",
    "\n",
    "age_4 = 2019 - years[3]\n",
    "print(age_4)\n",
    "ages.append(age_4)"
   ]
  },
  {
   "cell_type": "code",
   "execution_count": 90,
   "metadata": {},
   "outputs": [
    {
     "name": "stdout",
     "output_type": "stream",
     "text": [
      "[32, 29, 39, 46]\n"
     ]
    }
   ],
   "source": [
    "print(ages)"
   ]
  },
  {
   "cell_type": "markdown",
   "metadata": {},
   "source": [
    "Ok, we did what we've we asked for! but I think you agree that it wasn't quite efficient as we've written more than 12 lines of code to perform three simple operations on 4 items! imagine you want to calculate the age of all Bicocca employees! Fortunately we for repetitive tasks like this( when we are dealing with sequence objects like lists, tuples, dictionaries or strings) we can use loops. In this case we're going to use a for loop:"
   ]
  },
  {
   "cell_type": "code",
   "execution_count": 98,
   "metadata": {},
   "outputs": [
    {
     "name": "stdout",
     "output_type": "stream",
     "text": [
      "32\n",
      "29\n",
      "39\n",
      "46\n"
     ]
    }
   ],
   "source": [
    "ages = []\n",
    "for year in years:\n",
    "    age = 2019 - year\n",
    "    print(age)\n",
    "    ages.append(age)"
   ]
  },
  {
   "cell_type": "markdown",
   "metadata": {},
   "source": [
    "This is the general structure of a for loop:\n",
    "\n",
    "<img src=\"Images/for_loop.png\" width=\"500\"> "
   ]
  },
  {
   "cell_type": "markdown",
   "metadata": {},
   "source": [
    "*Notice: for loops can have an \"else\" clause but we're not going to talk about them here*"
   ]
  },
  {
   "cell_type": "markdown",
   "metadata": {},
   "source": [
    "  "
   ]
  },
  {
   "cell_type": "markdown",
   "metadata": {},
   "source": [
    "<img src=\"Images/baby.svg\"   width=\"30\" align=\"left\">               "
   ]
  },
  {
   "cell_type": "markdown",
   "metadata": {},
   "source": [
    "**YOUR TURN**:\n",
    "In the previous example, Why can't we define the empty list inside the loop instead of outside it?"
   ]
  },
  {
   "cell_type": "code",
   "execution_count": null,
   "metadata": {},
   "outputs": [],
   "source": [
    "(\\   .-.   .-.   .-.   .-.   .-.   .-.   .-.   .-.   /_\")\n",
    " \\\\_//^\\\\_//^\\\\_//^\\\\_//^\\\\_//^\\\\_//^\\\\_//^\\\\_//^\\\\_//\n",
    "  `\"`   `\"`   `\"`   `\"`   `\"`   `\"`   `\"`   `\"`   `\"`"
   ]
  },
  {
   "cell_type": "markdown",
   "metadata": {},
   "source": [
    "## While statement"
   ]
  },
  {
   "cell_type": "markdown",
   "metadata": {},
   "source": [
    "While loops has a similar objective as for loops but while for loops, in theory iterate through all the items in the provided sequence, a while loop goes forward until meeting a certain condition.\n",
    "Suppose we want to print numbers between 0 and 10 and we want to do it using **while**.\n",
    "Let's see the info we have from the question:\n",
    "\n",
    "- we should print numbers\n",
    "- numbers should be between 0 and 10"
   ]
  },
  {
   "cell_type": "code",
   "execution_count": 10,
   "metadata": {},
   "outputs": [
    {
     "name": "stdout",
     "output_type": "stream",
     "text": [
      "0-1-2-3-4-5-6-7-8-9-10-"
     ]
    }
   ],
   "source": [
    "num = 0 # initial number is set to 0\n",
    "while num <= 10: # while the number is less than or equal 10, continue\n",
    "    print(num, end='-')\n",
    "    num = num + 1 # adding one to the current value of the num = num+=1"
   ]
  },
  {
   "cell_type": "markdown",
   "metadata": {},
   "source": [
    "Just like any other thing, we can achieve the same result using different methods and functions. For example we can get the numbers we want by using a for loop:"
   ]
  },
  {
   "cell_type": "code",
   "execution_count": 12,
   "metadata": {},
   "outputs": [
    {
     "name": "stdout",
     "output_type": "stream",
     "text": [
      "0\t1\t2\t3\t4\t5\t6\t7\t8\t9\t10\t"
     ]
    }
   ],
   "source": [
    "for num in range(11): # what is range?\n",
    "    print(num, end='\\t')"
   ]
  },
  {
   "cell_type": "markdown",
   "metadata": {},
   "source": [
    "*Note: Just like for loops, while loops also can have a else clause*"
   ]
  },
  {
   "cell_type": "markdown",
   "metadata": {},
   "source": [
    "Here is the general structure of a while loop:\n",
    "\n",
    "<img src=\"Images/while_loop.png\" width=\"500\"> "
   ]
  },
  {
   "cell_type": "markdown",
   "metadata": {},
   "source": [
    "  "
   ]
  },
  {
   "cell_type": "markdown",
   "metadata": {},
   "source": [
    "<img src=\"Images/student.svg\"   width=\"30\" align=\"left\">               "
   ]
  },
  {
   "cell_type": "markdown",
   "metadata": {},
   "source": [
    "**YOUR TURN**:\n",
    "What if we use a condition which is always true?"
   ]
  },
  {
   "cell_type": "code",
   "execution_count": null,
   "metadata": {},
   "outputs": [],
   "source": [
    "(\\   .-.   .-.   .-.   .-.   .-.   .-.   .-.   .-.   /_\")\n",
    " \\\\_//^\\\\_//^\\\\_//^\\\\_//^\\\\_//^\\\\_//^\\\\_//^\\\\_//^\\\\_//\n",
    "  `\"`   `\"`   `\"`   `\"`   `\"`   `\"`   `\"`   `\"`   `\"`"
   ]
  },
  {
   "cell_type": "markdown",
   "metadata": {},
   "source": [
    "## If statement"
   ]
  },
  {
   "cell_type": "markdown",
   "metadata": {},
   "source": [
    "Often, you need to execute some statements only if some condition holds, or choose statements to execute depending on several mutually exclusive conditions. The Python compound statement if, which uses if, elif, and else clauses, lets you conditionally execute blocks of statements. Here’s the syntax for the if statement:\n",
    "\n",
    "It's common that you want to execute a part of code if a certain condition holds (it's True). To do so in Python we use If statement. Let's go back to the simple example of printing numbers we've seen for while and for statements but this time suppose that you want to print the number only if it's an odd number:"
   ]
  },
  {
   "cell_type": "code",
   "execution_count": 3,
   "metadata": {},
   "outputs": [
    {
     "name": "stdout",
     "output_type": "stream",
     "text": [
      "1\n",
      "3\n",
      "5\n",
      "7\n",
      "9\n",
      "11\n",
      "13\n",
      "15\n",
      "17\n",
      "19\n"
     ]
    }
   ],
   "source": [
    "num = 0 # initial number is set to 0\n",
    "while num <= 20: # while the number is less than or equal 20, continue\n",
    "    if num%2 != 0: # if the reminder of them with 2\n",
    "        print(num)\n",
    "    num = num + 1 # adding one to the current value of the num = num+=1"
   ]
  },
  {
   "cell_type": "markdown",
   "metadata": {},
   "source": [
    "Ok, now let's use also *eles* and *elif* clauses. Imagine that you have a set of ages and you want to print one if the following labels based on the age:\n",
    "- kid\n",
    "- Teen\n",
    "- adult\n",
    "- old"
   ]
  },
  {
   "cell_type": "code",
   "execution_count": 91,
   "metadata": {},
   "outputs": [
    {
     "name": "stdout",
     "output_type": "stream",
     "text": [
      "56 - Adult\n",
      "2 - Kid\n",
      "14 - Teen\n",
      "8 - Kid\n",
      "33 - Adult\n",
      "23 - Adult\n",
      "19 - Teen\n",
      "80 - Old\n",
      "6 - Kid\n",
      "9 - Kid\n",
      "27 - Adult\n"
     ]
    }
   ],
   "source": [
    "ages = [56, 2, 14, 8, 33, 23, 19, 80, 6, 9, 27]\n",
    "\n",
    "for age in ages:\n",
    "    if age <= 12:\n",
    "        print(age, 'Kid', sep=' - ')\n",
    "    elif age <= 19 and age >= 13:\n",
    "        print(age, 'Teen', sep=' - ')\n",
    "    elif age <= 60 and age >= 20:\n",
    "        print(f'{age} - Adult') # Did you noticed anything new here?\n",
    "    else:\n",
    "        print(age, 'Old', sep=' - ')"
   ]
  },
  {
   "cell_type": "markdown",
   "metadata": {},
   "source": [
    "## Break, Continue and pass clauses"
   ]
  },
  {
   "cell_type": "markdown",
   "metadata": {},
   "source": [
    "Let's have a quick review of statements we have learned until now:\n",
    "- **For statement** : repeats a task for a given sequence\n",
    "- **While statement** : repeats a task while a given condition is True\n",
    "- **If statement** : Evaluates a condition and acts upon the result\n",
    "\n",
    "Looking at these statements it's clear that we can combine them to get a certain task done. For instance: For each item in this list check if condition 1 is True do action 1, otherwise do action 2:"
   ]
  },
  {
   "cell_type": "code",
   "execution_count": 106,
   "metadata": {},
   "outputs": [
    {
     "name": "stdout",
     "output_type": "stream",
     "text": [
      "1,000,000 : High\n",
      "5,000 : Low\n",
      "11,000 : Low\n"
     ]
    }
   ],
   "source": [
    "salaries = [1000000, 5000, 11000]\n",
    "\n",
    "for salary in salaries:\n",
    "    if salary < 120_000:\n",
    "        print(f'{salary:,} : Low')\n",
    "    elif salary > 999_000:\n",
    "        print(f'{salary:,} : High')\n",
    "    else:\n",
    "        print(f'{salary:,} : Normal')"
   ]
  },
  {
   "cell_type": "markdown",
   "metadata": {},
   "source": [
    "In the above example we used **for** and **if** together to examine each item and print a label based on the item's value. Well, It's not alway the case to go through every item of a sequence. Sometime we need to break the loop or continue to the next item without spending time with the current item. We can achive these types of action by using these clauses:\n",
    "\n",
    "- continue\n",
    "- break\n",
    "- pass"
   ]
  },
  {
   "cell_type": "markdown",
   "metadata": {},
   "source": [
    "Suppose you want to find the first number that is less than a specific number in any given list of numbers. You can create a function to do this using a for loop:"
   ]
  },
  {
   "cell_type": "code",
   "execution_count": 107,
   "metadata": {},
   "outputs": [],
   "source": [
    "def find_number(data, limit):\n",
    "    \"\"\"Finds the first number in a given list which is less than the defined threshold\n",
    "    \n",
    "    Args:\n",
    "        data : A list containing numerical values\n",
    "        limit : Threshold defined by user\n",
    "    \n",
    "    Returns:\n",
    "        The first number in the given list smaller than threshold\n",
    "    \"\"\"\n",
    "    all_good = []\n",
    "    for i in data:\n",
    "        if i < limit:\n",
    "            answer = i\n",
    "            all_good.append(i)\n",
    "    return all_good"
   ]
  },
  {
   "cell_type": "markdown",
   "metadata": {},
   "source": [
    "Ok, let's test our function:"
   ]
  },
  {
   "cell_type": "code",
   "execution_count": 108,
   "metadata": {},
   "outputs": [
    {
     "name": "stdout",
     "output_type": "stream",
     "text": [
      "[-1428, -788, -1187]\n"
     ]
    }
   ],
   "source": [
    "nums = [973, -1428, 315, -788, 1477, -428, -1187, 592, -108, 370]\n",
    "limit = -500\n",
    "\n",
    "print(find_number(nums, limit))"
   ]
  },
  {
   "cell_type": "markdown",
   "metadata": {},
   "source": [
    "Well, it kinda works...the problem is that it return the last number in the list that is less than -500 instead of the first one! (-1428)\n",
    "Of course it's not because Python couldn't find the first number (-1428) but the problem is since we simply just used a for loop, after finding -1428 Python continued to examine other items in the list...something that we shouldn't have done. There are cases like this that we want to stop(break) the loop as soon as a certain condition is satisfied. We can write our function like this:\n"
   ]
  },
  {
   "cell_type": "code",
   "execution_count": 22,
   "metadata": {},
   "outputs": [
    {
     "name": "stdout",
     "output_type": "stream",
     "text": [
      "-1428\n"
     ]
    }
   ],
   "source": [
    "def find_number(data, limit):\n",
    "    \"\"\"Finds the first number in a given list which is less than the defined threshold\n",
    "    \n",
    "    Args:\n",
    "        data : A list containing numerical values\n",
    "        limit : Threshold defined by user\n",
    "    \n",
    "    Returns:\n",
    "        The first number in the given list smaller than threshold\n",
    "    \"\"\"\n",
    "    for i in data:\n",
    "        if i < limit:\n",
    "            answer = i\n",
    "            break\n",
    "    return answer\n",
    "\n",
    "print(find_number(nums, limit))"
   ]
  },
  {
   "cell_type": "markdown",
   "metadata": {},
   "source": [
    "And as you can see this time we get the right answer. In this simple case we could have achieve this also without using break and just by putting  return clause in a different place:"
   ]
  },
  {
   "cell_type": "code",
   "execution_count": 23,
   "metadata": {},
   "outputs": [
    {
     "name": "stdout",
     "output_type": "stream",
     "text": [
      "-1428\n"
     ]
    }
   ],
   "source": [
    "def find_number(data, limit):\n",
    "    \"\"\"Finds the first number in a given list which is less than the defined threshold\n",
    "    \n",
    "    Args:\n",
    "        data : A list containing numerical values\n",
    "        limit : Threshold defined by user\n",
    "    \n",
    "    Returns:\n",
    "        The first number in the given list smaller than threshold\n",
    "    \"\"\"\n",
    "    for i in data:\n",
    "        if i < limit:\n",
    "            answer = i\n",
    "            return answer\n",
    "\n",
    "print(find_number(nums, limit))"
   ]
  },
  {
   "cell_type": "markdown",
   "metadata": {},
   "source": [
    "The reason that the function above give us the answer even without using break is that when Python reaches a **return** in a function, it exits immediately before continuing with the rest of code.\n",
    "Let's do another example: Suppose you received 4 orders for a can of beer from 4 of your customers. In order to know if you can proceed with the order or not, you need to check 3 things: client having at least 18 years old, having at least 2 Euros in his bank card and be in a 3 kilometer radius from your shop. As you can see in the following cell, we can use continue clause after age check. In this way if the client has less than 18 years old, it's useless to check for the other conditions:"
   ]
  },
  {
   "cell_type": "code",
   "execution_count": 27,
   "metadata": {},
   "outputs": [
    {
     "name": "stdout",
     "output_type": "stream",
     "text": [
      "Ettore can have a beer!\n"
     ]
    }
   ],
   "source": [
    "clients = {'2341': {'age': 15, 'name': 'Ale', 'balance': 658, 'distance': 11},\n",
    "           '5682': {'age': 61, 'name': 'Ettore', 'balance': 890, 'distance': 1},\n",
    "           '1873': {'age': 19, 'name': 'Tacca', 'balance': 121, 'distance': 5},\n",
    "           '9950': {'age': 31, 'name': 'Navid', 'balance': 0, 'distance': 12}}\n",
    "\n",
    "codes = list(clients.keys())\n",
    "\n",
    "for code in codes:\n",
    "    if clients[code]['age'] < 18:\n",
    "        continue\n",
    "    if clients[code]['balance'] >= 2 and clients[code]['distance'] < 3:\n",
    "        print(f\"{clients[code]['name']} can have a beer!\")"
   ]
  },
  {
   "cell_type": "markdown",
   "metadata": {},
   "source": [
    "Now imagine that the shop manager tells you that he is thinking to do something for the clients that have all the conditions (age and credit) but are living in more distant neighbourhoods. The problem is that it's Fridays evening, you want to go home as soon as possible but he can't make his mind about how exactly he's going to handle the delivery situation. So you know you need to modify your function to reflect the new situation but you still don't know what would be the solution. So you can use a pass clause as a placeholder in your function:"
   ]
  },
  {
   "cell_type": "code",
   "execution_count": 29,
   "metadata": {},
   "outputs": [
    {
     "name": "stdout",
     "output_type": "stream",
     "text": [
      "Ettore can have a beer!\n"
     ]
    }
   ],
   "source": [
    "clients = {'2341': {'age': 15, 'name': 'Ale', 'balance': 658, 'distance': 11},\n",
    "           '5682': {'age': 61, 'name': 'Ettore', 'balance': 890, 'distance': 1},\n",
    "           '1873': {'age': 19, 'name': 'Tacca', 'balance': 121, 'distance': 5},\n",
    "           '9950': {'age': 31, 'name': 'Navid', 'balance': 0, 'distance': 12}}\n",
    "\n",
    "codes = list(clients.keys())\n",
    "\n",
    "for code in codes:\n",
    "    if clients[code]['age'] < 18:\n",
    "        continue\n",
    "    if clients[code]['balance'] >= 2:\n",
    "        if  clients[code]['distance'] < 3:\n",
    "            print(f\"{clients[code]['name']} can have a beer!\")\n",
    "        else:\n",
    "            pass"
   ]
  },
  {
   "cell_type": "markdown",
   "metadata": {},
   "source": [
    "<img src=\"Images/baby.svg\"   width=\"30\" align=\"left\" >               "
   ]
  },
  {
   "cell_type": "markdown",
   "metadata": {},
   "source": [
    "**YOUR TURN:**\n",
    "    \n",
    "Why the codes below are not the same?"
   ]
  },
  {
   "cell_type": "code",
   "execution_count": null,
   "metadata": {},
   "outputs": [],
   "source": [
    "vals = '43 65 342 78 89 4 32 54 687 23 675 87 43 675 -546 54 432 786 76 123 4 324'.split()"
   ]
  },
  {
   "cell_type": "code",
   "execution_count": null,
   "metadata": {},
   "outputs": [],
   "source": [
    "for val in vals:\n",
    "    if int(val) < 0:\n",
    "        break\n",
    "    print(val, end=' ')"
   ]
  },
  {
   "cell_type": "code",
   "execution_count": null,
   "metadata": {},
   "outputs": [],
   "source": [
    "for val in vals:\n",
    "    if int(val) > 0:\n",
    "        print(val, end=' ')"
   ]
  },
  {
   "cell_type": "markdown",
   "metadata": {},
   "source": [
    " "
   ]
  },
  {
   "cell_type": "markdown",
   "metadata": {},
   "source": [
    "<img src=\"Images/wizard.svg\"   width=\"30\" align=\"left\">               "
   ]
  },
  {
   "cell_type": "markdown",
   "metadata": {},
   "source": [
    "**YOUR TURN**: Use **break** to write a function that calculates the sum of the first n items of the given number list."
   ]
  },
  {
   "cell_type": "code",
   "execution_count": 69,
   "metadata": {},
   "outputs": [],
   "source": [
    "def sum_n(data, n):\n",
    "    num = 1\n",
    "    summ = 0\n",
    "    for i in data:\n",
    "        if num > n:\n",
    "            break\n",
    "        summ += i\n",
    "        num += 1\n",
    "    return summ"
   ]
  },
  {
   "cell_type": "code",
   "execution_count": null,
   "metadata": {},
   "outputs": [],
   "source": [
    "(\\   .-.   .-.   .-.   .-.   .-.   .-.   .-.   .-.   /_\")\n",
    " \\\\_//^\\\\_//^\\\\_//^\\\\_//^\\\\_//^\\\\_//^\\\\_//^\\\\_//^\\\\_//\n",
    "  `\"`   `\"`   `\"`   `\"`   `\"`   `\"`   `\"`   `\"`   `\"`"
   ]
  },
  {
   "cell_type": "markdown",
   "metadata": {},
   "source": [
    "## Comparisons operators"
   ]
  },
  {
   "cell_type": "markdown",
   "metadata": {},
   "source": [
    "Comparison operators are not technically considered as a part of \"Control flow\" but since their usage with mentioned statements, I put them here. As the name suggest these operators **compare** two object and return either *True* or *False*. Let's see some examples:"
   ]
  },
  {
   "cell_type": "code",
   "execution_count": 4,
   "metadata": {},
   "outputs": [
    {
     "name": "stdout",
     "output_type": "stream",
     "text": [
      "False\n",
      "True\n",
      "True\n",
      "False\n",
      "True\n",
      "False\n"
     ]
    }
   ],
   "source": [
    "a = 15.6\n",
    "b = 79\n",
    "print(a == b)\n",
    "print(a != b)\n",
    "print(a < b)\n",
    "print(a > b)\n",
    "print(a <= b)\n",
    "print(a >= b)"
   ]
  },
  {
   "cell_type": "markdown",
   "metadata": {},
   "source": [
    "# Importing libraries"
   ]
  },
  {
   "cell_type": "markdown",
   "metadata": {},
   "source": [
    "reading csv files, we used :"
   ]
  },
  {
   "cell_type": "code",
   "execution_count": 8,
   "metadata": {},
   "outputs": [],
   "source": [
    "import csv\n",
    "import pandas as pd"
   ]
  },
  {
   "cell_type": "markdown",
   "metadata": {},
   "source": [
    "The reason we did this is because like lots of other functionalities, reading csv files doesn't exist as a built-in function in Python language. Instead there are various libraries that has modules that are capable of performing those certain functions. To use these modules you need to import them in your code. This is exactly we've done in the csv section. \n",
    "\n",
    "The following figure shows the simplified structure of Python's modules:\n",
    "\n",
    "<img src=\"Images/module.png\" width=\"800\">"
   ]
  },
  {
   "cell_type": "markdown",
   "metadata": {},
   "source": [
    "There are different ways to import a package or a specific module of it:"
   ]
  },
  {
   "cell_type": "markdown",
   "metadata": {},
   "source": [
    "Importing a library as a whole. For example the following code imports **re** package (regex) but not any module inside it specifically. It means for example if I want to use one of its functions, let's say **sub** function, I need to use **re.** before function name:"
   ]
  },
  {
   "cell_type": "code",
   "execution_count": 103,
   "metadata": {},
   "outputs": [
    {
     "data": {
      "text/plain": [
       "'HeyWait'"
      ]
     },
     "execution_count": 103,
     "metadata": {},
     "output_type": "execute_result"
    }
   ],
   "source": [
    "import re\n",
    "re.sub('\\W', '', 'Hey..,Wait!')"
   ]
  },
  {
   "cell_type": "markdown",
   "metadata": {},
   "source": [
    "It's possible to import modules as an alias. We usually do this when either dealing with not son short library names or there is a convention to do so:"
   ]
  },
  {
   "cell_type": "code",
   "execution_count": 108,
   "metadata": {},
   "outputs": [],
   "source": [
    "import statsmodels as sm\n",
    "import numpy as np"
   ]
  },
  {
   "cell_type": "markdown",
   "metadata": {},
   "source": [
    "Another possibility is to just import the module we need , instead of importing the whole library:"
   ]
  },
  {
   "cell_type": "code",
   "execution_count": 105,
   "metadata": {},
   "outputs": [],
   "source": [
    "from pandas import Timestamp"
   ]
  },
  {
   "cell_type": "markdown",
   "metadata": {},
   "source": [
    "In some rare cases we may want to import every function/module/class from a library:"
   ]
  },
  {
   "cell_type": "code",
   "execution_count": null,
   "metadata": {},
   "outputs": [],
   "source": [
    "from pprint import *"
   ]
  },
  {
   "cell_type": "markdown",
   "metadata": {},
   "source": [
    "## Installing libraries"
   ]
  },
  {
   "cell_type": "markdown",
   "metadata": {},
   "source": [
    "There are 4 main ways to install a package in python:\n",
    "\n",
    "- **conda**\n",
    "\n",
    "conda is the package manager which is a part of Anaconda distribution (not the official Python). Respect to the native Python package managers, it manages the dependencies between different libraries is a better way. It's shortcoming is that it usually doesn't include lesser known/recent packages.\n",
    "\n",
    "Installing a package using conda in terminal:  \n",
    "\n",
    "        conda install package_name\n",
    "\n",
    "Installing a package using conda in Jupyter notebook:    \n",
    "\n",
    "        !conda install package_name\n",
    "\n",
    "\n",
    "- **pip**\n",
    "\n",
    "pip is the newest (introduced in 2008) official package manager.\n",
    "\n",
    "Installing a package using pip in terminal:     \n",
    "\n",
    "        pip install package_name\n",
    "\n",
    "Installing a package using pip in Jupyter notebook:     \n",
    "\n",
    "        !pip install package_name\n",
    "\n",
    "- **easy_install**\n",
    "\n",
    "easy_install is the father of pip (born in 2004) and somehow is inferior respect to the pip. (see their difference [here](https://packaging.python.org/discussions/pip-vs-easy-install/))\n",
    "\n",
    "Installing a package using easy_install in terminal:   \n",
    "\n",
    "        easy_install package_name\n",
    "\n",
    "Installing a package using pip in Jupyter notebook:     \n",
    "\n",
    "        !easy_install package_name\n",
    "\n",
    "- **installation from source code**\n",
    "\n",
    "I don't recommend using it but if for some reasons you want to use this method, you can find a step by step guide [here](https://kb.iu.edu/d/acey)."
   ]
  },
  {
   "cell_type": "markdown",
   "metadata": {},
   "source": [
    "# Understanding errors"
   ]
  },
  {
   "cell_type": "markdown",
   "metadata": {},
   "source": [
    "Regardless of your experience with Python, either you're seeing Python for the first time or you have years of coding experience, you should deal with errors, almost every time you write something! Some errors occur because due to simple reasons like writing *primt(...)* instead of *print(...)* and some are more complicated both to resolve  and to find their origin. There are way to many error types in Python for us to cover in this course but you'll find a well-written summary of important errors [here](https://www.tutorialsteacher.com/python/error-types-in-python) .\n",
    "Instead of going to each and every error and explain it, I try to show you the general process of dealing with them.\n",
    "Take a look at the following code:"
   ]
  },
  {
   "cell_type": "code",
   "execution_count": 112,
   "metadata": {},
   "outputs": [
    {
     "ename": "AttributeError",
     "evalue": "'dict' object has no attribute 'append'",
     "output_type": "error",
     "traceback": [
      "\u001b[0;31m---------------------------------------------------------------------------\u001b[0m",
      "\u001b[0;31mAttributeError\u001b[0m                            Traceback (most recent call last)",
      "\u001b[0;32m<ipython-input-112-7f1f7228c0e5>\u001b[0m in \u001b[0;36m<module>\u001b[0;34m\u001b[0m\n\u001b[1;32m      3\u001b[0m \u001b[0;34m\u001b[0m\u001b[0m\n\u001b[1;32m      4\u001b[0m \u001b[0;32mfor\u001b[0m \u001b[0mitem\u001b[0m \u001b[0;32min\u001b[0m \u001b[0mmy_list\u001b[0m\u001b[0;34m:\u001b[0m\u001b[0;34m\u001b[0m\u001b[0;34m\u001b[0m\u001b[0m\n\u001b[0;32m----> 5\u001b[0;31m     \u001b[0mmy_dict\u001b[0m\u001b[0;34m.\u001b[0m\u001b[0mappend\u001b[0m\u001b[0;34m(\u001b[0m\u001b[0mmy_dict\u001b[0m\u001b[0;34m)\u001b[0m\u001b[0;34m\u001b[0m\u001b[0;34m\u001b[0m\u001b[0m\n\u001b[0m",
      "\u001b[0;31mAttributeError\u001b[0m: 'dict' object has no attribute 'append'"
     ]
    }
   ],
   "source": [
    "my_dict = {'A':1, 'B': 2}\n",
    "my_list = ['C', 'D']\n",
    "\n",
    "for item in my_list:\n",
    "    my_dict.append(my_dict)"
   ]
  },
  {
   "cell_type": "markdown",
   "metadata": {},
   "source": [
    "**Error Translation into natural language**\n",
    "\n",
    ">I started from the line 1 in the main **module**, I went down until line 4 without any problem. In the line 5 I saw an error of type **AttributeError**. I see this type of error because in the line 5 you tried to use **append** method on a **dictionary** which is not correct."
   ]
  },
  {
   "cell_type": "markdown",
   "metadata": {},
   "source": [
    "Now let's take a look at another example which is a bit complex respect to the previous one:"
   ]
  },
  {
   "cell_type": "code",
   "execution_count": 66,
   "metadata": {},
   "outputs": [
    {
     "ename": "TypeError",
     "evalue": "can only concatenate str (not \"int\") to str",
     "output_type": "error",
     "traceback": [
      "\u001b[0;31m---------------------------------------------------------------------------\u001b[0m",
      "\u001b[0;31mTypeError\u001b[0m                                 Traceback (most recent call last)",
      "\u001b[0;32m<ipython-input-66-aa7b0ab4d49e>\u001b[0m in \u001b[0;36m<module>\u001b[0;34m\u001b[0m\n\u001b[1;32m     10\u001b[0m     \u001b[0;32mreturn\u001b[0m \u001b[0ma\u001b[0m \u001b[0;34m+\u001b[0m \u001b[0mb\u001b[0m\u001b[0;34m\u001b[0m\u001b[0;34m\u001b[0m\u001b[0m\n\u001b[1;32m     11\u001b[0m \u001b[0;34m\u001b[0m\u001b[0m\n\u001b[0;32m---> 12\u001b[0;31m \u001b[0mprint\u001b[0m\u001b[0;34m(\u001b[0m\u001b[0madd_them\u001b[0m\u001b[0;34m(\u001b[0m\u001b[0;34m'1'\u001b[0m\u001b[0;34m,\u001b[0m \u001b[0;36m2\u001b[0m\u001b[0;34m)\u001b[0m\u001b[0;34m)\u001b[0m\u001b[0;34m\u001b[0m\u001b[0;34m\u001b[0m\u001b[0m\n\u001b[0m",
      "\u001b[0;32m<ipython-input-66-aa7b0ab4d49e>\u001b[0m in \u001b[0;36madd_them\u001b[0;34m(a, b)\u001b[0m\n\u001b[1;32m      8\u001b[0m         \u001b[0ma\u001b[0m \u001b[0mnumber\u001b[0m\u001b[0;34m,\u001b[0m \u001b[0msum\u001b[0m \u001b[0mof\u001b[0m \u001b[0mthe\u001b[0m \u001b[0minputs\u001b[0m\u001b[0;34m\u001b[0m\u001b[0;34m\u001b[0m\u001b[0m\n\u001b[1;32m      9\u001b[0m     \"\"\"\n\u001b[0;32m---> 10\u001b[0;31m     \u001b[0;32mreturn\u001b[0m \u001b[0ma\u001b[0m \u001b[0;34m+\u001b[0m \u001b[0mb\u001b[0m\u001b[0;34m\u001b[0m\u001b[0;34m\u001b[0m\u001b[0m\n\u001b[0m\u001b[1;32m     11\u001b[0m \u001b[0;34m\u001b[0m\u001b[0m\n\u001b[1;32m     12\u001b[0m \u001b[0mprint\u001b[0m\u001b[0;34m(\u001b[0m\u001b[0madd_them\u001b[0m\u001b[0;34m(\u001b[0m\u001b[0;34m'1'\u001b[0m\u001b[0;34m,\u001b[0m \u001b[0;36m2\u001b[0m\u001b[0;34m)\u001b[0m\u001b[0;34m)\u001b[0m\u001b[0;34m\u001b[0m\u001b[0;34m\u001b[0m\u001b[0m\n",
      "\u001b[0;31mTypeError\u001b[0m: can only concatenate str (not \"int\") to str"
     ]
    }
   ],
   "source": [
    "def add_them(a, b):\n",
    "    \"\"\"Add to input numbers\n",
    "    args:\n",
    "        a : first number\n",
    "        b : second number\n",
    "        \n",
    "    returns:\n",
    "        a number, sum of the inputs\n",
    "    \"\"\"\n",
    "    return a + b\n",
    "\n",
    "print(add_them('1', 2))"
   ]
  },
  {
   "cell_type": "markdown",
   "metadata": {},
   "source": [
    "**Error Translation into natural language**\n",
    "\n",
    ">I started from the line 1, I went down until line 11 without any problem. In the line 12 I saw something that wasn't correct. I tried to find the reason. I found out that the error comes from a function called **add_them**. I put your inputs in this function and went forward. when I reach to line 10 I saw an error of type **TypeError**.I see this type of error because using your input data in the line 10 you tried to concatenate a **str** to a **int** which is impossible."
   ]
  },
  {
   "cell_type": "markdown",
   "metadata": {},
   "source": [
    " "
   ]
  },
  {
   "cell_type": "markdown",
   "metadata": {},
   "source": [
    "**GENERAL TIPS**:\n",
    "\n",
    "It's possible that ...\n",
    "\n",
    "- Resolving an error, you get another error! always pay attention to the details of error.\n",
    "- Even by using all the info coming from the error message we won't be able to resolve the problem. In this case you can try to search for the error message online. For sure someone else before you has arrived to the same problem and asked it online! The best source for getting help is [stackoverflow](https://stackoverflow.com) site. "
   ]
  },
  {
   "cell_type": "markdown",
   "metadata": {},
   "source": [
    "  "
   ]
  },
  {
   "cell_type": "markdown",
   "metadata": {},
   "source": [
    "<img src=\"Images/student.svg\"   width=\"30\" align=\"left\">               "
   ]
  },
  {
   "cell_type": "markdown",
   "metadata": {},
   "source": [
    "**YOUR TURN**:\n",
    "\n",
    "Run the following line of codes and try to locate and resolve the problem:"
   ]
  },
  {
   "cell_type": "code",
   "execution_count": 120,
   "metadata": {},
   "outputs": [
    {
     "ename": "ValueError",
     "evalue": "not enough values to unpack (expected 4, got 3)",
     "output_type": "error",
     "traceback": [
      "\u001b[0;31m---------------------------------------------------------------------------\u001b[0m",
      "\u001b[0;31mValueError\u001b[0m                                Traceback (most recent call last)",
      "\u001b[0;32m<ipython-input-120-bf9134cb29f7>\u001b[0m in \u001b[0;36m<module>\u001b[0;34m\u001b[0m\n\u001b[0;32m----> 1\u001b[0;31m \u001b[0ma\u001b[0m\u001b[0;34m,\u001b[0m \u001b[0mb\u001b[0m\u001b[0;34m,\u001b[0m \u001b[0mc\u001b[0m\u001b[0;34m,\u001b[0m \u001b[0md\u001b[0m \u001b[0;34m=\u001b[0m \u001b[0mlist\u001b[0m\u001b[0;34m(\u001b[0m\u001b[0mrange\u001b[0m\u001b[0;34m(\u001b[0m\u001b[0;36m87\u001b[0m\u001b[0;34m,\u001b[0m \u001b[0;36m110\u001b[0m\u001b[0;34m,\u001b[0m \u001b[0;36m10\u001b[0m\u001b[0;34m)\u001b[0m\u001b[0;34m)\u001b[0m\u001b[0;34m\u001b[0m\u001b[0;34m\u001b[0m\u001b[0m\n\u001b[0m",
      "\u001b[0;31mValueError\u001b[0m: not enough values to unpack (expected 4, got 3)"
     ]
    }
   ],
   "source": [
    "a, b, c, d = list(range(87, 110, 10))"
   ]
  },
  {
   "cell_type": "code",
   "execution_count": null,
   "metadata": {},
   "outputs": [],
   "source": [
    "(\\   .-.   .-.   .-.   .-.   .-.   .-.   .-.   .-.   /_\")\n",
    " \\\\_//^\\\\_//^\\\\_//^\\\\_//^\\\\_//^\\\\_//^\\\\_//^\\\\_//^\\\\_//\n",
    "  `\"`   `\"`   `\"`   `\"`   `\"`   `\"`   `\"`   `\"`   `\"`"
   ]
  },
  {
   "cell_type": "markdown",
   "metadata": {},
   "source": [
    " "
   ]
  },
  {
   "cell_type": "markdown",
   "metadata": {},
   "source": [
    "<img src=\"Images/wizard.svg\"   width=\"30\" align=\"left\">               "
   ]
  },
  {
   "cell_type": "markdown",
   "metadata": {},
   "source": [
    "**YOUR TURN**:\n",
    "\n",
    "Run the following lines of codes and try to locate and resolve the problem:"
   ]
  },
  {
   "cell_type": "code",
   "execution_count": null,
   "metadata": {},
   "outputs": [],
   "source": [
    "city_1 = {'country': 'Italy', 'city': 'como', 'population': 84_876}\n",
    "city_2 = {'country': 'Germany', 'city': 'berlin', 'population': 3_575_000}\n",
    "\n",
    "data = []\n",
    "data['IC'] = city_1\n",
    "data['GB'] = city_2\n",
    "\n",
    "ids = data.keys()\n",
    "countries = []\n",
    "cities = []\n",
    "populations = []\n",
    "for idd in ids:\n",
    "    temp = data[idd]\n",
    "    countries.add(temp['country'])\n",
    "    cities.append(temp['city'])\n",
    "\n",
    "print(f'There are {len(countries)} countries:')\n",
    "for num, country in enumerate(countries, start=1):\n",
    "    print(num, country.title(), sep=' - ')\n",
    "\n",
    "print(f'\\nand {len(cities)} cities:')\n",
    "for city in enumerate(cities, start=1):\n",
    "    print(num, city.title(), sep=' - ')\n",
    "\n",
    "print()\n",
    "for id in ids:\n",
    "    temp = data[idd]\n",
    "    print(f\"{temp['city'].title()} is in {temp['country'].title()} and has a population of {temp['population']:,}.\")"
   ]
  },
  {
   "cell_type": "code",
   "execution_count": null,
   "metadata": {},
   "outputs": [],
   "source": [
    "(\\   .-.   .-.   .-.   .-.   .-.   .-.   .-.   .-.   /_\")\n",
    " \\\\_//^\\\\_//^\\\\_//^\\\\_//^\\\\_//^\\\\_//^\\\\_//^\\\\_//^\\\\_//\n",
    "  `\"`   `\"`   `\"`   `\"`   `\"`   `\"`   `\"`   `\"`   `\"`"
   ]
  },
  {
   "cell_type": "markdown",
   "metadata": {},
   "source": [
    "## Error Handling"
   ]
  },
  {
   "cell_type": "markdown",
   "metadata": {},
   "source": [
    "In section 8 and 12 we've seen some examples of Syntax and Exception errors and we also saw how can we *Translate* error messages into *human language*. In this part we will have deeper look on errors and how can we __handle__ them.\n",
    "\n",
    "First, let's have a recap of different types of errors:"
   ]
  },
  {
   "cell_type": "markdown",
   "metadata": {},
   "source": [
    "__Syntax Error__"
   ]
  },
  {
   "cell_type": "code",
   "execution_count": 168,
   "metadata": {},
   "outputs": [
    {
     "ename": "SyntaxError",
     "evalue": "invalid syntax (<ipython-input-168-ad95df0c582c>, line 1)",
     "output_type": "error",
     "traceback": [
      "\u001b[0;36m  File \u001b[0;32m\"<ipython-input-168-ad95df0c582c>\"\u001b[0;36m, line \u001b[0;32m1\u001b[0m\n\u001b[0;31m    my_string = 'It's 6 AM and I'm already working!'\u001b[0m\n\u001b[0m                    ^\u001b[0m\n\u001b[0;31mSyntaxError\u001b[0m\u001b[0;31m:\u001b[0m invalid syntax\n"
     ]
    }
   ],
   "source": [
    "my_string = 'It's 6 AM and I'm already working!'\n",
    "print(my_string)"
   ]
  },
  {
   "cell_type": "markdown",
   "metadata": {},
   "source": [
    "__Exception Error__"
   ]
  },
  {
   "cell_type": "code",
   "execution_count": 169,
   "metadata": {},
   "outputs": [
    {
     "ename": "TypeError",
     "evalue": "'int' object is not subscriptable",
     "output_type": "error",
     "traceback": [
      "\u001b[0;31m---------------------------------------------------------------------------\u001b[0m",
      "\u001b[0;31mTypeError\u001b[0m                                 Traceback (most recent call last)",
      "\u001b[0;32m<ipython-input-169-4995238c8576>\u001b[0m in \u001b[0;36m<module>\u001b[0;34m\u001b[0m\n\u001b[0;32m----> 1\u001b[0;31m \u001b[0msome_list\u001b[0m \u001b[0;34m=\u001b[0m \u001b[0;34m[\u001b[0m\u001b[0mx\u001b[0m\u001b[0;34m[\u001b[0m\u001b[0;36m0\u001b[0m\u001b[0;34m]\u001b[0m \u001b[0;32mfor\u001b[0m \u001b[0mx\u001b[0m \u001b[0;32min\u001b[0m \u001b[0;34m[\u001b[0m\u001b[0;36m55\u001b[0m\u001b[0;34m,\u001b[0m \u001b[0;34m'foo'\u001b[0m\u001b[0;34m,\u001b[0m \u001b[0;34m'bar'\u001b[0m\u001b[0;34m,\u001b[0m \u001b[0;36m42\u001b[0m\u001b[0;34m]\u001b[0m\u001b[0;34m]\u001b[0m\u001b[0;34m\u001b[0m\u001b[0;34m\u001b[0m\u001b[0m\n\u001b[0m\u001b[1;32m      2\u001b[0m \u001b[0mprint\u001b[0m\u001b[0;34m(\u001b[0m\u001b[0msome_list\u001b[0m\u001b[0;34m)\u001b[0m\u001b[0;34m\u001b[0m\u001b[0;34m\u001b[0m\u001b[0m\n",
      "\u001b[0;32m<ipython-input-169-4995238c8576>\u001b[0m in \u001b[0;36m<listcomp>\u001b[0;34m(.0)\u001b[0m\n\u001b[0;32m----> 1\u001b[0;31m \u001b[0msome_list\u001b[0m \u001b[0;34m=\u001b[0m \u001b[0;34m[\u001b[0m\u001b[0mx\u001b[0m\u001b[0;34m[\u001b[0m\u001b[0;36m0\u001b[0m\u001b[0;34m]\u001b[0m \u001b[0;32mfor\u001b[0m \u001b[0mx\u001b[0m \u001b[0;32min\u001b[0m \u001b[0;34m[\u001b[0m\u001b[0;36m55\u001b[0m\u001b[0;34m,\u001b[0m \u001b[0;34m'foo'\u001b[0m\u001b[0;34m,\u001b[0m \u001b[0;34m'bar'\u001b[0m\u001b[0;34m,\u001b[0m \u001b[0;36m42\u001b[0m\u001b[0;34m]\u001b[0m\u001b[0;34m]\u001b[0m\u001b[0;34m\u001b[0m\u001b[0;34m\u001b[0m\u001b[0m\n\u001b[0m\u001b[1;32m      2\u001b[0m \u001b[0mprint\u001b[0m\u001b[0;34m(\u001b[0m\u001b[0msome_list\u001b[0m\u001b[0;34m)\u001b[0m\u001b[0;34m\u001b[0m\u001b[0;34m\u001b[0m\u001b[0m\n",
      "\u001b[0;31mTypeError\u001b[0m: 'int' object is not subscriptable"
     ]
    }
   ],
   "source": [
    "some_list = [x[0] for x in [55, 'foo', 'bar', 42]]\n",
    "print(some_list)"
   ]
  },
  {
   "cell_type": "markdown",
   "metadata": {},
   "source": [
    "<img src=\"Images/student.svg\"   width=\"30\" align=\"left\">               "
   ]
  },
  {
   "cell_type": "markdown",
   "metadata": {},
   "source": [
    "**YOUR TURN:**\n",
    "    \n",
    "Re-write the above code blocks in a correct way --> the result should be ['5', 'f', 'b', '4']"
   ]
  },
  {
   "cell_type": "code",
   "execution_count": 170,
   "metadata": {},
   "outputs": [
    {
     "name": "stdout",
     "output_type": "stream",
     "text": [
      "It's 6 AM and I'm already working!\n",
      "['5', 'f', 'b', '4']\n"
     ]
    }
   ],
   "source": [
    "my_string = \"It's 6 AM and I'm already working!\"\n",
    "print(my_string)\n",
    "some_list = [str(x)[0] for x in [55, 'foo', 'bar', 42]]\n",
    "print(some_list)"
   ]
  },
  {
   "cell_type": "markdown",
   "metadata": {},
   "source": [
    "### Raising your own Exceptions"
   ]
  },
  {
   "cell_type": "markdown",
   "metadata": {},
   "source": [
    "We saw how Python uses __Exceptions__ to show you are doing something wrong. In the same way you can __raise__ your own exceptions to warn users and stop the code."
   ]
  },
  {
   "cell_type": "markdown",
   "metadata": {},
   "source": [
    "Let's make a function which gets a string as ___\"name surname\"__ and prints out __\"Your name is name and your surname is surname\"__"
   ]
  },
  {
   "cell_type": "code",
   "execution_count": 171,
   "metadata": {},
   "outputs": [],
   "source": [
    "def simple_fun(text):\n",
    "    \"\"\"\n",
    "    gets a string of name and surname separeted by space and prints them in a template\n",
    "    \"\"\"\n",
    "    \n",
    "    # splitting the string by space\n",
    "    name, surname = text.split(' ',1)\n",
    "    print(f'Your name is {name} and your surname is {surname}')"
   ]
  },
  {
   "cell_type": "code",
   "execution_count": 172,
   "metadata": {},
   "outputs": [
    {
     "name": "stdout",
     "output_type": "stream",
     "text": [
      "Your name is Mimmo and your surname is Paladino\n"
     ]
    }
   ],
   "source": [
    "simple_fun('Mimmo Paladino')"
   ]
  },
  {
   "cell_type": "markdown",
   "metadata": {},
   "source": [
    "But what happens if someone gives just her name or surname instead?"
   ]
  },
  {
   "cell_type": "code",
   "execution_count": 173,
   "metadata": {},
   "outputs": [
    {
     "ename": "ValueError",
     "evalue": "not enough values to unpack (expected 2, got 1)",
     "output_type": "error",
     "traceback": [
      "\u001b[0;31m---------------------------------------------------------------------------\u001b[0m",
      "\u001b[0;31mValueError\u001b[0m                                Traceback (most recent call last)",
      "\u001b[0;32m<ipython-input-173-f1e3ca517902>\u001b[0m in \u001b[0;36m<module>\u001b[0;34m\u001b[0m\n\u001b[0;32m----> 1\u001b[0;31m \u001b[0msimple_fun\u001b[0m\u001b[0;34m(\u001b[0m\u001b[0;34m'Oliver'\u001b[0m\u001b[0;34m)\u001b[0m\u001b[0;34m\u001b[0m\u001b[0;34m\u001b[0m\u001b[0m\n\u001b[0m",
      "\u001b[0;32m<ipython-input-171-be46b3e3334f>\u001b[0m in \u001b[0;36msimple_fun\u001b[0;34m(text)\u001b[0m\n\u001b[1;32m      3\u001b[0m \u001b[0;34m\u001b[0m\u001b[0m\n\u001b[1;32m      4\u001b[0m     \u001b[0;31m# splitting the string by space\u001b[0m\u001b[0;34m\u001b[0m\u001b[0;34m\u001b[0m\u001b[0;34m\u001b[0m\u001b[0m\n\u001b[0;32m----> 5\u001b[0;31m     \u001b[0mname\u001b[0m\u001b[0;34m,\u001b[0m \u001b[0msurname\u001b[0m \u001b[0;34m=\u001b[0m \u001b[0mtext\u001b[0m\u001b[0;34m.\u001b[0m\u001b[0msplit\u001b[0m\u001b[0;34m(\u001b[0m\u001b[0;34m' '\u001b[0m\u001b[0;34m,\u001b[0m\u001b[0;36m1\u001b[0m\u001b[0;34m)\u001b[0m\u001b[0;34m\u001b[0m\u001b[0;34m\u001b[0m\u001b[0m\n\u001b[0m\u001b[1;32m      6\u001b[0m     \u001b[0mprint\u001b[0m\u001b[0;34m(\u001b[0m\u001b[0;34mf'Your name is {name} and your surname is {surname}'\u001b[0m\u001b[0;34m)\u001b[0m\u001b[0;34m\u001b[0m\u001b[0;34m\u001b[0m\u001b[0m\n",
      "\u001b[0;31mValueError\u001b[0m: not enough values to unpack (expected 2, got 1)"
     ]
    }
   ],
   "source": [
    "simple_fun('Oliver')"
   ]
  },
  {
   "cell_type": "markdown",
   "metadata": {},
   "source": [
    "The error we get is a __ValueError__ and is indicating that we passed just one input while Python was expecting 2.\n",
    "While it may seems easy to understand, for a someone who doesn't know python (or simply is not familiar with your code) may not be so simple to understand what causes the error. We can solve this problem by raising a custom Exception in our function."
   ]
  },
  {
   "cell_type": "code",
   "execution_count": 174,
   "metadata": {},
   "outputs": [],
   "source": [
    "def simple_fun(text):\n",
    "    \"\"\"gets a string of name and surname separeted by space and prints them in a template\"\"\"\n",
    "    \n",
    "    if ' ' not in text :\n",
    "        raise Exception(\"It seems you just entered your name or surname. I need something like this : 'Rickey Gervais'\")\n",
    "    \n",
    "    # splitting the string by space\n",
    "    name, surname = text.split(' ', 1)\n",
    "    print(f'Your name is {name} and your surname is {surname}')"
   ]
  },
  {
   "cell_type": "markdown",
   "metadata": {},
   "source": [
    "Let's check to see if it works"
   ]
  },
  {
   "cell_type": "code",
   "execution_count": 175,
   "metadata": {},
   "outputs": [
    {
     "ename": "Exception",
     "evalue": "It seems you just entered your name or surname. I need something like this : 'Rickey Gervais'",
     "output_type": "error",
     "traceback": [
      "\u001b[0;31m---------------------------------------------------------------------------\u001b[0m",
      "\u001b[0;31mException\u001b[0m                                 Traceback (most recent call last)",
      "\u001b[0;32m<ipython-input-175-f1e3ca517902>\u001b[0m in \u001b[0;36m<module>\u001b[0;34m\u001b[0m\n\u001b[0;32m----> 1\u001b[0;31m \u001b[0msimple_fun\u001b[0m\u001b[0;34m(\u001b[0m\u001b[0;34m'Oliver'\u001b[0m\u001b[0;34m)\u001b[0m\u001b[0;34m\u001b[0m\u001b[0;34m\u001b[0m\u001b[0m\n\u001b[0m",
      "\u001b[0;32m<ipython-input-174-118dee9db527>\u001b[0m in \u001b[0;36msimple_fun\u001b[0;34m(text)\u001b[0m\n\u001b[1;32m      3\u001b[0m \u001b[0;34m\u001b[0m\u001b[0m\n\u001b[1;32m      4\u001b[0m     \u001b[0;32mif\u001b[0m \u001b[0;34m' '\u001b[0m \u001b[0;32mnot\u001b[0m \u001b[0;32min\u001b[0m \u001b[0mtext\u001b[0m \u001b[0;34m:\u001b[0m\u001b[0;34m\u001b[0m\u001b[0;34m\u001b[0m\u001b[0m\n\u001b[0;32m----> 5\u001b[0;31m         \u001b[0;32mraise\u001b[0m \u001b[0mException\u001b[0m\u001b[0;34m(\u001b[0m\u001b[0;34m\"It seems you just entered your name or surname. I need something like this : 'Rickey Gervais'\"\u001b[0m\u001b[0;34m)\u001b[0m\u001b[0;34m\u001b[0m\u001b[0;34m\u001b[0m\u001b[0m\n\u001b[0m\u001b[1;32m      6\u001b[0m \u001b[0;34m\u001b[0m\u001b[0m\n\u001b[1;32m      7\u001b[0m     \u001b[0;31m# splitting the string by space\u001b[0m\u001b[0;34m\u001b[0m\u001b[0;34m\u001b[0m\u001b[0;34m\u001b[0m\u001b[0m\n",
      "\u001b[0;31mException\u001b[0m: It seems you just entered your name or surname. I need something like this : 'Rickey Gervais'"
     ]
    }
   ],
   "source": [
    "simple_fun('Oliver')"
   ]
  },
  {
   "cell_type": "markdown",
   "metadata": {},
   "source": [
    "__General Form__"
   ]
  },
  {
   "cell_type": "markdown",
   "metadata": {},
   "source": [
    "<img src=\"Images/exception.png\" width=\"800\"> "
   ]
  },
  {
   "cell_type": "markdown",
   "metadata": {},
   "source": [
    "### Assertion"
   ]
  },
  {
   "cell_type": "markdown",
   "metadata": {},
   "source": [
    "To achieve what we did with Exception raising, we can use another method which is __Assertion__. It's simply a *control for a condition*:"
   ]
  },
  {
   "cell_type": "code",
   "execution_count": 178,
   "metadata": {},
   "outputs": [],
   "source": [
    "def simple_fun(text):\n",
    "    \"\"\"gets a string of name and surname separeted by space and prints them in a template\"\"\"\n",
    "    \n",
    "    assert(' ' in text), \"It seems you just entered your name or surname. I need something like this : 'Rickey Gervais'\"\n",
    "    \n",
    "    # splitting the string by space\n",
    "    name, surname = text.split(' ', 1)\n",
    "    print(f'Your name is {name} and your surname is {surname}')"
   ]
  },
  {
   "cell_type": "code",
   "execution_count": 179,
   "metadata": {},
   "outputs": [
    {
     "ename": "AssertionError",
     "evalue": "It seems you just entered your name or surname. I need something like this : 'Rickey Gervais'",
     "output_type": "error",
     "traceback": [
      "\u001b[0;31m---------------------------------------------------------------------------\u001b[0m",
      "\u001b[0;31mAssertionError\u001b[0m                            Traceback (most recent call last)",
      "\u001b[0;32m<ipython-input-179-f1e3ca517902>\u001b[0m in \u001b[0;36m<module>\u001b[0;34m\u001b[0m\n\u001b[0;32m----> 1\u001b[0;31m \u001b[0msimple_fun\u001b[0m\u001b[0;34m(\u001b[0m\u001b[0;34m'Oliver'\u001b[0m\u001b[0;34m)\u001b[0m\u001b[0;34m\u001b[0m\u001b[0;34m\u001b[0m\u001b[0m\n\u001b[0m",
      "\u001b[0;32m<ipython-input-178-a01a568ac134>\u001b[0m in \u001b[0;36msimple_fun\u001b[0;34m(text)\u001b[0m\n\u001b[1;32m      2\u001b[0m     \u001b[0;34m\"\"\"gets a string of name and surname separeted by space and prints them in a template\"\"\"\u001b[0m\u001b[0;34m\u001b[0m\u001b[0;34m\u001b[0m\u001b[0m\n\u001b[1;32m      3\u001b[0m \u001b[0;34m\u001b[0m\u001b[0m\n\u001b[0;32m----> 4\u001b[0;31m     \u001b[0;32massert\u001b[0m\u001b[0;34m(\u001b[0m\u001b[0;34m' '\u001b[0m \u001b[0;32min\u001b[0m \u001b[0mtext\u001b[0m\u001b[0;34m)\u001b[0m\u001b[0;34m,\u001b[0m \u001b[0;34m\"It seems you just entered your name or surname. I need something like this : 'Rickey Gervais'\"\u001b[0m\u001b[0;34m\u001b[0m\u001b[0;34m\u001b[0m\u001b[0m\n\u001b[0m\u001b[1;32m      5\u001b[0m \u001b[0;34m\u001b[0m\u001b[0m\n\u001b[1;32m      6\u001b[0m     \u001b[0;31m# splitting the string by space\u001b[0m\u001b[0;34m\u001b[0m\u001b[0;34m\u001b[0m\u001b[0;34m\u001b[0m\u001b[0m\n",
      "\u001b[0;31mAssertionError\u001b[0m: It seems you just entered your name or surname. I need something like this : 'Rickey Gervais'"
     ]
    }
   ],
   "source": [
    "simple_fun('Oliver')"
   ]
  },
  {
   "cell_type": "markdown",
   "metadata": {},
   "source": [
    "<img src=\"Images/wizard.svg\"   width=\"30\" align=\"left\">               "
   ]
  },
  {
   "cell_type": "markdown",
   "metadata": {},
   "source": [
    "**YOUR TURN:**\n",
    "    \n",
    "Use Exception raising to write a function that gets a number in centimeter and convert it to inch unit. This function should be able to warn user if the input is not a number.\n",
    "\n",
    "- Hint 1 : a number in this case can be either integer of float\n",
    "- Hint 2 : 1 cm is 0.393701 inch"
   ]
  },
  {
   "cell_type": "code",
   "execution_count": null,
   "metadata": {},
   "outputs": [],
   "source": [
    "(\\   .-.   .-.   .-.   .-.   .-.   .-.   .-.   .-.   /_\")\n",
    " \\\\_//^\\\\_//^\\\\_//^\\\\_//^\\\\_//^\\\\_//^\\\\_//^\\\\_//^\\\\_//\n",
    "  `\"`   `\"`   `\"`   `\"`   `\"`   `\"`   `\"`   `\"`   `\"`"
   ]
  },
  {
   "cell_type": "code",
   "execution_count": 278,
   "metadata": {
    "scrolled": true
   },
   "outputs": [
    {
     "ename": "Exception",
     "evalue": "Please enter an integer or float not a <class 'str'>",
     "output_type": "error",
     "traceback": [
      "\u001b[0;31m---------------------------------------------------------------------------\u001b[0m",
      "\u001b[0;31mException\u001b[0m                                 Traceback (most recent call last)",
      "\u001b[0;32m<ipython-input-278-eb0d30186a3f>\u001b[0m in \u001b[0;36m<module>\u001b[0;34m\u001b[0m\n\u001b[0;32m----> 1\u001b[0;31m \u001b[0mcm2inch\u001b[0m\u001b[0;34m(\u001b[0m\u001b[0;34m'cane'\u001b[0m\u001b[0;34m)\u001b[0m\u001b[0;34m\u001b[0m\u001b[0;34m\u001b[0m\u001b[0m\n\u001b[0m",
      "\u001b[0;32m<ipython-input-261-fc2235c60b4e>\u001b[0m in \u001b[0;36mcm2inch\u001b[0;34m(num)\u001b[0m\n\u001b[1;32m      1\u001b[0m \u001b[0;32mdef\u001b[0m \u001b[0mcm2inch\u001b[0m\u001b[0;34m(\u001b[0m\u001b[0mnum\u001b[0m\u001b[0;34m)\u001b[0m\u001b[0;34m:\u001b[0m\u001b[0;34m\u001b[0m\u001b[0;34m\u001b[0m\u001b[0m\n\u001b[1;32m      2\u001b[0m     \u001b[0;32mif\u001b[0m \u001b[0mtype\u001b[0m\u001b[0;34m(\u001b[0m\u001b[0mnum\u001b[0m\u001b[0;34m)\u001b[0m \u001b[0;34m!=\u001b[0m \u001b[0mfloat\u001b[0m \u001b[0;32mor\u001b[0m \u001b[0mtype\u001b[0m\u001b[0;34m(\u001b[0m\u001b[0mnum\u001b[0m\u001b[0;34m)\u001b[0m \u001b[0;34m!=\u001b[0m \u001b[0mint\u001b[0m\u001b[0;34m:\u001b[0m\u001b[0;34m\u001b[0m\u001b[0;34m\u001b[0m\u001b[0m\n\u001b[0;32m----> 3\u001b[0;31m         \u001b[0;32mraise\u001b[0m \u001b[0mException\u001b[0m\u001b[0;34m(\u001b[0m\u001b[0;34mf'Please enter an integer or float not a {type(num)}'\u001b[0m\u001b[0;34m)\u001b[0m\u001b[0;34m\u001b[0m\u001b[0;34m\u001b[0m\u001b[0m\n\u001b[0m\u001b[1;32m      4\u001b[0m     \u001b[0;32mreturn\u001b[0m \u001b[0mnum\u001b[0m \u001b[0;34m*\u001b[0m \u001b[0;36m0.393701\u001b[0m\u001b[0;34m\u001b[0m\u001b[0;34m\u001b[0m\u001b[0m\n",
      "\u001b[0;31mException\u001b[0m: Please enter an integer or float not a <class 'str'>"
     ]
    }
   ],
   "source": [
    "cm2inch('cane')"
   ]
  },
  {
   "cell_type": "markdown",
   "metadata": {},
   "source": [
    "<img src=\"Images/wizard.svg\"   width=\"30\" align=\"left\">               "
   ]
  },
  {
   "cell_type": "markdown",
   "metadata": {},
   "source": [
    "**YOUR TURN:**\n",
    "    \n",
    "Use Assertion instead of raising an Exception"
   ]
  },
  {
   "cell_type": "code",
   "execution_count": null,
   "metadata": {},
   "outputs": [],
   "source": [
    "(\\   .-.   .-.   .-.   .-.   .-.   .-.   .-.   .-.   /_\")\n",
    " \\\\_//^\\\\_//^\\\\_//^\\\\_//^\\\\_//^\\\\_//^\\\\_//^\\\\_//^\\\\_//\n",
    "  `\"`   `\"`   `\"`   `\"`   `\"`   `\"`   `\"`   `\"`   `\"`"
   ]
  },
  {
   "cell_type": "code",
   "execution_count": 185,
   "metadata": {
    "scrolled": true
   },
   "outputs": [
    {
     "ename": "AssertionError",
     "evalue": "Please enter an integer or float not a <class 'str'>",
     "output_type": "error",
     "traceback": [
      "\u001b[0;31m---------------------------------------------------------------------------\u001b[0m",
      "\u001b[0;31mAssertionError\u001b[0m                            Traceback (most recent call last)",
      "\u001b[0;32m<ipython-input-185-eb0d30186a3f>\u001b[0m in \u001b[0;36m<module>\u001b[0;34m\u001b[0m\n\u001b[0;32m----> 1\u001b[0;31m \u001b[0mcm2inch\u001b[0m\u001b[0;34m(\u001b[0m\u001b[0;34m'cane'\u001b[0m\u001b[0;34m)\u001b[0m\u001b[0;34m\u001b[0m\u001b[0;34m\u001b[0m\u001b[0m\n\u001b[0m",
      "\u001b[0;32m<ipython-input-184-70d8912dfacd>\u001b[0m in \u001b[0;36mcm2inch\u001b[0;34m(num)\u001b[0m\n\u001b[1;32m      1\u001b[0m \u001b[0;32mdef\u001b[0m \u001b[0mcm2inch\u001b[0m\u001b[0;34m(\u001b[0m\u001b[0mnum\u001b[0m\u001b[0;34m)\u001b[0m\u001b[0;34m:\u001b[0m\u001b[0;34m\u001b[0m\u001b[0;34m\u001b[0m\u001b[0m\n\u001b[0;32m----> 2\u001b[0;31m     \u001b[0;32massert\u001b[0m \u001b[0;34m(\u001b[0m\u001b[0mtype\u001b[0m\u001b[0;34m(\u001b[0m\u001b[0mnum\u001b[0m\u001b[0;34m)\u001b[0m \u001b[0;34m==\u001b[0m \u001b[0mfloat\u001b[0m \u001b[0;32mor\u001b[0m \u001b[0mtype\u001b[0m\u001b[0;34m(\u001b[0m\u001b[0mnum\u001b[0m\u001b[0;34m)\u001b[0m \u001b[0;34m==\u001b[0m \u001b[0mint\u001b[0m\u001b[0;34m)\u001b[0m\u001b[0;34m,\u001b[0m \u001b[0;34mf'Please enter an integer or float not a {type(num)}'\u001b[0m\u001b[0;34m\u001b[0m\u001b[0;34m\u001b[0m\u001b[0m\n\u001b[0m\u001b[1;32m      3\u001b[0m     \u001b[0;32mreturn\u001b[0m \u001b[0mnum\u001b[0m \u001b[0;34m*\u001b[0m \u001b[0;36m0.393701\u001b[0m\u001b[0;34m\u001b[0m\u001b[0;34m\u001b[0m\u001b[0m\n",
      "\u001b[0;31mAssertionError\u001b[0m: Please enter an integer or float not a <class 'str'>"
     ]
    }
   ],
   "source": [
    "cm2inch('cane')"
   ]
  },
  {
   "cell_type": "markdown",
   "metadata": {},
   "source": [
    "__General form__"
   ]
  },
  {
   "cell_type": "markdown",
   "metadata": {},
   "source": [
    "<img src=\"Images/assertion.png\" width=\"800\"> "
   ]
  },
  {
   "cell_type": "markdown",
   "metadata": {},
   "source": [
    "### Try/Except"
   ]
  },
  {
   "cell_type": "markdown",
   "metadata": {},
   "source": [
    "While Exception raising and assertion are helpful ways to assure the code is behaving in the desired way, they don't actually _handle_ errors as the code crashes no matter the exception/assertion.\n",
    "\n",
    "That's where try and except blocks come in the scene!"
   ]
  },
  {
   "cell_type": "markdown",
   "metadata": {},
   "source": [
    "Let's see an example:"
   ]
  },
  {
   "cell_type": "code",
   "execution_count": 186,
   "metadata": {},
   "outputs": [
    {
     "ename": "ZeroDivisionError",
     "evalue": "division by zero",
     "output_type": "error",
     "traceback": [
      "\u001b[0;31m---------------------------------------------------------------------------\u001b[0m",
      "\u001b[0;31mZeroDivisionError\u001b[0m                         Traceback (most recent call last)",
      "\u001b[0;32m<ipython-input-186-6fb70aede4d9>\u001b[0m in \u001b[0;36m<module>\u001b[0;34m\u001b[0m\n\u001b[1;32m      8\u001b[0m \u001b[0mids\u001b[0m \u001b[0;34m=\u001b[0m \u001b[0minfo\u001b[0m\u001b[0;34m.\u001b[0m\u001b[0mkeys\u001b[0m\u001b[0;34m(\u001b[0m\u001b[0;34m)\u001b[0m\u001b[0;34m\u001b[0m\u001b[0;34m\u001b[0m\u001b[0m\n\u001b[1;32m      9\u001b[0m \u001b[0;32mfor\u001b[0m \u001b[0miid\u001b[0m \u001b[0;32min\u001b[0m \u001b[0mids\u001b[0m\u001b[0;34m:\u001b[0m\u001b[0;34m\u001b[0m\u001b[0;34m\u001b[0m\u001b[0m\n\u001b[0;32m---> 10\u001b[0;31m     \u001b[0minfo\u001b[0m\u001b[0;34m[\u001b[0m\u001b[0miid\u001b[0m\u001b[0;34m]\u001b[0m\u001b[0;34m[\u001b[0m\u001b[0;34m'new_val'\u001b[0m\u001b[0;34m]\u001b[0m \u001b[0;34m=\u001b[0m \u001b[0mround\u001b[0m\u001b[0;34m(\u001b[0m\u001b[0minfo\u001b[0m\u001b[0;34m[\u001b[0m\u001b[0miid\u001b[0m\u001b[0;34m]\u001b[0m\u001b[0;34m[\u001b[0m\u001b[0;34m'balance'\u001b[0m\u001b[0;34m]\u001b[0m \u001b[0;34m/\u001b[0m \u001b[0minfo\u001b[0m\u001b[0;34m[\u001b[0m\u001b[0miid\u001b[0m\u001b[0;34m]\u001b[0m\u001b[0;34m[\u001b[0m\u001b[0;34m'debt'\u001b[0m\u001b[0;34m]\u001b[0m\u001b[0;34m,\u001b[0m \u001b[0;36m1\u001b[0m\u001b[0;34m)\u001b[0m\u001b[0;34m\u001b[0m\u001b[0;34m\u001b[0m\u001b[0m\n\u001b[0m\u001b[1;32m     11\u001b[0m \u001b[0;34m\u001b[0m\u001b[0m\n\u001b[1;32m     12\u001b[0m \u001b[0mpprint\u001b[0m\u001b[0;34m(\u001b[0m\u001b[0minfo\u001b[0m\u001b[0;34m)\u001b[0m\u001b[0;34m\u001b[0m\u001b[0;34m\u001b[0m\u001b[0m\n",
      "\u001b[0;31mZeroDivisionError\u001b[0m: division by zero"
     ]
    }
   ],
   "source": [
    "from pprint import pprint\n",
    "\n",
    "info = {'id_1': {'name': 'Fabio M', 'debt': 67_000, 'balance': 10_000},\n",
    "       'id_2': {'name': 'Mario M', 'debt': 0, 'balance': 350_000},\n",
    "       'id_3': {'name': 'Ale V', 'debt': 100, 'balance': 60_000},\n",
    "       'id_4': {'name': 'Mauro', 'debt': 130, 'balance': 100_000}}\n",
    "\n",
    "ids = info.keys()\n",
    "for iid in ids:\n",
    "    info[iid]['new_val'] = round(info[iid]['balance'] / info[iid]['debt'], 1)\n",
    "\n",
    "pprint(info)"
   ]
  },
  {
   "cell_type": "markdown",
   "metadata": {},
   "source": [
    "We're getting ZeroDivisionError and it's crashing our code. We can use try/except to catch the exception:"
   ]
  },
  {
   "cell_type": "code",
   "execution_count": 187,
   "metadata": {},
   "outputs": [
    {
     "name": "stdout",
     "output_type": "stream",
     "text": [
      "{'id_1': {'balance': 10000, 'debt': 67000, 'name': 'Fabio M', 'new_val': 0.1},\n",
      " 'id_2': {'balance': 350000, 'debt': 0, 'name': 'Mario M', 'new_val': 0},\n",
      " 'id_3': {'balance': 60000, 'debt': 100, 'name': 'Ale V', 'new_val': 600.0},\n",
      " 'id_4': {'balance': 100000, 'debt': 130, 'name': 'Mauro ', 'new_val': 769.2}}\n"
     ]
    }
   ],
   "source": [
    "info = {'id_1': {'name': 'Fabio M', 'debt': 67_000, 'balance': 10_000},\n",
    "       'id_2': {'name': 'Mario M', 'debt': 0, 'balance': 350_000},\n",
    "       'id_3': {'name': 'Ale V', 'debt': 100, 'balance': 60_000},\n",
    "       'id_4': {'name': 'Mauro ', 'debt': 130, 'balance': 100_000}}\n",
    "\n",
    "ids = info.keys()\n",
    "for iid in ids:\n",
    "    try:\n",
    "        info[iid]['new_val'] = round(info[iid]['balance'] / info[iid]['debt'], 1)\n",
    "        \n",
    "    except ZeroDivisionError:\n",
    "        info[iid]['new_val'] = 0\n",
    "        \n",
    "pprint(info)"
   ]
  },
  {
   "cell_type": "markdown",
   "metadata": {},
   "source": [
    "As you can see, unlike last time, our code finished its job , we just handled an error!\n",
    "\n",
    "We can use more than one exception type:"
   ]
  },
  {
   "cell_type": "code",
   "execution_count": 188,
   "metadata": {},
   "outputs": [
    {
     "ename": "ValueError",
     "evalue": "not enough values to unpack (expected 2, got 1)",
     "output_type": "error",
     "traceback": [
      "\u001b[0;31m---------------------------------------------------------------------------\u001b[0m",
      "\u001b[0;31mValueError\u001b[0m                                Traceback (most recent call last)",
      "\u001b[0;32m<ipython-input-188-f36ad3fce12b>\u001b[0m in \u001b[0;36m<module>\u001b[0;34m\u001b[0m\n\u001b[1;32m     12\u001b[0m         \u001b[0minfo\u001b[0m\u001b[0;34m[\u001b[0m\u001b[0miid\u001b[0m\u001b[0;34m]\u001b[0m\u001b[0;34m[\u001b[0m\u001b[0;34m'new_val'\u001b[0m\u001b[0;34m]\u001b[0m \u001b[0;34m=\u001b[0m \u001b[0;36m0\u001b[0m\u001b[0;34m\u001b[0m\u001b[0;34m\u001b[0m\u001b[0m\n\u001b[1;32m     13\u001b[0m \u001b[0;34m\u001b[0m\u001b[0m\n\u001b[0;32m---> 14\u001b[0;31m     \u001b[0mname\u001b[0m\u001b[0;34m,\u001b[0m \u001b[0msurname\u001b[0m \u001b[0;34m=\u001b[0m \u001b[0minfo\u001b[0m\u001b[0;34m[\u001b[0m\u001b[0miid\u001b[0m\u001b[0;34m]\u001b[0m\u001b[0;34m[\u001b[0m\u001b[0;34m'name'\u001b[0m\u001b[0;34m]\u001b[0m\u001b[0;34m.\u001b[0m\u001b[0msplit\u001b[0m\u001b[0;34m(\u001b[0m\u001b[0;34m)\u001b[0m\u001b[0;34m\u001b[0m\u001b[0;34m\u001b[0m\u001b[0m\n\u001b[0m\u001b[1;32m     15\u001b[0m     \u001b[0minfo\u001b[0m\u001b[0;34m[\u001b[0m\u001b[0miid\u001b[0m\u001b[0;34m]\u001b[0m\u001b[0;34m[\u001b[0m\u001b[0;34m'name'\u001b[0m\u001b[0;34m]\u001b[0m \u001b[0;34m=\u001b[0m \u001b[0mname\u001b[0m\u001b[0;34m\u001b[0m\u001b[0;34m\u001b[0m\u001b[0m\n\u001b[1;32m     16\u001b[0m     \u001b[0minfo\u001b[0m\u001b[0;34m[\u001b[0m\u001b[0miid\u001b[0m\u001b[0;34m]\u001b[0m\u001b[0;34m[\u001b[0m\u001b[0;34m'surname'\u001b[0m\u001b[0;34m]\u001b[0m \u001b[0;34m=\u001b[0m \u001b[0msurname\u001b[0m\u001b[0;34m\u001b[0m\u001b[0;34m\u001b[0m\u001b[0m\n",
      "\u001b[0;31mValueError\u001b[0m: not enough values to unpack (expected 2, got 1)"
     ]
    }
   ],
   "source": [
    "info = {'id_1': {'name': 'Fabio M', 'debt': 67_000, 'balance': 10_000},\n",
    "       'id_2': {'name': 'Mario M', 'debt': 0, 'balance': 350_000},\n",
    "       'id_3': {'name': 'Ale V', 'debt': 100, 'balance': 60_000},\n",
    "       'id_4': {'name': 'Mauro ', 'debt': 130, 'balance': 100_000}}\n",
    "\n",
    "ids = info.keys()\n",
    "for iid in ids:\n",
    "    try:\n",
    "        info[iid]['new_val'] = round(info[iid]['balance'] / info[iid]['debt'], 1)\n",
    "        \n",
    "    except ZeroDivisionError:\n",
    "        info[iid]['new_val'] = 0\n",
    "    \n",
    "    name, surname = info[iid]['name'].split()\n",
    "    info[iid]['name'] = name\n",
    "    info[iid]['surname'] = surname\n",
    "        \n",
    "pprint(info)"
   ]
  },
  {
   "cell_type": "code",
   "execution_count": 189,
   "metadata": {},
   "outputs": [
    {
     "name": "stdout",
     "output_type": "stream",
     "text": [
      "{'id_1': {'balance': 10000,\n",
      "          'debt': 67000,\n",
      "          'name': 'Fabio',\n",
      "          'new_val': 0.1,\n",
      "          'surname': 'M'},\n",
      " 'id_2': {'balance': 350000,\n",
      "          'debt': 0,\n",
      "          'name': 'Mario',\n",
      "          'new_val': 0,\n",
      "          'surname': 'M'},\n",
      " 'id_3': {'balance': 60000,\n",
      "          'debt': 100,\n",
      "          'name': 'Ale',\n",
      "          'new_val': 600.0,\n",
      "          'surname': 'V'},\n",
      " 'id_4': {'balance': 100000,\n",
      "          'debt': 130,\n",
      "          'name': 'Mauro ',\n",
      "          'new_val': 769.2,\n",
      "          'surname': ''}}\n"
     ]
    }
   ],
   "source": [
    "info = {'id_1': {'name': 'Fabio M', 'debt': 67_000, 'balance': 10_000},\n",
    "       'id_2': {'name': 'Mario M', 'debt': 0, 'balance': 350_000},\n",
    "       'id_3': {'name': 'Ale V', 'debt': 100, 'balance': 60_000},\n",
    "       'id_4': {'name': 'Mauro ', 'debt': 130, 'balance': 100_000}}\n",
    "\n",
    "ids = info.keys()\n",
    "for iid in ids:\n",
    "    try:\n",
    "        info[iid]['new_val'] = round(info[iid]['balance'] / info[iid]['debt'], 1)\n",
    "        \n",
    "    except ZeroDivisionError:\n",
    "        info[iid]['new_val'] = 0\n",
    "    \n",
    "    try:\n",
    "        name, surname = info[iid]['name'].split()\n",
    "        info[iid]['name'] = name\n",
    "        info[iid]['surname'] = surname\n",
    "    except ValueError:\n",
    "        info[iid]['surname'] = ''\n",
    "        \n",
    "pprint(info)"
   ]
  },
  {
   "cell_type": "markdown",
   "metadata": {},
   "source": [
    "__General form__"
   ]
  },
  {
   "cell_type": "markdown",
   "metadata": {},
   "source": [
    "<img src=\"Images/try_except.png\" width=\"600\"> "
   ]
  },
  {
   "cell_type": "markdown",
   "metadata": {},
   "source": [
    "You can use except without specifying any particular exception.__It's a bad idea! Don't use such a thing unless you are desperate!__"
   ]
  },
  {
   "cell_type": "markdown",
   "metadata": {},
   "source": [
    "### Else/Finally"
   ]
  },
  {
   "cell_type": "markdown",
   "metadata": {},
   "source": [
    "There are other to statements which can be used within try/except block which are *else* and *finally*. Let's see an example:"
   ]
  },
  {
   "cell_type": "code",
   "execution_count": 190,
   "metadata": {},
   "outputs": [
    {
     "name": "stdout",
     "output_type": "stream",
     "text": [
      "answer  : 7\n",
      "answer  : 5\n"
     ]
    },
    {
     "ename": "TypeError",
     "evalue": "string indices must be integers",
     "output_type": "error",
     "traceback": [
      "\u001b[0;31m---------------------------------------------------------------------------\u001b[0m",
      "\u001b[0;31mTypeError\u001b[0m                                 Traceback (most recent call last)",
      "\u001b[0;32m<ipython-input-190-d514c5f373ad>\u001b[0m in \u001b[0;36m<module>\u001b[0;34m\u001b[0m\n\u001b[1;32m      3\u001b[0m \u001b[0;34m\u001b[0m\u001b[0m\n\u001b[1;32m      4\u001b[0m \u001b[0;32mfor\u001b[0m \u001b[0mitem\u001b[0m \u001b[0;32min\u001b[0m \u001b[0mdata_1\u001b[0m\u001b[0;34m:\u001b[0m\u001b[0;34m\u001b[0m\u001b[0;34m\u001b[0m\u001b[0m\n\u001b[0;32m----> 5\u001b[0;31m     \u001b[0mprint\u001b[0m\u001b[0;34m(\u001b[0m\u001b[0;34mf'answer  : {item[0][item[1]]}'\u001b[0m\u001b[0;34m)\u001b[0m\u001b[0;34m\u001b[0m\u001b[0;34m\u001b[0m\u001b[0m\n\u001b[0m",
      "\u001b[0;31mTypeError\u001b[0m: string indices must be integers"
     ]
    }
   ],
   "source": [
    "data_1 = [('89768745', 2), ('87443665', -1), ('45789345', '1')]\n",
    "data_2 = [('89768745', 2), ('87443665', -1), ('45789345', 1)]\n",
    "\n",
    "for item in data_1:\n",
    "    print(f'answer  : {item[0][item[1]]}')"
   ]
  },
  {
   "cell_type": "code",
   "execution_count": 286,
   "metadata": {},
   "outputs": [
    {
     "name": "stdout",
     "output_type": "stream",
     "text": [
      "answer  : 7\n",
      "answer  : 5\n",
      "wrong index --> 45789345\n",
      "\n",
      "All pairs are controlled\n",
      "--------------------------------------------------\n",
      "answer  : 7\n",
      "answer  : 5\n",
      "answer  : 5\n",
      "All pairs are valid\n",
      "\n",
      "All pairs are controlled\n"
     ]
    }
   ],
   "source": [
    "data_1 = [('89768745', 2), ('87443665', -1), ('45789345', '1')]\n",
    "data_2 = [('89768745', 2), ('87443665', -1), ('45789345', 1)]\n",
    "\n",
    "try:\n",
    "    for item in data_1:\n",
    "        print(f'answer  : {item[0][item[1]]}')\n",
    "        \n",
    "except TypeError:\n",
    "    print(f'wrong index --> {item[0]}')\n",
    "    \n",
    "\n",
    "else:\n",
    "    print('All pairs are valid')\n",
    "\n",
    "finally:\n",
    "    print('\\nAll pairs are controlled')\n",
    "    \n",
    "print('-' * 50)\n",
    "\n",
    "try:\n",
    "    for item in data_2:\n",
    "        print(f'answer  : {item[0][item[1]]}')\n",
    "        \n",
    "except TypeError:\n",
    "    print(f'wrong index --> {item[0]}')\n",
    "    \n",
    "else:\n",
    "    print('All pairs are valid')\n",
    "\n",
    "finally:\n",
    "\n",
    "    print('\\nAll pairs are controlled')"
   ]
  },
  {
   "cell_type": "markdown",
   "metadata": {},
   "source": [
    "__General form__"
   ]
  },
  {
   "cell_type": "markdown",
   "metadata": {},
   "source": [
    "<img src=\"Images/tryexceptelsefinally.png\" width=\"500\"> "
   ]
  },
  {
   "cell_type": "markdown",
   "metadata": {},
   "source": [
    "In this case, 22 is the *start* of the *want*"
   ]
  },
  {
   "cell_type": "markdown",
   "metadata": {},
   "source": [
    "## .py files\n",
    "- Creatung a new notebook\n",
    "- Converting a notebook to a .py file\n",
    "- running a .py file\n",
    "- Reading from a py file\n",
    "- argparse"
   ]
  },
  {
   "cell_type": "code",
   "execution_count": 7,
   "metadata": {
    "ExecuteTime": {
     "end_time": "2020-05-22T09:07:09.577388Z",
     "start_time": "2020-05-22T09:07:09.573310Z"
    }
   },
   "outputs": [],
   "source": [
    "import my_functions as mf"
   ]
  },
  {
   "cell_type": "code",
   "execution_count": 2,
   "metadata": {
    "ExecuteTime": {
     "end_time": "2020-05-22T08:55:58.625751Z",
     "start_time": "2020-05-22T08:55:58.602800Z"
    }
   },
   "outputs": [
    {
     "data": {
      "text/plain": [
       "\"I'm just a test text\""
      ]
     },
     "execution_count": 2,
     "metadata": {},
     "output_type": "execute_result"
    }
   ],
   "source": [
    "mf.text_cleaner(\"   I'm just a test text...\")"
   ]
  },
  {
   "cell_type": "code",
   "execution_count": 6,
   "metadata": {
    "ExecuteTime": {
     "end_time": "2020-05-22T09:06:22.280988Z",
     "start_time": "2020-05-22T09:06:22.252274Z"
    }
   },
   "outputs": [
    {
     "ename": "AttributeError",
     "evalue": "module 'my_functions' has no attribute 'text_splitter'",
     "output_type": "error",
     "traceback": [
      "\u001b[0;31m---------------------------------------------------------------------------\u001b[0m",
      "\u001b[0;31mAttributeError\u001b[0m                            Traceback (most recent call last)",
      "\u001b[0;32m<ipython-input-6-f98554f7f69d>\u001b[0m in \u001b[0;36m<module>\u001b[0;34m\u001b[0m\n\u001b[0;32m----> 1\u001b[0;31m \u001b[0mmf\u001b[0m\u001b[0;34m.\u001b[0m\u001b[0mtext_splitter\u001b[0m\u001b[0;34m(\u001b[0m\u001b[0;34m\"   I'm just a test text...\"\u001b[0m\u001b[0;34m)\u001b[0m\u001b[0;34m\u001b[0m\u001b[0;34m\u001b[0m\u001b[0m\n\u001b[0m",
      "\u001b[0;31mAttributeError\u001b[0m: module 'my_functions' has no attribute 'text_splitter'"
     ]
    }
   ],
   "source": [
    "mf.text_splitter(\"   I'm just a test text...\")"
   ]
  },
  {
   "cell_type": "markdown",
   "metadata": {},
   "source": [
    "<img src=\"Images/wizard.svg\"   width=\"30\" align=\"left\">               "
   ]
  },
  {
   "cell_type": "markdown",
   "metadata": {},
   "source": [
    "**YOUR TURN:**\n",
    "    \n",
    "It seems we've forgot to add the **text_splitter** function!\n",
    "Add this function which : Takes a string, first run in through text_clener and then split the result on *space* and returns the result."
   ]
  },
  {
   "cell_type": "code",
   "execution_count": 10,
   "metadata": {
    "ExecuteTime": {
     "end_time": "2020-05-22T09:10:21.076296Z",
     "start_time": "2020-05-22T09:10:21.064774Z"
    }
   },
   "outputs": [
    {
     "data": {
      "text/plain": [
       "[\"I'm\", 'just', 'a', 'test', 'text']"
      ]
     },
     "execution_count": 10,
     "metadata": {},
     "output_type": "execute_result"
    }
   ],
   "source": [
    "# if we add something to the my_functions, we can't simplt re-import it by using import my_functions as mf\n",
    "# instead we need to use imp module to do so (The other way is to restart the kernel)\n",
    "import imp\n",
    "imp.reload(mf)\n",
    "\n",
    "mf.text_splitter(\"   I'm just a test text...\")"
   ]
  },
  {
   "cell_type": "markdown",
   "metadata": {},
   "source": [
    " "
   ]
  },
  {
   "cell_type": "markdown",
   "metadata": {},
   "source": [
    "## Navigation"
   ]
  },
  {
   "cell_type": "code",
   "execution_count": 46,
   "metadata": {
    "ExecuteTime": {
     "end_time": "2020-05-22T10:05:48.439595Z",
     "start_time": "2020-05-22T10:05:48.419690Z"
    }
   },
   "outputs": [
    {
     "data": {
      "text/plain": [
       "['etc_files',\n",
       " 'Images',\n",
       " 'PyStyle-master',\n",
       " '__pycache__',\n",
       " 'my_functions.py',\n",
       " 'README.md',\n",
       " 'Results',\n",
       " 'Py_intro.ipynb',\n",
       " 'MedSys.py',\n",
       " '.gitignore',\n",
       " 'Py_intro_temp.ipynb',\n",
       " 'desc_csv.py',\n",
       " '.ipynb_checkpoints',\n",
       " 'data_preparation.py',\n",
       " '.git',\n",
       " 'example_dir',\n",
       " '.vscode',\n",
       " 'Data',\n",
       " 'TBD.txt']"
      ]
     },
     "execution_count": 46,
     "metadata": {},
     "output_type": "execute_result"
    }
   ],
   "source": [
    "import os\n",
    "os.listdir()"
   ]
  },
  {
   "cell_type": "code",
   "execution_count": 5,
   "metadata": {},
   "outputs": [
    {
     "name": "stdout",
     "output_type": "stream",
     "text": [
      "\u001b[34mData\u001b[m\u001b[m/                README.md            data_preparation.py\r\n",
      "\u001b[34mImages\u001b[m\u001b[m/              \u001b[34mResults\u001b[m\u001b[m/             desc_csv.py\r\n",
      "MedSys.py            TBD.txt              \u001b[34metc_files\u001b[m\u001b[m/\r\n",
      "Py_intro.ipynb       \u001b[34m__pycache__\u001b[m\u001b[m/         my_functions.py\r\n"
     ]
    }
   ],
   "source": [
    "ls"
   ]
  },
  {
   "cell_type": "code",
   "execution_count": 47,
   "metadata": {
    "ExecuteTime": {
     "end_time": "2020-05-22T10:07:52.051104Z",
     "start_time": "2020-05-22T10:07:52.036655Z"
    }
   },
   "outputs": [],
   "source": [
    "os.mkdir('example_directory/')"
   ]
  },
  {
   "cell_type": "code",
   "execution_count": 49,
   "metadata": {
    "ExecuteTime": {
     "end_time": "2020-05-22T10:07:58.224327Z",
     "start_time": "2020-05-22T10:07:58.087315Z"
    }
   },
   "outputs": [
    {
     "name": "stdout",
     "output_type": "stream",
     "text": [
      "\u001b[34mData\u001b[m\u001b[m/                README.md            \u001b[34metc_files\u001b[m\u001b[m/\r\n",
      "\u001b[34mImages\u001b[m\u001b[m/              \u001b[34mResults\u001b[m\u001b[m/             \u001b[34mexample_dir\u001b[m\u001b[m/\r\n",
      "MedSys.py            TBD.txt              \u001b[34mexample_directory\u001b[m\u001b[m/\r\n",
      "\u001b[34mPyStyle-master\u001b[m\u001b[m/      \u001b[34m__pycache__\u001b[m\u001b[m/         my_functions.py\r\n",
      "Py_intro.ipynb       data_preparation.py\r\n",
      "Py_intro_temp.ipynb  desc_csv.py\r\n"
     ]
    }
   ],
   "source": [
    "ls"
   ]
  },
  {
   "cell_type": "code",
   "execution_count": 50,
   "metadata": {
    "ExecuteTime": {
     "end_time": "2020-05-22T10:08:27.289829Z",
     "start_time": "2020-05-22T10:08:27.129851Z"
    }
   },
   "outputs": [
    {
     "name": "stdout",
     "output_type": "stream",
     "text": [
      "mkdir: example_directory: File exists\r\n"
     ]
    }
   ],
   "source": [
    "mkdir example_directory"
   ]
  },
  {
   "cell_type": "markdown",
   "metadata": {},
   "source": [
    "### Filename pattern matching"
   ]
  },
  {
   "cell_type": "code",
   "execution_count": 51,
   "metadata": {
    "ExecuteTime": {
     "end_time": "2020-05-22T10:09:49.071242Z",
     "start_time": "2020-05-22T10:09:49.051487Z"
    }
   },
   "outputs": [
    {
     "name": "stdout",
     "output_type": "stream",
     "text": [
      "my_functions.py\n",
      "MedSys.py\n",
      "desc_csv.py\n",
      "data_preparation.py\n"
     ]
    }
   ],
   "source": [
    "for f_name in os.listdir():\n",
    "    if f_name.endswith('.py'):\n",
    "        print(f_name)"
   ]
  },
  {
   "cell_type": "code",
   "execution_count": 1,
   "metadata": {
    "ExecuteTime": {
     "end_time": "2020-05-26T09:28:26.056627Z",
     "start_time": "2020-05-26T09:28:26.053648Z"
    }
   },
   "outputs": [],
   "source": [
    "import glob"
   ]
  },
  {
   "cell_type": "code",
   "execution_count": 62,
   "metadata": {
    "ExecuteTime": {
     "end_time": "2020-05-22T10:15:54.306525Z",
     "start_time": "2020-05-22T10:15:54.285031Z"
    }
   },
   "outputs": [
    {
     "name": "stdout",
     "output_type": "stream",
     "text": [
      "my_functions.py\n",
      "MedSys.py\n",
      "desc_csv.py\n",
      "data_preparation.py\n"
     ]
    }
   ],
   "source": [
    "for file in glob.glob('*.py'):\n",
    "    print(file)"
   ]
  },
  {
   "cell_type": "code",
   "execution_count": 5,
   "metadata": {
    "ExecuteTime": {
     "end_time": "2020-05-26T09:34:42.803140Z",
     "start_time": "2020-05-26T09:34:42.646704Z"
    }
   },
   "outputs": [
    {
     "name": "stdout",
     "output_type": "stream",
     "text": [
      "\u001b[34mData\u001b[m\u001b[m/                Py_intro_temp.ipynb  desc_csv.py\r\n",
      "Exercise.ipynb       README.md            \u001b[34metc_files\u001b[m\u001b[m/\r\n",
      "\u001b[34mImages\u001b[m\u001b[m/              \u001b[34mResults\u001b[m\u001b[m/             \u001b[34mexample_dir\u001b[m\u001b[m/\r\n",
      "MedSys.py            TBD.txt              \u001b[34mexample_directory\u001b[m\u001b[m/\r\n",
      "\u001b[34mPyStyle-master\u001b[m\u001b[m/      \u001b[34m__pycache__\u001b[m\u001b[m/         \u001b[34mlecture_notes\u001b[m\u001b[m/\r\n",
      "Py_intro.ipynb       data_preparation.py  my_functions.py\r\n"
     ]
    }
   ],
   "source": [
    "ls"
   ]
  },
  {
   "cell_type": "code",
   "execution_count": 6,
   "metadata": {
    "ExecuteTime": {
     "end_time": "2020-05-26T09:34:47.095621Z",
     "start_time": "2020-05-26T09:34:47.088810Z"
    }
   },
   "outputs": [
    {
     "name": "stdout",
     "output_type": "stream",
     "text": [
      "Data/urg_1.csv\n",
      "Data/review.txt\n",
      "Data/urg_2.csv\n",
      "Data/adult.csv\n",
      "Data/Daily_Demand_Forecasting_Orders.csv\n",
      "Data/stock_px.csv\n",
      "Data/emp_data\n",
      "Data/AirQualityUCI.csv\n",
      "Data/type_1.csv\n",
      "Data/AirQualityUCI.zip\n",
      "Data/type_2.csv\n",
      "Data/bank_2.csv\n",
      "Data/adult_names.txt\n",
      "Data/bank_1.csv\n",
      "Data/AirQualityUCI.xlsx\n",
      "Data/totals.csv\n",
      "Data/description.txt\n",
      "Data/data_types.names\n"
     ]
    }
   ],
   "source": [
    "for file in glob.iglob('Data/*', recursive=True):\n",
    "    print(file)"
   ]
  },
  {
   "cell_type": "code",
   "execution_count": 24,
   "metadata": {},
   "outputs": [
    {
     "name": "stdout",
     "output_type": "stream",
     "text": [
      "my_functions.py\n",
      "MedSys.py\n",
      "desc_csv.py\n",
      "data_preparation.py\n"
     ]
    }
   ],
   "source": [
    "from pathlib import Path\n",
    "\n",
    "p = Path('.')\n",
    "for name in p.glob('*.p*'):\n",
    "    print(name)"
   ]
  },
  {
   "cell_type": "markdown",
   "metadata": {},
   "source": [
    "### Deleting"
   ]
  },
  {
   "cell_type": "code",
   "execution_count": 68,
   "metadata": {
    "ExecuteTime": {
     "end_time": "2020-05-22T10:26:53.488194Z",
     "start_time": "2020-05-22T10:26:53.347248Z"
    }
   },
   "outputs": [
    {
     "name": "stdout",
     "output_type": "stream",
     "text": [
      "\u001b[34mData\u001b[m\u001b[m/                README.md            \u001b[34metc_files\u001b[m\u001b[m/\r\n",
      "\u001b[34mImages\u001b[m\u001b[m/              \u001b[34mResults\u001b[m\u001b[m/             \u001b[34mexample_dir\u001b[m\u001b[m/\r\n",
      "MedSys.py            TBD.txt              \u001b[34mexample_directory\u001b[m\u001b[m/\r\n",
      "\u001b[34mPyStyle-master\u001b[m\u001b[m/      \u001b[34m__pycache__\u001b[m\u001b[m/         my_functions.py\r\n",
      "Py_intro.ipynb       data_preparation.py  pippo.xml\r\n",
      "Py_intro_temp.ipynb  desc_csv.py\r\n"
     ]
    }
   ],
   "source": [
    "ls"
   ]
  },
  {
   "cell_type": "code",
   "execution_count": 69,
   "metadata": {
    "ExecuteTime": {
     "end_time": "2020-05-22T10:27:29.605542Z",
     "start_time": "2020-05-22T10:27:29.596031Z"
    }
   },
   "outputs": [],
   "source": [
    "data_file = 'pippo.xml'\n",
    "if os.path.isfile(data_file):\n",
    "    os.remove(data_file)"
   ]
  },
  {
   "cell_type": "code",
   "execution_count": 70,
   "metadata": {
    "ExecuteTime": {
     "end_time": "2020-05-22T10:28:19.783299Z",
     "start_time": "2020-05-22T10:28:19.641020Z"
    }
   },
   "outputs": [],
   "source": [
    "rm topolino.py"
   ]
  },
  {
   "cell_type": "code",
   "execution_count": 72,
   "metadata": {
    "ExecuteTime": {
     "end_time": "2020-05-22T10:28:58.041626Z",
     "start_time": "2020-05-22T10:28:57.892200Z"
    }
   },
   "outputs": [],
   "source": [
    "rm -rf foo/"
   ]
  },
  {
   "cell_type": "markdown",
   "metadata": {},
   "source": [
    "https://realpython.com/working-with-files-in-python/"
   ]
  }
 ],
 "metadata": {
  "kernelspec": {
   "display_name": "Python 3",
   "language": "python",
   "name": "python3"
  },
  "language_info": {
   "codemirror_mode": {
    "name": "ipython",
    "version": 3
   },
   "file_extension": ".py",
   "mimetype": "text/x-python",
   "name": "python",
   "nbconvert_exporter": "python",
   "pygments_lexer": "ipython3",
   "version": "3.7.9"
  },
  "toc": {
   "base_numbering": 1,
   "nav_menu": {},
   "number_sections": true,
   "sideBar": true,
   "skip_h1_title": false,
   "title_cell": "Table of Contents",
   "title_sidebar": "Contents",
   "toc_cell": false,
   "toc_position": {
    "height": "863.333px",
    "left": "33px",
    "top": "135.722px",
    "width": "287.562px"
   },
   "toc_section_display": true,
   "toc_window_display": true
  }
 },
 "nbformat": 4,
 "nbformat_minor": 2
}
