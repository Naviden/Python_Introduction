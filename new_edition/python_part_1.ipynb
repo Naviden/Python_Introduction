{
 "cells": [
  {
   "cell_type": "markdown",
   "metadata": {},
   "source": [
    "# About this course"
   ]
  },
  {
   "cell_type": "markdown",
   "metadata": {},
   "source": [
    "This introduction course, presented for the first time in BIBDA Master, tends to give you an overview of Python programming language and its general structure as in the future modules of Master like web scrapping, Machine learning and text mining Python will be used as the principal programming language.\n",
    "Please note that due to the vast range of arguments/tools related to Python language we won't/can't cover them all here as this course designed to help you not to become a Python programmers but to learn its basics and enable you to expand your data science skills using it as a modern programming language."
   ]
  },
  {
   "cell_type": "markdown",
   "metadata": {},
   "source": [
    "## Course structure"
   ]
  },
  {
   "cell_type": "markdown",
   "metadata": {},
   "source": [
    "Our goal here is not to provide a deep insight into Python and act as an official reference since you can easily can access hundreds of online sources to learn about each and every detail of Python.\n",
    "Given the wide range of students' backgrounds, there is no assumption about prior knowledge about programming or data analysis. We've tried to provide you with simple examples which give you a clear understanding of functionality of different tools. There are also parts called **YOUR TURN** which ask you to put into practice what you have learned during the lesson. These parts are accompanied by three different symbols which show the difficulty of the exercise:"
   ]
  },
  {
   "cell_type": "markdown",
   "metadata": {},
   "source": [
    "<img src=\"Images/baby.svg\"   width=\"30\" align=\"left\">               "
   ]
  },
  {
   "cell_type": "markdown",
   "metadata": {},
   "source": [
    "**EASY:** You're expected to solve it by yourself. (max 2 min)"
   ]
  },
  {
   "cell_type": "markdown",
   "metadata": {},
   "source": [
    "   "
   ]
  },
  {
   "cell_type": "markdown",
   "metadata": {},
   "source": [
    "<img src=\"Images/student.svg\"   width=\"35\" align=\"left\">               "
   ]
  },
  {
   "cell_type": "markdown",
   "metadata": {},
   "source": [
    "**So-So:** In case you find it hard to solve, try to ask your friend's opinion. (max 5 min)"
   ]
  },
  {
   "cell_type": "markdown",
   "metadata": {},
   "source": [
    "     "
   ]
  },
  {
   "cell_type": "markdown",
   "metadata": {},
   "source": [
    "<img src=\"Images/wizard.svg\"   width=\"40\" align=\"left\">               "
   ]
  },
  {
   "cell_type": "markdown",
   "metadata": {},
   "source": [
    "**HARD:** If you're not comfortable with it, leave it alone! once in home, try to attack it again!"
   ]
  },
  {
   "cell_type": "markdown",
   "metadata": {},
   "source": [
    "For the questions that you should write code, you'll find a code block with a Python in it! just remove it and insert your answer instead."
   ]
  },
  {
   "cell_type": "markdown",
   "metadata": {},
   "source": [
    "<img src=\"Images/python.png\"   width=\"300\" align=\"left\">               "
   ]
  },
  {
   "cell_type": "markdown",
   "metadata": {},
   "source": [
    "\n",
    "While major parts of codes are self-explanatory, there are ones that need a more detailed explanation. These parts are indicated by an owl sign!\n",
    "\n",
    "<img src=\"Images/owl.svg\"   width=\"40\" align=\"left\">               "
   ]
  },
  {
   "cell_type": "markdown",
   "metadata": {},
   "source": [
    "## Prerequisite"
   ]
  },
  {
   "cell_type": "markdown",
   "metadata": {},
   "source": [
    "The only prerequisites for using this course is high-school level math and a running version of Python and Jupyter notebook."
   ]
  },
  {
   "cell_type": "markdown",
   "metadata": {},
   "source": [
    "# What is a programming language?"
   ]
  },
  {
   "cell_type": "markdown",
   "metadata": {},
   "source": [
    "Simply put, a programming language is a intermediary language(with its predefined structure) which is able to translate human language(instructions) to a language which is understandable by a computer(Hardware).\n",
    "There are different levels of programming languages with different scopes which we won't explain here in depth. In the following figure you can see the hierarchy of these languages and the interactions they have with each other.\n",
    "<img src=\"Images/languages.jpg\"  width=\"600\" align=\"center\">\n",
    "[image source](https://www.informationq.com/computer-language-and-its-types/computer-language-and-its-types/)"
   ]
  },
  {
   "cell_type": "markdown",
   "metadata": {},
   "source": [
    "Unlike languages like C and C++, Python is a interpreted language which means you can run it only you have the interpreter on your machine(installing Ptyhon = installing Python interpreter). In this [link](https://www.html.it/pag/15387/programma-compilato-e-interpretato/) you can learn about the differences between interpreted and compiled languages."
   ]
  },
  {
   "cell_type": "markdown",
   "metadata": {},
   "source": [
    "# What is an algorithm?"
   ]
  },
  {
   "cell_type": "markdown",
   "metadata": {},
   "source": [
    "An algorithm is a series of instructions with a specific order and a defined end, used to solve a  specific problem. As an example, imagine you want to tell someone how to get to Milano Garibaldi from Bicocca University. You can write down the steps: (Notice how important is the order of steps)\n",
    "- Look at the train information board\n",
    "- Find out when and when is the next train to greco Pirelli station\n",
    "- Go to the platform\n",
    "- Get in the train\n",
    "- Wait until you arrive to the greco Pirelli station\n",
    "- Get off of the train\n",
    "- ...\n",
    "\n",
    "In this example, we are giving this instruction to a human being so we can simply use Italian language(or any other *natural* language) but what happens when we want a computer to follow our instructions? That's where computer languages come into the scene."
   ]
  },
  {
   "cell_type": "markdown",
   "metadata": {},
   "source": [
    "# Why Python?"
   ]
  },
  {
   "cell_type": "markdown",
   "metadata": {},
   "source": [
    "Python is the principal (but not the only) programming language of BIBDA master. The reason behind this choice is mainly based on its strong characteristics like (but not limited to):\n",
    "- Simple and minimalistic syntax \n",
    "- High efficiency\n",
    "- Productivity and speed\n",
    "- Extensive libraries\n",
    "- Strong community support\n",
    "- Acceptance by giants like Google and Facebook\n",
    "\n",
    "Another point that makes Python an intresting programming language is its incredible growth in the European job market and computer/data science community:\n",
    "\n",
    "<img src=\"Images/python_trend.png\" width=\"700\">\n",
    "\n",
    "<img src=\"Images/py_growth.png\" width=\"700\">\n",
    "\n",
    "[image source](https://stackoverflow.blog/2017/09/06/incredible-growth-python/)"
   ]
  },
  {
   "cell_type": "markdown",
   "metadata": {},
   "source": [
    "# Running a Python code"
   ]
  },
  {
   "cell_type": "markdown",
   "metadata": {},
   "source": [
    "In the previous parts we have seen together why we need a programming language and why we choose Python. Now let's briefly explore the different ways we can \"run\" our codes (algorithms) written in Python. There are four main ways:\n",
    "\n",
    "- Running Python directly in command line/ bash\n",
    "- Using an IDE (Ex. [IDLE](https://docs.python.org/3/library/idle.html), [PyCharm](https://www.jetbrains.com/pycharm/) and [Spyder](https://www.spyder-ide.org/))\n",
    "- Using a Text Editor (Ex. [VsCode](https://code.visualstudio.com/), [Sublime Text](https://www.sublimetext.com/) and [Atom](https://atom.io/))\n",
    "- Using a Notebook (Ex. [Jupyter](https://jupyter.org/), [nteract](https://nteract.io/) and [Zeppelin](https://zeppelin.apache.org/))\n",
    "\n",
    "We can't describe each option in details here but if you are interested to now more about these tools and how they are different from each other, take a look at the [article](https://medium.com/@navid.nobani/adding-python-to-your-life-choices-everywhere-35bbf435fe5d) I've written about this subject.\n",
    "\n",
    "Here as you may have noticed(!) we're are going to use Jupyter notebook for the rest of out course.\n",
    "Jupyter notebook has an interesting developement story which you can find out more about it in [this article](https://www.datacamp.com/community/tutorials/tutorial-jupyter-notebook)."
   ]
  },
  {
   "cell_type": "markdown",
   "metadata": {},
   "source": [
    "# Use Python as a calculator"
   ]
  },
  {
   "cell_type": "markdown",
   "metadata": {},
   "source": [
    "The most basic (and inefficient) use of any programming language is using it as a calculator! Let's see some examples:"
   ]
  },
  {
   "cell_type": "markdown",
   "metadata": {},
   "source": [
    "$\\frac{((119 + 0.789)^{3.14}\\times 1000000000}{57^{\\frac{5}{2.4}}} = 738170310705.7557$"
   ]
  },
  {
   "cell_type": "code",
   "execution_count": 13,
   "metadata": {},
   "outputs": [
    {
     "data": {
      "text/plain": [
       "738.1703107057558"
      ]
     },
     "execution_count": 13,
     "metadata": {},
     "output_type": "execute_result"
    }
   ],
   "source": [
    "(((119 + 0.789)**3.14) * 1000_000_000) / 57**(5/2.4)"
   ]
  },
  {
   "cell_type": "markdown",
   "metadata": {},
   "source": [
    "There are also some interesting (and still extremely simple) calculation we can perform too:"
   ]
  },
  {
   "cell_type": "code",
   "execution_count": 14,
   "metadata": {},
   "outputs": [
    {
     "data": {
      "text/plain": [
       "4"
      ]
     },
     "execution_count": 14,
     "metadata": {},
     "output_type": "execute_result"
    }
   ],
   "source": [
    "989 % 5"
   ]
  },
  {
   "cell_type": "code",
   "execution_count": 15,
   "metadata": {},
   "outputs": [
    {
     "data": {
      "text/plain": [
       "860.9090909090909"
      ]
     },
     "execution_count": 15,
     "metadata": {},
     "output_type": "execute_result"
    }
   ],
   "source": [
    "9470 / 11"
   ]
  },
  {
   "cell_type": "code",
   "execution_count": 16,
   "metadata": {},
   "outputs": [
    {
     "data": {
      "text/plain": [
       "860"
      ]
     },
     "execution_count": 16,
     "metadata": {},
     "output_type": "execute_result"
    }
   ],
   "source": [
    "9470 // 11"
   ]
  },
  {
   "cell_type": "markdown",
   "metadata": {},
   "source": [
    "\"%\" and \"//\" (Floor Division) are two of operators available in Python. Take a look at the [complete list of operations](https://docs.python.org/3.4/library/operator.html#mapping-operators-to-functions) in the Python documentation. The following table summarize the most important ones:\n",
    "\n",
    "<img src=\"Images/operations.png\">"
   ]
  },
  {
   "cell_type": "markdown",
   "metadata": {},
   "source": [
    " "
   ]
  },
  {
   "cell_type": "markdown",
   "metadata": {},
   "source": [
    "<img src=\"Images/baby.svg\"   width=\"30\" align=\"left\">               "
   ]
  },
  {
   "cell_type": "markdown",
   "metadata": {},
   "source": [
    "**YOUR TURN :** compute the following :"
   ]
  },
  {
   "cell_type": "markdown",
   "metadata": {},
   "source": [
    "$$(\\frac{2019}{5})^{24} * 0.000314$$"
   ]
  },
  {
   "cell_type": "code",
   "execution_count": 18,
   "metadata": {},
   "outputs": [
    {
     "data": {
      "text/plain": [
       "1.1089735772993454e+59"
      ]
     },
     "execution_count": 18,
     "metadata": {},
     "output_type": "execute_result"
    }
   ],
   "source": [
    "((2019 / 5) ** 24) * 0.000314"
   ]
  },
  {
   "cell_type": "markdown",
   "metadata": {},
   "source": [
    "## Comparisons operators"
   ]
  },
  {
   "cell_type": "markdown",
   "metadata": {},
   "source": [
    "Comparison operators are not technically considered as a part of \"Control flow\" but since their usage with mentioned statements, I put them here. As the name suggest these operators **compare** two object and return either *True* or *False*. Let's see some examples:"
   ]
  },
  {
   "cell_type": "code",
   "execution_count": 4,
   "metadata": {
    "scrolled": true
   },
   "outputs": [
    {
     "name": "stdout",
     "output_type": "stream",
     "text": [
      "False\n",
      "True\n",
      "True\n",
      "False\n",
      "True\n",
      "False\n"
     ]
    }
   ],
   "source": [
    "a = 15.6\n",
    "b = 79\n",
    "print(a == b)\n",
    "print(a != b)\n",
    "print(a < b)\n",
    "print(a > b)\n",
    "print(a <= b)\n",
    "print(a >= b)"
   ]
  },
  {
   "cell_type": "markdown",
   "metadata": {},
   "source": [
    "# Variables"
   ]
  },
  {
   "cell_type": "markdown",
   "metadata": {},
   "source": [
    "A variable is just a reference which points to a specific object in the memory. Imagine it as name tag which you attach to a piece of the memory of your computer. In this way everytime you need to access that pies you just need to follow the name tag. Obviously this attachment is not permanent, it means you can detach it and connect it to another piece of memory as in the same way, you can attach two different name tags to the same object."
   ]
  },
  {
   "cell_type": "markdown",
   "metadata": {},
   "source": [
    " "
   ]
  },
  {
   "cell_type": "markdown",
   "metadata": {},
   "source": [
    "<img src=\"Images/baby.svg\"   width=\"30\" align=\"left\">               "
   ]
  },
  {
   "cell_type": "markdown",
   "metadata": {},
   "source": [
    "**YOUR TURN :** We assign 12 to A, 2 to B and compute C by multiplication of A and B and assign the result to C. Now if we assign 3 to B, What would be the value of the C?"
   ]
  },
  {
   "cell_type": "markdown",
   "metadata": {},
   "source": [
    "<img src=\"Images/variable.png\" width=\"600\" align=\"left\">"
   ]
  },
  {
   "cell_type": "code",
   "execution_count": 35,
   "metadata": {},
   "outputs": [
    {
     "name": "stdout",
     "output_type": "stream",
     "text": [
      "12\n",
      "2\n",
      "24\n",
      "3\n",
      "36\n"
     ]
    }
   ],
   "source": [
    "A = 12\n",
    "print(A)\n",
    "B = 2\n",
    "print(B)\n",
    "C = A * B\n",
    "print(C)\n",
    "B = 3\n",
    "print(B)\n",
    "C = A * B\n",
    "print(C)"
   ]
  },
  {
   "cell_type": "markdown",
   "metadata": {},
   "source": [
    "Unlike C and Java which are \"Statically-typed languages\", Python is a \"dynamically-typed language\", which means variables must not only have a single data type, instead you can assign different objects with different data types to the variable (not simultaneously). You can read more about this subject [here](https://wiki.python.org/moin/Why%20is%20Python%20a%20dynamic%20language%20and%20also%20a%20strongly%20typed%20language).\n",
    "\n",
    "Let's define a variable and assign a number to it: "
   ]
  },
  {
   "cell_type": "code",
   "execution_count": 16,
   "metadata": {},
   "outputs": [],
   "source": [
    "my_var = 10 "
   ]
  },
  {
   "cell_type": "markdown",
   "metadata": {},
   "source": [
    "We just created our first variable! let's print it to confirm what is inside:"
   ]
  },
  {
   "cell_type": "code",
   "execution_count": 17,
   "metadata": {},
   "outputs": [
    {
     "name": "stdout",
     "output_type": "stream",
     "text": [
      "10\n"
     ]
    }
   ],
   "source": [
    "print(my_var)"
   ]
  },
  {
   "cell_type": "markdown",
   "metadata": {},
   "source": [
    "Now let's assign a text to **my_var**:"
   ]
  },
  {
   "cell_type": "code",
   "execution_count": 18,
   "metadata": {},
   "outputs": [
    {
     "name": "stdout",
     "output_type": "stream",
     "text": [
      "my fancy text\n"
     ]
    }
   ],
   "source": [
    "my_var = 'my fancy text'\n",
    "print(my_var)"
   ]
  },
  {
   "cell_type": "code",
   "execution_count": 41,
   "metadata": {},
   "outputs": [],
   "source": [
    "GATTO = 875765"
   ]
  },
  {
   "cell_type": "markdown",
   "metadata": {},
   "source": [
    "Notice that in the code above, we didn't explicitly tell Python which data type we're going to assign to \"my_var\"."
   ]
  },
  {
   "cell_type": "markdown",
   "metadata": {},
   "source": [
    "## Variable naming"
   ]
  },
  {
   "cell_type": "markdown",
   "metadata": {},
   "source": [
    "There are 3 rules you should have in mind when defining a new variable:\n",
    "- It CAN contain only letters, numbers and underscore(\\_).\n",
    "- It MUST start either with a letter or underscore(\\_). It CAN'T start with a number.\n",
    "- It CAN'T/SHOULDN'T be a [reserved](https://docs.python.org/2.5/ref/keywords.html) name.\n",
    "\n",
    "Let's explain a bit the last point. I used **CAN'T/SHOULDN'T** and not **CAN'T** because While you **CAN'T**  assign a value to some of these reserved key words (like **for**) actually if you want, you **CAN** assign a value to some of them (like function **print**); The point is even if you **CAN** do so, it's almost always absolutely a bad idea !"
   ]
  },
  {
   "cell_type": "markdown",
   "metadata": {},
   "source": [
    " "
   ]
  },
  {
   "cell_type": "markdown",
   "metadata": {},
   "source": [
    "<img src=\"Images/baby.svg\"   width=\"30\" align=\"left\">               "
   ]
  },
  {
   "cell_type": "markdown",
   "metadata": {},
   "source": [
    "**YOUR TURN :** What would be the result? (answer without running it!)\n",
    "\n",
    "print = 2\n",
    "\n",
    "print(10)"
   ]
  },
  {
   "cell_type": "markdown",
   "metadata": {},
   "source": [
    "- 2\n",
    "- 10\n",
    "- 20\n",
    "- None of above"
   ]
  },
  {
   "cell_type": "markdown",
   "metadata": {},
   "source": [
    " "
   ]
  },
  {
   "cell_type": "markdown",
   "metadata": {},
   "source": [
    "A variable name doesn't have any length limitation but it's better if you keep it as short as possible ( as long as it's easy to remember and reuse= being informative)\n",
    "\n",
    "**Correct Examples:**\n",
    "- myVal\n",
    "- My_val\n",
    "- ppppppppppppppppppppppp\n",
    "\n",
    "\n",
    "**Good Examples:**\n",
    "- length\n",
    "- size_before_trim\n",
    "- item_1\n",
    "\n",
    "**Wrong Examples:**\n",
    "- 1_myval\n",
    "- 49param\n",
    "\n",
    "**bad Examples:**\n",
    "- pp\n",
    "- abc\n",
    "- size_before_removing_outliers_from_main_table\n",
    "\n",
    "[more details about variables](https://realpython.com/python-variables/)"
   ]
  },
  {
   "cell_type": "markdown",
   "metadata": {},
   "source": [
    "<img src=\"Images/baby.svg\"   width=\"30\" align=\"left\">               "
   ]
  },
  {
   "cell_type": "markdown",
   "metadata": {},
   "source": [
    "**YOUR TURN :** Define three variables : **birth_year**, **birth_month** and **birth_day** and assign them your birth date."
   ]
  },
  {
   "cell_type": "code",
   "execution_count": null,
   "metadata": {},
   "outputs": [],
   "source": [
    "(\\   .-.   .-.   .-.   .-.   .-.   .-.   .-.   .-.   /_\")\n",
    " \\\\_//^\\\\_//^\\\\_//^\\\\_//^\\\\_//^\\\\_//^\\\\_//^\\\\_//^\\\\_//\n",
    "  `\"`   `\"`   `\"`   `\"`   `\"`   `\"`   `\"`   `\"`   `\"`"
   ]
  },
  {
   "cell_type": "markdown",
   "metadata": {},
   "source": [
    "# Data types"
   ]
  },
  {
   "cell_type": "markdown",
   "metadata": {},
   "source": [
    "In Python , everything is an object and every object has a type. There are different ways to divide data types. For example You can divide them into *Scalers* which you can't sub-divide to further pieces(like a number) and non-scalers which you can sub-divide (like a list of numbers).\n",
    "\n",
    "Another way to categorize them is based on their origin:\n",
    "\n",
    "- Built-in Data Types\n",
    "- Data types that are not built into the interpreter\n",
    "\n",
    "Here we mainly talk about the built-in data types which can be divided into the following types:\n",
    "\n",
    "<img src=\"Images/data_types.jpeg\">\n",
    "\n",
    "Notice that this isn’t how [Python documentation](https://docs.python.org/2/library/stdtypes.html) divides data types but in my opinion the official documentation may seem a bit confusing for a reader which is facing this argument for the first time."
   ]
  },
  {
   "cell_type": "markdown",
   "metadata": {},
   "source": [
    "## Numeric Types\n"
   ]
  },
  {
   "cell_type": "markdown",
   "metadata": {},
   "source": [
    "The easiest data type to work with are “Numbers” category, since all of us has a good grasp of it and already know what we should expect to see when someone talks about numbers!\n",
    "\n",
    "Two main sub-types of numbers which we see together are:\n",
    "\n",
    "- Integers\n",
    "- Floats\n",
    "\n",
    "(Two other numeric sub-types are long and complex which we won’t discuss here)"
   ]
  },
  {
   "cell_type": "markdown",
   "metadata": {},
   "source": [
    "### Integers"
   ]
  },
  {
   "cell_type": "markdown",
   "metadata": {},
   "source": [
    "Integers are numbers without decimal points:"
   ]
  },
  {
   "cell_type": "code",
   "execution_count": 7,
   "metadata": {},
   "outputs": [
    {
     "data": {
      "text/plain": [
       "2"
      ]
     },
     "execution_count": 7,
     "metadata": {},
     "output_type": "execute_result"
    }
   ],
   "source": [
    "1 + 1"
   ]
  },
  {
   "cell_type": "code",
   "execution_count": 43,
   "metadata": {},
   "outputs": [],
   "source": [
    "f = 1 + 1"
   ]
  },
  {
   "cell_type": "code",
   "execution_count": 44,
   "metadata": {},
   "outputs": [
    {
     "data": {
      "text/plain": [
       "int"
      ]
     },
     "execution_count": 44,
     "metadata": {},
     "output_type": "execute_result"
    }
   ],
   "source": [
    "type(f)"
   ]
  },
  {
   "cell_type": "code",
   "execution_count": 13,
   "metadata": {},
   "outputs": [
    {
     "data": {
      "text/plain": [
       "int"
      ]
     },
     "execution_count": 13,
     "metadata": {},
     "output_type": "execute_result"
    }
   ],
   "source": [
    "type(1 + 1)"
   ]
  },
  {
   "cell_type": "code",
   "execution_count": 8,
   "metadata": {},
   "outputs": [
    {
     "data": {
      "text/plain": [
       "1256"
      ]
     },
     "execution_count": 8,
     "metadata": {},
     "output_type": "execute_result"
    }
   ],
   "source": [
    "1256"
   ]
  },
  {
   "cell_type": "code",
   "execution_count": 46,
   "metadata": {},
   "outputs": [
    {
     "data": {
      "text/plain": [
       "int"
      ]
     },
     "execution_count": 46,
     "metadata": {},
     "output_type": "execute_result"
    }
   ],
   "source": [
    "type(34572765 * 6779_625_645)"
   ]
  },
  {
   "cell_type": "markdown",
   "metadata": {},
   "source": [
    "You can easily check if a number is integer or not. The only thing you need to do is use **_type( )_** built-in function (more on built-in functions later) . The result should be **_int_** as you see below:"
   ]
  },
  {
   "cell_type": "code",
   "execution_count": 10,
   "metadata": {},
   "outputs": [
    {
     "data": {
      "text/plain": [
       "int"
      ]
     },
     "execution_count": 10,
     "metadata": {},
     "output_type": "execute_result"
    }
   ],
   "source": [
    "type(452347)"
   ]
  },
  {
   "cell_type": "code",
   "execution_count": 14,
   "metadata": {},
   "outputs": [
    {
     "data": {
      "text/plain": [
       "int"
      ]
     },
     "execution_count": 14,
     "metadata": {},
     "output_type": "execute_result"
    }
   ],
   "source": [
    "type(1_456_099)"
   ]
  },
  {
   "cell_type": "markdown",
   "metadata": {},
   "source": [
    "### Floats"
   ]
  },
  {
   "cell_type": "markdown",
   "metadata": {},
   "source": [
    "In Python language numbers with decimal are known as Floats:"
   ]
  },
  {
   "cell_type": "code",
   "execution_count": 12,
   "metadata": {},
   "outputs": [
    {
     "data": {
      "text/plain": [
       "3.14159"
      ]
     },
     "execution_count": 12,
     "metadata": {},
     "output_type": "execute_result"
    }
   ],
   "source": [
    "3.14159"
   ]
  },
  {
   "cell_type": "code",
   "execution_count": 47,
   "metadata": {},
   "outputs": [
    {
     "data": {
      "text/plain": [
       "float"
      ]
     },
     "execution_count": 47,
     "metadata": {},
     "output_type": "execute_result"
    }
   ],
   "source": [
    "type(3.14159)"
   ]
  },
  {
   "cell_type": "code",
   "execution_count": 16,
   "metadata": {},
   "outputs": [
    {
     "data": {
      "text/plain": [
       "str"
      ]
     },
     "execution_count": 16,
     "metadata": {},
     "output_type": "execute_result"
    }
   ],
   "source": [
    "type('I am not a cat')"
   ]
  },
  {
   "cell_type": "code",
   "execution_count": 14,
   "metadata": {},
   "outputs": [
    {
     "data": {
      "text/plain": [
       "float"
      ]
     },
     "execution_count": 14,
     "metadata": {},
     "output_type": "execute_result"
    }
   ],
   "source": [
    "type(768.90)"
   ]
  },
  {
   "cell_type": "markdown",
   "metadata": {},
   "source": [
    "### Integer and Float operations"
   ]
  },
  {
   "cell_type": "markdown",
   "metadata": {},
   "source": [
    "Let's do some basic arithmatic and see the result data types:"
   ]
  },
  {
   "cell_type": "code",
   "execution_count": 23,
   "metadata": {},
   "outputs": [
    {
     "name": "stdout",
     "output_type": "stream",
     "text": [
      "1936.34\n",
      "<class 'float'>\n"
     ]
    }
   ],
   "source": [
    "a = 1_869 + 67.34\n",
    "print(a)\n",
    "print(type(a))"
   ]
  },
  {
   "cell_type": "code",
   "execution_count": 22,
   "metadata": {},
   "outputs": [
    {
     "name": "stdout",
     "output_type": "stream",
     "text": [
      "67.34\n",
      "<class 'float'>\n"
     ]
    }
   ],
   "source": [
    "a = 1 * 67.34\n",
    "print(a)\n",
    "print(type(a))"
   ]
  },
  {
   "cell_type": "code",
   "execution_count": 19,
   "metadata": {},
   "outputs": [
    {
     "name": "stdout",
     "output_type": "stream",
     "text": [
      "23.0\n",
      "<class 'float'>\n"
     ]
    }
   ],
   "source": [
    "a = 12.5 + 10.5\n",
    "print(a)\n",
    "print(type(a))"
   ]
  },
  {
   "cell_type": "code",
   "execution_count": 51,
   "metadata": {},
   "outputs": [
    {
     "name": "stdout",
     "output_type": "stream",
     "text": [
      "6.0\n",
      "<class 'float'>\n"
     ]
    }
   ],
   "source": [
    "a = 12. / 2\n",
    "print(a)\n",
    "print(type(a))"
   ]
  },
  {
   "cell_type": "markdown",
   "metadata": {},
   "source": [
    "To summarize:\n",
    "- **int** (+ or - or \\*) **int** = **int**\n",
    "- **float** (+ or - or \\*) **float** = **float**\n",
    "- **int** / **int** = **float**\n",
    "- **int** / **float** = **float**\n",
    "- **float** / **float** = **float**"
   ]
  },
  {
   "cell_type": "markdown",
   "metadata": {},
   "source": [
    "### Integer and Float conversion (Cast)"
   ]
  },
  {
   "cell_type": "markdown",
   "metadata": {},
   "source": [
    "Using **_float( )_** and **_int( )_** we can convert integers to floats and vice versa:"
   ]
  },
  {
   "cell_type": "code",
   "execution_count": 61,
   "metadata": {},
   "outputs": [
    {
     "name": "stdout",
     "output_type": "stream",
     "text": [
      "34.67\n"
     ]
    }
   ],
   "source": [
    "val = 34.67\n",
    "type(val)\n",
    "int(val)\n",
    "print(val)"
   ]
  },
  {
   "cell_type": "code",
   "execution_count": 63,
   "metadata": {},
   "outputs": [
    {
     "name": "stdout",
     "output_type": "stream",
     "text": [
      "45\n",
      "347\n"
     ]
    }
   ],
   "source": [
    "print(int(45.89)) # convert float to int\n",
    "print(int('347')) # convert string to int"
   ]
  },
  {
   "cell_type": "code",
   "execution_count": 64,
   "metadata": {},
   "outputs": [
    {
     "ename": "ValueError",
     "evalue": "invalid literal for int() with base 10: '56.76'",
     "output_type": "error",
     "traceback": [
      "\u001b[0;31m---------------------------------------------------------------------------\u001b[0m",
      "\u001b[0;31mValueError\u001b[0m                                Traceback (most recent call last)",
      "\u001b[0;32m<ipython-input-64-08b93c87baf5>\u001b[0m in \u001b[0;36m<module>\u001b[0;34m\u001b[0m\n\u001b[1;32m      1\u001b[0m \"\"\"if you want to convert a string to int, the string MUST have\n\u001b[1;32m      2\u001b[0m the form of an integer\"\"\"\n\u001b[0;32m----> 3\u001b[0;31m \u001b[0mprint\u001b[0m\u001b[0;34m(\u001b[0m\u001b[0mint\u001b[0m\u001b[0;34m(\u001b[0m\u001b[0;34m'56.76'\u001b[0m\u001b[0;34m)\u001b[0m\u001b[0;34m)\u001b[0m \u001b[0;31m# this one doesn't work!\u001b[0m\u001b[0;34m\u001b[0m\u001b[0;34m\u001b[0m\u001b[0m\n\u001b[0m",
      "\u001b[0;31mValueError\u001b[0m: invalid literal for int() with base 10: '56.76'"
     ]
    }
   ],
   "source": [
    "\"\"\"if you want to convert a string to int, the string MUST have\n",
    "the form of an integer\"\"\"\n",
    "print(int('56.76')) # this one doesn't work!"
   ]
  },
  {
   "cell_type": "code",
   "execution_count": 65,
   "metadata": {},
   "outputs": [
    {
     "name": "stdout",
     "output_type": "stream",
     "text": [
      "56\n"
     ]
    }
   ],
   "source": [
    "print(int(float('56.76'))) # this one does, why?"
   ]
  },
  {
   "cell_type": "code",
   "execution_count": 32,
   "metadata": {},
   "outputs": [
    {
     "data": {
      "text/plain": [
       "4.0"
      ]
     },
     "execution_count": 32,
     "metadata": {},
     "output_type": "execute_result"
    }
   ],
   "source": [
    "# The same thing is not true for converting string to float.\n",
    "# it means the conversion works even if the string doesn't have the form of a \n",
    "# float\n",
    "float('4')"
   ]
  },
  {
   "cell_type": "markdown",
   "metadata": {},
   "source": [
    "  "
   ]
  },
  {
   "cell_type": "markdown",
   "metadata": {},
   "source": [
    "<img src=\"Images/student.svg\"   width=\"30\" align=\"left\">               "
   ]
  },
  {
   "cell_type": "markdown",
   "metadata": {},
   "source": [
    "**YOUR TURN :** Considering **a = 3.14**, which code results in 3 ?"
   ]
  },
  {
   "cell_type": "markdown",
   "metadata": {},
   "source": [
    "- A : floor(a)\n",
    "- B: float(int(a))\n",
    "- C : int(10 // a)\n",
    "- D : None of above"
   ]
  },
  {
   "cell_type": "markdown",
   "metadata": {},
   "source": [
    "## Strings"
   ]
  },
  {
   "cell_type": "markdown",
   "metadata": {},
   "source": [
    "Strings can hold almost anything in character form, including text, symbols, and digits.\n",
    "\n",
    "As an example let's take a look at a list (more on lists later) with 7 strings inside:"
   ]
  },
  {
   "cell_type": "code",
   "execution_count": null,
   "metadata": {},
   "outputs": [],
   "source": [
    "['a simple text',\n",
    " \n",
    " \n",
    "\"R3a11ySm4rTP@$swo0rD\",\n",
    " \n",
    " \n",
    "'navidnobani',\n",
    " \n",
    " \n",
    "'1366',\n",
    " \n",
    " \n",
    "'7945-1414 box',\n",
    " \n",
    "\"cane\",\n",
    " \n",
    "\"\"\"I really hate these \n",
    "        !@$&ing trains\"\"\"]"
   ]
  },
  {
   "cell_type": "code",
   "execution_count": 74,
   "metadata": {},
   "outputs": [
    {
     "data": {
      "text/plain": [
       "\"I'cant sleep\""
      ]
     },
     "execution_count": 74,
     "metadata": {},
     "output_type": "execute_result"
    }
   ],
   "source": [
    "\"I'cant sleep\""
   ]
  },
  {
   "cell_type": "code",
   "execution_count": 75,
   "metadata": {},
   "outputs": [
    {
     "data": {
      "text/plain": [
       "\"I'cant sleep\""
      ]
     },
     "execution_count": 75,
     "metadata": {},
     "output_type": "execute_result"
    }
   ],
   "source": [
    "'I\\'cant sleep'"
   ]
  },
  {
   "cell_type": "markdown",
   "metadata": {},
   "source": [
    "Roughly, we can define strings as : everything that comes between ' ', \" \" or \"\"\" \"\"\". (Remember that this is a simplistic definition and not the whole story!). You may ask why we need to have three different ways to create a string? that's a good question! While no matter which you use, the outcome is always the same string object (For example for python 'cane', \"cane\" and \"\"\"cane\"\"\" are exactly the same), there are certain situations which you should use them wisely. Suppose we want to create the following string:\n",
    "\n",
    "> **I can't go to work today**\n",
    "\n",
    "let's try to use \" \" first:"
   ]
  },
  {
   "cell_type": "code",
   "execution_count": 20,
   "metadata": {},
   "outputs": [
    {
     "data": {
      "text/plain": [
       "\"I can't go to work today\""
      ]
     },
     "execution_count": 20,
     "metadata": {},
     "output_type": "execute_result"
    }
   ],
   "source": [
    "\"I can't go to work today\" # works perfectly!"
   ]
  },
  {
   "cell_type": "markdown",
   "metadata": {},
   "source": [
    "and now \"\"\" \"\"\":"
   ]
  },
  {
   "cell_type": "code",
   "execution_count": 21,
   "metadata": {},
   "outputs": [
    {
     "data": {
      "text/plain": [
       "\"I can't go to work today\""
      ]
     },
     "execution_count": 21,
     "metadata": {},
     "output_type": "execute_result"
    }
   ],
   "source": [
    "\"\"\"I can't go to work today\"\"\" # another success! :D"
   ]
  },
  {
   "cell_type": "markdown",
   "metadata": {},
   "source": [
    "and finally   ' '  :"
   ]
  },
  {
   "cell_type": "code",
   "execution_count": 22,
   "metadata": {},
   "outputs": [
    {
     "ename": "SyntaxError",
     "evalue": "invalid syntax (<ipython-input-22-62eb89c1839b>, line 1)",
     "output_type": "error",
     "traceback": [
      "\u001b[0;36m  File \u001b[0;32m\"<ipython-input-22-62eb89c1839b>\"\u001b[0;36m, line \u001b[0;32m1\u001b[0m\n\u001b[0;31m    'I can't go to work today'\u001b[0m\n\u001b[0m           ^\u001b[0m\n\u001b[0;31mSyntaxError\u001b[0m\u001b[0;31m:\u001b[0m invalid syntax\n"
     ]
    }
   ],
   "source": [
    "'I can't go to work today'"
   ]
  },
  {
   "cell_type": "markdown",
   "metadata": {},
   "source": [
    "Wait, what is **invalid syntax** now! We get such an error when Python thinks what you have written doesn't make sense! To understand better what is a **Syntax Error** let's see an example of natural language:\n",
    "- This is a correct sentence $\\rightarrow $ *Marco easts sandwich* $\\rightarrow $ (noun) (verb) (noun)\n",
    "- This is a **Syntactically wrong** sentence $\\rightarrow $ *Marco cat sandwich* $\\rightarrow $ (noun) (noun) (noun)\n",
    "\n",
    "So does it mean any (noun) (verb) (noun) gives us a correct combination? Yes and No! Yes because (noun) (verb) (noun) is a **Syntactically correct** sentence but it might still be meaningless $\\rightarrow $ Marco listens sandwich ( It has a **static semantic error** )\n",
    "\n",
    "The same thing exists in Python:\n",
    "- *'Seven'11* is Syntactically wrong because Python can't  understand what do you mean by (str)(int) $\\rightarrow $ **SyntaxError**\n",
    "\n",
    "- *'seven' * 'two'* is also wrong but not Syntactically because although Python can understand what is your goal, (multiplying two strings) it can't do it $\\rightarrow $ **TypeError**\n",
    "\n",
    "\n",
    "Back to our exampole in the last cell, can you figure out what is the problem? (of course you can!)\n",
    "There are two solutions here:\n",
    "- using alternative strings as we did before (' ' or \" \" )\n",
    "- using a character scape : In Python (and other programming languages) certain characters has a reserved role. It means not all the characters for python have the same characteristic behind the scene. In order to force Python to ignore the special role of certain characters like **\\'** or **\\\"** we can use a backslash :"
   ]
  },
  {
   "cell_type": "code",
   "execution_count": 27,
   "metadata": {},
   "outputs": [
    {
     "data": {
      "text/plain": [
       "\"I can't go to work today\""
      ]
     },
     "execution_count": 27,
     "metadata": {},
     "output_type": "execute_result"
    }
   ],
   "source": [
    "'I can\\'t go to work today'"
   ]
  },
  {
   "cell_type": "markdown",
   "metadata": {},
   "source": [
    "Now let's try to write a multi-line string :"
   ]
  },
  {
   "cell_type": "code",
   "execution_count": 28,
   "metadata": {},
   "outputs": [
    {
     "ename": "SyntaxError",
     "evalue": "EOL while scanning string literal (<ipython-input-28-d14d2b016c36>, line 1)",
     "output_type": "error",
     "traceback": [
      "\u001b[0;36m  File \u001b[0;32m\"<ipython-input-28-d14d2b016c36>\"\u001b[0;36m, line \u001b[0;32m1\u001b[0m\n\u001b[0;31m    'some\u001b[0m\n\u001b[0m         ^\u001b[0m\n\u001b[0;31mSyntaxError\u001b[0m\u001b[0;31m:\u001b[0m EOL while scanning string literal\n"
     ]
    }
   ],
   "source": [
    "'some\n",
    "thing\n",
    "long'"
   ]
  },
  {
   "cell_type": "code",
   "execution_count": 29,
   "metadata": {},
   "outputs": [
    {
     "ename": "SyntaxError",
     "evalue": "EOL while scanning string literal (<ipython-input-29-3044f7f10f02>, line 1)",
     "output_type": "error",
     "traceback": [
      "\u001b[0;36m  File \u001b[0;32m\"<ipython-input-29-3044f7f10f02>\"\u001b[0;36m, line \u001b[0;32m1\u001b[0m\n\u001b[0;31m    \"some\u001b[0m\n\u001b[0m         ^\u001b[0m\n\u001b[0;31mSyntaxError\u001b[0m\u001b[0;31m:\u001b[0m EOL while scanning string literal\n"
     ]
    }
   ],
   "source": [
    "\"some\n",
    "thing\n",
    "long\""
   ]
  },
  {
   "cell_type": "code",
   "execution_count": 82,
   "metadata": {},
   "outputs": [
    {
     "name": "stdout",
     "output_type": "stream",
     "text": [
      "just\n",
      "write\tsomething\n"
     ]
    }
   ],
   "source": [
    "print('just\\nwrite\\tsomething')"
   ]
  },
  {
   "cell_type": "code",
   "execution_count": 86,
   "metadata": {},
   "outputs": [
    {
     "name": "stdout",
     "output_type": "stream",
     "text": [
      "3.14\n"
     ]
    }
   ],
   "source": [
    "print(a)"
   ]
  },
  {
   "cell_type": "code",
   "execution_count": 84,
   "metadata": {},
   "outputs": [
    {
     "name": "stdout",
     "output_type": "stream",
     "text": [
      "some\n",
      "thing\n",
      "long\n"
     ]
    }
   ],
   "source": [
    "print(\"\"\"some\n",
    "thing\n",
    "long\"\"\")"
   ]
  },
  {
   "cell_type": "code",
   "execution_count": 87,
   "metadata": {},
   "outputs": [
    {
     "data": {
      "text/plain": [
       "'some\\nthing\\nlong'"
      ]
     },
     "execution_count": 87,
     "metadata": {},
     "output_type": "execute_result"
    }
   ],
   "source": [
    "\"\"\"some\n",
    "thing\n",
    "long\"\"\""
   ]
  },
  {
   "cell_type": "markdown",
   "metadata": {},
   "source": [
    "Well' it seems working but what are those weird **\\n** s in the middle? **\\n** is one of the [Python literals](https://docs.python.org/2.0/ref/strings.html) that is used to indicated a new line. We don't go into details here but remember what we have said before about the characters with special meaning and how sometimes we need to escape them. As the last example let's try to make a string of the current notebook's path:\n",
    "\n",
    "**C:\\Documents\\Newsletters\\Summer2018.pdf**"
   ]
  },
  {
   "cell_type": "code",
   "execution_count": 89,
   "metadata": {},
   "outputs": [
    {
     "name": "stdout",
     "output_type": "stream",
     "text": [
      "ciao\\ciao\n"
     ]
    }
   ],
   "source": [
    "print('ciao\\ciao')"
   ]
  },
  {
   "cell_type": "code",
   "execution_count": 98,
   "metadata": {},
   "outputs": [
    {
     "ename": "SyntaxError",
     "evalue": "(unicode error) 'unicodeescape' codec can't decode bytes in position 12-13: malformed \\N character escape (<ipython-input-98-57d006e5170f>, line 1)",
     "output_type": "error",
     "traceback": [
      "\u001b[0;36m  File \u001b[0;32m\"<ipython-input-98-57d006e5170f>\"\u001b[0;36m, line \u001b[0;32m1\u001b[0m\n\u001b[0;31m    print('C:\\Documents\\Newsletters\\Summer2018.pdf')\u001b[0m\n\u001b[0m         ^\u001b[0m\n\u001b[0;31mSyntaxError\u001b[0m\u001b[0;31m:\u001b[0m (unicode error) 'unicodeescape' codec can't decode bytes in position 12-13: malformed \\N character escape\n"
     ]
    }
   ],
   "source": [
    "print('C:\\Documents\\Newsletters\\Summer2018.pdf')"
   ]
  },
  {
   "cell_type": "markdown",
   "metadata": {},
   "source": [
    "As you can see we're getting a SyntaxError again. The reason is that Python thinks we want to use \\n but we wrote \\N instead. Since our goal here is not to indicate a new line (\\n) but to use **\\\\** as part of string, we need to escape this special character. How can we do it?\n",
    "\n",
    "By using **\\\\** itself! When Python sees **\\\\** is understands that you don't want to use special meaning of **\\\\** but you actually need to use backslash itself:"
   ]
  },
  {
   "cell_type": "code",
   "execution_count": 99,
   "metadata": {},
   "outputs": [
    {
     "data": {
      "text/plain": [
       "'C:\\\\Documents\\\\Newsletters\\\\Summer2018.pdf'"
      ]
     },
     "execution_count": 99,
     "metadata": {},
     "output_type": "execute_result"
    }
   ],
   "source": [
    "'C:\\Documents\\\\Newsletters\\Summer2018.pdf'"
   ]
  },
  {
   "cell_type": "code",
   "execution_count": 96,
   "metadata": {},
   "outputs": [
    {
     "name": "stdout",
     "output_type": "stream",
     "text": [
      "C:\\Documents\\Newsletters\\Summer2018.pdf\n"
     ]
    }
   ],
   "source": [
    "print('C:\\Documents\\\\Newsletters\\Summer2018.pdf')"
   ]
  },
  {
   "cell_type": "markdown",
   "metadata": {},
   "source": [
    "Before going to the next part which is about string operations, let's do  quick recap about what we have seen before. As you remember we've said that we can convert floats to integers (cast them) and vice versa and also a string to float or integer. The same thing exists in the contrary way: we can convert integers and floats to strings:"
   ]
  },
  {
   "cell_type": "code",
   "execution_count": 1,
   "metadata": {},
   "outputs": [
    {
     "name": "stdout",
     "output_type": "stream",
     "text": [
      "73456\n",
      "<class 'int'>\n"
     ]
    }
   ],
   "source": [
    "customer_id = 73456\n",
    "print(customer_id)\n",
    "print(type(customer_id))"
   ]
  },
  {
   "cell_type": "code",
   "execution_count": 101,
   "metadata": {},
   "outputs": [
    {
     "data": {
      "text/plain": [
       "43"
      ]
     },
     "execution_count": 101,
     "metadata": {},
     "output_type": "execute_result"
    }
   ],
   "source": [
    "int('43')"
   ]
  },
  {
   "cell_type": "code",
   "execution_count": 2,
   "metadata": {},
   "outputs": [
    {
     "name": "stdout",
     "output_type": "stream",
     "text": [
      "73456\n",
      "<class 'str'>\n"
     ]
    }
   ],
   "source": [
    "customer_id_str = str(customer_id)\n",
    "print(customer_id_str)\n",
    "print(type(customer_id_str))"
   ]
  },
  {
   "cell_type": "markdown",
   "metadata": {},
   "source": [
    "### Common string operations"
   ]
  },
  {
   "cell_type": "markdown",
   "metadata": {},
   "source": [
    "Having a string, you can apply on it a wide variety of string methods in order to modify it. There are dozens of operations which you can find [here](https://docs.python.org/2/library/string.html). We'll see together the mostly used ones:"
   ]
  },
  {
   "cell_type": "markdown",
   "metadata": {},
   "source": [
    "#### Split"
   ]
  },
  {
   "cell_type": "markdown",
   "metadata": {},
   "source": [
    "Returns a list of pieces of original string cut on the indicated string."
   ]
  },
  {
   "cell_type": "code",
   "execution_count": 109,
   "metadata": {},
   "outputs": [
    {
     "name": "stdout",
     "output_type": "stream",
     "text": [
      "a foo bar ham\n"
     ]
    }
   ],
   "source": [
    "print('a', 'foo', 'bar', 'ham')"
   ]
  },
  {
   "cell_type": "code",
   "execution_count": 49,
   "metadata": {},
   "outputs": [
    {
     "name": "stdout",
     "output_type": "stream",
     "text": [
      "This is a Python course\n",
      "['This', 'is', 'a', 'Python', 'course']\n"
     ]
    }
   ],
   "source": [
    "text = 'This is a Python course'\n",
    "print(text)\n",
    "text = text.split(sep=' ')\n",
    "print(text)"
   ]
  },
  {
   "cell_type": "code",
   "execution_count": 112,
   "metadata": {},
   "outputs": [
    {
     "name": "stdout",
     "output_type": "stream",
     "text": [
      "I saw the guy, and suddenly he disappeared\n",
      "['I saw the guy', ' and suddenly he disappeared']\n"
     ]
    }
   ],
   "source": [
    "text = 'I saw the guy, and suddenly he disappeared'\n",
    "print(text)\n",
    "text = text.split(',') # notice that I wrote ',' instead of sep=','\n",
    "print(text)"
   ]
  },
  {
   "cell_type": "markdown",
   "metadata": {},
   "source": [
    "#### Slicing"
   ]
  },
  {
   "cell_type": "markdown",
   "metadata": {},
   "source": [
    "Cutting the string in a way to have new string which is the subset of the original string.\n",
    "\n",
    "Actually, before explaining slicing, we need to learn a principal concept in Python : Indexing.\n",
    "Suppose you have a box with 11 pens in it. If you want to take out them one by one and count them, most probably you'll go with:\n",
    "- One\n",
    "- Two\n",
    "- ...\n",
    "- Eleven\n",
    "\n",
    "It means, you're using a 1-based index, you indicate the first item with number 1. Python on the other hand, uses a 0-based index. It means it refers to the first object as number(index) 0. So to count the pens in our example, Python goes:\n",
    "- Zero\n",
    "- One\n",
    "- ...\n",
    "- ten\n",
    "\n",
    "Ok, now that we know how Python indexing works, we can see string indexing.\n",
    "In Python Indexing/slicing is not limited to strings, instead, we can slice/index any object that can be considered as a group of objects. That being said, It should be clear now that for example the string: \"cane\" while considered as a string object is also seen as a container(not as a technical definition) of \"c\", \"a\", \"n\" and \"e\" with indexes 0, 1, 2 and 3. It means we can slice this string using their indexes. Let's see an example:\n",
    "\n",
    "suppose we have this string: \"NEW YORK\" and we want to get the first 3 letters. The indexes are show below:\n",
    "\n",
    "<img src=\"Images/slice.png\" width=\"500\">\n",
    "\n"
   ]
  },
  {
   "cell_type": "code",
   "execution_count": 114,
   "metadata": {},
   "outputs": [
    {
     "data": {
      "text/plain": [
       "'New York'"
      ]
     },
     "execution_count": 114,
     "metadata": {},
     "output_type": "execute_result"
    }
   ],
   "source": [
    "'New York'"
   ]
  },
  {
   "cell_type": "code",
   "execution_count": 118,
   "metadata": {},
   "outputs": [
    {
     "data": {
      "text/plain": [
       "'York'"
      ]
     },
     "execution_count": 118,
     "metadata": {},
     "output_type": "execute_result"
    }
   ],
   "source": [
    "t = 'New York'\n",
    "t[4:]"
   ]
  },
  {
   "cell_type": "code",
   "execution_count": 121,
   "metadata": {},
   "outputs": [
    {
     "name": "stdout",
     "output_type": "stream",
     "text": [
      "E\n",
      "NEW\n",
      "\n",
      "NEW\n",
      "YORK\n"
     ]
    }
   ],
   "source": [
    "text = 'NEW YORK'\n",
    "print(text[1]) # E: second letter\n",
    "\n",
    "print(text[0:3]) # NEW\n",
    "print(text[40:80]) # YORK\n",
    "\n",
    "print(text[:3]) # NEW\n",
    "print(text[4:]) # YORK"
   ]
  },
  {
   "cell_type": "markdown",
   "metadata": {},
   "source": [
    "Indexes can be address not only from the beginning but also from the end:\n",
    "\n",
    "<img src=\"Images/slice_2.png\" width=\"500\"> "
   ]
  },
  {
   "cell_type": "code",
   "execution_count": 123,
   "metadata": {},
   "outputs": [
    {
     "name": "stdout",
     "output_type": "stream",
     "text": [
      "E\n",
      "NEW\n",
      "YORK\n",
      "NEW\n"
     ]
    }
   ],
   "source": [
    "text = 'NEW YORK'\n",
    "print(text[-7]) # E: second letter\n",
    "\n",
    "print(text[-8:-5]) # NEW\n",
    "print(text[-4:]) # YORK\n",
    "\n",
    "print(text[:-5]) # NEW\n"
   ]
  },
  {
   "cell_type": "markdown",
   "metadata": {},
   "source": [
    "Slicing has other options which give you more control. We won't cover them here but in this [site](https://www.pythoncentral.io/cutting-and-slicing-strings-in-python/) you can find some interesting examples."
   ]
  },
  {
   "cell_type": "markdown",
   "metadata": {},
   "source": [
    "\n",
    "\n",
    "\n",
    "\n"
   ]
  },
  {
   "cell_type": "code",
   "execution_count": 126,
   "metadata": {},
   "outputs": [],
   "source": [
    "parola = 'pipho'"
   ]
  },
  {
   "cell_type": "code",
   "execution_count": 128,
   "metadata": {},
   "outputs": [
    {
     "data": {
      "text/plain": [
       "'h'"
      ]
     },
     "execution_count": 128,
     "metadata": {},
     "output_type": "execute_result"
    }
   ],
   "source": [
    "parola[-2]"
   ]
  },
  {
   "cell_type": "markdown",
   "metadata": {},
   "source": [
    "#### Replace"
   ]
  },
  {
   "cell_type": "markdown",
   "metadata": {},
   "source": [
    "Returns a new version of the original string in which the str_to_be_replaced instances are replaced with str_to_be_replaced_with:"
   ]
  },
  {
   "cell_type": "code",
   "execution_count": 136,
   "metadata": {},
   "outputs": [
    {
     "name": "stdout",
     "output_type": "stream",
     "text": [
      "I love my cat and my little dog\n"
     ]
    }
   ],
   "source": [
    "text = 'I love my dog and my little dog'\n",
    "print(text.replace('dog', 'cat', 1))"
   ]
  },
  {
   "cell_type": "code",
   "execution_count": 137,
   "metadata": {},
   "outputs": [
    {
     "data": {
      "text/plain": [
       "'tavolo gatto'"
      ]
     },
     "execution_count": 137,
     "metadata": {},
     "output_type": "execute_result"
    }
   ],
   "source": [
    "t = 'tavolo cavolo'\n",
    "t.replace('cavolo', 'gatto')"
   ]
  },
  {
   "cell_type": "markdown",
   "metadata": {},
   "source": [
    "#### Concatenation"
   ]
  },
  {
   "cell_type": "markdown",
   "metadata": {},
   "source": [
    "concatenation allows you to create new strings but concatenating existing string together , using \"+\":"
   ]
  },
  {
   "cell_type": "code",
   "execution_count": 138,
   "metadata": {},
   "outputs": [
    {
     "name": "stdout",
     "output_type": "stream",
     "text": [
      "Hello World!\n"
     ]
    }
   ],
   "source": [
    "text_1 = 'Hello'\n",
    "text_2 = 'World!'\n",
    "text_3 = text_1 + ' ' + text_2\n",
    "\n",
    "print(text_3)"
   ]
  },
  {
   "cell_type": "markdown",
   "metadata": {},
   "source": [
    "\n",
    "\n",
    " \n",
    " "
   ]
  },
  {
   "cell_type": "markdown",
   "metadata": {},
   "source": [
    "#### Strip"
   ]
  },
  {
   "cell_type": "markdown",
   "metadata": {},
   "source": [
    "Removes the given string from the beginning and end of the original string. Note: Like split( ) function, the default value of strip( ) function is space so if you run my_text.strip( ), it cleans my_text string from starting and ending spaces."
   ]
  },
  {
   "cell_type": "code",
   "execution_count": null,
   "metadata": {},
   "outputs": [],
   "source": [
    "print()"
   ]
  },
  {
   "cell_type": "code",
   "execution_count": 144,
   "metadata": {
    "scrolled": true
   },
   "outputs": [
    {
     "name": "stdout",
     "output_type": "stream",
     "text": [
      "Pirelli Spa\n",
      "Continental\n",
      "Python***\n"
     ]
    }
   ],
   "source": [
    "text_1 = ' Pirelli Spa '\n",
    "print(text_1.strip())\n",
    "\n",
    "text_2 = 'Continental -'\n",
    "print(text_2.strip('-').strip())\n",
    "\n",
    "text_3 = '*Python***'\n",
    "print(text_3.lstrip('*')) # There is also \"rsplit\""
   ]
  },
  {
   "cell_type": "markdown",
   "metadata": {},
   "source": [
    "\n",
    "\n",
    "\n",
    "\n"
   ]
  },
  {
   "cell_type": "markdown",
   "metadata": {},
   "source": [
    "Although not string operations, **print** and **len** function are Python built-in functions (more on this later) which can be used with different data types like strings, numbers, lists,..."
   ]
  },
  {
   "cell_type": "markdown",
   "metadata": {},
   "source": [
    "#### Printing a string"
   ]
  },
  {
   "cell_type": "markdown",
   "metadata": {},
   "source": [
    "**print** function prints(!) the input to the stdout(standard output). Note that not all the Python objects can be printed out."
   ]
  },
  {
   "cell_type": "code",
   "execution_count": 42,
   "metadata": {},
   "outputs": [
    {
     "name": "stdout",
     "output_type": "stream",
     "text": [
      "something\n",
      "----------------------------------------\n",
      "just a short text\n",
      "----------------------------------------\n",
      "My name is Navid\n",
      "----------------------------------------\n",
      "University of Bicocca\n",
      "----------------------------------------\n",
      "folder1/folder2/folder3/file\n"
     ]
    }
   ],
   "source": [
    "print('something')\n",
    "print('-'*40)\n",
    "\n",
    "text = 'just a short text'\n",
    "print(text)\n",
    "print('-'*40)\n",
    "\n",
    "text_1 = 'My name is'\n",
    "text_2 = 'Navid'\n",
    "print(text_1, text_2)\n",
    "print('-'*40)\n",
    "\n",
    "text_3 = 'University'\n",
    "text_4 = 'of'\n",
    "text_5 = 'Bicocca'\n",
    "print(text_3, text_4, text_5)\n",
    "print('-'*40)\n",
    "\n",
    "text_6 = 'folder1'\n",
    "text_7 = 'folder2'\n",
    "text_8 = 'folder3'\n",
    "text_9 = 'file'\n",
    "print(text_6, text_7, text_8, text_9, sep='/')"
   ]
  },
  {
   "cell_type": "markdown",
   "metadata": {},
   "source": [
    "#### String  length"
   ]
  },
  {
   "cell_type": "markdown",
   "metadata": {},
   "source": [
    "**len** returns the number of characters in the given string:"
   ]
  },
  {
   "cell_type": "code",
   "execution_count": 48,
   "metadata": {},
   "outputs": [
    {
     "name": "stdout",
     "output_type": "stream",
     "text": [
      "7\n",
      "6\n",
      "7\n"
     ]
    }
   ],
   "source": [
    "print(len('bicocca'))\n",
    "print(len('AC DC!'))\n",
    "print(len(' cane 1'))"
   ]
  },
  {
   "cell_type": "markdown",
   "metadata": {},
   "source": [
    "   "
   ]
  },
  {
   "cell_type": "markdown",
   "metadata": {},
   "source": [
    "<img src=\"Images/baby.svg\"   width=\"30\" align=\"left\">               "
   ]
  },
  {
   "cell_type": "markdown",
   "metadata": {},
   "source": [
    "**YOUR TURN :** Replace the spaces in the **target** with the 10th character of the **source**:"
   ]
  },
  {
   "cell_type": "code",
   "execution_count": 159,
   "metadata": {},
   "outputs": [],
   "source": [
    "source = '\\'\\'\\'ChUpAcHuPs\"/\"/\"/\"'\n",
    "target = 'pP pP pP sS sS sS cC cC cC'"
   ]
  },
  {
   "cell_type": "code",
   "execution_count": 161,
   "metadata": {},
   "outputs": [],
   "source": [
    "x = source[9]"
   ]
  },
  {
   "cell_type": "code",
   "execution_count": 162,
   "metadata": {},
   "outputs": [
    {
     "data": {
      "text/plain": [
       "'pPHpPHpPHsSHsSHsSHcCHcCHcC'"
      ]
     },
     "execution_count": 162,
     "metadata": {},
     "output_type": "execute_result"
    }
   ],
   "source": [
    "target.replace(' ', x)"
   ]
  },
  {
   "cell_type": "code",
   "execution_count": null,
   "metadata": {},
   "outputs": [],
   "source": [
    "(\\   .-.   .-.   .-.   .-.   .-.   .-.   .-.   .-.   /_\")\n",
    " \\\\_//^\\\\_//^\\\\_//^\\\\_//^\\\\_//^\\\\_//^\\\\_//^\\\\_//^\\\\_//\n",
    "  `\"`   `\"`   `\"`   `\"`   `\"`   `\"`   `\"`   `\"`   `\"`"
   ]
  },
  {
   "cell_type": "markdown",
   "metadata": {},
   "source": [
    "#### Other operations"
   ]
  },
  {
   "cell_type": "markdown",
   "metadata": {},
   "source": [
    "There are some operations that perform a transformation on strings:"
   ]
  },
  {
   "cell_type": "code",
   "execution_count": 46,
   "metadata": {},
   "outputs": [
    {
     "name": "stdout",
     "output_type": "stream",
     "text": [
      "milan\n",
      "MILAN\n",
      "Milan\n"
     ]
    }
   ],
   "source": [
    "text = 'MilaN'\n",
    "print(text.lower())\n",
    "print(text.upper())\n",
    "print(text.title())"
   ]
  },
  {
   "cell_type": "markdown",
   "metadata": {},
   "source": [
    "Being a strongly typed language, Python doesn't let you to use operations on objects unrelated to them. For example \"'Cat' + 3\" gives you a \"TypeError\" since addition operation is for numerical objects not strings:"
   ]
  },
  {
   "cell_type": "code",
   "execution_count": 163,
   "metadata": {},
   "outputs": [
    {
     "ename": "TypeError",
     "evalue": "unsupported operand type(s) for -: 'str' and 'int'",
     "output_type": "error",
     "traceback": [
      "\u001b[0;31m---------------------------------------------------------------------------\u001b[0m",
      "\u001b[0;31mTypeError\u001b[0m                                 Traceback (most recent call last)",
      "\u001b[0;32m<ipython-input-163-4e0850bb4bbf>\u001b[0m in \u001b[0;36m<module>\u001b[0;34m\u001b[0m\n\u001b[0;32m----> 1\u001b[0;31m \u001b[0;34m'cat'\u001b[0m \u001b[0;34m-\u001b[0m \u001b[0;36m3\u001b[0m\u001b[0;34m\u001b[0m\u001b[0;34m\u001b[0m\u001b[0m\n\u001b[0m",
      "\u001b[0;31mTypeError\u001b[0m: unsupported operand type(s) for -: 'str' and 'int'"
     ]
    }
   ],
   "source": [
    "'cat' - 3"
   ]
  },
  {
   "cell_type": "markdown",
   "metadata": {},
   "source": [
    "But at the same time, there are some exceptions. For example \"'cat' * 3\" works since Python assume that you want to repeat the string 'cat' , 3 times:"
   ]
  },
  {
   "cell_type": "code",
   "execution_count": 33,
   "metadata": {},
   "outputs": [
    {
     "data": {
      "text/plain": [
       "'catcatcat'"
      ]
     },
     "execution_count": 33,
     "metadata": {},
     "output_type": "execute_result"
    }
   ],
   "source": [
    "'cat' * 3"
   ]
  },
  {
   "cell_type": "markdown",
   "metadata": {},
   "source": [
    "## Fstrings"
   ]
  },
  {
   "cell_type": "markdown",
   "metadata": {},
   "source": [
    "fsrting is one of the _string formatting_ methods which in my opinion, is the best and easiest one!"
   ]
  },
  {
   "cell_type": "markdown",
   "metadata": {},
   "source": [
    "Imagine that you have a template which should fill with some info and print it:"
   ]
  },
  {
   "cell_type": "code",
   "execution_count": 1,
   "metadata": {},
   "outputs": [],
   "source": [
    "name = 'Fabio'\n",
    "surname = 'Mercorio'\n",
    "university = 'Milano-Bicocca'\n",
    "field = 'computer science'"
   ]
  },
  {
   "cell_type": "markdown",
   "metadata": {},
   "source": [
    "And this is the template:\n",
    "\n",
    " \\[name\\] \\[surname\\] is a \\[filed\\] professor in the \\[university\\] university."
   ]
  },
  {
   "cell_type": "markdown",
   "metadata": {},
   "source": [
    "One (bad) way we can get what we want is this:"
   ]
  },
  {
   "cell_type": "code",
   "execution_count": 3,
   "metadata": {},
   "outputs": [
    {
     "name": "stdout",
     "output_type": "stream",
     "text": [
      "Fabio Mercorio is a computer science professor in the Milano-Bicocca unversity.\n"
     ]
    }
   ],
   "source": [
    "print(name + ' ' + surname + ' is a ' + field + ' professor in the' + ' ' + university + ' unversity.')"
   ]
  },
  {
   "cell_type": "markdown",
   "metadata": {},
   "source": [
    "using fstings we can get the desired resuts in simplere way:"
   ]
  },
  {
   "cell_type": "code",
   "execution_count": 3,
   "metadata": {
    "scrolled": true
   },
   "outputs": [
    {
     "name": "stdout",
     "output_type": "stream",
     "text": [
      "Fabio Mercorio is a computer science professor in the Milano-Bicocca university.\n"
     ]
    }
   ],
   "source": [
    "print(f'{name} {surname} is a {field} professor in the {university} university.')"
   ]
  },
  {
   "cell_type": "markdown",
   "metadata": {},
   "source": [
    "\n",
    "\n",
    "\n",
    "\n"
   ]
  },
  {
   "cell_type": "markdown",
   "metadata": {},
   "source": [
    "## Booleans"
   ]
  },
  {
   "cell_type": "markdown",
   "metadata": {},
   "source": [
    "Booleans are are another core data type of Python which consist of only two values: **True** and **False**. Boolean values are mainly used when we're somehow comparing different values together. (More on comparisons later).\n",
    "In Python True has a value of 1 while False's value is 0. We can check this fact by converting them to integer:"
   ]
  },
  {
   "cell_type": "code",
   "execution_count": 39,
   "metadata": {},
   "outputs": [
    {
     "name": "stdout",
     "output_type": "stream",
     "text": [
      "1\n",
      "0\n"
     ]
    }
   ],
   "source": [
    "print(int(True))\n",
    "print(int(False))"
   ]
  },
  {
   "cell_type": "markdown",
   "metadata": {},
   "source": [
    "## Lists"
   ]
  },
  {
   "cell_type": "markdown",
   "metadata": {},
   "source": [
    "Lists are one of the most common sequence objects in Python which provide a collection of arbitrary type objects. Lists have several characteristics, like:\n",
    "- List can contain objects with different data types in the same time.\n",
    "- They are mutable.\n",
    "- There is no limit for their length."
   ]
  },
  {
   "cell_type": "code",
   "execution_count": 52,
   "metadata": {},
   "outputs": [],
   "source": [
    "list_A = [1, 'A', 234, 'BATMAN']\n",
    "list_B = ['Na',' Nana', 'Nanana']\n",
    "list_C = [134.05, 87.13, 109, 13.14, 530000, 19]"
   ]
  },
  {
   "cell_type": "code",
   "execution_count": 168,
   "metadata": {},
   "outputs": [],
   "source": [
    "listak = [1, 3, 'na', [1, 6, 8]]"
   ]
  },
  {
   "cell_type": "markdown",
   "metadata": {},
   "source": [
    "let's use some of functions we have used with Strings, this time with lists:"
   ]
  },
  {
   "cell_type": "code",
   "execution_count": 56,
   "metadata": {},
   "outputs": [
    {
     "name": "stdout",
     "output_type": "stream",
     "text": [
      "[1, 'A', 234, 'BATMAN']\n",
      "3\n",
      "13.14\n",
      "['A', 234]\n",
      "['Na', ' Nana', 'Nanana']\n"
     ]
    }
   ],
   "source": [
    "print(list_A) # print\n",
    "print(len(list_B)) # len\n",
    "print(list_C[3]) # slice : asking for just one item\n",
    "print(list_A[1:3]) # we're asking two items so the result will be a list\n",
    "print(list_B[:])"
   ]
  },
  {
   "cell_type": "markdown",
   "metadata": {},
   "source": [
    "Just like Strings, we can concatenate lists together:"
   ]
  },
  {
   "cell_type": "code",
   "execution_count": 173,
   "metadata": {},
   "outputs": [
    {
     "data": {
      "text/plain": [
       "'aagg'"
      ]
     },
     "execution_count": 173,
     "metadata": {},
     "output_type": "execute_result"
    }
   ],
   "source": [
    "'aa' + 'gg'"
   ]
  },
  {
   "cell_type": "code",
   "execution_count": 84,
   "metadata": {},
   "outputs": [
    {
     "data": {
      "text/plain": [
       "[1, 'ABC', 1.0, [4, 98, 11.567]]"
      ]
     },
     "execution_count": 84,
     "metadata": {},
     "output_type": "execute_result"
    }
   ],
   "source": [
    "[1, 'ABC'] + [1.0, [4, 98, 11.567]]\n",
    "# the same result can be achieved by using the following :\n",
    "# [1, 'ABC'].extend([1.0, [4, 98, 11.567]])"
   ]
  },
  {
   "cell_type": "markdown",
   "metadata": {},
   "source": [
    "Using **append** method we can add new items to the end of a list:"
   ]
  },
  {
   "cell_type": "code",
   "execution_count": 67,
   "metadata": {},
   "outputs": [
    {
     "name": "stdout",
     "output_type": "stream",
     "text": [
      "['A', 'B', 'C', 'D']\n"
     ]
    }
   ],
   "source": [
    "my_list = ['A', 'B', 'C']\n",
    "word = 'D'\n",
    "my_list.append(word)\n",
    "print(my_list)"
   ]
  },
  {
   "cell_type": "markdown",
   "metadata": {},
   "source": [
    "While append adds the new item at the end of the list, using **insert** you can insert the item in any inex you want:"
   ]
  },
  {
   "cell_type": "code",
   "execution_count": 190,
   "metadata": {},
   "outputs": [
    {
     "name": "stdout",
     "output_type": "stream",
     "text": [
      "['a', 'bar', 'foo', 'ham']\n"
     ]
    }
   ],
   "source": [
    "my_list = ['a', 'bar', 'foo']\n",
    "my_list.insert(len(my_list), 'ham') # it's equal to my_list.append('ham')\n",
    "print(my_list)"
   ]
  },
  {
   "cell_type": "code",
   "execution_count": 191,
   "metadata": {},
   "outputs": [
    {
     "name": "stdout",
     "output_type": "stream",
     "text": [
      "[4, 5, 1, 9]\n",
      "[9, 5, 4, 1]\n",
      "[1, 4, 5, 9]\n",
      "------------------------------\n",
      "[4, 9, 1, 8, 0]\n",
      "[0, 1, 4, 8, 9]\n",
      "[4, 9, 1, 8, 0]\n"
     ]
    }
   ],
   "source": [
    "small = [4, 5, 1, 9]\n",
    "print(small)\n",
    "small.sort(reverse=True) # Note that sort is an in-place function\n",
    "print(small)\n",
    "small.sort(reverse=False)\n",
    "print(small)\n",
    "\n",
    "print('-'*30)\n",
    "\n",
    "# unlike sort(), sorted creates a new copy of the list and doesn't change \n",
    "# the original list\n",
    "original = [4, 9, 1, 8, 0]\n",
    "print(original)\n",
    "print(sorted(original, reverse=False))\n",
    "print(original)"
   ]
  },
  {
   "cell_type": "markdown",
   "metadata": {},
   "source": [
    "**remove**, **pop** and **del** are used to remove an item from a list:"
   ]
  },
  {
   "cell_type": "code",
   "execution_count": 56,
   "metadata": {},
   "outputs": [
    {
     "name": "stdout",
     "output_type": "stream",
     "text": [
      "['B', 'C', 'A', 'D', 'A']\n"
     ]
    }
   ],
   "source": [
    "# remove\n",
    "\n",
    "list_1 = ['A', 'B', 'C', 'A', 'D', 'A']\n",
    "list_1.remove('A')\n",
    "print(list_1)"
   ]
  },
  {
   "cell_type": "code",
   "execution_count": 80,
   "metadata": {},
   "outputs": [
    {
     "name": "stdout",
     "output_type": "stream",
     "text": [
      "[1, 2, 4, 5, 6]\n",
      "[1, 2, 3, 4, 5]\n"
     ]
    }
   ],
   "source": [
    "# pop\n",
    "\n",
    "list_2 = [1, 2, 3, 4, 5, 6]\n",
    "list_2.pop(2)\n",
    "print(list_2)\n",
    "\n",
    "list_2 = [1, 2, 3, 4, 5, 6]\n",
    "list_2.pop()\n",
    "print(list_2)"
   ]
  },
  {
   "cell_type": "code",
   "execution_count": 82,
   "metadata": {},
   "outputs": [
    {
     "name": "stdout",
     "output_type": "stream",
     "text": [
      "[1, 2, 4, 5, 6]\n",
      "[1, 2, 3]\n"
     ]
    }
   ],
   "source": [
    "# del\n",
    "\n",
    "list_2 = [1, 2, 3, 4, 5, 6]\n",
    "del list_2[2]\n",
    "print(list_2)\n",
    "\n",
    "list_2 = [1, 2, 3, 4, 5, 6]\n",
    "del list_2[3:]\n",
    "print(list_2)"
   ]
  },
  {
   "cell_type": "markdown",
   "metadata": {},
   "source": [
    "Lists are mutable, it means we can change their contents in-place:"
   ]
  },
  {
   "cell_type": "code",
   "execution_count": 105,
   "metadata": {},
   "outputs": [
    {
     "name": "stdout",
     "output_type": "stream",
     "text": [
      "['spam', 'ham', 'bar', 'foo']\n"
     ]
    }
   ],
   "source": [
    "some_list = ['spam', 'ham', 'car', 'foo']\n",
    "some_list[2] = 'bar'\n",
    "print(some_list)"
   ]
  },
  {
   "cell_type": "markdown",
   "metadata": {},
   "source": [
    "As last, let's see how can we check if an item is in a list or not:"
   ]
  },
  {
   "cell_type": "code",
   "execution_count": 194,
   "metadata": {},
   "outputs": [
    {
     "name": "stdout",
     "output_type": "stream",
     "text": [
      "True\n"
     ]
    }
   ],
   "source": [
    "target_1 = 11\n",
    "my_vals = [1, 56, 876, 32, 11, 6, 9]\n",
    "\n",
    "print(target_1 in my_vals)"
   ]
  },
  {
   "cell_type": "markdown",
   "metadata": {},
   "source": [
    "It may seems useless since you can easily see if a certain value exists in a list but remember that not always deal with small lists which you can simply visualize. \n",
    "\n",
    "By using **not in** instead of **in** we can check if an item doesn't exists in a list:"
   ]
  },
  {
   "cell_type": "code",
   "execution_count": 42,
   "metadata": {},
   "outputs": [
    {
     "name": "stdout",
     "output_type": "stream",
     "text": [
      "False\n"
     ]
    }
   ],
   "source": [
    "target_2 = 32\n",
    "print(target_2 not in my_vals)"
   ]
  },
  {
   "cell_type": "markdown",
   "metadata": {},
   "source": [
    "   "
   ]
  },
  {
   "cell_type": "markdown",
   "metadata": {},
   "source": [
    "<img src=\"Images/student.svg\"   width=\"30\" align=\"left\">               "
   ]
  },
  {
   "cell_type": "markdown",
   "metadata": {},
   "source": [
    "**YOUR TURN :** Using slicing, get the letter **x** from final_list :"
   ]
  },
  {
   "cell_type": "code",
   "execution_count": 195,
   "metadata": {},
   "outputs": [
    {
     "name": "stdout",
     "output_type": "stream",
     "text": [
      "Original : [1, 4, 8, 'foo']\n",
      "First change : [1, 4, ['ham', '1', 2, 6], 'foo']\n",
      "Second change : [1, 4, ['ham', '1', 2, ['4', '2', 'xyz', '6']], 'foo']\n"
     ]
    }
   ],
   "source": [
    "my_list = [1, 4, 8, 'foo']\n",
    "your_list = ['ham', '1', 2, 6]\n",
    "his_list = ['4', '2', 'xyz', '6']\n",
    "\n",
    "\n",
    "print(f'Original : {my_list}')\n",
    "my_list[-2] = your_list\n",
    "\n",
    "print(f'First change : {my_list}')\n",
    "my_list[-2][-1] = his_list\n",
    "\n",
    "print(f'Second change : {my_list}')\n",
    "final_list = my_list"
   ]
  },
  {
   "cell_type": "code",
   "execution_count": 198,
   "metadata": {},
   "outputs": [
    {
     "data": {
      "text/plain": [
       "[1, 4, ['ham', '1', 2, ['4', '2', 'xyz', '6']], 'foo']"
      ]
     },
     "execution_count": 198,
     "metadata": {},
     "output_type": "execute_result"
    }
   ],
   "source": [
    "final_list"
   ]
  },
  {
   "cell_type": "code",
   "execution_count": null,
   "metadata": {},
   "outputs": [],
   "source": [
    "(\\   .-.   .-.   .-.   .-.   .-.   .-.   .-.   .-.   /_\")\n",
    " \\\\_//^\\\\_//^\\\\_//^\\\\_//^\\\\_//^\\\\_//^\\\\_//^\\\\_//^\\\\_//\n",
    "  `\"`   `\"`   `\"`   `\"`   `\"`   `\"`   `\"`   `\"`   `\"`"
   ]
  },
  {
   "cell_type": "markdown",
   "metadata": {},
   "source": [
    "## A recap before we go further"
   ]
  },
  {
   "cell_type": "code",
   "execution_count": null,
   "metadata": {},
   "outputs": [],
   "source": [
    "age = 31.5\n",
    "city = 'Milano'\n",
    "glasses = True\n",
    "pets = ['Oliver -1.5', 'Zolli -9']"
   ]
  },
  {
   "cell_type": "code",
   "execution_count": null,
   "metadata": {},
   "outputs": [],
   "source": [
    "# convert the age to integer\n",
    "age = "
   ]
  },
  {
   "cell_type": "code",
   "execution_count": null,
   "metadata": {},
   "outputs": [],
   "source": [
    "# lowecase the city\n",
    "city = "
   ]
  },
  {
   "cell_type": "code",
   "execution_count": null,
   "metadata": {},
   "outputs": [],
   "source": [
    "#create two variables containing pet ages\n",
    "o_age = \n",
    "z_age = "
   ]
  },
  {
   "cell_type": "code",
   "execution_count": null,
   "metadata": {},
   "outputs": [],
   "source": [
    "# add the pets ages to a new list\n",
    "pets_age = "
   ]
  },
  {
   "cell_type": "markdown",
   "metadata": {},
   "source": [
    "## Dictionaries"
   ]
  },
  {
   "cell_type": "markdown",
   "metadata": {},
   "source": [
    "Dictionaries, Like a lists, are built-in sequence objects which can contain different data types. The main difference between lists and dictionaries is that unlike lists, dictionaries are not ordered collection of items, and as a result you can access their contents using indexes and positions. Instead dictionaries can be accessed using a key:value method."
   ]
  },
  {
   "cell_type": "code",
   "execution_count": 108,
   "metadata": {},
   "outputs": [
    {
     "name": "stdout",
     "output_type": "stream",
     "text": [
      "X\n"
     ]
    }
   ],
   "source": [
    "dict_1 = {'A': 1, 'B': 3, 'D': 'X'}\n",
    "print(dict_1['D'])"
   ]
  },
  {
   "cell_type": "markdown",
   "metadata": {},
   "source": [
    "Adding items to a dictionary is easy. Just remember that you can't just add a value like, 10, but you also need to add a key:value pair:"
   ]
  },
  {
   "cell_type": "code",
   "execution_count": 68,
   "metadata": {},
   "outputs": [],
   "source": [
    "shirt = {'color': 'red', 'size': 'M', 'quantity': 15}"
   ]
  },
  {
   "cell_type": "code",
   "execution_count": 69,
   "metadata": {},
   "outputs": [
    {
     "data": {
      "text/plain": [
       "15"
      ]
     },
     "execution_count": 69,
     "metadata": {},
     "output_type": "execute_result"
    }
   ],
   "source": [
    "shirt['quantity']"
   ]
  },
  {
   "cell_type": "code",
   "execution_count": 117,
   "metadata": {},
   "outputs": [
    {
     "name": "stdout",
     "output_type": "stream",
     "text": [
      "{'color': 'red', 'size': 'M', 'quantity': 15, 'price': 45}\n"
     ]
    }
   ],
   "source": [
    "shirt['price'] = 45\n",
    "print(shirt)"
   ]
  },
  {
   "cell_type": "markdown",
   "metadata": {},
   "source": [
    "Create a dictionary with your **name, age, city**"
   ]
  },
  {
   "cell_type": "code",
   "execution_count": 70,
   "metadata": {},
   "outputs": [],
   "source": [
    "new_dict = {'name' : 'Navid', 'age': 31, 'city': 'Milan'}"
   ]
  },
  {
   "cell_type": "code",
   "execution_count": 71,
   "metadata": {},
   "outputs": [
    {
     "name": "stdout",
     "output_type": "stream",
     "text": [
      "{'name': 'Navid', 'age': 31, 'city': 'Milan'}\n"
     ]
    }
   ],
   "source": [
    "print(new_dict)"
   ]
  },
  {
   "cell_type": "markdown",
   "metadata": {},
   "source": [
    "In the same way you can remove a key:value pair:"
   ]
  },
  {
   "cell_type": "code",
   "execution_count": 121,
   "metadata": {},
   "outputs": [
    {
     "name": "stdout",
     "output_type": "stream",
     "text": [
      "{'color': 'red', 'quantity': 15, 'price': 45}\n"
     ]
    }
   ],
   "source": [
    "del shirt['size']\n",
    "print(shirt)"
   ]
  },
  {
   "cell_type": "markdown",
   "metadata": {},
   "source": [
    "Some useful methods:"
   ]
  },
  {
   "cell_type": "code",
   "execution_count": 123,
   "metadata": {},
   "outputs": [
    {
     "name": "stdout",
     "output_type": "stream",
     "text": [
      "dict_keys(['color', 'quantity', 'price'])\n",
      "dict_values(['red', 15, 45])\n"
     ]
    }
   ],
   "source": [
    "print(shirt.keys())\n",
    "print(shirt.values())"
   ]
  },
  {
   "cell_type": "markdown",
   "metadata": {},
   "source": [
    "## Tuples"
   ]
  },
  {
   "cell_type": "markdown",
   "metadata": {},
   "source": [
    "Tuples are very similar to lists but unlike lists, are not mutable. It means you can't modify them in-place as you can do with lists. (But still you can access their contents using indexes):"
   ]
  },
  {
   "cell_type": "code",
   "execution_count": 125,
   "metadata": {},
   "outputs": [
    {
     "name": "stdout",
     "output_type": "stream",
     "text": [
      "foo\n"
     ]
    }
   ],
   "source": [
    "my_tuple = (1, 3, 'foo')\n",
    "print(my_tuple[2])"
   ]
  },
  {
   "cell_type": "code",
   "execution_count": 126,
   "metadata": {},
   "outputs": [
    {
     "ename": "TypeError",
     "evalue": "'tuple' object does not support item assignment",
     "output_type": "error",
     "traceback": [
      "\u001b[0;31m---------------------------------------------------------------------------\u001b[0m",
      "\u001b[0;31mTypeError\u001b[0m                                 Traceback (most recent call last)",
      "\u001b[0;32m<ipython-input-126-cab1511fedb5>\u001b[0m in \u001b[0;36m<module>\u001b[0;34m\u001b[0m\n\u001b[0;32m----> 1\u001b[0;31m \u001b[0mmy_tuple\u001b[0m\u001b[0;34m[\u001b[0m\u001b[0;36m0\u001b[0m\u001b[0;34m]\u001b[0m \u001b[0;34m=\u001b[0m \u001b[0;34m'ham'\u001b[0m\u001b[0;34m\u001b[0m\u001b[0;34m\u001b[0m\u001b[0m\n\u001b[0m",
      "\u001b[0;31mTypeError\u001b[0m: 'tuple' object does not support item assignment"
     ]
    }
   ],
   "source": [
    "my_tuple[0] = 'ham'"
   ]
  }
 ],
 "metadata": {
  "kernelspec": {
   "display_name": "Python 3",
   "language": "python",
   "name": "python3"
  },
  "language_info": {
   "codemirror_mode": {
    "name": "ipython",
    "version": 3
   },
   "file_extension": ".py",
   "mimetype": "text/x-python",
   "name": "python",
   "nbconvert_exporter": "python",
   "pygments_lexer": "ipython3",
   "version": "3.7.9"
  },
  "notify_time": "5",
  "toc": {
   "base_numbering": 1,
   "nav_menu": {},
   "number_sections": true,
   "sideBar": true,
   "skip_h1_title": false,
   "title_cell": "Table of Contents",
   "title_sidebar": "Contents",
   "toc_cell": false,
   "toc_position": {
    "height": "863.333px",
    "left": "33px",
    "top": "135.722px",
    "width": "263.583px"
   },
   "toc_section_display": true,
   "toc_window_display": true
  }
 },
 "nbformat": 4,
 "nbformat_minor": 2
}
