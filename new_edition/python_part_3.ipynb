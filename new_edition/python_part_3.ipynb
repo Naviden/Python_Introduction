{
 "cells": [
  {
   "cell_type": "markdown",
   "metadata": {},
   "source": [
    "## Object Oriented Programming"
   ]
  },
  {
   "cell_type": "markdown",
   "metadata": {},
   "source": [
    "### Class and Object definition"
   ]
  },
  {
   "cell_type": "markdown",
   "metadata": {},
   "source": [
    "Object oriented programming is not limited just to Python. Almost all moder programming languages benefit from this paradigm.\n",
    "In fact, OOP is a complex subject and due to our lack of time we can't go through all of them. Here I try to make you familiar with very basic and simple of OOP concepts. \n",
    "\n",
    "To start, let's imagine that we want to manage our pets' data in python. Since all of our pets are animals, we can do so by creating an objecy - a class - which serves us as a blueprint or template. The following is the most simple way possible to create a class:"
   ]
  },
  {
   "cell_type": "code",
   "execution_count": 9,
   "metadata": {},
   "outputs": [],
   "source": [
    "class Animal:\n",
    "    pass"
   ]
  },
  {
   "cell_type": "markdown",
   "metadata": {},
   "source": [
    "Ok, imagine that I have a cat names __Oliver__ and a dog named __Zoli__. \n",
    "For each one, First I create an _Animal_ instance and then I add information (Attributes) to it:"
   ]
  },
  {
   "cell_type": "code",
   "execution_count": 13,
   "metadata": {},
   "outputs": [],
   "source": [
    "oliver = Animal()\n",
    "oliver.kind = 'cat'\n",
    "oliver.color = 'black'\n",
    "oliver.age = 1\n",
    "\n",
    "zoli = Animal()\n",
    "zoli.color = 'black & white'\n",
    "zoli.age = 8"
   ]
  },
  {
   "cell_type": "markdown",
   "metadata": {},
   "source": [
    "Now let's use _fstring_ to print info we've added for Oliver and Zoli:"
   ]
  },
  {
   "cell_type": "code",
   "execution_count": 14,
   "metadata": {},
   "outputs": [
    {
     "name": "stdout",
     "output_type": "stream",
     "text": [
      "Oliver is a cat, he is black and he is 1 year old!\n"
     ]
    }
   ],
   "source": [
    "print(f'Oliver is a {oliver.kind}, he is {oliver.color} and he is {oliver.age} year old!')"
   ]
  },
  {
   "cell_type": "code",
   "execution_count": 15,
   "metadata": {},
   "outputs": [
    {
     "ename": "AttributeError",
     "evalue": "'Animal' object has no attribute 'kind'",
     "output_type": "error",
     "traceback": [
      "\u001b[0;31m---------------------------------------------------------------------------\u001b[0m",
      "\u001b[0;31mAttributeError\u001b[0m                            Traceback (most recent call last)",
      "\u001b[0;32m<ipython-input-15-c214939f0143>\u001b[0m in \u001b[0;36m<module>\u001b[0;34m\u001b[0m\n\u001b[0;32m----> 1\u001b[0;31m \u001b[0mprint\u001b[0m\u001b[0;34m(\u001b[0m\u001b[0;34mf'Zoli is a {zoli.kind}, she is {zoli.color} and she is {zoli.age} years old!'\u001b[0m\u001b[0;34m)\u001b[0m\u001b[0;34m\u001b[0m\u001b[0;34m\u001b[0m\u001b[0m\n\u001b[0m",
      "\u001b[0;31mAttributeError\u001b[0m: 'Animal' object has no attribute 'kind'"
     ]
    }
   ],
   "source": [
    "print(f'Zoli is a {zoli.kind}, she is {zoli.color} and she is {zoli.age} years old!')"
   ]
  },
  {
   "cell_type": "markdown",
   "metadata": {},
   "source": [
    "Oops! It seems I forgot to add _kind_ to _Zoli_ instance. This happens, specially when we're sealing with multiple stances and _Attributes_.\n",
    "The better (correct?) way to create a class is to initialize it with arguments:"
   ]
  },
  {
   "cell_type": "code",
   "execution_count": 13,
   "metadata": {},
   "outputs": [],
   "source": [
    "class Animal:\n",
    "    def __init__(self, kind, color, age):\n",
    "        self.kind = kind\n",
    "        self.color = color\n",
    "        self.age = age\n",
    "    "
   ]
  },
  {
   "cell_type": "markdown",
   "metadata": {},
   "source": [
    "In this way, instead of crating an emopth instance and then adding attributes to it later, we add them when we' re creating the instance:"
   ]
  },
  {
   "cell_type": "code",
   "execution_count": 14,
   "metadata": {},
   "outputs": [],
   "source": [
    "oliver = Animal('cat', 'black', 1)\n",
    "zoli = Animal('dog', 'black & white', 8)"
   ]
  },
  {
   "cell_type": "code",
   "execution_count": 15,
   "metadata": {},
   "outputs": [
    {
     "name": "stdout",
     "output_type": "stream",
     "text": [
      "Oliver is a cat, he is black and he is 1 year old!\n",
      "Zoli is a dog, she is black & white and she is 8 years old!\n"
     ]
    }
   ],
   "source": [
    "print(f'Oliver is a {oliver.kind}, he is {oliver.color} and he is {oliver.age} year old!')\n",
    "print(f'Zoli is a {zoli.kind}, she is {zoli.color} and she is {zoli.age} years old!')"
   ]
  },
  {
   "cell_type": "markdown",
   "metadata": {},
   "source": [
    "Now that we have successfully created the class and inizialized it, we can add a method to it : __greet__ !"
   ]
  },
  {
   "cell_type": "code",
   "execution_count": 16,
   "metadata": {},
   "outputs": [],
   "source": [
    "class Animal:\n",
    "    def __init__(self, kind, color, age, gender):\n",
    "        self.kind = kind\n",
    "        self.color = color\n",
    "        self.age = age\n",
    "        self.gender = gender\n",
    "    \n",
    "    def greet(self):\n",
    "        if (self.gender).lower() == 'F':\n",
    "            pronoun = 'she'\n",
    "        elif (self.gender).lower() == 'm':\n",
    "            pronoun = 'he'\n",
    "        print(f'Animal is a {self.kind}, {pronoun} is {self.color} and {pronoun} is {self.age} year old!')"
   ]
  },
  {
   "cell_type": "markdown",
   "metadata": {},
   "source": [
    "Let's try it:"
   ]
  },
  {
   "cell_type": "code",
   "execution_count": 17,
   "metadata": {},
   "outputs": [
    {
     "name": "stdout",
     "output_type": "stream",
     "text": [
      "Animal is a cat, he is black and he is 1 year old!\n"
     ]
    }
   ],
   "source": [
    "oliver = Animal('cat', 'black', 1, 'm')\n",
    "oliver.greet()"
   ]
  },
  {
   "cell_type": "markdown",
   "metadata": {},
   "source": [
    "<img src=\"Images/wizard.svg\"   width=\"30\" align=\"left\">               "
   ]
  },
  {
   "cell_type": "markdown",
   "metadata": {},
   "source": [
    "**YOUR TURN:**\n",
    "    \n",
    "Redefine the Animal class:\n",
    "- It should get __name__ attribute in _\\__init___ method\n",
    "- It based on the age, it should use either _year_ or _years_"
   ]
  },
  {
   "cell_type": "code",
   "execution_count": 29,
   "metadata": {},
   "outputs": [],
   "source": [
    "class Animal:\n",
    "    def __init__(self, name, kind, color, age, gender):\n",
    "        self.name = name\n",
    "        self.kind = kind\n",
    "        self.color = color\n",
    "        self.age = age\n",
    "        self.gender = gender\n",
    "    \n",
    "    def greet(self):\n",
    "        if (self.gender).lower() == 'f':\n",
    "            pronoun = 'she'\n",
    "        elif (self.gender).lower() == 'm':\n",
    "            pronoun = 'he'\n",
    "            \n",
    "        if self.age > 1:\n",
    "            y = 'years'\n",
    "        else:\n",
    "            y = 'year'\n",
    "            \n",
    "        print(f'{self.name} is a {self.kind}, {pronoun} is {self.color} and {pronoun} is {self.age} {y} old!')"
   ]
  },
  {
   "cell_type": "code",
   "execution_count": 30,
   "metadata": {},
   "outputs": [
    {
     "name": "stdout",
     "output_type": "stream",
     "text": [
      "Oliver is a cat, he is black and he is 1 year old!\n",
      "Zoli is a dog, she is black & white and she is 8 years old!\n"
     ]
    }
   ],
   "source": [
    "a1 = Animal('Oliver', 'cat', 'black', 1, 'm')\n",
    "a1.greet()\n",
    "\n",
    "a2 = Animal('Zoli', 'dog', 'black & white', 8, 'F')\n",
    "a2.greet()"
   ]
  },
  {
   "cell_type": "code",
   "execution_count": null,
   "metadata": {},
   "outputs": [],
   "source": []
  }
 ],
 "metadata": {
  "kernelspec": {
   "display_name": "Python 3",
   "language": "python",
   "name": "python3"
  },
  "language_info": {
   "codemirror_mode": {
    "name": "ipython",
    "version": 3
   },
   "file_extension": ".py",
   "mimetype": "text/x-python",
   "name": "python",
   "nbconvert_exporter": "python",
   "pygments_lexer": "ipython3",
   "version": "3.7.9"
  },
  "toc": {
   "base_numbering": 1,
   "nav_menu": {},
   "number_sections": true,
   "sideBar": true,
   "skip_h1_title": false,
   "title_cell": "Table of Contents",
   "title_sidebar": "Contents",
   "toc_cell": false,
   "toc_position": {
    "height": "863.333px",
    "left": "33px",
    "top": "135.722px",
    "width": "263.583px"
   },
   "toc_section_display": true,
   "toc_window_display": true
  }
 },
 "nbformat": 4,
 "nbformat_minor": 2
}
