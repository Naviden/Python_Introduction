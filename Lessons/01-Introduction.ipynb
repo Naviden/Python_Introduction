{
 "cells": [
  {
   "cell_type": "markdown",
   "metadata": {},
   "source": [
    "# About this course"
   ]
  },
  {
   "cell_type": "markdown",
   "metadata": {},
   "source": [
    "This introduction course, tends to give you an overview of Python programming language and its general structure as in the future modules of Master like web scrapping, Machine learning and text mining Python will be used as the principal programming language.\n",
    "Please note that due to the vast range of arguments/tools related to Python language we won't/can't cover them all here as this course designed to help you not to become a Python programmers but to learn its basics and enable you to expand your data science skills using it as a modern programming language."
   ]
  },
  {
   "cell_type": "markdown",
   "metadata": {},
   "source": [
    "## Course structure"
   ]
  },
  {
   "cell_type": "markdown",
   "metadata": {},
   "source": [
    "Our goal here is not to provide a deep insight into Python and act as an official reference since you can easily can access hundreds of online sources to learn about each and every detail of Python.\n",
    "Given the wide range of students' backgrounds, there is no assumption about prior knowledge about programming or data analysis. We've tried to provide you with simple examples which give you a clear understanding of functionality of different tools. There are also parts called **YOUR TURN** which ask you to put into practice what you have learned during the lesson. These parts are accompanied by three different symbols which show the difficulty of the exercise:"
   ]
  },
  {
   "cell_type": "markdown",
   "metadata": {},
   "source": [
    "<img src=\"../Images/baby.svg\"   width=\"30\" align=\"left\">               "
   ]
  },
  {
   "cell_type": "markdown",
   "metadata": {},
   "source": [
    "**EASY:** You're expected to solve it by yourself. (max 2 min)"
   ]
  },
  {
   "cell_type": "markdown",
   "metadata": {},
   "source": [
    "   "
   ]
  },
  {
   "cell_type": "markdown",
   "metadata": {},
   "source": [
    "<img src=\"../Images/student.svg\"   width=\"35\" align=\"left\">               "
   ]
  },
  {
   "cell_type": "markdown",
   "metadata": {},
   "source": [
    "**So-So:** In case you find it hard to solve, try to ask your friend's opinion. (max 5 min)"
   ]
  },
  {
   "cell_type": "markdown",
   "metadata": {},
   "source": [
    "     "
   ]
  },
  {
   "cell_type": "markdown",
   "metadata": {},
   "source": [
    "<img src=\"../Images/wizard.svg\"   width=\"40\" align=\"left\">               "
   ]
  },
  {
   "cell_type": "markdown",
   "metadata": {},
   "source": [
    "**HARD:** If you're not comfortable with it, leave it alone! once in home, try to attack it again!"
   ]
  },
  {
   "cell_type": "markdown",
   "metadata": {},
   "source": [
    "For the questions that you should write code, you'll find a code block with a Python in it! just remove it and insert your answer instead."
   ]
  },
  {
   "cell_type": "markdown",
   "metadata": {},
   "source": [
    "<img src=\"../Images/python.png\"   width=\"300\" align=\"left\">               "
   ]
  },
  {
   "cell_type": "markdown",
   "metadata": {},
   "source": [
    "\n",
    "While major parts of codes are self-explanatory, there are ones that need a more detailed explanation. These parts are indicated by an owl sign!\n",
    "\n",
    "<img src=\"../Images/owl.svg\"   width=\"40\" align=\"left\">               "
   ]
  },
  {
   "cell_type": "markdown",
   "metadata": {},
   "source": [
    "## Prerequisite"
   ]
  },
  {
   "cell_type": "markdown",
   "metadata": {},
   "source": [
    "The only prerequisites for using this course is high-school level math and a running version of Python and Jupyter notebook."
   ]
  },
  {
   "cell_type": "markdown",
   "metadata": {},
   "source": [
    "# What is a programming language?"
   ]
  },
  {
   "cell_type": "markdown",
   "metadata": {},
   "source": [
    "Simply put, a programming language is a intermediary language(with its predefined structure) which is able to translate human language(instructions) to a language which is understandable by a computer(Hardware).\n",
    "There are different levels of programming languages with different scopes which we won't explain here in depth. In the following figure you can see the hierarchy of these languages and the interactions they have with each other.\n",
    "<img src=\"../Images/languages.jpg\"  width=\"600\" align=\"center\">\n",
    "[image source](https://www.informationq.com/computer-language-and-its-types/computer-language-and-its-types/)"
   ]
  },
  {
   "cell_type": "markdown",
   "metadata": {},
   "source": [
    "Unlike languages like C and C++, Python is a interpreted language which means you can run it only you have the interpreter on your machine(installing Ptyhon = installing Python interpreter). In this [link](https://www.html.it/pag/15387/programma-compilato-e-interpretato/) you can learn about the differences between interpreted and compiled languages."
   ]
  },
  {
   "cell_type": "markdown",
   "metadata": {},
   "source": [
    "# What is an algorithm?"
   ]
  },
  {
   "cell_type": "markdown",
   "metadata": {},
   "source": [
    "An algorithm is a series of instructions with a specific order and a defined end, used to solve a  specific problem. As an example, imagine you want to tell someone how to get to Milano Garibaldi from Bicocca University. You can write down the steps: (Notice how important is the order of steps)\n",
    "- Look at the train information board\n",
    "- Find out when and when is the next train to greco Pirelli station\n",
    "- Go to the platform\n",
    "- Get in the train\n",
    "- Wait until you arrive to the greco Pirelli station\n",
    "- Get off of the train\n",
    "- ...\n",
    "\n",
    "In this example, we are giving this instruction to a human being so we can simply use Italian language(or any other *natural* language) but what happens when we want a computer to follow our instructions? That's where computer languages come into the scene."
   ]
  },
  {
   "cell_type": "markdown",
   "metadata": {},
   "source": [
    "# Why Python?"
   ]
  },
  {
   "cell_type": "markdown",
   "metadata": {},
   "source": [
    "Python is the principal (but not the only) programming language of BIBDA master. The reason behind this choice is mainly based on its strong characteristics like (but not limited to):\n",
    "- Simple and minimalistic syntax \n",
    "- High efficiency\n",
    "- Productivity and speed\n",
    "- Extensive libraries\n",
    "- Strong community support\n",
    "- Acceptance by giants like Google and Facebook\n",
    "\n",
    "Another point that makes Python an intresting programming language is its incredible growth in the European job market and computer/data science community:\n",
    "\n",
    "<img src=\"../Images/python_trend.png\" width=\"700\">\n",
    "\n",
    "<img src=\"../Images/py_growth.png\" width=\"700\">\n",
    "\n",
    "[image source](https://stackoverflow.blog/2017/09/06/incredible-growth-python/)"
   ]
  },
  {
   "cell_type": "markdown",
   "metadata": {},
   "source": [
    "# Running a Python code"
   ]
  },
  {
   "cell_type": "markdown",
   "metadata": {},
   "source": [
    "In the previous parts we have seen together why we need a programming language and why we choose Python. Now let's briefly explore the different ways we can \"run\" our codes (algorithms) written in Python. There are four main ways:\n",
    "\n",
    "- Running Python directly in command line/ bash\n",
    "- Using an IDE (Ex. [IDLE](https://docs.python.org/3/library/idle.html), [PyCharm](https://www.jetbrains.com/pycharm/) and [Spyder](https://www.spyder-ide.org/))\n",
    "- Using a Text Editor (Ex. [VsCode](https://code.visualstudio.com/), [Sublime Text](https://www.sublimetext.com/) and [Atom](https://atom.io/))\n",
    "- Using a Notebook (Ex. [Jupyter](https://jupyter.org/), [nteract](https://nteract.io/) and [Zeppelin](https://zeppelin.apache.org/))\n",
    "\n",
    "We can't describe each option in details here but if you are interested to now more about these tools and how they are different from each other, take a look at the [article](https://medium.com/@navid.nobani/adding-python-to-your-life-choices-everywhere-35bbf435fe5d) I've written about this subject.\n",
    "\n",
    "Here as you may have noticed(!) we're are going to use Jupyter notebook for the rest of out course.\n",
    "Jupyter notebook has an interesting developement story which you can find out more about it in [this article](https://www.datacamp.com/community/tutorials/tutorial-jupyter-notebook)."
   ]
  },
  {
   "cell_type": "markdown",
   "metadata": {},
   "source": [
    "# Use Python as a calculator"
   ]
  },
  {
   "cell_type": "markdown",
   "metadata": {},
   "source": [
    "The most basic (and inefficient) use of any programming language is using it as a calculator! Let's see some examples:"
   ]
  },
  {
   "cell_type": "markdown",
   "metadata": {},
   "source": [
    "$\\frac{((119 + 0.789)^{3.14}\\times 1000000000}{57^{\\frac{5}{2.4}}} = 738170310705.7557$"
   ]
  },
  {
   "cell_type": "code",
   "execution_count": 2,
   "metadata": {},
   "outputs": [
    {
     "data": {
      "text/plain": [
       "738170310705.7557"
      ]
     },
     "execution_count": 2,
     "metadata": {},
     "output_type": "execute_result"
    }
   ],
   "source": [
    "(((119 + 0.789)**3.14) * 1000_000_000) / 57**(5 / 2.4)"
   ]
  },
  {
   "cell_type": "markdown",
   "metadata": {},
   "source": [
    "There are also some interesting (and still extremely simple) calculation we can perform too:"
   ]
  },
  {
   "cell_type": "code",
   "execution_count": 3,
   "metadata": {},
   "outputs": [
    {
     "data": {
      "text/plain": [
       "4"
      ]
     },
     "execution_count": 3,
     "metadata": {},
     "output_type": "execute_result"
    }
   ],
   "source": [
    "989 % 5"
   ]
  },
  {
   "cell_type": "code",
   "execution_count": 4,
   "metadata": {},
   "outputs": [
    {
     "data": {
      "text/plain": [
       "860.9090909090909"
      ]
     },
     "execution_count": 4,
     "metadata": {},
     "output_type": "execute_result"
    }
   ],
   "source": [
    "9470 / 11"
   ]
  },
  {
   "cell_type": "code",
   "execution_count": 5,
   "metadata": {},
   "outputs": [
    {
     "data": {
      "text/plain": [
       "860"
      ]
     },
     "execution_count": 5,
     "metadata": {},
     "output_type": "execute_result"
    }
   ],
   "source": [
    "9470 // 11"
   ]
  },
  {
   "cell_type": "markdown",
   "metadata": {},
   "source": [
    "\"%\" and \"//\" (Floor Division) are two of operators available in Python. Take a look at the [complete list of operations](https://docs.python.org/3.4/library/operator.html#mapping-operators-to-functions) in the Python documentation. The following table summarize the most important ones:\n",
    "\n",
    "<img src=\"../Images/operations.png\">"
   ]
  },
  {
   "cell_type": "markdown",
   "metadata": {},
   "source": [
    " "
   ]
  },
  {
   "cell_type": "markdown",
   "metadata": {},
   "source": [
    "<img src=\"../Images/baby.svg\"   width=\"30\" align=\"left\">               "
   ]
  },
  {
   "cell_type": "markdown",
   "metadata": {},
   "source": [
    "**YOUR TURN :** compute the following :"
   ]
  },
  {
   "cell_type": "markdown",
   "metadata": {},
   "source": [
    "$$(\\frac{2019}{5})^{24} * 0.000314$$"
   ]
  },
  {
   "cell_type": "code",
   "execution_count": 6,
   "metadata": {},
   "outputs": [
    {
     "data": {
      "text/plain": [
       "1.1089735772993454e+59"
      ]
     },
     "execution_count": 6,
     "metadata": {},
     "output_type": "execute_result"
    }
   ],
   "source": [
    "((2019 / 5) ** 24) * 0.000314"
   ]
  },
  {
   "cell_type": "markdown",
   "metadata": {},
   "source": [
    "# Variables"
   ]
  },
  {
   "cell_type": "markdown",
   "metadata": {},
   "source": [
    "A variable is just a reference which points to a specific object in the memory. Imagine it as name tag which you attach to a piece of the memory of your computer. In this way everytime you need to access that pies you just need to follow the name tag. Obviously this attachment is not permanent, it means you can detach it and connect it to another piece of memory as in the same way, you can attach two different name tags to the same object."
   ]
  },
  {
   "cell_type": "markdown",
   "metadata": {},
   "source": [
    " "
   ]
  },
  {
   "cell_type": "markdown",
   "metadata": {},
   "source": [
    "<img src=\"../Images/baby.svg\"   width=\"30\" align=\"left\">               "
   ]
  },
  {
   "cell_type": "markdown",
   "metadata": {},
   "source": [
    "**YOUR TURN :** We assign 12 to A, 2 to B and compute C by multiplication of A and B and assign the result to C. Now if we assign 3 to B, What would be the value of the C?"
   ]
  },
  {
   "cell_type": "markdown",
   "metadata": {},
   "source": [
    "<img src=\"../Images/variable.png\" width=\"600\" align=\"left\">"
   ]
  },
  {
   "cell_type": "code",
   "execution_count": 7,
   "metadata": {},
   "outputs": [
    {
     "name": "stdout",
     "output_type": "stream",
     "text": [
      "12\n",
      "2\n",
      "24\n",
      "3\n",
      "36\n"
     ]
    }
   ],
   "source": [
    "A = 12\n",
    "print(A)\n",
    "B = 2\n",
    "print(B)\n",
    "C = A * B\n",
    "print(C)\n",
    "B = 3\n",
    "print(B)\n",
    "C = A * B\n",
    "print(C)"
   ]
  },
  {
   "cell_type": "markdown",
   "metadata": {},
   "source": [
    "Unlike C and Java which are \"Statically-typed languages\", Python is a \"dynamically-typed language\", which means variables must not only have a single data type, instead you can assign different objects with different data types to the variable (not simultaneously). You can read more about this subject [here](https://wiki.python.org/moin/Why%20is%20Python%20a%20dynamic%20language%20and%20also%20a%20strongly%20typed%20language).\n",
    "\n",
    "Let's define a variable and assign a number to it: "
   ]
  },
  {
   "cell_type": "code",
   "execution_count": 2,
   "metadata": {},
   "outputs": [],
   "source": [
    "my_var = 10 "
   ]
  },
  {
   "cell_type": "markdown",
   "metadata": {},
   "source": [
    "We just created our first variable! let's print it to confirm what is inside:"
   ]
  },
  {
   "cell_type": "code",
   "execution_count": 9,
   "metadata": {},
   "outputs": [
    {
     "name": "stdout",
     "output_type": "stream",
     "text": [
      "10\n"
     ]
    }
   ],
   "source": [
    "print(my_var)"
   ]
  },
  {
   "cell_type": "markdown",
   "metadata": {},
   "source": [
    "Now let's assign a text to **my_var**:"
   ]
  },
  {
   "cell_type": "code",
   "execution_count": 10,
   "metadata": {},
   "outputs": [
    {
     "name": "stdout",
     "output_type": "stream",
     "text": [
      "my fancy text\n"
     ]
    }
   ],
   "source": [
    "my_var = 'my fancy text'\n",
    "print(my_var)"
   ]
  },
  {
   "cell_type": "code",
   "execution_count": 3,
   "metadata": {},
   "outputs": [],
   "source": [
    "GATTO = 875765"
   ]
  },
  {
   "cell_type": "code",
   "execution_count": 14,
   "metadata": {},
   "outputs": [
    {
     "ename": "TypeError",
     "evalue": "unsupported operand type(s) for +: 'int' and 'str'",
     "output_type": "error",
     "traceback": [
      "\u001b[0;31m---------------------------------------------------------------------------\u001b[0m",
      "\u001b[0;31mTypeError\u001b[0m                                 Traceback (most recent call last)",
      "Cell \u001b[0;32mIn[14], line 3\u001b[0m\n\u001b[1;32m      1\u001b[0m cane \u001b[38;5;241m=\u001b[39m \u001b[38;5;241m42\u001b[39m\n\u001b[1;32m      2\u001b[0m gatto \u001b[38;5;241m=\u001b[39m \u001b[38;5;124m'\u001b[39m\u001b[38;5;124mgatto\u001b[39m\u001b[38;5;124m'\u001b[39m\n\u001b[0;32m----> 3\u001b[0m cane \u001b[38;5;241m+\u001b[39m gatto\n",
      "\u001b[0;31mTypeError\u001b[0m: unsupported operand type(s) for +: 'int' and 'str'"
     ]
    }
   ],
   "source": [
    "cane = 42\n",
    "gatto = 'gatto'\n",
    "cane + gatto"
   ]
  },
  {
   "cell_type": "markdown",
   "metadata": {},
   "source": [
    "Notice that in the code above, we didn't explicitly tell Python which data type we're going to assign to \"my_var\"."
   ]
  },
  {
   "cell_type": "code",
   "execution_count": 4,
   "metadata": {},
   "outputs": [
    {
     "data": {
      "text/plain": [
       "builtin_function_or_method"
      ]
     },
     "execution_count": 4,
     "metadata": {},
     "output_type": "execute_result"
    }
   ],
   "source": [
    "type(print)"
   ]
  },
  {
   "cell_type": "code",
   "execution_count": 2,
   "metadata": {},
   "outputs": [
    {
     "ename": "SyntaxError",
     "evalue": "invalid syntax (1276330463.py, line 1)",
     "output_type": "error",
     "traceback": [
      "\u001b[0;36m  Cell \u001b[0;32mIn[2], line 1\u001b[0;36m\u001b[0m\n\u001b[0;31m    for = 56\u001b[0m\n\u001b[0m        ^\u001b[0m\n\u001b[0;31mSyntaxError\u001b[0m\u001b[0;31m:\u001b[0m invalid syntax\n"
     ]
    }
   ],
   "source": [
    "for = 56"
   ]
  },
  {
   "cell_type": "markdown",
   "metadata": {},
   "source": [
    "## Variable naming"
   ]
  },
  {
   "cell_type": "markdown",
   "metadata": {},
   "source": [
    "There are 3 rules you should have in mind when defining a new variable:\n",
    "- It CAN contain only letters, numbers and underscore(\\_).\n",
    "- It MUST start either with a letter or underscore(\\_). It CAN'T start with a number.\n",
    "- It CAN'T/SHOULDN'T be a [reserved](https://docs.python.org/2.5/ref/keywords.html) name.\n",
    "\n",
    "Let's explain a bit the last point. I used **CAN'T/SHOULDN'T** and not **CAN'T** because While you **CAN'T**  assign a value to some of these reserved key words (like **for**) actually if you want, you **CAN** assign a value to some of them (like function **print**); The point is even if you **CAN** do so, it's almost always absolutely a bad idea !"
   ]
  },
  {
   "cell_type": "markdown",
   "metadata": {},
   "source": [
    " "
   ]
  },
  {
   "cell_type": "markdown",
   "metadata": {},
   "source": [
    "<img src=\"../Images/baby.svg\"   width=\"30\" align=\"left\">               "
   ]
  },
  {
   "cell_type": "markdown",
   "metadata": {},
   "source": [
    "**YOUR TURN :** What would be the result? (answer without running it!)\n",
    "\n",
    "print = 2\n",
    "\n",
    "print(10)"
   ]
  },
  {
   "cell_type": "markdown",
   "metadata": {},
   "source": [
    "- 2\n",
    "- 10\n",
    "- 20\n",
    "- None of above"
   ]
  },
  {
   "cell_type": "markdown",
   "metadata": {},
   "source": [
    " "
   ]
  },
  {
   "cell_type": "markdown",
   "metadata": {},
   "source": [
    "A variable name doesn't have any length limitation but it's better if you keep it as short as possible ( as long as it's easy to remember and reuse= being informative)\n",
    "\n",
    "**Correct Examples:**\n",
    "- myVal\n",
    "- My_val\n",
    "- ppppppppppppppppppppppp\n",
    "\n",
    "\n",
    "**Good Examples:**\n",
    "- length\n",
    "- size_before_trim\n",
    "- item_1\n",
    "\n",
    "**Wrong Examples:**\n",
    "- 1_myval\n",
    "- 49param\n",
    "\n",
    "**bad Examples:**\n",
    "- pp\n",
    "- abc\n",
    "- size_before_removing_outliers_from_main_table\n",
    "\n",
    "[more details about variables](https://realpython.com/python-variables/)"
   ]
  },
  {
   "cell_type": "markdown",
   "metadata": {},
   "source": [
    "<img src=\"../Images/baby.svg\"   width=\"30\" align=\"left\">               "
   ]
  },
  {
   "cell_type": "markdown",
   "metadata": {},
   "source": [
    "**YOUR TURN :** Define three variables : **birth_year**, **birth_month** and **birth_day** and assign them your birth date."
   ]
  },
  {
   "cell_type": "code",
   "execution_count": null,
   "metadata": {},
   "outputs": [],
   "source": [
    "(\\   .-.   .-.   .-.   .-.   .-.   .-.   .-.   .-.   /_\")\n",
    " \\\\_//^\\\\_//^\\\\_//^\\\\_//^\\\\_//^\\\\_//^\\\\_//^\\\\_//^\\\\_//\n",
    "  `\"`   `\"`   `\"`   `\"`   `\"`   `\"`   `\"`   `\"`   `\"`"
   ]
  },
  {
   "cell_type": "markdown",
   "metadata": {},
   "source": [
    "## Comparisons operators"
   ]
  },
  {
   "cell_type": "markdown",
   "metadata": {},
   "source": [
    "Comparison operators are not technically considered as a part of \"Control flow\" but since their usage with mentioned statements, I put them here. As the name suggest these operators **compare** two object and return either *True* or *False*. Let's see some examples:"
   ]
  },
  {
   "cell_type": "code",
   "execution_count": 8,
   "metadata": {},
   "outputs": [],
   "source": [
    "a = 15.6\n",
    "b = 79"
   ]
  },
  {
   "cell_type": "code",
   "execution_count": 7,
   "metadata": {},
   "outputs": [
    {
     "name": "stdout",
     "output_type": "stream",
     "text": [
      "False\n",
      "True\n",
      "True\n",
      "False\n",
      "True\n",
      "False\n"
     ]
    }
   ],
   "source": [
    "print(a == b)\n",
    "print(a != b)\n",
    "print(a < b)\n",
    "print(a > b)\n",
    "print(a <= b)\n",
    "print(a >= b)"
   ]
  },
  {
   "cell_type": "code",
   "execution_count": 9,
   "metadata": {},
   "outputs": [
    {
     "data": {
      "text/plain": [
       "False"
      ]
     },
     "execution_count": 9,
     "metadata": {},
     "output_type": "execute_result"
    }
   ],
   "source": [
    "name = 'Navid'\n",
    "type(name) == int"
   ]
  },
  {
   "cell_type": "code",
   "execution_count": null,
   "metadata": {},
   "outputs": [],
   "source": []
  }
 ],
 "metadata": {
  "kernelspec": {
   "display_name": "Python 3 (ipykernel)",
   "language": "python",
   "name": "python3"
  },
  "language_info": {
   "codemirror_mode": {
    "name": "ipython",
    "version": 3
   },
   "file_extension": ".py",
   "mimetype": "text/x-python",
   "name": "python",
   "nbconvert_exporter": "python",
   "pygments_lexer": "ipython3",
   "version": "3.11.5"
  },
  "toc": {
   "base_numbering": 1,
   "nav_menu": {},
   "number_sections": true,
   "sideBar": true,
   "skip_h1_title": false,
   "title_cell": "Table of Contents",
   "title_sidebar": "Contents",
   "toc_cell": false,
   "toc_position": {
    "height": "863.333px",
    "left": "33px",
    "top": "135.722px",
    "width": "263.583px"
   },
   "toc_section_display": true,
   "toc_window_display": true
  }
 },
 "nbformat": 4,
 "nbformat_minor": 2
}
