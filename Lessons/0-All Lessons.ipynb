{
 "cells": [
  {
   "cell_type": "markdown",
   "metadata": {},
   "source": [
    "# About this course"
   ]
  },
  {
   "cell_type": "markdown",
   "metadata": {},
   "source": [
    "This introduction course, presented for the first time in BIBDA Master, tends to give you an overview of Python programming language and its general structure as in the future modules of Master like web scrapping, Machine learning and text mining Python will be used as the principal programming language.\n",
    "Please note that due to the vast range of arguments/tools related to Python language we won't/can't cover them all here as this course designed to help you not to become a Python programmers but to learn its basics and enable you to expand your data science skills using it as a modern programming language."
   ]
  },
  {
   "cell_type": "markdown",
   "metadata": {},
   "source": [
    "## Course structure"
   ]
  },
  {
   "cell_type": "markdown",
   "metadata": {},
   "source": [
    "Our goal here is not to provide a deep insight into Python and act as an official reference since you can easily can access hundreds of online sources to learn about each and every detail of Python.\n",
    "Given the wide range of students' backgrounds, there is no assumption about prior knowledge about programming or data analysis. We've tried to provide you with simple examples which give you a clear understanding of functionality of different tools. There are also parts called **YOUR TURN** which ask you to put into practice what you have learned during the lesson. These parts are accompanied by three different symbols which show the difficulty of the exercise:"
   ]
  },
  {
   "cell_type": "markdown",
   "metadata": {},
   "source": [
    "<img src=\"../Images/baby.svg\"   width=\"30\" align=\"left\">               "
   ]
  },
  {
   "cell_type": "markdown",
   "metadata": {},
   "source": [
    "**EASY:** You're expected to solve it by yourself. (max 2 min)"
   ]
  },
  {
   "cell_type": "markdown",
   "metadata": {},
   "source": [
    "   "
   ]
  },
  {
   "cell_type": "markdown",
   "metadata": {},
   "source": [
    "<img src=\"../Images/student.svg\"   width=\"35\" align=\"left\">               "
   ]
  },
  {
   "cell_type": "markdown",
   "metadata": {},
   "source": [
    "**So-So:** In case you find it hard to solve, try to ask your friend's opinion. (max 5 min)"
   ]
  },
  {
   "cell_type": "markdown",
   "metadata": {},
   "source": [
    "     "
   ]
  },
  {
   "cell_type": "markdown",
   "metadata": {},
   "source": [
    "<img src=\"../Images/wizard.svg\"   width=\"40\" align=\"left\">               "
   ]
  },
  {
   "cell_type": "markdown",
   "metadata": {},
   "source": [
    "**HARD:** If you're not comfortable with it, leave it alone! once in home, try to attack it again!"
   ]
  },
  {
   "cell_type": "markdown",
   "metadata": {},
   "source": [
    "For the questions that you should write code, you'll find a code block with a Python in it! just remove it and insert your answer instead."
   ]
  },
  {
   "cell_type": "markdown",
   "metadata": {},
   "source": [
    "<img src=\"../Images/python.png\"   width=\"300\" align=\"left\">               "
   ]
  },
  {
   "cell_type": "markdown",
   "metadata": {},
   "source": [
    "\n",
    "While major parts of codes are self-explanatory, there are ones that need a more detailed explanation. These parts are indicated by an owl sign!\n",
    "\n",
    "<img src=\"../Images/owl.svg\"   width=\"40\" align=\"left\">               "
   ]
  },
  {
   "cell_type": "markdown",
   "metadata": {},
   "source": [
    "## Prerequisite"
   ]
  },
  {
   "cell_type": "markdown",
   "metadata": {},
   "source": [
    "The only prerequisites for using this course is high-school level math and a running version of Python and Jupyter notebook."
   ]
  },
  {
   "cell_type": "markdown",
   "metadata": {},
   "source": [
    "# What is a programming language?"
   ]
  },
  {
   "cell_type": "markdown",
   "metadata": {},
   "source": [
    "Simply put, a programming language is a intermediary language(with its predefined structure) which is able to translate human language(instructions) to a language which is understandable by a computer(Hardware).\n",
    "There are different levels of programming languages with different scopes which we won't explain here in depth. In the following figure you can see the hierarchy of these languages and the interactions they have with each other.\n",
    "<img src=\"../Images/languages.jpg\"  width=\"600\" align=\"center\">\n",
    "[image source](https://www.informationq.com/computer-language-and-its-types/computer-language-and-its-types/)"
   ]
  },
  {
   "cell_type": "markdown",
   "metadata": {},
   "source": [
    "Unlike languages like C and C++, Python is a interpreted language which means you can run it only you have the interpreter on your machine(installing Ptyhon = installing Python interpreter). In this [link](https://www.html.it/pag/15387/programma-compilato-e-interpretato/) you can learn about the differences between interpreted and compiled languages."
   ]
  },
  {
   "cell_type": "markdown",
   "metadata": {},
   "source": [
    "# What is an algorithm?"
   ]
  },
  {
   "cell_type": "markdown",
   "metadata": {},
   "source": [
    "An algorithm is a series of instructions with a specific order and a defined end, used to solve a  specific problem. As an example, imagine you want to tell someone how to get to Milano Garibaldi from Bicocca University. You can write down the steps: (Notice how important is the order of steps)\n",
    "- Look at the train information board\n",
    "- Find out when and when is the next train to greco Pirelli station\n",
    "- Go to the platform\n",
    "- Get in the train\n",
    "- Wait until you arrive to the greco Pirelli station\n",
    "- Get off of the train\n",
    "- ...\n",
    "\n",
    "In this example, we are giving this instruction to a human being so we can simply use Italian language(or any other *natural* language) but what happens when we want a computer to follow our instructions? That's where computer languages come into the scene."
   ]
  },
  {
   "cell_type": "markdown",
   "metadata": {},
   "source": [
    "# Why Python?"
   ]
  },
  {
   "cell_type": "markdown",
   "metadata": {},
   "source": [
    "Python is the principal (but not the only) programming language of BIBDA master. The reason behind this choice is mainly based on its strong characteristics like (but not limited to):\n",
    "- Simple and minimalistic syntax \n",
    "- High efficiency\n",
    "- Productivity and speed\n",
    "- Extensive libraries\n",
    "- Strong community support\n",
    "- Acceptance by giants like Google and Facebook\n",
    "\n",
    "Another point that makes Python an intresting programming language is its incredible growth in the European job market and computer/data science community:\n",
    "\n",
    "<img src=\"../Images/python_trend.png\" width=\"700\">\n",
    "\n",
    "<img src=\"../Images/py_growth.png\" width=\"700\">\n",
    "\n",
    "[image source](https://stackoverflow.blog/2017/09/06/incredible-growth-python/)"
   ]
  },
  {
   "cell_type": "markdown",
   "metadata": {},
   "source": [
    "# Running a Python code"
   ]
  },
  {
   "cell_type": "markdown",
   "metadata": {},
   "source": [
    "In the previous parts we have seen together why we need a programming language and why we choose Python. Now let's briefly explore the different ways we can \"run\" our codes (algorithms) written in Python. There are four main ways:\n",
    "\n",
    "- Running Python directly in command line/ bash\n",
    "- Using an IDE (Ex. [IDLE](https://docs.python.org/3/library/idle.html), [PyCharm](https://www.jetbrains.com/pycharm/) and [Spyder](https://www.spyder-ide.org/))\n",
    "- Using a Text Editor (Ex. [VsCode](https://code.visualstudio.com/), [Sublime Text](https://www.sublimetext.com/) and [Atom](https://atom.io/))\n",
    "- Using a Notebook (Ex. [Jupyter](https://jupyter.org/), [nteract](https://nteract.io/) and [Zeppelin](https://zeppelin.apache.org/))\n",
    "\n",
    "We can't describe each option in details here but if you are interested to now more about these tools and how they are different from each other, take a look at the [article](https://medium.com/@navid.nobani/adding-python-to-your-life-choices-everywhere-35bbf435fe5d) I've written about this subject.\n",
    "\n",
    "Here as you may have noticed(!) we're are going to use Jupyter notebook for the rest of out course.\n",
    "Jupyter notebook has an interesting developement story which you can find out more about it in [this article](https://www.datacamp.com/community/tutorials/tutorial-jupyter-notebook)."
   ]
  },
  {
   "cell_type": "markdown",
   "metadata": {},
   "source": [
    "# Use Python as a calculator"
   ]
  },
  {
   "cell_type": "markdown",
   "metadata": {},
   "source": [
    "The most basic (and inefficient) use of any programming language is using it as a calculator! Let's see some examples:"
   ]
  },
  {
   "cell_type": "markdown",
   "metadata": {},
   "source": [
    "$\\frac{((119 + 0.789)^{3.14}\\times 1000000000}{57^{\\frac{5}{2.4}}} = 738170310705.7557$"
   ]
  },
  {
   "cell_type": "code",
   "execution_count": 13,
   "metadata": {},
   "outputs": [
    {
     "data": {
      "text/plain": [
       "738.1703107057558"
      ]
     },
     "execution_count": 13,
     "metadata": {},
     "output_type": "execute_result"
    }
   ],
   "source": [
    "(((119 + 0.789)**3.14) * 1000_000_000) / 57**(5/2.4)"
   ]
  },
  {
   "cell_type": "markdown",
   "metadata": {},
   "source": [
    "There are also some interesting (and still extremely simple) calculation we can perform too:"
   ]
  },
  {
   "cell_type": "code",
   "execution_count": 14,
   "metadata": {},
   "outputs": [
    {
     "data": {
      "text/plain": [
       "4"
      ]
     },
     "execution_count": 14,
     "metadata": {},
     "output_type": "execute_result"
    }
   ],
   "source": [
    "989 % 5"
   ]
  },
  {
   "cell_type": "code",
   "execution_count": 15,
   "metadata": {},
   "outputs": [
    {
     "data": {
      "text/plain": [
       "860.9090909090909"
      ]
     },
     "execution_count": 15,
     "metadata": {},
     "output_type": "execute_result"
    }
   ],
   "source": [
    "9470 / 11"
   ]
  },
  {
   "cell_type": "code",
   "execution_count": 16,
   "metadata": {},
   "outputs": [
    {
     "data": {
      "text/plain": [
       "860"
      ]
     },
     "execution_count": 16,
     "metadata": {},
     "output_type": "execute_result"
    }
   ],
   "source": [
    "9470 // 11"
   ]
  },
  {
   "cell_type": "markdown",
   "metadata": {},
   "source": [
    "\"%\" and \"//\" (Floor Division) are two of operators available in Python. Take a look at the [complete list of operations](https://docs.python.org/3.4/library/operator.html#mapping-operators-to-functions) in the Python documentation. The following table summarize the most important ones:\n",
    "\n",
    "<img src=\"../Images/operations.png\">"
   ]
  },
  {
   "cell_type": "markdown",
   "metadata": {},
   "source": [
    " "
   ]
  },
  {
   "cell_type": "markdown",
   "metadata": {},
   "source": [
    "<img src=\"../Images/baby.svg\"   width=\"30\" align=\"left\">               "
   ]
  },
  {
   "cell_type": "markdown",
   "metadata": {},
   "source": [
    "**YOUR TURN :** compute the following :"
   ]
  },
  {
   "cell_type": "markdown",
   "metadata": {},
   "source": [
    "$$(\\frac{2019}{5})^{24} * 0.000314$$"
   ]
  },
  {
   "cell_type": "code",
   "execution_count": 18,
   "metadata": {},
   "outputs": [
    {
     "data": {
      "text/plain": [
       "1.1089735772993454e+59"
      ]
     },
     "execution_count": 18,
     "metadata": {},
     "output_type": "execute_result"
    }
   ],
   "source": [
    "((2019 / 5) ** 24) * 0.000314"
   ]
  },
  {
   "cell_type": "markdown",
   "metadata": {},
   "source": [
    "# Variables"
   ]
  },
  {
   "cell_type": "markdown",
   "metadata": {},
   "source": [
    "A variable is just a reference which points to a specific object in the memory. Imagine it as name tag which you attach to a piece of the memory of your computer. In this way everytime you need to access that pies you just need to follow the name tag. Obviously this attachment is not permanent, it means you can detach it and connect it to another piece of memory as in the same way, you can attach two different name tags to the same object."
   ]
  },
  {
   "cell_type": "markdown",
   "metadata": {},
   "source": [
    " "
   ]
  },
  {
   "cell_type": "markdown",
   "metadata": {},
   "source": [
    "<img src=\"../Images/baby.svg\"   width=\"30\" align=\"left\">               "
   ]
  },
  {
   "cell_type": "markdown",
   "metadata": {},
   "source": [
    "**YOUR TURN :** We assign 12 to A, 2 to B and compute C by multiplication of A and B and assign the result to C. Now if we assign 3 to B, What would be the value of the C?"
   ]
  },
  {
   "cell_type": "markdown",
   "metadata": {},
   "source": [
    "<img src=\"../Images/variable.png\" width=\"600\" align=\"left\">"
   ]
  },
  {
   "cell_type": "code",
   "execution_count": 35,
   "metadata": {},
   "outputs": [
    {
     "name": "stdout",
     "output_type": "stream",
     "text": [
      "12\n",
      "2\n",
      "24\n",
      "3\n",
      "36\n"
     ]
    }
   ],
   "source": [
    "A = 12\n",
    "print(A)\n",
    "B = 2\n",
    "print(B)\n",
    "C = A * B\n",
    "print(C)\n",
    "B = 3\n",
    "print(B)\n",
    "C = A * B\n",
    "print(C)"
   ]
  },
  {
   "cell_type": "markdown",
   "metadata": {},
   "source": [
    "Unlike C and Java which are \"Statically-typed languages\", Python is a \"dynamically-typed language\", which means variables must not only have a single data type, instead you can assign different objects with different data types to the variable (not simultaneously). You can read more about this subject [here](https://wiki.python.org/moin/Why%20is%20Python%20a%20dynamic%20language%20and%20also%20a%20strongly%20typed%20language).\n",
    "\n",
    "Let's define a variable and assign a number to it: "
   ]
  },
  {
   "cell_type": "code",
   "execution_count": 16,
   "metadata": {},
   "outputs": [],
   "source": [
    "my_var = 10 "
   ]
  },
  {
   "cell_type": "markdown",
   "metadata": {},
   "source": [
    "We just created our first variable! let's print it to confirm what is inside:"
   ]
  },
  {
   "cell_type": "code",
   "execution_count": 17,
   "metadata": {},
   "outputs": [
    {
     "name": "stdout",
     "output_type": "stream",
     "text": [
      "10\n"
     ]
    }
   ],
   "source": [
    "print(my_var)"
   ]
  },
  {
   "cell_type": "markdown",
   "metadata": {},
   "source": [
    "Now let's assign a text to **my_var**:"
   ]
  },
  {
   "cell_type": "code",
   "execution_count": 18,
   "metadata": {},
   "outputs": [
    {
     "name": "stdout",
     "output_type": "stream",
     "text": [
      "my fancy text\n"
     ]
    }
   ],
   "source": [
    "my_var = 'my fancy text'\n",
    "print(my_var)"
   ]
  },
  {
   "cell_type": "code",
   "execution_count": 41,
   "metadata": {},
   "outputs": [],
   "source": [
    "GATTO = 875765"
   ]
  },
  {
   "cell_type": "markdown",
   "metadata": {},
   "source": [
    "Notice that in the code above, we didn't explicitly tell Python which data type we're going to assign to \"my_var\"."
   ]
  },
  {
   "cell_type": "markdown",
   "metadata": {},
   "source": [
    "## Variable naming"
   ]
  },
  {
   "cell_type": "markdown",
   "metadata": {},
   "source": [
    "There are 3 rules you should have in mind when defining a new variable:\n",
    "- It CAN contain only letters, numbers and underscore(\\_).\n",
    "- It MUST start either with a letter or underscore(\\_). It CAN'T start with a number.\n",
    "- It CAN'T/SHOULDN'T be a [reserved](https://docs.python.org/2.5/ref/keywords.html) name.\n",
    "\n",
    "Let's explain a bit the last point. I used **CAN'T/SHOULDN'T** and not **CAN'T** because While you **CAN'T**  assign a value to some of these reserved key words (like **for**) actually if you want, you **CAN** assign a value to some of them (like function **print**); The point is even if you **CAN** do so, it's almost always absolutely a bad idea !"
   ]
  },
  {
   "cell_type": "markdown",
   "metadata": {},
   "source": [
    " "
   ]
  },
  {
   "cell_type": "markdown",
   "metadata": {},
   "source": [
    "<img src=\"../Images/baby.svg\"   width=\"30\" align=\"left\">               "
   ]
  },
  {
   "cell_type": "markdown",
   "metadata": {},
   "source": [
    "**YOUR TURN :** What would be the result? (answer without running it!)\n",
    "\n",
    "print = 2\n",
    "\n",
    "print(10)"
   ]
  },
  {
   "cell_type": "markdown",
   "metadata": {},
   "source": [
    "- 2\n",
    "- 10\n",
    "- 20\n",
    "- None of above"
   ]
  },
  {
   "cell_type": "markdown",
   "metadata": {},
   "source": [
    " "
   ]
  },
  {
   "cell_type": "markdown",
   "metadata": {},
   "source": [
    "A variable name doesn't have any length limitation but it's better if you keep it as short as possible ( as long as it's easy to remember and reuse= being informative)\n",
    "\n",
    "**Correct Examples:**\n",
    "- myVal\n",
    "- My_val\n",
    "- ppppppppppppppppppppppp\n",
    "\n",
    "\n",
    "**Good Examples:**\n",
    "- length\n",
    "- size_before_trim\n",
    "- item_1\n",
    "\n",
    "**Wrong Examples:**\n",
    "- 1_myval\n",
    "- 49param\n",
    "\n",
    "**bad Examples:**\n",
    "- pp\n",
    "- abc\n",
    "- size_before_removing_outliers_from_main_table\n",
    "\n",
    "[more details about variables](https://realpython.com/python-variables/)"
   ]
  },
  {
   "cell_type": "markdown",
   "metadata": {},
   "source": [
    "<img src=\"../Images/baby.svg\"   width=\"30\" align=\"left\">               "
   ]
  },
  {
   "cell_type": "markdown",
   "metadata": {},
   "source": [
    "**YOUR TURN :** Define three variables : **birth_year**, **birth_month** and **birth_day** and assign them your birth date."
   ]
  },
  {
   "cell_type": "code",
   "execution_count": null,
   "metadata": {},
   "outputs": [],
   "source": [
    "(\\   .-.   .-.   .-.   .-.   .-.   .-.   .-.   .-.   /_\")\n",
    " \\\\_//^\\\\_//^\\\\_//^\\\\_//^\\\\_//^\\\\_//^\\\\_//^\\\\_//^\\\\_//\n",
    "  `\"`   `\"`   `\"`   `\"`   `\"`   `\"`   `\"`   `\"`   `\"`"
   ]
  },
  {
   "cell_type": "markdown",
   "metadata": {},
   "source": [
    "# Data types"
   ]
  },
  {
   "cell_type": "markdown",
   "metadata": {},
   "source": [
    "In Python , everything is an object and every object has a type. There are different ways to divide data types. For example You can divide them into *Scalers* which you can't sub-divide to further pieces(like a number) and non-scalers which you can sub-divide (like a list of numbers).\n",
    "\n",
    "Another way to categorize them is based on their origin:\n",
    "\n",
    "- Built-in Data Types\n",
    "- Data types that are not built into the interpreter\n",
    "\n",
    "Here we mainly talk about the built-in data types which can be divided into the following types:\n",
    "\n",
    "<img src=\"../Images/data_types.jpeg\">\n",
    "\n",
    "Notice that this isn’t how [Python documentation](https://docs.python.org/2/library/stdtypes.html) divides data types but in my opinion the official documentation may seem a bit confusing for a reader which is facing this argument for the first time."
   ]
  },
  {
   "cell_type": "markdown",
   "metadata": {},
   "source": [
    "## Numeric Types\n"
   ]
  },
  {
   "cell_type": "markdown",
   "metadata": {},
   "source": [
    "The easiest data type to work with are “Numbers” category, since all of us has a good grasp of it and already know what we should expect to see when someone talks about numbers!\n",
    "\n",
    "Two main sub-types of numbers which we see together are:\n",
    "\n",
    "- Integers\n",
    "- Floats\n",
    "\n",
    "(Two other numeric sub-types are long and complex which we won’t discuss here)"
   ]
  },
  {
   "cell_type": "markdown",
   "metadata": {},
   "source": [
    "### Integers"
   ]
  },
  {
   "cell_type": "markdown",
   "metadata": {},
   "source": [
    "Integers are numbers without decimal points:"
   ]
  },
  {
   "cell_type": "code",
   "execution_count": 7,
   "metadata": {},
   "outputs": [
    {
     "data": {
      "text/plain": [
       "2"
      ]
     },
     "execution_count": 7,
     "metadata": {},
     "output_type": "execute_result"
    }
   ],
   "source": [
    "1 + 1"
   ]
  },
  {
   "cell_type": "code",
   "execution_count": 43,
   "metadata": {},
   "outputs": [],
   "source": [
    "f = 1 + 1"
   ]
  },
  {
   "cell_type": "code",
   "execution_count": 44,
   "metadata": {},
   "outputs": [
    {
     "data": {
      "text/plain": [
       "int"
      ]
     },
     "execution_count": 44,
     "metadata": {},
     "output_type": "execute_result"
    }
   ],
   "source": [
    "type(f)"
   ]
  },
  {
   "cell_type": "code",
   "execution_count": 13,
   "metadata": {},
   "outputs": [
    {
     "data": {
      "text/plain": [
       "int"
      ]
     },
     "execution_count": 13,
     "metadata": {},
     "output_type": "execute_result"
    }
   ],
   "source": [
    "type(1 + 1)"
   ]
  },
  {
   "cell_type": "code",
   "execution_count": 8,
   "metadata": {},
   "outputs": [
    {
     "data": {
      "text/plain": [
       "1256"
      ]
     },
     "execution_count": 8,
     "metadata": {},
     "output_type": "execute_result"
    }
   ],
   "source": [
    "1256"
   ]
  },
  {
   "cell_type": "code",
   "execution_count": 46,
   "metadata": {},
   "outputs": [
    {
     "data": {
      "text/plain": [
       "int"
      ]
     },
     "execution_count": 46,
     "metadata": {},
     "output_type": "execute_result"
    }
   ],
   "source": [
    "type(34572765 * 6779_625_645)"
   ]
  },
  {
   "cell_type": "markdown",
   "metadata": {},
   "source": [
    "You can easily check if a number is integer or not. The only thing you need to do is use **_type( )_** built-in function (more on built-in functions later) . The result should be **_int_** as you see below:"
   ]
  },
  {
   "cell_type": "code",
   "execution_count": 10,
   "metadata": {},
   "outputs": [
    {
     "data": {
      "text/plain": [
       "int"
      ]
     },
     "execution_count": 10,
     "metadata": {},
     "output_type": "execute_result"
    }
   ],
   "source": [
    "type(452347)"
   ]
  },
  {
   "cell_type": "code",
   "execution_count": 14,
   "metadata": {},
   "outputs": [
    {
     "data": {
      "text/plain": [
       "int"
      ]
     },
     "execution_count": 14,
     "metadata": {},
     "output_type": "execute_result"
    }
   ],
   "source": [
    "type(1_456_099)"
   ]
  },
  {
   "cell_type": "markdown",
   "metadata": {},
   "source": [
    "### Floats"
   ]
  },
  {
   "cell_type": "markdown",
   "metadata": {},
   "source": [
    "In Python language numbers with decimal are known as Floats:"
   ]
  },
  {
   "cell_type": "code",
   "execution_count": 12,
   "metadata": {},
   "outputs": [
    {
     "data": {
      "text/plain": [
       "3.14159"
      ]
     },
     "execution_count": 12,
     "metadata": {},
     "output_type": "execute_result"
    }
   ],
   "source": [
    "3.14159"
   ]
  },
  {
   "cell_type": "code",
   "execution_count": 47,
   "metadata": {},
   "outputs": [
    {
     "data": {
      "text/plain": [
       "float"
      ]
     },
     "execution_count": 47,
     "metadata": {},
     "output_type": "execute_result"
    }
   ],
   "source": [
    "type(3.14159)"
   ]
  },
  {
   "cell_type": "code",
   "execution_count": 16,
   "metadata": {},
   "outputs": [
    {
     "data": {
      "text/plain": [
       "str"
      ]
     },
     "execution_count": 16,
     "metadata": {},
     "output_type": "execute_result"
    }
   ],
   "source": [
    "type('I am not a cat')"
   ]
  },
  {
   "cell_type": "code",
   "execution_count": 14,
   "metadata": {},
   "outputs": [
    {
     "data": {
      "text/plain": [
       "float"
      ]
     },
     "execution_count": 14,
     "metadata": {},
     "output_type": "execute_result"
    }
   ],
   "source": [
    "type(768.90)"
   ]
  },
  {
   "cell_type": "markdown",
   "metadata": {},
   "source": [
    "### Integer and Float operations"
   ]
  },
  {
   "cell_type": "markdown",
   "metadata": {},
   "source": [
    "Let's do some basic arithmatic and see the result data types:"
   ]
  },
  {
   "cell_type": "code",
   "execution_count": 23,
   "metadata": {},
   "outputs": [
    {
     "name": "stdout",
     "output_type": "stream",
     "text": [
      "1936.34\n",
      "<class 'float'>\n"
     ]
    }
   ],
   "source": [
    "a = 1_869 + 67.34\n",
    "print(a)\n",
    "print(type(a))"
   ]
  },
  {
   "cell_type": "code",
   "execution_count": 22,
   "metadata": {},
   "outputs": [
    {
     "name": "stdout",
     "output_type": "stream",
     "text": [
      "67.34\n",
      "<class 'float'>\n"
     ]
    }
   ],
   "source": [
    "a = 1 * 67.34\n",
    "print(a)\n",
    "print(type(a))"
   ]
  },
  {
   "cell_type": "code",
   "execution_count": 19,
   "metadata": {},
   "outputs": [
    {
     "name": "stdout",
     "output_type": "stream",
     "text": [
      "23.0\n",
      "<class 'float'>\n"
     ]
    }
   ],
   "source": [
    "a = 12.5 + 10.5\n",
    "print(a)\n",
    "print(type(a))"
   ]
  },
  {
   "cell_type": "code",
   "execution_count": 51,
   "metadata": {},
   "outputs": [
    {
     "name": "stdout",
     "output_type": "stream",
     "text": [
      "6.0\n",
      "<class 'float'>\n"
     ]
    }
   ],
   "source": [
    "a = 12. / 2\n",
    "print(a)\n",
    "print(type(a))"
   ]
  },
  {
   "cell_type": "markdown",
   "metadata": {},
   "source": [
    "To summarize:\n",
    "- **int** (+ or - or \\*) **int** = **int**\n",
    "- **float** (+ or - or \\*) **float** = **float**\n",
    "- **int** / **int** = **float**\n",
    "- **int** / **float** = **float**\n",
    "- **float** / **float** = **float**"
   ]
  },
  {
   "cell_type": "markdown",
   "metadata": {},
   "source": [
    "### Integer and Float conversion (Cast)"
   ]
  },
  {
   "cell_type": "markdown",
   "metadata": {},
   "source": [
    "Using **_float( )_** and **_int( )_** we can convert integers to floats and vice versa:"
   ]
  },
  {
   "cell_type": "code",
   "execution_count": 61,
   "metadata": {},
   "outputs": [
    {
     "name": "stdout",
     "output_type": "stream",
     "text": [
      "34.67\n"
     ]
    }
   ],
   "source": [
    "val = 34.67\n",
    "type(val)\n",
    "int(val)\n",
    "print(val)"
   ]
  },
  {
   "cell_type": "code",
   "execution_count": 63,
   "metadata": {},
   "outputs": [
    {
     "name": "stdout",
     "output_type": "stream",
     "text": [
      "45\n",
      "347\n"
     ]
    }
   ],
   "source": [
    "print(int(45.89)) # convert float to int\n",
    "print(int('347')) # convert string to int"
   ]
  },
  {
   "cell_type": "code",
   "execution_count": 64,
   "metadata": {},
   "outputs": [
    {
     "ename": "ValueError",
     "evalue": "invalid literal for int() with base 10: '56.76'",
     "output_type": "error",
     "traceback": [
      "\u001b[0;31m---------------------------------------------------------------------------\u001b[0m",
      "\u001b[0;31mValueError\u001b[0m                                Traceback (most recent call last)",
      "\u001b[0;32m<ipython-input-64-08b93c87baf5>\u001b[0m in \u001b[0;36m<module>\u001b[0;34m\u001b[0m\n\u001b[1;32m      1\u001b[0m \"\"\"if you want to convert a string to int, the string MUST have\n\u001b[1;32m      2\u001b[0m the form of an integer\"\"\"\n\u001b[0;32m----> 3\u001b[0;31m \u001b[0mprint\u001b[0m\u001b[0;34m(\u001b[0m\u001b[0mint\u001b[0m\u001b[0;34m(\u001b[0m\u001b[0;34m'56.76'\u001b[0m\u001b[0;34m)\u001b[0m\u001b[0;34m)\u001b[0m \u001b[0;31m# this one doesn't work!\u001b[0m\u001b[0;34m\u001b[0m\u001b[0;34m\u001b[0m\u001b[0m\n\u001b[0m",
      "\u001b[0;31mValueError\u001b[0m: invalid literal for int() with base 10: '56.76'"
     ]
    }
   ],
   "source": [
    "\"\"\"if you want to convert a string to int, the string MUST have\n",
    "the form of an integer\"\"\"\n",
    "print(int('56.76')) # this one doesn't work!"
   ]
  },
  {
   "cell_type": "code",
   "execution_count": 65,
   "metadata": {},
   "outputs": [
    {
     "name": "stdout",
     "output_type": "stream",
     "text": [
      "56\n"
     ]
    }
   ],
   "source": [
    "print(int(float('56.76'))) # this one does, why?"
   ]
  },
  {
   "cell_type": "code",
   "execution_count": 32,
   "metadata": {},
   "outputs": [
    {
     "data": {
      "text/plain": [
       "4.0"
      ]
     },
     "execution_count": 32,
     "metadata": {},
     "output_type": "execute_result"
    }
   ],
   "source": [
    "# The same thing is not true for converting string to float.\n",
    "# it means the conversion works even if the string doesn't have the form of a \n",
    "# float\n",
    "float('4')"
   ]
  },
  {
   "cell_type": "markdown",
   "metadata": {},
   "source": [
    "  "
   ]
  },
  {
   "cell_type": "markdown",
   "metadata": {},
   "source": [
    "<img src=\"../Images/student.svg\"   width=\"30\" align=\"left\">               "
   ]
  },
  {
   "cell_type": "markdown",
   "metadata": {},
   "source": [
    "**YOUR TURN :** Considering **a = 3.14**, which code results in 3 ?"
   ]
  },
  {
   "cell_type": "markdown",
   "metadata": {},
   "source": [
    "- A : floor(a)\n",
    "- B: float(int(a))\n",
    "- C : int(10 // a)\n",
    "- D : None of above"
   ]
  },
  {
   "cell_type": "markdown",
   "metadata": {},
   "source": [
    "## Strings"
   ]
  },
  {
   "cell_type": "markdown",
   "metadata": {},
   "source": [
    "Strings can hold almost anything in character form, including text, symbols, and digits.\n",
    "\n",
    "As an example let's take a look at a list (more on lists later) with 7 strings inside:"
   ]
  },
  {
   "cell_type": "code",
   "execution_count": null,
   "metadata": {},
   "outputs": [],
   "source": [
    "['a simple text',\n",
    " \n",
    " \n",
    "\"R3a11ySm4rTP@$swo0rD\",\n",
    " \n",
    " \n",
    "'navidnobani',\n",
    " \n",
    " \n",
    "'1366',\n",
    " \n",
    " \n",
    "'7945-1414 box',\n",
    " \n",
    "\"cane\",\n",
    " \n",
    "\"\"\"I really hate these \n",
    "        !@$&ing trains\"\"\"]"
   ]
  },
  {
   "cell_type": "code",
   "execution_count": 74,
   "metadata": {},
   "outputs": [
    {
     "data": {
      "text/plain": [
       "\"I'cant sleep\""
      ]
     },
     "execution_count": 74,
     "metadata": {},
     "output_type": "execute_result"
    }
   ],
   "source": [
    "\"I'cant sleep\""
   ]
  },
  {
   "cell_type": "code",
   "execution_count": 75,
   "metadata": {},
   "outputs": [
    {
     "data": {
      "text/plain": [
       "\"I'cant sleep\""
      ]
     },
     "execution_count": 75,
     "metadata": {},
     "output_type": "execute_result"
    }
   ],
   "source": [
    "'I\\'cant sleep'"
   ]
  },
  {
   "cell_type": "markdown",
   "metadata": {},
   "source": [
    "Roughly, we can define strings as : everything that comes between ' ', \" \" or \"\"\" \"\"\". (Remember that this is a simplistic definition and not the whole story!). You may ask why we need to have three different ways to create a string? that's a good question! While no matter which you use, the outcome is always the same string object (For example for python 'cane', \"cane\" and \"\"\"cane\"\"\" are exactly the same), there are certain situations which you should use them wisely. Suppose we want to create the following string:\n",
    "\n",
    "> **I can't go to work today**\n",
    "\n",
    "let's try to use \" \" first:"
   ]
  },
  {
   "cell_type": "code",
   "execution_count": 20,
   "metadata": {},
   "outputs": [
    {
     "data": {
      "text/plain": [
       "\"I can't go to work today\""
      ]
     },
     "execution_count": 20,
     "metadata": {},
     "output_type": "execute_result"
    }
   ],
   "source": [
    "\"I can't go to work today\" # works perfectly!"
   ]
  },
  {
   "cell_type": "markdown",
   "metadata": {},
   "source": [
    "and now \"\"\" \"\"\":"
   ]
  },
  {
   "cell_type": "code",
   "execution_count": 21,
   "metadata": {},
   "outputs": [
    {
     "data": {
      "text/plain": [
       "\"I can't go to work today\""
      ]
     },
     "execution_count": 21,
     "metadata": {},
     "output_type": "execute_result"
    }
   ],
   "source": [
    "\"\"\"I can't go to work today\"\"\" # another success! :D"
   ]
  },
  {
   "cell_type": "markdown",
   "metadata": {},
   "source": [
    "and finally   ' '  :"
   ]
  },
  {
   "cell_type": "code",
   "execution_count": 22,
   "metadata": {},
   "outputs": [
    {
     "ename": "SyntaxError",
     "evalue": "invalid syntax (<ipython-input-22-62eb89c1839b>, line 1)",
     "output_type": "error",
     "traceback": [
      "\u001b[0;36m  File \u001b[0;32m\"<ipython-input-22-62eb89c1839b>\"\u001b[0;36m, line \u001b[0;32m1\u001b[0m\n\u001b[0;31m    'I can't go to work today'\u001b[0m\n\u001b[0m           ^\u001b[0m\n\u001b[0;31mSyntaxError\u001b[0m\u001b[0;31m:\u001b[0m invalid syntax\n"
     ]
    }
   ],
   "source": [
    "'I can't go to work today'"
   ]
  },
  {
   "cell_type": "markdown",
   "metadata": {},
   "source": [
    "Wait, what is **invalid syntax** now! We get such an error when Python thinks what you have written doesn't make sense! To understand better what is a **Syntax Error** let's see an example of natural language:\n",
    "- This is a correct sentence $\\rightarrow $ *Marco easts sandwich* $\\rightarrow $ (noun) (verb) (noun)\n",
    "- This is a **Syntactically wrong** sentence $\\rightarrow $ *Marco cat sandwich* $\\rightarrow $ (noun) (noun) (noun)\n",
    "\n",
    "So does it mean any (noun) (verb) (noun) gives us a correct combination? Yes and No! Yes because (noun) (verb) (noun) is a **Syntactically correct** sentence but it might still be meaningless $\\rightarrow $ Marco listens sandwich ( It has a **static semantic error** )\n",
    "\n",
    "The same thing exists in Python:\n",
    "- *'Seven'11* is Syntactically wrong because Python can't  understand what do you mean by (str)(int) $\\rightarrow $ **SyntaxError**\n",
    "\n",
    "- *'seven' * 'two'* is also wrong but not Syntactically because although Python can understand what is your goal, (multiplying two strings) it can't do it $\\rightarrow $ **TypeError**\n",
    "\n",
    "\n",
    "Back to our exampole in the last cell, can you figure out what is the problem? (of course you can!)\n",
    "There are two solutions here:\n",
    "- using alternative strings as we did before (' ' or \" \" )\n",
    "- using a character scape : In Python (and other programming languages) certain characters has a reserved role. It means not all the characters for python have the same characteristic behind the scene. In order to force Python to ignore the special role of certain characters like **\\'** or **\\\"** we can use a backslash :"
   ]
  },
  {
   "cell_type": "code",
   "execution_count": 27,
   "metadata": {},
   "outputs": [
    {
     "data": {
      "text/plain": [
       "\"I can't go to work today\""
      ]
     },
     "execution_count": 27,
     "metadata": {},
     "output_type": "execute_result"
    }
   ],
   "source": [
    "'I can\\'t go to work today'"
   ]
  },
  {
   "cell_type": "markdown",
   "metadata": {},
   "source": [
    "Now let's try to write a multi-line string :"
   ]
  },
  {
   "cell_type": "code",
   "execution_count": 28,
   "metadata": {},
   "outputs": [
    {
     "ename": "SyntaxError",
     "evalue": "EOL while scanning string literal (<ipython-input-28-d14d2b016c36>, line 1)",
     "output_type": "error",
     "traceback": [
      "\u001b[0;36m  File \u001b[0;32m\"<ipython-input-28-d14d2b016c36>\"\u001b[0;36m, line \u001b[0;32m1\u001b[0m\n\u001b[0;31m    'some\u001b[0m\n\u001b[0m         ^\u001b[0m\n\u001b[0;31mSyntaxError\u001b[0m\u001b[0;31m:\u001b[0m EOL while scanning string literal\n"
     ]
    }
   ],
   "source": [
    "'some\n",
    "thing\n",
    "long'"
   ]
  },
  {
   "cell_type": "code",
   "execution_count": 29,
   "metadata": {},
   "outputs": [
    {
     "ename": "SyntaxError",
     "evalue": "EOL while scanning string literal (<ipython-input-29-3044f7f10f02>, line 1)",
     "output_type": "error",
     "traceback": [
      "\u001b[0;36m  File \u001b[0;32m\"<ipython-input-29-3044f7f10f02>\"\u001b[0;36m, line \u001b[0;32m1\u001b[0m\n\u001b[0;31m    \"some\u001b[0m\n\u001b[0m         ^\u001b[0m\n\u001b[0;31mSyntaxError\u001b[0m\u001b[0;31m:\u001b[0m EOL while scanning string literal\n"
     ]
    }
   ],
   "source": [
    "\"some\n",
    "thing\n",
    "long\""
   ]
  },
  {
   "cell_type": "code",
   "execution_count": 82,
   "metadata": {},
   "outputs": [
    {
     "name": "stdout",
     "output_type": "stream",
     "text": [
      "just\n",
      "write\tsomething\n"
     ]
    }
   ],
   "source": [
    "print('just\\nwrite\\tsomething')"
   ]
  },
  {
   "cell_type": "code",
   "execution_count": 86,
   "metadata": {},
   "outputs": [
    {
     "name": "stdout",
     "output_type": "stream",
     "text": [
      "3.14\n"
     ]
    }
   ],
   "source": [
    "print(a)"
   ]
  },
  {
   "cell_type": "code",
   "execution_count": 84,
   "metadata": {},
   "outputs": [
    {
     "name": "stdout",
     "output_type": "stream",
     "text": [
      "some\n",
      "thing\n",
      "long\n"
     ]
    }
   ],
   "source": [
    "print(\"\"\"some\n",
    "thing\n",
    "long\"\"\")"
   ]
  },
  {
   "cell_type": "code",
   "execution_count": 87,
   "metadata": {},
   "outputs": [
    {
     "data": {
      "text/plain": [
       "'some\\nthing\\nlong'"
      ]
     },
     "execution_count": 87,
     "metadata": {},
     "output_type": "execute_result"
    }
   ],
   "source": [
    "\"\"\"some\n",
    "thing\n",
    "long\"\"\""
   ]
  },
  {
   "cell_type": "markdown",
   "metadata": {},
   "source": [
    "Well' it seems working but what are those weird **\\n** s in the middle? **\\n** is one of the [Python literals](https://docs.python.org/2.0/ref/strings.html) that is used to indicated a new line. We don't go into details here but remember what we have said before about the characters with special meaning and how sometimes we need to escape them. As the last example let's try to make a string of the current notebook's path:\n",
    "\n",
    "**C:\\Documents\\Newsletters\\Summer2018.pdf**"
   ]
  },
  {
   "cell_type": "code",
   "execution_count": 89,
   "metadata": {},
   "outputs": [
    {
     "name": "stdout",
     "output_type": "stream",
     "text": [
      "ciao\\ciao\n"
     ]
    }
   ],
   "source": [
    "print('ciao\\ciao')"
   ]
  },
  {
   "cell_type": "code",
   "execution_count": 98,
   "metadata": {},
   "outputs": [
    {
     "ename": "SyntaxError",
     "evalue": "(unicode error) 'unicodeescape' codec can't decode bytes in position 12-13: malformed \\N character escape (<ipython-input-98-57d006e5170f>, line 1)",
     "output_type": "error",
     "traceback": [
      "\u001b[0;36m  File \u001b[0;32m\"<ipython-input-98-57d006e5170f>\"\u001b[0;36m, line \u001b[0;32m1\u001b[0m\n\u001b[0;31m    print('C:\\Documents\\Newsletters\\Summer2018.pdf')\u001b[0m\n\u001b[0m         ^\u001b[0m\n\u001b[0;31mSyntaxError\u001b[0m\u001b[0;31m:\u001b[0m (unicode error) 'unicodeescape' codec can't decode bytes in position 12-13: malformed \\N character escape\n"
     ]
    }
   ],
   "source": [
    "print('C:\\Documents\\Newsletters\\Summer2018.pdf')"
   ]
  },
  {
   "cell_type": "markdown",
   "metadata": {},
   "source": [
    "As you can see we're getting a SyntaxError again. The reason is that Python thinks we want to use \\n but we wrote \\N instead. Since our goal here is not to indicate a new line (\\n) but to use **\\\\** as part of string, we need to escape this special character. How can we do it?\n",
    "\n",
    "By using **\\\\** itself! When Python sees **\\\\** is understands that you don't want to use special meaning of **\\\\** but you actually need to use backslash itself:"
   ]
  },
  {
   "cell_type": "code",
   "execution_count": 99,
   "metadata": {},
   "outputs": [
    {
     "data": {
      "text/plain": [
       "'C:\\\\Documents\\\\Newsletters\\\\Summer2018.pdf'"
      ]
     },
     "execution_count": 99,
     "metadata": {},
     "output_type": "execute_result"
    }
   ],
   "source": [
    "'C:\\Documents\\\\Newsletters\\Summer2018.pdf'"
   ]
  },
  {
   "cell_type": "code",
   "execution_count": 96,
   "metadata": {},
   "outputs": [
    {
     "name": "stdout",
     "output_type": "stream",
     "text": [
      "C:\\Documents\\Newsletters\\Summer2018.pdf\n"
     ]
    }
   ],
   "source": [
    "print('C:\\Documents\\\\Newsletters\\Summer2018.pdf')"
   ]
  },
  {
   "cell_type": "markdown",
   "metadata": {},
   "source": [
    "Before going to the next part which is about string operations, let's do  quick recap about what we have seen before. As you remember we've said that we can convert floats to integers (cast them) and vice versa and also a string to float or integer. The same thing exists in the contrary way: we can convert integers and floats to strings:"
   ]
  },
  {
   "cell_type": "code",
   "execution_count": 1,
   "metadata": {},
   "outputs": [
    {
     "name": "stdout",
     "output_type": "stream",
     "text": [
      "73456\n",
      "<class 'int'>\n"
     ]
    }
   ],
   "source": [
    "customer_id = 73456\n",
    "print(customer_id)\n",
    "print(type(customer_id))"
   ]
  },
  {
   "cell_type": "code",
   "execution_count": 101,
   "metadata": {},
   "outputs": [
    {
     "data": {
      "text/plain": [
       "43"
      ]
     },
     "execution_count": 101,
     "metadata": {},
     "output_type": "execute_result"
    }
   ],
   "source": [
    "int('43')"
   ]
  },
  {
   "cell_type": "code",
   "execution_count": 2,
   "metadata": {},
   "outputs": [
    {
     "name": "stdout",
     "output_type": "stream",
     "text": [
      "73456\n",
      "<class 'str'>\n"
     ]
    }
   ],
   "source": [
    "customer_id_str = str(customer_id)\n",
    "print(customer_id_str)\n",
    "print(type(customer_id_str))"
   ]
  },
  {
   "cell_type": "markdown",
   "metadata": {},
   "source": [
    "### Common string operations"
   ]
  },
  {
   "cell_type": "markdown",
   "metadata": {},
   "source": [
    "Having a string, you can apply on it a wide variety of string methods in order to modify it. There are dozens of operations which you can find [here](https://docs.python.org/2/library/string.html). We'll see together the mostly used ones:"
   ]
  },
  {
   "cell_type": "markdown",
   "metadata": {},
   "source": [
    "#### Split"
   ]
  },
  {
   "cell_type": "markdown",
   "metadata": {},
   "source": [
    "Returns a list of pieces of original string cut on the indicated string."
   ]
  },
  {
   "cell_type": "code",
   "execution_count": 109,
   "metadata": {},
   "outputs": [
    {
     "name": "stdout",
     "output_type": "stream",
     "text": [
      "a foo bar ham\n"
     ]
    }
   ],
   "source": [
    "print('a', 'foo', 'bar', 'ham')"
   ]
  },
  {
   "cell_type": "code",
   "execution_count": 49,
   "metadata": {},
   "outputs": [
    {
     "name": "stdout",
     "output_type": "stream",
     "text": [
      "This is a Python course\n",
      "['This', 'is', 'a', 'Python', 'course']\n"
     ]
    }
   ],
   "source": [
    "text = 'This is a Python course'\n",
    "print(text)\n",
    "text = text.split(sep=' ')\n",
    "print(text)"
   ]
  },
  {
   "cell_type": "code",
   "execution_count": 112,
   "metadata": {},
   "outputs": [
    {
     "name": "stdout",
     "output_type": "stream",
     "text": [
      "I saw the guy, and suddenly he disappeared\n",
      "['I saw the guy', ' and suddenly he disappeared']\n"
     ]
    }
   ],
   "source": [
    "text = 'I saw the guy, and suddenly he disappeared'\n",
    "print(text)\n",
    "text = text.split(',') # notice that I wrote ',' instead of sep=','\n",
    "print(text)"
   ]
  },
  {
   "cell_type": "markdown",
   "metadata": {},
   "source": [
    "#### Slicing"
   ]
  },
  {
   "cell_type": "markdown",
   "metadata": {},
   "source": [
    "Cutting the string in a way to have new string which is the subset of the original string.\n",
    "\n",
    "Actually, before explaining slicing, we need to learn a principal concept in Python : Indexing.\n",
    "Suppose you have a box with 11 pens in it. If you want to take out them one by one and count them, most probably you'll go with:\n",
    "- One\n",
    "- Two\n",
    "- ...\n",
    "- Eleven\n",
    "\n",
    "It means, you're using a 1-based index, you indicate the first item with number 1. Python on the other hand, uses a 0-based index. It means it refers to the first object as number(index) 0. So to count the pens in our example, Python goes:\n",
    "- Zero\n",
    "- One\n",
    "- ...\n",
    "- ten\n",
    "\n",
    "Ok, now that we know how Python indexing works, we can see string indexing.\n",
    "In Python Indexing/slicing is not limited to strings, instead, we can slice/index any object that can be considered as a group of objects. That being said, It should be clear now that for example the string: \"cane\" while considered as a string object is also seen as a container(not as a technical definition) of \"c\", \"a\", \"n\" and \"e\" with indexes 0, 1, 2 and 3. It means we can slice this string using their indexes. Let's see an example:\n",
    "\n",
    "suppose we have this string: \"NEW YORK\" and we want to get the first 3 letters. The indexes are show below:\n",
    "\n",
    "<img src=\"../Images/slice.png\" width=\"500\">\n",
    "\n"
   ]
  },
  {
   "cell_type": "code",
   "execution_count": 114,
   "metadata": {},
   "outputs": [
    {
     "data": {
      "text/plain": [
       "'New York'"
      ]
     },
     "execution_count": 114,
     "metadata": {},
     "output_type": "execute_result"
    }
   ],
   "source": [
    "'New York'"
   ]
  },
  {
   "cell_type": "code",
   "execution_count": 118,
   "metadata": {},
   "outputs": [
    {
     "data": {
      "text/plain": [
       "'York'"
      ]
     },
     "execution_count": 118,
     "metadata": {},
     "output_type": "execute_result"
    }
   ],
   "source": [
    "t = 'New York'\n",
    "t[4:]"
   ]
  },
  {
   "cell_type": "code",
   "execution_count": 121,
   "metadata": {},
   "outputs": [
    {
     "name": "stdout",
     "output_type": "stream",
     "text": [
      "E\n",
      "NEW\n",
      "\n",
      "NEW\n",
      "YORK\n"
     ]
    }
   ],
   "source": [
    "text = 'NEW YORK'\n",
    "print(text[1]) # E: second letter\n",
    "\n",
    "print(text[0:3]) # NEW\n",
    "print(text[40:80]) # YORK\n",
    "\n",
    "print(text[:3]) # NEW\n",
    "print(text[4:]) # YORK"
   ]
  },
  {
   "cell_type": "markdown",
   "metadata": {},
   "source": [
    "Indexes can be address not only from the beginning but also from the end:\n",
    "\n",
    "<img src=\"../Images/slice_2.png\" width=\"500\"> "
   ]
  },
  {
   "cell_type": "code",
   "execution_count": 123,
   "metadata": {},
   "outputs": [
    {
     "name": "stdout",
     "output_type": "stream",
     "text": [
      "E\n",
      "NEW\n",
      "YORK\n",
      "NEW\n"
     ]
    }
   ],
   "source": [
    "text = 'NEW YORK'\n",
    "print(text[-7]) # E: second letter\n",
    "\n",
    "print(text[-8:-5]) # NEW\n",
    "print(text[-4:]) # YORK\n",
    "\n",
    "print(text[:-5]) # NEW\n"
   ]
  },
  {
   "cell_type": "markdown",
   "metadata": {},
   "source": [
    "Slicing has other options which give you more control. We won't cover them here but in this [site](https://www.pythoncentral.io/cutting-and-slicing-strings-in-python/) you can find some interesting examples."
   ]
  },
  {
   "cell_type": "markdown",
   "metadata": {},
   "source": [
    "\n",
    "\n",
    "\n",
    "\n"
   ]
  },
  {
   "cell_type": "code",
   "execution_count": 126,
   "metadata": {},
   "outputs": [],
   "source": [
    "parola = 'pipho'"
   ]
  },
  {
   "cell_type": "code",
   "execution_count": 128,
   "metadata": {},
   "outputs": [
    {
     "data": {
      "text/plain": [
       "'h'"
      ]
     },
     "execution_count": 128,
     "metadata": {},
     "output_type": "execute_result"
    }
   ],
   "source": [
    "parola[-2]"
   ]
  },
  {
   "cell_type": "markdown",
   "metadata": {},
   "source": [
    "#### Replace"
   ]
  },
  {
   "cell_type": "markdown",
   "metadata": {},
   "source": [
    "Returns a new version of the original string in which the str_to_be_replaced instances are replaced with str_to_be_replaced_with:"
   ]
  },
  {
   "cell_type": "code",
   "execution_count": 136,
   "metadata": {},
   "outputs": [
    {
     "name": "stdout",
     "output_type": "stream",
     "text": [
      "I love my cat and my little dog\n"
     ]
    }
   ],
   "source": [
    "text = 'I love my dog and my little dog'\n",
    "print(text.replace('dog', 'cat', 1))"
   ]
  },
  {
   "cell_type": "code",
   "execution_count": 137,
   "metadata": {},
   "outputs": [
    {
     "data": {
      "text/plain": [
       "'tavolo gatto'"
      ]
     },
     "execution_count": 137,
     "metadata": {},
     "output_type": "execute_result"
    }
   ],
   "source": [
    "t = 'tavolo cavolo'\n",
    "t.replace('cavolo', 'gatto')"
   ]
  },
  {
   "cell_type": "markdown",
   "metadata": {},
   "source": [
    "#### Concatenation"
   ]
  },
  {
   "cell_type": "markdown",
   "metadata": {},
   "source": [
    "concatenation allows you to create new strings but concatenating existing string together , using \"+\":"
   ]
  },
  {
   "cell_type": "code",
   "execution_count": 138,
   "metadata": {},
   "outputs": [
    {
     "name": "stdout",
     "output_type": "stream",
     "text": [
      "Hello World!\n"
     ]
    }
   ],
   "source": [
    "text_1 = 'Hello'\n",
    "text_2 = 'World!'\n",
    "text_3 = text_1 + ' ' + text_2\n",
    "\n",
    "print(text_3)"
   ]
  },
  {
   "cell_type": "markdown",
   "metadata": {},
   "source": [
    "\n",
    "\n",
    " \n",
    " "
   ]
  },
  {
   "cell_type": "markdown",
   "metadata": {},
   "source": [
    "#### Strip"
   ]
  },
  {
   "cell_type": "markdown",
   "metadata": {},
   "source": [
    "Removes the given string from the beginning and end of the original string. Note: Like split( ) function, the default value of strip( ) function is space so if you run my_text.strip( ), it cleans my_text string from starting and ending spaces."
   ]
  },
  {
   "cell_type": "code",
   "execution_count": null,
   "metadata": {},
   "outputs": [],
   "source": [
    "print()"
   ]
  },
  {
   "cell_type": "code",
   "execution_count": 144,
   "metadata": {
    "scrolled": true
   },
   "outputs": [
    {
     "name": "stdout",
     "output_type": "stream",
     "text": [
      "Pirelli Spa\n",
      "Continental\n",
      "Python***\n"
     ]
    }
   ],
   "source": [
    "text_1 = ' Pirelli Spa '\n",
    "print(text_1.strip())\n",
    "\n",
    "text_2 = 'Continental -'\n",
    "print(text_2.strip('-').strip())\n",
    "\n",
    "text_3 = '*Python***'\n",
    "print(text_3.lstrip('*')) # There is also \"rsplit\""
   ]
  },
  {
   "cell_type": "markdown",
   "metadata": {},
   "source": [
    "\n",
    "\n",
    "\n",
    "\n"
   ]
  },
  {
   "cell_type": "markdown",
   "metadata": {},
   "source": [
    "Although not string operations, **print** and **len** function are Python built-in functions (more on this later) which can be used with different data types like strings, numbers, lists,..."
   ]
  },
  {
   "cell_type": "markdown",
   "metadata": {},
   "source": [
    "#### Printing a string"
   ]
  },
  {
   "cell_type": "markdown",
   "metadata": {},
   "source": [
    "**print** function prints(!) the input to the stdout(standard output). Note that not all the Python objects can be printed out."
   ]
  },
  {
   "cell_type": "code",
   "execution_count": 42,
   "metadata": {},
   "outputs": [
    {
     "name": "stdout",
     "output_type": "stream",
     "text": [
      "something\n",
      "----------------------------------------\n",
      "just a short text\n",
      "----------------------------------------\n",
      "My name is Navid\n",
      "----------------------------------------\n",
      "University of Bicocca\n",
      "----------------------------------------\n",
      "folder1/folder2/folder3/file\n"
     ]
    }
   ],
   "source": [
    "print('something')\n",
    "print('-'*40)\n",
    "\n",
    "text = 'just a short text'\n",
    "print(text)\n",
    "print('-'*40)\n",
    "\n",
    "text_1 = 'My name is'\n",
    "text_2 = 'Navid'\n",
    "print(text_1, text_2)\n",
    "print('-'*40)\n",
    "\n",
    "text_3 = 'University'\n",
    "text_4 = 'of'\n",
    "text_5 = 'Bicocca'\n",
    "print(text_3, text_4, text_5)\n",
    "print('-'*40)\n",
    "\n",
    "text_6 = 'folder1'\n",
    "text_7 = 'folder2'\n",
    "text_8 = 'folder3'\n",
    "text_9 = 'file'\n",
    "print(text_6, text_7, text_8, text_9, sep='/')"
   ]
  },
  {
   "cell_type": "markdown",
   "metadata": {},
   "source": [
    "#### String  length"
   ]
  },
  {
   "cell_type": "markdown",
   "metadata": {},
   "source": [
    "**len** returns the number of characters in the given string:"
   ]
  },
  {
   "cell_type": "code",
   "execution_count": 48,
   "metadata": {},
   "outputs": [
    {
     "name": "stdout",
     "output_type": "stream",
     "text": [
      "7\n",
      "6\n",
      "7\n"
     ]
    }
   ],
   "source": [
    "print(len('bicocca'))\n",
    "print(len('AC DC!'))\n",
    "print(len(' cane 1'))"
   ]
  },
  {
   "cell_type": "markdown",
   "metadata": {},
   "source": [
    "   "
   ]
  },
  {
   "cell_type": "markdown",
   "metadata": {},
   "source": [
    "<img src=\"../Images/baby.svg\"   width=\"30\" align=\"left\">               "
   ]
  },
  {
   "cell_type": "markdown",
   "metadata": {},
   "source": [
    "**YOUR TURN :** Replace the spaces in the **target** with the 10th character of the **source**:"
   ]
  },
  {
   "cell_type": "code",
   "execution_count": 159,
   "metadata": {},
   "outputs": [],
   "source": [
    "source = '\\'\\'\\'ChUpAcHuPs\"/\"/\"/\"'\n",
    "target = 'pP pP pP sS sS sS cC cC cC'"
   ]
  },
  {
   "cell_type": "code",
   "execution_count": 161,
   "metadata": {},
   "outputs": [],
   "source": [
    "x = source[9]"
   ]
  },
  {
   "cell_type": "code",
   "execution_count": 162,
   "metadata": {},
   "outputs": [
    {
     "data": {
      "text/plain": [
       "'pPHpPHpPHsSHsSHsSHcCHcCHcC'"
      ]
     },
     "execution_count": 162,
     "metadata": {},
     "output_type": "execute_result"
    }
   ],
   "source": [
    "target.replace(' ', x)"
   ]
  },
  {
   "cell_type": "code",
   "execution_count": null,
   "metadata": {},
   "outputs": [],
   "source": [
    "(\\   .-.   .-.   .-.   .-.   .-.   .-.   .-.   .-.   /_\")\n",
    " \\\\_//^\\\\_//^\\\\_//^\\\\_//^\\\\_//^\\\\_//^\\\\_//^\\\\_//^\\\\_//\n",
    "  `\"`   `\"`   `\"`   `\"`   `\"`   `\"`   `\"`   `\"`   `\"`"
   ]
  },
  {
   "cell_type": "markdown",
   "metadata": {},
   "source": [
    "#### Other operations"
   ]
  },
  {
   "cell_type": "markdown",
   "metadata": {},
   "source": [
    "There are some operations that perform a transformation on strings:"
   ]
  },
  {
   "cell_type": "code",
   "execution_count": 46,
   "metadata": {},
   "outputs": [
    {
     "name": "stdout",
     "output_type": "stream",
     "text": [
      "milan\n",
      "MILAN\n",
      "Milan\n"
     ]
    }
   ],
   "source": [
    "text = 'MilaN'\n",
    "print(text.lower())\n",
    "print(text.upper())\n",
    "print(text.title())"
   ]
  },
  {
   "cell_type": "markdown",
   "metadata": {},
   "source": [
    "Being a strongly typed language, Python doesn't let you to use operations on objects unrelated to them. For example \"'Cat' + 3\" gives you a \"TypeError\" since addition operation is for numerical objects not strings:"
   ]
  },
  {
   "cell_type": "code",
   "execution_count": 163,
   "metadata": {},
   "outputs": [
    {
     "ename": "TypeError",
     "evalue": "unsupported operand type(s) for -: 'str' and 'int'",
     "output_type": "error",
     "traceback": [
      "\u001b[0;31m---------------------------------------------------------------------------\u001b[0m",
      "\u001b[0;31mTypeError\u001b[0m                                 Traceback (most recent call last)",
      "\u001b[0;32m<ipython-input-163-4e0850bb4bbf>\u001b[0m in \u001b[0;36m<module>\u001b[0;34m\u001b[0m\n\u001b[0;32m----> 1\u001b[0;31m \u001b[0;34m'cat'\u001b[0m \u001b[0;34m-\u001b[0m \u001b[0;36m3\u001b[0m\u001b[0;34m\u001b[0m\u001b[0;34m\u001b[0m\u001b[0m\n\u001b[0m",
      "\u001b[0;31mTypeError\u001b[0m: unsupported operand type(s) for -: 'str' and 'int'"
     ]
    }
   ],
   "source": [
    "'cat' - 3"
   ]
  },
  {
   "cell_type": "markdown",
   "metadata": {},
   "source": [
    "But at the same time, there are some exceptions. For example \"'cat' * 3\" works since Python assume that you want to repeat the string 'cat' , 3 times:"
   ]
  },
  {
   "cell_type": "code",
   "execution_count": 33,
   "metadata": {},
   "outputs": [
    {
     "data": {
      "text/plain": [
       "'catcatcat'"
      ]
     },
     "execution_count": 33,
     "metadata": {},
     "output_type": "execute_result"
    }
   ],
   "source": [
    "'cat' * 3"
   ]
  },
  {
   "cell_type": "markdown",
   "metadata": {},
   "source": [
    "\n",
    "\n",
    "\n",
    "\n"
   ]
  },
  {
   "cell_type": "markdown",
   "metadata": {},
   "source": [
    "## Booleans"
   ]
  },
  {
   "cell_type": "markdown",
   "metadata": {},
   "source": [
    "Booleans are are another core data type of Python which consist of only two values: **True** and **False**. Boolean values are mainly used when we're somehow comparing different values together. (More on comparisons later).\n",
    "In Python True has a value of 1 while False's value is 0. We can check this fact by converting them to integer:"
   ]
  },
  {
   "cell_type": "code",
   "execution_count": 39,
   "metadata": {},
   "outputs": [
    {
     "name": "stdout",
     "output_type": "stream",
     "text": [
      "1\n",
      "0\n"
     ]
    }
   ],
   "source": [
    "print(int(True))\n",
    "print(int(False))"
   ]
  },
  {
   "cell_type": "markdown",
   "metadata": {},
   "source": [
    "## Lists"
   ]
  },
  {
   "cell_type": "markdown",
   "metadata": {},
   "source": [
    "Lists are one of the most common sequence objects in Python which provide a collection of arbitrary type objects. Lists have several characteristics, like:\n",
    "- List can contain objects with different data types in the same time.\n",
    "- They are mutable.\n",
    "- There is no limit for their length."
   ]
  },
  {
   "cell_type": "code",
   "execution_count": 52,
   "metadata": {},
   "outputs": [],
   "source": [
    "list_A = [1, 'A', 234, 'BATMAN']\n",
    "list_B = ['Na',' Nana', 'Nanana']\n",
    "list_C = [134.05, 87.13, 109, 13.14, 530000, 19]"
   ]
  },
  {
   "cell_type": "code",
   "execution_count": 168,
   "metadata": {},
   "outputs": [],
   "source": [
    "listak = [1, 3, 'na', [1, 6, 8]]"
   ]
  },
  {
   "cell_type": "markdown",
   "metadata": {},
   "source": [
    "let's use some of functions we have used with Strings, this time with lists:"
   ]
  },
  {
   "cell_type": "code",
   "execution_count": 56,
   "metadata": {},
   "outputs": [
    {
     "name": "stdout",
     "output_type": "stream",
     "text": [
      "[1, 'A', 234, 'BATMAN']\n",
      "3\n",
      "13.14\n",
      "['A', 234]\n",
      "['Na', ' Nana', 'Nanana']\n"
     ]
    }
   ],
   "source": [
    "print(list_A) # print\n",
    "print(len(list_B)) # len\n",
    "print(list_C[3]) # slice : asking for just one item\n",
    "print(list_A[1:3]) # we're asking two items so the result will be a list\n",
    "print(list_B[:])"
   ]
  },
  {
   "cell_type": "markdown",
   "metadata": {},
   "source": [
    "Just like Strings, we can concatenate lists together:"
   ]
  },
  {
   "cell_type": "code",
   "execution_count": 173,
   "metadata": {},
   "outputs": [
    {
     "data": {
      "text/plain": [
       "'aagg'"
      ]
     },
     "execution_count": 173,
     "metadata": {},
     "output_type": "execute_result"
    }
   ],
   "source": [
    "'aa' + 'gg'"
   ]
  },
  {
   "cell_type": "code",
   "execution_count": 84,
   "metadata": {},
   "outputs": [
    {
     "data": {
      "text/plain": [
       "[1, 'ABC', 1.0, [4, 98, 11.567]]"
      ]
     },
     "execution_count": 84,
     "metadata": {},
     "output_type": "execute_result"
    }
   ],
   "source": [
    "[1, 'ABC'] + [1.0, [4, 98, 11.567]]\n",
    "# the same result can be achieved by using the following :\n",
    "# [1, 'ABC'].extend([1.0, [4, 98, 11.567]])"
   ]
  },
  {
   "cell_type": "markdown",
   "metadata": {},
   "source": [
    "Using **append** method we can add new items to the end of a list:"
   ]
  },
  {
   "cell_type": "code",
   "execution_count": 67,
   "metadata": {},
   "outputs": [
    {
     "name": "stdout",
     "output_type": "stream",
     "text": [
      "['A', 'B', 'C', 'D']\n"
     ]
    }
   ],
   "source": [
    "my_list = ['A', 'B', 'C']\n",
    "word = 'D'\n",
    "my_list.append(word)\n",
    "print(my_list)"
   ]
  },
  {
   "cell_type": "markdown",
   "metadata": {},
   "source": [
    "While append adds the new item at the end of the list, using **insert** you can insert the item in any inex you want:"
   ]
  },
  {
   "cell_type": "code",
   "execution_count": 190,
   "metadata": {},
   "outputs": [
    {
     "name": "stdout",
     "output_type": "stream",
     "text": [
      "['a', 'bar', 'foo', 'ham']\n"
     ]
    }
   ],
   "source": [
    "my_list = ['a', 'bar', 'foo']\n",
    "my_list.insert(len(my_list), 'ham') # it's equal to my_list.append('ham')\n",
    "print(my_list)"
   ]
  },
  {
   "cell_type": "code",
   "execution_count": 191,
   "metadata": {},
   "outputs": [
    {
     "name": "stdout",
     "output_type": "stream",
     "text": [
      "[4, 5, 1, 9]\n",
      "[9, 5, 4, 1]\n",
      "[1, 4, 5, 9]\n",
      "------------------------------\n",
      "[4, 9, 1, 8, 0]\n",
      "[0, 1, 4, 8, 9]\n",
      "[4, 9, 1, 8, 0]\n"
     ]
    }
   ],
   "source": [
    "small = [4, 5, 1, 9]\n",
    "print(small)\n",
    "small.sort(reverse=True) # Note that sort is an in-place function\n",
    "print(small)\n",
    "small.sort(reverse=False)\n",
    "print(small)\n",
    "\n",
    "print('-'*30)\n",
    "\n",
    "# unlike sort(), sorted creates a new copy of the list and doesn't change \n",
    "# the original list\n",
    "original = [4, 9, 1, 8, 0]\n",
    "print(original)\n",
    "print(sorted(original, reverse=False))\n",
    "print(original)"
   ]
  },
  {
   "cell_type": "markdown",
   "metadata": {},
   "source": [
    "**remove**, **pop** and **del** are used to remove an item from a list:"
   ]
  },
  {
   "cell_type": "code",
   "execution_count": 56,
   "metadata": {},
   "outputs": [
    {
     "name": "stdout",
     "output_type": "stream",
     "text": [
      "['B', 'C', 'A', 'D', 'A']\n"
     ]
    }
   ],
   "source": [
    "# remove\n",
    "\n",
    "list_1 = ['A', 'B', 'C', 'A', 'D', 'A']\n",
    "list_1.remove('A')\n",
    "print(list_1)"
   ]
  },
  {
   "cell_type": "code",
   "execution_count": 80,
   "metadata": {},
   "outputs": [
    {
     "name": "stdout",
     "output_type": "stream",
     "text": [
      "[1, 2, 4, 5, 6]\n",
      "[1, 2, 3, 4, 5]\n"
     ]
    }
   ],
   "source": [
    "# pop\n",
    "\n",
    "list_2 = [1, 2, 3, 4, 5, 6]\n",
    "list_2.pop(2)\n",
    "print(list_2)\n",
    "\n",
    "list_2 = [1, 2, 3, 4, 5, 6]\n",
    "list_2.pop()\n",
    "print(list_2)"
   ]
  },
  {
   "cell_type": "code",
   "execution_count": 82,
   "metadata": {},
   "outputs": [
    {
     "name": "stdout",
     "output_type": "stream",
     "text": [
      "[1, 2, 4, 5, 6]\n",
      "[1, 2, 3]\n"
     ]
    }
   ],
   "source": [
    "# del\n",
    "\n",
    "list_2 = [1, 2, 3, 4, 5, 6]\n",
    "del list_2[2]\n",
    "print(list_2)\n",
    "\n",
    "list_2 = [1, 2, 3, 4, 5, 6]\n",
    "del list_2[3:]\n",
    "print(list_2)"
   ]
  },
  {
   "cell_type": "markdown",
   "metadata": {},
   "source": [
    "Lists are mutable, it means we can change their contents in-place:"
   ]
  },
  {
   "cell_type": "code",
   "execution_count": 105,
   "metadata": {},
   "outputs": [
    {
     "name": "stdout",
     "output_type": "stream",
     "text": [
      "['spam', 'ham', 'bar', 'foo']\n"
     ]
    }
   ],
   "source": [
    "some_list = ['spam', 'ham', 'car', 'foo']\n",
    "some_list[2] = 'bar'\n",
    "print(some_list)"
   ]
  },
  {
   "cell_type": "markdown",
   "metadata": {},
   "source": [
    "As last, let's see how can we check if an item is in a list or not:"
   ]
  },
  {
   "cell_type": "code",
   "execution_count": 194,
   "metadata": {},
   "outputs": [
    {
     "name": "stdout",
     "output_type": "stream",
     "text": [
      "True\n"
     ]
    }
   ],
   "source": [
    "target_1 = 11\n",
    "my_vals = [1, 56, 876, 32, 11, 6, 9]\n",
    "\n",
    "print(target_1 in my_vals)"
   ]
  },
  {
   "cell_type": "markdown",
   "metadata": {},
   "source": [
    "It may seems useless since you can easily see if a certain value exists in a list but remember that not always deal with small lists which you can simply visualize. \n",
    "\n",
    "By using **not in** instead of **in** we can check if an item doesn't exists in a list:"
   ]
  },
  {
   "cell_type": "code",
   "execution_count": 42,
   "metadata": {},
   "outputs": [
    {
     "name": "stdout",
     "output_type": "stream",
     "text": [
      "False\n"
     ]
    }
   ],
   "source": [
    "target_2 = 32\n",
    "print(target_2 not in my_vals)"
   ]
  },
  {
   "cell_type": "markdown",
   "metadata": {},
   "source": [
    "   "
   ]
  },
  {
   "cell_type": "markdown",
   "metadata": {},
   "source": [
    "<img src=\"../Images/student.svg\"   width=\"30\" align=\"left\">               "
   ]
  },
  {
   "cell_type": "markdown",
   "metadata": {},
   "source": [
    "**YOUR TURN :** Using slicing, get the letter **x** from final_list :"
   ]
  },
  {
   "cell_type": "code",
   "execution_count": 195,
   "metadata": {},
   "outputs": [
    {
     "name": "stdout",
     "output_type": "stream",
     "text": [
      "Original : [1, 4, 8, 'foo']\n",
      "First change : [1, 4, ['ham', '1', 2, 6], 'foo']\n",
      "Second change : [1, 4, ['ham', '1', 2, ['4', '2', 'xyz', '6']], 'foo']\n"
     ]
    }
   ],
   "source": [
    "my_list = [1, 4, 8, 'foo']\n",
    "your_list = ['ham', '1', 2, 6]\n",
    "his_list = ['4', '2', 'xyz', '6']\n",
    "\n",
    "\n",
    "print(f'Original : {my_list}')\n",
    "my_list[-2] = your_list\n",
    "\n",
    "print(f'First change : {my_list}')\n",
    "my_list[-2][-1] = his_list\n",
    "\n",
    "print(f'Second change : {my_list}')\n",
    "final_list = my_list"
   ]
  },
  {
   "cell_type": "code",
   "execution_count": 198,
   "metadata": {},
   "outputs": [
    {
     "data": {
      "text/plain": [
       "[1, 4, ['ham', '1', 2, ['4', '2', 'xyz', '6']], 'foo']"
      ]
     },
     "execution_count": 198,
     "metadata": {},
     "output_type": "execute_result"
    }
   ],
   "source": [
    "final_list"
   ]
  },
  {
   "cell_type": "code",
   "execution_count": null,
   "metadata": {},
   "outputs": [],
   "source": [
    "(\\   .-.   .-.   .-.   .-.   .-.   .-.   .-.   .-.   /_\")\n",
    " \\\\_//^\\\\_//^\\\\_//^\\\\_//^\\\\_//^\\\\_//^\\\\_//^\\\\_//^\\\\_//\n",
    "  `\"`   `\"`   `\"`   `\"`   `\"`   `\"`   `\"`   `\"`   `\"`"
   ]
  },
  {
   "cell_type": "markdown",
   "metadata": {},
   "source": [
    "## A recap before we go further"
   ]
  },
  {
   "cell_type": "code",
   "execution_count": null,
   "metadata": {},
   "outputs": [],
   "source": [
    "age = 31.5\n",
    "city = 'Milano'\n",
    "glasses = True\n",
    "pets = ['Oliver -1.5', 'Zolli -9']"
   ]
  },
  {
   "cell_type": "code",
   "execution_count": null,
   "metadata": {},
   "outputs": [],
   "source": [
    "# convert the age to integer\n",
    "age = "
   ]
  },
  {
   "cell_type": "code",
   "execution_count": null,
   "metadata": {},
   "outputs": [],
   "source": [
    "# lowecase the city\n",
    "city = "
   ]
  },
  {
   "cell_type": "code",
   "execution_count": null,
   "metadata": {},
   "outputs": [],
   "source": [
    "#create two variables containing pet ages\n",
    "o_age = \n",
    "z_age = "
   ]
  },
  {
   "cell_type": "code",
   "execution_count": null,
   "metadata": {},
   "outputs": [],
   "source": [
    "# add the pets ages to a new list\n",
    "pets_age = "
   ]
  },
  {
   "cell_type": "markdown",
   "metadata": {},
   "source": [
    "## Dictionaries"
   ]
  },
  {
   "cell_type": "markdown",
   "metadata": {},
   "source": [
    "Dictionaries, Like a lists, are built-in sequence objects which can contain different data types. The main difference between lists and dictionaries is that unlike lists, dictionaries are not ordered collection of items, and as a result you can access their contents using indexes and positions. Instead dictionaries can be accessed using a key:value method."
   ]
  },
  {
   "cell_type": "code",
   "execution_count": 108,
   "metadata": {},
   "outputs": [
    {
     "name": "stdout",
     "output_type": "stream",
     "text": [
      "X\n"
     ]
    }
   ],
   "source": [
    "dict_1 = {'A': 1, 'B': 3, 'D': 'X'}\n",
    "print(dict_1['D'])"
   ]
  },
  {
   "cell_type": "markdown",
   "metadata": {},
   "source": [
    "Adding items to a dictionary is easy. Just remember that you can't just add a value like, 10, but you also need to add a key:value pair:"
   ]
  },
  {
   "cell_type": "code",
   "execution_count": 68,
   "metadata": {},
   "outputs": [],
   "source": [
    "shirt = {'color': 'red', 'size': 'M', 'quantity': 15}"
   ]
  },
  {
   "cell_type": "code",
   "execution_count": 69,
   "metadata": {},
   "outputs": [
    {
     "data": {
      "text/plain": [
       "15"
      ]
     },
     "execution_count": 69,
     "metadata": {},
     "output_type": "execute_result"
    }
   ],
   "source": [
    "shirt['quantity']"
   ]
  },
  {
   "cell_type": "code",
   "execution_count": 117,
   "metadata": {},
   "outputs": [
    {
     "name": "stdout",
     "output_type": "stream",
     "text": [
      "{'color': 'red', 'size': 'M', 'quantity': 15, 'price': 45}\n"
     ]
    }
   ],
   "source": [
    "shirt['price'] = 45\n",
    "print(shirt)"
   ]
  },
  {
   "cell_type": "markdown",
   "metadata": {},
   "source": [
    "Create a dictionary with your **name, age, city**"
   ]
  },
  {
   "cell_type": "code",
   "execution_count": 70,
   "metadata": {},
   "outputs": [],
   "source": [
    "new_dict = {'name' : 'Navid', 'age': 31, 'city': 'Milan'}"
   ]
  },
  {
   "cell_type": "code",
   "execution_count": 71,
   "metadata": {},
   "outputs": [
    {
     "name": "stdout",
     "output_type": "stream",
     "text": [
      "{'name': 'Navid', 'age': 31, 'city': 'Milan'}\n"
     ]
    }
   ],
   "source": [
    "print(new_dict)"
   ]
  },
  {
   "cell_type": "markdown",
   "metadata": {},
   "source": [
    "In the same way you can remove a key:value pair:"
   ]
  },
  {
   "cell_type": "code",
   "execution_count": 121,
   "metadata": {},
   "outputs": [
    {
     "name": "stdout",
     "output_type": "stream",
     "text": [
      "{'color': 'red', 'quantity': 15, 'price': 45}\n"
     ]
    }
   ],
   "source": [
    "del shirt['size']\n",
    "print(shirt)"
   ]
  },
  {
   "cell_type": "markdown",
   "metadata": {},
   "source": [
    "Some useful methods:"
   ]
  },
  {
   "cell_type": "code",
   "execution_count": 123,
   "metadata": {},
   "outputs": [
    {
     "name": "stdout",
     "output_type": "stream",
     "text": [
      "dict_keys(['color', 'quantity', 'price'])\n",
      "dict_values(['red', 15, 45])\n"
     ]
    }
   ],
   "source": [
    "print(shirt.keys())\n",
    "print(shirt.values())"
   ]
  },
  {
   "cell_type": "markdown",
   "metadata": {},
   "source": [
    "## Tuples"
   ]
  },
  {
   "cell_type": "markdown",
   "metadata": {},
   "source": [
    "Tuples are very similar to lists but unlike lists, are not mutable. It means you can't modify them in-place as you can do with lists. (But still you can access their contents using indexes):"
   ]
  },
  {
   "cell_type": "code",
   "execution_count": 125,
   "metadata": {},
   "outputs": [
    {
     "name": "stdout",
     "output_type": "stream",
     "text": [
      "foo\n"
     ]
    }
   ],
   "source": [
    "my_tuple = (1, 3, 'foo')\n",
    "print(my_tuple[2])"
   ]
  },
  {
   "cell_type": "code",
   "execution_count": 126,
   "metadata": {},
   "outputs": [
    {
     "ename": "TypeError",
     "evalue": "'tuple' object does not support item assignment",
     "output_type": "error",
     "traceback": [
      "\u001b[0;31m---------------------------------------------------------------------------\u001b[0m",
      "\u001b[0;31mTypeError\u001b[0m                                 Traceback (most recent call last)",
      "\u001b[0;32m<ipython-input-126-cab1511fedb5>\u001b[0m in \u001b[0;36m<module>\u001b[0;34m\u001b[0m\n\u001b[0;32m----> 1\u001b[0;31m \u001b[0mmy_tuple\u001b[0m\u001b[0;34m[\u001b[0m\u001b[0;36m0\u001b[0m\u001b[0;34m]\u001b[0m \u001b[0;34m=\u001b[0m \u001b[0;34m'ham'\u001b[0m\u001b[0;34m\u001b[0m\u001b[0;34m\u001b[0m\u001b[0m\n\u001b[0m",
      "\u001b[0;31mTypeError\u001b[0m: 'tuple' object does not support item assignment"
     ]
    }
   ],
   "source": [
    "my_tuple[0] = 'ham'"
   ]
  },
  {
   "cell_type": "markdown",
   "metadata": {},
   "source": [
    "## Files"
   ]
  },
  {
   "cell_type": "markdown",
   "metadata": {},
   "source": [
    "Technically speaking files are categorized as one of the core python data types (like strings, lists,...) while actually they are external objects saved on your machine which are imported to Python using python built-in functions like **open**. Python, either using built-in function or external libraries is able to read from and write to a wide range of files. Here we'll going to see three commonly used files: *.txt , .csv* and *.json* files."
   ]
  },
  {
   "cell_type": "markdown",
   "metadata": {},
   "source": [
    "### Text files"
   ]
  },
  {
   "cell_type": "code",
   "execution_count": 73,
   "metadata": {},
   "outputs": [],
   "source": [
    "# creating a new file and writing to it\n",
    "file = open('first_text_file.txt', 'w')\n",
    "file.write('Navid Nobani')\n",
    "file.close()"
   ]
  },
  {
   "cell_type": "code",
   "execution_count": 74,
   "metadata": {},
   "outputs": [],
   "source": [
    "# openning an existing file and writing to it\n",
    "file = open('first_text_file.txt', 'a')\n",
    "file.write('\\nanother line!')\n",
    "file.close()"
   ]
  },
  {
   "cell_type": "code",
   "execution_count": 77,
   "metadata": {},
   "outputs": [
    {
     "name": "stdout",
     "output_type": "stream",
     "text": [
      "Hello World!\n",
      "\n"
     ]
    }
   ],
   "source": [
    "# openning an existing file and reading from it\n",
    "file = open('first_text_file.txt', 'r')\n",
    "line = file.readline()\n",
    "print(line)\n",
    "file.close()"
   ]
  },
  {
   "cell_type": "markdown",
   "metadata": {},
   "source": [
    "As you have noticed, in order to read from/write to a file, we do these steps:\n",
    "- open/create a file\n",
    "- read from/write to it\n",
    "- close the file\n",
    "\n",
    "Just like opening and actions you do on the file, closing it is absolutely important since having an open instance uses your RAM and slows down your script. Actually there is a better way to manage opening and closing files which is using content managers. Given our limited time we can't go in details here but fortunately using them is easy. Look at the following example:"
   ]
  },
  {
   "cell_type": "code",
   "execution_count": 79,
   "metadata": {},
   "outputs": [],
   "source": [
    "with open('first_text_file.txt', 'w') as file:\n",
    "    file.write('Some funny text :D')"
   ]
  },
  {
   "cell_type": "markdown",
   "metadata": {},
   "source": [
    "This is equal to the following code:"
   ]
  },
  {
   "cell_type": "code",
   "execution_count": 80,
   "metadata": {},
   "outputs": [],
   "source": [
    "# creating a new file and writing to it\n",
    "file = open('second_text_file.txt', 'w')\n",
    "file.write('Some funny text :D')\n",
    "file.close()"
   ]
  },
  {
   "cell_type": "markdown",
   "metadata": {},
   "source": [
    "### CSV Files"
   ]
  },
  {
   "cell_type": "markdown",
   "metadata": {},
   "source": [
    "There are two main ways to open a csv file: \n",
    "- using [csv module](https://docs.python.org/3/library/csv.html) ( which comes with python)\n",
    "- or using [pandas library](https://pandas.pydata.org/) (which you should install it first)\n",
    "\n",
    "*[This site](https://realpython.com/python-csv/) has a rich explanation about csv files in Python.*\n",
    "\n",
    "first let's take a look at csv library:"
   ]
  },
  {
   "cell_type": "code",
   "execution_count": null,
   "metadata": {},
   "outputs": [],
   "source": [
    "import csv # NEW STUFF !\n",
    "\n",
    "with open('./files/data/camdenhousesales15.csv') as csv_file:\n",
    "    csv_reader = csv.reader(csv_file, delimiter=',')\n",
    "    for row in csv_reader: # NEW STUFF !\n",
    "        print(row)"
   ]
  },
  {
   "cell_type": "markdown",
   "metadata": {},
   "source": [
    "For working with csv files (specially the big ones!) I personally prefer pandas library over csv module. Later in the course we'll briefly learn about pandas but let's have a sneak peek now!"
   ]
  },
  {
   "cell_type": "code",
   "execution_count": null,
   "metadata": {},
   "outputs": [],
   "source": [
    "import pandas as pd\n",
    "\n",
    "df = pd.read_csv('./files/data/camdenhousesales15.csv')\n",
    "df"
   ]
  },
  {
   "cell_type": "markdown",
   "metadata": {},
   "source": [
    "The table you see in the previous cell is a \"DataFrame\" one of the most important non-core data types you'll use in data science field. We'll learn more about dataframes later in the course."
   ]
  },
  {
   "cell_type": "markdown",
   "metadata": {},
   "source": [
    "# Functions"
   ]
  },
  {
   "cell_type": "markdown",
   "metadata": {},
   "source": [
    "Python functions are a bundle of code that perform a specific functionality if this functionality is going to be reused later in another part of the code. "
   ]
  },
  {
   "cell_type": "markdown",
   "metadata": {},
   "source": [
    "Suppose we want to perform some simple statistics on a list of numbers:"
   ]
  },
  {
   "cell_type": "code",
   "execution_count": 55,
   "metadata": {},
   "outputs": [
    {
     "name": "stdout",
     "output_type": "stream",
     "text": [
      "0.2883400052995804\n",
      "0.49948825007353703\n",
      "0.5006297820093312\n",
      "5.536675737993768e-06\n",
      "0.999992042302966\n"
     ]
    }
   ],
   "source": [
    "import numpy as np\n",
    "np.random.seed(42)\n",
    "\n",
    "data = np.random.rand(1,100_000).tolist()[0]\n",
    "std = np.std(data)\n",
    "mean = np.mean(data)\n",
    "median = np.median(data)\n",
    "min_val = min(data)\n",
    "max_val = max(data)\n",
    "for val in [std, mean, median, min_val, max_val]:\n",
    "    print(val)"
   ]
  },
  {
   "cell_type": "markdown",
   "metadata": {},
   "source": [
    "Ok, we did it! but what if we now want to repeat these processes for another list of numbers. We have two options:\n",
    "    \n",
    "- Updating the data variable with a new list\n",
    "- Re-write all the steps for another list\n",
    "\n",
    "Both these solutions are bad! or at least not Pythonic. The correct way to deal with such a task is to pack them as a function."
   ]
  },
  {
   "cell_type": "markdown",
   "metadata": {},
   "source": [
    "## Built-in functions"
   ]
  },
  {
   "cell_type": "markdown",
   "metadata": {},
   "source": [
    "Until this point, we have many functions without knowing the exact definition of a function! We've seen:\n",
    "\n",
    "- print\n",
    "- len\n",
    "- max\n",
    "- min\n",
    "\n",
    "These are just few example of hundreds of functions that are part of core python language (it means to use them you don't need to import any library/package). A function always has the following structure:\n",
    "\n",
    "<img src=\"../Images/function.png\" width=\"500\"> \n",
    "\n",
    "Parameters are inputs that functions may or may not need in order to perform their desired tasks. For example lats take a look at **print** function which take a string as input and prints it."
   ]
  },
  {
   "cell_type": "code",
   "execution_count": 25,
   "metadata": {},
   "outputs": [
    {
     "name": "stdout",
     "output_type": "stream",
     "text": [
      "My shiny text!\n",
      "\n",
      "X+++Y+++Z\n",
      "X Y Z +++ °°°\n"
     ]
    }
   ],
   "source": [
    "print('My shiny text!')\n",
    "print() # prints an empty line\n",
    "print('X', 'Y', 'Z', sep='+++', end='\\n')\n",
    "print('X', 'Y', 'Z', '+++', '°°°')"
   ]
  },
  {
   "cell_type": "markdown",
   "metadata": {},
   "source": [
    "you can see that print accepts zero , one or (technically) infinite number of parameters. Let's see another built-in function : **map**\n",
    "\n",
    "**map** returns a special iterable with type \"map\":"
   ]
  },
  {
   "cell_type": "code",
   "execution_count": 42,
   "metadata": {},
   "outputs": [
    {
     "data": {
      "text/plain": [
       "[-1.567, 0.2, -65.0]"
      ]
     },
     "execution_count": 42,
     "metadata": {},
     "output_type": "execute_result"
    }
   ],
   "source": [
    "my_list = ['-1.567', '0.2', '-65']\n",
    "list(map(float, my_list))"
   ]
  },
  {
   "cell_type": "markdown",
   "metadata": {},
   "source": [
    "map takes either no parameter and returns an empty list or takes two or more parameters.(let's say the function we want to apply and the iterable we want to apply function to). It means it won't work with just one parameter(function or iterable) and we will get a \"TypeError\" message."
   ]
  },
  {
   "cell_type": "markdown",
   "metadata": {},
   "source": [
    "  "
   ]
  },
  {
   "cell_type": "markdown",
   "metadata": {},
   "source": [
    "<img src=\"../Images/student.svg\"   width=\"30\" align=\"left\">               "
   ]
  },
  {
   "cell_type": "markdown",
   "metadata": {},
   "source": [
    "**YOUR TURN :** using **map** and **abs** functions, create a list with the absolute value of the list's items."
   ]
  },
  {
   "cell_type": "code",
   "execution_count": 76,
   "metadata": {},
   "outputs": [
    {
     "data": {
      "text/plain": [
       "[1, 5.5, 9, 123, 65]"
      ]
     },
     "execution_count": 76,
     "metadata": {},
     "output_type": "execute_result"
    }
   ],
   "source": [
    "new_list = [-1, 5.5, -9, -123, 65]\n",
    "list(map(abs, new_list))"
   ]
  },
  {
   "cell_type": "markdown",
   "metadata": {},
   "source": [
    "## Custom functions"
   ]
  },
  {
   "cell_type": "markdown",
   "metadata": {},
   "source": [
    "Although there are numerous built-in and third-party modules and packages ready to be used by you, there are some tasks that are too specific which you can't find any existing module/function to do that task for you. In these cases ( which happen a lot) we need to write our own functions.\n",
    "Consider the initial example we saw at the beginning of the \"functions\", calculating some simple statistics."
   ]
  },
  {
   "cell_type": "code",
   "execution_count": 85,
   "metadata": {},
   "outputs": [],
   "source": [
    "def simple_stat(data, log=True):\n",
    "    \"\"\"Calculating simple statistics of a given list.\n",
    "    \n",
    "    For the the given list of numbers, calculates standard deviation, \n",
    "    Mean, Median, Minimum and Maximum statistics.\n",
    "\n",
    "    Args:\n",
    "        data : A list of numerical data.\n",
    "        log: If True, prints a simple report.\n",
    "        \n",
    "    Returns:\n",
    "        Return a list of the given numbers\n",
    "    \"\"\"\n",
    "    std = np.std(data)\n",
    "    mean = np.mean(data)\n",
    "    median = np.median(data)\n",
    "    min_val = min(data)\n",
    "    max_val = max(data)\n",
    "    \n",
    "    vals = [std, mean, median, min_val, max_val]\n",
    "    names = ['Standard deviation', 'Mean', 'Median', 'Min', 'Max']\n",
    "    \n",
    "    if log:\n",
    "        for name, val in zip(names, vals):\n",
    "            print(f'{name} : {val}')\n",
    "            #print(f'{name} : {round(val, 2)}')\n",
    "    return vals"
   ]
  },
  {
   "cell_type": "code",
   "execution_count": 79,
   "metadata": {},
   "outputs": [],
   "source": [
    "def simple_stat(data):\n",
    "    \n",
    "    std = np.std(data)\n",
    "    mean = np.mean(data)\n",
    "    median = np.median(data)\n",
    "    min_val = min(data)\n",
    "    max_val = max(data)\n",
    "    \n",
    "    vals = [std, mean, median, min_val, max_val]\n",
    "    names = ['Standard deviation', 'Mean', 'Median', 'Min', 'Max']\n",
    "    \n",
    "    for name, val in zip(names, vals):\n",
    "        print(f'{name} : {val}')\n",
    "    return vals"
   ]
  },
  {
   "cell_type": "code",
   "execution_count": 81,
   "metadata": {},
   "outputs": [],
   "source": [
    "import numpy as np"
   ]
  },
  {
   "cell_type": "code",
   "execution_count": 86,
   "metadata": {},
   "outputs": [
    {
     "name": "stdout",
     "output_type": "stream",
     "text": [
      "Standard deviation : 0.29\n",
      "Mean : 0.5\n",
      "Median : 0.5\n",
      "Min : 0.0\n",
      "Max : 1.0\n"
     ]
    }
   ],
   "source": [
    "np.random.seed(42)\n",
    "\n",
    "data = np.random.rand(1,100_000).tolist()[0]\n",
    "results = simple_stat(data)"
   ]
  },
  {
   "cell_type": "markdown",
   "metadata": {},
   "source": [
    "Following figure shows the structure of a custom function:\n",
    "\n",
    "<img src=\"../Images/function_detail.png\" width=\"900\"> "
   ]
  },
  {
   "cell_type": "markdown",
   "metadata": {},
   "source": [
    "<img src=\"../Images/student.svg\"   width=\"30\" align=\"left\">               "
   ]
  },
  {
   "cell_type": "markdown",
   "metadata": {},
   "source": [
    "**YOUR TURN :** \n",
    "\n",
    "- Using **round** function, modify the *simple_stat* in a way that returns the 2-digit rounded values.\n",
    "- Add *range* statistics to results"
   ]
  },
  {
   "cell_type": "code",
   "execution_count": 84,
   "metadata": {},
   "outputs": [
    {
     "data": {
      "text/plain": [
       "134.4564"
      ]
     },
     "execution_count": 84,
     "metadata": {},
     "output_type": "execute_result"
    }
   ],
   "source": [
    "round(134.456435453, 4)"
   ]
  },
  {
   "cell_type": "code",
   "execution_count": null,
   "metadata": {},
   "outputs": [],
   "source": [
    "(\\   .-.   .-.   .-.   .-.   .-.   .-.   .-.   .-.   /_\")\n",
    " \\\\_//^\\\\_//^\\\\_//^\\\\_//^\\\\_//^\\\\_//^\\\\_//^\\\\_//^\\\\_//\n",
    "  `\"`   `\"`   `\"`   `\"`   `\"`   `\"`   `\"`   `\"`   `\"`"
   ]
  },
  {
   "cell_type": "markdown",
   "metadata": {},
   "source": [
    "## Lambda functions"
   ]
  },
  {
   "cell_type": "markdown",
   "metadata": {},
   "source": [
    "Lambda functions are smaller and simpler version of normal function which come handy when we use **functional programming** features of Python. Providing a technical definition of functional programming is way beyond scope of our mini-course but in a nutshell, it means using functions as arguments of other functions. \n",
    "Let's first see the example of map function we saw:"
   ]
  },
  {
   "cell_type": "code",
   "execution_count": 58,
   "metadata": {},
   "outputs": [
    {
     "data": {
      "text/plain": [
       "[-1.567, 0.2, -65.0]"
      ]
     },
     "execution_count": 58,
     "metadata": {},
     "output_type": "execute_result"
    }
   ],
   "source": [
    "my_list = ['-1.567', '0.2', '-65']\n",
    "list(map(float, my_list))"
   ]
  },
  {
   "cell_type": "markdown",
   "metadata": {},
   "source": [
    "Now suppose that on top of changing the data types from str to float, we want to add 100 to each of them. remember how map function . works? It applies the first argument you give to it (in this case, float) to the sequence you pass as the second argument (in our example: my_list). So it's clear that we need to somehow change float to *something* that also adds 100 to each item. This *something* either should be *type* or a *function*. Ok, based on whjat we have learned until this point, create a custom function which does what we want:"
   ]
  },
  {
   "cell_type": "code",
   "execution_count": 59,
   "metadata": {},
   "outputs": [],
   "source": [
    "def float_plus_100(number):\n",
    "    \"\"\"Converts the given number to float and adds 100 to it\n",
    "    \n",
    "    args:\n",
    "        number : int or float\n",
    "        \n",
    "    returns:\n",
    "        float\n",
    "    \"\"\"\n",
    "    return float(number) + 100"
   ]
  },
  {
   "cell_type": "markdown",
   "metadata": {},
   "source": [
    "Ok, our function is ready. Let's test it:"
   ]
  },
  {
   "cell_type": "code",
   "execution_count": 60,
   "metadata": {},
   "outputs": [
    {
     "data": {
      "text/plain": [
       "103.14"
      ]
     },
     "execution_count": 60,
     "metadata": {},
     "output_type": "execute_result"
    }
   ],
   "source": [
    "float_plus_100('3.14')"
   ]
  },
  {
   "cell_type": "markdown",
   "metadata": {},
   "source": [
    "It works! Now we can add it to our map function:"
   ]
  },
  {
   "cell_type": "code",
   "execution_count": 61,
   "metadata": {},
   "outputs": [
    {
     "data": {
      "text/plain": [
       "[98.433, 100.2, 35.0]"
      ]
     },
     "execution_count": 61,
     "metadata": {},
     "output_type": "execute_result"
    }
   ],
   "source": [
    "list(map(float_plus_100, my_list))"
   ]
  },
  {
   "cell_type": "markdown",
   "metadata": {},
   "source": [
    "We did it! The only problem is in order to perform such a simple task we had to write a function, which most probably we're not going to use it again! That's why lambda functions exist! Let's re-write or code using lambda:"
   ]
  },
  {
   "cell_type": "code",
   "execution_count": 62,
   "metadata": {},
   "outputs": [
    {
     "data": {
      "text/plain": [
       "[98.433, 100.2, 35.0]"
      ]
     },
     "execution_count": 62,
     "metadata": {},
     "output_type": "execute_result"
    }
   ],
   "source": [
    "list(map(lambda x : float(x)+100, my_list))"
   ]
  },
  {
   "cell_type": "markdown",
   "metadata": {},
   "source": [
    "As you can see, we did the same thing without defining any function. In the following figure you can see the comparison between a lambda function and its corespondent function:\n",
    "\n",
    "<img src=\"../Images/lambda.png\" width=\"800\"> "
   ]
  },
  {
   "cell_type": "markdown",
   "metadata": {},
   "source": [
    "Such a comparison may indicate that lambda functions are the definite choice but in reality, we use functions way more than we use lambdas since dealing with real data, often we should perform tasks that are too complex to be written as a lambda function."
   ]
  },
  {
   "cell_type": "markdown",
   "metadata": {},
   "source": [
    "# Control Flow"
   ]
  },
  {
   "cell_type": "markdown",
   "metadata": {},
   "source": [
    "Until now, we've works with single items. for example we sliced a string, or write a file. But what if we want to do something (perform an action) on a sequence of objects? The first type of loops we explore is for loops."
   ]
  },
  {
   "cell_type": "markdown",
   "metadata": {},
   "source": [
    "## For statement"
   ]
  },
  {
   "cell_type": "markdown",
   "metadata": {},
   "source": [
    "Suppose that we have a list of our colleagues year of births and we want to calculate their ages, print them and put them in a new list called ages:"
   ]
  },
  {
   "cell_type": "code",
   "execution_count": 88,
   "metadata": {},
   "outputs": [],
   "source": [
    "years = [1987, 1990, 1980, 1973]\n",
    "ages = [] # creating an empty list"
   ]
  },
  {
   "cell_type": "markdown",
   "metadata": {},
   "source": [
    "We know how to get a list's items using indexes. So what if we take each item and subtract it from 2019?"
   ]
  },
  {
   "cell_type": "code",
   "execution_count": 89,
   "metadata": {},
   "outputs": [
    {
     "name": "stdout",
     "output_type": "stream",
     "text": [
      "32\n",
      "29\n",
      "39\n",
      "46\n"
     ]
    }
   ],
   "source": [
    "age_1 = 2019 - years[0]\n",
    "print(age_1)\n",
    "ages.append(age_1)\n",
    "\n",
    "age_2 = 2019 - years[1]\n",
    "print(age_2)\n",
    "ages.append(age_2)\n",
    "\n",
    "age_3 = 2019 - years[2]\n",
    "print(age_3)\n",
    "ages.append(age_3)\n",
    "\n",
    "age_4 = 2019 - years[3]\n",
    "print(age_4)\n",
    "ages.append(age_4)"
   ]
  },
  {
   "cell_type": "code",
   "execution_count": 90,
   "metadata": {},
   "outputs": [
    {
     "name": "stdout",
     "output_type": "stream",
     "text": [
      "[32, 29, 39, 46]\n"
     ]
    }
   ],
   "source": [
    "print(ages)"
   ]
  },
  {
   "cell_type": "markdown",
   "metadata": {},
   "source": [
    "Ok, we did what we've we asked for! but I think you agree that it wasn't quite efficient as we've written more than 12 lines of code to perform three simple operations on 4 items! imagine you want to calculate the age of all Bicocca employees! Fortunately we for repetitive tasks like this( when we are dealing with sequence objects like lists, tuples, dictionaries or strings) we can use loops. In this case we're going to use a for loop:"
   ]
  },
  {
   "cell_type": "code",
   "execution_count": 98,
   "metadata": {},
   "outputs": [
    {
     "name": "stdout",
     "output_type": "stream",
     "text": [
      "32\n",
      "29\n",
      "39\n",
      "46\n"
     ]
    }
   ],
   "source": [
    "ages = []\n",
    "for year in years:\n",
    "    age = 2019 - year\n",
    "    print(age)\n",
    "    ages.append(age)"
   ]
  },
  {
   "cell_type": "markdown",
   "metadata": {},
   "source": [
    "This is the general structure of a for loop:\n",
    "\n",
    "<img src=\"../Images/for_loop.png\" width=\"500\"> "
   ]
  },
  {
   "cell_type": "markdown",
   "metadata": {},
   "source": [
    "*Notice: for loops can have an \"else\" clause but we're not going to talk about them here*"
   ]
  },
  {
   "cell_type": "markdown",
   "metadata": {},
   "source": [
    "  "
   ]
  },
  {
   "cell_type": "markdown",
   "metadata": {},
   "source": [
    "<img src=\"../Images/baby.svg\"   width=\"30\" align=\"left\">               "
   ]
  },
  {
   "cell_type": "markdown",
   "metadata": {},
   "source": [
    "**YOUR TURN**:\n",
    "In the previous example, Why can't we define the empty list inside the loop instead of outside it?"
   ]
  },
  {
   "cell_type": "code",
   "execution_count": null,
   "metadata": {},
   "outputs": [],
   "source": [
    "(\\   .-.   .-.   .-.   .-.   .-.   .-.   .-.   .-.   /_\")\n",
    " \\\\_//^\\\\_//^\\\\_//^\\\\_//^\\\\_//^\\\\_//^\\\\_//^\\\\_//^\\\\_//\n",
    "  `\"`   `\"`   `\"`   `\"`   `\"`   `\"`   `\"`   `\"`   `\"`"
   ]
  },
  {
   "cell_type": "markdown",
   "metadata": {},
   "source": [
    "## While statement"
   ]
  },
  {
   "cell_type": "markdown",
   "metadata": {},
   "source": [
    "While loops has a similar objective as for loops but while for loops, in theory iterate through all the items in the provided sequence, a while loop goes forward until meeting a certain condition.\n",
    "Suppose we want to print numbers between 0 and 10 and we want to do it using **while**.\n",
    "Let's see the info we have from the question:\n",
    "\n",
    "- we should print numbers\n",
    "- numbers should be between 0 and 10"
   ]
  },
  {
   "cell_type": "code",
   "execution_count": 10,
   "metadata": {},
   "outputs": [
    {
     "name": "stdout",
     "output_type": "stream",
     "text": [
      "0-1-2-3-4-5-6-7-8-9-10-"
     ]
    }
   ],
   "source": [
    "num = 0 # initial number is set to 0\n",
    "while num <= 10: # while the number is less than or equal 10, continue\n",
    "    print(num, end='-')\n",
    "    num = num + 1 # adding one to the current value of the num = num+=1"
   ]
  },
  {
   "cell_type": "markdown",
   "metadata": {},
   "source": [
    "Just like any other thing, we can achieve the same result using different methods and functions. For example we can get the numbers we want by using a for loop:"
   ]
  },
  {
   "cell_type": "code",
   "execution_count": 12,
   "metadata": {},
   "outputs": [
    {
     "name": "stdout",
     "output_type": "stream",
     "text": [
      "0\t1\t2\t3\t4\t5\t6\t7\t8\t9\t10\t"
     ]
    }
   ],
   "source": [
    "for num in range(11): # what is range?\n",
    "    print(num, end='\\t')"
   ]
  },
  {
   "cell_type": "markdown",
   "metadata": {},
   "source": [
    "*Note: Just like for loops, while loops also can have a else clause*"
   ]
  },
  {
   "cell_type": "markdown",
   "metadata": {},
   "source": [
    "Here is the general structure of a while loop:\n",
    "\n",
    "<img src=\"../Images/while_loop.png\" width=\"500\"> "
   ]
  },
  {
   "cell_type": "markdown",
   "metadata": {},
   "source": [
    "  "
   ]
  },
  {
   "cell_type": "markdown",
   "metadata": {},
   "source": [
    "<img src=\"../Images/student.svg\"   width=\"30\" align=\"left\">               "
   ]
  },
  {
   "cell_type": "markdown",
   "metadata": {},
   "source": [
    "**YOUR TURN**:\n",
    "What if we use a condition which is always true?"
   ]
  },
  {
   "cell_type": "code",
   "execution_count": null,
   "metadata": {},
   "outputs": [],
   "source": [
    "(\\   .-.   .-.   .-.   .-.   .-.   .-.   .-.   .-.   /_\")\n",
    " \\\\_//^\\\\_//^\\\\_//^\\\\_//^\\\\_//^\\\\_//^\\\\_//^\\\\_//^\\\\_//\n",
    "  `\"`   `\"`   `\"`   `\"`   `\"`   `\"`   `\"`   `\"`   `\"`"
   ]
  },
  {
   "cell_type": "markdown",
   "metadata": {},
   "source": [
    "## If statement"
   ]
  },
  {
   "cell_type": "markdown",
   "metadata": {},
   "source": [
    "Often, you need to execute some statements only if some condition holds, or choose statements to execute depending on several mutually exclusive conditions. The Python compound statement if, which uses if, elif, and else clauses, lets you conditionally execute blocks of statements. Here’s the syntax for the if statement:\n",
    "\n",
    "It's common that you want to execute a part of code if a certain condition holds (it's True). To do so in Python we use If statement. Let's go back to the simple example of printing numbers we've seen for while and for statements but this time suppose that you want to print the number only if it's an odd number:"
   ]
  },
  {
   "cell_type": "code",
   "execution_count": 3,
   "metadata": {},
   "outputs": [
    {
     "name": "stdout",
     "output_type": "stream",
     "text": [
      "1\n",
      "3\n",
      "5\n",
      "7\n",
      "9\n",
      "11\n",
      "13\n",
      "15\n",
      "17\n",
      "19\n"
     ]
    }
   ],
   "source": [
    "num = 0 # initial number is set to 0\n",
    "while num <= 20: # while the number is less than or equal 20, continue\n",
    "    if num%2 != 0: # if the reminder of them with 2\n",
    "        print(num)\n",
    "    num = num + 1 # adding one to the current value of the num = num+=1"
   ]
  },
  {
   "cell_type": "markdown",
   "metadata": {},
   "source": [
    "Ok, now let's use also *eles* and *elif* clauses. Imagine that you have a set of ages and you want to print one if the following labels based on the age:\n",
    "- kid\n",
    "- Teen\n",
    "- adult\n",
    "- old"
   ]
  },
  {
   "cell_type": "code",
   "execution_count": 91,
   "metadata": {},
   "outputs": [
    {
     "name": "stdout",
     "output_type": "stream",
     "text": [
      "56 - Adult\n",
      "2 - Kid\n",
      "14 - Teen\n",
      "8 - Kid\n",
      "33 - Adult\n",
      "23 - Adult\n",
      "19 - Teen\n",
      "80 - Old\n",
      "6 - Kid\n",
      "9 - Kid\n",
      "27 - Adult\n"
     ]
    }
   ],
   "source": [
    "ages = [56, 2, 14, 8, 33, 23, 19, 80, 6, 9, 27]\n",
    "\n",
    "for age in ages:\n",
    "    if age <= 12:\n",
    "        print(age, 'Kid', sep=' - ')\n",
    "    elif age <= 19 and age >= 13:\n",
    "        print(age, 'Teen', sep=' - ')\n",
    "    elif age <= 60 and age >= 20:\n",
    "        print(f'{age} - Adult') # Did you noticed anything new here?\n",
    "    else:\n",
    "        print(age, 'Old', sep=' - ')"
   ]
  },
  {
   "cell_type": "markdown",
   "metadata": {},
   "source": [
    "## Range function"
   ]
  },
  {
   "cell_type": "markdown",
   "metadata": {},
   "source": [
    "Range is a simple and handy function which usually is used within a for loop(but not always). range function has three inputs:\n",
    "    - start\n",
    "    - end\n",
    "    - step"
   ]
  },
  {
   "cell_type": "markdown",
   "metadata": {},
   "source": [
    "  "
   ]
  },
  {
   "cell_type": "code",
   "execution_count": 94,
   "metadata": {},
   "outputs": [
    {
     "name": "stdout",
     "output_type": "stream",
     "text": [
      "0\n",
      "1\n",
      "2\n",
      "3\n"
     ]
    }
   ],
   "source": [
    "for i in [0, 1, 2, 3]:\n",
    "    print(i)"
   ]
  },
  {
   "cell_type": "code",
   "execution_count": 100,
   "metadata": {},
   "outputs": [
    {
     "name": "stdout",
     "output_type": "stream",
     "text": [
      "0\n",
      "1\n",
      "2\n",
      "3\n",
      "4\n",
      "5\n",
      "6\n",
      "7\n",
      "8\n",
      "9\n"
     ]
    }
   ],
   "source": [
    "for i in range(10):\n",
    "    print(i)"
   ]
  },
  {
   "cell_type": "code",
   "execution_count": 101,
   "metadata": {},
   "outputs": [
    {
     "name": "stdout",
     "output_type": "stream",
     "text": [
      "ABC\n",
      "BVG\n",
      "UHY\n",
      "UQH\n",
      "LLL\n"
     ]
    }
   ],
   "source": [
    "my_list = ['ABC', 'BVG', 'UHY', 'UQH', 'LLL']\n",
    "for i in range(len(my_list)):\n",
    "    print(my_list[i])"
   ]
  },
  {
   "cell_type": "markdown",
   "metadata": {},
   "source": [
    "<img src=\"../Images/wizard.svg\"   width=\"30\" align=\"left\">               "
   ]
  },
  {
   "cell_type": "markdown",
   "metadata": {},
   "source": [
    "**YOUR TURN**: using as for loop print items inside each key of the given dictionary and print numbers that are less than 10. (some numbers by mistake were recorded as a string, take care of them too!)\n",
    "\n",
    "**Hint**: *You may want to use **.isnumeric( )** string method*"
   ]
  },
  {
   "cell_type": "code",
   "execution_count": 149,
   "metadata": {},
   "outputs": [],
   "source": [
    "target = {'A': [1.0, 5 ,7, 'foo'], \n",
    "          'B': [4, [12], '3', 83]}"
   ]
  },
  {
   "cell_type": "code",
   "execution_count": 152,
   "metadata": {},
   "outputs": [
    {
     "name": "stdout",
     "output_type": "stream",
     "text": [
      "1.0\n",
      "5\n",
      "7\n",
      "4\n",
      "3\n"
     ]
    }
   ],
   "source": [
    "for key in target.keys():\n",
    "    for item in target[key]:\n",
    "        check = 0\n",
    "        if type(item) in [int, float] :\n",
    "            if item < 10 :\n",
    "                check = 1\n",
    "        elif type(item) == str:\n",
    "            if item.isnumeric():\n",
    "                if int(item) < 10 :\n",
    "                    check = 1\n",
    "        if check == 1:\n",
    "            print(item)    "
   ]
  },
  {
   "cell_type": "code",
   "execution_count": null,
   "metadata": {},
   "outputs": [],
   "source": [
    "(\\   .-.   .-.   .-.   .-.   .-.   .-.   .-.   .-.   /_\")\n",
    " \\\\_//^\\\\_//^\\\\_//^\\\\_//^\\\\_//^\\\\_//^\\\\_//^\\\\_//^\\\\_//\n",
    "  `\"`   `\"`   `\"`   `\"`   `\"`   `\"`   `\"`   `\"`   `\"`"
   ]
  },
  {
   "cell_type": "markdown",
   "metadata": {},
   "source": [
    "## Break, Continue and pass clauses"
   ]
  },
  {
   "cell_type": "markdown",
   "metadata": {},
   "source": [
    "Let's have a quick review of statements we have learned until now:\n",
    "- **For statement** : repeats a task for a given sequence\n",
    "- **While statement** : repeats a task while a given condition is True\n",
    "- **If statement** : Evaluates a condition and acts upon the result\n",
    "\n",
    "Looking at these statements it's clear that we can combine them to get a certain task done. For instance: For each item in this list check if condition 1 is True do action 1, otherwise do action 2:"
   ]
  },
  {
   "cell_type": "code",
   "execution_count": 106,
   "metadata": {},
   "outputs": [
    {
     "name": "stdout",
     "output_type": "stream",
     "text": [
      "1,000,000 : High\n",
      "5,000 : Low\n",
      "11,000 : Low\n"
     ]
    }
   ],
   "source": [
    "salaries = [1000000, 5000, 11000]\n",
    "\n",
    "for salary in salaries:\n",
    "    if salary < 120_000:\n",
    "        print(f'{salary:,} : Low')\n",
    "    elif salary > 999_000:\n",
    "        print(f'{salary:,} : High')\n",
    "    else:\n",
    "        print(f'{salary:,} : Normal')"
   ]
  },
  {
   "cell_type": "markdown",
   "metadata": {},
   "source": [
    "In the above example we used **for** and **if** together to examine each item and print a label based on the item's value. Well, It's not alway the case to go through every item of a sequence. Sometime we need to break the loop or continue to the next item without spending time with the current item. We can achive these types of action by using these clauses:\n",
    "\n",
    "- continue\n",
    "- break\n",
    "- pass"
   ]
  },
  {
   "cell_type": "markdown",
   "metadata": {},
   "source": [
    "Suppose you want to find the first number that is less than a specific number in any given list of numbers. You can create a function to do this using a for loop:"
   ]
  },
  {
   "cell_type": "code",
   "execution_count": 107,
   "metadata": {},
   "outputs": [],
   "source": [
    "def find_number(data, limit):\n",
    "    \"\"\"Finds the first number in a given list which is less than the defined threshold\n",
    "    \n",
    "    Args:\n",
    "        data : A list containing numerical values\n",
    "        limit : Threshold defined by user\n",
    "    \n",
    "    Returns:\n",
    "        The first number in the given list smaller than threshold\n",
    "    \"\"\"\n",
    "    all_good = []\n",
    "    for i in data:\n",
    "        if i < limit:\n",
    "            answer = i\n",
    "            all_good.append(i)\n",
    "    return all_good"
   ]
  },
  {
   "cell_type": "markdown",
   "metadata": {},
   "source": [
    "Ok, let's test our function:"
   ]
  },
  {
   "cell_type": "code",
   "execution_count": 108,
   "metadata": {},
   "outputs": [
    {
     "name": "stdout",
     "output_type": "stream",
     "text": [
      "[-1428, -788, -1187]\n"
     ]
    }
   ],
   "source": [
    "nums = [973, -1428, 315, -788, 1477, -428, -1187, 592, -108, 370]\n",
    "limit = -500\n",
    "\n",
    "print(find_number(nums, limit))"
   ]
  },
  {
   "cell_type": "markdown",
   "metadata": {},
   "source": [
    "Well, it kinda works...the problem is that it return the last number in the list that is less than -500 instead of the first one! (-1428)\n",
    "Of course it's not because Python couldn't find the first number (-1428) but the problem is since we simply just used a for loop, after finding -1428 Python continued to examine other items in the list...something that we shouldn't have done. There are cases like this that we want to stop(break) the loop as soon as a certain condition is satisfied. We can write our function like this:\n"
   ]
  },
  {
   "cell_type": "code",
   "execution_count": 22,
   "metadata": {},
   "outputs": [
    {
     "name": "stdout",
     "output_type": "stream",
     "text": [
      "-1428\n"
     ]
    }
   ],
   "source": [
    "def find_number(data, limit):\n",
    "    \"\"\"Finds the first number in a given list which is less than the defined threshold\n",
    "    \n",
    "    Args:\n",
    "        data : A list containing numerical values\n",
    "        limit : Threshold defined by user\n",
    "    \n",
    "    Returns:\n",
    "        The first number in the given list smaller than threshold\n",
    "    \"\"\"\n",
    "    for i in data:\n",
    "        if i < limit:\n",
    "            answer = i\n",
    "            break\n",
    "    return answer\n",
    "\n",
    "print(find_number(nums, limit))"
   ]
  },
  {
   "cell_type": "markdown",
   "metadata": {},
   "source": [
    "And as you can see this time we get the right answer. In this simple case we could have achieve this also without using break and just by putting  return clause in a different place:"
   ]
  },
  {
   "cell_type": "code",
   "execution_count": 23,
   "metadata": {},
   "outputs": [
    {
     "name": "stdout",
     "output_type": "stream",
     "text": [
      "-1428\n"
     ]
    }
   ],
   "source": [
    "def find_number(data, limit):\n",
    "    \"\"\"Finds the first number in a given list which is less than the defined threshold\n",
    "    \n",
    "    Args:\n",
    "        data : A list containing numerical values\n",
    "        limit : Threshold defined by user\n",
    "    \n",
    "    Returns:\n",
    "        The first number in the given list smaller than threshold\n",
    "    \"\"\"\n",
    "    for i in data:\n",
    "        if i < limit:\n",
    "            answer = i\n",
    "            return answer\n",
    "\n",
    "print(find_number(nums, limit))"
   ]
  },
  {
   "cell_type": "markdown",
   "metadata": {},
   "source": [
    "The reason that the function above give us the answer even without using break is that when Python reaches a **return** in a function, it exits immediately before continuing with the rest of code.\n",
    "Let's do another example: Suppose you received 4 orders for a can of beer from 4 of your customers. In order to know if you can proceed with the order or not, you need to check 3 things: client having at least 18 years old, having at least 2 Euros in his bank card and be in a 3 kilometer radius from your shop. As you can see in the following cell, we can use continue clause after age check. In this way if the client has less than 18 years old, it's useless to check for the other conditions:"
   ]
  },
  {
   "cell_type": "code",
   "execution_count": 27,
   "metadata": {},
   "outputs": [
    {
     "name": "stdout",
     "output_type": "stream",
     "text": [
      "Ettore can have a beer!\n"
     ]
    }
   ],
   "source": [
    "clients = {'2341': {'age': 15, 'name': 'Ale', 'balance': 658, 'distance': 11},\n",
    "           '5682': {'age': 61, 'name': 'Ettore', 'balance': 890, 'distance': 1},\n",
    "           '1873': {'age': 19, 'name': 'Tacca', 'balance': 121, 'distance': 5},\n",
    "           '9950': {'age': 31, 'name': 'Navid', 'balance': 0, 'distance': 12}}\n",
    "\n",
    "codes = list(clients.keys())\n",
    "\n",
    "for code in codes:\n",
    "    if clients[code]['age'] < 18:\n",
    "        continue\n",
    "    if clients[code]['balance'] >= 2 and clients[code]['distance'] < 3:\n",
    "        print(f\"{clients[code]['name']} can have a beer!\")"
   ]
  },
  {
   "cell_type": "markdown",
   "metadata": {},
   "source": [
    "Now imagine that the shop manager tells you that he is thinking to do something for the clients that have all the conditions (age and credit) but are living in more distant neighbourhoods. The problem is that it's Fridays evening, you want to go home as soon as possible but he can't make his mind about how exactly he's going to handle the delivery situation. So you know you need to modify your function to reflect the new situation but you still don't know what would be the solution. So you can use a pass clause as a placeholder in your function:"
   ]
  },
  {
   "cell_type": "code",
   "execution_count": 29,
   "metadata": {},
   "outputs": [
    {
     "name": "stdout",
     "output_type": "stream",
     "text": [
      "Ettore can have a beer!\n"
     ]
    }
   ],
   "source": [
    "clients = {'2341': {'age': 15, 'name': 'Ale', 'balance': 658, 'distance': 11},\n",
    "           '5682': {'age': 61, 'name': 'Ettore', 'balance': 890, 'distance': 1},\n",
    "           '1873': {'age': 19, 'name': 'Tacca', 'balance': 121, 'distance': 5},\n",
    "           '9950': {'age': 31, 'name': 'Navid', 'balance': 0, 'distance': 12}}\n",
    "\n",
    "codes = list(clients.keys())\n",
    "\n",
    "for code in codes:\n",
    "    if clients[code]['age'] < 18:\n",
    "        continue\n",
    "    if clients[code]['balance'] >= 2:\n",
    "        if  clients[code]['distance'] < 3:\n",
    "            print(f\"{clients[code]['name']} can have a beer!\")\n",
    "        else:\n",
    "            pass"
   ]
  },
  {
   "cell_type": "markdown",
   "metadata": {},
   "source": [
    "<img src=\"../Images/baby.svg\"   width=\"30\" align=\"left\" >               "
   ]
  },
  {
   "cell_type": "markdown",
   "metadata": {},
   "source": [
    "**YOUR TURN:**\n",
    "    \n",
    "Why the codes below are not the same?"
   ]
  },
  {
   "cell_type": "code",
   "execution_count": null,
   "metadata": {},
   "outputs": [],
   "source": [
    "vals = '43 65 342 78 89 4 32 54 687 23 675 87 43 675 -546 54 432 786 76 123 4 324'.split()"
   ]
  },
  {
   "cell_type": "code",
   "execution_count": null,
   "metadata": {},
   "outputs": [],
   "source": [
    "for val in vals:\n",
    "    if int(val) < 0:\n",
    "        break\n",
    "    print(val, end=' ')"
   ]
  },
  {
   "cell_type": "code",
   "execution_count": null,
   "metadata": {},
   "outputs": [],
   "source": [
    "for val in vals:\n",
    "    if int(val) > 0:\n",
    "        print(val, end=' ')"
   ]
  },
  {
   "cell_type": "markdown",
   "metadata": {},
   "source": [
    " "
   ]
  },
  {
   "cell_type": "markdown",
   "metadata": {},
   "source": [
    "<img src=\"../Images/wizard.svg\"   width=\"30\" align=\"left\">               "
   ]
  },
  {
   "cell_type": "markdown",
   "metadata": {},
   "source": [
    "**YOUR TURN**: Use **break** to write a function that calculates the sum of the first n items of the given number list."
   ]
  },
  {
   "cell_type": "code",
   "execution_count": 69,
   "metadata": {},
   "outputs": [],
   "source": [
    "def sum_n(data, n):\n",
    "    num = 1\n",
    "    summ = 0\n",
    "    for i in data:\n",
    "        if num > n:\n",
    "            break\n",
    "        summ += i\n",
    "        num += 1\n",
    "    return summ"
   ]
  },
  {
   "cell_type": "code",
   "execution_count": null,
   "metadata": {},
   "outputs": [],
   "source": [
    "(\\   .-.   .-.   .-.   .-.   .-.   .-.   .-.   .-.   /_\")\n",
    " \\\\_//^\\\\_//^\\\\_//^\\\\_//^\\\\_//^\\\\_//^\\\\_//^\\\\_//^\\\\_//\n",
    "  `\"`   `\"`   `\"`   `\"`   `\"`   `\"`   `\"`   `\"`   `\"`"
   ]
  },
  {
   "cell_type": "markdown",
   "metadata": {},
   "source": [
    "## Comparisons operators"
   ]
  },
  {
   "cell_type": "markdown",
   "metadata": {},
   "source": [
    "Comparison operators are not technically considered as a part of \"Control flow\" but since their usage with mentioned statements, I put them here. As the name suggest these operators **compare** two object and return either *True* or *False*. Let's see some examples:"
   ]
  },
  {
   "cell_type": "code",
   "execution_count": 4,
   "metadata": {},
   "outputs": [
    {
     "name": "stdout",
     "output_type": "stream",
     "text": [
      "False\n",
      "True\n",
      "True\n",
      "False\n",
      "True\n",
      "False\n"
     ]
    }
   ],
   "source": [
    "a = 15.6\n",
    "b = 79\n",
    "print(a == b)\n",
    "print(a != b)\n",
    "print(a < b)\n",
    "print(a > b)\n",
    "print(a <= b)\n",
    "print(a >= b)"
   ]
  },
  {
   "cell_type": "markdown",
   "metadata": {},
   "source": [
    "# Importing libraries"
   ]
  },
  {
   "cell_type": "markdown",
   "metadata": {},
   "source": [
    "reading csv files, we used :"
   ]
  },
  {
   "cell_type": "code",
   "execution_count": 8,
   "metadata": {},
   "outputs": [],
   "source": [
    "import csv\n",
    "import pandas as pd"
   ]
  },
  {
   "cell_type": "markdown",
   "metadata": {},
   "source": [
    "The reason we did this is because like lots of other functionalities, reading csv files doesn't exist as a built-in function in Python language. Instead there are various libraries that has modules that are capable of performing those certain functions. To use these modules you need to import them in your code. This is exactly we've done in the csv section. \n",
    "\n",
    "The following figure shows the simplified structure of Python's modules:\n",
    "\n",
    "<img src=\"../Images/module.png\" width=\"800\">"
   ]
  },
  {
   "cell_type": "markdown",
   "metadata": {},
   "source": [
    "There are different ways to import a package or a specific module of it:"
   ]
  },
  {
   "cell_type": "markdown",
   "metadata": {},
   "source": [
    "Importing a library as a whole. For example the following code imports **re** package (regex) but not any module inside it specifically. It means for example if I want to use one of its functions, let's say **sub** function, I need to use **re.** before function name:"
   ]
  },
  {
   "cell_type": "code",
   "execution_count": 103,
   "metadata": {},
   "outputs": [
    {
     "data": {
      "text/plain": [
       "'HeyWait'"
      ]
     },
     "execution_count": 103,
     "metadata": {},
     "output_type": "execute_result"
    }
   ],
   "source": [
    "import re\n",
    "re.sub('\\W', '', 'Hey..,Wait!')"
   ]
  },
  {
   "cell_type": "markdown",
   "metadata": {},
   "source": [
    "It's possible to import modules as an alias. We usually do this when either dealing with not son short library names or there is a convention to do so:"
   ]
  },
  {
   "cell_type": "code",
   "execution_count": 108,
   "metadata": {},
   "outputs": [],
   "source": [
    "import statsmodels as sm\n",
    "import numpy as np"
   ]
  },
  {
   "cell_type": "markdown",
   "metadata": {},
   "source": [
    "Another possibility is to just import the module we need , instead of importing the whole library:"
   ]
  },
  {
   "cell_type": "code",
   "execution_count": 105,
   "metadata": {},
   "outputs": [],
   "source": [
    "from pandas import Timestamp"
   ]
  },
  {
   "cell_type": "markdown",
   "metadata": {},
   "source": [
    "In some rare cases we may want to import every function/module/class from a library:"
   ]
  },
  {
   "cell_type": "code",
   "execution_count": null,
   "metadata": {},
   "outputs": [],
   "source": [
    "from pprint import *"
   ]
  },
  {
   "cell_type": "markdown",
   "metadata": {},
   "source": [
    "## Installing libraries"
   ]
  },
  {
   "cell_type": "markdown",
   "metadata": {},
   "source": [
    "There are 4 main ways to install a package in python:\n",
    "\n",
    "- **conda**\n",
    "\n",
    "conda is the package manager which is a part of Anaconda distribution (not the official Python). Respect to the native Python package managers, it manages the dependencies between different libraries is a better way. It's shortcoming is that it usually doesn't include lesser known/recent packages.\n",
    "\n",
    "Installing a package using conda in terminal:  \n",
    "\n",
    "        conda install package_name\n",
    "\n",
    "Installing a package using conda in Jupyter notebook:    \n",
    "\n",
    "        !conda install package_name\n",
    "\n",
    "\n",
    "- **pip**\n",
    "\n",
    "pip is the newest (introduced in 2008) official package manager.\n",
    "\n",
    "Installing a package using pip in terminal:     \n",
    "\n",
    "        pip install package_name\n",
    "\n",
    "Installing a package using pip in Jupyter notebook:     \n",
    "\n",
    "        !pip install package_name\n",
    "\n",
    "- **easy_install**\n",
    "\n",
    "easy_install is the father of pip (born in 2004) and somehow is inferior respect to the pip. (see their difference [here](https://packaging.python.org/discussions/pip-vs-easy-install/))\n",
    "\n",
    "Installing a package using easy_install in terminal:   \n",
    "\n",
    "        easy_install package_name\n",
    "\n",
    "Installing a package using pip in Jupyter notebook:     \n",
    "\n",
    "        !easy_install package_name\n",
    "\n",
    "- **installation from source code**\n",
    "\n",
    "I don't recommend using it but if for some reasons you want to use this method, you can find a step by step guide [here](https://kb.iu.edu/d/acey)."
   ]
  },
  {
   "cell_type": "markdown",
   "metadata": {},
   "source": [
    "# Understanding errors"
   ]
  },
  {
   "cell_type": "markdown",
   "metadata": {},
   "source": [
    "Regardless of your experience with Python, either you're seeing Python for the first time or you have years of coding experience, you should deal with errors, almost every time you write something! Some errors occur because due to simple reasons like writing *primt(...)* instead of *print(...)* and some are more complicated both to resolve  and to find their origin. There are way to many error types in Python for us to cover in this course but you'll find a well-written summary of important errors [here](https://www.tutorialsteacher.com/python/error-types-in-python) .\n",
    "Instead of going to each and every error and explain it, I try to show you the general process of dealing with them.\n",
    "Take a look at the following code:"
   ]
  },
  {
   "cell_type": "code",
   "execution_count": 112,
   "metadata": {},
   "outputs": [
    {
     "ename": "AttributeError",
     "evalue": "'dict' object has no attribute 'append'",
     "output_type": "error",
     "traceback": [
      "\u001b[0;31m---------------------------------------------------------------------------\u001b[0m",
      "\u001b[0;31mAttributeError\u001b[0m                            Traceback (most recent call last)",
      "\u001b[0;32m<ipython-input-112-7f1f7228c0e5>\u001b[0m in \u001b[0;36m<module>\u001b[0;34m\u001b[0m\n\u001b[1;32m      3\u001b[0m \u001b[0;34m\u001b[0m\u001b[0m\n\u001b[1;32m      4\u001b[0m \u001b[0;32mfor\u001b[0m \u001b[0mitem\u001b[0m \u001b[0;32min\u001b[0m \u001b[0mmy_list\u001b[0m\u001b[0;34m:\u001b[0m\u001b[0;34m\u001b[0m\u001b[0;34m\u001b[0m\u001b[0m\n\u001b[0;32m----> 5\u001b[0;31m     \u001b[0mmy_dict\u001b[0m\u001b[0;34m.\u001b[0m\u001b[0mappend\u001b[0m\u001b[0;34m(\u001b[0m\u001b[0mmy_dict\u001b[0m\u001b[0;34m)\u001b[0m\u001b[0;34m\u001b[0m\u001b[0;34m\u001b[0m\u001b[0m\n\u001b[0m",
      "\u001b[0;31mAttributeError\u001b[0m: 'dict' object has no attribute 'append'"
     ]
    }
   ],
   "source": [
    "my_dict = {'A':1, 'B': 2}\n",
    "my_list = ['C', 'D']\n",
    "\n",
    "for item in my_list:\n",
    "    my_dict.append(my_dict)"
   ]
  },
  {
   "cell_type": "markdown",
   "metadata": {},
   "source": [
    "**Error Translation into natural language**\n",
    "\n",
    ">I started from the line 1 in the main **module**, I went down until line 4 without any problem. In the line 5 I saw an error of type **AttributeError**. I see this type of error because in the line 5 you tried to use **append** method on a **dictionary** which is not correct."
   ]
  },
  {
   "cell_type": "markdown",
   "metadata": {},
   "source": [
    "Now let's take a look at another example which is a bit complex respect to the previous one:"
   ]
  },
  {
   "cell_type": "code",
   "execution_count": 66,
   "metadata": {},
   "outputs": [
    {
     "ename": "TypeError",
     "evalue": "can only concatenate str (not \"int\") to str",
     "output_type": "error",
     "traceback": [
      "\u001b[0;31m---------------------------------------------------------------------------\u001b[0m",
      "\u001b[0;31mTypeError\u001b[0m                                 Traceback (most recent call last)",
      "\u001b[0;32m<ipython-input-66-aa7b0ab4d49e>\u001b[0m in \u001b[0;36m<module>\u001b[0;34m\u001b[0m\n\u001b[1;32m     10\u001b[0m     \u001b[0;32mreturn\u001b[0m \u001b[0ma\u001b[0m \u001b[0;34m+\u001b[0m \u001b[0mb\u001b[0m\u001b[0;34m\u001b[0m\u001b[0;34m\u001b[0m\u001b[0m\n\u001b[1;32m     11\u001b[0m \u001b[0;34m\u001b[0m\u001b[0m\n\u001b[0;32m---> 12\u001b[0;31m \u001b[0mprint\u001b[0m\u001b[0;34m(\u001b[0m\u001b[0madd_them\u001b[0m\u001b[0;34m(\u001b[0m\u001b[0;34m'1'\u001b[0m\u001b[0;34m,\u001b[0m \u001b[0;36m2\u001b[0m\u001b[0;34m)\u001b[0m\u001b[0;34m)\u001b[0m\u001b[0;34m\u001b[0m\u001b[0;34m\u001b[0m\u001b[0m\n\u001b[0m",
      "\u001b[0;32m<ipython-input-66-aa7b0ab4d49e>\u001b[0m in \u001b[0;36madd_them\u001b[0;34m(a, b)\u001b[0m\n\u001b[1;32m      8\u001b[0m         \u001b[0ma\u001b[0m \u001b[0mnumber\u001b[0m\u001b[0;34m,\u001b[0m \u001b[0msum\u001b[0m \u001b[0mof\u001b[0m \u001b[0mthe\u001b[0m \u001b[0minputs\u001b[0m\u001b[0;34m\u001b[0m\u001b[0;34m\u001b[0m\u001b[0m\n\u001b[1;32m      9\u001b[0m     \"\"\"\n\u001b[0;32m---> 10\u001b[0;31m     \u001b[0;32mreturn\u001b[0m \u001b[0ma\u001b[0m \u001b[0;34m+\u001b[0m \u001b[0mb\u001b[0m\u001b[0;34m\u001b[0m\u001b[0;34m\u001b[0m\u001b[0m\n\u001b[0m\u001b[1;32m     11\u001b[0m \u001b[0;34m\u001b[0m\u001b[0m\n\u001b[1;32m     12\u001b[0m \u001b[0mprint\u001b[0m\u001b[0;34m(\u001b[0m\u001b[0madd_them\u001b[0m\u001b[0;34m(\u001b[0m\u001b[0;34m'1'\u001b[0m\u001b[0;34m,\u001b[0m \u001b[0;36m2\u001b[0m\u001b[0;34m)\u001b[0m\u001b[0;34m)\u001b[0m\u001b[0;34m\u001b[0m\u001b[0;34m\u001b[0m\u001b[0m\n",
      "\u001b[0;31mTypeError\u001b[0m: can only concatenate str (not \"int\") to str"
     ]
    }
   ],
   "source": [
    "def add_them(a, b):\n",
    "    \"\"\"Add to input numbers\n",
    "    args:\n",
    "        a : first number\n",
    "        b : second number\n",
    "        \n",
    "    returns:\n",
    "        a number, sum of the inputs\n",
    "    \"\"\"\n",
    "    return a + b\n",
    "\n",
    "print(add_them('1', 2))"
   ]
  },
  {
   "cell_type": "markdown",
   "metadata": {},
   "source": [
    "**Error Translation into natural language**\n",
    "\n",
    ">I started from the line 1, I went down until line 11 without any problem. In the line 12 I saw something that wasn't correct. I tried to find the reason. I found out that the error comes from a function called **add_them**. I put your inputs in this function and went forward. when I reach to line 10 I saw an error of type **TypeError**.I see this type of error because using your input data in the line 10 you tried to concatenate a **str** to a **int** which is impossible."
   ]
  },
  {
   "cell_type": "markdown",
   "metadata": {},
   "source": [
    " "
   ]
  },
  {
   "cell_type": "markdown",
   "metadata": {},
   "source": [
    "**GENERAL TIPS**:\n",
    "\n",
    "It's possible that ...\n",
    "\n",
    "- Resolving an error, you get another error! always pay attention to the details of error.\n",
    "- Even by using all the info coming from the error message we won't be able to resolve the problem. In this case you can try to search for the error message online. For sure someone else before you has arrived to the same problem and asked it online! The best source for getting help is [stackoverflow](https://stackoverflow.com) site. "
   ]
  },
  {
   "cell_type": "markdown",
   "metadata": {},
   "source": [
    "  "
   ]
  },
  {
   "cell_type": "markdown",
   "metadata": {},
   "source": [
    "<img src=\"../Images/student.svg\"   width=\"30\" align=\"left\">               "
   ]
  },
  {
   "cell_type": "markdown",
   "metadata": {},
   "source": [
    "**YOUR TURN**:\n",
    "\n",
    "Run the following line of codes and try to locate and resolve the problem:"
   ]
  },
  {
   "cell_type": "code",
   "execution_count": 120,
   "metadata": {},
   "outputs": [
    {
     "ename": "ValueError",
     "evalue": "not enough values to unpack (expected 4, got 3)",
     "output_type": "error",
     "traceback": [
      "\u001b[0;31m---------------------------------------------------------------------------\u001b[0m",
      "\u001b[0;31mValueError\u001b[0m                                Traceback (most recent call last)",
      "\u001b[0;32m<ipython-input-120-bf9134cb29f7>\u001b[0m in \u001b[0;36m<module>\u001b[0;34m\u001b[0m\n\u001b[0;32m----> 1\u001b[0;31m \u001b[0ma\u001b[0m\u001b[0;34m,\u001b[0m \u001b[0mb\u001b[0m\u001b[0;34m,\u001b[0m \u001b[0mc\u001b[0m\u001b[0;34m,\u001b[0m \u001b[0md\u001b[0m \u001b[0;34m=\u001b[0m \u001b[0mlist\u001b[0m\u001b[0;34m(\u001b[0m\u001b[0mrange\u001b[0m\u001b[0;34m(\u001b[0m\u001b[0;36m87\u001b[0m\u001b[0;34m,\u001b[0m \u001b[0;36m110\u001b[0m\u001b[0;34m,\u001b[0m \u001b[0;36m10\u001b[0m\u001b[0;34m)\u001b[0m\u001b[0;34m)\u001b[0m\u001b[0;34m\u001b[0m\u001b[0;34m\u001b[0m\u001b[0m\n\u001b[0m",
      "\u001b[0;31mValueError\u001b[0m: not enough values to unpack (expected 4, got 3)"
     ]
    }
   ],
   "source": [
    "a, b, c, d = list(range(87, 110, 10))"
   ]
  },
  {
   "cell_type": "code",
   "execution_count": null,
   "metadata": {},
   "outputs": [],
   "source": [
    "(\\   .-.   .-.   .-.   .-.   .-.   .-.   .-.   .-.   /_\")\n",
    " \\\\_//^\\\\_//^\\\\_//^\\\\_//^\\\\_//^\\\\_//^\\\\_//^\\\\_//^\\\\_//\n",
    "  `\"`   `\"`   `\"`   `\"`   `\"`   `\"`   `\"`   `\"`   `\"`"
   ]
  },
  {
   "cell_type": "markdown",
   "metadata": {},
   "source": [
    " "
   ]
  },
  {
   "cell_type": "markdown",
   "metadata": {},
   "source": [
    "<img src=\"../Images/wizard.svg\"   width=\"30\" align=\"left\">               "
   ]
  },
  {
   "cell_type": "markdown",
   "metadata": {},
   "source": [
    "**YOUR TURN**:\n",
    "\n",
    "Run the following lines of codes and try to locate and resolve the problem:"
   ]
  },
  {
   "cell_type": "code",
   "execution_count": null,
   "metadata": {},
   "outputs": [],
   "source": [
    "city_1 = {'country': 'Italy', 'city': 'como', 'population': 84_876}\n",
    "city_2 = {'country': 'Germany', 'city': 'berlin', 'population': 3_575_000}\n",
    "\n",
    "data = []\n",
    "data['IC'] = city_1\n",
    "data['GB'] = city_2\n",
    "\n",
    "ids = data.keys()\n",
    "countries = []\n",
    "cities = []\n",
    "populations = []\n",
    "for idd in ids:\n",
    "    temp = data[idd]\n",
    "    countries.add(temp['country'])\n",
    "    cities.append(temp['city'])\n",
    "\n",
    "print(f'There are {len(countries)} countries:')\n",
    "for num, country in enumerate(countries, start=1):\n",
    "    print(num, country.title(), sep=' - ')\n",
    "\n",
    "print(f'\\nand {len(cities)} cities:')\n",
    "for city in enumerate(cities, start=1):\n",
    "    print(num, city.title(), sep=' - ')\n",
    "\n",
    "print()\n",
    "for id in ids:\n",
    "    temp = data[idd]\n",
    "    print(f\"{temp['city'].title()} is in {temp['country'].title()} and has a population of {temp['population']:,}.\")"
   ]
  },
  {
   "cell_type": "code",
   "execution_count": null,
   "metadata": {},
   "outputs": [],
   "source": [
    "(\\   .-.   .-.   .-.   .-.   .-.   .-.   .-.   .-.   /_\")\n",
    " \\\\_//^\\\\_//^\\\\_//^\\\\_//^\\\\_//^\\\\_//^\\\\_//^\\\\_//^\\\\_//\n",
    "  `\"`   `\"`   `\"`   `\"`   `\"`   `\"`   `\"`   `\"`   `\"`"
   ]
  },
  {
   "cell_type": "markdown",
   "metadata": {},
   "source": [
    "# Basics of  Pandas"
   ]
  },
  {
   "cell_type": "markdown",
   "metadata": {},
   "source": [
    "<img src=\"../Images/pandas.png\" width=\"300\"> "
   ]
  },
  {
   "cell_type": "markdown",
   "metadata": {},
   "source": [
    "Pandas is one of the mostly used libraries in Python for data cleaning, wrangling and analysis. It has a wide range of tools to deal with almost all data types and forms together with statistical and even visualization tools.\n",
    "Due to large number of tools within Pandas library we're only going to see the most important parts of them together but I highly suggest the book [Python for Data Analysis](https://www.oreilly.com/library/view/python-for-data/9781491957653/) written by creator of the Pandas library [Wes McKinney](https://wesmckinney.com/). Here also you can find some good resources for Pandas: [link](https://www.dataschool.io/best-python-pandas-resources/) and of course don't forget to watch Mark Ham [YouTube Series](https://www.youtube.com/watch?v=yzIMircGU5I&list=PL5-da3qGB5ICCsgW1MxlZ0Hq8LL5U3u9y&index=2&t=232s)"
   ]
  },
  {
   "cell_type": "markdown",
   "metadata": {},
   "source": [
    "Let's start discovering pandas tools working with a real dataset. \n",
    "I've already downloaded a [dataset](https://archive.ics.uci.edu/ml/datasets/Census+Income) containing US census data for year 1996.\n",
    "You can find more information about this dataset and how it's been collected in the following path: \n",
    "\n",
    "*Intro_to_Python/Files/data/census/description.txt*"
   ]
  },
  {
   "cell_type": "markdown",
   "metadata": {},
   "source": [
    "## Reading a csv file"
   ]
  },
  {
   "cell_type": "markdown",
   "metadata": {},
   "source": [
    "The first thing we do is to read the csv file:"
   ]
  },
  {
   "cell_type": "code",
   "execution_count": 121,
   "metadata": {},
   "outputs": [],
   "source": [
    "import pandas as pd\n",
    "\n",
    "df = pd.read_csv('./Files/data/census/adult.csv')"
   ]
  },
  {
   "cell_type": "markdown",
   "metadata": {},
   "source": [
    "<img src=\"../Images/owl.svg\"   width=\"40\" align=\"left\">    "
   ]
  },
  {
   "cell_type": "markdown",
   "metadata": {},
   "source": [
    "***What happened in the cell above?***\n",
    "\n",
    "**line1** : importing pandas library and giving an alias name(pd) to it\n",
    "\n",
    "line2 : Nothing :D\n",
    "\n",
    "**line3** : In order to read our dataset into the memory, we should use a function called **read_csv**.\n",
    "\n",
    "why we put a \"pd.\" before it? because we didn't import this function explicitly so we need to tell Python where can it find the **read_csv** function. Then we passed the file path as the argument. Notice that the file path is not the only argument you can pass to **read_csv** but for now, we don't need anything else.\n",
    "\n",
    "Ok now let's take a look at the data we have just read:"
   ]
  },
  {
   "cell_type": "code",
   "execution_count": 123,
   "metadata": {},
   "outputs": [
    {
     "data": {
      "text/html": [
       "<div>\n",
       "<style scoped>\n",
       "    .dataframe tbody tr th:only-of-type {\n",
       "        vertical-align: middle;\n",
       "    }\n",
       "\n",
       "    .dataframe tbody tr th {\n",
       "        vertical-align: top;\n",
       "    }\n",
       "\n",
       "    .dataframe thead th {\n",
       "        text-align: right;\n",
       "    }\n",
       "</style>\n",
       "<table border=\"1\" class=\"dataframe\">\n",
       "  <thead>\n",
       "    <tr style=\"text-align: right;\">\n",
       "      <th></th>\n",
       "      <th>39</th>\n",
       "      <th>State-gov</th>\n",
       "      <th>77516</th>\n",
       "      <th>Bachelors</th>\n",
       "      <th>13</th>\n",
       "      <th>Never-married</th>\n",
       "      <th>Adm-clerical</th>\n",
       "      <th>Not-in-family</th>\n",
       "      <th>White</th>\n",
       "      <th>Male</th>\n",
       "      <th>2174</th>\n",
       "      <th>0</th>\n",
       "      <th>40</th>\n",
       "      <th>United-States</th>\n",
       "      <th>&lt;=50K</th>\n",
       "    </tr>\n",
       "  </thead>\n",
       "  <tbody>\n",
       "    <tr>\n",
       "      <th>0</th>\n",
       "      <td>50</td>\n",
       "      <td>Self-emp-not-inc</td>\n",
       "      <td>83311</td>\n",
       "      <td>Bachelors</td>\n",
       "      <td>13</td>\n",
       "      <td>Married-civ-spouse</td>\n",
       "      <td>Exec-managerial</td>\n",
       "      <td>Husband</td>\n",
       "      <td>White</td>\n",
       "      <td>Male</td>\n",
       "      <td>0</td>\n",
       "      <td>0</td>\n",
       "      <td>13</td>\n",
       "      <td>United-States</td>\n",
       "      <td>&lt;=50K</td>\n",
       "    </tr>\n",
       "    <tr>\n",
       "      <th>1</th>\n",
       "      <td>38</td>\n",
       "      <td>Private</td>\n",
       "      <td>215646</td>\n",
       "      <td>HS-grad</td>\n",
       "      <td>9</td>\n",
       "      <td>Divorced</td>\n",
       "      <td>Handlers-cleaners</td>\n",
       "      <td>Not-in-family</td>\n",
       "      <td>White</td>\n",
       "      <td>Male</td>\n",
       "      <td>0</td>\n",
       "      <td>0</td>\n",
       "      <td>40</td>\n",
       "      <td>United-States</td>\n",
       "      <td>&lt;=50K</td>\n",
       "    </tr>\n",
       "    <tr>\n",
       "      <th>2</th>\n",
       "      <td>53</td>\n",
       "      <td>Private</td>\n",
       "      <td>234721</td>\n",
       "      <td>11th</td>\n",
       "      <td>7</td>\n",
       "      <td>Married-civ-spouse</td>\n",
       "      <td>Handlers-cleaners</td>\n",
       "      <td>Husband</td>\n",
       "      <td>Black</td>\n",
       "      <td>Male</td>\n",
       "      <td>0</td>\n",
       "      <td>0</td>\n",
       "      <td>40</td>\n",
       "      <td>United-States</td>\n",
       "      <td>&lt;=50K</td>\n",
       "    </tr>\n",
       "    <tr>\n",
       "      <th>3</th>\n",
       "      <td>28</td>\n",
       "      <td>Private</td>\n",
       "      <td>338409</td>\n",
       "      <td>Bachelors</td>\n",
       "      <td>13</td>\n",
       "      <td>Married-civ-spouse</td>\n",
       "      <td>Prof-specialty</td>\n",
       "      <td>Wife</td>\n",
       "      <td>Black</td>\n",
       "      <td>Female</td>\n",
       "      <td>0</td>\n",
       "      <td>0</td>\n",
       "      <td>40</td>\n",
       "      <td>Cuba</td>\n",
       "      <td>&lt;=50K</td>\n",
       "    </tr>\n",
       "    <tr>\n",
       "      <th>4</th>\n",
       "      <td>37</td>\n",
       "      <td>Private</td>\n",
       "      <td>284582</td>\n",
       "      <td>Masters</td>\n",
       "      <td>14</td>\n",
       "      <td>Married-civ-spouse</td>\n",
       "      <td>Exec-managerial</td>\n",
       "      <td>Wife</td>\n",
       "      <td>White</td>\n",
       "      <td>Female</td>\n",
       "      <td>0</td>\n",
       "      <td>0</td>\n",
       "      <td>40</td>\n",
       "      <td>United-States</td>\n",
       "      <td>&lt;=50K</td>\n",
       "    </tr>\n",
       "  </tbody>\n",
       "</table>\n",
       "</div>"
      ],
      "text/plain": [
       "   39          State-gov   77516   Bachelors   13        Never-married  \\\n",
       "0  50   Self-emp-not-inc   83311   Bachelors   13   Married-civ-spouse   \n",
       "1  38            Private  215646     HS-grad    9             Divorced   \n",
       "2  53            Private  234721        11th    7   Married-civ-spouse   \n",
       "3  28            Private  338409   Bachelors   13   Married-civ-spouse   \n",
       "4  37            Private  284582     Masters   14   Married-civ-spouse   \n",
       "\n",
       "         Adm-clerical   Not-in-family   White     Male   2174   0   40  \\\n",
       "0     Exec-managerial         Husband   White     Male      0   0   13   \n",
       "1   Handlers-cleaners   Not-in-family   White     Male      0   0   40   \n",
       "2   Handlers-cleaners         Husband   Black     Male      0   0   40   \n",
       "3      Prof-specialty            Wife   Black   Female      0   0   40   \n",
       "4     Exec-managerial            Wife   White   Female      0   0   40   \n",
       "\n",
       "    United-States   <=50K  \n",
       "0   United-States   <=50K  \n",
       "1   United-States   <=50K  \n",
       "2   United-States   <=50K  \n",
       "3            Cuba   <=50K  \n",
       "4   United-States   <=50K  "
      ]
     },
     "execution_count": 123,
     "metadata": {},
     "output_type": "execute_result"
    }
   ],
   "source": [
    "df.head()"
   ]
  },
  {
   "cell_type": "markdown",
   "metadata": {},
   "source": [
    " "
   ]
  },
  {
   "cell_type": "markdown",
   "metadata": {},
   "source": [
    "<img src=\"../Images/owl.svg\"   width=\"40\" align=\"left\">    "
   ]
  },
  {
   "cell_type": "markdown",
   "metadata": {},
   "source": [
    "***What happened in the cell above?***\n",
    "\n",
    "We used a method called *.head( )* in order to see the first 5 rows of our data. Instead of living *head( )* without an argument, we can decide how many rows of the table we want to see *(Why leaving it without an argument we got 5 rows then?)*"
   ]
  },
  {
   "cell_type": "markdown",
   "metadata": {},
   "source": [
    "As you may have noticed, something doesn't make sense in the result. The first row (showed in bold) should contain column labels but at the moment, it's not like this!\n",
    "The reason is (and it happens a lot dealing with real data) that the original file we've received as our dataset doesn't have any column name.\n",
    "Reading the description file I've mentioned before, we can find the column names:"
   ]
  },
  {
   "cell_type": "code",
   "execution_count": 128,
   "metadata": {},
   "outputs": [],
   "source": [
    "col_names = ['age', 'workclass', 'fnlwgt', 'education', 'education-num',\n",
    "             'marital-status', 'occupation', 'relationship', 'race', 'sex',\n",
    "             'capital-gain', 'capital-loss', 'hours-per-week', 'native-country',\n",
    "            'income']"
   ]
  },
  {
   "cell_type": "markdown",
   "metadata": {},
   "source": [
    "Ok, now that we have the names we can use an argument of **read_csv** called **names** to provide the column names:"
   ]
  },
  {
   "cell_type": "code",
   "execution_count": 129,
   "metadata": {},
   "outputs": [],
   "source": [
    "df = pd.read_csv('./Files/data/census/adult.csv', names=col_names)"
   ]
  },
  {
   "cell_type": "code",
   "execution_count": 126,
   "metadata": {},
   "outputs": [
    {
     "data": {
      "text/html": [
       "<div>\n",
       "<style scoped>\n",
       "    .dataframe tbody tr th:only-of-type {\n",
       "        vertical-align: middle;\n",
       "    }\n",
       "\n",
       "    .dataframe tbody tr th {\n",
       "        vertical-align: top;\n",
       "    }\n",
       "\n",
       "    .dataframe thead th {\n",
       "        text-align: right;\n",
       "    }\n",
       "</style>\n",
       "<table border=\"1\" class=\"dataframe\">\n",
       "  <thead>\n",
       "    <tr style=\"text-align: right;\">\n",
       "      <th></th>\n",
       "      <th>age</th>\n",
       "      <th>workclass</th>\n",
       "      <th>fnlwgt</th>\n",
       "      <th>education</th>\n",
       "      <th>education-num</th>\n",
       "      <th>marital-status</th>\n",
       "      <th>occupation</th>\n",
       "      <th>relationship</th>\n",
       "      <th>race</th>\n",
       "      <th>sex</th>\n",
       "      <th>capital-gain</th>\n",
       "      <th>capital-loss</th>\n",
       "      <th>hours-per-week</th>\n",
       "      <th>native-country</th>\n",
       "      <th>income</th>\n",
       "    </tr>\n",
       "  </thead>\n",
       "  <tbody>\n",
       "    <tr>\n",
       "      <th>0</th>\n",
       "      <td>39</td>\n",
       "      <td>State-gov</td>\n",
       "      <td>77516</td>\n",
       "      <td>Bachelors</td>\n",
       "      <td>13</td>\n",
       "      <td>Never-married</td>\n",
       "      <td>Adm-clerical</td>\n",
       "      <td>Not-in-family</td>\n",
       "      <td>White</td>\n",
       "      <td>Male</td>\n",
       "      <td>2174</td>\n",
       "      <td>0</td>\n",
       "      <td>40</td>\n",
       "      <td>United-States</td>\n",
       "      <td>&lt;=50K</td>\n",
       "    </tr>\n",
       "    <tr>\n",
       "      <th>1</th>\n",
       "      <td>50</td>\n",
       "      <td>Self-emp-not-inc</td>\n",
       "      <td>83311</td>\n",
       "      <td>Bachelors</td>\n",
       "      <td>13</td>\n",
       "      <td>Married-civ-spouse</td>\n",
       "      <td>Exec-managerial</td>\n",
       "      <td>Husband</td>\n",
       "      <td>White</td>\n",
       "      <td>Male</td>\n",
       "      <td>0</td>\n",
       "      <td>0</td>\n",
       "      <td>13</td>\n",
       "      <td>United-States</td>\n",
       "      <td>&lt;=50K</td>\n",
       "    </tr>\n",
       "    <tr>\n",
       "      <th>2</th>\n",
       "      <td>38</td>\n",
       "      <td>Private</td>\n",
       "      <td>215646</td>\n",
       "      <td>HS-grad</td>\n",
       "      <td>9</td>\n",
       "      <td>Divorced</td>\n",
       "      <td>Handlers-cleaners</td>\n",
       "      <td>Not-in-family</td>\n",
       "      <td>White</td>\n",
       "      <td>Male</td>\n",
       "      <td>0</td>\n",
       "      <td>0</td>\n",
       "      <td>40</td>\n",
       "      <td>United-States</td>\n",
       "      <td>&lt;=50K</td>\n",
       "    </tr>\n",
       "    <tr>\n",
       "      <th>3</th>\n",
       "      <td>53</td>\n",
       "      <td>Private</td>\n",
       "      <td>234721</td>\n",
       "      <td>11th</td>\n",
       "      <td>7</td>\n",
       "      <td>Married-civ-spouse</td>\n",
       "      <td>Handlers-cleaners</td>\n",
       "      <td>Husband</td>\n",
       "      <td>Black</td>\n",
       "      <td>Male</td>\n",
       "      <td>0</td>\n",
       "      <td>0</td>\n",
       "      <td>40</td>\n",
       "      <td>United-States</td>\n",
       "      <td>&lt;=50K</td>\n",
       "    </tr>\n",
       "    <tr>\n",
       "      <th>4</th>\n",
       "      <td>28</td>\n",
       "      <td>Private</td>\n",
       "      <td>338409</td>\n",
       "      <td>Bachelors</td>\n",
       "      <td>13</td>\n",
       "      <td>Married-civ-spouse</td>\n",
       "      <td>Prof-specialty</td>\n",
       "      <td>Wife</td>\n",
       "      <td>Black</td>\n",
       "      <td>Female</td>\n",
       "      <td>0</td>\n",
       "      <td>0</td>\n",
       "      <td>40</td>\n",
       "      <td>Cuba</td>\n",
       "      <td>&lt;=50K</td>\n",
       "    </tr>\n",
       "  </tbody>\n",
       "</table>\n",
       "</div>"
      ],
      "text/plain": [
       "   age          workclass  fnlwgt   education  education-num  \\\n",
       "0   39          State-gov   77516   Bachelors             13   \n",
       "1   50   Self-emp-not-inc   83311   Bachelors             13   \n",
       "2   38            Private  215646     HS-grad              9   \n",
       "3   53            Private  234721        11th              7   \n",
       "4   28            Private  338409   Bachelors             13   \n",
       "\n",
       "        marital-status          occupation    relationship    race      sex  \\\n",
       "0        Never-married        Adm-clerical   Not-in-family   White     Male   \n",
       "1   Married-civ-spouse     Exec-managerial         Husband   White     Male   \n",
       "2             Divorced   Handlers-cleaners   Not-in-family   White     Male   \n",
       "3   Married-civ-spouse   Handlers-cleaners         Husband   Black     Male   \n",
       "4   Married-civ-spouse      Prof-specialty            Wife   Black   Female   \n",
       "\n",
       "   capital-gain  capital-loss  hours-per-week  native-country  income  \n",
       "0          2174             0              40   United-States   <=50K  \n",
       "1             0             0              13   United-States   <=50K  \n",
       "2             0             0              40   United-States   <=50K  \n",
       "3             0             0              40   United-States   <=50K  \n",
       "4             0             0              40            Cuba   <=50K  "
      ]
     },
     "execution_count": 126,
     "metadata": {},
     "output_type": "execute_result"
    }
   ],
   "source": [
    "df.head()"
   ]
  },
  {
   "cell_type": "markdown",
   "metadata": {},
   "source": [
    "Perfect! it seems we've correctly added the column names to our data. While it wasn't the case this time, it can happen that the data we're dealing with has a large size and it takes time to read it again from the csv file. In this case we can add the column name after reading the raw data using the **columns** attribute:"
   ]
  },
  {
   "cell_type": "code",
   "execution_count": 12,
   "metadata": {},
   "outputs": [],
   "source": [
    "df.columns = col_names"
   ]
  },
  {
   "cell_type": "code",
   "execution_count": 87,
   "metadata": {},
   "outputs": [
    {
     "data": {
      "text/html": [
       "<div>\n",
       "<style scoped>\n",
       "    .dataframe tbody tr th:only-of-type {\n",
       "        vertical-align: middle;\n",
       "    }\n",
       "\n",
       "    .dataframe tbody tr th {\n",
       "        vertical-align: top;\n",
       "    }\n",
       "\n",
       "    .dataframe thead th {\n",
       "        text-align: right;\n",
       "    }\n",
       "</style>\n",
       "<table border=\"1\" class=\"dataframe\">\n",
       "  <thead>\n",
       "    <tr style=\"text-align: right;\">\n",
       "      <th></th>\n",
       "      <th>age</th>\n",
       "      <th>workclass</th>\n",
       "      <th>fnlwgt</th>\n",
       "      <th>education</th>\n",
       "      <th>education-num</th>\n",
       "      <th>marital-status</th>\n",
       "      <th>occupation</th>\n",
       "      <th>relationship</th>\n",
       "      <th>race</th>\n",
       "      <th>sex</th>\n",
       "      <th>capital-gain</th>\n",
       "      <th>capital-loss</th>\n",
       "      <th>hours-per-week</th>\n",
       "      <th>native-country</th>\n",
       "      <th>income</th>\n",
       "    </tr>\n",
       "  </thead>\n",
       "  <tbody>\n",
       "    <tr>\n",
       "      <th>0</th>\n",
       "      <td>39</td>\n",
       "      <td>State-gov</td>\n",
       "      <td>77516</td>\n",
       "      <td>Bachelors</td>\n",
       "      <td>13</td>\n",
       "      <td>Never-married</td>\n",
       "      <td>Adm-clerical</td>\n",
       "      <td>Not-in-family</td>\n",
       "      <td>White</td>\n",
       "      <td>Male</td>\n",
       "      <td>2174</td>\n",
       "      <td>0</td>\n",
       "      <td>40</td>\n",
       "      <td>United-States</td>\n",
       "      <td>&lt;=50K</td>\n",
       "    </tr>\n",
       "    <tr>\n",
       "      <th>1</th>\n",
       "      <td>50</td>\n",
       "      <td>Self-emp-not-inc</td>\n",
       "      <td>83311</td>\n",
       "      <td>Bachelors</td>\n",
       "      <td>13</td>\n",
       "      <td>Married-civ-spouse</td>\n",
       "      <td>Exec-managerial</td>\n",
       "      <td>Husband</td>\n",
       "      <td>White</td>\n",
       "      <td>Male</td>\n",
       "      <td>0</td>\n",
       "      <td>0</td>\n",
       "      <td>13</td>\n",
       "      <td>United-States</td>\n",
       "      <td>&lt;=50K</td>\n",
       "    </tr>\n",
       "    <tr>\n",
       "      <th>2</th>\n",
       "      <td>38</td>\n",
       "      <td>Private</td>\n",
       "      <td>215646</td>\n",
       "      <td>HS-grad</td>\n",
       "      <td>9</td>\n",
       "      <td>Divorced</td>\n",
       "      <td>Handlers-cleaners</td>\n",
       "      <td>Not-in-family</td>\n",
       "      <td>White</td>\n",
       "      <td>Male</td>\n",
       "      <td>0</td>\n",
       "      <td>0</td>\n",
       "      <td>40</td>\n",
       "      <td>United-States</td>\n",
       "      <td>&lt;=50K</td>\n",
       "    </tr>\n",
       "  </tbody>\n",
       "</table>\n",
       "</div>"
      ],
      "text/plain": [
       "   age          workclass  fnlwgt   education  education-num  \\\n",
       "0   39          State-gov   77516   Bachelors             13   \n",
       "1   50   Self-emp-not-inc   83311   Bachelors             13   \n",
       "2   38            Private  215646     HS-grad              9   \n",
       "\n",
       "        marital-status          occupation    relationship    race    sex  \\\n",
       "0        Never-married        Adm-clerical   Not-in-family   White   Male   \n",
       "1   Married-civ-spouse     Exec-managerial         Husband   White   Male   \n",
       "2             Divorced   Handlers-cleaners   Not-in-family   White   Male   \n",
       "\n",
       "   capital-gain  capital-loss  hours-per-week  native-country  income  \n",
       "0          2174             0              40   United-States   <=50K  \n",
       "1             0             0              13   United-States   <=50K  \n",
       "2             0             0              40   United-States   <=50K  "
      ]
     },
     "execution_count": 87,
     "metadata": {},
     "output_type": "execute_result"
    }
   ],
   "source": [
    "df.head(3)"
   ]
  },
  {
   "cell_type": "markdown",
   "metadata": {},
   "source": [
    "## Understanding your data"
   ]
  },
  {
   "cell_type": "markdown",
   "metadata": {},
   "source": [
    "Now that we have loaded our data, we should get some basic info about them to know what are the data that we're dealing with."
   ]
  },
  {
   "cell_type": "markdown",
   "metadata": {},
   "source": [
    "What is the data type of our loaded data? is it a list? a dictionary? let's find out:"
   ]
  },
  {
   "cell_type": "code",
   "execution_count": 16,
   "metadata": {},
   "outputs": [
    {
     "data": {
      "text/plain": [
       "pandas.core.frame.DataFrame"
      ]
     },
     "execution_count": 16,
     "metadata": {},
     "output_type": "execute_result"
    }
   ],
   "source": [
    "type(df)"
   ]
  },
  {
   "cell_type": "markdown",
   "metadata": {},
   "source": [
    "For now, just consider the first and last words: **pandas** and **DataFrame**. It means that the file type of our imported data *df* is **DataFrame** and belongs to **pandas** library. What is **DataFrame**? It is a special file type which is not a part of Python's core data types but instead it is built on top of another Python library called **Numpy**. In a nutshell, a **DataFrame** is rectangular (tabular) data type which consists of rows and columns. these rows and columns have their our data type called **Series** which just like **DataFrame** belongs to **pandas** as is based on the **Numpy** library. The following figure shows their relationships together:"
   ]
  },
  {
   "cell_type": "markdown",
   "metadata": {},
   "source": [
    "<img src=\"../Images/dataframe.png\" width=\"800\"> "
   ]
  },
  {
   "cell_type": "markdown",
   "metadata": {},
   "source": [
    "### Shape of data"
   ]
  },
  {
   "cell_type": "markdown",
   "metadata": {},
   "source": [
    "**shape** attribute returns the shape of the dataframe : 32561 rows and 15 columns:"
   ]
  },
  {
   "cell_type": "code",
   "execution_count": 15,
   "metadata": {},
   "outputs": [
    {
     "data": {
      "text/plain": [
       "(32561, 15)"
      ]
     },
     "execution_count": 15,
     "metadata": {},
     "output_type": "execute_result"
    }
   ],
   "source": [
    "df.shape"
   ]
  },
  {
   "cell_type": "markdown",
   "metadata": {},
   "source": [
    "As you may remember the function **len** and how we can use it with *lists* and *strings*. We can use it also with our *DataFrame* to get the number of rows:"
   ]
  },
  {
   "cell_type": "code",
   "execution_count": 20,
   "metadata": {},
   "outputs": [
    {
     "data": {
      "text/plain": [
       "32561"
      ]
     },
     "execution_count": 20,
     "metadata": {},
     "output_type": "execute_result"
    }
   ],
   "source": [
    "len(df)"
   ]
  },
  {
   "cell_type": "markdown",
   "metadata": {},
   "source": [
    "### Data preview"
   ]
  },
  {
   "cell_type": "markdown",
   "metadata": {},
   "source": [
    "Just like **head( )** method used to take a peek at the first n rows of DataFrame, we can use **tail( )** method to see the last n rows:"
   ]
  },
  {
   "cell_type": "code",
   "execution_count": 21,
   "metadata": {},
   "outputs": [
    {
     "data": {
      "text/html": [
       "<div>\n",
       "<style scoped>\n",
       "    .dataframe tbody tr th:only-of-type {\n",
       "        vertical-align: middle;\n",
       "    }\n",
       "\n",
       "    .dataframe tbody tr th {\n",
       "        vertical-align: top;\n",
       "    }\n",
       "\n",
       "    .dataframe thead th {\n",
       "        text-align: right;\n",
       "    }\n",
       "</style>\n",
       "<table border=\"1\" class=\"dataframe\">\n",
       "  <thead>\n",
       "    <tr style=\"text-align: right;\">\n",
       "      <th></th>\n",
       "      <th>age</th>\n",
       "      <th>workclass</th>\n",
       "      <th>fnlwgt</th>\n",
       "      <th>education</th>\n",
       "      <th>education-num</th>\n",
       "      <th>marital-status</th>\n",
       "      <th>occupation</th>\n",
       "      <th>relationship</th>\n",
       "      <th>race</th>\n",
       "      <th>sex</th>\n",
       "      <th>capital-gain</th>\n",
       "      <th>capital-loss</th>\n",
       "      <th>hours-per-week</th>\n",
       "      <th>native-country</th>\n",
       "      <th>income</th>\n",
       "    </tr>\n",
       "  </thead>\n",
       "  <tbody>\n",
       "    <tr>\n",
       "      <th>32558</th>\n",
       "      <td>58</td>\n",
       "      <td>Private</td>\n",
       "      <td>151910</td>\n",
       "      <td>HS-grad</td>\n",
       "      <td>9</td>\n",
       "      <td>Widowed</td>\n",
       "      <td>Adm-clerical</td>\n",
       "      <td>Unmarried</td>\n",
       "      <td>White</td>\n",
       "      <td>Female</td>\n",
       "      <td>0</td>\n",
       "      <td>0</td>\n",
       "      <td>40</td>\n",
       "      <td>United-States</td>\n",
       "      <td>&lt;=50K</td>\n",
       "    </tr>\n",
       "    <tr>\n",
       "      <th>32559</th>\n",
       "      <td>22</td>\n",
       "      <td>Private</td>\n",
       "      <td>201490</td>\n",
       "      <td>HS-grad</td>\n",
       "      <td>9</td>\n",
       "      <td>Never-married</td>\n",
       "      <td>Adm-clerical</td>\n",
       "      <td>Own-child</td>\n",
       "      <td>White</td>\n",
       "      <td>Male</td>\n",
       "      <td>0</td>\n",
       "      <td>0</td>\n",
       "      <td>20</td>\n",
       "      <td>United-States</td>\n",
       "      <td>&lt;=50K</td>\n",
       "    </tr>\n",
       "    <tr>\n",
       "      <th>32560</th>\n",
       "      <td>52</td>\n",
       "      <td>Self-emp-inc</td>\n",
       "      <td>287927</td>\n",
       "      <td>HS-grad</td>\n",
       "      <td>9</td>\n",
       "      <td>Married-civ-spouse</td>\n",
       "      <td>Exec-managerial</td>\n",
       "      <td>Wife</td>\n",
       "      <td>White</td>\n",
       "      <td>Female</td>\n",
       "      <td>15024</td>\n",
       "      <td>0</td>\n",
       "      <td>40</td>\n",
       "      <td>United-States</td>\n",
       "      <td>&gt;50K</td>\n",
       "    </tr>\n",
       "  </tbody>\n",
       "</table>\n",
       "</div>"
      ],
      "text/plain": [
       "       age      workclass  fnlwgt education  education-num  \\\n",
       "32558   58        Private  151910   HS-grad              9   \n",
       "32559   22        Private  201490   HS-grad              9   \n",
       "32560   52   Self-emp-inc  287927   HS-grad              9   \n",
       "\n",
       "            marital-status        occupation relationship    race      sex  \\\n",
       "32558              Widowed      Adm-clerical    Unmarried   White   Female   \n",
       "32559        Never-married      Adm-clerical    Own-child   White     Male   \n",
       "32560   Married-civ-spouse   Exec-managerial         Wife   White   Female   \n",
       "\n",
       "       capital-gain  capital-loss  hours-per-week  native-country  income  \n",
       "32558             0             0              40   United-States   <=50K  \n",
       "32559             0             0              20   United-States   <=50K  \n",
       "32560         15024             0              40   United-States    >50K  "
      ]
     },
     "execution_count": 21,
     "metadata": {},
     "output_type": "execute_result"
    }
   ],
   "source": [
    "df.tail(3)"
   ]
  },
  {
   "cell_type": "markdown",
   "metadata": {},
   "source": [
    "### Simple descriptive statistics"
   ]
  },
  {
   "cell_type": "markdown",
   "metadata": {},
   "source": [
    "Using *.info( )* we can get general info of the dataframe:\n",
    "    "
   ]
  },
  {
   "cell_type": "code",
   "execution_count": null,
   "metadata": {},
   "outputs": [],
   "source": [
    "df.info()"
   ]
  },
  {
   "cell_type": "markdown",
   "metadata": {},
   "source": [
    "<img src=\"../Images/info.png\" width=\"800\"> "
   ]
  },
  {
   "cell_type": "markdown",
   "metadata": {},
   "source": [
    "In case we want to have a general idea about our data, we can use **.describe( )** method:"
   ]
  },
  {
   "cell_type": "code",
   "execution_count": 82,
   "metadata": {},
   "outputs": [
    {
     "data": {
      "text/html": [
       "<div>\n",
       "<style scoped>\n",
       "    .dataframe tbody tr th:only-of-type {\n",
       "        vertical-align: middle;\n",
       "    }\n",
       "\n",
       "    .dataframe tbody tr th {\n",
       "        vertical-align: top;\n",
       "    }\n",
       "\n",
       "    .dataframe thead th {\n",
       "        text-align: right;\n",
       "    }\n",
       "</style>\n",
       "<table border=\"1\" class=\"dataframe\">\n",
       "  <thead>\n",
       "    <tr style=\"text-align: right;\">\n",
       "      <th></th>\n",
       "      <th>age</th>\n",
       "      <th>workclass</th>\n",
       "      <th>fnlwgt</th>\n",
       "      <th>education</th>\n",
       "      <th>education-num</th>\n",
       "      <th>marital-status</th>\n",
       "      <th>occupation</th>\n",
       "      <th>relationship</th>\n",
       "      <th>race</th>\n",
       "      <th>sex</th>\n",
       "      <th>capital-gain</th>\n",
       "      <th>capital-loss</th>\n",
       "      <th>hours-per-week</th>\n",
       "      <th>native-country</th>\n",
       "      <th>income</th>\n",
       "    </tr>\n",
       "  </thead>\n",
       "  <tbody>\n",
       "    <tr>\n",
       "      <th>count</th>\n",
       "      <td>32561.0</td>\n",
       "      <td>32561</td>\n",
       "      <td>32561.0</td>\n",
       "      <td>32561</td>\n",
       "      <td>32561.0</td>\n",
       "      <td>32561</td>\n",
       "      <td>32561</td>\n",
       "      <td>32561</td>\n",
       "      <td>32561</td>\n",
       "      <td>32561</td>\n",
       "      <td>32561.0</td>\n",
       "      <td>32561.0</td>\n",
       "      <td>32561.0</td>\n",
       "      <td>32561</td>\n",
       "      <td>32561</td>\n",
       "    </tr>\n",
       "    <tr>\n",
       "      <th>unique</th>\n",
       "      <td>NaN</td>\n",
       "      <td>9</td>\n",
       "      <td>NaN</td>\n",
       "      <td>16</td>\n",
       "      <td>NaN</td>\n",
       "      <td>7</td>\n",
       "      <td>15</td>\n",
       "      <td>6</td>\n",
       "      <td>5</td>\n",
       "      <td>2</td>\n",
       "      <td>NaN</td>\n",
       "      <td>NaN</td>\n",
       "      <td>NaN</td>\n",
       "      <td>42</td>\n",
       "      <td>2</td>\n",
       "    </tr>\n",
       "    <tr>\n",
       "      <th>top</th>\n",
       "      <td>NaN</td>\n",
       "      <td>Private</td>\n",
       "      <td>NaN</td>\n",
       "      <td>HS-grad</td>\n",
       "      <td>NaN</td>\n",
       "      <td>Married-civ-spouse</td>\n",
       "      <td>Prof-specialty</td>\n",
       "      <td>Husband</td>\n",
       "      <td>White</td>\n",
       "      <td>Male</td>\n",
       "      <td>NaN</td>\n",
       "      <td>NaN</td>\n",
       "      <td>NaN</td>\n",
       "      <td>United-States</td>\n",
       "      <td>&lt;=50K</td>\n",
       "    </tr>\n",
       "    <tr>\n",
       "      <th>freq</th>\n",
       "      <td>NaN</td>\n",
       "      <td>22696</td>\n",
       "      <td>NaN</td>\n",
       "      <td>10501</td>\n",
       "      <td>NaN</td>\n",
       "      <td>14976</td>\n",
       "      <td>4140</td>\n",
       "      <td>13193</td>\n",
       "      <td>27816</td>\n",
       "      <td>21790</td>\n",
       "      <td>NaN</td>\n",
       "      <td>NaN</td>\n",
       "      <td>NaN</td>\n",
       "      <td>29170</td>\n",
       "      <td>24720</td>\n",
       "    </tr>\n",
       "    <tr>\n",
       "      <th>mean</th>\n",
       "      <td>38.6</td>\n",
       "      <td>NaN</td>\n",
       "      <td>189778.4</td>\n",
       "      <td>NaN</td>\n",
       "      <td>10.1</td>\n",
       "      <td>NaN</td>\n",
       "      <td>NaN</td>\n",
       "      <td>NaN</td>\n",
       "      <td>NaN</td>\n",
       "      <td>NaN</td>\n",
       "      <td>1077.6</td>\n",
       "      <td>87.3</td>\n",
       "      <td>40.4</td>\n",
       "      <td>NaN</td>\n",
       "      <td>NaN</td>\n",
       "    </tr>\n",
       "    <tr>\n",
       "      <th>std</th>\n",
       "      <td>13.6</td>\n",
       "      <td>NaN</td>\n",
       "      <td>105550.0</td>\n",
       "      <td>NaN</td>\n",
       "      <td>2.6</td>\n",
       "      <td>NaN</td>\n",
       "      <td>NaN</td>\n",
       "      <td>NaN</td>\n",
       "      <td>NaN</td>\n",
       "      <td>NaN</td>\n",
       "      <td>7385.3</td>\n",
       "      <td>403.0</td>\n",
       "      <td>12.3</td>\n",
       "      <td>NaN</td>\n",
       "      <td>NaN</td>\n",
       "    </tr>\n",
       "    <tr>\n",
       "      <th>min</th>\n",
       "      <td>17.0</td>\n",
       "      <td>NaN</td>\n",
       "      <td>12285.0</td>\n",
       "      <td>NaN</td>\n",
       "      <td>1.0</td>\n",
       "      <td>NaN</td>\n",
       "      <td>NaN</td>\n",
       "      <td>NaN</td>\n",
       "      <td>NaN</td>\n",
       "      <td>NaN</td>\n",
       "      <td>0.0</td>\n",
       "      <td>0.0</td>\n",
       "      <td>1.0</td>\n",
       "      <td>NaN</td>\n",
       "      <td>NaN</td>\n",
       "    </tr>\n",
       "    <tr>\n",
       "      <th>25%</th>\n",
       "      <td>28.0</td>\n",
       "      <td>NaN</td>\n",
       "      <td>117827.0</td>\n",
       "      <td>NaN</td>\n",
       "      <td>9.0</td>\n",
       "      <td>NaN</td>\n",
       "      <td>NaN</td>\n",
       "      <td>NaN</td>\n",
       "      <td>NaN</td>\n",
       "      <td>NaN</td>\n",
       "      <td>0.0</td>\n",
       "      <td>0.0</td>\n",
       "      <td>40.0</td>\n",
       "      <td>NaN</td>\n",
       "      <td>NaN</td>\n",
       "    </tr>\n",
       "    <tr>\n",
       "      <th>50%</th>\n",
       "      <td>37.0</td>\n",
       "      <td>NaN</td>\n",
       "      <td>178356.0</td>\n",
       "      <td>NaN</td>\n",
       "      <td>10.0</td>\n",
       "      <td>NaN</td>\n",
       "      <td>NaN</td>\n",
       "      <td>NaN</td>\n",
       "      <td>NaN</td>\n",
       "      <td>NaN</td>\n",
       "      <td>0.0</td>\n",
       "      <td>0.0</td>\n",
       "      <td>40.0</td>\n",
       "      <td>NaN</td>\n",
       "      <td>NaN</td>\n",
       "    </tr>\n",
       "    <tr>\n",
       "      <th>75%</th>\n",
       "      <td>48.0</td>\n",
       "      <td>NaN</td>\n",
       "      <td>237051.0</td>\n",
       "      <td>NaN</td>\n",
       "      <td>12.0</td>\n",
       "      <td>NaN</td>\n",
       "      <td>NaN</td>\n",
       "      <td>NaN</td>\n",
       "      <td>NaN</td>\n",
       "      <td>NaN</td>\n",
       "      <td>0.0</td>\n",
       "      <td>0.0</td>\n",
       "      <td>45.0</td>\n",
       "      <td>NaN</td>\n",
       "      <td>NaN</td>\n",
       "    </tr>\n",
       "    <tr>\n",
       "      <th>max</th>\n",
       "      <td>90.0</td>\n",
       "      <td>NaN</td>\n",
       "      <td>1484705.0</td>\n",
       "      <td>NaN</td>\n",
       "      <td>16.0</td>\n",
       "      <td>NaN</td>\n",
       "      <td>NaN</td>\n",
       "      <td>NaN</td>\n",
       "      <td>NaN</td>\n",
       "      <td>NaN</td>\n",
       "      <td>99999.0</td>\n",
       "      <td>4356.0</td>\n",
       "      <td>99.0</td>\n",
       "      <td>NaN</td>\n",
       "      <td>NaN</td>\n",
       "    </tr>\n",
       "  </tbody>\n",
       "</table>\n",
       "</div>"
      ],
      "text/plain": [
       "            age workclass     fnlwgt education  education-num  \\\n",
       "count   32561.0     32561    32561.0     32561        32561.0   \n",
       "unique      NaN         9        NaN        16            NaN   \n",
       "top         NaN   Private        NaN   HS-grad            NaN   \n",
       "freq        NaN     22696        NaN     10501            NaN   \n",
       "mean       38.6       NaN   189778.4       NaN           10.1   \n",
       "std        13.6       NaN   105550.0       NaN            2.6   \n",
       "min        17.0       NaN    12285.0       NaN            1.0   \n",
       "25%        28.0       NaN   117827.0       NaN            9.0   \n",
       "50%        37.0       NaN   178356.0       NaN           10.0   \n",
       "75%        48.0       NaN   237051.0       NaN           12.0   \n",
       "max        90.0       NaN  1484705.0       NaN           16.0   \n",
       "\n",
       "             marital-status       occupation relationship    race    sex  \\\n",
       "count                 32561            32561        32561   32561  32561   \n",
       "unique                    7               15            6       5      2   \n",
       "top      Married-civ-spouse   Prof-specialty      Husband   White   Male   \n",
       "freq                  14976             4140        13193   27816  21790   \n",
       "mean                    NaN              NaN          NaN     NaN    NaN   \n",
       "std                     NaN              NaN          NaN     NaN    NaN   \n",
       "min                     NaN              NaN          NaN     NaN    NaN   \n",
       "25%                     NaN              NaN          NaN     NaN    NaN   \n",
       "50%                     NaN              NaN          NaN     NaN    NaN   \n",
       "75%                     NaN              NaN          NaN     NaN    NaN   \n",
       "max                     NaN              NaN          NaN     NaN    NaN   \n",
       "\n",
       "        capital-gain  capital-loss  hours-per-week  native-country  income  \n",
       "count        32561.0       32561.0         32561.0           32561   32561  \n",
       "unique           NaN           NaN             NaN              42       2  \n",
       "top              NaN           NaN             NaN   United-States   <=50K  \n",
       "freq             NaN           NaN             NaN           29170   24720  \n",
       "mean          1077.6          87.3            40.4             NaN     NaN  \n",
       "std           7385.3         403.0            12.3             NaN     NaN  \n",
       "min              0.0           0.0             1.0             NaN     NaN  \n",
       "25%              0.0           0.0            40.0             NaN     NaN  \n",
       "50%              0.0           0.0            40.0             NaN     NaN  \n",
       "75%              0.0           0.0            45.0             NaN     NaN  \n",
       "max          99999.0        4356.0            99.0             NaN     NaN  "
      ]
     },
     "execution_count": 82,
     "metadata": {},
     "output_type": "execute_result"
    }
   ],
   "source": [
    "df.describe(include='all').round(1)"
   ]
  },
  {
   "cell_type": "code",
   "execution_count": 127,
   "metadata": {},
   "outputs": [
    {
     "data": {
      "text/html": [
       "<div>\n",
       "<style scoped>\n",
       "    .dataframe tbody tr th:only-of-type {\n",
       "        vertical-align: middle;\n",
       "    }\n",
       "\n",
       "    .dataframe tbody tr th {\n",
       "        vertical-align: top;\n",
       "    }\n",
       "\n",
       "    .dataframe thead th {\n",
       "        text-align: right;\n",
       "    }\n",
       "</style>\n",
       "<table border=\"1\" class=\"dataframe\">\n",
       "  <thead>\n",
       "    <tr style=\"text-align: right;\">\n",
       "      <th></th>\n",
       "      <th>age</th>\n",
       "      <th>fnlwgt</th>\n",
       "      <th>education-num</th>\n",
       "      <th>capital-gain</th>\n",
       "      <th>capital-loss</th>\n",
       "      <th>hours-per-week</th>\n",
       "    </tr>\n",
       "  </thead>\n",
       "  <tbody>\n",
       "    <tr>\n",
       "      <th>count</th>\n",
       "      <td>32561.000000</td>\n",
       "      <td>3.256100e+04</td>\n",
       "      <td>32561.000000</td>\n",
       "      <td>32561.000000</td>\n",
       "      <td>32561.000000</td>\n",
       "      <td>32561.000000</td>\n",
       "    </tr>\n",
       "    <tr>\n",
       "      <th>mean</th>\n",
       "      <td>38.581647</td>\n",
       "      <td>1.897784e+05</td>\n",
       "      <td>10.080679</td>\n",
       "      <td>1077.648844</td>\n",
       "      <td>87.303830</td>\n",
       "      <td>40.437456</td>\n",
       "    </tr>\n",
       "    <tr>\n",
       "      <th>std</th>\n",
       "      <td>13.640433</td>\n",
       "      <td>1.055500e+05</td>\n",
       "      <td>2.572720</td>\n",
       "      <td>7385.292085</td>\n",
       "      <td>402.960219</td>\n",
       "      <td>12.347429</td>\n",
       "    </tr>\n",
       "    <tr>\n",
       "      <th>min</th>\n",
       "      <td>17.000000</td>\n",
       "      <td>1.228500e+04</td>\n",
       "      <td>1.000000</td>\n",
       "      <td>0.000000</td>\n",
       "      <td>0.000000</td>\n",
       "      <td>1.000000</td>\n",
       "    </tr>\n",
       "    <tr>\n",
       "      <th>25%</th>\n",
       "      <td>28.000000</td>\n",
       "      <td>1.178270e+05</td>\n",
       "      <td>9.000000</td>\n",
       "      <td>0.000000</td>\n",
       "      <td>0.000000</td>\n",
       "      <td>40.000000</td>\n",
       "    </tr>\n",
       "    <tr>\n",
       "      <th>50%</th>\n",
       "      <td>37.000000</td>\n",
       "      <td>1.783560e+05</td>\n",
       "      <td>10.000000</td>\n",
       "      <td>0.000000</td>\n",
       "      <td>0.000000</td>\n",
       "      <td>40.000000</td>\n",
       "    </tr>\n",
       "    <tr>\n",
       "      <th>75%</th>\n",
       "      <td>48.000000</td>\n",
       "      <td>2.370510e+05</td>\n",
       "      <td>12.000000</td>\n",
       "      <td>0.000000</td>\n",
       "      <td>0.000000</td>\n",
       "      <td>45.000000</td>\n",
       "    </tr>\n",
       "    <tr>\n",
       "      <th>max</th>\n",
       "      <td>90.000000</td>\n",
       "      <td>1.484705e+06</td>\n",
       "      <td>16.000000</td>\n",
       "      <td>99999.000000</td>\n",
       "      <td>4356.000000</td>\n",
       "      <td>99.000000</td>\n",
       "    </tr>\n",
       "  </tbody>\n",
       "</table>\n",
       "</div>"
      ],
      "text/plain": [
       "                age        fnlwgt  education-num  capital-gain  capital-loss  \\\n",
       "count  32561.000000  3.256100e+04   32561.000000  32561.000000  32561.000000   \n",
       "mean      38.581647  1.897784e+05      10.080679   1077.648844     87.303830   \n",
       "std       13.640433  1.055500e+05       2.572720   7385.292085    402.960219   \n",
       "min       17.000000  1.228500e+04       1.000000      0.000000      0.000000   \n",
       "25%       28.000000  1.178270e+05       9.000000      0.000000      0.000000   \n",
       "50%       37.000000  1.783560e+05      10.000000      0.000000      0.000000   \n",
       "75%       48.000000  2.370510e+05      12.000000      0.000000      0.000000   \n",
       "max       90.000000  1.484705e+06      16.000000  99999.000000   4356.000000   \n",
       "\n",
       "       hours-per-week  \n",
       "count    32561.000000  \n",
       "mean        40.437456  \n",
       "std         12.347429  \n",
       "min          1.000000  \n",
       "25%         40.000000  \n",
       "50%         40.000000  \n",
       "75%         45.000000  \n",
       "max         99.000000  "
      ]
     },
     "execution_count": 127,
     "metadata": {},
     "output_type": "execute_result"
    }
   ],
   "source": [
    "df.describe()"
   ]
  },
  {
   "cell_type": "markdown",
   "metadata": {},
   "source": [
    " "
   ]
  },
  {
   "cell_type": "markdown",
   "metadata": {},
   "source": [
    "<img src=\"../Images/owl.svg\"   width=\"40\" align=\"left\">    "
   ]
  },
  {
   "cell_type": "markdown",
   "metadata": {},
   "source": [
    "***What happened in the cell above?***\n",
    "\n",
    "As I just said **describe( )** provides simple statistics but why we've used **include='all'** argument and **.round(1)** method?\n",
    "\n",
    "- **include** argument by default is None and as a result we'll get the statistics only for the numerical columns\n",
    "- **round(n)** is a DataFrame method which rounds the values to **n** digits. We've used it to make our result a bit more readable."
   ]
  },
  {
   "cell_type": "markdown",
   "metadata": {},
   "source": [
    "## Essential functionalities"
   ]
  },
  {
   "cell_type": "markdown",
   "metadata": {},
   "source": [
    "### Slicing and filtering data"
   ]
  },
  {
   "cell_type": "markdown",
   "metadata": {},
   "source": [
    "Often we want to perform a task on one single column or use it as an input for another function. Two of the easiest ways to get a single column from a dataframe are:\n",
    "\n",
    "     df[column_name]\n",
    "     df.column_name"
   ]
  },
  {
   "cell_type": "markdown",
   "metadata": {},
   "source": [
    " "
   ]
  },
  {
   "cell_type": "markdown",
   "metadata": {},
   "source": [
    "<img src=\"../Images/student.svg\"   width=\"30\" align=\"left\">               "
   ]
  },
  {
   "cell_type": "markdown",
   "metadata": {},
   "source": [
    "**YOUR TURN**\n",
    "\n",
    "try to get the **capital-loss** column using both methods and explain the results."
   ]
  },
  {
   "cell_type": "code",
   "execution_count": null,
   "metadata": {},
   "outputs": [],
   "source": [
    "(\\   .-.   .-.   .-.   .-.   .-.   .-.   .-.   .-.   /_\")\n",
    " \\\\_//^\\\\_//^\\\\_//^\\\\_//^\\\\_//^\\\\_//^\\\\_//^\\\\_//^\\\\_//\n",
    "  `\"`   `\"`   `\"`   `\"`   `\"`   `\"`   `\"`   `\"`   `\"`"
   ]
  },
  {
   "cell_type": "markdown",
   "metadata": {},
   "source": [
    " "
   ]
  },
  {
   "cell_type": "markdown",
   "metadata": {},
   "source": [
    "Using **describe( )** method we saw that for the categorical columns we'll get the most frequent value but how can we have the frequency of all unique values of a column (similar to COUNT DISTINCT in SQL)? \n",
    "\n",
    "To do so we can apply **value_counts( )** method to a categorical column. for example let's see value counts in the **marital-status** column:"
   ]
  },
  {
   "cell_type": "code",
   "execution_count": 88,
   "metadata": {},
   "outputs": [
    {
     "data": {
      "text/plain": [
       " Married-civ-spouse       14976\n",
       " Never-married            10683\n",
       " Divorced                  4443\n",
       " Separated                 1025\n",
       " Widowed                    993\n",
       " Married-spouse-absent      418\n",
       " Married-AF-spouse           23\n",
       "Name: marital-status, dtype: int64"
      ]
     },
     "execution_count": 88,
     "metadata": {},
     "output_type": "execute_result"
    }
   ],
   "source": [
    "df['marital-status'].value_counts()"
   ]
  },
  {
   "cell_type": "markdown",
   "metadata": {},
   "source": [
    "Adding **normalize=True** argument to **value_counts( )** method we can have the frequencies in percentage:"
   ]
  },
  {
   "cell_type": "code",
   "execution_count": 90,
   "metadata": {},
   "outputs": [
    {
     "data": {
      "text/plain": [
       " Married-civ-spouse       0.459937\n",
       " Never-married            0.328092\n",
       " Divorced                 0.136452\n",
       " Separated                0.031479\n",
       " Widowed                  0.030497\n",
       " Married-spouse-absent    0.012837\n",
       " Married-AF-spouse        0.000706\n",
       "Name: marital-status, dtype: float64"
      ]
     },
     "execution_count": 90,
     "metadata": {},
     "output_type": "execute_result"
    }
   ],
   "source": [
    "df['marital-status'].value_counts(normalize=True)"
   ]
  },
  {
   "cell_type": "markdown",
   "metadata": {},
   "source": [
    "While using the above method will show us the unique values of a column, we can't directly use **.value_counts( )** method to have a list of unique values. (imagine that you want to use these values in a for loop). \n",
    "**Series** has another method called **unique( )** which returns a numpy array (not a list):"
   ]
  },
  {
   "cell_type": "code",
   "execution_count": 98,
   "metadata": {},
   "outputs": [
    {
     "data": {
      "text/plain": [
       "array([' White', ' Black', ' Asian-Pac-Islander', ' Amer-Indian-Eskimo',\n",
       "       ' Other'], dtype=object)"
      ]
     },
     "execution_count": 98,
     "metadata": {},
     "output_type": "execute_result"
    }
   ],
   "source": [
    "df['race'].unique()"
   ]
  },
  {
   "cell_type": "markdown",
   "metadata": {},
   "source": [
    "Often we want to slice our dataframe and somehow reduce it. We can do it either by slicing or filtering it."
   ]
  },
  {
   "cell_type": "markdown",
   "metadata": {},
   "source": [
    "Let's start from slicing. Suppose we want a subset of the original data which contains the first 8 rows and all the columns except the last one:"
   ]
  },
  {
   "cell_type": "code",
   "execution_count": 132,
   "metadata": {},
   "outputs": [
    {
     "data": {
      "text/html": [
       "<div>\n",
       "<style scoped>\n",
       "    .dataframe tbody tr th:only-of-type {\n",
       "        vertical-align: middle;\n",
       "    }\n",
       "\n",
       "    .dataframe tbody tr th {\n",
       "        vertical-align: top;\n",
       "    }\n",
       "\n",
       "    .dataframe thead th {\n",
       "        text-align: right;\n",
       "    }\n",
       "</style>\n",
       "<table border=\"1\" class=\"dataframe\">\n",
       "  <thead>\n",
       "    <tr style=\"text-align: right;\">\n",
       "      <th></th>\n",
       "      <th>age</th>\n",
       "      <th>workclass</th>\n",
       "      <th>fnlwgt</th>\n",
       "      <th>education</th>\n",
       "      <th>education-num</th>\n",
       "      <th>marital-status</th>\n",
       "      <th>occupation</th>\n",
       "      <th>relationship</th>\n",
       "      <th>race</th>\n",
       "      <th>sex</th>\n",
       "      <th>capital-gain</th>\n",
       "      <th>capital-loss</th>\n",
       "      <th>hours-per-week</th>\n",
       "      <th>native-country</th>\n",
       "      <th>income</th>\n",
       "    </tr>\n",
       "  </thead>\n",
       "  <tbody>\n",
       "    <tr>\n",
       "      <th>0</th>\n",
       "      <td>39</td>\n",
       "      <td>State-gov</td>\n",
       "      <td>77516</td>\n",
       "      <td>Bachelors</td>\n",
       "      <td>13</td>\n",
       "      <td>Never-married</td>\n",
       "      <td>Adm-clerical</td>\n",
       "      <td>Not-in-family</td>\n",
       "      <td>White</td>\n",
       "      <td>Male</td>\n",
       "      <td>2174</td>\n",
       "      <td>0</td>\n",
       "      <td>40</td>\n",
       "      <td>United-States</td>\n",
       "      <td>&lt;=50K</td>\n",
       "    </tr>\n",
       "    <tr>\n",
       "      <th>1</th>\n",
       "      <td>50</td>\n",
       "      <td>Self-emp-not-inc</td>\n",
       "      <td>83311</td>\n",
       "      <td>Bachelors</td>\n",
       "      <td>13</td>\n",
       "      <td>Married-civ-spouse</td>\n",
       "      <td>Exec-managerial</td>\n",
       "      <td>Husband</td>\n",
       "      <td>White</td>\n",
       "      <td>Male</td>\n",
       "      <td>0</td>\n",
       "      <td>0</td>\n",
       "      <td>13</td>\n",
       "      <td>United-States</td>\n",
       "      <td>&lt;=50K</td>\n",
       "    </tr>\n",
       "    <tr>\n",
       "      <th>2</th>\n",
       "      <td>38</td>\n",
       "      <td>Private</td>\n",
       "      <td>215646</td>\n",
       "      <td>HS-grad</td>\n",
       "      <td>9</td>\n",
       "      <td>Divorced</td>\n",
       "      <td>Handlers-cleaners</td>\n",
       "      <td>Not-in-family</td>\n",
       "      <td>White</td>\n",
       "      <td>Male</td>\n",
       "      <td>0</td>\n",
       "      <td>0</td>\n",
       "      <td>40</td>\n",
       "      <td>United-States</td>\n",
       "      <td>&lt;=50K</td>\n",
       "    </tr>\n",
       "    <tr>\n",
       "      <th>3</th>\n",
       "      <td>53</td>\n",
       "      <td>Private</td>\n",
       "      <td>234721</td>\n",
       "      <td>11th</td>\n",
       "      <td>7</td>\n",
       "      <td>Married-civ-spouse</td>\n",
       "      <td>Handlers-cleaners</td>\n",
       "      <td>Husband</td>\n",
       "      <td>Black</td>\n",
       "      <td>Male</td>\n",
       "      <td>0</td>\n",
       "      <td>0</td>\n",
       "      <td>40</td>\n",
       "      <td>United-States</td>\n",
       "      <td>&lt;=50K</td>\n",
       "    </tr>\n",
       "    <tr>\n",
       "      <th>4</th>\n",
       "      <td>28</td>\n",
       "      <td>Private</td>\n",
       "      <td>338409</td>\n",
       "      <td>Bachelors</td>\n",
       "      <td>13</td>\n",
       "      <td>Married-civ-spouse</td>\n",
       "      <td>Prof-specialty</td>\n",
       "      <td>Wife</td>\n",
       "      <td>Black</td>\n",
       "      <td>Female</td>\n",
       "      <td>0</td>\n",
       "      <td>0</td>\n",
       "      <td>40</td>\n",
       "      <td>Cuba</td>\n",
       "      <td>&lt;=50K</td>\n",
       "    </tr>\n",
       "  </tbody>\n",
       "</table>\n",
       "</div>"
      ],
      "text/plain": [
       "   age          workclass  fnlwgt   education  education-num  \\\n",
       "0   39          State-gov   77516   Bachelors             13   \n",
       "1   50   Self-emp-not-inc   83311   Bachelors             13   \n",
       "2   38            Private  215646     HS-grad              9   \n",
       "3   53            Private  234721        11th              7   \n",
       "4   28            Private  338409   Bachelors             13   \n",
       "\n",
       "        marital-status          occupation    relationship    race      sex  \\\n",
       "0        Never-married        Adm-clerical   Not-in-family   White     Male   \n",
       "1   Married-civ-spouse     Exec-managerial         Husband   White     Male   \n",
       "2             Divorced   Handlers-cleaners   Not-in-family   White     Male   \n",
       "3   Married-civ-spouse   Handlers-cleaners         Husband   Black     Male   \n",
       "4   Married-civ-spouse      Prof-specialty            Wife   Black   Female   \n",
       "\n",
       "   capital-gain  capital-loss  hours-per-week  native-country  income  \n",
       "0          2174             0              40   United-States   <=50K  \n",
       "1             0             0              13   United-States   <=50K  \n",
       "2             0             0              40   United-States   <=50K  \n",
       "3             0             0              40   United-States   <=50K  \n",
       "4             0             0              40            Cuba   <=50K  "
      ]
     },
     "execution_count": 132,
     "metadata": {},
     "output_type": "execute_result"
    }
   ],
   "source": [
    "df.head(5)"
   ]
  },
  {
   "cell_type": "code",
   "execution_count": 135,
   "metadata": {},
   "outputs": [
    {
     "data": {
      "text/html": [
       "<div>\n",
       "<style scoped>\n",
       "    .dataframe tbody tr th:only-of-type {\n",
       "        vertical-align: middle;\n",
       "    }\n",
       "\n",
       "    .dataframe tbody tr th {\n",
       "        vertical-align: top;\n",
       "    }\n",
       "\n",
       "    .dataframe thead th {\n",
       "        text-align: right;\n",
       "    }\n",
       "</style>\n",
       "<table border=\"1\" class=\"dataframe\">\n",
       "  <thead>\n",
       "    <tr style=\"text-align: right;\">\n",
       "      <th></th>\n",
       "      <th>education</th>\n",
       "    </tr>\n",
       "  </thead>\n",
       "  <tbody>\n",
       "    <tr>\n",
       "      <th>1</th>\n",
       "      <td>Bachelors</td>\n",
       "    </tr>\n",
       "    <tr>\n",
       "      <th>2</th>\n",
       "      <td>HS-grad</td>\n",
       "    </tr>\n",
       "    <tr>\n",
       "      <th>3</th>\n",
       "      <td>11th</td>\n",
       "    </tr>\n",
       "  </tbody>\n",
       "</table>\n",
       "</div>"
      ],
      "text/plain": [
       "    education\n",
       "1   Bachelors\n",
       "2     HS-grad\n",
       "3        11th"
      ]
     },
     "execution_count": 135,
     "metadata": {},
     "output_type": "execute_result"
    }
   ],
   "source": [
    "df.iloc[1:4,3:4]"
   ]
  },
  {
   "cell_type": "markdown",
   "metadata": {},
   "source": [
    " "
   ]
  },
  {
   "cell_type": "markdown",
   "metadata": {},
   "source": [
    "<img src=\"../Images/owl.svg\"   width=\"40\" align=\"left\">    "
   ]
  },
  {
   "cell_type": "markdown",
   "metadata": {},
   "source": [
    "***What happened in the cell above?***\n",
    "\n",
    "We used one of DataFrame methods called **iloc[ ]** which is for **locating based on index**. Let's see the structure of a **.iloc[ ]** method:"
   ]
  },
  {
   "cell_type": "markdown",
   "metadata": {},
   "source": [
    "<img src=\"../Images/iloc.png\" width=\"600\"> "
   ]
  },
  {
   "cell_type": "markdown",
   "metadata": {},
   "source": [
    "Now let's see how can we filter our data.\n",
    "\n",
    "Suppose that you want to filter the data to find out people who has a PhD degree and are in a farming/Fishing business:"
   ]
  },
  {
   "cell_type": "code",
   "execution_count": 39,
   "metadata": {},
   "outputs": [
    {
     "data": {
      "text/html": [
       "<div>\n",
       "<style scoped>\n",
       "    .dataframe tbody tr th:only-of-type {\n",
       "        vertical-align: middle;\n",
       "    }\n",
       "\n",
       "    .dataframe tbody tr th {\n",
       "        vertical-align: top;\n",
       "    }\n",
       "\n",
       "    .dataframe thead th {\n",
       "        text-align: right;\n",
       "    }\n",
       "</style>\n",
       "<table border=\"1\" class=\"dataframe\">\n",
       "  <thead>\n",
       "    <tr style=\"text-align: right;\">\n",
       "      <th></th>\n",
       "      <th>age</th>\n",
       "      <th>workclass</th>\n",
       "      <th>fnlwgt</th>\n",
       "      <th>education</th>\n",
       "      <th>education-num</th>\n",
       "      <th>marital-status</th>\n",
       "      <th>occupation</th>\n",
       "      <th>relationship</th>\n",
       "      <th>race</th>\n",
       "      <th>sex</th>\n",
       "      <th>capital-gain</th>\n",
       "      <th>capital-loss</th>\n",
       "      <th>hours-per-week</th>\n",
       "      <th>native-country</th>\n",
       "      <th>income</th>\n",
       "    </tr>\n",
       "  </thead>\n",
       "  <tbody>\n",
       "    <tr>\n",
       "      <th>19861</th>\n",
       "      <td>77</td>\n",
       "      <td>Self-emp-inc</td>\n",
       "      <td>84979</td>\n",
       "      <td>Doctorate</td>\n",
       "      <td>16</td>\n",
       "      <td>Married-civ-spouse</td>\n",
       "      <td>Farming-fishing</td>\n",
       "      <td>Husband</td>\n",
       "      <td>White</td>\n",
       "      <td>Male</td>\n",
       "      <td>20051</td>\n",
       "      <td>0</td>\n",
       "      <td>40</td>\n",
       "      <td>United-States</td>\n",
       "      <td>&gt;50K</td>\n",
       "    </tr>\n",
       "  </tbody>\n",
       "</table>\n",
       "</div>"
      ],
      "text/plain": [
       "       age      workclass  fnlwgt   education  education-num  \\\n",
       "19861   77   Self-emp-inc   84979   Doctorate             16   \n",
       "\n",
       "            marital-status        occupation relationship    race    sex  \\\n",
       "19861   Married-civ-spouse   Farming-fishing      Husband   White   Male   \n",
       "\n",
       "       capital-gain  capital-loss  hours-per-week  native-country income  \n",
       "19861         20051             0              40   United-States   >50K  "
      ]
     },
     "execution_count": 39,
     "metadata": {},
     "output_type": "execute_result"
    }
   ],
   "source": [
    "df[(df.education == ' Doctorate') & (df['occupation'] == ' Farming-fishing')]"
   ]
  },
  {
   "cell_type": "markdown",
   "metadata": {},
   "source": [
    " "
   ]
  },
  {
   "cell_type": "markdown",
   "metadata": {},
   "source": [
    "<img src=\"../Images/owl.svg\"   width=\"40\" align=\"left\">    "
   ]
  },
  {
   "cell_type": "markdown",
   "metadata": {},
   "source": [
    "***What happened in the cell above?***\n",
    "\n",
    "The general form of the code we used is : **df \\[some_condition \\]**\n",
    "\n",
    "But why does it work? let's take a look at what we've called **some_condition**:"
   ]
  },
  {
   "cell_type": "code",
   "execution_count": 138,
   "metadata": {
    "scrolled": true
   },
   "outputs": [],
   "source": [
    "val = (df.education == ' Doctorate') & (df['occupation'] == ' Farming-fishing')"
   ]
  },
  {
   "cell_type": "code",
   "execution_count": 139,
   "metadata": {},
   "outputs": [
    {
     "name": "stdout",
     "output_type": "stream",
     "text": [
      "There are 32561 values\n",
      "The type is <class 'pandas.core.series.Series'>\n",
      "\n",
      "The values are:\n",
      "\n",
      "False    32560\n",
      "True         1\n",
      "dtype: int64\n"
     ]
    }
   ],
   "source": [
    "print(f'There are {len(val)} values')\n",
    "print(f'The type is {type(val)}')\n",
    "print('\\nThe values are:\\n')\n",
    "print(val.value_counts())"
   ]
  },
  {
   "cell_type": "markdown",
   "metadata": {},
   "source": [
    "By running the previous cell we can understand that what we've called **some_condition** is a **Series** with length of 32,561 (= len(df)) and with 32,560 *False* and just one *True*: This condition is instructing the *df* by telling him which rows it should return (*True*) and which rows shouldn't return (*False*)"
   ]
  },
  {
   "cell_type": "markdown",
   "metadata": {},
   "source": [
    "In the same way you can also filter single columns (**Series**). imagine you want to filter age column for records with more than 18 years old:"
   ]
  },
  {
   "cell_type": "code",
   "execution_count": 140,
   "metadata": {
    "scrolled": true
   },
   "outputs": [
    {
     "data": {
      "text/plain": [
       "0        39\n",
       "1        50\n",
       "2        38\n",
       "3        53\n",
       "4        28\n",
       "5        37\n",
       "6        49\n",
       "7        52\n",
       "8        31\n",
       "9        42\n",
       "10       37\n",
       "11       30\n",
       "12       23\n",
       "13       32\n",
       "14       40\n",
       "15       34\n",
       "16       25\n",
       "17       32\n",
       "18       38\n",
       "19       43\n",
       "20       40\n",
       "21       54\n",
       "22       35\n",
       "23       43\n",
       "24       59\n",
       "25       56\n",
       "26       19\n",
       "27       54\n",
       "28       39\n",
       "29       49\n",
       "         ..\n",
       "32531    30\n",
       "32532    34\n",
       "32533    54\n",
       "32534    37\n",
       "32535    22\n",
       "32536    34\n",
       "32537    30\n",
       "32538    38\n",
       "32539    71\n",
       "32540    45\n",
       "32541    41\n",
       "32542    72\n",
       "32543    45\n",
       "32544    31\n",
       "32545    39\n",
       "32546    37\n",
       "32547    43\n",
       "32548    65\n",
       "32549    43\n",
       "32550    43\n",
       "32551    32\n",
       "32552    43\n",
       "32553    32\n",
       "32554    53\n",
       "32555    22\n",
       "32556    27\n",
       "32557    40\n",
       "32558    58\n",
       "32559    22\n",
       "32560    52\n",
       "Name: age, Length: 31616, dtype: int64"
      ]
     },
     "execution_count": 140,
     "metadata": {},
     "output_type": "execute_result"
    }
   ],
   "source": [
    "df.age[df.age > 18]"
   ]
  },
  {
   "cell_type": "markdown",
   "metadata": {},
   "source": [
    " "
   ]
  },
  {
   "cell_type": "markdown",
   "metadata": {},
   "source": [
    "<img src=\"../Images/student.svg\"   width=\"30\" align=\"left\">               "
   ]
  },
  {
   "cell_type": "markdown",
   "metadata": {},
   "source": [
    "**YOUR TURN:**\n",
    "\n",
    "create two separate dataframe one containing info of women and one for men, compare the percentage of *education* fields in these two dataframes."
   ]
  },
  {
   "cell_type": "code",
   "execution_count": null,
   "metadata": {},
   "outputs": [],
   "source": [
    "(\\   .-.   .-.   .-.   .-.   .-.   .-.   .-.   .-.   /_\")\n",
    " \\\\_//^\\\\_//^\\\\_//^\\\\_//^\\\\_//^\\\\_//^\\\\_//^\\\\_//^\\\\_//\n",
    "  `\"`   `\"`   `\"`   `\"`   `\"`   `\"`   `\"`   `\"`   `\"`"
   ]
  },
  {
   "cell_type": "markdown",
   "metadata": {},
   "source": [
    " "
   ]
  },
  {
   "cell_type": "markdown",
   "metadata": {},
   "source": [
    "In the previous example, we've used two conditions**(df.education == ' Doctorate')** and  **(df\\['occupation'\\] == ' Farming-fishing')** and have used a logical operator **'&'** to connect them together. But what if instead of just filtering education to be equal to *'Doctorate'* we want to add *'Assoc-acdm'*, *'Assoc-voc'*, and *'Prof-school'* too?\n",
    "\n",
    "Of course one way would be to add more conditions to ones we already have, but it's a terrible solution!\n",
    "In cases like this, similar to what we do in SQL (IN), we can filter a column based on multiple values:"
   ]
  },
  {
   "cell_type": "code",
   "execution_count": 62,
   "metadata": {},
   "outputs": [
    {
     "data": {
      "text/html": [
       "<div>\n",
       "<style scoped>\n",
       "    .dataframe tbody tr th:only-of-type {\n",
       "        vertical-align: middle;\n",
       "    }\n",
       "\n",
       "    .dataframe tbody tr th {\n",
       "        vertical-align: top;\n",
       "    }\n",
       "\n",
       "    .dataframe thead th {\n",
       "        text-align: right;\n",
       "    }\n",
       "</style>\n",
       "<table border=\"1\" class=\"dataframe\">\n",
       "  <thead>\n",
       "    <tr style=\"text-align: right;\">\n",
       "      <th></th>\n",
       "      <th>age</th>\n",
       "      <th>workclass</th>\n",
       "      <th>fnlwgt</th>\n",
       "      <th>education</th>\n",
       "      <th>education-num</th>\n",
       "      <th>marital-status</th>\n",
       "      <th>occupation</th>\n",
       "      <th>relationship</th>\n",
       "      <th>race</th>\n",
       "      <th>sex</th>\n",
       "      <th>capital-gain</th>\n",
       "      <th>capital-loss</th>\n",
       "      <th>hours-per-week</th>\n",
       "      <th>native-country</th>\n",
       "      <th>income</th>\n",
       "    </tr>\n",
       "  </thead>\n",
       "  <tbody>\n",
       "    <tr>\n",
       "      <th>460</th>\n",
       "      <td>44</td>\n",
       "      <td>Private</td>\n",
       "      <td>116632</td>\n",
       "      <td>Assoc-acdm</td>\n",
       "      <td>12</td>\n",
       "      <td>Never-married</td>\n",
       "      <td>Farming-fishing</td>\n",
       "      <td>Own-child</td>\n",
       "      <td>White</td>\n",
       "      <td>Male</td>\n",
       "      <td>0</td>\n",
       "      <td>0</td>\n",
       "      <td>40</td>\n",
       "      <td>United-States</td>\n",
       "      <td>&lt;=50K</td>\n",
       "    </tr>\n",
       "    <tr>\n",
       "      <th>604</th>\n",
       "      <td>35</td>\n",
       "      <td>Self-emp-not-inc</td>\n",
       "      <td>194404</td>\n",
       "      <td>Assoc-acdm</td>\n",
       "      <td>12</td>\n",
       "      <td>Never-married</td>\n",
       "      <td>Farming-fishing</td>\n",
       "      <td>Not-in-family</td>\n",
       "      <td>White</td>\n",
       "      <td>Male</td>\n",
       "      <td>0</td>\n",
       "      <td>0</td>\n",
       "      <td>40</td>\n",
       "      <td>United-States</td>\n",
       "      <td>&lt;=50K</td>\n",
       "    </tr>\n",
       "    <tr>\n",
       "      <th>894</th>\n",
       "      <td>42</td>\n",
       "      <td>Self-emp-not-inc</td>\n",
       "      <td>177307</td>\n",
       "      <td>Prof-school</td>\n",
       "      <td>15</td>\n",
       "      <td>Married-civ-spouse</td>\n",
       "      <td>Farming-fishing</td>\n",
       "      <td>Husband</td>\n",
       "      <td>White</td>\n",
       "      <td>Male</td>\n",
       "      <td>0</td>\n",
       "      <td>0</td>\n",
       "      <td>65</td>\n",
       "      <td>United-States</td>\n",
       "      <td>&gt;50K</td>\n",
       "    </tr>\n",
       "    <tr>\n",
       "      <th>2200</th>\n",
       "      <td>65</td>\n",
       "      <td>Private</td>\n",
       "      <td>90377</td>\n",
       "      <td>Assoc-voc</td>\n",
       "      <td>11</td>\n",
       "      <td>Married-civ-spouse</td>\n",
       "      <td>Farming-fishing</td>\n",
       "      <td>Husband</td>\n",
       "      <td>White</td>\n",
       "      <td>Male</td>\n",
       "      <td>6767</td>\n",
       "      <td>0</td>\n",
       "      <td>60</td>\n",
       "      <td>United-States</td>\n",
       "      <td>&lt;=50K</td>\n",
       "    </tr>\n",
       "  </tbody>\n",
       "</table>\n",
       "</div>"
      ],
      "text/plain": [
       "      age          workclass  fnlwgt     education  education-num  \\\n",
       "460    44            Private  116632    Assoc-acdm             12   \n",
       "604    35   Self-emp-not-inc  194404    Assoc-acdm             12   \n",
       "894    42   Self-emp-not-inc  177307   Prof-school             15   \n",
       "2200   65            Private   90377     Assoc-voc             11   \n",
       "\n",
       "           marital-status        occupation    relationship    race    sex  \\\n",
       "460         Never-married   Farming-fishing       Own-child   White   Male   \n",
       "604         Never-married   Farming-fishing   Not-in-family   White   Male   \n",
       "894    Married-civ-spouse   Farming-fishing         Husband   White   Male   \n",
       "2200   Married-civ-spouse   Farming-fishing         Husband   White   Male   \n",
       "\n",
       "      capital-gain  capital-loss  hours-per-week  native-country  income  \n",
       "460              0             0              40   United-States   <=50K  \n",
       "604              0             0              40   United-States   <=50K  \n",
       "894              0             0              65   United-States    >50K  \n",
       "2200          6767             0              60   United-States   <=50K  "
      ]
     },
     "execution_count": 62,
     "metadata": {},
     "output_type": "execute_result"
    }
   ],
   "source": [
    "edu = [' Doctorate', ' Assoc-acdm', ' Assoc-voc', ' Prof-school']\n",
    "\n",
    "df[(df.education.isin(edu)) & (df['occupation'] == ' Farming-fishing')].head(4)"
   ]
  },
  {
   "cell_type": "markdown",
   "metadata": {},
   "source": [
    "But what if we want to exclude rows based on multiple values? it's really simple! Just add **~** before the condition:"
   ]
  },
  {
   "cell_type": "code",
   "execution_count": 61,
   "metadata": {},
   "outputs": [
    {
     "data": {
      "text/html": [
       "<div>\n",
       "<style scoped>\n",
       "    .dataframe tbody tr th:only-of-type {\n",
       "        vertical-align: middle;\n",
       "    }\n",
       "\n",
       "    .dataframe tbody tr th {\n",
       "        vertical-align: top;\n",
       "    }\n",
       "\n",
       "    .dataframe thead th {\n",
       "        text-align: right;\n",
       "    }\n",
       "</style>\n",
       "<table border=\"1\" class=\"dataframe\">\n",
       "  <thead>\n",
       "    <tr style=\"text-align: right;\">\n",
       "      <th></th>\n",
       "      <th>age</th>\n",
       "      <th>workclass</th>\n",
       "      <th>fnlwgt</th>\n",
       "      <th>education</th>\n",
       "      <th>education-num</th>\n",
       "      <th>marital-status</th>\n",
       "      <th>occupation</th>\n",
       "      <th>relationship</th>\n",
       "      <th>race</th>\n",
       "      <th>sex</th>\n",
       "      <th>capital-gain</th>\n",
       "      <th>capital-loss</th>\n",
       "      <th>hours-per-week</th>\n",
       "      <th>native-country</th>\n",
       "      <th>income</th>\n",
       "    </tr>\n",
       "  </thead>\n",
       "  <tbody>\n",
       "    <tr>\n",
       "      <th>16</th>\n",
       "      <td>25</td>\n",
       "      <td>Self-emp-not-inc</td>\n",
       "      <td>176756</td>\n",
       "      <td>HS-grad</td>\n",
       "      <td>9</td>\n",
       "      <td>Never-married</td>\n",
       "      <td>Farming-fishing</td>\n",
       "      <td>Own-child</td>\n",
       "      <td>White</td>\n",
       "      <td>Male</td>\n",
       "      <td>0</td>\n",
       "      <td>0</td>\n",
       "      <td>35</td>\n",
       "      <td>United-States</td>\n",
       "      <td>&lt;=50K</td>\n",
       "    </tr>\n",
       "    <tr>\n",
       "      <th>22</th>\n",
       "      <td>35</td>\n",
       "      <td>Federal-gov</td>\n",
       "      <td>76845</td>\n",
       "      <td>9th</td>\n",
       "      <td>5</td>\n",
       "      <td>Married-civ-spouse</td>\n",
       "      <td>Farming-fishing</td>\n",
       "      <td>Husband</td>\n",
       "      <td>Black</td>\n",
       "      <td>Male</td>\n",
       "      <td>0</td>\n",
       "      <td>0</td>\n",
       "      <td>40</td>\n",
       "      <td>United-States</td>\n",
       "      <td>&lt;=50K</td>\n",
       "    </tr>\n",
       "    <tr>\n",
       "      <th>79</th>\n",
       "      <td>31</td>\n",
       "      <td>Local-gov</td>\n",
       "      <td>125927</td>\n",
       "      <td>7th-8th</td>\n",
       "      <td>4</td>\n",
       "      <td>Married-civ-spouse</td>\n",
       "      <td>Farming-fishing</td>\n",
       "      <td>Husband</td>\n",
       "      <td>White</td>\n",
       "      <td>Male</td>\n",
       "      <td>0</td>\n",
       "      <td>0</td>\n",
       "      <td>40</td>\n",
       "      <td>United-States</td>\n",
       "      <td>&lt;=50K</td>\n",
       "    </tr>\n",
       "    <tr>\n",
       "      <th>227</th>\n",
       "      <td>66</td>\n",
       "      <td>Self-emp-not-inc</td>\n",
       "      <td>167687</td>\n",
       "      <td>HS-grad</td>\n",
       "      <td>9</td>\n",
       "      <td>Married-civ-spouse</td>\n",
       "      <td>Farming-fishing</td>\n",
       "      <td>Husband</td>\n",
       "      <td>White</td>\n",
       "      <td>Male</td>\n",
       "      <td>1409</td>\n",
       "      <td>0</td>\n",
       "      <td>50</td>\n",
       "      <td>United-States</td>\n",
       "      <td>&lt;=50K</td>\n",
       "    </tr>\n",
       "  </tbody>\n",
       "</table>\n",
       "</div>"
      ],
      "text/plain": [
       "     age          workclass  fnlwgt education  education-num  \\\n",
       "16    25   Self-emp-not-inc  176756   HS-grad              9   \n",
       "22    35        Federal-gov   76845       9th              5   \n",
       "79    31          Local-gov  125927   7th-8th              4   \n",
       "227   66   Self-emp-not-inc  167687   HS-grad              9   \n",
       "\n",
       "          marital-status        occupation relationship    race    sex  \\\n",
       "16         Never-married   Farming-fishing    Own-child   White   Male   \n",
       "22    Married-civ-spouse   Farming-fishing      Husband   Black   Male   \n",
       "79    Married-civ-spouse   Farming-fishing      Husband   White   Male   \n",
       "227   Married-civ-spouse   Farming-fishing      Husband   White   Male   \n",
       "\n",
       "     capital-gain  capital-loss  hours-per-week  native-country  income  \n",
       "16              0             0              35   United-States   <=50K  \n",
       "22              0             0              40   United-States   <=50K  \n",
       "79              0             0              40   United-States   <=50K  \n",
       "227          1409             0              50   United-States   <=50K  "
      ]
     },
     "execution_count": 61,
     "metadata": {},
     "output_type": "execute_result"
    }
   ],
   "source": [
    "df[~(df.education.isin(edu)) & (df['occupation'] == ' Farming-fishing')].head(4)"
   ]
  },
  {
   "cell_type": "markdown",
   "metadata": {},
   "source": [
    "In the previous example we filtered the fields with the exact words but how can we filter them just with a part of a word? (similar to what we do in SQL with *Like*)\n",
    "\n",
    "Suppose we want to filter the data for all the records that contain *'marr'* in their **'marital-status'** field:"
   ]
  },
  {
   "cell_type": "code",
   "execution_count": 54,
   "metadata": {
    "scrolled": true
   },
   "outputs": [
    {
     "data": {
      "text/html": [
       "<div>\n",
       "<style scoped>\n",
       "    .dataframe tbody tr th:only-of-type {\n",
       "        vertical-align: middle;\n",
       "    }\n",
       "\n",
       "    .dataframe tbody tr th {\n",
       "        vertical-align: top;\n",
       "    }\n",
       "\n",
       "    .dataframe thead th {\n",
       "        text-align: right;\n",
       "    }\n",
       "</style>\n",
       "<table border=\"1\" class=\"dataframe\">\n",
       "  <thead>\n",
       "    <tr style=\"text-align: right;\">\n",
       "      <th></th>\n",
       "      <th>age</th>\n",
       "      <th>workclass</th>\n",
       "      <th>fnlwgt</th>\n",
       "      <th>education</th>\n",
       "      <th>education-num</th>\n",
       "      <th>marital-status</th>\n",
       "      <th>occupation</th>\n",
       "      <th>relationship</th>\n",
       "      <th>race</th>\n",
       "      <th>sex</th>\n",
       "      <th>capital-gain</th>\n",
       "      <th>capital-loss</th>\n",
       "      <th>hours-per-week</th>\n",
       "      <th>native-country</th>\n",
       "      <th>income</th>\n",
       "    </tr>\n",
       "  </thead>\n",
       "  <tbody>\n",
       "    <tr>\n",
       "      <th>0</th>\n",
       "      <td>39</td>\n",
       "      <td>State-gov</td>\n",
       "      <td>77516</td>\n",
       "      <td>Bachelors</td>\n",
       "      <td>13</td>\n",
       "      <td>Never-married</td>\n",
       "      <td>Adm-clerical</td>\n",
       "      <td>Not-in-family</td>\n",
       "      <td>White</td>\n",
       "      <td>Male</td>\n",
       "      <td>2174</td>\n",
       "      <td>0</td>\n",
       "      <td>40</td>\n",
       "      <td>United-States</td>\n",
       "      <td>&lt;=50K</td>\n",
       "    </tr>\n",
       "    <tr>\n",
       "      <th>8</th>\n",
       "      <td>31</td>\n",
       "      <td>Private</td>\n",
       "      <td>45781</td>\n",
       "      <td>Masters</td>\n",
       "      <td>14</td>\n",
       "      <td>Never-married</td>\n",
       "      <td>Prof-specialty</td>\n",
       "      <td>Not-in-family</td>\n",
       "      <td>White</td>\n",
       "      <td>Female</td>\n",
       "      <td>14084</td>\n",
       "      <td>0</td>\n",
       "      <td>50</td>\n",
       "      <td>United-States</td>\n",
       "      <td>&gt;50K</td>\n",
       "    </tr>\n",
       "    <tr>\n",
       "      <th>12</th>\n",
       "      <td>23</td>\n",
       "      <td>Private</td>\n",
       "      <td>122272</td>\n",
       "      <td>Bachelors</td>\n",
       "      <td>13</td>\n",
       "      <td>Never-married</td>\n",
       "      <td>Adm-clerical</td>\n",
       "      <td>Own-child</td>\n",
       "      <td>White</td>\n",
       "      <td>Female</td>\n",
       "      <td>0</td>\n",
       "      <td>0</td>\n",
       "      <td>30</td>\n",
       "      <td>United-States</td>\n",
       "      <td>&lt;=50K</td>\n",
       "    </tr>\n",
       "  </tbody>\n",
       "</table>\n",
       "</div>"
      ],
      "text/plain": [
       "    age   workclass  fnlwgt   education  education-num  marital-status  \\\n",
       "0    39   State-gov   77516   Bachelors             13   Never-married   \n",
       "8    31     Private   45781     Masters             14   Never-married   \n",
       "12   23     Private  122272   Bachelors             13   Never-married   \n",
       "\n",
       "         occupation    relationship    race      sex  capital-gain  \\\n",
       "0      Adm-clerical   Not-in-family   White     Male          2174   \n",
       "8    Prof-specialty   Not-in-family   White   Female         14084   \n",
       "12     Adm-clerical       Own-child   White   Female             0   \n",
       "\n",
       "    capital-loss  hours-per-week  native-country  income  \n",
       "0              0              40   United-States   <=50K  \n",
       "8              0              50   United-States    >50K  \n",
       "12             0              30   United-States   <=50K  "
      ]
     },
     "execution_count": 54,
     "metadata": {},
     "output_type": "execute_result"
    }
   ],
   "source": [
    "df[df['marital-status'].str.contains('marr')].head(3)"
   ]
  },
  {
   "cell_type": "markdown",
   "metadata": {},
   "source": [
    " "
   ]
  },
  {
   "cell_type": "markdown",
   "metadata": {},
   "source": [
    "<img src=\"../Images/owl.svg\"   width=\"40\" align=\"left\">    "
   ]
  },
  {
   "cell_type": "markdown",
   "metadata": {},
   "source": [
    "***What happened in the cell above?***\n",
    "\n",
    "Now we know that we're dealing with another case of **df\\[some_condition\\]** and expect that **some_condition** returns a Series with Boolean values. The only thing that is new here is:\n",
    "\n",
    "**.str.contains( )**\n",
    "looking at it carefully we can understand that **.contains( )** is a method of **str**. You may ask why suddenly we need to use **str**, which is a legitimate question! We should use **str**, since **Series**, doesn't have a native method to see if a given string is a part of another string, while **str** data type has this method. That's it!\n"
   ]
  },
  {
   "cell_type": "markdown",
   "metadata": {},
   "source": [
    "### Sorting data"
   ]
  },
  {
   "cell_type": "markdown",
   "metadata": {},
   "source": [
    "Sorting columns is really easy in Python: \n",
    "\n",
    "Suppose we want to sort *age* and *fnlwgt* in a Ascending and Descending orders. All we have to do is to use **.sort_values( )** method:"
   ]
  },
  {
   "cell_type": "code",
   "execution_count": 72,
   "metadata": {},
   "outputs": [
    {
     "data": {
      "text/html": [
       "<div>\n",
       "<style scoped>\n",
       "    .dataframe tbody tr th:only-of-type {\n",
       "        vertical-align: middle;\n",
       "    }\n",
       "\n",
       "    .dataframe tbody tr th {\n",
       "        vertical-align: top;\n",
       "    }\n",
       "\n",
       "    .dataframe thead th {\n",
       "        text-align: right;\n",
       "    }\n",
       "</style>\n",
       "<table border=\"1\" class=\"dataframe\">\n",
       "  <thead>\n",
       "    <tr style=\"text-align: right;\">\n",
       "      <th></th>\n",
       "      <th>age</th>\n",
       "      <th>workclass</th>\n",
       "      <th>fnlwgt</th>\n",
       "      <th>education</th>\n",
       "      <th>education-num</th>\n",
       "      <th>marital-status</th>\n",
       "      <th>occupation</th>\n",
       "      <th>relationship</th>\n",
       "      <th>race</th>\n",
       "      <th>sex</th>\n",
       "      <th>capital-gain</th>\n",
       "      <th>capital-loss</th>\n",
       "      <th>hours-per-week</th>\n",
       "      <th>native-country</th>\n",
       "      <th>income</th>\n",
       "    </tr>\n",
       "  </thead>\n",
       "  <tbody>\n",
       "    <tr>\n",
       "      <th>23373</th>\n",
       "      <td>17</td>\n",
       "      <td>?</td>\n",
       "      <td>806316</td>\n",
       "      <td>11th</td>\n",
       "      <td>7</td>\n",
       "      <td>Never-married</td>\n",
       "      <td>?</td>\n",
       "      <td>Own-child</td>\n",
       "      <td>White</td>\n",
       "      <td>Female</td>\n",
       "      <td>0</td>\n",
       "      <td>0</td>\n",
       "      <td>20</td>\n",
       "      <td>United-States</td>\n",
       "      <td>&lt;=50K</td>\n",
       "    </tr>\n",
       "    <tr>\n",
       "      <th>27167</th>\n",
       "      <td>17</td>\n",
       "      <td>Private</td>\n",
       "      <td>721712</td>\n",
       "      <td>10th</td>\n",
       "      <td>6</td>\n",
       "      <td>Never-married</td>\n",
       "      <td>Other-service</td>\n",
       "      <td>Own-child</td>\n",
       "      <td>White</td>\n",
       "      <td>Male</td>\n",
       "      <td>0</td>\n",
       "      <td>0</td>\n",
       "      <td>15</td>\n",
       "      <td>United-States</td>\n",
       "      <td>&lt;=50K</td>\n",
       "    </tr>\n",
       "    <tr>\n",
       "      <th>7663</th>\n",
       "      <td>17</td>\n",
       "      <td>?</td>\n",
       "      <td>659273</td>\n",
       "      <td>11th</td>\n",
       "      <td>7</td>\n",
       "      <td>Never-married</td>\n",
       "      <td>?</td>\n",
       "      <td>Own-child</td>\n",
       "      <td>Black</td>\n",
       "      <td>Female</td>\n",
       "      <td>0</td>\n",
       "      <td>0</td>\n",
       "      <td>40</td>\n",
       "      <td>Trinadad&amp;Tobago</td>\n",
       "      <td>&lt;=50K</td>\n",
       "    </tr>\n",
       "    <tr>\n",
       "      <th>15350</th>\n",
       "      <td>17</td>\n",
       "      <td>?</td>\n",
       "      <td>634226</td>\n",
       "      <td>10th</td>\n",
       "      <td>6</td>\n",
       "      <td>Never-married</td>\n",
       "      <td>?</td>\n",
       "      <td>Own-child</td>\n",
       "      <td>White</td>\n",
       "      <td>Female</td>\n",
       "      <td>0</td>\n",
       "      <td>0</td>\n",
       "      <td>17</td>\n",
       "      <td>United-States</td>\n",
       "      <td>&lt;=50K</td>\n",
       "    </tr>\n",
       "    <tr>\n",
       "      <th>22423</th>\n",
       "      <td>17</td>\n",
       "      <td>Private</td>\n",
       "      <td>566049</td>\n",
       "      <td>10th</td>\n",
       "      <td>6</td>\n",
       "      <td>Never-married</td>\n",
       "      <td>Other-service</td>\n",
       "      <td>Own-child</td>\n",
       "      <td>White</td>\n",
       "      <td>Male</td>\n",
       "      <td>0</td>\n",
       "      <td>0</td>\n",
       "      <td>8</td>\n",
       "      <td>United-States</td>\n",
       "      <td>&lt;=50K</td>\n",
       "    </tr>\n",
       "  </tbody>\n",
       "</table>\n",
       "</div>"
      ],
      "text/plain": [
       "       age workclass  fnlwgt education  education-num  marital-status  \\\n",
       "23373   17         ?  806316      11th              7   Never-married   \n",
       "27167   17   Private  721712      10th              6   Never-married   \n",
       "7663    17         ?  659273      11th              7   Never-married   \n",
       "15350   17         ?  634226      10th              6   Never-married   \n",
       "22423   17   Private  566049      10th              6   Never-married   \n",
       "\n",
       "           occupation relationship    race      sex  capital-gain  \\\n",
       "23373               ?    Own-child   White   Female             0   \n",
       "27167   Other-service    Own-child   White     Male             0   \n",
       "7663                ?    Own-child   Black   Female             0   \n",
       "15350               ?    Own-child   White   Female             0   \n",
       "22423   Other-service    Own-child   White     Male             0   \n",
       "\n",
       "       capital-loss  hours-per-week    native-country  income  \n",
       "23373             0              20     United-States   <=50K  \n",
       "27167             0              15     United-States   <=50K  \n",
       "7663              0              40   Trinadad&Tobago   <=50K  \n",
       "15350             0              17     United-States   <=50K  \n",
       "22423             0               8     United-States   <=50K  "
      ]
     },
     "execution_count": 72,
     "metadata": {},
     "output_type": "execute_result"
    }
   ],
   "source": [
    "df.sort_values(by=['age', 'fnlwgt'], ascending=[True, False]).head()"
   ]
  },
  {
   "cell_type": "markdown",
   "metadata": {},
   "source": [
    "### Exporting data"
   ]
  },
  {
   "cell_type": "markdown",
   "metadata": {},
   "source": [
    "Often we want to save our dataframe into csv or Excel formats. You can do so by using the following lines:"
   ]
  },
  {
   "cell_type": "code",
   "execution_count": 7,
   "metadata": {},
   "outputs": [],
   "source": [
    "df.to_csv('name_i_weant.csv', index=False) # csv\n",
    "df.to_excel('name_i_weant.xlsx', index=False) # Excel"
   ]
  },
  {
   "cell_type": "markdown",
   "metadata": {},
   "source": [
    "## Data transformation"
   ]
  },
  {
   "cell_type": "markdown",
   "metadata": {},
   "source": [
    "Sometimes we need to **apply** something (Ex. a lambda function) to a specific column of our dataframe.\n",
    "\n",
    "Using the following general form we can achieve what we want:\n",
    "\n",
    "**one_column.apply(a_function)**\n",
    "\n",
    "As an example suppose that we just realized that due to a data insertion error, **fnlwgt** values had been recorded in a wrong way: all the right most digits are added by mistake and we should remove them before using these numbers for our analysis. First, let's check the data type of this column:"
   ]
  },
  {
   "cell_type": "code",
   "execution_count": 47,
   "metadata": {},
   "outputs": [
    {
     "data": {
      "text/plain": [
       "dtype('int64')"
      ]
     },
     "execution_count": 47,
     "metadata": {},
     "output_type": "execute_result"
    }
   ],
   "source": [
    "df.fnlwgt.dtype"
   ]
  },
  {
   "cell_type": "markdown",
   "metadata": {},
   "source": [
    "we can see that the values are integer. It means unlike strings, we can't just slice them.\n",
    "\n",
    "**Q:** What should we do?\n",
    "\n",
    "**A:** We should first convert these integer values to string, remove the digit on the right and convert it to integer again.\n",
    "    \n",
    "**Q:** How can we do this?\n",
    "\n",
    "**A:** By using a for loop to go through items.\n",
    "\n",
    "**!!** WRONG! You should NEVER use a for loop for such a task!\n",
    "\n",
    "As we've mentioned above, Series come with a handy method called apply which allows us to apply a function to a Series:"
   ]
  },
  {
   "cell_type": "code",
   "execution_count": 50,
   "metadata": {},
   "outputs": [],
   "source": [
    "df.fnlwgt = df.fnlwgt.apply(lambda x : int(str(x)[:-1]))"
   ]
  },
  {
   "cell_type": "markdown",
   "metadata": {},
   "source": [
    "Not always all the features presented in the raw data are useful for our analysis. Especially when dealing with large amount of data, getting rid of unuseful columns can make our processes run faster. To do so we can use **.drop( )** method.\n",
    "\n",
    "Suppose that we didn't find **fnlwgt** column useful and we want to remove it:"
   ]
  },
  {
   "cell_type": "code",
   "execution_count": 12,
   "metadata": {
    "scrolled": true
   },
   "outputs": [
    {
     "ename": "KeyError",
     "evalue": "\"['fnlwgt'] not found in axis\"",
     "output_type": "error",
     "traceback": [
      "\u001b[0;31m---------------------------------------------------------------------------\u001b[0m",
      "\u001b[0;31mKeyError\u001b[0m                                  Traceback (most recent call last)",
      "\u001b[0;32m<ipython-input-12-62a1bb3e25a1>\u001b[0m in \u001b[0;36m<module>\u001b[0;34m\u001b[0m\n\u001b[0;32m----> 1\u001b[0;31m \u001b[0mdf\u001b[0m\u001b[0;34m.\u001b[0m\u001b[0mdrop\u001b[0m\u001b[0;34m(\u001b[0m\u001b[0;34m[\u001b[0m\u001b[0;34m'fnlwgt'\u001b[0m\u001b[0;34m]\u001b[0m\u001b[0;34m)\u001b[0m\u001b[0;34m\u001b[0m\u001b[0;34m\u001b[0m\u001b[0m\n\u001b[0m",
      "\u001b[0;32m~/anaconda3/lib/python3.7/site-packages/pandas/core/frame.py\u001b[0m in \u001b[0;36mdrop\u001b[0;34m(self, labels, axis, index, columns, level, inplace, errors)\u001b[0m\n\u001b[1;32m   3695\u001b[0m                                            \u001b[0mindex\u001b[0m\u001b[0;34m=\u001b[0m\u001b[0mindex\u001b[0m\u001b[0;34m,\u001b[0m \u001b[0mcolumns\u001b[0m\u001b[0;34m=\u001b[0m\u001b[0mcolumns\u001b[0m\u001b[0;34m,\u001b[0m\u001b[0;34m\u001b[0m\u001b[0;34m\u001b[0m\u001b[0m\n\u001b[1;32m   3696\u001b[0m                                            \u001b[0mlevel\u001b[0m\u001b[0;34m=\u001b[0m\u001b[0mlevel\u001b[0m\u001b[0;34m,\u001b[0m \u001b[0minplace\u001b[0m\u001b[0;34m=\u001b[0m\u001b[0minplace\u001b[0m\u001b[0;34m,\u001b[0m\u001b[0;34m\u001b[0m\u001b[0;34m\u001b[0m\u001b[0m\n\u001b[0;32m-> 3697\u001b[0;31m                                            errors=errors)\n\u001b[0m\u001b[1;32m   3698\u001b[0m \u001b[0;34m\u001b[0m\u001b[0m\n\u001b[1;32m   3699\u001b[0m     @rewrite_axis_style_signature('mapper', [('copy', True),\n",
      "\u001b[0;32m~/anaconda3/lib/python3.7/site-packages/pandas/core/generic.py\u001b[0m in \u001b[0;36mdrop\u001b[0;34m(self, labels, axis, index, columns, level, inplace, errors)\u001b[0m\n\u001b[1;32m   3109\u001b[0m         \u001b[0;32mfor\u001b[0m \u001b[0maxis\u001b[0m\u001b[0;34m,\u001b[0m \u001b[0mlabels\u001b[0m \u001b[0;32min\u001b[0m \u001b[0maxes\u001b[0m\u001b[0;34m.\u001b[0m\u001b[0mitems\u001b[0m\u001b[0;34m(\u001b[0m\u001b[0;34m)\u001b[0m\u001b[0;34m:\u001b[0m\u001b[0;34m\u001b[0m\u001b[0;34m\u001b[0m\u001b[0m\n\u001b[1;32m   3110\u001b[0m             \u001b[0;32mif\u001b[0m \u001b[0mlabels\u001b[0m \u001b[0;32mis\u001b[0m \u001b[0;32mnot\u001b[0m \u001b[0;32mNone\u001b[0m\u001b[0;34m:\u001b[0m\u001b[0;34m\u001b[0m\u001b[0;34m\u001b[0m\u001b[0m\n\u001b[0;32m-> 3111\u001b[0;31m                 \u001b[0mobj\u001b[0m \u001b[0;34m=\u001b[0m \u001b[0mobj\u001b[0m\u001b[0;34m.\u001b[0m\u001b[0m_drop_axis\u001b[0m\u001b[0;34m(\u001b[0m\u001b[0mlabels\u001b[0m\u001b[0;34m,\u001b[0m \u001b[0maxis\u001b[0m\u001b[0;34m,\u001b[0m \u001b[0mlevel\u001b[0m\u001b[0;34m=\u001b[0m\u001b[0mlevel\u001b[0m\u001b[0;34m,\u001b[0m \u001b[0merrors\u001b[0m\u001b[0;34m=\u001b[0m\u001b[0merrors\u001b[0m\u001b[0;34m)\u001b[0m\u001b[0;34m\u001b[0m\u001b[0;34m\u001b[0m\u001b[0m\n\u001b[0m\u001b[1;32m   3112\u001b[0m \u001b[0;34m\u001b[0m\u001b[0m\n\u001b[1;32m   3113\u001b[0m         \u001b[0;32mif\u001b[0m \u001b[0minplace\u001b[0m\u001b[0;34m:\u001b[0m\u001b[0;34m\u001b[0m\u001b[0;34m\u001b[0m\u001b[0m\n",
      "\u001b[0;32m~/anaconda3/lib/python3.7/site-packages/pandas/core/generic.py\u001b[0m in \u001b[0;36m_drop_axis\u001b[0;34m(self, labels, axis, level, errors)\u001b[0m\n\u001b[1;32m   3141\u001b[0m                 \u001b[0mnew_axis\u001b[0m \u001b[0;34m=\u001b[0m \u001b[0maxis\u001b[0m\u001b[0;34m.\u001b[0m\u001b[0mdrop\u001b[0m\u001b[0;34m(\u001b[0m\u001b[0mlabels\u001b[0m\u001b[0;34m,\u001b[0m \u001b[0mlevel\u001b[0m\u001b[0;34m=\u001b[0m\u001b[0mlevel\u001b[0m\u001b[0;34m,\u001b[0m \u001b[0merrors\u001b[0m\u001b[0;34m=\u001b[0m\u001b[0merrors\u001b[0m\u001b[0;34m)\u001b[0m\u001b[0;34m\u001b[0m\u001b[0;34m\u001b[0m\u001b[0m\n\u001b[1;32m   3142\u001b[0m             \u001b[0;32melse\u001b[0m\u001b[0;34m:\u001b[0m\u001b[0;34m\u001b[0m\u001b[0;34m\u001b[0m\u001b[0m\n\u001b[0;32m-> 3143\u001b[0;31m                 \u001b[0mnew_axis\u001b[0m \u001b[0;34m=\u001b[0m \u001b[0maxis\u001b[0m\u001b[0;34m.\u001b[0m\u001b[0mdrop\u001b[0m\u001b[0;34m(\u001b[0m\u001b[0mlabels\u001b[0m\u001b[0;34m,\u001b[0m \u001b[0merrors\u001b[0m\u001b[0;34m=\u001b[0m\u001b[0merrors\u001b[0m\u001b[0;34m)\u001b[0m\u001b[0;34m\u001b[0m\u001b[0;34m\u001b[0m\u001b[0m\n\u001b[0m\u001b[1;32m   3144\u001b[0m             \u001b[0mresult\u001b[0m \u001b[0;34m=\u001b[0m \u001b[0mself\u001b[0m\u001b[0;34m.\u001b[0m\u001b[0mreindex\u001b[0m\u001b[0;34m(\u001b[0m\u001b[0;34m**\u001b[0m\u001b[0;34m{\u001b[0m\u001b[0maxis_name\u001b[0m\u001b[0;34m:\u001b[0m \u001b[0mnew_axis\u001b[0m\u001b[0;34m}\u001b[0m\u001b[0;34m)\u001b[0m\u001b[0;34m\u001b[0m\u001b[0;34m\u001b[0m\u001b[0m\n\u001b[1;32m   3145\u001b[0m \u001b[0;34m\u001b[0m\u001b[0m\n",
      "\u001b[0;32m~/anaconda3/lib/python3.7/site-packages/pandas/core/indexes/base.py\u001b[0m in \u001b[0;36mdrop\u001b[0;34m(self, labels, errors)\u001b[0m\n\u001b[1;32m   4402\u001b[0m             \u001b[0;32mif\u001b[0m \u001b[0merrors\u001b[0m \u001b[0;34m!=\u001b[0m \u001b[0;34m'ignore'\u001b[0m\u001b[0;34m:\u001b[0m\u001b[0;34m\u001b[0m\u001b[0;34m\u001b[0m\u001b[0m\n\u001b[1;32m   4403\u001b[0m                 raise KeyError(\n\u001b[0;32m-> 4404\u001b[0;31m                     '{} not found in axis'.format(labels[mask]))\n\u001b[0m\u001b[1;32m   4405\u001b[0m             \u001b[0mindexer\u001b[0m \u001b[0;34m=\u001b[0m \u001b[0mindexer\u001b[0m\u001b[0;34m[\u001b[0m\u001b[0;34m~\u001b[0m\u001b[0mmask\u001b[0m\u001b[0;34m]\u001b[0m\u001b[0;34m\u001b[0m\u001b[0;34m\u001b[0m\u001b[0m\n\u001b[1;32m   4406\u001b[0m         \u001b[0;32mreturn\u001b[0m \u001b[0mself\u001b[0m\u001b[0;34m.\u001b[0m\u001b[0mdelete\u001b[0m\u001b[0;34m(\u001b[0m\u001b[0mindexer\u001b[0m\u001b[0;34m)\u001b[0m\u001b[0;34m\u001b[0m\u001b[0;34m\u001b[0m\u001b[0m\n",
      "\u001b[0;31mKeyError\u001b[0m: \"['fnlwgt'] not found in axis\""
     ]
    }
   ],
   "source": [
    "df.drop(['fnlwgt'])"
   ]
  },
  {
   "cell_type": "markdown",
   "metadata": {},
   "source": [
    "What just happened?! According to the error message the problem is that Python couldn't find the column we've mentioned in the axis. But what does it mean \"axis\"? \n",
    "\"axis\" coming from **numpy**, is a way to indicate columns or rows in a data table while axis=0 indicates rows and axis=1, columns. The reason we got the this error is that **.drop( )** as default uses *axis=0*, so it's normal that it gives us an error because actually there is no **fnlwgt** in row indexes. using the correct argument we get the desired results:"
   ]
  },
  {
   "cell_type": "code",
   "execution_count": 13,
   "metadata": {},
   "outputs": [
    {
     "data": {
      "text/html": [
       "<div>\n",
       "<style scoped>\n",
       "    .dataframe tbody tr th:only-of-type {\n",
       "        vertical-align: middle;\n",
       "    }\n",
       "\n",
       "    .dataframe tbody tr th {\n",
       "        vertical-align: top;\n",
       "    }\n",
       "\n",
       "    .dataframe thead th {\n",
       "        text-align: right;\n",
       "    }\n",
       "</style>\n",
       "<table border=\"1\" class=\"dataframe\">\n",
       "  <thead>\n",
       "    <tr style=\"text-align: right;\">\n",
       "      <th></th>\n",
       "      <th>age</th>\n",
       "      <th>workclass</th>\n",
       "      <th>education</th>\n",
       "      <th>education-num</th>\n",
       "      <th>marital-status</th>\n",
       "      <th>occupation</th>\n",
       "      <th>relationship</th>\n",
       "      <th>race</th>\n",
       "      <th>sex</th>\n",
       "      <th>capital-gain</th>\n",
       "      <th>capital-loss</th>\n",
       "      <th>hours-per-week</th>\n",
       "      <th>native-country</th>\n",
       "      <th>income</th>\n",
       "    </tr>\n",
       "  </thead>\n",
       "  <tbody>\n",
       "    <tr>\n",
       "      <th>0</th>\n",
       "      <td>39</td>\n",
       "      <td>State-gov</td>\n",
       "      <td>Bachelors</td>\n",
       "      <td>13</td>\n",
       "      <td>Never-married</td>\n",
       "      <td>Adm-clerical</td>\n",
       "      <td>Not-in-family</td>\n",
       "      <td>White</td>\n",
       "      <td>Male</td>\n",
       "      <td>2174</td>\n",
       "      <td>0</td>\n",
       "      <td>40</td>\n",
       "      <td>United-States</td>\n",
       "      <td>&lt;=50K</td>\n",
       "    </tr>\n",
       "    <tr>\n",
       "      <th>1</th>\n",
       "      <td>50</td>\n",
       "      <td>Self-emp-not-inc</td>\n",
       "      <td>Bachelors</td>\n",
       "      <td>13</td>\n",
       "      <td>Married-civ-spouse</td>\n",
       "      <td>Exec-managerial</td>\n",
       "      <td>Husband</td>\n",
       "      <td>White</td>\n",
       "      <td>Male</td>\n",
       "      <td>0</td>\n",
       "      <td>0</td>\n",
       "      <td>13</td>\n",
       "      <td>United-States</td>\n",
       "      <td>&lt;=50K</td>\n",
       "    </tr>\n",
       "    <tr>\n",
       "      <th>2</th>\n",
       "      <td>38</td>\n",
       "      <td>Private</td>\n",
       "      <td>HS-grad</td>\n",
       "      <td>9</td>\n",
       "      <td>Divorced</td>\n",
       "      <td>Handlers-cleaners</td>\n",
       "      <td>Not-in-family</td>\n",
       "      <td>White</td>\n",
       "      <td>Male</td>\n",
       "      <td>0</td>\n",
       "      <td>0</td>\n",
       "      <td>40</td>\n",
       "      <td>United-States</td>\n",
       "      <td>&lt;=50K</td>\n",
       "    </tr>\n",
       "    <tr>\n",
       "      <th>3</th>\n",
       "      <td>53</td>\n",
       "      <td>Private</td>\n",
       "      <td>11th</td>\n",
       "      <td>7</td>\n",
       "      <td>Married-civ-spouse</td>\n",
       "      <td>Handlers-cleaners</td>\n",
       "      <td>Husband</td>\n",
       "      <td>Black</td>\n",
       "      <td>Male</td>\n",
       "      <td>0</td>\n",
       "      <td>0</td>\n",
       "      <td>40</td>\n",
       "      <td>United-States</td>\n",
       "      <td>&lt;=50K</td>\n",
       "    </tr>\n",
       "    <tr>\n",
       "      <th>4</th>\n",
       "      <td>28</td>\n",
       "      <td>Private</td>\n",
       "      <td>Bachelors</td>\n",
       "      <td>13</td>\n",
       "      <td>Married-civ-spouse</td>\n",
       "      <td>Prof-specialty</td>\n",
       "      <td>Wife</td>\n",
       "      <td>Black</td>\n",
       "      <td>Female</td>\n",
       "      <td>0</td>\n",
       "      <td>0</td>\n",
       "      <td>40</td>\n",
       "      <td>Cuba</td>\n",
       "      <td>&lt;=50K</td>\n",
       "    </tr>\n",
       "    <tr>\n",
       "      <th>5</th>\n",
       "      <td>37</td>\n",
       "      <td>Private</td>\n",
       "      <td>Masters</td>\n",
       "      <td>14</td>\n",
       "      <td>Married-civ-spouse</td>\n",
       "      <td>Exec-managerial</td>\n",
       "      <td>Wife</td>\n",
       "      <td>White</td>\n",
       "      <td>Female</td>\n",
       "      <td>0</td>\n",
       "      <td>0</td>\n",
       "      <td>40</td>\n",
       "      <td>United-States</td>\n",
       "      <td>&lt;=50K</td>\n",
       "    </tr>\n",
       "    <tr>\n",
       "      <th>6</th>\n",
       "      <td>49</td>\n",
       "      <td>Private</td>\n",
       "      <td>9th</td>\n",
       "      <td>5</td>\n",
       "      <td>Married-spouse-absent</td>\n",
       "      <td>Other-service</td>\n",
       "      <td>Not-in-family</td>\n",
       "      <td>Black</td>\n",
       "      <td>Female</td>\n",
       "      <td>0</td>\n",
       "      <td>0</td>\n",
       "      <td>16</td>\n",
       "      <td>Jamaica</td>\n",
       "      <td>&lt;=50K</td>\n",
       "    </tr>\n",
       "    <tr>\n",
       "      <th>7</th>\n",
       "      <td>52</td>\n",
       "      <td>Self-emp-not-inc</td>\n",
       "      <td>HS-grad</td>\n",
       "      <td>9</td>\n",
       "      <td>Married-civ-spouse</td>\n",
       "      <td>Exec-managerial</td>\n",
       "      <td>Husband</td>\n",
       "      <td>White</td>\n",
       "      <td>Male</td>\n",
       "      <td>0</td>\n",
       "      <td>0</td>\n",
       "      <td>45</td>\n",
       "      <td>United-States</td>\n",
       "      <td>&gt;50K</td>\n",
       "    </tr>\n",
       "    <tr>\n",
       "      <th>8</th>\n",
       "      <td>31</td>\n",
       "      <td>Private</td>\n",
       "      <td>Masters</td>\n",
       "      <td>14</td>\n",
       "      <td>Never-married</td>\n",
       "      <td>Prof-specialty</td>\n",
       "      <td>Not-in-family</td>\n",
       "      <td>White</td>\n",
       "      <td>Female</td>\n",
       "      <td>14084</td>\n",
       "      <td>0</td>\n",
       "      <td>50</td>\n",
       "      <td>United-States</td>\n",
       "      <td>&gt;50K</td>\n",
       "    </tr>\n",
       "    <tr>\n",
       "      <th>9</th>\n",
       "      <td>42</td>\n",
       "      <td>Private</td>\n",
       "      <td>Bachelors</td>\n",
       "      <td>13</td>\n",
       "      <td>Married-civ-spouse</td>\n",
       "      <td>Exec-managerial</td>\n",
       "      <td>Husband</td>\n",
       "      <td>White</td>\n",
       "      <td>Male</td>\n",
       "      <td>5178</td>\n",
       "      <td>0</td>\n",
       "      <td>40</td>\n",
       "      <td>United-States</td>\n",
       "      <td>&gt;50K</td>\n",
       "    </tr>\n",
       "    <tr>\n",
       "      <th>10</th>\n",
       "      <td>37</td>\n",
       "      <td>Private</td>\n",
       "      <td>Some-college</td>\n",
       "      <td>10</td>\n",
       "      <td>Married-civ-spouse</td>\n",
       "      <td>Exec-managerial</td>\n",
       "      <td>Husband</td>\n",
       "      <td>Black</td>\n",
       "      <td>Male</td>\n",
       "      <td>0</td>\n",
       "      <td>0</td>\n",
       "      <td>80</td>\n",
       "      <td>United-States</td>\n",
       "      <td>&gt;50K</td>\n",
       "    </tr>\n",
       "    <tr>\n",
       "      <th>11</th>\n",
       "      <td>30</td>\n",
       "      <td>State-gov</td>\n",
       "      <td>Bachelors</td>\n",
       "      <td>13</td>\n",
       "      <td>Married-civ-spouse</td>\n",
       "      <td>Prof-specialty</td>\n",
       "      <td>Husband</td>\n",
       "      <td>Asian-Pac-Islander</td>\n",
       "      <td>Male</td>\n",
       "      <td>0</td>\n",
       "      <td>0</td>\n",
       "      <td>40</td>\n",
       "      <td>India</td>\n",
       "      <td>&gt;50K</td>\n",
       "    </tr>\n",
       "    <tr>\n",
       "      <th>12</th>\n",
       "      <td>23</td>\n",
       "      <td>Private</td>\n",
       "      <td>Bachelors</td>\n",
       "      <td>13</td>\n",
       "      <td>Never-married</td>\n",
       "      <td>Adm-clerical</td>\n",
       "      <td>Own-child</td>\n",
       "      <td>White</td>\n",
       "      <td>Female</td>\n",
       "      <td>0</td>\n",
       "      <td>0</td>\n",
       "      <td>30</td>\n",
       "      <td>United-States</td>\n",
       "      <td>&lt;=50K</td>\n",
       "    </tr>\n",
       "    <tr>\n",
       "      <th>13</th>\n",
       "      <td>32</td>\n",
       "      <td>Private</td>\n",
       "      <td>Assoc-acdm</td>\n",
       "      <td>12</td>\n",
       "      <td>Never-married</td>\n",
       "      <td>Sales</td>\n",
       "      <td>Not-in-family</td>\n",
       "      <td>Black</td>\n",
       "      <td>Male</td>\n",
       "      <td>0</td>\n",
       "      <td>0</td>\n",
       "      <td>50</td>\n",
       "      <td>United-States</td>\n",
       "      <td>&lt;=50K</td>\n",
       "    </tr>\n",
       "    <tr>\n",
       "      <th>14</th>\n",
       "      <td>40</td>\n",
       "      <td>Private</td>\n",
       "      <td>Assoc-voc</td>\n",
       "      <td>11</td>\n",
       "      <td>Married-civ-spouse</td>\n",
       "      <td>Craft-repair</td>\n",
       "      <td>Husband</td>\n",
       "      <td>Asian-Pac-Islander</td>\n",
       "      <td>Male</td>\n",
       "      <td>0</td>\n",
       "      <td>0</td>\n",
       "      <td>40</td>\n",
       "      <td>?</td>\n",
       "      <td>&gt;50K</td>\n",
       "    </tr>\n",
       "    <tr>\n",
       "      <th>15</th>\n",
       "      <td>34</td>\n",
       "      <td>Private</td>\n",
       "      <td>7th-8th</td>\n",
       "      <td>4</td>\n",
       "      <td>Married-civ-spouse</td>\n",
       "      <td>Transport-moving</td>\n",
       "      <td>Husband</td>\n",
       "      <td>Amer-Indian-Eskimo</td>\n",
       "      <td>Male</td>\n",
       "      <td>0</td>\n",
       "      <td>0</td>\n",
       "      <td>45</td>\n",
       "      <td>Mexico</td>\n",
       "      <td>&lt;=50K</td>\n",
       "    </tr>\n",
       "    <tr>\n",
       "      <th>16</th>\n",
       "      <td>25</td>\n",
       "      <td>Self-emp-not-inc</td>\n",
       "      <td>HS-grad</td>\n",
       "      <td>9</td>\n",
       "      <td>Never-married</td>\n",
       "      <td>Farming-fishing</td>\n",
       "      <td>Own-child</td>\n",
       "      <td>White</td>\n",
       "      <td>Male</td>\n",
       "      <td>0</td>\n",
       "      <td>0</td>\n",
       "      <td>35</td>\n",
       "      <td>United-States</td>\n",
       "      <td>&lt;=50K</td>\n",
       "    </tr>\n",
       "    <tr>\n",
       "      <th>17</th>\n",
       "      <td>32</td>\n",
       "      <td>Private</td>\n",
       "      <td>HS-grad</td>\n",
       "      <td>9</td>\n",
       "      <td>Never-married</td>\n",
       "      <td>Machine-op-inspct</td>\n",
       "      <td>Unmarried</td>\n",
       "      <td>White</td>\n",
       "      <td>Male</td>\n",
       "      <td>0</td>\n",
       "      <td>0</td>\n",
       "      <td>40</td>\n",
       "      <td>United-States</td>\n",
       "      <td>&lt;=50K</td>\n",
       "    </tr>\n",
       "    <tr>\n",
       "      <th>18</th>\n",
       "      <td>38</td>\n",
       "      <td>Private</td>\n",
       "      <td>11th</td>\n",
       "      <td>7</td>\n",
       "      <td>Married-civ-spouse</td>\n",
       "      <td>Sales</td>\n",
       "      <td>Husband</td>\n",
       "      <td>White</td>\n",
       "      <td>Male</td>\n",
       "      <td>0</td>\n",
       "      <td>0</td>\n",
       "      <td>50</td>\n",
       "      <td>United-States</td>\n",
       "      <td>&lt;=50K</td>\n",
       "    </tr>\n",
       "    <tr>\n",
       "      <th>19</th>\n",
       "      <td>43</td>\n",
       "      <td>Self-emp-not-inc</td>\n",
       "      <td>Masters</td>\n",
       "      <td>14</td>\n",
       "      <td>Divorced</td>\n",
       "      <td>Exec-managerial</td>\n",
       "      <td>Unmarried</td>\n",
       "      <td>White</td>\n",
       "      <td>Female</td>\n",
       "      <td>0</td>\n",
       "      <td>0</td>\n",
       "      <td>45</td>\n",
       "      <td>United-States</td>\n",
       "      <td>&gt;50K</td>\n",
       "    </tr>\n",
       "    <tr>\n",
       "      <th>20</th>\n",
       "      <td>40</td>\n",
       "      <td>Private</td>\n",
       "      <td>Doctorate</td>\n",
       "      <td>16</td>\n",
       "      <td>Married-civ-spouse</td>\n",
       "      <td>Prof-specialty</td>\n",
       "      <td>Husband</td>\n",
       "      <td>White</td>\n",
       "      <td>Male</td>\n",
       "      <td>0</td>\n",
       "      <td>0</td>\n",
       "      <td>60</td>\n",
       "      <td>United-States</td>\n",
       "      <td>&gt;50K</td>\n",
       "    </tr>\n",
       "    <tr>\n",
       "      <th>21</th>\n",
       "      <td>54</td>\n",
       "      <td>Private</td>\n",
       "      <td>HS-grad</td>\n",
       "      <td>9</td>\n",
       "      <td>Separated</td>\n",
       "      <td>Other-service</td>\n",
       "      <td>Unmarried</td>\n",
       "      <td>Black</td>\n",
       "      <td>Female</td>\n",
       "      <td>0</td>\n",
       "      <td>0</td>\n",
       "      <td>20</td>\n",
       "      <td>United-States</td>\n",
       "      <td>&lt;=50K</td>\n",
       "    </tr>\n",
       "    <tr>\n",
       "      <th>22</th>\n",
       "      <td>35</td>\n",
       "      <td>Federal-gov</td>\n",
       "      <td>9th</td>\n",
       "      <td>5</td>\n",
       "      <td>Married-civ-spouse</td>\n",
       "      <td>Farming-fishing</td>\n",
       "      <td>Husband</td>\n",
       "      <td>Black</td>\n",
       "      <td>Male</td>\n",
       "      <td>0</td>\n",
       "      <td>0</td>\n",
       "      <td>40</td>\n",
       "      <td>United-States</td>\n",
       "      <td>&lt;=50K</td>\n",
       "    </tr>\n",
       "    <tr>\n",
       "      <th>23</th>\n",
       "      <td>43</td>\n",
       "      <td>Private</td>\n",
       "      <td>11th</td>\n",
       "      <td>7</td>\n",
       "      <td>Married-civ-spouse</td>\n",
       "      <td>Transport-moving</td>\n",
       "      <td>Husband</td>\n",
       "      <td>White</td>\n",
       "      <td>Male</td>\n",
       "      <td>0</td>\n",
       "      <td>2042</td>\n",
       "      <td>40</td>\n",
       "      <td>United-States</td>\n",
       "      <td>&lt;=50K</td>\n",
       "    </tr>\n",
       "    <tr>\n",
       "      <th>24</th>\n",
       "      <td>59</td>\n",
       "      <td>Private</td>\n",
       "      <td>HS-grad</td>\n",
       "      <td>9</td>\n",
       "      <td>Divorced</td>\n",
       "      <td>Tech-support</td>\n",
       "      <td>Unmarried</td>\n",
       "      <td>White</td>\n",
       "      <td>Female</td>\n",
       "      <td>0</td>\n",
       "      <td>0</td>\n",
       "      <td>40</td>\n",
       "      <td>United-States</td>\n",
       "      <td>&lt;=50K</td>\n",
       "    </tr>\n",
       "    <tr>\n",
       "      <th>25</th>\n",
       "      <td>56</td>\n",
       "      <td>Local-gov</td>\n",
       "      <td>Bachelors</td>\n",
       "      <td>13</td>\n",
       "      <td>Married-civ-spouse</td>\n",
       "      <td>Tech-support</td>\n",
       "      <td>Husband</td>\n",
       "      <td>White</td>\n",
       "      <td>Male</td>\n",
       "      <td>0</td>\n",
       "      <td>0</td>\n",
       "      <td>40</td>\n",
       "      <td>United-States</td>\n",
       "      <td>&gt;50K</td>\n",
       "    </tr>\n",
       "    <tr>\n",
       "      <th>26</th>\n",
       "      <td>19</td>\n",
       "      <td>Private</td>\n",
       "      <td>HS-grad</td>\n",
       "      <td>9</td>\n",
       "      <td>Never-married</td>\n",
       "      <td>Craft-repair</td>\n",
       "      <td>Own-child</td>\n",
       "      <td>White</td>\n",
       "      <td>Male</td>\n",
       "      <td>0</td>\n",
       "      <td>0</td>\n",
       "      <td>40</td>\n",
       "      <td>United-States</td>\n",
       "      <td>&lt;=50K</td>\n",
       "    </tr>\n",
       "    <tr>\n",
       "      <th>27</th>\n",
       "      <td>54</td>\n",
       "      <td>?</td>\n",
       "      <td>Some-college</td>\n",
       "      <td>10</td>\n",
       "      <td>Married-civ-spouse</td>\n",
       "      <td>?</td>\n",
       "      <td>Husband</td>\n",
       "      <td>Asian-Pac-Islander</td>\n",
       "      <td>Male</td>\n",
       "      <td>0</td>\n",
       "      <td>0</td>\n",
       "      <td>60</td>\n",
       "      <td>South</td>\n",
       "      <td>&gt;50K</td>\n",
       "    </tr>\n",
       "    <tr>\n",
       "      <th>28</th>\n",
       "      <td>39</td>\n",
       "      <td>Private</td>\n",
       "      <td>HS-grad</td>\n",
       "      <td>9</td>\n",
       "      <td>Divorced</td>\n",
       "      <td>Exec-managerial</td>\n",
       "      <td>Not-in-family</td>\n",
       "      <td>White</td>\n",
       "      <td>Male</td>\n",
       "      <td>0</td>\n",
       "      <td>0</td>\n",
       "      <td>80</td>\n",
       "      <td>United-States</td>\n",
       "      <td>&lt;=50K</td>\n",
       "    </tr>\n",
       "    <tr>\n",
       "      <th>29</th>\n",
       "      <td>49</td>\n",
       "      <td>Private</td>\n",
       "      <td>HS-grad</td>\n",
       "      <td>9</td>\n",
       "      <td>Married-civ-spouse</td>\n",
       "      <td>Craft-repair</td>\n",
       "      <td>Husband</td>\n",
       "      <td>White</td>\n",
       "      <td>Male</td>\n",
       "      <td>0</td>\n",
       "      <td>0</td>\n",
       "      <td>40</td>\n",
       "      <td>United-States</td>\n",
       "      <td>&lt;=50K</td>\n",
       "    </tr>\n",
       "    <tr>\n",
       "      <th>...</th>\n",
       "      <td>...</td>\n",
       "      <td>...</td>\n",
       "      <td>...</td>\n",
       "      <td>...</td>\n",
       "      <td>...</td>\n",
       "      <td>...</td>\n",
       "      <td>...</td>\n",
       "      <td>...</td>\n",
       "      <td>...</td>\n",
       "      <td>...</td>\n",
       "      <td>...</td>\n",
       "      <td>...</td>\n",
       "      <td>...</td>\n",
       "      <td>...</td>\n",
       "    </tr>\n",
       "    <tr>\n",
       "      <th>32531</th>\n",
       "      <td>30</td>\n",
       "      <td>?</td>\n",
       "      <td>Bachelors</td>\n",
       "      <td>13</td>\n",
       "      <td>Never-married</td>\n",
       "      <td>?</td>\n",
       "      <td>Not-in-family</td>\n",
       "      <td>Asian-Pac-Islander</td>\n",
       "      <td>Female</td>\n",
       "      <td>0</td>\n",
       "      <td>0</td>\n",
       "      <td>99</td>\n",
       "      <td>United-States</td>\n",
       "      <td>&lt;=50K</td>\n",
       "    </tr>\n",
       "    <tr>\n",
       "      <th>32532</th>\n",
       "      <td>34</td>\n",
       "      <td>Private</td>\n",
       "      <td>Doctorate</td>\n",
       "      <td>16</td>\n",
       "      <td>Married-civ-spouse</td>\n",
       "      <td>Prof-specialty</td>\n",
       "      <td>Husband</td>\n",
       "      <td>White</td>\n",
       "      <td>Male</td>\n",
       "      <td>0</td>\n",
       "      <td>0</td>\n",
       "      <td>60</td>\n",
       "      <td>United-States</td>\n",
       "      <td>&gt;50K</td>\n",
       "    </tr>\n",
       "    <tr>\n",
       "      <th>32533</th>\n",
       "      <td>54</td>\n",
       "      <td>Private</td>\n",
       "      <td>Bachelors</td>\n",
       "      <td>13</td>\n",
       "      <td>Married-civ-spouse</td>\n",
       "      <td>Exec-managerial</td>\n",
       "      <td>Husband</td>\n",
       "      <td>Asian-Pac-Islander</td>\n",
       "      <td>Male</td>\n",
       "      <td>0</td>\n",
       "      <td>0</td>\n",
       "      <td>50</td>\n",
       "      <td>Japan</td>\n",
       "      <td>&gt;50K</td>\n",
       "    </tr>\n",
       "    <tr>\n",
       "      <th>32534</th>\n",
       "      <td>37</td>\n",
       "      <td>Private</td>\n",
       "      <td>Some-college</td>\n",
       "      <td>10</td>\n",
       "      <td>Divorced</td>\n",
       "      <td>Adm-clerical</td>\n",
       "      <td>Unmarried</td>\n",
       "      <td>White</td>\n",
       "      <td>Female</td>\n",
       "      <td>0</td>\n",
       "      <td>0</td>\n",
       "      <td>39</td>\n",
       "      <td>United-States</td>\n",
       "      <td>&lt;=50K</td>\n",
       "    </tr>\n",
       "    <tr>\n",
       "      <th>32535</th>\n",
       "      <td>22</td>\n",
       "      <td>Private</td>\n",
       "      <td>12th</td>\n",
       "      <td>8</td>\n",
       "      <td>Never-married</td>\n",
       "      <td>Protective-serv</td>\n",
       "      <td>Own-child</td>\n",
       "      <td>Black</td>\n",
       "      <td>Male</td>\n",
       "      <td>0</td>\n",
       "      <td>0</td>\n",
       "      <td>35</td>\n",
       "      <td>United-States</td>\n",
       "      <td>&lt;=50K</td>\n",
       "    </tr>\n",
       "    <tr>\n",
       "      <th>32536</th>\n",
       "      <td>34</td>\n",
       "      <td>Private</td>\n",
       "      <td>Bachelors</td>\n",
       "      <td>13</td>\n",
       "      <td>Never-married</td>\n",
       "      <td>Exec-managerial</td>\n",
       "      <td>Not-in-family</td>\n",
       "      <td>White</td>\n",
       "      <td>Female</td>\n",
       "      <td>0</td>\n",
       "      <td>0</td>\n",
       "      <td>55</td>\n",
       "      <td>United-States</td>\n",
       "      <td>&gt;50K</td>\n",
       "    </tr>\n",
       "    <tr>\n",
       "      <th>32537</th>\n",
       "      <td>30</td>\n",
       "      <td>Private</td>\n",
       "      <td>HS-grad</td>\n",
       "      <td>9</td>\n",
       "      <td>Never-married</td>\n",
       "      <td>Craft-repair</td>\n",
       "      <td>Not-in-family</td>\n",
       "      <td>Black</td>\n",
       "      <td>Male</td>\n",
       "      <td>0</td>\n",
       "      <td>0</td>\n",
       "      <td>46</td>\n",
       "      <td>United-States</td>\n",
       "      <td>&lt;=50K</td>\n",
       "    </tr>\n",
       "    <tr>\n",
       "      <th>32538</th>\n",
       "      <td>38</td>\n",
       "      <td>Private</td>\n",
       "      <td>Bachelors</td>\n",
       "      <td>13</td>\n",
       "      <td>Divorced</td>\n",
       "      <td>Prof-specialty</td>\n",
       "      <td>Unmarried</td>\n",
       "      <td>Black</td>\n",
       "      <td>Female</td>\n",
       "      <td>15020</td>\n",
       "      <td>0</td>\n",
       "      <td>45</td>\n",
       "      <td>United-States</td>\n",
       "      <td>&gt;50K</td>\n",
       "    </tr>\n",
       "    <tr>\n",
       "      <th>32539</th>\n",
       "      <td>71</td>\n",
       "      <td>?</td>\n",
       "      <td>Doctorate</td>\n",
       "      <td>16</td>\n",
       "      <td>Married-civ-spouse</td>\n",
       "      <td>?</td>\n",
       "      <td>Husband</td>\n",
       "      <td>White</td>\n",
       "      <td>Male</td>\n",
       "      <td>0</td>\n",
       "      <td>0</td>\n",
       "      <td>10</td>\n",
       "      <td>United-States</td>\n",
       "      <td>&gt;50K</td>\n",
       "    </tr>\n",
       "    <tr>\n",
       "      <th>32540</th>\n",
       "      <td>45</td>\n",
       "      <td>State-gov</td>\n",
       "      <td>HS-grad</td>\n",
       "      <td>9</td>\n",
       "      <td>Separated</td>\n",
       "      <td>Adm-clerical</td>\n",
       "      <td>Own-child</td>\n",
       "      <td>White</td>\n",
       "      <td>Female</td>\n",
       "      <td>0</td>\n",
       "      <td>0</td>\n",
       "      <td>40</td>\n",
       "      <td>United-States</td>\n",
       "      <td>&lt;=50K</td>\n",
       "    </tr>\n",
       "    <tr>\n",
       "      <th>32541</th>\n",
       "      <td>41</td>\n",
       "      <td>?</td>\n",
       "      <td>HS-grad</td>\n",
       "      <td>9</td>\n",
       "      <td>Separated</td>\n",
       "      <td>?</td>\n",
       "      <td>Not-in-family</td>\n",
       "      <td>Black</td>\n",
       "      <td>Female</td>\n",
       "      <td>0</td>\n",
       "      <td>0</td>\n",
       "      <td>32</td>\n",
       "      <td>United-States</td>\n",
       "      <td>&lt;=50K</td>\n",
       "    </tr>\n",
       "    <tr>\n",
       "      <th>32542</th>\n",
       "      <td>72</td>\n",
       "      <td>?</td>\n",
       "      <td>HS-grad</td>\n",
       "      <td>9</td>\n",
       "      <td>Married-civ-spouse</td>\n",
       "      <td>?</td>\n",
       "      <td>Husband</td>\n",
       "      <td>White</td>\n",
       "      <td>Male</td>\n",
       "      <td>0</td>\n",
       "      <td>0</td>\n",
       "      <td>25</td>\n",
       "      <td>United-States</td>\n",
       "      <td>&lt;=50K</td>\n",
       "    </tr>\n",
       "    <tr>\n",
       "      <th>32543</th>\n",
       "      <td>45</td>\n",
       "      <td>Local-gov</td>\n",
       "      <td>Assoc-acdm</td>\n",
       "      <td>12</td>\n",
       "      <td>Divorced</td>\n",
       "      <td>Prof-specialty</td>\n",
       "      <td>Unmarried</td>\n",
       "      <td>White</td>\n",
       "      <td>Female</td>\n",
       "      <td>0</td>\n",
       "      <td>0</td>\n",
       "      <td>48</td>\n",
       "      <td>United-States</td>\n",
       "      <td>&lt;=50K</td>\n",
       "    </tr>\n",
       "    <tr>\n",
       "      <th>32544</th>\n",
       "      <td>31</td>\n",
       "      <td>Private</td>\n",
       "      <td>Masters</td>\n",
       "      <td>14</td>\n",
       "      <td>Divorced</td>\n",
       "      <td>Other-service</td>\n",
       "      <td>Not-in-family</td>\n",
       "      <td>Other</td>\n",
       "      <td>Female</td>\n",
       "      <td>0</td>\n",
       "      <td>0</td>\n",
       "      <td>30</td>\n",
       "      <td>United-States</td>\n",
       "      <td>&lt;=50K</td>\n",
       "    </tr>\n",
       "    <tr>\n",
       "      <th>32545</th>\n",
       "      <td>39</td>\n",
       "      <td>Local-gov</td>\n",
       "      <td>Assoc-acdm</td>\n",
       "      <td>12</td>\n",
       "      <td>Married-civ-spouse</td>\n",
       "      <td>Adm-clerical</td>\n",
       "      <td>Wife</td>\n",
       "      <td>White</td>\n",
       "      <td>Female</td>\n",
       "      <td>0</td>\n",
       "      <td>0</td>\n",
       "      <td>20</td>\n",
       "      <td>United-States</td>\n",
       "      <td>&gt;50K</td>\n",
       "    </tr>\n",
       "    <tr>\n",
       "      <th>32546</th>\n",
       "      <td>37</td>\n",
       "      <td>Private</td>\n",
       "      <td>Assoc-acdm</td>\n",
       "      <td>12</td>\n",
       "      <td>Divorced</td>\n",
       "      <td>Tech-support</td>\n",
       "      <td>Not-in-family</td>\n",
       "      <td>White</td>\n",
       "      <td>Female</td>\n",
       "      <td>0</td>\n",
       "      <td>0</td>\n",
       "      <td>40</td>\n",
       "      <td>United-States</td>\n",
       "      <td>&lt;=50K</td>\n",
       "    </tr>\n",
       "    <tr>\n",
       "      <th>32547</th>\n",
       "      <td>43</td>\n",
       "      <td>Private</td>\n",
       "      <td>HS-grad</td>\n",
       "      <td>9</td>\n",
       "      <td>Married-civ-spouse</td>\n",
       "      <td>Machine-op-inspct</td>\n",
       "      <td>Husband</td>\n",
       "      <td>White</td>\n",
       "      <td>Male</td>\n",
       "      <td>0</td>\n",
       "      <td>0</td>\n",
       "      <td>40</td>\n",
       "      <td>Mexico</td>\n",
       "      <td>&lt;=50K</td>\n",
       "    </tr>\n",
       "    <tr>\n",
       "      <th>32548</th>\n",
       "      <td>65</td>\n",
       "      <td>Self-emp-not-inc</td>\n",
       "      <td>Prof-school</td>\n",
       "      <td>15</td>\n",
       "      <td>Never-married</td>\n",
       "      <td>Prof-specialty</td>\n",
       "      <td>Not-in-family</td>\n",
       "      <td>White</td>\n",
       "      <td>Male</td>\n",
       "      <td>1086</td>\n",
       "      <td>0</td>\n",
       "      <td>60</td>\n",
       "      <td>United-States</td>\n",
       "      <td>&lt;=50K</td>\n",
       "    </tr>\n",
       "    <tr>\n",
       "      <th>32549</th>\n",
       "      <td>43</td>\n",
       "      <td>State-gov</td>\n",
       "      <td>Some-college</td>\n",
       "      <td>10</td>\n",
       "      <td>Divorced</td>\n",
       "      <td>Adm-clerical</td>\n",
       "      <td>Other-relative</td>\n",
       "      <td>White</td>\n",
       "      <td>Female</td>\n",
       "      <td>0</td>\n",
       "      <td>0</td>\n",
       "      <td>40</td>\n",
       "      <td>United-States</td>\n",
       "      <td>&lt;=50K</td>\n",
       "    </tr>\n",
       "    <tr>\n",
       "      <th>32550</th>\n",
       "      <td>43</td>\n",
       "      <td>Self-emp-not-inc</td>\n",
       "      <td>Some-college</td>\n",
       "      <td>10</td>\n",
       "      <td>Married-civ-spouse</td>\n",
       "      <td>Craft-repair</td>\n",
       "      <td>Husband</td>\n",
       "      <td>White</td>\n",
       "      <td>Male</td>\n",
       "      <td>0</td>\n",
       "      <td>0</td>\n",
       "      <td>50</td>\n",
       "      <td>United-States</td>\n",
       "      <td>&lt;=50K</td>\n",
       "    </tr>\n",
       "    <tr>\n",
       "      <th>32551</th>\n",
       "      <td>32</td>\n",
       "      <td>Private</td>\n",
       "      <td>10th</td>\n",
       "      <td>6</td>\n",
       "      <td>Married-civ-spouse</td>\n",
       "      <td>Handlers-cleaners</td>\n",
       "      <td>Husband</td>\n",
       "      <td>Amer-Indian-Eskimo</td>\n",
       "      <td>Male</td>\n",
       "      <td>0</td>\n",
       "      <td>0</td>\n",
       "      <td>40</td>\n",
       "      <td>United-States</td>\n",
       "      <td>&lt;=50K</td>\n",
       "    </tr>\n",
       "    <tr>\n",
       "      <th>32552</th>\n",
       "      <td>43</td>\n",
       "      <td>Private</td>\n",
       "      <td>Assoc-voc</td>\n",
       "      <td>11</td>\n",
       "      <td>Married-civ-spouse</td>\n",
       "      <td>Sales</td>\n",
       "      <td>Husband</td>\n",
       "      <td>White</td>\n",
       "      <td>Male</td>\n",
       "      <td>0</td>\n",
       "      <td>0</td>\n",
       "      <td>45</td>\n",
       "      <td>United-States</td>\n",
       "      <td>&lt;=50K</td>\n",
       "    </tr>\n",
       "    <tr>\n",
       "      <th>32553</th>\n",
       "      <td>32</td>\n",
       "      <td>Private</td>\n",
       "      <td>Masters</td>\n",
       "      <td>14</td>\n",
       "      <td>Never-married</td>\n",
       "      <td>Tech-support</td>\n",
       "      <td>Not-in-family</td>\n",
       "      <td>Asian-Pac-Islander</td>\n",
       "      <td>Male</td>\n",
       "      <td>0</td>\n",
       "      <td>0</td>\n",
       "      <td>11</td>\n",
       "      <td>Taiwan</td>\n",
       "      <td>&lt;=50K</td>\n",
       "    </tr>\n",
       "    <tr>\n",
       "      <th>32554</th>\n",
       "      <td>53</td>\n",
       "      <td>Private</td>\n",
       "      <td>Masters</td>\n",
       "      <td>14</td>\n",
       "      <td>Married-civ-spouse</td>\n",
       "      <td>Exec-managerial</td>\n",
       "      <td>Husband</td>\n",
       "      <td>White</td>\n",
       "      <td>Male</td>\n",
       "      <td>0</td>\n",
       "      <td>0</td>\n",
       "      <td>40</td>\n",
       "      <td>United-States</td>\n",
       "      <td>&gt;50K</td>\n",
       "    </tr>\n",
       "    <tr>\n",
       "      <th>32555</th>\n",
       "      <td>22</td>\n",
       "      <td>Private</td>\n",
       "      <td>Some-college</td>\n",
       "      <td>10</td>\n",
       "      <td>Never-married</td>\n",
       "      <td>Protective-serv</td>\n",
       "      <td>Not-in-family</td>\n",
       "      <td>White</td>\n",
       "      <td>Male</td>\n",
       "      <td>0</td>\n",
       "      <td>0</td>\n",
       "      <td>40</td>\n",
       "      <td>United-States</td>\n",
       "      <td>&lt;=50K</td>\n",
       "    </tr>\n",
       "    <tr>\n",
       "      <th>32556</th>\n",
       "      <td>27</td>\n",
       "      <td>Private</td>\n",
       "      <td>Assoc-acdm</td>\n",
       "      <td>12</td>\n",
       "      <td>Married-civ-spouse</td>\n",
       "      <td>Tech-support</td>\n",
       "      <td>Wife</td>\n",
       "      <td>White</td>\n",
       "      <td>Female</td>\n",
       "      <td>0</td>\n",
       "      <td>0</td>\n",
       "      <td>38</td>\n",
       "      <td>United-States</td>\n",
       "      <td>&lt;=50K</td>\n",
       "    </tr>\n",
       "    <tr>\n",
       "      <th>32557</th>\n",
       "      <td>40</td>\n",
       "      <td>Private</td>\n",
       "      <td>HS-grad</td>\n",
       "      <td>9</td>\n",
       "      <td>Married-civ-spouse</td>\n",
       "      <td>Machine-op-inspct</td>\n",
       "      <td>Husband</td>\n",
       "      <td>White</td>\n",
       "      <td>Male</td>\n",
       "      <td>0</td>\n",
       "      <td>0</td>\n",
       "      <td>40</td>\n",
       "      <td>United-States</td>\n",
       "      <td>&gt;50K</td>\n",
       "    </tr>\n",
       "    <tr>\n",
       "      <th>32558</th>\n",
       "      <td>58</td>\n",
       "      <td>Private</td>\n",
       "      <td>HS-grad</td>\n",
       "      <td>9</td>\n",
       "      <td>Widowed</td>\n",
       "      <td>Adm-clerical</td>\n",
       "      <td>Unmarried</td>\n",
       "      <td>White</td>\n",
       "      <td>Female</td>\n",
       "      <td>0</td>\n",
       "      <td>0</td>\n",
       "      <td>40</td>\n",
       "      <td>United-States</td>\n",
       "      <td>&lt;=50K</td>\n",
       "    </tr>\n",
       "    <tr>\n",
       "      <th>32559</th>\n",
       "      <td>22</td>\n",
       "      <td>Private</td>\n",
       "      <td>HS-grad</td>\n",
       "      <td>9</td>\n",
       "      <td>Never-married</td>\n",
       "      <td>Adm-clerical</td>\n",
       "      <td>Own-child</td>\n",
       "      <td>White</td>\n",
       "      <td>Male</td>\n",
       "      <td>0</td>\n",
       "      <td>0</td>\n",
       "      <td>20</td>\n",
       "      <td>United-States</td>\n",
       "      <td>&lt;=50K</td>\n",
       "    </tr>\n",
       "    <tr>\n",
       "      <th>32560</th>\n",
       "      <td>52</td>\n",
       "      <td>Self-emp-inc</td>\n",
       "      <td>HS-grad</td>\n",
       "      <td>9</td>\n",
       "      <td>Married-civ-spouse</td>\n",
       "      <td>Exec-managerial</td>\n",
       "      <td>Wife</td>\n",
       "      <td>White</td>\n",
       "      <td>Female</td>\n",
       "      <td>15024</td>\n",
       "      <td>0</td>\n",
       "      <td>40</td>\n",
       "      <td>United-States</td>\n",
       "      <td>&gt;50K</td>\n",
       "    </tr>\n",
       "  </tbody>\n",
       "</table>\n",
       "<p>32561 rows × 14 columns</p>\n",
       "</div>"
      ],
      "text/plain": [
       "       age          workclass      education  education-num  \\\n",
       "0       39          State-gov      Bachelors             13   \n",
       "1       50   Self-emp-not-inc      Bachelors             13   \n",
       "2       38            Private        HS-grad              9   \n",
       "3       53            Private           11th              7   \n",
       "4       28            Private      Bachelors             13   \n",
       "5       37            Private        Masters             14   \n",
       "6       49            Private            9th              5   \n",
       "7       52   Self-emp-not-inc        HS-grad              9   \n",
       "8       31            Private        Masters             14   \n",
       "9       42            Private      Bachelors             13   \n",
       "10      37            Private   Some-college             10   \n",
       "11      30          State-gov      Bachelors             13   \n",
       "12      23            Private      Bachelors             13   \n",
       "13      32            Private     Assoc-acdm             12   \n",
       "14      40            Private      Assoc-voc             11   \n",
       "15      34            Private        7th-8th              4   \n",
       "16      25   Self-emp-not-inc        HS-grad              9   \n",
       "17      32            Private        HS-grad              9   \n",
       "18      38            Private           11th              7   \n",
       "19      43   Self-emp-not-inc        Masters             14   \n",
       "20      40            Private      Doctorate             16   \n",
       "21      54            Private        HS-grad              9   \n",
       "22      35        Federal-gov            9th              5   \n",
       "23      43            Private           11th              7   \n",
       "24      59            Private        HS-grad              9   \n",
       "25      56          Local-gov      Bachelors             13   \n",
       "26      19            Private        HS-grad              9   \n",
       "27      54                  ?   Some-college             10   \n",
       "28      39            Private        HS-grad              9   \n",
       "29      49            Private        HS-grad              9   \n",
       "...    ...                ...            ...            ...   \n",
       "32531   30                  ?      Bachelors             13   \n",
       "32532   34            Private      Doctorate             16   \n",
       "32533   54            Private      Bachelors             13   \n",
       "32534   37            Private   Some-college             10   \n",
       "32535   22            Private           12th              8   \n",
       "32536   34            Private      Bachelors             13   \n",
       "32537   30            Private        HS-grad              9   \n",
       "32538   38            Private      Bachelors             13   \n",
       "32539   71                  ?      Doctorate             16   \n",
       "32540   45          State-gov        HS-grad              9   \n",
       "32541   41                  ?        HS-grad              9   \n",
       "32542   72                  ?        HS-grad              9   \n",
       "32543   45          Local-gov     Assoc-acdm             12   \n",
       "32544   31            Private        Masters             14   \n",
       "32545   39          Local-gov     Assoc-acdm             12   \n",
       "32546   37            Private     Assoc-acdm             12   \n",
       "32547   43            Private        HS-grad              9   \n",
       "32548   65   Self-emp-not-inc    Prof-school             15   \n",
       "32549   43          State-gov   Some-college             10   \n",
       "32550   43   Self-emp-not-inc   Some-college             10   \n",
       "32551   32            Private           10th              6   \n",
       "32552   43            Private      Assoc-voc             11   \n",
       "32553   32            Private        Masters             14   \n",
       "32554   53            Private        Masters             14   \n",
       "32555   22            Private   Some-college             10   \n",
       "32556   27            Private     Assoc-acdm             12   \n",
       "32557   40            Private        HS-grad              9   \n",
       "32558   58            Private        HS-grad              9   \n",
       "32559   22            Private        HS-grad              9   \n",
       "32560   52       Self-emp-inc        HS-grad              9   \n",
       "\n",
       "               marital-status          occupation     relationship  \\\n",
       "0               Never-married        Adm-clerical    Not-in-family   \n",
       "1          Married-civ-spouse     Exec-managerial          Husband   \n",
       "2                    Divorced   Handlers-cleaners    Not-in-family   \n",
       "3          Married-civ-spouse   Handlers-cleaners          Husband   \n",
       "4          Married-civ-spouse      Prof-specialty             Wife   \n",
       "5          Married-civ-spouse     Exec-managerial             Wife   \n",
       "6       Married-spouse-absent       Other-service    Not-in-family   \n",
       "7          Married-civ-spouse     Exec-managerial          Husband   \n",
       "8               Never-married      Prof-specialty    Not-in-family   \n",
       "9          Married-civ-spouse     Exec-managerial          Husband   \n",
       "10         Married-civ-spouse     Exec-managerial          Husband   \n",
       "11         Married-civ-spouse      Prof-specialty          Husband   \n",
       "12              Never-married        Adm-clerical        Own-child   \n",
       "13              Never-married               Sales    Not-in-family   \n",
       "14         Married-civ-spouse        Craft-repair          Husband   \n",
       "15         Married-civ-spouse    Transport-moving          Husband   \n",
       "16              Never-married     Farming-fishing        Own-child   \n",
       "17              Never-married   Machine-op-inspct        Unmarried   \n",
       "18         Married-civ-spouse               Sales          Husband   \n",
       "19                   Divorced     Exec-managerial        Unmarried   \n",
       "20         Married-civ-spouse      Prof-specialty          Husband   \n",
       "21                  Separated       Other-service        Unmarried   \n",
       "22         Married-civ-spouse     Farming-fishing          Husband   \n",
       "23         Married-civ-spouse    Transport-moving          Husband   \n",
       "24                   Divorced        Tech-support        Unmarried   \n",
       "25         Married-civ-spouse        Tech-support          Husband   \n",
       "26              Never-married        Craft-repair        Own-child   \n",
       "27         Married-civ-spouse                   ?          Husband   \n",
       "28                   Divorced     Exec-managerial    Not-in-family   \n",
       "29         Married-civ-spouse        Craft-repair          Husband   \n",
       "...                       ...                 ...              ...   \n",
       "32531           Never-married                   ?    Not-in-family   \n",
       "32532      Married-civ-spouse      Prof-specialty          Husband   \n",
       "32533      Married-civ-spouse     Exec-managerial          Husband   \n",
       "32534                Divorced        Adm-clerical        Unmarried   \n",
       "32535           Never-married     Protective-serv        Own-child   \n",
       "32536           Never-married     Exec-managerial    Not-in-family   \n",
       "32537           Never-married        Craft-repair    Not-in-family   \n",
       "32538                Divorced      Prof-specialty        Unmarried   \n",
       "32539      Married-civ-spouse                   ?          Husband   \n",
       "32540               Separated        Adm-clerical        Own-child   \n",
       "32541               Separated                   ?    Not-in-family   \n",
       "32542      Married-civ-spouse                   ?          Husband   \n",
       "32543                Divorced      Prof-specialty        Unmarried   \n",
       "32544                Divorced       Other-service    Not-in-family   \n",
       "32545      Married-civ-spouse        Adm-clerical             Wife   \n",
       "32546                Divorced        Tech-support    Not-in-family   \n",
       "32547      Married-civ-spouse   Machine-op-inspct          Husband   \n",
       "32548           Never-married      Prof-specialty    Not-in-family   \n",
       "32549                Divorced        Adm-clerical   Other-relative   \n",
       "32550      Married-civ-spouse        Craft-repair          Husband   \n",
       "32551      Married-civ-spouse   Handlers-cleaners          Husband   \n",
       "32552      Married-civ-spouse               Sales          Husband   \n",
       "32553           Never-married        Tech-support    Not-in-family   \n",
       "32554      Married-civ-spouse     Exec-managerial          Husband   \n",
       "32555           Never-married     Protective-serv    Not-in-family   \n",
       "32556      Married-civ-spouse        Tech-support             Wife   \n",
       "32557      Married-civ-spouse   Machine-op-inspct          Husband   \n",
       "32558                 Widowed        Adm-clerical        Unmarried   \n",
       "32559           Never-married        Adm-clerical        Own-child   \n",
       "32560      Married-civ-spouse     Exec-managerial             Wife   \n",
       "\n",
       "                      race      sex  capital-gain  capital-loss  \\\n",
       "0                    White     Male          2174             0   \n",
       "1                    White     Male             0             0   \n",
       "2                    White     Male             0             0   \n",
       "3                    Black     Male             0             0   \n",
       "4                    Black   Female             0             0   \n",
       "5                    White   Female             0             0   \n",
       "6                    Black   Female             0             0   \n",
       "7                    White     Male             0             0   \n",
       "8                    White   Female         14084             0   \n",
       "9                    White     Male          5178             0   \n",
       "10                   Black     Male             0             0   \n",
       "11      Asian-Pac-Islander     Male             0             0   \n",
       "12                   White   Female             0             0   \n",
       "13                   Black     Male             0             0   \n",
       "14      Asian-Pac-Islander     Male             0             0   \n",
       "15      Amer-Indian-Eskimo     Male             0             0   \n",
       "16                   White     Male             0             0   \n",
       "17                   White     Male             0             0   \n",
       "18                   White     Male             0             0   \n",
       "19                   White   Female             0             0   \n",
       "20                   White     Male             0             0   \n",
       "21                   Black   Female             0             0   \n",
       "22                   Black     Male             0             0   \n",
       "23                   White     Male             0          2042   \n",
       "24                   White   Female             0             0   \n",
       "25                   White     Male             0             0   \n",
       "26                   White     Male             0             0   \n",
       "27      Asian-Pac-Islander     Male             0             0   \n",
       "28                   White     Male             0             0   \n",
       "29                   White     Male             0             0   \n",
       "...                    ...      ...           ...           ...   \n",
       "32531   Asian-Pac-Islander   Female             0             0   \n",
       "32532                White     Male             0             0   \n",
       "32533   Asian-Pac-Islander     Male             0             0   \n",
       "32534                White   Female             0             0   \n",
       "32535                Black     Male             0             0   \n",
       "32536                White   Female             0             0   \n",
       "32537                Black     Male             0             0   \n",
       "32538                Black   Female         15020             0   \n",
       "32539                White     Male             0             0   \n",
       "32540                White   Female             0             0   \n",
       "32541                Black   Female             0             0   \n",
       "32542                White     Male             0             0   \n",
       "32543                White   Female             0             0   \n",
       "32544                Other   Female             0             0   \n",
       "32545                White   Female             0             0   \n",
       "32546                White   Female             0             0   \n",
       "32547                White     Male             0             0   \n",
       "32548                White     Male          1086             0   \n",
       "32549                White   Female             0             0   \n",
       "32550                White     Male             0             0   \n",
       "32551   Amer-Indian-Eskimo     Male             0             0   \n",
       "32552                White     Male             0             0   \n",
       "32553   Asian-Pac-Islander     Male             0             0   \n",
       "32554                White     Male             0             0   \n",
       "32555                White     Male             0             0   \n",
       "32556                White   Female             0             0   \n",
       "32557                White     Male             0             0   \n",
       "32558                White   Female             0             0   \n",
       "32559                White     Male             0             0   \n",
       "32560                White   Female         15024             0   \n",
       "\n",
       "       hours-per-week  native-country  income  \n",
       "0                  40   United-States   <=50K  \n",
       "1                  13   United-States   <=50K  \n",
       "2                  40   United-States   <=50K  \n",
       "3                  40   United-States   <=50K  \n",
       "4                  40            Cuba   <=50K  \n",
       "5                  40   United-States   <=50K  \n",
       "6                  16         Jamaica   <=50K  \n",
       "7                  45   United-States    >50K  \n",
       "8                  50   United-States    >50K  \n",
       "9                  40   United-States    >50K  \n",
       "10                 80   United-States    >50K  \n",
       "11                 40           India    >50K  \n",
       "12                 30   United-States   <=50K  \n",
       "13                 50   United-States   <=50K  \n",
       "14                 40               ?    >50K  \n",
       "15                 45          Mexico   <=50K  \n",
       "16                 35   United-States   <=50K  \n",
       "17                 40   United-States   <=50K  \n",
       "18                 50   United-States   <=50K  \n",
       "19                 45   United-States    >50K  \n",
       "20                 60   United-States    >50K  \n",
       "21                 20   United-States   <=50K  \n",
       "22                 40   United-States   <=50K  \n",
       "23                 40   United-States   <=50K  \n",
       "24                 40   United-States   <=50K  \n",
       "25                 40   United-States    >50K  \n",
       "26                 40   United-States   <=50K  \n",
       "27                 60           South    >50K  \n",
       "28                 80   United-States   <=50K  \n",
       "29                 40   United-States   <=50K  \n",
       "...               ...             ...     ...  \n",
       "32531              99   United-States   <=50K  \n",
       "32532              60   United-States    >50K  \n",
       "32533              50           Japan    >50K  \n",
       "32534              39   United-States   <=50K  \n",
       "32535              35   United-States   <=50K  \n",
       "32536              55   United-States    >50K  \n",
       "32537              46   United-States   <=50K  \n",
       "32538              45   United-States    >50K  \n",
       "32539              10   United-States    >50K  \n",
       "32540              40   United-States   <=50K  \n",
       "32541              32   United-States   <=50K  \n",
       "32542              25   United-States   <=50K  \n",
       "32543              48   United-States   <=50K  \n",
       "32544              30   United-States   <=50K  \n",
       "32545              20   United-States    >50K  \n",
       "32546              40   United-States   <=50K  \n",
       "32547              40          Mexico   <=50K  \n",
       "32548              60   United-States   <=50K  \n",
       "32549              40   United-States   <=50K  \n",
       "32550              50   United-States   <=50K  \n",
       "32551              40   United-States   <=50K  \n",
       "32552              45   United-States   <=50K  \n",
       "32553              11          Taiwan   <=50K  \n",
       "32554              40   United-States    >50K  \n",
       "32555              40   United-States   <=50K  \n",
       "32556              38   United-States   <=50K  \n",
       "32557              40   United-States    >50K  \n",
       "32558              40   United-States   <=50K  \n",
       "32559              20   United-States   <=50K  \n",
       "32560              40   United-States    >50K  \n",
       "\n",
       "[32561 rows x 14 columns]"
      ]
     },
     "execution_count": 13,
     "metadata": {},
     "output_type": "execute_result"
    }
   ],
   "source": [
    "df.drop(['fnlwgt'], axis=1)"
   ]
  },
  {
   "cell_type": "markdown",
   "metadata": {},
   "source": [
    "Ok, it worked this time!\n",
    "\n",
    "Let's take a **head** of our data to confirm the changes:"
   ]
  },
  {
   "cell_type": "code",
   "execution_count": 14,
   "metadata": {},
   "outputs": [
    {
     "data": {
      "text/html": [
       "<div>\n",
       "<style scoped>\n",
       "    .dataframe tbody tr th:only-of-type {\n",
       "        vertical-align: middle;\n",
       "    }\n",
       "\n",
       "    .dataframe tbody tr th {\n",
       "        vertical-align: top;\n",
       "    }\n",
       "\n",
       "    .dataframe thead th {\n",
       "        text-align: right;\n",
       "    }\n",
       "</style>\n",
       "<table border=\"1\" class=\"dataframe\">\n",
       "  <thead>\n",
       "    <tr style=\"text-align: right;\">\n",
       "      <th></th>\n",
       "      <th>age</th>\n",
       "      <th>workclass</th>\n",
       "      <th>fnlwgt</th>\n",
       "      <th>education</th>\n",
       "      <th>education-num</th>\n",
       "      <th>marital-status</th>\n",
       "      <th>occupation</th>\n",
       "      <th>relationship</th>\n",
       "      <th>race</th>\n",
       "      <th>sex</th>\n",
       "      <th>capital-gain</th>\n",
       "      <th>capital-loss</th>\n",
       "      <th>hours-per-week</th>\n",
       "      <th>native-country</th>\n",
       "      <th>income</th>\n",
       "    </tr>\n",
       "  </thead>\n",
       "  <tbody>\n",
       "    <tr>\n",
       "      <th>0</th>\n",
       "      <td>39</td>\n",
       "      <td>State-gov</td>\n",
       "      <td>77516</td>\n",
       "      <td>Bachelors</td>\n",
       "      <td>13</td>\n",
       "      <td>Never-married</td>\n",
       "      <td>Adm-clerical</td>\n",
       "      <td>Not-in-family</td>\n",
       "      <td>White</td>\n",
       "      <td>Male</td>\n",
       "      <td>2174</td>\n",
       "      <td>0</td>\n",
       "      <td>40</td>\n",
       "      <td>United-States</td>\n",
       "      <td>&lt;=50K</td>\n",
       "    </tr>\n",
       "    <tr>\n",
       "      <th>1</th>\n",
       "      <td>50</td>\n",
       "      <td>Self-emp-not-inc</td>\n",
       "      <td>83311</td>\n",
       "      <td>Bachelors</td>\n",
       "      <td>13</td>\n",
       "      <td>Married-civ-spouse</td>\n",
       "      <td>Exec-managerial</td>\n",
       "      <td>Husband</td>\n",
       "      <td>White</td>\n",
       "      <td>Male</td>\n",
       "      <td>0</td>\n",
       "      <td>0</td>\n",
       "      <td>13</td>\n",
       "      <td>United-States</td>\n",
       "      <td>&lt;=50K</td>\n",
       "    </tr>\n",
       "  </tbody>\n",
       "</table>\n",
       "</div>"
      ],
      "text/plain": [
       "   age          workclass  fnlwgt   education  education-num  \\\n",
       "0   39          State-gov   77516   Bachelors             13   \n",
       "1   50   Self-emp-not-inc   83311   Bachelors             13   \n",
       "\n",
       "        marital-status        occupation    relationship    race    sex  \\\n",
       "0        Never-married      Adm-clerical   Not-in-family   White   Male   \n",
       "1   Married-civ-spouse   Exec-managerial         Husband   White   Male   \n",
       "\n",
       "   capital-gain  capital-loss  hours-per-week  native-country  income  \n",
       "0          2174             0              40   United-States   <=50K  \n",
       "1             0             0              13   United-States   <=50K  "
      ]
     },
     "execution_count": 14,
     "metadata": {},
     "output_type": "execute_result"
    }
   ],
   "source": [
    "df.head(2)"
   ]
  },
  {
   "cell_type": "markdown",
   "metadata": {},
   "source": [
    "What?? Why the column **fnlwgt** is still there?\n",
    "\n",
    "There reason is that like the majority of DataFrame methods, **.drop( )** returns a modified version of data and doesn't alter the original data.\n",
    "In case we are sure that we want to change the original data, we can do it in two ways. Either by assigning the result to the df variable:"
   ]
  },
  {
   "cell_type": "code",
   "execution_count": null,
   "metadata": {},
   "outputs": [],
   "source": [
    "df = df.drop(['fnlwgt'], axis=1)"
   ]
  },
  {
   "cell_type": "markdown",
   "metadata": {},
   "source": [
    "Or by using the **inplace** argument of the **drop** method:"
   ]
  },
  {
   "cell_type": "code",
   "execution_count": null,
   "metadata": {},
   "outputs": [],
   "source": [
    "df.drop(['fnlwgt'], axis=1, inplace=True)"
   ]
  },
  {
   "cell_type": "markdown",
   "metadata": {},
   "source": [
    " "
   ]
  },
  {
   "cell_type": "markdown",
   "metadata": {},
   "source": [
    "<img src=\"../Images/baby.svg\"   width=\"30\" align=\"left\">               "
   ]
  },
  {
   "cell_type": "markdown",
   "metadata": {},
   "source": [
    "**YOUR TURN:**\n",
    "    \n",
    "Try to use both methods together. Explain the results:"
   ]
  },
  {
   "cell_type": "code",
   "execution_count": null,
   "metadata": {},
   "outputs": [],
   "source": [
    "(\\   .-.   .-.   .-.   .-.   .-.   .-.   .-.   .-.   /_\")\n",
    " \\\\_//^\\\\_//^\\\\_//^\\\\_//^\\\\_//^\\\\_//^\\\\_//^\\\\_//^\\\\_//\n",
    "  `\"`   `\"`   `\"`   `\"`   `\"`   `\"`   `\"`   `\"`   `\"`"
   ]
  },
  {
   "cell_type": "markdown",
   "metadata": {},
   "source": [
    "### Removing duplicates"
   ]
  },
  {
   "cell_type": "markdown",
   "metadata": {},
   "source": [
    "Another issue that frequently appears in data analysis tasks is presence of duplicated data. Based on the nature of your info these duplicated data may exist simply due to a simple glitch in ETL system or they can be a sign of a serious problem with data gathering methods. Two main methods related to duplicated data are:\n",
    "\n",
    "- **.drop_duplicates( )** : Removal of duplicated rows\n",
    "- **.duplicated( )** : showing the duplicated rows"
   ]
  },
  {
   "cell_type": "markdown",
   "metadata": {},
   "source": [
    " "
   ]
  },
  {
   "cell_type": "markdown",
   "metadata": {},
   "source": [
    "<img src=\"../Images/student.svg\"   width=\"30\" align=\"left\">               "
   ]
  },
  {
   "cell_type": "markdown",
   "metadata": {},
   "source": [
    "**YOUR TURN:**\n",
    "    \n",
    "Explain what happens in the following cell and in specific, what is the role of **keep** argument :"
   ]
  },
  {
   "cell_type": "code",
   "execution_count": 70,
   "metadata": {},
   "outputs": [
    {
     "data": {
      "text/html": [
       "<div>\n",
       "<style scoped>\n",
       "    .dataframe tbody tr th:only-of-type {\n",
       "        vertical-align: middle;\n",
       "    }\n",
       "\n",
       "    .dataframe tbody tr th {\n",
       "        vertical-align: top;\n",
       "    }\n",
       "\n",
       "    .dataframe thead th {\n",
       "        text-align: right;\n",
       "    }\n",
       "</style>\n",
       "<table border=\"1\" class=\"dataframe\">\n",
       "  <thead>\n",
       "    <tr style=\"text-align: right;\">\n",
       "      <th></th>\n",
       "      <th>age</th>\n",
       "      <th>workclass</th>\n",
       "      <th>fnlwgt</th>\n",
       "      <th>education</th>\n",
       "      <th>education-num</th>\n",
       "      <th>marital-status</th>\n",
       "      <th>occupation</th>\n",
       "      <th>relationship</th>\n",
       "      <th>race</th>\n",
       "      <th>sex</th>\n",
       "      <th>capital-gain</th>\n",
       "      <th>capital-loss</th>\n",
       "      <th>hours-per-week</th>\n",
       "      <th>native-country</th>\n",
       "      <th>income</th>\n",
       "    </tr>\n",
       "  </thead>\n",
       "  <tbody>\n",
       "    <tr>\n",
       "      <th>17673</th>\n",
       "      <td>19</td>\n",
       "      <td>Private</td>\n",
       "      <td>97261</td>\n",
       "      <td>HS-grad</td>\n",
       "      <td>9</td>\n",
       "      <td>Never-married</td>\n",
       "      <td>Farming-fishing</td>\n",
       "      <td>Not-in-family</td>\n",
       "      <td>White</td>\n",
       "      <td>Male</td>\n",
       "      <td>0</td>\n",
       "      <td>0</td>\n",
       "      <td>40</td>\n",
       "      <td>United-States</td>\n",
       "      <td>&lt;=50K</td>\n",
       "    </tr>\n",
       "    <tr>\n",
       "      <th>18698</th>\n",
       "      <td>19</td>\n",
       "      <td>Private</td>\n",
       "      <td>97261</td>\n",
       "      <td>HS-grad</td>\n",
       "      <td>9</td>\n",
       "      <td>Never-married</td>\n",
       "      <td>Farming-fishing</td>\n",
       "      <td>Not-in-family</td>\n",
       "      <td>White</td>\n",
       "      <td>Male</td>\n",
       "      <td>0</td>\n",
       "      <td>0</td>\n",
       "      <td>40</td>\n",
       "      <td>United-States</td>\n",
       "      <td>&lt;=50K</td>\n",
       "    </tr>\n",
       "    <tr>\n",
       "      <th>6990</th>\n",
       "      <td>19</td>\n",
       "      <td>Private</td>\n",
       "      <td>138153</td>\n",
       "      <td>Some-college</td>\n",
       "      <td>10</td>\n",
       "      <td>Never-married</td>\n",
       "      <td>Adm-clerical</td>\n",
       "      <td>Own-child</td>\n",
       "      <td>White</td>\n",
       "      <td>Female</td>\n",
       "      <td>0</td>\n",
       "      <td>0</td>\n",
       "      <td>10</td>\n",
       "      <td>United-States</td>\n",
       "      <td>&lt;=50K</td>\n",
       "    </tr>\n",
       "    <tr>\n",
       "      <th>21318</th>\n",
       "      <td>19</td>\n",
       "      <td>Private</td>\n",
       "      <td>138153</td>\n",
       "      <td>Some-college</td>\n",
       "      <td>10</td>\n",
       "      <td>Never-married</td>\n",
       "      <td>Adm-clerical</td>\n",
       "      <td>Own-child</td>\n",
       "      <td>White</td>\n",
       "      <td>Female</td>\n",
       "      <td>0</td>\n",
       "      <td>0</td>\n",
       "      <td>10</td>\n",
       "      <td>United-States</td>\n",
       "      <td>&lt;=50K</td>\n",
       "    </tr>\n",
       "    <tr>\n",
       "      <th>15189</th>\n",
       "      <td>19</td>\n",
       "      <td>Private</td>\n",
       "      <td>146679</td>\n",
       "      <td>Some-college</td>\n",
       "      <td>10</td>\n",
       "      <td>Never-married</td>\n",
       "      <td>Exec-managerial</td>\n",
       "      <td>Own-child</td>\n",
       "      <td>Black</td>\n",
       "      <td>Male</td>\n",
       "      <td>0</td>\n",
       "      <td>0</td>\n",
       "      <td>30</td>\n",
       "      <td>United-States</td>\n",
       "      <td>&lt;=50K</td>\n",
       "    </tr>\n",
       "    <tr>\n",
       "      <th>21490</th>\n",
       "      <td>19</td>\n",
       "      <td>Private</td>\n",
       "      <td>146679</td>\n",
       "      <td>Some-college</td>\n",
       "      <td>10</td>\n",
       "      <td>Never-married</td>\n",
       "      <td>Exec-managerial</td>\n",
       "      <td>Own-child</td>\n",
       "      <td>Black</td>\n",
       "      <td>Male</td>\n",
       "      <td>0</td>\n",
       "      <td>0</td>\n",
       "      <td>30</td>\n",
       "      <td>United-States</td>\n",
       "      <td>&lt;=50K</td>\n",
       "    </tr>\n",
       "    <tr>\n",
       "      <th>3917</th>\n",
       "      <td>19</td>\n",
       "      <td>Private</td>\n",
       "      <td>251579</td>\n",
       "      <td>Some-college</td>\n",
       "      <td>10</td>\n",
       "      <td>Never-married</td>\n",
       "      <td>Other-service</td>\n",
       "      <td>Own-child</td>\n",
       "      <td>White</td>\n",
       "      <td>Male</td>\n",
       "      <td>0</td>\n",
       "      <td>0</td>\n",
       "      <td>14</td>\n",
       "      <td>United-States</td>\n",
       "      <td>&lt;=50K</td>\n",
       "    </tr>\n",
       "    <tr>\n",
       "      <th>31993</th>\n",
       "      <td>19</td>\n",
       "      <td>Private</td>\n",
       "      <td>251579</td>\n",
       "      <td>Some-college</td>\n",
       "      <td>10</td>\n",
       "      <td>Never-married</td>\n",
       "      <td>Other-service</td>\n",
       "      <td>Own-child</td>\n",
       "      <td>White</td>\n",
       "      <td>Male</td>\n",
       "      <td>0</td>\n",
       "      <td>0</td>\n",
       "      <td>14</td>\n",
       "      <td>United-States</td>\n",
       "      <td>&lt;=50K</td>\n",
       "    </tr>\n",
       "    <tr>\n",
       "      <th>5805</th>\n",
       "      <td>20</td>\n",
       "      <td>Private</td>\n",
       "      <td>107658</td>\n",
       "      <td>Some-college</td>\n",
       "      <td>10</td>\n",
       "      <td>Never-married</td>\n",
       "      <td>Tech-support</td>\n",
       "      <td>Not-in-family</td>\n",
       "      <td>White</td>\n",
       "      <td>Female</td>\n",
       "      <td>0</td>\n",
       "      <td>0</td>\n",
       "      <td>10</td>\n",
       "      <td>United-States</td>\n",
       "      <td>&lt;=50K</td>\n",
       "    </tr>\n",
       "    <tr>\n",
       "      <th>11631</th>\n",
       "      <td>20</td>\n",
       "      <td>Private</td>\n",
       "      <td>107658</td>\n",
       "      <td>Some-college</td>\n",
       "      <td>10</td>\n",
       "      <td>Never-married</td>\n",
       "      <td>Tech-support</td>\n",
       "      <td>Not-in-family</td>\n",
       "      <td>White</td>\n",
       "      <td>Female</td>\n",
       "      <td>0</td>\n",
       "      <td>0</td>\n",
       "      <td>10</td>\n",
       "      <td>United-States</td>\n",
       "      <td>&lt;=50K</td>\n",
       "    </tr>\n",
       "    <tr>\n",
       "      <th>8080</th>\n",
       "      <td>21</td>\n",
       "      <td>Private</td>\n",
       "      <td>243368</td>\n",
       "      <td>Preschool</td>\n",
       "      <td>1</td>\n",
       "      <td>Never-married</td>\n",
       "      <td>Farming-fishing</td>\n",
       "      <td>Not-in-family</td>\n",
       "      <td>White</td>\n",
       "      <td>Male</td>\n",
       "      <td>0</td>\n",
       "      <td>0</td>\n",
       "      <td>50</td>\n",
       "      <td>Mexico</td>\n",
       "      <td>&lt;=50K</td>\n",
       "    </tr>\n",
       "    <tr>\n",
       "      <th>15059</th>\n",
       "      <td>21</td>\n",
       "      <td>Private</td>\n",
       "      <td>243368</td>\n",
       "      <td>Preschool</td>\n",
       "      <td>1</td>\n",
       "      <td>Never-married</td>\n",
       "      <td>Farming-fishing</td>\n",
       "      <td>Not-in-family</td>\n",
       "      <td>White</td>\n",
       "      <td>Male</td>\n",
       "      <td>0</td>\n",
       "      <td>0</td>\n",
       "      <td>50</td>\n",
       "      <td>Mexico</td>\n",
       "      <td>&lt;=50K</td>\n",
       "    </tr>\n",
       "    <tr>\n",
       "      <th>4767</th>\n",
       "      <td>21</td>\n",
       "      <td>Private</td>\n",
       "      <td>250051</td>\n",
       "      <td>Some-college</td>\n",
       "      <td>10</td>\n",
       "      <td>Never-married</td>\n",
       "      <td>Prof-specialty</td>\n",
       "      <td>Own-child</td>\n",
       "      <td>White</td>\n",
       "      <td>Female</td>\n",
       "      <td>0</td>\n",
       "      <td>0</td>\n",
       "      <td>10</td>\n",
       "      <td>United-States</td>\n",
       "      <td>&lt;=50K</td>\n",
       "    </tr>\n",
       "    <tr>\n",
       "      <th>9171</th>\n",
       "      <td>21</td>\n",
       "      <td>Private</td>\n",
       "      <td>250051</td>\n",
       "      <td>Some-college</td>\n",
       "      <td>10</td>\n",
       "      <td>Never-married</td>\n",
       "      <td>Prof-specialty</td>\n",
       "      <td>Own-child</td>\n",
       "      <td>White</td>\n",
       "      <td>Female</td>\n",
       "      <td>0</td>\n",
       "      <td>0</td>\n",
       "      <td>10</td>\n",
       "      <td>United-States</td>\n",
       "      <td>&lt;=50K</td>\n",
       "    </tr>\n",
       "    <tr>\n",
       "      <th>21103</th>\n",
       "      <td>23</td>\n",
       "      <td>Private</td>\n",
       "      <td>240137</td>\n",
       "      <td>5th-6th</td>\n",
       "      <td>3</td>\n",
       "      <td>Never-married</td>\n",
       "      <td>Handlers-cleaners</td>\n",
       "      <td>Not-in-family</td>\n",
       "      <td>White</td>\n",
       "      <td>Male</td>\n",
       "      <td>0</td>\n",
       "      <td>0</td>\n",
       "      <td>55</td>\n",
       "      <td>Mexico</td>\n",
       "      <td>&lt;=50K</td>\n",
       "    </tr>\n",
       "    <tr>\n",
       "      <th>25872</th>\n",
       "      <td>23</td>\n",
       "      <td>Private</td>\n",
       "      <td>240137</td>\n",
       "      <td>5th-6th</td>\n",
       "      <td>3</td>\n",
       "      <td>Never-married</td>\n",
       "      <td>Handlers-cleaners</td>\n",
       "      <td>Not-in-family</td>\n",
       "      <td>White</td>\n",
       "      <td>Male</td>\n",
       "      <td>0</td>\n",
       "      <td>0</td>\n",
       "      <td>55</td>\n",
       "      <td>Mexico</td>\n",
       "      <td>&lt;=50K</td>\n",
       "    </tr>\n",
       "    <tr>\n",
       "      <th>5842</th>\n",
       "      <td>25</td>\n",
       "      <td>Private</td>\n",
       "      <td>195994</td>\n",
       "      <td>1st-4th</td>\n",
       "      <td>2</td>\n",
       "      <td>Never-married</td>\n",
       "      <td>Priv-house-serv</td>\n",
       "      <td>Not-in-family</td>\n",
       "      <td>White</td>\n",
       "      <td>Female</td>\n",
       "      <td>0</td>\n",
       "      <td>0</td>\n",
       "      <td>40</td>\n",
       "      <td>Guatemala</td>\n",
       "      <td>&lt;=50K</td>\n",
       "    </tr>\n",
       "    <tr>\n",
       "      <th>13084</th>\n",
       "      <td>25</td>\n",
       "      <td>Private</td>\n",
       "      <td>195994</td>\n",
       "      <td>1st-4th</td>\n",
       "      <td>2</td>\n",
       "      <td>Never-married</td>\n",
       "      <td>Priv-house-serv</td>\n",
       "      <td>Not-in-family</td>\n",
       "      <td>White</td>\n",
       "      <td>Female</td>\n",
       "      <td>0</td>\n",
       "      <td>0</td>\n",
       "      <td>40</td>\n",
       "      <td>Guatemala</td>\n",
       "      <td>&lt;=50K</td>\n",
       "    </tr>\n",
       "    <tr>\n",
       "      <th>22300</th>\n",
       "      <td>25</td>\n",
       "      <td>Private</td>\n",
       "      <td>195994</td>\n",
       "      <td>1st-4th</td>\n",
       "      <td>2</td>\n",
       "      <td>Never-married</td>\n",
       "      <td>Priv-house-serv</td>\n",
       "      <td>Not-in-family</td>\n",
       "      <td>White</td>\n",
       "      <td>Female</td>\n",
       "      <td>0</td>\n",
       "      <td>0</td>\n",
       "      <td>40</td>\n",
       "      <td>Guatemala</td>\n",
       "      <td>&lt;=50K</td>\n",
       "    </tr>\n",
       "    <tr>\n",
       "      <th>4325</th>\n",
       "      <td>25</td>\n",
       "      <td>Private</td>\n",
       "      <td>308144</td>\n",
       "      <td>Bachelors</td>\n",
       "      <td>13</td>\n",
       "      <td>Never-married</td>\n",
       "      <td>Craft-repair</td>\n",
       "      <td>Not-in-family</td>\n",
       "      <td>White</td>\n",
       "      <td>Male</td>\n",
       "      <td>0</td>\n",
       "      <td>0</td>\n",
       "      <td>40</td>\n",
       "      <td>Mexico</td>\n",
       "      <td>&lt;=50K</td>\n",
       "    </tr>\n",
       "    <tr>\n",
       "      <th>4881</th>\n",
       "      <td>25</td>\n",
       "      <td>Private</td>\n",
       "      <td>308144</td>\n",
       "      <td>Bachelors</td>\n",
       "      <td>13</td>\n",
       "      <td>Never-married</td>\n",
       "      <td>Craft-repair</td>\n",
       "      <td>Not-in-family</td>\n",
       "      <td>White</td>\n",
       "      <td>Male</td>\n",
       "      <td>0</td>\n",
       "      <td>0</td>\n",
       "      <td>40</td>\n",
       "      <td>Mexico</td>\n",
       "      <td>&lt;=50K</td>\n",
       "    </tr>\n",
       "    <tr>\n",
       "      <th>5579</th>\n",
       "      <td>27</td>\n",
       "      <td>Private</td>\n",
       "      <td>255582</td>\n",
       "      <td>HS-grad</td>\n",
       "      <td>9</td>\n",
       "      <td>Never-married</td>\n",
       "      <td>Machine-op-inspct</td>\n",
       "      <td>Not-in-family</td>\n",
       "      <td>White</td>\n",
       "      <td>Female</td>\n",
       "      <td>0</td>\n",
       "      <td>0</td>\n",
       "      <td>40</td>\n",
       "      <td>United-States</td>\n",
       "      <td>&lt;=50K</td>\n",
       "    </tr>\n",
       "    <tr>\n",
       "      <th>28230</th>\n",
       "      <td>27</td>\n",
       "      <td>Private</td>\n",
       "      <td>255582</td>\n",
       "      <td>HS-grad</td>\n",
       "      <td>9</td>\n",
       "      <td>Never-married</td>\n",
       "      <td>Machine-op-inspct</td>\n",
       "      <td>Not-in-family</td>\n",
       "      <td>White</td>\n",
       "      <td>Female</td>\n",
       "      <td>0</td>\n",
       "      <td>0</td>\n",
       "      <td>40</td>\n",
       "      <td>United-States</td>\n",
       "      <td>&lt;=50K</td>\n",
       "    </tr>\n",
       "    <tr>\n",
       "      <th>8679</th>\n",
       "      <td>28</td>\n",
       "      <td>Private</td>\n",
       "      <td>274679</td>\n",
       "      <td>Masters</td>\n",
       "      <td>14</td>\n",
       "      <td>Never-married</td>\n",
       "      <td>Prof-specialty</td>\n",
       "      <td>Not-in-family</td>\n",
       "      <td>White</td>\n",
       "      <td>Male</td>\n",
       "      <td>0</td>\n",
       "      <td>0</td>\n",
       "      <td>50</td>\n",
       "      <td>United-States</td>\n",
       "      <td>&lt;=50K</td>\n",
       "    </tr>\n",
       "    <tr>\n",
       "      <th>26313</th>\n",
       "      <td>28</td>\n",
       "      <td>Private</td>\n",
       "      <td>274679</td>\n",
       "      <td>Masters</td>\n",
       "      <td>14</td>\n",
       "      <td>Never-married</td>\n",
       "      <td>Prof-specialty</td>\n",
       "      <td>Not-in-family</td>\n",
       "      <td>White</td>\n",
       "      <td>Male</td>\n",
       "      <td>0</td>\n",
       "      <td>0</td>\n",
       "      <td>50</td>\n",
       "      <td>United-States</td>\n",
       "      <td>&lt;=50K</td>\n",
       "    </tr>\n",
       "    <tr>\n",
       "      <th>16975</th>\n",
       "      <td>30</td>\n",
       "      <td>Private</td>\n",
       "      <td>144593</td>\n",
       "      <td>HS-grad</td>\n",
       "      <td>9</td>\n",
       "      <td>Never-married</td>\n",
       "      <td>Other-service</td>\n",
       "      <td>Not-in-family</td>\n",
       "      <td>Black</td>\n",
       "      <td>Male</td>\n",
       "      <td>0</td>\n",
       "      <td>0</td>\n",
       "      <td>40</td>\n",
       "      <td>?</td>\n",
       "      <td>&lt;=50K</td>\n",
       "    </tr>\n",
       "    <tr>\n",
       "      <th>18555</th>\n",
       "      <td>30</td>\n",
       "      <td>Private</td>\n",
       "      <td>144593</td>\n",
       "      <td>HS-grad</td>\n",
       "      <td>9</td>\n",
       "      <td>Never-married</td>\n",
       "      <td>Other-service</td>\n",
       "      <td>Not-in-family</td>\n",
       "      <td>Black</td>\n",
       "      <td>Male</td>\n",
       "      <td>0</td>\n",
       "      <td>0</td>\n",
       "      <td>40</td>\n",
       "      <td>?</td>\n",
       "      <td>&lt;=50K</td>\n",
       "    </tr>\n",
       "    <tr>\n",
       "      <th>16846</th>\n",
       "      <td>35</td>\n",
       "      <td>Private</td>\n",
       "      <td>379959</td>\n",
       "      <td>HS-grad</td>\n",
       "      <td>9</td>\n",
       "      <td>Divorced</td>\n",
       "      <td>Other-service</td>\n",
       "      <td>Not-in-family</td>\n",
       "      <td>White</td>\n",
       "      <td>Female</td>\n",
       "      <td>0</td>\n",
       "      <td>0</td>\n",
       "      <td>40</td>\n",
       "      <td>United-States</td>\n",
       "      <td>&lt;=50K</td>\n",
       "    </tr>\n",
       "    <tr>\n",
       "      <th>32404</th>\n",
       "      <td>35</td>\n",
       "      <td>Private</td>\n",
       "      <td>379959</td>\n",
       "      <td>HS-grad</td>\n",
       "      <td>9</td>\n",
       "      <td>Divorced</td>\n",
       "      <td>Other-service</td>\n",
       "      <td>Not-in-family</td>\n",
       "      <td>White</td>\n",
       "      <td>Female</td>\n",
       "      <td>0</td>\n",
       "      <td>0</td>\n",
       "      <td>40</td>\n",
       "      <td>United-States</td>\n",
       "      <td>&lt;=50K</td>\n",
       "    </tr>\n",
       "    <tr>\n",
       "      <th>4940</th>\n",
       "      <td>38</td>\n",
       "      <td>Private</td>\n",
       "      <td>207202</td>\n",
       "      <td>HS-grad</td>\n",
       "      <td>9</td>\n",
       "      <td>Married-civ-spouse</td>\n",
       "      <td>Machine-op-inspct</td>\n",
       "      <td>Husband</td>\n",
       "      <td>White</td>\n",
       "      <td>Male</td>\n",
       "      <td>0</td>\n",
       "      <td>0</td>\n",
       "      <td>48</td>\n",
       "      <td>United-States</td>\n",
       "      <td>&gt;50K</td>\n",
       "    </tr>\n",
       "    <tr>\n",
       "      <th>29157</th>\n",
       "      <td>38</td>\n",
       "      <td>Private</td>\n",
       "      <td>207202</td>\n",
       "      <td>HS-grad</td>\n",
       "      <td>9</td>\n",
       "      <td>Married-civ-spouse</td>\n",
       "      <td>Machine-op-inspct</td>\n",
       "      <td>Husband</td>\n",
       "      <td>White</td>\n",
       "      <td>Male</td>\n",
       "      <td>0</td>\n",
       "      <td>0</td>\n",
       "      <td>48</td>\n",
       "      <td>United-States</td>\n",
       "      <td>&gt;50K</td>\n",
       "    </tr>\n",
       "    <tr>\n",
       "      <th>25624</th>\n",
       "      <td>39</td>\n",
       "      <td>Private</td>\n",
       "      <td>30916</td>\n",
       "      <td>HS-grad</td>\n",
       "      <td>9</td>\n",
       "      <td>Married-civ-spouse</td>\n",
       "      <td>Craft-repair</td>\n",
       "      <td>Husband</td>\n",
       "      <td>White</td>\n",
       "      <td>Male</td>\n",
       "      <td>0</td>\n",
       "      <td>0</td>\n",
       "      <td>40</td>\n",
       "      <td>United-States</td>\n",
       "      <td>&lt;=50K</td>\n",
       "    </tr>\n",
       "    <tr>\n",
       "      <th>28846</th>\n",
       "      <td>39</td>\n",
       "      <td>Private</td>\n",
       "      <td>30916</td>\n",
       "      <td>HS-grad</td>\n",
       "      <td>9</td>\n",
       "      <td>Married-civ-spouse</td>\n",
       "      <td>Craft-repair</td>\n",
       "      <td>Husband</td>\n",
       "      <td>White</td>\n",
       "      <td>Male</td>\n",
       "      <td>0</td>\n",
       "      <td>0</td>\n",
       "      <td>40</td>\n",
       "      <td>United-States</td>\n",
       "      <td>&lt;=50K</td>\n",
       "    </tr>\n",
       "    <tr>\n",
       "      <th>10367</th>\n",
       "      <td>42</td>\n",
       "      <td>Private</td>\n",
       "      <td>204235</td>\n",
       "      <td>Some-college</td>\n",
       "      <td>10</td>\n",
       "      <td>Married-civ-spouse</td>\n",
       "      <td>Prof-specialty</td>\n",
       "      <td>Husband</td>\n",
       "      <td>White</td>\n",
       "      <td>Male</td>\n",
       "      <td>0</td>\n",
       "      <td>0</td>\n",
       "      <td>40</td>\n",
       "      <td>United-States</td>\n",
       "      <td>&gt;50K</td>\n",
       "    </tr>\n",
       "    <tr>\n",
       "      <th>28522</th>\n",
       "      <td>42</td>\n",
       "      <td>Private</td>\n",
       "      <td>204235</td>\n",
       "      <td>Some-college</td>\n",
       "      <td>10</td>\n",
       "      <td>Married-civ-spouse</td>\n",
       "      <td>Prof-specialty</td>\n",
       "      <td>Husband</td>\n",
       "      <td>White</td>\n",
       "      <td>Male</td>\n",
       "      <td>0</td>\n",
       "      <td>0</td>\n",
       "      <td>40</td>\n",
       "      <td>United-States</td>\n",
       "      <td>&gt;50K</td>\n",
       "    </tr>\n",
       "    <tr>\n",
       "      <th>17916</th>\n",
       "      <td>44</td>\n",
       "      <td>Private</td>\n",
       "      <td>367749</td>\n",
       "      <td>Bachelors</td>\n",
       "      <td>13</td>\n",
       "      <td>Never-married</td>\n",
       "      <td>Prof-specialty</td>\n",
       "      <td>Not-in-family</td>\n",
       "      <td>White</td>\n",
       "      <td>Female</td>\n",
       "      <td>0</td>\n",
       "      <td>0</td>\n",
       "      <td>45</td>\n",
       "      <td>Mexico</td>\n",
       "      <td>&lt;=50K</td>\n",
       "    </tr>\n",
       "    <tr>\n",
       "      <th>22367</th>\n",
       "      <td>44</td>\n",
       "      <td>Private</td>\n",
       "      <td>367749</td>\n",
       "      <td>Bachelors</td>\n",
       "      <td>13</td>\n",
       "      <td>Never-married</td>\n",
       "      <td>Prof-specialty</td>\n",
       "      <td>Not-in-family</td>\n",
       "      <td>White</td>\n",
       "      <td>Female</td>\n",
       "      <td>0</td>\n",
       "      <td>0</td>\n",
       "      <td>45</td>\n",
       "      <td>Mexico</td>\n",
       "      <td>&lt;=50K</td>\n",
       "    </tr>\n",
       "    <tr>\n",
       "      <th>11965</th>\n",
       "      <td>46</td>\n",
       "      <td>Private</td>\n",
       "      <td>133616</td>\n",
       "      <td>Some-college</td>\n",
       "      <td>10</td>\n",
       "      <td>Divorced</td>\n",
       "      <td>Adm-clerical</td>\n",
       "      <td>Unmarried</td>\n",
       "      <td>White</td>\n",
       "      <td>Female</td>\n",
       "      <td>0</td>\n",
       "      <td>0</td>\n",
       "      <td>40</td>\n",
       "      <td>United-States</td>\n",
       "      <td>&lt;=50K</td>\n",
       "    </tr>\n",
       "    <tr>\n",
       "      <th>30845</th>\n",
       "      <td>46</td>\n",
       "      <td>Private</td>\n",
       "      <td>133616</td>\n",
       "      <td>Some-college</td>\n",
       "      <td>10</td>\n",
       "      <td>Divorced</td>\n",
       "      <td>Adm-clerical</td>\n",
       "      <td>Unmarried</td>\n",
       "      <td>White</td>\n",
       "      <td>Female</td>\n",
       "      <td>0</td>\n",
       "      <td>0</td>\n",
       "      <td>40</td>\n",
       "      <td>United-States</td>\n",
       "      <td>&lt;=50K</td>\n",
       "    </tr>\n",
       "    <tr>\n",
       "      <th>16297</th>\n",
       "      <td>46</td>\n",
       "      <td>Private</td>\n",
       "      <td>173243</td>\n",
       "      <td>HS-grad</td>\n",
       "      <td>9</td>\n",
       "      <td>Married-civ-spouse</td>\n",
       "      <td>Craft-repair</td>\n",
       "      <td>Husband</td>\n",
       "      <td>White</td>\n",
       "      <td>Male</td>\n",
       "      <td>0</td>\n",
       "      <td>0</td>\n",
       "      <td>40</td>\n",
       "      <td>United-States</td>\n",
       "      <td>&lt;=50K</td>\n",
       "    </tr>\n",
       "    <tr>\n",
       "      <th>17040</th>\n",
       "      <td>46</td>\n",
       "      <td>Private</td>\n",
       "      <td>173243</td>\n",
       "      <td>HS-grad</td>\n",
       "      <td>9</td>\n",
       "      <td>Married-civ-spouse</td>\n",
       "      <td>Craft-repair</td>\n",
       "      <td>Husband</td>\n",
       "      <td>White</td>\n",
       "      <td>Male</td>\n",
       "      <td>0</td>\n",
       "      <td>0</td>\n",
       "      <td>40</td>\n",
       "      <td>United-States</td>\n",
       "      <td>&lt;=50K</td>\n",
       "    </tr>\n",
       "    <tr>\n",
       "      <th>7920</th>\n",
       "      <td>49</td>\n",
       "      <td>Private</td>\n",
       "      <td>31267</td>\n",
       "      <td>7th-8th</td>\n",
       "      <td>4</td>\n",
       "      <td>Married-civ-spouse</td>\n",
       "      <td>Craft-repair</td>\n",
       "      <td>Husband</td>\n",
       "      <td>White</td>\n",
       "      <td>Male</td>\n",
       "      <td>0</td>\n",
       "      <td>0</td>\n",
       "      <td>40</td>\n",
       "      <td>United-States</td>\n",
       "      <td>&lt;=50K</td>\n",
       "    </tr>\n",
       "    <tr>\n",
       "      <th>21875</th>\n",
       "      <td>49</td>\n",
       "      <td>Private</td>\n",
       "      <td>31267</td>\n",
       "      <td>7th-8th</td>\n",
       "      <td>4</td>\n",
       "      <td>Married-civ-spouse</td>\n",
       "      <td>Craft-repair</td>\n",
       "      <td>Husband</td>\n",
       "      <td>White</td>\n",
       "      <td>Male</td>\n",
       "      <td>0</td>\n",
       "      <td>0</td>\n",
       "      <td>40</td>\n",
       "      <td>United-States</td>\n",
       "      <td>&lt;=50K</td>\n",
       "    </tr>\n",
       "    <tr>\n",
       "      <th>7053</th>\n",
       "      <td>49</td>\n",
       "      <td>Self-emp-not-inc</td>\n",
       "      <td>43479</td>\n",
       "      <td>Some-college</td>\n",
       "      <td>10</td>\n",
       "      <td>Married-civ-spouse</td>\n",
       "      <td>Craft-repair</td>\n",
       "      <td>Husband</td>\n",
       "      <td>White</td>\n",
       "      <td>Male</td>\n",
       "      <td>0</td>\n",
       "      <td>0</td>\n",
       "      <td>40</td>\n",
       "      <td>United-States</td>\n",
       "      <td>&lt;=50K</td>\n",
       "    </tr>\n",
       "    <tr>\n",
       "      <th>22494</th>\n",
       "      <td>49</td>\n",
       "      <td>Self-emp-not-inc</td>\n",
       "      <td>43479</td>\n",
       "      <td>Some-college</td>\n",
       "      <td>10</td>\n",
       "      <td>Married-civ-spouse</td>\n",
       "      <td>Craft-repair</td>\n",
       "      <td>Husband</td>\n",
       "      <td>White</td>\n",
       "      <td>Male</td>\n",
       "      <td>0</td>\n",
       "      <td>0</td>\n",
       "      <td>40</td>\n",
       "      <td>United-States</td>\n",
       "      <td>&lt;=50K</td>\n",
       "    </tr>\n",
       "    <tr>\n",
       "      <th>2303</th>\n",
       "      <td>90</td>\n",
       "      <td>Private</td>\n",
       "      <td>52386</td>\n",
       "      <td>Some-college</td>\n",
       "      <td>10</td>\n",
       "      <td>Never-married</td>\n",
       "      <td>Other-service</td>\n",
       "      <td>Not-in-family</td>\n",
       "      <td>Asian-Pac-Islander</td>\n",
       "      <td>Male</td>\n",
       "      <td>0</td>\n",
       "      <td>0</td>\n",
       "      <td>35</td>\n",
       "      <td>United-States</td>\n",
       "      <td>&lt;=50K</td>\n",
       "    </tr>\n",
       "    <tr>\n",
       "      <th>5104</th>\n",
       "      <td>90</td>\n",
       "      <td>Private</td>\n",
       "      <td>52386</td>\n",
       "      <td>Some-college</td>\n",
       "      <td>10</td>\n",
       "      <td>Never-married</td>\n",
       "      <td>Other-service</td>\n",
       "      <td>Not-in-family</td>\n",
       "      <td>Asian-Pac-Islander</td>\n",
       "      <td>Male</td>\n",
       "      <td>0</td>\n",
       "      <td>0</td>\n",
       "      <td>35</td>\n",
       "      <td>United-States</td>\n",
       "      <td>&lt;=50K</td>\n",
       "    </tr>\n",
       "  </tbody>\n",
       "</table>\n",
       "</div>"
      ],
      "text/plain": [
       "       age          workclass  fnlwgt      education  education-num  \\\n",
       "17673   19            Private   97261        HS-grad              9   \n",
       "18698   19            Private   97261        HS-grad              9   \n",
       "6990    19            Private  138153   Some-college             10   \n",
       "21318   19            Private  138153   Some-college             10   \n",
       "15189   19            Private  146679   Some-college             10   \n",
       "21490   19            Private  146679   Some-college             10   \n",
       "3917    19            Private  251579   Some-college             10   \n",
       "31993   19            Private  251579   Some-college             10   \n",
       "5805    20            Private  107658   Some-college             10   \n",
       "11631   20            Private  107658   Some-college             10   \n",
       "8080    21            Private  243368      Preschool              1   \n",
       "15059   21            Private  243368      Preschool              1   \n",
       "4767    21            Private  250051   Some-college             10   \n",
       "9171    21            Private  250051   Some-college             10   \n",
       "21103   23            Private  240137        5th-6th              3   \n",
       "25872   23            Private  240137        5th-6th              3   \n",
       "5842    25            Private  195994        1st-4th              2   \n",
       "13084   25            Private  195994        1st-4th              2   \n",
       "22300   25            Private  195994        1st-4th              2   \n",
       "4325    25            Private  308144      Bachelors             13   \n",
       "4881    25            Private  308144      Bachelors             13   \n",
       "5579    27            Private  255582        HS-grad              9   \n",
       "28230   27            Private  255582        HS-grad              9   \n",
       "8679    28            Private  274679        Masters             14   \n",
       "26313   28            Private  274679        Masters             14   \n",
       "16975   30            Private  144593        HS-grad              9   \n",
       "18555   30            Private  144593        HS-grad              9   \n",
       "16846   35            Private  379959        HS-grad              9   \n",
       "32404   35            Private  379959        HS-grad              9   \n",
       "4940    38            Private  207202        HS-grad              9   \n",
       "29157   38            Private  207202        HS-grad              9   \n",
       "25624   39            Private   30916        HS-grad              9   \n",
       "28846   39            Private   30916        HS-grad              9   \n",
       "10367   42            Private  204235   Some-college             10   \n",
       "28522   42            Private  204235   Some-college             10   \n",
       "17916   44            Private  367749      Bachelors             13   \n",
       "22367   44            Private  367749      Bachelors             13   \n",
       "11965   46            Private  133616   Some-college             10   \n",
       "30845   46            Private  133616   Some-college             10   \n",
       "16297   46            Private  173243        HS-grad              9   \n",
       "17040   46            Private  173243        HS-grad              9   \n",
       "7920    49            Private   31267        7th-8th              4   \n",
       "21875   49            Private   31267        7th-8th              4   \n",
       "7053    49   Self-emp-not-inc   43479   Some-college             10   \n",
       "22494   49   Self-emp-not-inc   43479   Some-college             10   \n",
       "2303    90            Private   52386   Some-college             10   \n",
       "5104    90            Private   52386   Some-college             10   \n",
       "\n",
       "            marital-status          occupation    relationship  \\\n",
       "17673        Never-married     Farming-fishing   Not-in-family   \n",
       "18698        Never-married     Farming-fishing   Not-in-family   \n",
       "6990         Never-married        Adm-clerical       Own-child   \n",
       "21318        Never-married        Adm-clerical       Own-child   \n",
       "15189        Never-married     Exec-managerial       Own-child   \n",
       "21490        Never-married     Exec-managerial       Own-child   \n",
       "3917         Never-married       Other-service       Own-child   \n",
       "31993        Never-married       Other-service       Own-child   \n",
       "5805         Never-married        Tech-support   Not-in-family   \n",
       "11631        Never-married        Tech-support   Not-in-family   \n",
       "8080         Never-married     Farming-fishing   Not-in-family   \n",
       "15059        Never-married     Farming-fishing   Not-in-family   \n",
       "4767         Never-married      Prof-specialty       Own-child   \n",
       "9171         Never-married      Prof-specialty       Own-child   \n",
       "21103        Never-married   Handlers-cleaners   Not-in-family   \n",
       "25872        Never-married   Handlers-cleaners   Not-in-family   \n",
       "5842         Never-married     Priv-house-serv   Not-in-family   \n",
       "13084        Never-married     Priv-house-serv   Not-in-family   \n",
       "22300        Never-married     Priv-house-serv   Not-in-family   \n",
       "4325         Never-married        Craft-repair   Not-in-family   \n",
       "4881         Never-married        Craft-repair   Not-in-family   \n",
       "5579         Never-married   Machine-op-inspct   Not-in-family   \n",
       "28230        Never-married   Machine-op-inspct   Not-in-family   \n",
       "8679         Never-married      Prof-specialty   Not-in-family   \n",
       "26313        Never-married      Prof-specialty   Not-in-family   \n",
       "16975        Never-married       Other-service   Not-in-family   \n",
       "18555        Never-married       Other-service   Not-in-family   \n",
       "16846             Divorced       Other-service   Not-in-family   \n",
       "32404             Divorced       Other-service   Not-in-family   \n",
       "4940    Married-civ-spouse   Machine-op-inspct         Husband   \n",
       "29157   Married-civ-spouse   Machine-op-inspct         Husband   \n",
       "25624   Married-civ-spouse        Craft-repair         Husband   \n",
       "28846   Married-civ-spouse        Craft-repair         Husband   \n",
       "10367   Married-civ-spouse      Prof-specialty         Husband   \n",
       "28522   Married-civ-spouse      Prof-specialty         Husband   \n",
       "17916        Never-married      Prof-specialty   Not-in-family   \n",
       "22367        Never-married      Prof-specialty   Not-in-family   \n",
       "11965             Divorced        Adm-clerical       Unmarried   \n",
       "30845             Divorced        Adm-clerical       Unmarried   \n",
       "16297   Married-civ-spouse        Craft-repair         Husband   \n",
       "17040   Married-civ-spouse        Craft-repair         Husband   \n",
       "7920    Married-civ-spouse        Craft-repair         Husband   \n",
       "21875   Married-civ-spouse        Craft-repair         Husband   \n",
       "7053    Married-civ-spouse        Craft-repair         Husband   \n",
       "22494   Married-civ-spouse        Craft-repair         Husband   \n",
       "2303         Never-married       Other-service   Not-in-family   \n",
       "5104         Never-married       Other-service   Not-in-family   \n",
       "\n",
       "                      race      sex  capital-gain  capital-loss  \\\n",
       "17673                White     Male             0             0   \n",
       "18698                White     Male             0             0   \n",
       "6990                 White   Female             0             0   \n",
       "21318                White   Female             0             0   \n",
       "15189                Black     Male             0             0   \n",
       "21490                Black     Male             0             0   \n",
       "3917                 White     Male             0             0   \n",
       "31993                White     Male             0             0   \n",
       "5805                 White   Female             0             0   \n",
       "11631                White   Female             0             0   \n",
       "8080                 White     Male             0             0   \n",
       "15059                White     Male             0             0   \n",
       "4767                 White   Female             0             0   \n",
       "9171                 White   Female             0             0   \n",
       "21103                White     Male             0             0   \n",
       "25872                White     Male             0             0   \n",
       "5842                 White   Female             0             0   \n",
       "13084                White   Female             0             0   \n",
       "22300                White   Female             0             0   \n",
       "4325                 White     Male             0             0   \n",
       "4881                 White     Male             0             0   \n",
       "5579                 White   Female             0             0   \n",
       "28230                White   Female             0             0   \n",
       "8679                 White     Male             0             0   \n",
       "26313                White     Male             0             0   \n",
       "16975                Black     Male             0             0   \n",
       "18555                Black     Male             0             0   \n",
       "16846                White   Female             0             0   \n",
       "32404                White   Female             0             0   \n",
       "4940                 White     Male             0             0   \n",
       "29157                White     Male             0             0   \n",
       "25624                White     Male             0             0   \n",
       "28846                White     Male             0             0   \n",
       "10367                White     Male             0             0   \n",
       "28522                White     Male             0             0   \n",
       "17916                White   Female             0             0   \n",
       "22367                White   Female             0             0   \n",
       "11965                White   Female             0             0   \n",
       "30845                White   Female             0             0   \n",
       "16297                White     Male             0             0   \n",
       "17040                White     Male             0             0   \n",
       "7920                 White     Male             0             0   \n",
       "21875                White     Male             0             0   \n",
       "7053                 White     Male             0             0   \n",
       "22494                White     Male             0             0   \n",
       "2303    Asian-Pac-Islander     Male             0             0   \n",
       "5104    Asian-Pac-Islander     Male             0             0   \n",
       "\n",
       "       hours-per-week  native-country  income  \n",
       "17673              40   United-States   <=50K  \n",
       "18698              40   United-States   <=50K  \n",
       "6990               10   United-States   <=50K  \n",
       "21318              10   United-States   <=50K  \n",
       "15189              30   United-States   <=50K  \n",
       "21490              30   United-States   <=50K  \n",
       "3917               14   United-States   <=50K  \n",
       "31993              14   United-States   <=50K  \n",
       "5805               10   United-States   <=50K  \n",
       "11631              10   United-States   <=50K  \n",
       "8080               50          Mexico   <=50K  \n",
       "15059              50          Mexico   <=50K  \n",
       "4767               10   United-States   <=50K  \n",
       "9171               10   United-States   <=50K  \n",
       "21103              55          Mexico   <=50K  \n",
       "25872              55          Mexico   <=50K  \n",
       "5842               40       Guatemala   <=50K  \n",
       "13084              40       Guatemala   <=50K  \n",
       "22300              40       Guatemala   <=50K  \n",
       "4325               40          Mexico   <=50K  \n",
       "4881               40          Mexico   <=50K  \n",
       "5579               40   United-States   <=50K  \n",
       "28230              40   United-States   <=50K  \n",
       "8679               50   United-States   <=50K  \n",
       "26313              50   United-States   <=50K  \n",
       "16975              40               ?   <=50K  \n",
       "18555              40               ?   <=50K  \n",
       "16846              40   United-States   <=50K  \n",
       "32404              40   United-States   <=50K  \n",
       "4940               48   United-States    >50K  \n",
       "29157              48   United-States    >50K  \n",
       "25624              40   United-States   <=50K  \n",
       "28846              40   United-States   <=50K  \n",
       "10367              40   United-States    >50K  \n",
       "28522              40   United-States    >50K  \n",
       "17916              45          Mexico   <=50K  \n",
       "22367              45          Mexico   <=50K  \n",
       "11965              40   United-States   <=50K  \n",
       "30845              40   United-States   <=50K  \n",
       "16297              40   United-States   <=50K  \n",
       "17040              40   United-States   <=50K  \n",
       "7920               40   United-States   <=50K  \n",
       "21875              40   United-States   <=50K  \n",
       "7053               40   United-States   <=50K  \n",
       "22494              40   United-States   <=50K  \n",
       "2303               35   United-States   <=50K  \n",
       "5104               35   United-States   <=50K  "
      ]
     },
     "execution_count": 70,
     "metadata": {},
     "output_type": "execute_result"
    }
   ],
   "source": [
    "df[df.duplicated(keep=False)].sort_values(['age', 'workclass', 'fnlwgt'])"
   ]
  },
  {
   "cell_type": "code",
   "execution_count": null,
   "metadata": {},
   "outputs": [],
   "source": [
    "(\\   .-.   .-.   .-.   .-.   .-.   .-.   .-.   .-.   /_\")\n",
    " \\\\_//^\\\\_//^\\\\_//^\\\\_//^\\\\_//^\\\\_//^\\\\_//^\\\\_//^\\\\_//\n",
    "  `\"`   `\"`   `\"`   `\"`   `\"`   `\"`   `\"`   `\"`   `\"`"
   ]
  },
  {
   "cell_type": "markdown",
   "metadata": {},
   "source": [
    "### Handling missing data"
   ]
  },
  {
   "cell_type": "markdown",
   "metadata": {},
   "source": [
    "Working with real data, it's almost impossible to have a dataset with no missing data. Missing data exist due to different reasons:\n",
    "\n",
    "- Error in recording the data (so the data actually exist but is not recorded)\n",
    "- The person/team who created the dataset wasn't/weren't able to get those specific values.\n",
    "\n",
    "Ok, let's try to identify missing data in our dataframe. Both DataFrame and Series types have **.isnull( )** and **.notnull( )** methods. First we'll try to check one column for missing data:"
   ]
  },
  {
   "cell_type": "code",
   "execution_count": 15,
   "metadata": {
    "scrolled": true
   },
   "outputs": [
    {
     "data": {
      "text/plain": [
       "0        False\n",
       "1        False\n",
       "2        False\n",
       "3        False\n",
       "4        False\n",
       "5        False\n",
       "6        False\n",
       "7        False\n",
       "8        False\n",
       "9        False\n",
       "10       False\n",
       "11       False\n",
       "12       False\n",
       "13       False\n",
       "14       False\n",
       "15       False\n",
       "16       False\n",
       "17       False\n",
       "18       False\n",
       "19       False\n",
       "20       False\n",
       "21       False\n",
       "22       False\n",
       "23       False\n",
       "24       False\n",
       "25       False\n",
       "26       False\n",
       "27       False\n",
       "28       False\n",
       "29       False\n",
       "         ...  \n",
       "32531    False\n",
       "32532    False\n",
       "32533    False\n",
       "32534    False\n",
       "32535    False\n",
       "32536    False\n",
       "32537    False\n",
       "32538    False\n",
       "32539    False\n",
       "32540    False\n",
       "32541    False\n",
       "32542    False\n",
       "32543    False\n",
       "32544    False\n",
       "32545    False\n",
       "32546    False\n",
       "32547    False\n",
       "32548    False\n",
       "32549    False\n",
       "32550    False\n",
       "32551    False\n",
       "32552    False\n",
       "32553    False\n",
       "32554    False\n",
       "32555    False\n",
       "32556    False\n",
       "32557    False\n",
       "32558    False\n",
       "32559    False\n",
       "32560    False\n",
       "Name: workclass, Length: 32561, dtype: bool"
      ]
     },
     "execution_count": 15,
     "metadata": {},
     "output_type": "execute_result"
    }
   ],
   "source": [
    "df['workclass'].isnull()"
   ]
  },
  {
   "cell_type": "markdown",
   "metadata": {},
   "source": [
    "Ok, maybe it's not what we were expecting to see! As far as we can see, the answer to ***isnull*** was **False**. But it's not a good way since a part from being too long to read, the result is truncated so we can't actually see all the values. We can apply one of two following methods to summarize the result:\n",
    "\n",
    "- summing the values\n",
    "- use built-in functions *any* and *all*"
   ]
  },
  {
   "cell_type": "code",
   "execution_count": 17,
   "metadata": {},
   "outputs": [
    {
     "data": {
      "text/plain": [
       "0"
      ]
     },
     "execution_count": 17,
     "metadata": {},
     "output_type": "execute_result"
    }
   ],
   "source": [
    "df['workclass'].isnull().sum()"
   ]
  },
  {
   "cell_type": "markdown",
   "metadata": {},
   "source": [
    " "
   ]
  },
  {
   "cell_type": "markdown",
   "metadata": {},
   "source": [
    "<img src=\"../Images/owl.svg\"   width=\"40\" align=\"left\">    "
   ]
  },
  {
   "cell_type": "markdown",
   "metadata": {},
   "source": [
    "***What happened in the cell above?***\n",
    "\n",
    "As you may remember, learning about Boolean data types we saw that Python considers True value as 1 and False values as 0. The output of cell above shows that the result of summation of all values is 0, it means not even one value is *True*."
   ]
  },
  {
   "cell_type": "code",
   "execution_count": 18,
   "metadata": {},
   "outputs": [
    {
     "data": {
      "text/plain": [
       "False"
      ]
     },
     "execution_count": 18,
     "metadata": {},
     "output_type": "execute_result"
    }
   ],
   "source": [
    "df['workclass'].isnull().any()"
   ]
  },
  {
   "cell_type": "markdown",
   "metadata": {},
   "source": [
    " "
   ]
  },
  {
   "cell_type": "markdown",
   "metadata": {},
   "source": [
    "<img src=\"../Images/owl.svg\"   width=\"40\" align=\"left\">    "
   ]
  },
  {
   "cell_type": "markdown",
   "metadata": {},
   "source": [
    "***What happened in the cell above?***\n",
    "\n",
    "**any( )** is a built-in function which applied on a sequence returns *True* if there is *at least* ONE *True* value. The output of cell above shows that no *True* was found."
   ]
  },
  {
   "cell_type": "markdown",
   "metadata": {},
   "source": [
    " "
   ]
  },
  {
   "cell_type": "markdown",
   "metadata": {},
   "source": [
    "<img src=\"../Images/baby.svg\"   width=\"30\" align=\"left\">               "
   ]
  },
  {
   "cell_type": "markdown",
   "metadata": {},
   "source": [
    "**YOUR TURN:**\n",
    "    \n",
    "Try to use **notnull( )** and **all( )** to do the same control we did above:"
   ]
  },
  {
   "cell_type": "code",
   "execution_count": null,
   "metadata": {},
   "outputs": [],
   "source": [
    "(\\   .-.   .-.   .-.   .-.   .-.   .-.   .-.   .-.   /_\")\n",
    " \\\\_//^\\\\_//^\\\\_//^\\\\_//^\\\\_//^\\\\_//^\\\\_//^\\\\_//^\\\\_//\n",
    "  `\"`   `\"`   `\"`   `\"`   `\"`   `\"`   `\"`   `\"`   `\"`"
   ]
  },
  {
   "cell_type": "markdown",
   "metadata": {},
   "source": [
    "Ok it seems **workclass** column doesn't have any missing value. Now let's check the entire dataframe and found out which columns have *null* values. As we said before, like **Series**, **DataFrames**s also have **isnull( )** and **notnull( )**."
   ]
  },
  {
   "cell_type": "code",
   "execution_count": 20,
   "metadata": {},
   "outputs": [
    {
     "data": {
      "text/plain": [
       "age               0\n",
       "workclass         0\n",
       "fnlwgt            0\n",
       "education         0\n",
       "education-num     0\n",
       "marital-status    0\n",
       "occupation        0\n",
       "relationship      0\n",
       "race              0\n",
       "sex               0\n",
       "capital-gain      0\n",
       "capital-loss      0\n",
       "hours-per-week    0\n",
       "native-country    0\n",
       "income            0\n",
       "dtype: int64"
      ]
     },
     "execution_count": 20,
     "metadata": {},
     "output_type": "execute_result"
    }
   ],
   "source": [
    "df.isnull().sum() # try to remove sum() and see the result"
   ]
  },
  {
   "cell_type": "markdown",
   "metadata": {},
   "source": [
    "Wow! it seems we don't have a single missing value in the whole dataframe! The problem is that consulting with the description file comes with the dataset, we'll find this:\n",
    "    \n",
    "**'3. Convert Unknown to \"?\"'**\n",
    "\n",
    "*(Note: you almost never find such a file in the real world!)*\n",
    "\n",
    "So, it's means we're not that lucky after all! we can confirm this by applying a **.value_counts( )** on **workclass** column:"
   ]
  },
  {
   "cell_type": "code",
   "execution_count": 21,
   "metadata": {},
   "outputs": [
    {
     "data": {
      "text/plain": [
       " Private             22696\n",
       " Self-emp-not-inc     2541\n",
       " Local-gov            2093\n",
       " ?                    1836\n",
       " State-gov            1298\n",
       " Self-emp-inc         1116\n",
       " Federal-gov           960\n",
       " Without-pay            14\n",
       " Never-worked            7\n",
       "Name: workclass, dtype: int64"
      ]
     },
     "execution_count": 21,
     "metadata": {},
     "output_type": "execute_result"
    }
   ],
   "source": [
    "df['workclass'].value_counts()"
   ]
  },
  {
   "cell_type": "markdown",
   "metadata": {},
   "source": [
    "Fantastic! we have 1836 missing values just in this column alone!\n",
    "\n",
    "While identifying missing data is almost straight forward, making decisions about them is not quite easy!\n",
    "There are different strategies to deal with missing data but there is no CORRECT answer here:\n",
    "\n",
    "- ignoring them\n",
    "- removing them\n",
    "- replace them with another value\n",
    "\n",
    "Except the first method, choosing the other two methods bring us to other choices like what exactly we should remove? the whole row? when should we do it, when at least one value is missing or more ? or what should be used to fill the missing data, average of the other values? the last present value?\n",
    "\n",
    "As you can see these choices are by no means easy to make and most of the time, any decision will dramatically affect your results. This is were a good knowledge of domain and statistics is needed.\n",
    "\n",
    "Ok, let's see how can we apply these methods to our dataframe, starting from removal of missing data:"
   ]
  },
  {
   "cell_type": "code",
   "execution_count": 27,
   "metadata": {},
   "outputs": [
    {
     "data": {
      "text/plain": [
       "0"
      ]
     },
     "execution_count": 27,
     "metadata": {},
     "output_type": "execute_result"
    }
   ],
   "source": [
    "len(df) - len(df.dropna())"
   ]
  },
  {
   "cell_type": "markdown",
   "metadata": {},
   "source": [
    " "
   ]
  },
  {
   "cell_type": "markdown",
   "metadata": {},
   "source": [
    "<img src=\"../Images/baby.svg\"   width=\"30\" align=\"left\">               "
   ]
  },
  {
   "cell_type": "markdown",
   "metadata": {},
   "source": [
    "**YOUR TURN:**\n",
    "    \n",
    "Explain the code above and its result."
   ]
  },
  {
   "cell_type": "code",
   "execution_count": null,
   "metadata": {},
   "outputs": [],
   "source": [
    "(\\   .-.   .-.   .-.   .-.   .-.   .-.   .-.   .-.   /_\")\n",
    " \\\\_//^\\\\_//^\\\\_//^\\\\_//^\\\\_//^\\\\_//^\\\\_//^\\\\_//^\\\\_//\n",
    "  `\"`   `\"`   `\"`   `\"`   `\"`   `\"`   `\"`   `\"`   `\"`"
   ]
  },
  {
   "cell_type": "markdown",
   "metadata": {},
   "source": [
    "It seems we can't go forward with missing value methods before doing a certain data transformation. Can you guess what would be this transformation? Exactly! we should replace **?** values with null values. so we're going to need:\n",
    "    \n",
    "- A method to replace a value with another one in a dataset $\\rightarrow$ **.replace( )**\n",
    "- An object that represents the null value $\\rightarrow$ **numpy.nan**"
   ]
  },
  {
   "cell_type": "code",
   "execution_count": 29,
   "metadata": {},
   "outputs": [],
   "source": [
    "df_miss = df.replace(to_replace='?', value=np.nan)"
   ]
  },
  {
   "cell_type": "markdown",
   "metadata": {},
   "source": [
    "Let's check if it worked:"
   ]
  },
  {
   "cell_type": "code",
   "execution_count": 34,
   "metadata": {},
   "outputs": [
    {
     "data": {
      "text/plain": [
       "age               0\n",
       "workclass         0\n",
       "fnlwgt            0\n",
       "education         0\n",
       "education-num     0\n",
       "marital-status    0\n",
       "occupation        0\n",
       "relationship      0\n",
       "race              0\n",
       "sex               0\n",
       "capital-gain      0\n",
       "capital-loss      0\n",
       "hours-per-week    0\n",
       "native-country    0\n",
       "income            0\n",
       "dtype: int64"
      ]
     },
     "execution_count": 34,
     "metadata": {},
     "output_type": "execute_result"
    }
   ],
   "source": [
    "df_miss.isnull().sum()"
   ]
  },
  {
   "cell_type": "markdown",
   "metadata": {},
   "source": [
    "Nope! :( but why? It seems that we should have used wasn't \"\"?\"\"...\"\"? \"\" maybe?\n",
    "\n",
    "Let's check it out:"
   ]
  },
  {
   "cell_type": "code",
   "execution_count": 35,
   "metadata": {},
   "outputs": [
    {
     "name": "stdout",
     "output_type": "stream",
     "text": [
      "_State-gov\n",
      "_Self-emp-not-inc\n",
      "_Private\n",
      "_Federal-gov\n",
      "_Local-gov\n",
      "_?\n",
      "_Self-emp-inc\n",
      "_Without-pay\n",
      "_Never-worked\n"
     ]
    }
   ],
   "source": [
    "for item in df.workclass.unique():\n",
    "    print(item.replace(' ','_'))"
   ]
  },
  {
   "cell_type": "markdown",
   "metadata": {},
   "source": [
    "Aha! So there is a space before **?**    !"
   ]
  },
  {
   "cell_type": "code",
   "execution_count": 40,
   "metadata": {},
   "outputs": [],
   "source": [
    "df_miss = df.replace(to_replace=' ?', value=np.nan)"
   ]
  },
  {
   "cell_type": "code",
   "execution_count": 41,
   "metadata": {},
   "outputs": [
    {
     "data": {
      "text/plain": [
       "age                  0\n",
       "workclass         1836\n",
       "fnlwgt               0\n",
       "education            0\n",
       "education-num        0\n",
       "marital-status       0\n",
       "occupation        1843\n",
       "relationship         0\n",
       "race                 0\n",
       "sex                  0\n",
       "capital-gain         0\n",
       "capital-loss         0\n",
       "hours-per-week       0\n",
       "native-country     583\n",
       "income               0\n",
       "dtype: int64"
      ]
     },
     "execution_count": 41,
     "metadata": {},
     "output_type": "execute_result"
    }
   ],
   "source": [
    "df_miss.isnull().sum()"
   ]
  },
  {
   "cell_type": "markdown",
   "metadata": {},
   "source": [
    "Finally! Now that we have replaced ? with **Null** values, we can apply **.dropna( )**"
   ]
  },
  {
   "cell_type": "code",
   "execution_count": 44,
   "metadata": {},
   "outputs": [
    {
     "name": "stdout",
     "output_type": "stream",
     "text": [
      "30162\n"
     ]
    }
   ],
   "source": [
    "df_drop = df_miss.dropna()\n",
    "print(len(df_drop))"
   ]
  },
  {
   "cell_type": "markdown",
   "metadata": {},
   "source": [
    "We've lost 30162 rows of dataset."
   ]
  },
  {
   "cell_type": "code",
   "execution_count": 53,
   "metadata": {},
   "outputs": [
    {
     "name": "stdout",
     "output_type": "stream",
     "text": [
      "Which is about 7.37% of data.\n"
     ]
    }
   ],
   "source": [
    "print(f'Which is about {round((len(df) - len(df_drop)) / len(df), 4) * 100}% of data.')"
   ]
  },
  {
   "cell_type": "markdown",
   "metadata": {},
   "source": [
    " "
   ]
  },
  {
   "cell_type": "markdown",
   "metadata": {},
   "source": [
    "<img src=\"../Images/wizard.svg\"   width=\"30\" align=\"left\">               "
   ]
  },
  {
   "cell_type": "markdown",
   "metadata": {},
   "source": [
    "**YOUR TURN:**\n",
    "    \n",
    "Try to understand how can you use **how**, **thresh** and  **subset** arguments of **dropna( )** method."
   ]
  },
  {
   "cell_type": "code",
   "execution_count": null,
   "metadata": {},
   "outputs": [],
   "source": [
    "(\\   .-.   .-.   .-.   .-.   .-.   .-.   .-.   .-.   /_\")\n",
    " \\\\_//^\\\\_//^\\\\_//^\\\\_//^\\\\_//^\\\\_//^\\\\_//^\\\\_//^\\\\_//\n",
    "  `\"`   `\"`   `\"`   `\"`   `\"`   `\"`   `\"`   `\"`   `\"`"
   ]
  },
  {
   "cell_type": "markdown",
   "metadata": {},
   "source": [
    "Using **.fillna( )** you can fill the the missing values with a desired value. In the next cell we fill them with a **_** character:"
   ]
  },
  {
   "cell_type": "code",
   "execution_count": 59,
   "metadata": {},
   "outputs": [],
   "source": [
    "df_dashed = df_miss.fillna('-')"
   ]
  },
  {
   "cell_type": "code",
   "execution_count": 60,
   "metadata": {},
   "outputs": [
    {
     "data": {
      "text/html": [
       "<div>\n",
       "<style scoped>\n",
       "    .dataframe tbody tr th:only-of-type {\n",
       "        vertical-align: middle;\n",
       "    }\n",
       "\n",
       "    .dataframe tbody tr th {\n",
       "        vertical-align: top;\n",
       "    }\n",
       "\n",
       "    .dataframe thead th {\n",
       "        text-align: right;\n",
       "    }\n",
       "</style>\n",
       "<table border=\"1\" class=\"dataframe\">\n",
       "  <thead>\n",
       "    <tr style=\"text-align: right;\">\n",
       "      <th></th>\n",
       "      <th>age</th>\n",
       "      <th>workclass</th>\n",
       "      <th>fnlwgt</th>\n",
       "      <th>education</th>\n",
       "      <th>education-num</th>\n",
       "      <th>marital-status</th>\n",
       "      <th>occupation</th>\n",
       "      <th>relationship</th>\n",
       "      <th>race</th>\n",
       "      <th>sex</th>\n",
       "      <th>capital-gain</th>\n",
       "      <th>capital-loss</th>\n",
       "      <th>hours-per-week</th>\n",
       "      <th>native-country</th>\n",
       "      <th>income</th>\n",
       "    </tr>\n",
       "  </thead>\n",
       "  <tbody>\n",
       "    <tr>\n",
       "      <th>6852</th>\n",
       "      <td>32</td>\n",
       "      <td>Private</td>\n",
       "      <td>604506</td>\n",
       "      <td>HS-grad</td>\n",
       "      <td>9</td>\n",
       "      <td>Married-civ-spouse</td>\n",
       "      <td>Transport-moving</td>\n",
       "      <td>Own-child</td>\n",
       "      <td>White</td>\n",
       "      <td>Male</td>\n",
       "      <td>0</td>\n",
       "      <td>0</td>\n",
       "      <td>72</td>\n",
       "      <td>Mexico</td>\n",
       "      <td>&lt;=50K</td>\n",
       "    </tr>\n",
       "    <tr>\n",
       "      <th>9124</th>\n",
       "      <td>33</td>\n",
       "      <td>Self-emp-not-inc</td>\n",
       "      <td>281030</td>\n",
       "      <td>HS-grad</td>\n",
       "      <td>9</td>\n",
       "      <td>Married-civ-spouse</td>\n",
       "      <td>Farming-fishing</td>\n",
       "      <td>Husband</td>\n",
       "      <td>White</td>\n",
       "      <td>Male</td>\n",
       "      <td>0</td>\n",
       "      <td>0</td>\n",
       "      <td>94</td>\n",
       "      <td>United-States</td>\n",
       "      <td>&lt;=50K</td>\n",
       "    </tr>\n",
       "    <tr>\n",
       "      <th>106</th>\n",
       "      <td>17</td>\n",
       "      <td>-</td>\n",
       "      <td>304873</td>\n",
       "      <td>10th</td>\n",
       "      <td>6</td>\n",
       "      <td>Never-married</td>\n",
       "      <td>-</td>\n",
       "      <td>Own-child</td>\n",
       "      <td>White</td>\n",
       "      <td>Female</td>\n",
       "      <td>34095</td>\n",
       "      <td>0</td>\n",
       "      <td>32</td>\n",
       "      <td>United-States</td>\n",
       "      <td>&lt;=50K</td>\n",
       "    </tr>\n",
       "    <tr>\n",
       "      <th>8439</th>\n",
       "      <td>37</td>\n",
       "      <td>Private</td>\n",
       "      <td>155064</td>\n",
       "      <td>Assoc-voc</td>\n",
       "      <td>11</td>\n",
       "      <td>Divorced</td>\n",
       "      <td>Prof-specialty</td>\n",
       "      <td>Unmarried</td>\n",
       "      <td>White</td>\n",
       "      <td>Female</td>\n",
       "      <td>0</td>\n",
       "      <td>0</td>\n",
       "      <td>40</td>\n",
       "      <td>United-States</td>\n",
       "      <td>&lt;=50K</td>\n",
       "    </tr>\n",
       "  </tbody>\n",
       "</table>\n",
       "</div>"
      ],
      "text/plain": [
       "      age          workclass  fnlwgt   education  education-num  \\\n",
       "6852   32            Private  604506     HS-grad              9   \n",
       "9124   33   Self-emp-not-inc  281030     HS-grad              9   \n",
       "106    17                  -  304873        10th              6   \n",
       "8439   37            Private  155064   Assoc-voc             11   \n",
       "\n",
       "           marital-status         occupation relationship    race      sex  \\\n",
       "6852   Married-civ-spouse   Transport-moving    Own-child   White     Male   \n",
       "9124   Married-civ-spouse    Farming-fishing      Husband   White     Male   \n",
       "106         Never-married                  -    Own-child   White   Female   \n",
       "8439             Divorced     Prof-specialty    Unmarried   White   Female   \n",
       "\n",
       "      capital-gain  capital-loss  hours-per-week  native-country  income  \n",
       "6852             0             0              72          Mexico   <=50K  \n",
       "9124             0             0              94   United-States   <=50K  \n",
       "106          34095             0              32   United-States   <=50K  \n",
       "8439             0             0              40   United-States   <=50K  "
      ]
     },
     "execution_count": 60,
     "metadata": {},
     "output_type": "execute_result"
    }
   ],
   "source": [
    "df_dashed.sample(4)"
   ]
  },
  {
   "cell_type": "markdown",
   "metadata": {},
   "source": [
    " "
   ]
  },
  {
   "cell_type": "markdown",
   "metadata": {},
   "source": [
    "<img src=\"../Images/wizard.svg\"   width=\"30\" align=\"left\">               "
   ]
  },
  {
   "cell_type": "markdown",
   "metadata": {},
   "source": [
    "**YOUR TURN:**\n",
    "    \n",
    "Write a function that loops through all columns with missing values and if the column data type is numerical, fills the missing data with median of the column."
   ]
  },
  {
   "cell_type": "code",
   "execution_count": null,
   "metadata": {},
   "outputs": [],
   "source": [
    "(\\   .-.   .-.   .-.   .-.   .-.   .-.   .-.   .-.   /_\")\n",
    " \\\\_//^\\\\_//^\\\\_//^\\\\_//^\\\\_//^\\\\_//^\\\\_//^\\\\_//^\\\\_//\n",
    "  `\"`   `\"`   `\"`   `\"`   `\"`   `\"`   `\"`   `\"`   `\"`"
   ]
  },
  {
   "cell_type": "markdown",
   "metadata": {},
   "source": [
    "# Intermediate and Advanced topics"
   ]
  },
  {
   "cell_type": "markdown",
   "metadata": {},
   "source": [
    "## Fstrings"
   ]
  },
  {
   "cell_type": "markdown",
   "metadata": {},
   "source": [
    "fsrting is one of the _string formatting_ methods which in my opinion, is the best and easiest one!"
   ]
  },
  {
   "cell_type": "markdown",
   "metadata": {},
   "source": [
    "Imagine that you have a template which should fill with some info and print it:"
   ]
  },
  {
   "cell_type": "code",
   "execution_count": 1,
   "metadata": {},
   "outputs": [],
   "source": [
    "name = 'Fabio'\n",
    "surname = 'Mercorio'\n",
    "university = 'Milano-Bicocca'\n",
    "field = 'computer science'"
   ]
  },
  {
   "cell_type": "markdown",
   "metadata": {},
   "source": [
    "And this is the template:\n",
    "\n",
    " \\[name\\] \\[surname\\] is a \\[filed\\] professor in the \\[university\\] university."
   ]
  },
  {
   "cell_type": "markdown",
   "metadata": {},
   "source": [
    "One (bad) way we can get what we want is this:"
   ]
  },
  {
   "cell_type": "code",
   "execution_count": 3,
   "metadata": {},
   "outputs": [
    {
     "name": "stdout",
     "output_type": "stream",
     "text": [
      "Fabio Mercorio is a computer science professor in the Milano-Bicocca unversity.\n"
     ]
    }
   ],
   "source": [
    "print(name + ' ' + surname + ' is a ' + field + ' professor in the' + ' ' + university + ' unversity.')"
   ]
  },
  {
   "cell_type": "markdown",
   "metadata": {},
   "source": [
    "using fstings we can get the desired resuts in simplere way:"
   ]
  },
  {
   "cell_type": "code",
   "execution_count": 3,
   "metadata": {},
   "outputs": [
    {
     "name": "stdout",
     "output_type": "stream",
     "text": [
      "Fabio Mercorio is a computer science professor in the Milano-Bicocca university.\n"
     ]
    }
   ],
   "source": [
    "print(f'{name} {surname} is a {field} professor in the {university} university.')"
   ]
  },
  {
   "cell_type": "markdown",
   "metadata": {},
   "source": [
    "## More pandas!"
   ]
  },
  {
   "cell_type": "markdown",
   "metadata": {},
   "source": [
    "In this section we will learn about pandas arguments which respect to what we already learned are a bit more advanced."
   ]
  },
  {
   "cell_type": "markdown",
   "metadata": {},
   "source": [
    "To start, lets start with an example. Imagine that you you have financial company which deals with three kind of orders:\n",
    "- urgent/non-urgent orders\n",
    "- orders with three types (A, B and C)\n",
    "- bank orders (3 parts)\n",
    "\n",
    "These data are collected by three different departments and inside each department there are two data collection teams. As the result, you have 6 different files which should somehow put together to get the whole company data for a certain period"
   ]
  },
  {
   "cell_type": "markdown",
   "metadata": {},
   "source": [
    "<img src=\"../Images/adv_pandas.png\"   align=\"left\">               "
   ]
  },
  {
   "cell_type": "markdown",
   "metadata": {},
   "source": [
    "First thing we should do is reading these data to dataframes:"
   ]
  },
  {
   "cell_type": "code",
   "execution_count": 20,
   "metadata": {},
   "outputs": [],
   "source": [
    "import pandas as pd\n",
    "urg_1 = pd.read_csv('urg_1.csv')\n",
    "urg_2 = pd.read_csv('urg_2.csv')\n",
    "bank_1 = pd.read_csv('bank_1.csv')\n",
    "bank_2 = pd.read_csv('bank_2.csv')\n",
    "type_1 = pd.read_csv('type_1.csv')\n",
    "type_2 = pd.read_csv('type_2.csv')"
   ]
  },
  {
   "cell_type": "markdown",
   "metadata": {},
   "source": [
    "Checking length of files shows that thy don't have the same size:"
   ]
  },
  {
   "cell_type": "code",
   "execution_count": 23,
   "metadata": {},
   "outputs": [
    {
     "name": "stdout",
     "output_type": "stream",
     "text": [
      "23\n",
      "37\n",
      "23\n",
      "37\n",
      "23\n",
      "37\n"
     ]
    }
   ],
   "source": [
    "print(len(urg_1))\n",
    "print(len(urg_2))\n",
    "print(len(bank_1))\n",
    "print(len(bank_2))\n",
    "print(len(type_1))\n",
    "print(len(type_2))"
   ]
  },
  {
   "cell_type": "markdown",
   "metadata": {},
   "source": [
    "To start, we should put together two files of each department. To do so, we can use __concat__ method"
   ]
  },
  {
   "cell_type": "markdown",
   "metadata": {},
   "source": [
    "### Concatenation"
   ]
  },
  {
   "cell_type": "code",
   "execution_count": 25,
   "metadata": {},
   "outputs": [],
   "source": [
    "urg = pd.concat([urg_1, urg_2])\n",
    "bank = pd.concat([bank_1, bank_2])\n",
    "typ = pd.concat([type_1, type_2]) # why the name is typ and not type ?"
   ]
  },
  {
   "cell_type": "markdown",
   "metadata": {},
   "source": [
    "let's make sure that all three parts have the correct length (60)"
   ]
  },
  {
   "cell_type": "code",
   "execution_count": 279,
   "metadata": {},
   "outputs": [
    {
     "name": "stdout",
     "output_type": "stream",
     "text": [
      "60\n",
      "60\n",
      "60\n"
     ]
    }
   ],
   "source": [
    "print(len(urg))\n",
    "print(len(bank))\n",
    "print(len(typ))"
   ]
  },
  {
   "cell_type": "markdown",
   "metadata": {},
   "source": [
    "Ok,at thos point we have three files for three departments.(we concatenated files along their column or _axis=0_) Now we should concatenate these three files, this time along their row or _axis=1_:"
   ]
  },
  {
   "cell_type": "code",
   "execution_count": 27,
   "metadata": {},
   "outputs": [],
   "source": [
    "# a temporary file as a result of urg + bank\n",
    "df_0 = pd.concat([urg, bank], axis=1)"
   ]
  },
  {
   "cell_type": "code",
   "execution_count": 28,
   "metadata": {},
   "outputs": [
    {
     "data": {
      "text/html": [
       "<div>\n",
       "<style scoped>\n",
       "    .dataframe tbody tr th:only-of-type {\n",
       "        vertical-align: middle;\n",
       "    }\n",
       "\n",
       "    .dataframe tbody tr th {\n",
       "        vertical-align: top;\n",
       "    }\n",
       "\n",
       "    .dataframe thead th {\n",
       "        text-align: right;\n",
       "    }\n",
       "</style>\n",
       "<table border=\"1\" class=\"dataframe\">\n",
       "  <thead>\n",
       "    <tr style=\"text-align: right;\">\n",
       "      <th></th>\n",
       "      <th>week_num</th>\n",
       "      <th>week_day</th>\n",
       "      <th>non_urgent_order</th>\n",
       "      <th>urgent_order</th>\n",
       "      <th>week_num</th>\n",
       "      <th>week_day</th>\n",
       "      <th>bank_ord_1</th>\n",
       "      <th>bank_ord_2</th>\n",
       "      <th>bank_ord_3</th>\n",
       "    </tr>\n",
       "  </thead>\n",
       "  <tbody>\n",
       "    <tr>\n",
       "      <th>0</th>\n",
       "      <td>1</td>\n",
       "      <td>3</td>\n",
       "      <td>131.067</td>\n",
       "      <td>166.649</td>\n",
       "      <td>1</td>\n",
       "      <td>3</td>\n",
       "      <td>19141</td>\n",
       "      <td>78378</td>\n",
       "      <td>73839</td>\n",
       "    </tr>\n",
       "    <tr>\n",
       "      <th>1</th>\n",
       "      <td>1</td>\n",
       "      <td>4</td>\n",
       "      <td>316.307</td>\n",
       "      <td>223.270</td>\n",
       "      <td>1</td>\n",
       "      <td>4</td>\n",
       "      <td>44914</td>\n",
       "      <td>188411</td>\n",
       "      <td>14793</td>\n",
       "    </tr>\n",
       "    <tr>\n",
       "      <th>2</th>\n",
       "      <td>1</td>\n",
       "      <td>4</td>\n",
       "      <td>130.129</td>\n",
       "      <td>98.927</td>\n",
       "      <td>1</td>\n",
       "      <td>4</td>\n",
       "      <td>9163</td>\n",
       "      <td>29874</td>\n",
       "      <td>46992</td>\n",
       "    </tr>\n",
       "    <tr>\n",
       "      <th>3</th>\n",
       "      <td>1</td>\n",
       "      <td>5</td>\n",
       "      <td>128.633</td>\n",
       "      <td>96.042</td>\n",
       "      <td>1</td>\n",
       "      <td>5</td>\n",
       "      <td>21399</td>\n",
       "      <td>89461</td>\n",
       "      <td>7679</td>\n",
       "    </tr>\n",
       "    <tr>\n",
       "      <th>4</th>\n",
       "      <td>1</td>\n",
       "      <td>5</td>\n",
       "      <td>123.286</td>\n",
       "      <td>103.551</td>\n",
       "      <td>1</td>\n",
       "      <td>5</td>\n",
       "      <td>21196</td>\n",
       "      <td>47793</td>\n",
       "      <td>47574</td>\n",
       "    </tr>\n",
       "  </tbody>\n",
       "</table>\n",
       "</div>"
      ],
      "text/plain": [
       "   week_num  week_day  non_urgent_order  urgent_order  week_num  week_day  \\\n",
       "0         1         3           131.067       166.649         1         3   \n",
       "1         1         4           316.307       223.270         1         4   \n",
       "2         1         4           130.129        98.927         1         4   \n",
       "3         1         5           128.633        96.042         1         5   \n",
       "4         1         5           123.286       103.551         1         5   \n",
       "\n",
       "   bank_ord_1  bank_ord_2  bank_ord_3  \n",
       "0       19141       78378       73839  \n",
       "1       44914      188411       14793  \n",
       "2        9163       29874       46992  \n",
       "3       21399       89461        7679  \n",
       "4       21196       47793       47574  "
      ]
     },
     "execution_count": 28,
     "metadata": {},
     "output_type": "execute_result"
    }
   ],
   "source": [
    "df_0.head()"
   ]
  },
  {
   "cell_type": "markdown",
   "metadata": {},
   "source": [
    "Have you noticed the duplicated columns __week_day__ and __week_day__ ? \n",
    "\n",
    "Let's see if we can remove them:"
   ]
  },
  {
   "cell_type": "code",
   "execution_count": 29,
   "metadata": {},
   "outputs": [],
   "source": [
    "df_0 = df_0.loc[:, ~df_0.columns.duplicated()]"
   ]
  },
  {
   "cell_type": "code",
   "execution_count": 362,
   "metadata": {},
   "outputs": [
    {
     "data": {
      "text/html": [
       "<div>\n",
       "<style scoped>\n",
       "    .dataframe tbody tr th:only-of-type {\n",
       "        vertical-align: middle;\n",
       "    }\n",
       "\n",
       "    .dataframe tbody tr th {\n",
       "        vertical-align: top;\n",
       "    }\n",
       "\n",
       "    .dataframe thead th {\n",
       "        text-align: right;\n",
       "    }\n",
       "</style>\n",
       "<table border=\"1\" class=\"dataframe\">\n",
       "  <thead>\n",
       "    <tr style=\"text-align: right;\">\n",
       "      <th></th>\n",
       "      <th>week_num</th>\n",
       "      <th>week_day</th>\n",
       "      <th>non_urgent_order</th>\n",
       "      <th>urgent_order</th>\n",
       "      <th>bank_ord_1</th>\n",
       "      <th>bank_ord_2</th>\n",
       "      <th>bank_ord_3</th>\n",
       "    </tr>\n",
       "  </thead>\n",
       "  <tbody>\n",
       "    <tr>\n",
       "      <th>0</th>\n",
       "      <td>1</td>\n",
       "      <td>3</td>\n",
       "      <td>131.067</td>\n",
       "      <td>166.649</td>\n",
       "      <td>19141</td>\n",
       "      <td>78378</td>\n",
       "      <td>73839</td>\n",
       "    </tr>\n",
       "    <tr>\n",
       "      <th>1</th>\n",
       "      <td>1</td>\n",
       "      <td>4</td>\n",
       "      <td>316.307</td>\n",
       "      <td>223.270</td>\n",
       "      <td>44914</td>\n",
       "      <td>188411</td>\n",
       "      <td>14793</td>\n",
       "    </tr>\n",
       "    <tr>\n",
       "      <th>2</th>\n",
       "      <td>1</td>\n",
       "      <td>4</td>\n",
       "      <td>130.129</td>\n",
       "      <td>98.927</td>\n",
       "      <td>9163</td>\n",
       "      <td>29874</td>\n",
       "      <td>46992</td>\n",
       "    </tr>\n",
       "    <tr>\n",
       "      <th>3</th>\n",
       "      <td>1</td>\n",
       "      <td>5</td>\n",
       "      <td>128.633</td>\n",
       "      <td>96.042</td>\n",
       "      <td>21399</td>\n",
       "      <td>89461</td>\n",
       "      <td>7679</td>\n",
       "    </tr>\n",
       "    <tr>\n",
       "      <th>4</th>\n",
       "      <td>1</td>\n",
       "      <td>5</td>\n",
       "      <td>123.286</td>\n",
       "      <td>103.551</td>\n",
       "      <td>21196</td>\n",
       "      <td>47793</td>\n",
       "      <td>47574</td>\n",
       "    </tr>\n",
       "  </tbody>\n",
       "</table>\n",
       "</div>"
      ],
      "text/plain": [
       "   week_num  week_day  non_urgent_order  urgent_order  bank_ord_1  bank_ord_2  \\\n",
       "0         1         3           131.067       166.649       19141       78378   \n",
       "1         1         4           316.307       223.270       44914      188411   \n",
       "2         1         4           130.129        98.927        9163       29874   \n",
       "3         1         5           128.633        96.042       21399       89461   \n",
       "4         1         5           123.286       103.551       21196       47793   \n",
       "\n",
       "   bank_ord_3  \n",
       "0       73839  \n",
       "1       14793  \n",
       "2       46992  \n",
       "3        7679  \n",
       "4       47574  "
      ]
     },
     "execution_count": 362,
     "metadata": {},
     "output_type": "execute_result"
    }
   ],
   "source": [
    "df_0.head()"
   ]
  },
  {
   "cell_type": "markdown",
   "metadata": {},
   "source": [
    "<img src=\"../Images/student.svg\"   width=\"30\" align=\"left\">               "
   ]
  },
  {
   "cell_type": "markdown",
   "metadata": {},
   "source": [
    "**YOUR TURN:**\n",
    "    \n",
    "Explain what happened in the last cell."
   ]
  },
  {
   "cell_type": "markdown",
   "metadata": {},
   "source": [
    " "
   ]
  },
  {
   "cell_type": "markdown",
   "metadata": {},
   "source": [
    "Now we can concatenate the last part and we are finished!"
   ]
  },
  {
   "cell_type": "code",
   "execution_count": 31,
   "metadata": {},
   "outputs": [],
   "source": [
    "df = pd.concat([df_0, typ], axis=1)\n",
    "df = df.loc[:, ~df.columns.duplicated()]"
   ]
  },
  {
   "cell_type": "code",
   "execution_count": 32,
   "metadata": {},
   "outputs": [
    {
     "name": "stdout",
     "output_type": "stream",
     "text": [
      "<class 'pandas.core.frame.DataFrame'>\n",
      "Int64Index: 60 entries, 0 to 36\n",
      "Data columns (total 10 columns):\n",
      "week_num            60 non-null int64\n",
      "week_day            60 non-null int64\n",
      "non_urgent_order    60 non-null float64\n",
      "urgent_order        60 non-null float64\n",
      "bank_ord_1          60 non-null int64\n",
      "bank_ord_2          60 non-null int64\n",
      "bank_ord_3          60 non-null int64\n",
      "order_A             60 non-null float64\n",
      "order_B             60 non-null float64\n",
      "order_C             60 non-null float64\n",
      "dtypes: float64(5), int64(5)\n",
      "memory usage: 5.2 KB\n"
     ]
    }
   ],
   "source": [
    "df.info()"
   ]
  },
  {
   "cell_type": "code",
   "execution_count": 33,
   "metadata": {},
   "outputs": [
    {
     "data": {
      "text/html": [
       "<div>\n",
       "<style scoped>\n",
       "    .dataframe tbody tr th:only-of-type {\n",
       "        vertical-align: middle;\n",
       "    }\n",
       "\n",
       "    .dataframe tbody tr th {\n",
       "        vertical-align: top;\n",
       "    }\n",
       "\n",
       "    .dataframe thead th {\n",
       "        text-align: right;\n",
       "    }\n",
       "</style>\n",
       "<table border=\"1\" class=\"dataframe\">\n",
       "  <thead>\n",
       "    <tr style=\"text-align: right;\">\n",
       "      <th></th>\n",
       "      <th>week_num</th>\n",
       "      <th>week_day</th>\n",
       "      <th>non_urgent_order</th>\n",
       "      <th>urgent_order</th>\n",
       "      <th>bank_ord_1</th>\n",
       "      <th>bank_ord_2</th>\n",
       "      <th>bank_ord_3</th>\n",
       "      <th>order_A</th>\n",
       "      <th>order_B</th>\n",
       "      <th>order_C</th>\n",
       "    </tr>\n",
       "  </thead>\n",
       "  <tbody>\n",
       "    <tr>\n",
       "      <th>0</th>\n",
       "      <td>1</td>\n",
       "      <td>3</td>\n",
       "      <td>131.067</td>\n",
       "      <td>166.649</td>\n",
       "      <td>19141</td>\n",
       "      <td>78378</td>\n",
       "      <td>73839</td>\n",
       "      <td>90.476</td>\n",
       "      <td>80.509</td>\n",
       "      <td>127.575</td>\n",
       "    </tr>\n",
       "    <tr>\n",
       "      <th>1</th>\n",
       "      <td>1</td>\n",
       "      <td>4</td>\n",
       "      <td>316.307</td>\n",
       "      <td>223.270</td>\n",
       "      <td>44914</td>\n",
       "      <td>188411</td>\n",
       "      <td>14793</td>\n",
       "      <td>61.543</td>\n",
       "      <td>175.586</td>\n",
       "      <td>302.448</td>\n",
       "    </tr>\n",
       "    <tr>\n",
       "      <th>2</th>\n",
       "      <td>1</td>\n",
       "      <td>4</td>\n",
       "      <td>130.129</td>\n",
       "      <td>98.927</td>\n",
       "      <td>9163</td>\n",
       "      <td>29874</td>\n",
       "      <td>46992</td>\n",
       "      <td>42.904</td>\n",
       "      <td>43.962</td>\n",
       "      <td>142.383</td>\n",
       "    </tr>\n",
       "    <tr>\n",
       "      <th>3</th>\n",
       "      <td>1</td>\n",
       "      <td>5</td>\n",
       "      <td>128.633</td>\n",
       "      <td>96.042</td>\n",
       "      <td>21399</td>\n",
       "      <td>89461</td>\n",
       "      <td>7679</td>\n",
       "      <td>38.058</td>\n",
       "      <td>56.037</td>\n",
       "      <td>130.580</td>\n",
       "    </tr>\n",
       "  </tbody>\n",
       "</table>\n",
       "</div>"
      ],
      "text/plain": [
       "   week_num  week_day  non_urgent_order  urgent_order  bank_ord_1  bank_ord_2  \\\n",
       "0         1         3           131.067       166.649       19141       78378   \n",
       "1         1         4           316.307       223.270       44914      188411   \n",
       "2         1         4           130.129        98.927        9163       29874   \n",
       "3         1         5           128.633        96.042       21399       89461   \n",
       "\n",
       "   bank_ord_3  order_A  order_B  order_C  \n",
       "0       73839   90.476   80.509  127.575  \n",
       "1       14793   61.543  175.586  302.448  \n",
       "2       46992   42.904   43.962  142.383  \n",
       "3        7679   38.058   56.037  130.580  "
      ]
     },
     "execution_count": 33,
     "metadata": {},
     "output_type": "execute_result"
    }
   ],
   "source": [
    "df.head(4)"
   ]
  },
  {
   "cell_type": "markdown",
   "metadata": {},
   "source": [
    "### Changing data types"
   ]
  },
  {
   "cell_type": "markdown",
   "metadata": {},
   "source": [
    "Now imagine that you are informed that the teams responsible for collecting __order_A__, __order_B__ and __order_C__ have recorder the values as *float* numbers while they should have be recorded as *integers*. To change data type in pandas we have different approaches to choose from. We will see two of them:"
   ]
  },
  {
   "cell_type": "markdown",
   "metadata": {},
   "source": [
    "__Method 1__"
   ]
  },
  {
   "cell_type": "code",
   "execution_count": 34,
   "metadata": {},
   "outputs": [],
   "source": [
    "df['non_urgent_order'] = df['non_urgent_order'].astype(int)"
   ]
  },
  {
   "cell_type": "code",
   "execution_count": 35,
   "metadata": {},
   "outputs": [
    {
     "data": {
      "text/html": [
       "<div>\n",
       "<style scoped>\n",
       "    .dataframe tbody tr th:only-of-type {\n",
       "        vertical-align: middle;\n",
       "    }\n",
       "\n",
       "    .dataframe tbody tr th {\n",
       "        vertical-align: top;\n",
       "    }\n",
       "\n",
       "    .dataframe thead th {\n",
       "        text-align: right;\n",
       "    }\n",
       "</style>\n",
       "<table border=\"1\" class=\"dataframe\">\n",
       "  <thead>\n",
       "    <tr style=\"text-align: right;\">\n",
       "      <th></th>\n",
       "      <th>week_num</th>\n",
       "      <th>week_day</th>\n",
       "      <th>non_urgent_order</th>\n",
       "      <th>urgent_order</th>\n",
       "      <th>bank_ord_1</th>\n",
       "      <th>bank_ord_2</th>\n",
       "      <th>bank_ord_3</th>\n",
       "      <th>order_A</th>\n",
       "      <th>order_B</th>\n",
       "      <th>order_C</th>\n",
       "    </tr>\n",
       "  </thead>\n",
       "  <tbody>\n",
       "    <tr>\n",
       "      <th>0</th>\n",
       "      <td>1</td>\n",
       "      <td>3</td>\n",
       "      <td>131</td>\n",
       "      <td>166.649</td>\n",
       "      <td>19141</td>\n",
       "      <td>78378</td>\n",
       "      <td>73839</td>\n",
       "      <td>90.476</td>\n",
       "      <td>80.509</td>\n",
       "      <td>127.575</td>\n",
       "    </tr>\n",
       "    <tr>\n",
       "      <th>1</th>\n",
       "      <td>1</td>\n",
       "      <td>4</td>\n",
       "      <td>316</td>\n",
       "      <td>223.270</td>\n",
       "      <td>44914</td>\n",
       "      <td>188411</td>\n",
       "      <td>14793</td>\n",
       "      <td>61.543</td>\n",
       "      <td>175.586</td>\n",
       "      <td>302.448</td>\n",
       "    </tr>\n",
       "    <tr>\n",
       "      <th>2</th>\n",
       "      <td>1</td>\n",
       "      <td>4</td>\n",
       "      <td>130</td>\n",
       "      <td>98.927</td>\n",
       "      <td>9163</td>\n",
       "      <td>29874</td>\n",
       "      <td>46992</td>\n",
       "      <td>42.904</td>\n",
       "      <td>43.962</td>\n",
       "      <td>142.383</td>\n",
       "    </tr>\n",
       "    <tr>\n",
       "      <th>3</th>\n",
       "      <td>1</td>\n",
       "      <td>5</td>\n",
       "      <td>128</td>\n",
       "      <td>96.042</td>\n",
       "      <td>21399</td>\n",
       "      <td>89461</td>\n",
       "      <td>7679</td>\n",
       "      <td>38.058</td>\n",
       "      <td>56.037</td>\n",
       "      <td>130.580</td>\n",
       "    </tr>\n",
       "    <tr>\n",
       "      <th>4</th>\n",
       "      <td>1</td>\n",
       "      <td>5</td>\n",
       "      <td>123</td>\n",
       "      <td>103.551</td>\n",
       "      <td>21196</td>\n",
       "      <td>47793</td>\n",
       "      <td>47574</td>\n",
       "      <td>47.331</td>\n",
       "      <td>72.444</td>\n",
       "      <td>116.529</td>\n",
       "    </tr>\n",
       "  </tbody>\n",
       "</table>\n",
       "</div>"
      ],
      "text/plain": [
       "   week_num  week_day  non_urgent_order  urgent_order  bank_ord_1  bank_ord_2  \\\n",
       "0         1         3               131       166.649       19141       78378   \n",
       "1         1         4               316       223.270       44914      188411   \n",
       "2         1         4               130        98.927        9163       29874   \n",
       "3         1         5               128        96.042       21399       89461   \n",
       "4         1         5               123       103.551       21196       47793   \n",
       "\n",
       "   bank_ord_3  order_A  order_B  order_C  \n",
       "0       73839   90.476   80.509  127.575  \n",
       "1       14793   61.543  175.586  302.448  \n",
       "2       46992   42.904   43.962  142.383  \n",
       "3        7679   38.058   56.037  130.580  \n",
       "4       47574   47.331   72.444  116.529  "
      ]
     },
     "execution_count": 35,
     "metadata": {},
     "output_type": "execute_result"
    }
   ],
   "source": [
    "df.head()"
   ]
  },
  {
   "cell_type": "markdown",
   "metadata": {},
   "source": [
    "__Method 2__"
   ]
  },
  {
   "cell_type": "code",
   "execution_count": 36,
   "metadata": {},
   "outputs": [],
   "source": [
    "df['urgent_order'] = df['urgent_order'].apply(lambda x : int(x)) "
   ]
  },
  {
   "cell_type": "code",
   "execution_count": 37,
   "metadata": {},
   "outputs": [
    {
     "data": {
      "text/html": [
       "<div>\n",
       "<style scoped>\n",
       "    .dataframe tbody tr th:only-of-type {\n",
       "        vertical-align: middle;\n",
       "    }\n",
       "\n",
       "    .dataframe tbody tr th {\n",
       "        vertical-align: top;\n",
       "    }\n",
       "\n",
       "    .dataframe thead th {\n",
       "        text-align: right;\n",
       "    }\n",
       "</style>\n",
       "<table border=\"1\" class=\"dataframe\">\n",
       "  <thead>\n",
       "    <tr style=\"text-align: right;\">\n",
       "      <th></th>\n",
       "      <th>week_num</th>\n",
       "      <th>week_day</th>\n",
       "      <th>non_urgent_order</th>\n",
       "      <th>urgent_order</th>\n",
       "      <th>bank_ord_1</th>\n",
       "      <th>bank_ord_2</th>\n",
       "      <th>bank_ord_3</th>\n",
       "      <th>order_A</th>\n",
       "      <th>order_B</th>\n",
       "      <th>order_C</th>\n",
       "    </tr>\n",
       "  </thead>\n",
       "  <tbody>\n",
       "    <tr>\n",
       "      <th>0</th>\n",
       "      <td>1</td>\n",
       "      <td>3</td>\n",
       "      <td>131</td>\n",
       "      <td>166</td>\n",
       "      <td>19141</td>\n",
       "      <td>78378</td>\n",
       "      <td>73839</td>\n",
       "      <td>90.476</td>\n",
       "      <td>80.509</td>\n",
       "      <td>127.575</td>\n",
       "    </tr>\n",
       "    <tr>\n",
       "      <th>1</th>\n",
       "      <td>1</td>\n",
       "      <td>4</td>\n",
       "      <td>316</td>\n",
       "      <td>223</td>\n",
       "      <td>44914</td>\n",
       "      <td>188411</td>\n",
       "      <td>14793</td>\n",
       "      <td>61.543</td>\n",
       "      <td>175.586</td>\n",
       "      <td>302.448</td>\n",
       "    </tr>\n",
       "    <tr>\n",
       "      <th>2</th>\n",
       "      <td>1</td>\n",
       "      <td>4</td>\n",
       "      <td>130</td>\n",
       "      <td>98</td>\n",
       "      <td>9163</td>\n",
       "      <td>29874</td>\n",
       "      <td>46992</td>\n",
       "      <td>42.904</td>\n",
       "      <td>43.962</td>\n",
       "      <td>142.383</td>\n",
       "    </tr>\n",
       "    <tr>\n",
       "      <th>3</th>\n",
       "      <td>1</td>\n",
       "      <td>5</td>\n",
       "      <td>128</td>\n",
       "      <td>96</td>\n",
       "      <td>21399</td>\n",
       "      <td>89461</td>\n",
       "      <td>7679</td>\n",
       "      <td>38.058</td>\n",
       "      <td>56.037</td>\n",
       "      <td>130.580</td>\n",
       "    </tr>\n",
       "    <tr>\n",
       "      <th>4</th>\n",
       "      <td>1</td>\n",
       "      <td>5</td>\n",
       "      <td>123</td>\n",
       "      <td>103</td>\n",
       "      <td>21196</td>\n",
       "      <td>47793</td>\n",
       "      <td>47574</td>\n",
       "      <td>47.331</td>\n",
       "      <td>72.444</td>\n",
       "      <td>116.529</td>\n",
       "    </tr>\n",
       "  </tbody>\n",
       "</table>\n",
       "</div>"
      ],
      "text/plain": [
       "   week_num  week_day  non_urgent_order  urgent_order  bank_ord_1  bank_ord_2  \\\n",
       "0         1         3               131           166       19141       78378   \n",
       "1         1         4               316           223       44914      188411   \n",
       "2         1         4               130            98        9163       29874   \n",
       "3         1         5               128            96       21399       89461   \n",
       "4         1         5               123           103       21196       47793   \n",
       "\n",
       "   bank_ord_3  order_A  order_B  order_C  \n",
       "0       73839   90.476   80.509  127.575  \n",
       "1       14793   61.543  175.586  302.448  \n",
       "2       46992   42.904   43.962  142.383  \n",
       "3        7679   38.058   56.037  130.580  \n",
       "4       47574   47.331   72.444  116.529  "
      ]
     },
     "execution_count": 37,
     "metadata": {},
     "output_type": "execute_result"
    }
   ],
   "source": [
    "df.head()"
   ]
  },
  {
   "cell_type": "markdown",
   "metadata": {},
   "source": [
    "<img src=\"../Images/wizard.svg\"   width=\"30\" align=\"left\">               "
   ]
  },
  {
   "cell_type": "markdown",
   "metadata": {},
   "source": [
    "**YOUR TURN:**\n",
    "    \n",
    "Use a *for loop* to round  the **order_X** columns to one digit."
   ]
  },
  {
   "cell_type": "code",
   "execution_count": 235,
   "metadata": {},
   "outputs": [],
   "source": [
    "cols = ['order_A', 'order_B', 'order_C']\n",
    "for col in cols:\n",
    "    df[col] = df[col].apply(lambda x : round(x, 1)) "
   ]
  },
  {
   "cell_type": "markdown",
   "metadata": {},
   "source": [
    "The above code works perfectly but is it the best way to do the task? the answer is no! we can use it because we have just three columns in this example. What if we are dealing with 30, 300 or more? The following code is a better version which uses a pattern to get the desired columns."
   ]
  },
  {
   "cell_type": "code",
   "execution_count": 46,
   "metadata": {},
   "outputs": [],
   "source": [
    "for col in df.columns:\n",
    "    if 'order_' in col:\n",
    "        df[col] = df[col].apply(lambda x : round(x, 1)) "
   ]
  },
  {
   "cell_type": "code",
   "execution_count": 47,
   "metadata": {},
   "outputs": [
    {
     "data": {
      "text/html": [
       "<div>\n",
       "<style scoped>\n",
       "    .dataframe tbody tr th:only-of-type {\n",
       "        vertical-align: middle;\n",
       "    }\n",
       "\n",
       "    .dataframe tbody tr th {\n",
       "        vertical-align: top;\n",
       "    }\n",
       "\n",
       "    .dataframe thead th {\n",
       "        text-align: right;\n",
       "    }\n",
       "</style>\n",
       "<table border=\"1\" class=\"dataframe\">\n",
       "  <thead>\n",
       "    <tr style=\"text-align: right;\">\n",
       "      <th></th>\n",
       "      <th>week_num</th>\n",
       "      <th>week_day</th>\n",
       "      <th>non_urgent_order</th>\n",
       "      <th>urgent_order</th>\n",
       "      <th>bank_ord_1</th>\n",
       "      <th>bank_ord_2</th>\n",
       "      <th>bank_ord_3</th>\n",
       "      <th>order_A</th>\n",
       "      <th>order_B</th>\n",
       "      <th>order_C</th>\n",
       "    </tr>\n",
       "  </thead>\n",
       "  <tbody>\n",
       "    <tr>\n",
       "      <th>0</th>\n",
       "      <td>1</td>\n",
       "      <td>3</td>\n",
       "      <td>131</td>\n",
       "      <td>166</td>\n",
       "      <td>19141</td>\n",
       "      <td>78378</td>\n",
       "      <td>73839</td>\n",
       "      <td>90.5</td>\n",
       "      <td>80.5</td>\n",
       "      <td>127.6</td>\n",
       "    </tr>\n",
       "    <tr>\n",
       "      <th>1</th>\n",
       "      <td>1</td>\n",
       "      <td>4</td>\n",
       "      <td>316</td>\n",
       "      <td>223</td>\n",
       "      <td>44914</td>\n",
       "      <td>188411</td>\n",
       "      <td>14793</td>\n",
       "      <td>61.5</td>\n",
       "      <td>175.6</td>\n",
       "      <td>302.4</td>\n",
       "    </tr>\n",
       "    <tr>\n",
       "      <th>2</th>\n",
       "      <td>1</td>\n",
       "      <td>4</td>\n",
       "      <td>130</td>\n",
       "      <td>98</td>\n",
       "      <td>9163</td>\n",
       "      <td>29874</td>\n",
       "      <td>46992</td>\n",
       "      <td>42.9</td>\n",
       "      <td>44.0</td>\n",
       "      <td>142.4</td>\n",
       "    </tr>\n",
       "    <tr>\n",
       "      <th>3</th>\n",
       "      <td>1</td>\n",
       "      <td>5</td>\n",
       "      <td>128</td>\n",
       "      <td>96</td>\n",
       "      <td>21399</td>\n",
       "      <td>89461</td>\n",
       "      <td>7679</td>\n",
       "      <td>38.1</td>\n",
       "      <td>56.0</td>\n",
       "      <td>130.6</td>\n",
       "    </tr>\n",
       "    <tr>\n",
       "      <th>4</th>\n",
       "      <td>1</td>\n",
       "      <td>5</td>\n",
       "      <td>123</td>\n",
       "      <td>103</td>\n",
       "      <td>21196</td>\n",
       "      <td>47793</td>\n",
       "      <td>47574</td>\n",
       "      <td>47.3</td>\n",
       "      <td>72.4</td>\n",
       "      <td>116.5</td>\n",
       "    </tr>\n",
       "    <tr>\n",
       "      <th>5</th>\n",
       "      <td>1</td>\n",
       "      <td>6</td>\n",
       "      <td>43</td>\n",
       "      <td>84</td>\n",
       "      <td>3452</td>\n",
       "      <td>21305</td>\n",
       "      <td>14947</td>\n",
       "      <td>21.8</td>\n",
       "      <td>25.1</td>\n",
       "      <td>82.5</td>\n",
       "    </tr>\n",
       "  </tbody>\n",
       "</table>\n",
       "</div>"
      ],
      "text/plain": [
       "   week_num  week_day  non_urgent_order  urgent_order  bank_ord_1  bank_ord_2  \\\n",
       "0         1         3               131           166       19141       78378   \n",
       "1         1         4               316           223       44914      188411   \n",
       "2         1         4               130            98        9163       29874   \n",
       "3         1         5               128            96       21399       89461   \n",
       "4         1         5               123           103       21196       47793   \n",
       "5         1         6                43            84        3452       21305   \n",
       "\n",
       "   bank_ord_3  order_A  order_B  order_C  \n",
       "0       73839     90.5     80.5    127.6  \n",
       "1       14793     61.5    175.6    302.4  \n",
       "2       46992     42.9     44.0    142.4  \n",
       "3        7679     38.1     56.0    130.6  \n",
       "4       47574     47.3     72.4    116.5  \n",
       "5       14947     21.8     25.1     82.5  "
      ]
     },
     "execution_count": 47,
     "metadata": {},
     "output_type": "execute_result"
    }
   ],
   "source": [
    "df.head(6)"
   ]
  },
  {
   "cell_type": "markdown",
   "metadata": {},
   "source": [
    "In lots of cases, we need to perform some kind of aggregation to our data. For example, let' see how can we get the sum of values for each week :\n"
   ]
  },
  {
   "cell_type": "markdown",
   "metadata": {},
   "source": [
    "### Group by"
   ]
  },
  {
   "cell_type": "code",
   "execution_count": 54,
   "metadata": {},
   "outputs": [
    {
     "data": {
      "text/html": [
       "<div>\n",
       "<style scoped>\n",
       "    .dataframe tbody tr th:only-of-type {\n",
       "        vertical-align: middle;\n",
       "    }\n",
       "\n",
       "    .dataframe tbody tr th {\n",
       "        vertical-align: top;\n",
       "    }\n",
       "\n",
       "    .dataframe thead th {\n",
       "        text-align: right;\n",
       "    }\n",
       "</style>\n",
       "<table border=\"1\" class=\"dataframe\">\n",
       "  <thead>\n",
       "    <tr style=\"text-align: right;\">\n",
       "      <th></th>\n",
       "      <th>week_num</th>\n",
       "      <th>week_day</th>\n",
       "      <th>non_urgent_order</th>\n",
       "      <th>urgent_order</th>\n",
       "      <th>bank_ord_1</th>\n",
       "      <th>bank_ord_2</th>\n",
       "      <th>bank_ord_3</th>\n",
       "      <th>order_A</th>\n",
       "      <th>order_B</th>\n",
       "      <th>order_C</th>\n",
       "    </tr>\n",
       "  </thead>\n",
       "  <tbody>\n",
       "    <tr>\n",
       "      <th>0</th>\n",
       "      <td>1</td>\n",
       "      <td>3</td>\n",
       "      <td>131</td>\n",
       "      <td>166</td>\n",
       "      <td>19141</td>\n",
       "      <td>78378</td>\n",
       "      <td>73839</td>\n",
       "      <td>90.5</td>\n",
       "      <td>80.5</td>\n",
       "      <td>127.6</td>\n",
       "    </tr>\n",
       "    <tr>\n",
       "      <th>1</th>\n",
       "      <td>1</td>\n",
       "      <td>4</td>\n",
       "      <td>316</td>\n",
       "      <td>223</td>\n",
       "      <td>44914</td>\n",
       "      <td>188411</td>\n",
       "      <td>14793</td>\n",
       "      <td>61.5</td>\n",
       "      <td>175.6</td>\n",
       "      <td>302.4</td>\n",
       "    </tr>\n",
       "    <tr>\n",
       "      <th>2</th>\n",
       "      <td>1</td>\n",
       "      <td>4</td>\n",
       "      <td>130</td>\n",
       "      <td>98</td>\n",
       "      <td>9163</td>\n",
       "      <td>29874</td>\n",
       "      <td>46992</td>\n",
       "      <td>42.9</td>\n",
       "      <td>44.0</td>\n",
       "      <td>142.4</td>\n",
       "    </tr>\n",
       "    <tr>\n",
       "      <th>3</th>\n",
       "      <td>1</td>\n",
       "      <td>5</td>\n",
       "      <td>128</td>\n",
       "      <td>96</td>\n",
       "      <td>21399</td>\n",
       "      <td>89461</td>\n",
       "      <td>7679</td>\n",
       "      <td>38.1</td>\n",
       "      <td>56.0</td>\n",
       "      <td>130.6</td>\n",
       "    </tr>\n",
       "    <tr>\n",
       "      <th>4</th>\n",
       "      <td>1</td>\n",
       "      <td>5</td>\n",
       "      <td>123</td>\n",
       "      <td>103</td>\n",
       "      <td>21196</td>\n",
       "      <td>47793</td>\n",
       "      <td>47574</td>\n",
       "      <td>47.3</td>\n",
       "      <td>72.4</td>\n",
       "      <td>116.5</td>\n",
       "    </tr>\n",
       "  </tbody>\n",
       "</table>\n",
       "</div>"
      ],
      "text/plain": [
       "   week_num  week_day  non_urgent_order  urgent_order  bank_ord_1  bank_ord_2  \\\n",
       "0         1         3               131           166       19141       78378   \n",
       "1         1         4               316           223       44914      188411   \n",
       "2         1         4               130            98        9163       29874   \n",
       "3         1         5               128            96       21399       89461   \n",
       "4         1         5               123           103       21196       47793   \n",
       "\n",
       "   bank_ord_3  order_A  order_B  order_C  \n",
       "0       73839     90.5     80.5    127.6  \n",
       "1       14793     61.5    175.6    302.4  \n",
       "2       46992     42.9     44.0    142.4  \n",
       "3        7679     38.1     56.0    130.6  \n",
       "4       47574     47.3     72.4    116.5  "
      ]
     },
     "execution_count": 54,
     "metadata": {},
     "output_type": "execute_result"
    }
   ],
   "source": [
    "df.head()"
   ]
  },
  {
   "cell_type": "code",
   "execution_count": 55,
   "metadata": {},
   "outputs": [
    {
     "data": {
      "text/html": [
       "<div>\n",
       "<style scoped>\n",
       "    .dataframe tbody tr th:only-of-type {\n",
       "        vertical-align: middle;\n",
       "    }\n",
       "\n",
       "    .dataframe tbody tr th {\n",
       "        vertical-align: top;\n",
       "    }\n",
       "\n",
       "    .dataframe thead th {\n",
       "        text-align: right;\n",
       "    }\n",
       "</style>\n",
       "<table border=\"1\" class=\"dataframe\">\n",
       "  <thead>\n",
       "    <tr style=\"text-align: right;\">\n",
       "      <th></th>\n",
       "      <th>week_day</th>\n",
       "      <th>non_urgent_order</th>\n",
       "      <th>urgent_order</th>\n",
       "      <th>bank_ord_1</th>\n",
       "      <th>bank_ord_2</th>\n",
       "      <th>bank_ord_3</th>\n",
       "      <th>order_A</th>\n",
       "      <th>order_B</th>\n",
       "      <th>order_C</th>\n",
       "    </tr>\n",
       "    <tr>\n",
       "      <th>week_num</th>\n",
       "      <th></th>\n",
       "      <th></th>\n",
       "      <th></th>\n",
       "      <th></th>\n",
       "      <th></th>\n",
       "      <th></th>\n",
       "      <th></th>\n",
       "      <th></th>\n",
       "      <th></th>\n",
       "    </tr>\n",
       "  </thead>\n",
       "  <tbody>\n",
       "    <tr>\n",
       "      <th>1</th>\n",
       "      <td>39</td>\n",
       "      <td>1336</td>\n",
       "      <td>978</td>\n",
       "      <td>294599</td>\n",
       "      <td>633301</td>\n",
       "      <td>250942</td>\n",
       "      <td>444.1</td>\n",
       "      <td>712.2</td>\n",
       "      <td>1215.5</td>\n",
       "    </tr>\n",
       "    <tr>\n",
       "      <th>2</th>\n",
       "      <td>60</td>\n",
       "      <td>2213</td>\n",
       "      <td>1654</td>\n",
       "      <td>453997</td>\n",
       "      <td>990806</td>\n",
       "      <td>326422</td>\n",
       "      <td>686.9</td>\n",
       "      <td>1274.7</td>\n",
       "      <td>2025.0</td>\n",
       "    </tr>\n",
       "    <tr>\n",
       "      <th>3</th>\n",
       "      <td>54</td>\n",
       "      <td>2366</td>\n",
       "      <td>1656</td>\n",
       "      <td>449875</td>\n",
       "      <td>1179153</td>\n",
       "      <td>296042</td>\n",
       "      <td>635.5</td>\n",
       "      <td>1769.4</td>\n",
       "      <td>1941.9</td>\n",
       "    </tr>\n",
       "    <tr>\n",
       "      <th>4</th>\n",
       "      <td>58</td>\n",
       "      <td>2485</td>\n",
       "      <td>1666</td>\n",
       "      <td>768157</td>\n",
       "      <td>1134189</td>\n",
       "      <td>331730</td>\n",
       "      <td>728.8</td>\n",
       "      <td>1586.2</td>\n",
       "      <td>1913.4</td>\n",
       "    </tr>\n",
       "    <tr>\n",
       "      <th>5</th>\n",
       "      <td>31</td>\n",
       "      <td>1924</td>\n",
       "      <td>1154</td>\n",
       "      <td>831822</td>\n",
       "      <td>826640</td>\n",
       "      <td>181742</td>\n",
       "      <td>631.6</td>\n",
       "      <td>1211.3</td>\n",
       "      <td>1275.8</td>\n",
       "    </tr>\n",
       "  </tbody>\n",
       "</table>\n",
       "</div>"
      ],
      "text/plain": [
       "          week_day  non_urgent_order  urgent_order  bank_ord_1  bank_ord_2  \\\n",
       "week_num                                                                     \n",
       "1               39              1336           978      294599      633301   \n",
       "2               60              2213          1654      453997      990806   \n",
       "3               54              2366          1656      449875     1179153   \n",
       "4               58              2485          1666      768157     1134189   \n",
       "5               31              1924          1154      831822      826640   \n",
       "\n",
       "          bank_ord_3  order_A  order_B  order_C  \n",
       "week_num                                         \n",
       "1             250942    444.1    712.2   1215.5  \n",
       "2             326422    686.9   1274.7   2025.0  \n",
       "3             296042    635.5   1769.4   1941.9  \n",
       "4             331730    728.8   1586.2   1913.4  \n",
       "5             181742    631.6   1211.3   1275.8  "
      ]
     },
     "execution_count": 55,
     "metadata": {},
     "output_type": "execute_result"
    }
   ],
   "source": [
    "df.groupby(['week_num']).sum()"
   ]
  },
  {
   "cell_type": "markdown",
   "metadata": {},
   "source": [
    "We got what we wanted but we also got something that doesn't make sense! \n",
    "\n",
    "Can you spot it? yes! it's __week_day__!\n",
    "\n",
    "Let's see if we can remove it using a list comprehension:"
   ]
  },
  {
   "cell_type": "code",
   "execution_count": 56,
   "metadata": {},
   "outputs": [
    {
     "data": {
      "text/html": [
       "<div>\n",
       "<style scoped>\n",
       "    .dataframe tbody tr th:only-of-type {\n",
       "        vertical-align: middle;\n",
       "    }\n",
       "\n",
       "    .dataframe tbody tr th {\n",
       "        vertical-align: top;\n",
       "    }\n",
       "\n",
       "    .dataframe thead th {\n",
       "        text-align: right;\n",
       "    }\n",
       "</style>\n",
       "<table border=\"1\" class=\"dataframe\">\n",
       "  <thead>\n",
       "    <tr style=\"text-align: right;\">\n",
       "      <th></th>\n",
       "      <th>non_urgent_order</th>\n",
       "      <th>urgent_order</th>\n",
       "      <th>bank_ord_1</th>\n",
       "      <th>bank_ord_2</th>\n",
       "      <th>bank_ord_3</th>\n",
       "      <th>order_A</th>\n",
       "      <th>order_B</th>\n",
       "      <th>order_C</th>\n",
       "    </tr>\n",
       "    <tr>\n",
       "      <th>week_num</th>\n",
       "      <th></th>\n",
       "      <th></th>\n",
       "      <th></th>\n",
       "      <th></th>\n",
       "      <th></th>\n",
       "      <th></th>\n",
       "      <th></th>\n",
       "      <th></th>\n",
       "    </tr>\n",
       "  </thead>\n",
       "  <tbody>\n",
       "    <tr>\n",
       "      <th>1</th>\n",
       "      <td>1336</td>\n",
       "      <td>978</td>\n",
       "      <td>294599</td>\n",
       "      <td>633301</td>\n",
       "      <td>250942</td>\n",
       "      <td>444.1</td>\n",
       "      <td>712.2</td>\n",
       "      <td>1215.5</td>\n",
       "    </tr>\n",
       "    <tr>\n",
       "      <th>2</th>\n",
       "      <td>2213</td>\n",
       "      <td>1654</td>\n",
       "      <td>453997</td>\n",
       "      <td>990806</td>\n",
       "      <td>326422</td>\n",
       "      <td>686.9</td>\n",
       "      <td>1274.7</td>\n",
       "      <td>2025.0</td>\n",
       "    </tr>\n",
       "    <tr>\n",
       "      <th>3</th>\n",
       "      <td>2366</td>\n",
       "      <td>1656</td>\n",
       "      <td>449875</td>\n",
       "      <td>1179153</td>\n",
       "      <td>296042</td>\n",
       "      <td>635.5</td>\n",
       "      <td>1769.4</td>\n",
       "      <td>1941.9</td>\n",
       "    </tr>\n",
       "    <tr>\n",
       "      <th>4</th>\n",
       "      <td>2485</td>\n",
       "      <td>1666</td>\n",
       "      <td>768157</td>\n",
       "      <td>1134189</td>\n",
       "      <td>331730</td>\n",
       "      <td>728.8</td>\n",
       "      <td>1586.2</td>\n",
       "      <td>1913.4</td>\n",
       "    </tr>\n",
       "    <tr>\n",
       "      <th>5</th>\n",
       "      <td>1924</td>\n",
       "      <td>1154</td>\n",
       "      <td>831822</td>\n",
       "      <td>826640</td>\n",
       "      <td>181742</td>\n",
       "      <td>631.6</td>\n",
       "      <td>1211.3</td>\n",
       "      <td>1275.8</td>\n",
       "    </tr>\n",
       "  </tbody>\n",
       "</table>\n",
       "</div>"
      ],
      "text/plain": [
       "          non_urgent_order  urgent_order  bank_ord_1  bank_ord_2  bank_ord_3  \\\n",
       "week_num                                                                       \n",
       "1                     1336           978      294599      633301      250942   \n",
       "2                     2213          1654      453997      990806      326422   \n",
       "3                     2366          1656      449875     1179153      296042   \n",
       "4                     2485          1666      768157     1134189      331730   \n",
       "5                     1924          1154      831822      826640      181742   \n",
       "\n",
       "          order_A  order_B  order_C  \n",
       "week_num                             \n",
       "1           444.1    712.2   1215.5  \n",
       "2           686.9   1274.7   2025.0  \n",
       "3           635.5   1769.4   1941.9  \n",
       "4           728.8   1586.2   1913.4  \n",
       "5           631.6   1211.3   1275.8  "
      ]
     },
     "execution_count": 56,
     "metadata": {},
     "output_type": "execute_result"
    }
   ],
   "source": [
    "df[[x for x in df.columns if x not in ['week_day']]].groupby(['week_num']).sum()"
   ]
  },
  {
   "cell_type": "markdown",
   "metadata": {},
   "source": [
    "Ok, we removed __week_day__ but there's still one small problem with the table of results. \n",
    "\n",
    "When we use _group_by_ as we did, pandas uses the key you want to do the aggregation on as the index of the table which results in having a multi-level columns? (have you noticed that the column names are not aligned?) To solve this we can use __.reset_index()__ method:"
   ]
  },
  {
   "cell_type": "code",
   "execution_count": 57,
   "metadata": {},
   "outputs": [
    {
     "data": {
      "text/html": [
       "<div>\n",
       "<style scoped>\n",
       "    .dataframe tbody tr th:only-of-type {\n",
       "        vertical-align: middle;\n",
       "    }\n",
       "\n",
       "    .dataframe tbody tr th {\n",
       "        vertical-align: top;\n",
       "    }\n",
       "\n",
       "    .dataframe thead th {\n",
       "        text-align: right;\n",
       "    }\n",
       "</style>\n",
       "<table border=\"1\" class=\"dataframe\">\n",
       "  <thead>\n",
       "    <tr style=\"text-align: right;\">\n",
       "      <th></th>\n",
       "      <th>week_num</th>\n",
       "      <th>non_urgent_order</th>\n",
       "      <th>urgent_order</th>\n",
       "      <th>bank_ord_1</th>\n",
       "      <th>bank_ord_2</th>\n",
       "      <th>bank_ord_3</th>\n",
       "      <th>order_A</th>\n",
       "      <th>order_B</th>\n",
       "      <th>order_C</th>\n",
       "    </tr>\n",
       "  </thead>\n",
       "  <tbody>\n",
       "    <tr>\n",
       "      <th>0</th>\n",
       "      <td>1</td>\n",
       "      <td>1336</td>\n",
       "      <td>978</td>\n",
       "      <td>294599</td>\n",
       "      <td>633301</td>\n",
       "      <td>250942</td>\n",
       "      <td>444.1</td>\n",
       "      <td>712.2</td>\n",
       "      <td>1215.5</td>\n",
       "    </tr>\n",
       "    <tr>\n",
       "      <th>1</th>\n",
       "      <td>2</td>\n",
       "      <td>2213</td>\n",
       "      <td>1654</td>\n",
       "      <td>453997</td>\n",
       "      <td>990806</td>\n",
       "      <td>326422</td>\n",
       "      <td>686.9</td>\n",
       "      <td>1274.7</td>\n",
       "      <td>2025.0</td>\n",
       "    </tr>\n",
       "    <tr>\n",
       "      <th>2</th>\n",
       "      <td>3</td>\n",
       "      <td>2366</td>\n",
       "      <td>1656</td>\n",
       "      <td>449875</td>\n",
       "      <td>1179153</td>\n",
       "      <td>296042</td>\n",
       "      <td>635.5</td>\n",
       "      <td>1769.4</td>\n",
       "      <td>1941.9</td>\n",
       "    </tr>\n",
       "    <tr>\n",
       "      <th>3</th>\n",
       "      <td>4</td>\n",
       "      <td>2485</td>\n",
       "      <td>1666</td>\n",
       "      <td>768157</td>\n",
       "      <td>1134189</td>\n",
       "      <td>331730</td>\n",
       "      <td>728.8</td>\n",
       "      <td>1586.2</td>\n",
       "      <td>1913.4</td>\n",
       "    </tr>\n",
       "    <tr>\n",
       "      <th>4</th>\n",
       "      <td>5</td>\n",
       "      <td>1924</td>\n",
       "      <td>1154</td>\n",
       "      <td>831822</td>\n",
       "      <td>826640</td>\n",
       "      <td>181742</td>\n",
       "      <td>631.6</td>\n",
       "      <td>1211.3</td>\n",
       "      <td>1275.8</td>\n",
       "    </tr>\n",
       "  </tbody>\n",
       "</table>\n",
       "</div>"
      ],
      "text/plain": [
       "   week_num  non_urgent_order  urgent_order  bank_ord_1  bank_ord_2  \\\n",
       "0         1              1336           978      294599      633301   \n",
       "1         2              2213          1654      453997      990806   \n",
       "2         3              2366          1656      449875     1179153   \n",
       "3         4              2485          1666      768157     1134189   \n",
       "4         5              1924          1154      831822      826640   \n",
       "\n",
       "   bank_ord_3  order_A  order_B  order_C  \n",
       "0      250942    444.1    712.2   1215.5  \n",
       "1      326422    686.9   1274.7   2025.0  \n",
       "2      296042    635.5   1769.4   1941.9  \n",
       "3      331730    728.8   1586.2   1913.4  \n",
       "4      181742    631.6   1211.3   1275.8  "
      ]
     },
     "execution_count": 57,
     "metadata": {},
     "output_type": "execute_result"
    }
   ],
   "source": [
    "df[[x for x in df.columns if x not in ['week_day']]].groupby(['week_num']).sum().reset_index()"
   ]
  },
  {
   "cell_type": "markdown",
   "metadata": {},
   "source": [
    "<img src=\"../Images/student.svg\"   width=\"30\" align=\"left\">               "
   ]
  },
  {
   "cell_type": "markdown",
   "metadata": {},
   "source": [
    "**YOUR TURN:**\n",
    "    \n",
    "Calculate the daily average of values (make sure the results make sense!)"
   ]
  },
  {
   "cell_type": "code",
   "execution_count": 110,
   "metadata": {},
   "outputs": [
    {
     "data": {
      "text/html": [
       "<div>\n",
       "<style scoped>\n",
       "    .dataframe tbody tr th:only-of-type {\n",
       "        vertical-align: middle;\n",
       "    }\n",
       "\n",
       "    .dataframe tbody tr th {\n",
       "        vertical-align: top;\n",
       "    }\n",
       "\n",
       "    .dataframe thead th {\n",
       "        text-align: right;\n",
       "    }\n",
       "</style>\n",
       "<table border=\"1\" class=\"dataframe\">\n",
       "  <thead>\n",
       "    <tr style=\"text-align: right;\">\n",
       "      <th></th>\n",
       "      <th>week_day</th>\n",
       "      <th>non_urgent_order</th>\n",
       "      <th>urgent_order</th>\n",
       "      <th>bank_ord_1</th>\n",
       "      <th>bank_ord_2</th>\n",
       "      <th>bank_ord_3</th>\n",
       "      <th>order_A</th>\n",
       "      <th>order_B</th>\n",
       "      <th>Order_C</th>\n",
       "    </tr>\n",
       "  </thead>\n",
       "  <tbody>\n",
       "    <tr>\n",
       "      <th>0</th>\n",
       "      <td>2</td>\n",
       "      <td>240.131955</td>\n",
       "      <td>143.923292</td>\n",
       "      <td>55400.382022</td>\n",
       "      <td>129464.730337</td>\n",
       "      <td>19677.067416</td>\n",
       "      <td>61.066472</td>\n",
       "      <td>156.394191</td>\n",
       "      <td>176.935247</td>\n",
       "    </tr>\n",
       "    <tr>\n",
       "      <th>1</th>\n",
       "      <td>3</td>\n",
       "      <td>175.619300</td>\n",
       "      <td>126.148289</td>\n",
       "      <td>48465.733333</td>\n",
       "      <td>79452.844444</td>\n",
       "      <td>21811.311111</td>\n",
       "      <td>46.006156</td>\n",
       "      <td>109.644056</td>\n",
       "      <td>148.097500</td>\n",
       "    </tr>\n",
       "    <tr>\n",
       "      <th>2</th>\n",
       "      <td>4</td>\n",
       "      <td>159.820351</td>\n",
       "      <td>107.958918</td>\n",
       "      <td>38340.752577</td>\n",
       "      <td>78248.711340</td>\n",
       "      <td>24347.865979</td>\n",
       "      <td>46.621155</td>\n",
       "      <td>101.089320</td>\n",
       "      <td>121.283660</td>\n",
       "    </tr>\n",
       "    <tr>\n",
       "      <th>3</th>\n",
       "      <td>5</td>\n",
       "      <td>134.784344</td>\n",
       "      <td>114.535789</td>\n",
       "      <td>36744.966667</td>\n",
       "      <td>51607.177778</td>\n",
       "      <td>26091.255556</td>\n",
       "      <td>49.529789</td>\n",
       "      <td>95.990944</td>\n",
       "      <td>130.524556</td>\n",
       "    </tr>\n",
       "    <tr>\n",
       "      <th>4</th>\n",
       "      <td>6</td>\n",
       "      <td>146.694378</td>\n",
       "      <td>97.327600</td>\n",
       "      <td>44781.311111</td>\n",
       "      <td>57416.477778</td>\n",
       "      <td>20128.122222</td>\n",
       "      <td>49.346867</td>\n",
       "      <td>86.764611</td>\n",
       "      <td>119.112344</td>\n",
       "    </tr>\n",
       "  </tbody>\n",
       "</table>\n",
       "</div>"
      ],
      "text/plain": [
       "   week_day  non_urgent_order  urgent_order    bank_ord_1     bank_ord_2  \\\n",
       "0         2        240.131955    143.923292  55400.382022  129464.730337   \n",
       "1         3        175.619300    126.148289  48465.733333   79452.844444   \n",
       "2         4        159.820351    107.958918  38340.752577   78248.711340   \n",
       "3         5        134.784344    114.535789  36744.966667   51607.177778   \n",
       "4         6        146.694378     97.327600  44781.311111   57416.477778   \n",
       "\n",
       "     bank_ord_3    order_A     order_B     Order_C  \n",
       "0  19677.067416  61.066472  156.394191  176.935247  \n",
       "1  21811.311111  46.006156  109.644056  148.097500  \n",
       "2  24347.865979  46.621155  101.089320  121.283660  \n",
       "3  26091.255556  49.529789   95.990944  130.524556  \n",
       "4  20128.122222  49.346867   86.764611  119.112344  "
      ]
     },
     "execution_count": 110,
     "metadata": {},
     "output_type": "execute_result"
    }
   ],
   "source": [
    "df[[x for x in df.columns if x not in ['week_num']]].groupby(['week_day']).mean().reset_index()"
   ]
  },
  {
   "cell_type": "markdown",
   "metadata": {},
   "source": [
    "### Finding Outliers"
   ]
  },
  {
   "cell_type": "markdown",
   "metadata": {},
   "source": [
    "For a wide range of reasons the data we should analyze may have contaminations/outliers. How can we detect these outliers is not always simple and straight forward and highly depends on the data , data source and the task. \n",
    "\n",
    "Her we see two of simplest outlier detection methods:"
   ]
  },
  {
   "cell_type": "markdown",
   "metadata": {},
   "source": [
    "**Box-plots**"
   ]
  },
  {
   "cell_type": "code",
   "execution_count": 58,
   "metadata": {},
   "outputs": [],
   "source": [
    "import matplotlib.pyplot as plt"
   ]
  },
  {
   "cell_type": "code",
   "execution_count": 62,
   "metadata": {},
   "outputs": [
    {
     "data": {
      "image/png": "[encoded data removed]",
      "text/plain": [
       "<Figure size 432x288 with 1 Axes>"
      ]
     },
     "metadata": {
      "needs_background": "light"
     },
     "output_type": "display_data"
    }
   ],
   "source": [
    "plt.boxplot(df.bank_ord_3, vert=False)\n",
    "plt.title('Bank Order 3', fontsize=20)\n",
    "plt.show()"
   ]
  },
  {
   "cell_type": "markdown",
   "metadata": {},
   "source": [
    "<img src=\"../Images/student.svg\"   width=\"30\" align=\"left\">               "
   ]
  },
  {
   "cell_type": "markdown",
   "metadata": {},
   "source": [
    "**YOUR TURN:**\n",
    "    \n",
    "Create a function which gets a dataframe and column and plots a box-plot similar to the one above."
   ]
  },
  {
   "cell_type": "code",
   "execution_count": null,
   "metadata": {},
   "outputs": [],
   "source": [
    "def column_boxplot(data, column):\n",
    "    plt.boxplot(data[column], vert=False)\n",
    "    plt.title(column, fontsize=20)\n",
    "    plt.show()"
   ]
  },
  {
   "cell_type": "code",
   "execution_count": 71,
   "metadata": {},
   "outputs": [
    {
     "data": {
      "image/png": "[encoded data removed]",
      "text/plain": [
       "<Figure size 432x288 with 1 Axes>"
      ]
     },
     "metadata": {
      "needs_background": "light"
     },
     "output_type": "display_data"
    }
   ],
   "source": [
    "column_boxplot(df, 'urgent_order')"
   ]
  },
  {
   "cell_type": "markdown",
   "metadata": {},
   "source": [
    "**Threshold**"
   ]
  },
  {
   "cell_type": "markdown",
   "metadata": {},
   "source": [
    "Sometimes we already know the acceptable range of inliers. We can use this range to filter data.\n",
    "\n",
    "LEt's say we know that in _bank_order_ columns, we shouldn't see values greater than *50_000*. First let's get a rough picture of our desired columns."
   ]
  },
  {
   "cell_type": "code",
   "execution_count": 251,
   "metadata": {},
   "outputs": [
    {
     "data": {
      "text/html": [
       "<div>\n",
       "<style scoped>\n",
       "    .dataframe tbody tr th:only-of-type {\n",
       "        vertical-align: middle;\n",
       "    }\n",
       "\n",
       "    .dataframe tbody tr th {\n",
       "        vertical-align: top;\n",
       "    }\n",
       "\n",
       "    .dataframe thead th {\n",
       "        text-align: right;\n",
       "    }\n",
       "</style>\n",
       "<table border=\"1\" class=\"dataframe\">\n",
       "  <thead>\n",
       "    <tr style=\"text-align: right;\">\n",
       "      <th></th>\n",
       "      <th>bank_ord_1</th>\n",
       "      <th>bank_ord_2</th>\n",
       "      <th>bank_ord_3</th>\n",
       "    </tr>\n",
       "  </thead>\n",
       "  <tbody>\n",
       "    <tr>\n",
       "      <th>count</th>\n",
       "      <td>60.000000</td>\n",
       "      <td>60.000000</td>\n",
       "      <td>60.000000</td>\n",
       "    </tr>\n",
       "    <tr>\n",
       "      <th>mean</th>\n",
       "      <td>46640.833333</td>\n",
       "      <td>79401.483333</td>\n",
       "      <td>23114.633333</td>\n",
       "    </tr>\n",
       "    <tr>\n",
       "      <th>std</th>\n",
       "      <td>45220.736293</td>\n",
       "      <td>40504.420041</td>\n",
       "      <td>13148.039829</td>\n",
       "    </tr>\n",
       "    <tr>\n",
       "      <th>min</th>\n",
       "      <td>3452.000000</td>\n",
       "      <td>16411.000000</td>\n",
       "      <td>7679.000000</td>\n",
       "    </tr>\n",
       "    <tr>\n",
       "      <th>25%</th>\n",
       "      <td>20130.000000</td>\n",
       "      <td>50680.500000</td>\n",
       "      <td>12609.750000</td>\n",
       "    </tr>\n",
       "    <tr>\n",
       "      <th>50%</th>\n",
       "      <td>32527.500000</td>\n",
       "      <td>67181.000000</td>\n",
       "      <td>18011.500000</td>\n",
       "    </tr>\n",
       "    <tr>\n",
       "      <th>75%</th>\n",
       "      <td>45118.750000</td>\n",
       "      <td>94787.750000</td>\n",
       "      <td>31047.750000</td>\n",
       "    </tr>\n",
       "    <tr>\n",
       "      <th>max</th>\n",
       "      <td>210508.000000</td>\n",
       "      <td>188411.000000</td>\n",
       "      <td>73839.000000</td>\n",
       "    </tr>\n",
       "  </tbody>\n",
       "</table>\n",
       "</div>"
      ],
      "text/plain": [
       "          bank_ord_1     bank_ord_2    bank_ord_3\n",
       "count      60.000000      60.000000     60.000000\n",
       "mean    46640.833333   79401.483333  23114.633333\n",
       "std     45220.736293   40504.420041  13148.039829\n",
       "min      3452.000000   16411.000000   7679.000000\n",
       "25%     20130.000000   50680.500000  12609.750000\n",
       "50%     32527.500000   67181.000000  18011.500000\n",
       "75%     45118.750000   94787.750000  31047.750000\n",
       "max    210508.000000  188411.000000  73839.000000"
      ]
     },
     "execution_count": 251,
     "metadata": {},
     "output_type": "execute_result"
    }
   ],
   "source": [
    "data.describe()[[x for x in data.columns if 'bank' in x]]"
   ]
  },
  {
   "cell_type": "markdown",
   "metadata": {},
   "source": [
    "<img src=\"../Images/baby.svg\"   width=\"30\" align=\"left\">               "
   ]
  },
  {
   "cell_type": "markdown",
   "metadata": {},
   "source": [
    "**YOUR TURN:**\n",
    "    \n",
    "What happened in the previous cell?"
   ]
  },
  {
   "cell_type": "markdown",
   "metadata": {},
   "source": [
    " "
   ]
  },
  {
   "cell_type": "markdown",
   "metadata": {},
   "source": [
    "We can use the threshold to get the records with outliers:"
   ]
  },
  {
   "cell_type": "code",
   "execution_count": 370,
   "metadata": {},
   "outputs": [
    {
     "data": {
      "text/html": [
       "<div>\n",
       "<style scoped>\n",
       "    .dataframe tbody tr th:only-of-type {\n",
       "        vertical-align: middle;\n",
       "    }\n",
       "\n",
       "    .dataframe tbody tr th {\n",
       "        vertical-align: top;\n",
       "    }\n",
       "\n",
       "    .dataframe thead th {\n",
       "        text-align: right;\n",
       "    }\n",
       "</style>\n",
       "<table border=\"1\" class=\"dataframe\">\n",
       "  <thead>\n",
       "    <tr style=\"text-align: right;\">\n",
       "      <th></th>\n",
       "      <th>week_num</th>\n",
       "      <th>week_day</th>\n",
       "      <th>bank_ord_1</th>\n",
       "      <th>bank_ord_2</th>\n",
       "      <th>bank_ord_3</th>\n",
       "    </tr>\n",
       "  </thead>\n",
       "  <tbody>\n",
       "    <tr>\n",
       "      <th>0</th>\n",
       "      <td>1</td>\n",
       "      <td>3</td>\n",
       "      <td>19141</td>\n",
       "      <td>78378</td>\n",
       "      <td>73839</td>\n",
       "    </tr>\n",
       "    <tr>\n",
       "      <th>23</th>\n",
       "      <td>4</td>\n",
       "      <td>5</td>\n",
       "      <td>95989</td>\n",
       "      <td>50763</td>\n",
       "      <td>55445</td>\n",
       "    </tr>\n",
       "  </tbody>\n",
       "</table>\n",
       "</div>"
      ],
      "text/plain": [
       "    week_num  week_day  bank_ord_1  bank_ord_2  bank_ord_3\n",
       "0          1         3       19141       78378       73839\n",
       "23         4         5       95989       50763       55445"
      ]
     },
     "execution_count": 370,
     "metadata": {},
     "output_type": "execute_result"
    }
   ],
   "source": [
    "bank[bank.bank_ord_3 > 50_000]"
   ]
  },
  {
   "cell_type": "markdown",
   "metadata": {},
   "source": [
    "We can do the same thing for just one column instead of the whole dataframe:"
   ]
  },
  {
   "cell_type": "code",
   "execution_count": 248,
   "metadata": {},
   "outputs": [
    {
     "data": {
      "text/plain": [
       "0     73839\n",
       "23    55445\n",
       "Name: bank_ord_3, dtype: int64"
      ]
     },
     "execution_count": 248,
     "metadata": {},
     "output_type": "execute_result"
    }
   ],
   "source": [
    "col = bank['bank_ord_3']\n",
    "col[col > 50_000]"
   ]
  },
  {
   "cell_type": "markdown",
   "metadata": {},
   "source": [
    "### Adding columns"
   ]
  },
  {
   "cell_type": "markdown",
   "metadata": {},
   "source": [
    "Adding a new column to a dataframe is easy! the only thing that matters is that both dataframe and the array(Series, list,...) you want to add to it, have the same length.\n",
    "\n",
    "Here we look at a bit more complicated case : creating a new column from the existing columns:"
   ]
  },
  {
   "cell_type": "markdown",
   "metadata": {},
   "source": [
    "Let's say we want to create a new column as the sum of all __order_X__ columns:"
   ]
  },
  {
   "cell_type": "code",
   "execution_count": 372,
   "metadata": {},
   "outputs": [],
   "source": [
    "df['order_total'] = df['order_A'] + df.order_C + df['order_B']"
   ]
  },
  {
   "cell_type": "code",
   "execution_count": 373,
   "metadata": {},
   "outputs": [
    {
     "data": {
      "text/html": [
       "<div>\n",
       "<style scoped>\n",
       "    .dataframe tbody tr th:only-of-type {\n",
       "        vertical-align: middle;\n",
       "    }\n",
       "\n",
       "    .dataframe tbody tr th {\n",
       "        vertical-align: top;\n",
       "    }\n",
       "\n",
       "    .dataframe thead th {\n",
       "        text-align: right;\n",
       "    }\n",
       "</style>\n",
       "<table border=\"1\" class=\"dataframe\">\n",
       "  <thead>\n",
       "    <tr style=\"text-align: right;\">\n",
       "      <th></th>\n",
       "      <th>week_num</th>\n",
       "      <th>week_day</th>\n",
       "      <th>non_urgent_order</th>\n",
       "      <th>urgent_order</th>\n",
       "      <th>bank_ord_1</th>\n",
       "      <th>bank_ord_2</th>\n",
       "      <th>bank_ord_3</th>\n",
       "      <th>order_A</th>\n",
       "      <th>order_B</th>\n",
       "      <th>order_C</th>\n",
       "      <th>order_total</th>\n",
       "    </tr>\n",
       "  </thead>\n",
       "  <tbody>\n",
       "    <tr>\n",
       "      <th>0</th>\n",
       "      <td>3</td>\n",
       "      <td>2</td>\n",
       "      <td>218.856</td>\n",
       "      <td>124.381</td>\n",
       "      <td>19461</td>\n",
       "      <td>103376</td>\n",
       "      <td>10458</td>\n",
       "      <td>33.973</td>\n",
       "      <td>148.274</td>\n",
       "      <td>162.044</td>\n",
       "      <td>344.291</td>\n",
       "    </tr>\n",
       "    <tr>\n",
       "      <th>15</th>\n",
       "      <td>2</td>\n",
       "      <td>4</td>\n",
       "      <td>148.139</td>\n",
       "      <td>85.310</td>\n",
       "      <td>14188</td>\n",
       "      <td>67617</td>\n",
       "      <td>32319</td>\n",
       "      <td>35.576</td>\n",
       "      <td>79.997</td>\n",
       "      <td>123.253</td>\n",
       "      <td>238.826</td>\n",
       "    </tr>\n",
       "    <tr>\n",
       "      <th>22</th>\n",
       "      <td>4</td>\n",
       "      <td>5</td>\n",
       "      <td>144.051</td>\n",
       "      <td>158.408</td>\n",
       "      <td>6440</td>\n",
       "      <td>91784</td>\n",
       "      <td>15973</td>\n",
       "      <td>51.660</td>\n",
       "      <td>92.272</td>\n",
       "      <td>164.948</td>\n",
       "      <td>308.880</td>\n",
       "    </tr>\n",
       "    <tr>\n",
       "      <th>13</th>\n",
       "      <td>3</td>\n",
       "      <td>6</td>\n",
       "      <td>130.465</td>\n",
       "      <td>105.273</td>\n",
       "      <td>41713</td>\n",
       "      <td>59513</td>\n",
       "      <td>12260</td>\n",
       "      <td>57.467</td>\n",
       "      <td>88.462</td>\n",
       "      <td>109.132</td>\n",
       "      <td>255.061</td>\n",
       "    </tr>\n",
       "    <tr>\n",
       "      <th>27</th>\n",
       "      <td>4</td>\n",
       "      <td>6</td>\n",
       "      <td>134.425</td>\n",
       "      <td>79.084</td>\n",
       "      <td>28701</td>\n",
       "      <td>65199</td>\n",
       "      <td>11023</td>\n",
       "      <td>36.748</td>\n",
       "      <td>71.353</td>\n",
       "      <td>105.408</td>\n",
       "      <td>213.509</td>\n",
       "    </tr>\n",
       "    <tr>\n",
       "      <th>21</th>\n",
       "      <td>2</td>\n",
       "      <td>6</td>\n",
       "      <td>146.959</td>\n",
       "      <td>95.153</td>\n",
       "      <td>45733</td>\n",
       "      <td>43930</td>\n",
       "      <td>28998</td>\n",
       "      <td>37.656</td>\n",
       "      <td>59.907</td>\n",
       "      <td>144.549</td>\n",
       "      <td>242.112</td>\n",
       "    </tr>\n",
       "    <tr>\n",
       "      <th>25</th>\n",
       "      <td>4</td>\n",
       "      <td>6</td>\n",
       "      <td>105.415</td>\n",
       "      <td>108.688</td>\n",
       "      <td>26020</td>\n",
       "      <td>27873</td>\n",
       "      <td>17600</td>\n",
       "      <td>47.717</td>\n",
       "      <td>71.474</td>\n",
       "      <td>113.935</td>\n",
       "      <td>233.126</td>\n",
       "    </tr>\n",
       "    <tr>\n",
       "      <th>20</th>\n",
       "      <td>2</td>\n",
       "      <td>6</td>\n",
       "      <td>119.379</td>\n",
       "      <td>113.870</td>\n",
       "      <td>26278</td>\n",
       "      <td>56665</td>\n",
       "      <td>18502</td>\n",
       "      <td>38.584</td>\n",
       "      <td>85.961</td>\n",
       "      <td>124.413</td>\n",
       "      <td>248.958</td>\n",
       "    </tr>\n",
       "    <tr>\n",
       "      <th>21</th>\n",
       "      <td>4</td>\n",
       "      <td>4</td>\n",
       "      <td>96.494</td>\n",
       "      <td>87.294</td>\n",
       "      <td>22420</td>\n",
       "      <td>49644</td>\n",
       "      <td>15390</td>\n",
       "      <td>32.653</td>\n",
       "      <td>81.576</td>\n",
       "      <td>74.372</td>\n",
       "      <td>188.601</td>\n",
       "    </tr>\n",
       "    <tr>\n",
       "      <th>13</th>\n",
       "      <td>2</td>\n",
       "      <td>3</td>\n",
       "      <td>165.472</td>\n",
       "      <td>102.530</td>\n",
       "      <td>43112</td>\n",
       "      <td>72840</td>\n",
       "      <td>11304</td>\n",
       "      <td>46.295</td>\n",
       "      <td>96.870</td>\n",
       "      <td>124.837</td>\n",
       "      <td>268.002</td>\n",
       "    </tr>\n",
       "  </tbody>\n",
       "</table>\n",
       "</div>"
      ],
      "text/plain": [
       "    week_num  week_day  non_urgent_order  urgent_order  bank_ord_1  \\\n",
       "0          3         2           218.856       124.381       19461   \n",
       "15         2         4           148.139        85.310       14188   \n",
       "22         4         5           144.051       158.408        6440   \n",
       "13         3         6           130.465       105.273       41713   \n",
       "27         4         6           134.425        79.084       28701   \n",
       "21         2         6           146.959        95.153       45733   \n",
       "25         4         6           105.415       108.688       26020   \n",
       "20         2         6           119.379       113.870       26278   \n",
       "21         4         4            96.494        87.294       22420   \n",
       "13         2         3           165.472       102.530       43112   \n",
       "\n",
       "    bank_ord_2  bank_ord_3  order_A  order_B  order_C  order_total  \n",
       "0       103376       10458   33.973  148.274  162.044      344.291  \n",
       "15       67617       32319   35.576   79.997  123.253      238.826  \n",
       "22       91784       15973   51.660   92.272  164.948      308.880  \n",
       "13       59513       12260   57.467   88.462  109.132      255.061  \n",
       "27       65199       11023   36.748   71.353  105.408      213.509  \n",
       "21       43930       28998   37.656   59.907  144.549      242.112  \n",
       "25       27873       17600   47.717   71.474  113.935      233.126  \n",
       "20       56665       18502   38.584   85.961  124.413      248.958  \n",
       "21       49644       15390   32.653   81.576   74.372      188.601  \n",
       "13       72840       11304   46.295   96.870  124.837      268.002  "
      ]
     },
     "execution_count": 373,
     "metadata": {},
     "output_type": "execute_result"
    }
   ],
   "source": [
    "df.sample(10)"
   ]
  },
  {
   "cell_type": "code",
   "execution_count": 79,
   "metadata": {},
   "outputs": [
    {
     "name": "stdout",
     "output_type": "stream",
     "text": [
      "<class 'pandas.core.frame.DataFrame'>\n",
      "Int64Index: 60 entries, 0 to 36\n",
      "Data columns (total 10 columns):\n",
      "week_num            60 non-null int64\n",
      "week_day            60 non-null int64\n",
      "non_urgent_order    60 non-null int64\n",
      "urgent_order        60 non-null int64\n",
      "bank_ord_1          60 non-null int64\n",
      "bank_ord_2          60 non-null int64\n",
      "bank_ord_3          60 non-null int64\n",
      "order_A             60 non-null float64\n",
      "order_B             60 non-null float64\n",
      "order_C             60 non-null float64\n",
      "dtypes: float64(3), int64(7)\n",
      "memory usage: 5.2 KB\n"
     ]
    }
   ],
   "source": [
    "df.info()"
   ]
  },
  {
   "cell_type": "markdown",
   "metadata": {},
   "source": [
    "<img src=\"../Images/baby.svg\"   width=\"30\" align=\"left\">               "
   ]
  },
  {
   "cell_type": "markdown",
   "metadata": {},
   "source": [
    "**YOUR TURN:**\n",
    "    \n",
    "Add a new columns as sum of bank orders : **bank_order_total**"
   ]
  },
  {
   "cell_type": "code",
   "execution_count": null,
   "metadata": {},
   "outputs": [],
   "source": [
    "df['bank_order_total'] = df['bank_ord_1'] + df['bank_ord_2'] + df['bank_ord_3']"
   ]
  },
  {
   "cell_type": "markdown",
   "metadata": {},
   "source": [
    "The above code is easy to understand but not scalable or _pythonic_ . The following codes (which are identical but are written in different ways) are way better than the initial one:"
   ]
  },
  {
   "cell_type": "code",
   "execution_count": 280,
   "metadata": {
    "scrolled": true
   },
   "outputs": [],
   "source": [
    "dd = []\n",
    "\n",
    "for col in df.columns:\n",
    "    if 'bank' in col:\n",
    "        dd.append(df[col])\n",
    "        \n",
    "df['bank_order_total'] = sum(dd)"
   ]
  },
  {
   "cell_type": "code",
   "execution_count": 281,
   "metadata": {
    "scrolled": true
   },
   "outputs": [],
   "source": [
    "df['bank_order_total'] = sum([df[col] for col in df.columns if 'bank' in col ])"
   ]
  },
  {
   "cell_type": "markdown",
   "metadata": {},
   "source": [
    " "
   ]
  },
  {
   "cell_type": "markdown",
   "metadata": {},
   "source": [
    "Another way to add a new column is to create it based on a __condition__:"
   ]
  },
  {
   "cell_type": "markdown",
   "metadata": {},
   "source": [
    "Imagine that we want to create a new column in the dataframe named _status_ . The value of this column should be __High__ if the __urgent_order__ is less than 110 and __Low___ otherwise:"
   ]
  },
  {
   "cell_type": "code",
   "execution_count": 89,
   "metadata": {},
   "outputs": [],
   "source": [
    "import numpy as np"
   ]
  },
  {
   "cell_type": "code",
   "execution_count": 90,
   "metadata": {},
   "outputs": [],
   "source": [
    "df['status'] = np.where(df['urgent_order'] < 110 , 'High', 'Low')"
   ]
  },
  {
   "cell_type": "code",
   "execution_count": 91,
   "metadata": {
    "scrolled": false
   },
   "outputs": [
    {
     "data": {
      "text/html": [
       "<div>\n",
       "<style scoped>\n",
       "    .dataframe tbody tr th:only-of-type {\n",
       "        vertical-align: middle;\n",
       "    }\n",
       "\n",
       "    .dataframe tbody tr th {\n",
       "        vertical-align: top;\n",
       "    }\n",
       "\n",
       "    .dataframe thead th {\n",
       "        text-align: right;\n",
       "    }\n",
       "</style>\n",
       "<table border=\"1\" class=\"dataframe\">\n",
       "  <thead>\n",
       "    <tr style=\"text-align: right;\">\n",
       "      <th></th>\n",
       "      <th>week_num</th>\n",
       "      <th>week_day</th>\n",
       "      <th>non_urgent_order</th>\n",
       "      <th>urgent_order</th>\n",
       "      <th>bank_ord_1</th>\n",
       "      <th>bank_ord_2</th>\n",
       "      <th>bank_ord_3</th>\n",
       "      <th>order_A</th>\n",
       "      <th>order_B</th>\n",
       "      <th>order_C</th>\n",
       "      <th>status</th>\n",
       "    </tr>\n",
       "  </thead>\n",
       "  <tbody>\n",
       "    <tr>\n",
       "      <th>0</th>\n",
       "      <td>1</td>\n",
       "      <td>3</td>\n",
       "      <td>131</td>\n",
       "      <td>166</td>\n",
       "      <td>19141</td>\n",
       "      <td>78378</td>\n",
       "      <td>73839</td>\n",
       "      <td>90.5</td>\n",
       "      <td>80.5</td>\n",
       "      <td>127.6</td>\n",
       "      <td>Low</td>\n",
       "    </tr>\n",
       "    <tr>\n",
       "      <th>1</th>\n",
       "      <td>1</td>\n",
       "      <td>4</td>\n",
       "      <td>316</td>\n",
       "      <td>223</td>\n",
       "      <td>44914</td>\n",
       "      <td>188411</td>\n",
       "      <td>14793</td>\n",
       "      <td>61.5</td>\n",
       "      <td>175.6</td>\n",
       "      <td>302.4</td>\n",
       "      <td>Low</td>\n",
       "    </tr>\n",
       "    <tr>\n",
       "      <th>2</th>\n",
       "      <td>1</td>\n",
       "      <td>4</td>\n",
       "      <td>130</td>\n",
       "      <td>98</td>\n",
       "      <td>9163</td>\n",
       "      <td>29874</td>\n",
       "      <td>46992</td>\n",
       "      <td>42.9</td>\n",
       "      <td>44.0</td>\n",
       "      <td>142.4</td>\n",
       "      <td>High</td>\n",
       "    </tr>\n",
       "    <tr>\n",
       "      <th>3</th>\n",
       "      <td>1</td>\n",
       "      <td>5</td>\n",
       "      <td>128</td>\n",
       "      <td>96</td>\n",
       "      <td>21399</td>\n",
       "      <td>89461</td>\n",
       "      <td>7679</td>\n",
       "      <td>38.1</td>\n",
       "      <td>56.0</td>\n",
       "      <td>130.6</td>\n",
       "      <td>High</td>\n",
       "    </tr>\n",
       "    <tr>\n",
       "      <th>4</th>\n",
       "      <td>1</td>\n",
       "      <td>5</td>\n",
       "      <td>123</td>\n",
       "      <td>103</td>\n",
       "      <td>21196</td>\n",
       "      <td>47793</td>\n",
       "      <td>47574</td>\n",
       "      <td>47.3</td>\n",
       "      <td>72.4</td>\n",
       "      <td>116.5</td>\n",
       "      <td>High</td>\n",
       "    </tr>\n",
       "  </tbody>\n",
       "</table>\n",
       "</div>"
      ],
      "text/plain": [
       "   week_num  week_day  non_urgent_order  urgent_order  bank_ord_1  bank_ord_2  \\\n",
       "0         1         3               131           166       19141       78378   \n",
       "1         1         4               316           223       44914      188411   \n",
       "2         1         4               130            98        9163       29874   \n",
       "3         1         5               128            96       21399       89461   \n",
       "4         1         5               123           103       21196       47793   \n",
       "\n",
       "   bank_ord_3  order_A  order_B  order_C status  \n",
       "0       73839     90.5     80.5    127.6    Low  \n",
       "1       14793     61.5    175.6    302.4    Low  \n",
       "2       46992     42.9     44.0    142.4   High  \n",
       "3        7679     38.1     56.0    130.6   High  \n",
       "4       47574     47.3     72.4    116.5   High  "
      ]
     },
     "execution_count": 91,
     "metadata": {},
     "output_type": "execute_result"
    }
   ],
   "source": [
    "df.head()"
   ]
  },
  {
   "cell_type": "markdown",
   "metadata": {},
   "source": [
    "<img src=\"../Images/wizard.svg\"   width=\"30\" align=\"left\">               "
   ]
  },
  {
   "cell_type": "markdown",
   "metadata": {},
   "source": [
    "**YOUR TURN:**\n",
    "    \n",
    "Create a new column __ord_status__ which is __High__ when the average of __order_A__ and __order_C__ is lower than __order_B__ and __Low__ otherwise."
   ]
  },
  {
   "cell_type": "code",
   "execution_count": 387,
   "metadata": {},
   "outputs": [],
   "source": [
    "df['ord_status'] = np.where(np.mean([df['order_A'] , df['order_C']]) < df['order_B'] , 'Low', 'High')"
   ]
  },
  {
   "cell_type": "code",
   "execution_count": 94,
   "metadata": {},
   "outputs": [
    {
     "data": {
      "text/html": [
       "<div>\n",
       "<style scoped>\n",
       "    .dataframe tbody tr th:only-of-type {\n",
       "        vertical-align: middle;\n",
       "    }\n",
       "\n",
       "    .dataframe tbody tr th {\n",
       "        vertical-align: top;\n",
       "    }\n",
       "\n",
       "    .dataframe thead th {\n",
       "        text-align: right;\n",
       "    }\n",
       "</style>\n",
       "<table border=\"1\" class=\"dataframe\">\n",
       "  <thead>\n",
       "    <tr style=\"text-align: right;\">\n",
       "      <th></th>\n",
       "      <th>week_num</th>\n",
       "      <th>week_day</th>\n",
       "      <th>non_urgent_order</th>\n",
       "      <th>urgent_order</th>\n",
       "      <th>bank_ord_1</th>\n",
       "      <th>bank_ord_2</th>\n",
       "      <th>bank_ord_3</th>\n",
       "      <th>order_A</th>\n",
       "      <th>order_B</th>\n",
       "      <th>order_C</th>\n",
       "      <th>status</th>\n",
       "      <th>ord_status</th>\n",
       "    </tr>\n",
       "  </thead>\n",
       "  <tbody>\n",
       "    <tr>\n",
       "      <th>22</th>\n",
       "      <td>2</td>\n",
       "      <td>6</td>\n",
       "      <td>123</td>\n",
       "      <td>94</td>\n",
       "      <td>30138</td>\n",
       "      <td>52112</td>\n",
       "      <td>12632</td>\n",
       "      <td>48.1</td>\n",
       "      <td>72.8</td>\n",
       "      <td>109.2</td>\n",
       "      <td>High</td>\n",
       "      <td>Low</td>\n",
       "    </tr>\n",
       "    <tr>\n",
       "      <th>14</th>\n",
       "      <td>4</td>\n",
       "      <td>2</td>\n",
       "      <td>220</td>\n",
       "      <td>141</td>\n",
       "      <td>32905</td>\n",
       "      <td>117137</td>\n",
       "      <td>29188</td>\n",
       "      <td>46.2</td>\n",
       "      <td>120.9</td>\n",
       "      <td>196.3</td>\n",
       "      <td>Low</td>\n",
       "      <td>Low</td>\n",
       "    </tr>\n",
       "    <tr>\n",
       "      <th>15</th>\n",
       "      <td>4</td>\n",
       "      <td>2</td>\n",
       "      <td>222</td>\n",
       "      <td>120</td>\n",
       "      <td>29290</td>\n",
       "      <td>154144</td>\n",
       "      <td>10811</td>\n",
       "      <td>41.4</td>\n",
       "      <td>135.2</td>\n",
       "      <td>166.0</td>\n",
       "      <td>Low</td>\n",
       "      <td>Low</td>\n",
       "    </tr>\n",
       "    <tr>\n",
       "      <th>0</th>\n",
       "      <td>3</td>\n",
       "      <td>2</td>\n",
       "      <td>218</td>\n",
       "      <td>124</td>\n",
       "      <td>19461</td>\n",
       "      <td>103376</td>\n",
       "      <td>10458</td>\n",
       "      <td>34.0</td>\n",
       "      <td>148.3</td>\n",
       "      <td>162.0</td>\n",
       "      <td>Low</td>\n",
       "      <td>Low</td>\n",
       "    </tr>\n",
       "    <tr>\n",
       "      <th>29</th>\n",
       "      <td>5</td>\n",
       "      <td>2</td>\n",
       "      <td>381</td>\n",
       "      <td>140</td>\n",
       "      <td>194216</td>\n",
       "      <td>136035</td>\n",
       "      <td>47601</td>\n",
       "      <td>118.2</td>\n",
       "      <td>260.6</td>\n",
       "      <td>152.1</td>\n",
       "      <td>Low</td>\n",
       "      <td>Low</td>\n",
       "    </tr>\n",
       "  </tbody>\n",
       "</table>\n",
       "</div>"
      ],
      "text/plain": [
       "    week_num  week_day  non_urgent_order  urgent_order  bank_ord_1  \\\n",
       "22         2         6               123            94       30138   \n",
       "14         4         2               220           141       32905   \n",
       "15         4         2               222           120       29290   \n",
       "0          3         2               218           124       19461   \n",
       "29         5         2               381           140      194216   \n",
       "\n",
       "    bank_ord_2  bank_ord_3  order_A  order_B  order_C status ord_status  \n",
       "22       52112       12632     48.1     72.8    109.2   High        Low  \n",
       "14      117137       29188     46.2    120.9    196.3    Low        Low  \n",
       "15      154144       10811     41.4    135.2    166.0    Low        Low  \n",
       "0       103376       10458     34.0    148.3    162.0    Low        Low  \n",
       "29      136035       47601    118.2    260.6    152.1    Low        Low  "
      ]
     },
     "execution_count": 94,
     "metadata": {},
     "output_type": "execute_result"
    }
   ],
   "source": [
    "df.sample(5)"
   ]
  },
  {
   "cell_type": "markdown",
   "metadata": {},
   "source": [
    "### Removing columns"
   ]
  },
  {
   "cell_type": "markdown",
   "metadata": {},
   "source": [
    "As for adding, there are different ways to remove(drop) a column(s) from a dataframe. For this example we use another file:"
   ]
  },
  {
   "cell_type": "code",
   "execution_count": 108,
   "metadata": {},
   "outputs": [],
   "source": [
    "totals = pd.read_csv('totals.csv')"
   ]
  },
  {
   "cell_type": "code",
   "execution_count": 96,
   "metadata": {},
   "outputs": [
    {
     "data": {
      "text/html": [
       "<div>\n",
       "<style scoped>\n",
       "    .dataframe tbody tr th:only-of-type {\n",
       "        vertical-align: middle;\n",
       "    }\n",
       "\n",
       "    .dataframe tbody tr th {\n",
       "        vertical-align: top;\n",
       "    }\n",
       "\n",
       "    .dataframe thead th {\n",
       "        text-align: right;\n",
       "    }\n",
       "</style>\n",
       "<table border=\"1\" class=\"dataframe\">\n",
       "  <thead>\n",
       "    <tr style=\"text-align: right;\">\n",
       "      <th></th>\n",
       "      <th>week_num</th>\n",
       "      <th>week_day</th>\n",
       "      <th>total_ord</th>\n",
       "    </tr>\n",
       "  </thead>\n",
       "  <tbody>\n",
       "    <tr>\n",
       "      <th>0</th>\n",
       "      <td>1</td>\n",
       "      <td>3</td>\n",
       "      <td>298.560</td>\n",
       "    </tr>\n",
       "    <tr>\n",
       "      <th>1</th>\n",
       "      <td>1</td>\n",
       "      <td>4</td>\n",
       "      <td>539.577</td>\n",
       "    </tr>\n",
       "    <tr>\n",
       "      <th>2</th>\n",
       "      <td>1</td>\n",
       "      <td>4</td>\n",
       "      <td>229.249</td>\n",
       "    </tr>\n",
       "    <tr>\n",
       "      <th>3</th>\n",
       "      <td>1</td>\n",
       "      <td>5</td>\n",
       "      <td>224.675</td>\n",
       "    </tr>\n",
       "    <tr>\n",
       "      <th>4</th>\n",
       "      <td>1</td>\n",
       "      <td>5</td>\n",
       "      <td>236.304</td>\n",
       "    </tr>\n",
       "  </tbody>\n",
       "</table>\n",
       "</div>"
      ],
      "text/plain": [
       "   week_num  week_day  total_ord\n",
       "0         1         3    298.560\n",
       "1         1         4    539.577\n",
       "2         1         4    229.249\n",
       "3         1         5    224.675\n",
       "4         1         5    236.304"
      ]
     },
     "execution_count": 96,
     "metadata": {},
     "output_type": "execute_result"
    }
   ],
   "source": [
    "totals.head()"
   ]
  },
  {
   "cell_type": "markdown",
   "metadata": {},
   "source": [
    "__Method 1__"
   ]
  },
  {
   "cell_type": "code",
   "execution_count": 119,
   "metadata": {
    "scrolled": true
   },
   "outputs": [
    {
     "data": {
      "text/html": [
       "<div>\n",
       "<style scoped>\n",
       "    .dataframe tbody tr th:only-of-type {\n",
       "        vertical-align: middle;\n",
       "    }\n",
       "\n",
       "    .dataframe tbody tr th {\n",
       "        vertical-align: top;\n",
       "    }\n",
       "\n",
       "    .dataframe thead th {\n",
       "        text-align: right;\n",
       "    }\n",
       "</style>\n",
       "<table border=\"1\" class=\"dataframe\">\n",
       "  <thead>\n",
       "    <tr style=\"text-align: right;\">\n",
       "      <th></th>\n",
       "      <th>week_day</th>\n",
       "      <th>total_ord</th>\n",
       "    </tr>\n",
       "  </thead>\n",
       "  <tbody>\n",
       "    <tr>\n",
       "      <th>0</th>\n",
       "      <td>3</td>\n",
       "      <td>298.560</td>\n",
       "    </tr>\n",
       "    <tr>\n",
       "      <th>1</th>\n",
       "      <td>4</td>\n",
       "      <td>539.577</td>\n",
       "    </tr>\n",
       "    <tr>\n",
       "      <th>2</th>\n",
       "      <td>4</td>\n",
       "      <td>229.249</td>\n",
       "    </tr>\n",
       "    <tr>\n",
       "      <th>3</th>\n",
       "      <td>5</td>\n",
       "      <td>224.675</td>\n",
       "    </tr>\n",
       "    <tr>\n",
       "      <th>4</th>\n",
       "      <td>5</td>\n",
       "      <td>236.304</td>\n",
       "    </tr>\n",
       "    <tr>\n",
       "      <th>5</th>\n",
       "      <td>6</td>\n",
       "      <td>129.412</td>\n",
       "    </tr>\n",
       "    <tr>\n",
       "      <th>6</th>\n",
       "      <td>6</td>\n",
       "      <td>297.174</td>\n",
       "    </tr>\n",
       "    <tr>\n",
       "      <th>7</th>\n",
       "      <td>6</td>\n",
       "      <td>416.830</td>\n",
       "    </tr>\n",
       "    <tr>\n",
       "      <th>8</th>\n",
       "      <td>2</td>\n",
       "      <td>317.120</td>\n",
       "    </tr>\n",
       "    <tr>\n",
       "      <th>9</th>\n",
       "      <td>2</td>\n",
       "      <td>409.401</td>\n",
       "    </tr>\n",
       "    <tr>\n",
       "      <th>10</th>\n",
       "      <td>2</td>\n",
       "      <td>415.187</td>\n",
       "    </tr>\n",
       "    <tr>\n",
       "      <th>11</th>\n",
       "      <td>3</td>\n",
       "      <td>210.517</td>\n",
       "    </tr>\n",
       "    <tr>\n",
       "      <th>12</th>\n",
       "      <td>3</td>\n",
       "      <td>231.035</td>\n",
       "    </tr>\n",
       "    <tr>\n",
       "      <th>13</th>\n",
       "      <td>3</td>\n",
       "      <td>268.002</td>\n",
       "    </tr>\n",
       "    <tr>\n",
       "      <th>14</th>\n",
       "      <td>4</td>\n",
       "      <td>207.364</td>\n",
       "    </tr>\n",
       "    <tr>\n",
       "      <th>15</th>\n",
       "      <td>4</td>\n",
       "      <td>238.826</td>\n",
       "    </tr>\n",
       "    <tr>\n",
       "      <th>16</th>\n",
       "      <td>4</td>\n",
       "      <td>234.503</td>\n",
       "    </tr>\n",
       "    <tr>\n",
       "      <th>17</th>\n",
       "      <td>5</td>\n",
       "      <td>263.043</td>\n",
       "    </tr>\n",
       "    <tr>\n",
       "      <th>18</th>\n",
       "      <td>5</td>\n",
       "      <td>235.598</td>\n",
       "    </tr>\n",
       "    <tr>\n",
       "      <th>19</th>\n",
       "      <td>5</td>\n",
       "      <td>234.724</td>\n",
       "    </tr>\n",
       "    <tr>\n",
       "      <th>20</th>\n",
       "      <td>6</td>\n",
       "      <td>248.958</td>\n",
       "    </tr>\n",
       "    <tr>\n",
       "      <th>21</th>\n",
       "      <td>6</td>\n",
       "      <td>242.112</td>\n",
       "    </tr>\n",
       "    <tr>\n",
       "      <th>22</th>\n",
       "      <td>6</td>\n",
       "      <td>230.064</td>\n",
       "    </tr>\n",
       "    <tr>\n",
       "      <th>23</th>\n",
       "      <td>2</td>\n",
       "      <td>344.291</td>\n",
       "    </tr>\n",
       "    <tr>\n",
       "      <th>24</th>\n",
       "      <td>2</td>\n",
       "      <td>490.790</td>\n",
       "    </tr>\n",
       "    <tr>\n",
       "      <th>25</th>\n",
       "      <td>2</td>\n",
       "      <td>357.394</td>\n",
       "    </tr>\n",
       "    <tr>\n",
       "      <th>26</th>\n",
       "      <td>3</td>\n",
       "      <td>248.428</td>\n",
       "    </tr>\n",
       "    <tr>\n",
       "      <th>27</th>\n",
       "      <td>3</td>\n",
       "      <td>289.657</td>\n",
       "    </tr>\n",
       "    <tr>\n",
       "      <th>28</th>\n",
       "      <td>3</td>\n",
       "      <td>259.246</td>\n",
       "    </tr>\n",
       "    <tr>\n",
       "      <th>29</th>\n",
       "      <td>4</td>\n",
       "      <td>281.420</td>\n",
       "    </tr>\n",
       "    <tr>\n",
       "      <th>30</th>\n",
       "      <td>4</td>\n",
       "      <td>298.459</td>\n",
       "    </tr>\n",
       "    <tr>\n",
       "      <th>31</th>\n",
       "      <td>4</td>\n",
       "      <td>244.235</td>\n",
       "    </tr>\n",
       "    <tr>\n",
       "      <th>32</th>\n",
       "      <td>5</td>\n",
       "      <td>243.568</td>\n",
       "    </tr>\n",
       "    <tr>\n",
       "      <th>33</th>\n",
       "      <td>5</td>\n",
       "      <td>323.603</td>\n",
       "    </tr>\n",
       "    <tr>\n",
       "      <th>34</th>\n",
       "      <td>5</td>\n",
       "      <td>402.607</td>\n",
       "    </tr>\n",
       "    <tr>\n",
       "      <th>35</th>\n",
       "      <td>6</td>\n",
       "      <td>308.178</td>\n",
       "    </tr>\n",
       "    <tr>\n",
       "      <th>36</th>\n",
       "      <td>6</td>\n",
       "      <td>255.061</td>\n",
       "    </tr>\n",
       "    <tr>\n",
       "      <th>37</th>\n",
       "      <td>2</td>\n",
       "      <td>363.402</td>\n",
       "    </tr>\n",
       "    <tr>\n",
       "      <th>38</th>\n",
       "      <td>2</td>\n",
       "      <td>342.606</td>\n",
       "    </tr>\n",
       "    <tr>\n",
       "      <th>39</th>\n",
       "      <td>3</td>\n",
       "      <td>336.872</td>\n",
       "    </tr>\n",
       "    <tr>\n",
       "      <th>40</th>\n",
       "      <td>3</td>\n",
       "      <td>616.453</td>\n",
       "    </tr>\n",
       "    <tr>\n",
       "      <th>41</th>\n",
       "      <td>3</td>\n",
       "      <td>268.640</td>\n",
       "    </tr>\n",
       "    <tr>\n",
       "      <th>42</th>\n",
       "      <td>4</td>\n",
       "      <td>246.992</td>\n",
       "    </tr>\n",
       "    <tr>\n",
       "      <th>43</th>\n",
       "      <td>4</td>\n",
       "      <td>346.035</td>\n",
       "    </tr>\n",
       "    <tr>\n",
       "      <th>44</th>\n",
       "      <td>4</td>\n",
       "      <td>188.601</td>\n",
       "    </tr>\n",
       "    <tr>\n",
       "      <th>45</th>\n",
       "      <td>5</td>\n",
       "      <td>308.880</td>\n",
       "    </tr>\n",
       "    <tr>\n",
       "      <th>46</th>\n",
       "      <td>5</td>\n",
       "      <td>307.645</td>\n",
       "    </tr>\n",
       "    <tr>\n",
       "      <th>47</th>\n",
       "      <td>5</td>\n",
       "      <td>202.022</td>\n",
       "    </tr>\n",
       "    <tr>\n",
       "      <th>48</th>\n",
       "      <td>6</td>\n",
       "      <td>233.126</td>\n",
       "    </tr>\n",
       "    <tr>\n",
       "      <th>49</th>\n",
       "      <td>6</td>\n",
       "      <td>253.847</td>\n",
       "    </tr>\n",
       "    <tr>\n",
       "      <th>50</th>\n",
       "      <td>6</td>\n",
       "      <td>213.509</td>\n",
       "    </tr>\n",
       "    <tr>\n",
       "      <th>51</th>\n",
       "      <td>2</td>\n",
       "      <td>404.380</td>\n",
       "    </tr>\n",
       "    <tr>\n",
       "      <th>52</th>\n",
       "      <td>2</td>\n",
       "      <td>530.944</td>\n",
       "    </tr>\n",
       "    <tr>\n",
       "      <th>53</th>\n",
       "      <td>2</td>\n",
       "      <td>316.849</td>\n",
       "    </tr>\n",
       "    <tr>\n",
       "      <th>54</th>\n",
       "      <td>3</td>\n",
       "      <td>333.359</td>\n",
       "    </tr>\n",
       "    <tr>\n",
       "      <th>55</th>\n",
       "      <td>3</td>\n",
       "      <td>286.412</td>\n",
       "    </tr>\n",
       "    <tr>\n",
       "      <th>56</th>\n",
       "      <td>4</td>\n",
       "      <td>306.356</td>\n",
       "    </tr>\n",
       "    <tr>\n",
       "      <th>57</th>\n",
       "      <td>4</td>\n",
       "      <td>303.447</td>\n",
       "    </tr>\n",
       "    <tr>\n",
       "      <th>58</th>\n",
       "      <td>5</td>\n",
       "      <td>304.950</td>\n",
       "    </tr>\n",
       "    <tr>\n",
       "      <th>59</th>\n",
       "      <td>6</td>\n",
       "      <td>331.900</td>\n",
       "    </tr>\n",
       "  </tbody>\n",
       "</table>\n",
       "</div>"
      ],
      "text/plain": [
       "    week_day  total_ord\n",
       "0          3    298.560\n",
       "1          4    539.577\n",
       "2          4    229.249\n",
       "3          5    224.675\n",
       "4          5    236.304\n",
       "5          6    129.412\n",
       "6          6    297.174\n",
       "7          6    416.830\n",
       "8          2    317.120\n",
       "9          2    409.401\n",
       "10         2    415.187\n",
       "11         3    210.517\n",
       "12         3    231.035\n",
       "13         3    268.002\n",
       "14         4    207.364\n",
       "15         4    238.826\n",
       "16         4    234.503\n",
       "17         5    263.043\n",
       "18         5    235.598\n",
       "19         5    234.724\n",
       "20         6    248.958\n",
       "21         6    242.112\n",
       "22         6    230.064\n",
       "23         2    344.291\n",
       "24         2    490.790\n",
       "25         2    357.394\n",
       "26         3    248.428\n",
       "27         3    289.657\n",
       "28         3    259.246\n",
       "29         4    281.420\n",
       "30         4    298.459\n",
       "31         4    244.235\n",
       "32         5    243.568\n",
       "33         5    323.603\n",
       "34         5    402.607\n",
       "35         6    308.178\n",
       "36         6    255.061\n",
       "37         2    363.402\n",
       "38         2    342.606\n",
       "39         3    336.872\n",
       "40         3    616.453\n",
       "41         3    268.640\n",
       "42         4    246.992\n",
       "43         4    346.035\n",
       "44         4    188.601\n",
       "45         5    308.880\n",
       "46         5    307.645\n",
       "47         5    202.022\n",
       "48         6    233.126\n",
       "49         6    253.847\n",
       "50         6    213.509\n",
       "51         2    404.380\n",
       "52         2    530.944\n",
       "53         2    316.849\n",
       "54         3    333.359\n",
       "55         3    286.412\n",
       "56         4    306.356\n",
       "57         4    303.447\n",
       "58         5    304.950\n",
       "59         6    331.900"
      ]
     },
     "execution_count": 119,
     "metadata": {},
     "output_type": "execute_result"
    }
   ],
   "source": [
    "totals.drop(['week_num'], axis=1)"
   ]
  },
  {
   "cell_type": "markdown",
   "metadata": {},
   "source": [
    "It seems that we successfully removed __week_num__ from the dataframe. Let's confirm it by checking the head:"
   ]
  },
  {
   "cell_type": "code",
   "execution_count": 121,
   "metadata": {},
   "outputs": [
    {
     "data": {
      "text/html": [
       "<div>\n",
       "<style scoped>\n",
       "    .dataframe tbody tr th:only-of-type {\n",
       "        vertical-align: middle;\n",
       "    }\n",
       "\n",
       "    .dataframe tbody tr th {\n",
       "        vertical-align: top;\n",
       "    }\n",
       "\n",
       "    .dataframe thead th {\n",
       "        text-align: right;\n",
       "    }\n",
       "</style>\n",
       "<table border=\"1\" class=\"dataframe\">\n",
       "  <thead>\n",
       "    <tr style=\"text-align: right;\">\n",
       "      <th></th>\n",
       "      <th>week_num</th>\n",
       "      <th>week_day</th>\n",
       "      <th>total_ord</th>\n",
       "    </tr>\n",
       "  </thead>\n",
       "  <tbody>\n",
       "    <tr>\n",
       "      <th>0</th>\n",
       "      <td>1</td>\n",
       "      <td>3</td>\n",
       "      <td>298.560</td>\n",
       "    </tr>\n",
       "    <tr>\n",
       "      <th>1</th>\n",
       "      <td>1</td>\n",
       "      <td>4</td>\n",
       "      <td>539.577</td>\n",
       "    </tr>\n",
       "    <tr>\n",
       "      <th>2</th>\n",
       "      <td>1</td>\n",
       "      <td>4</td>\n",
       "      <td>229.249</td>\n",
       "    </tr>\n",
       "  </tbody>\n",
       "</table>\n",
       "</div>"
      ],
      "text/plain": [
       "   week_num  week_day  total_ord\n",
       "0         1         3    298.560\n",
       "1         1         4    539.577\n",
       "2         1         4    229.249"
      ]
     },
     "execution_count": 121,
     "metadata": {},
     "output_type": "execute_result"
    }
   ],
   "source": [
    "totals.head(3)"
   ]
  },
  {
   "cell_type": "markdown",
   "metadata": {},
   "source": [
    "Nope! __week_num__ is there!\n",
    "The reason is that __.drop__ method, unless specified , _returns_ the result you've askedd without changing the actual data. Using __inplace=True__ we can change the dataframe:"
   ]
  },
  {
   "cell_type": "code",
   "execution_count": 122,
   "metadata": {},
   "outputs": [],
   "source": [
    "totals.drop(['week_num'], axis=1, inplace=True)"
   ]
  },
  {
   "cell_type": "code",
   "execution_count": 124,
   "metadata": {},
   "outputs": [
    {
     "data": {
      "text/html": [
       "<div>\n",
       "<style scoped>\n",
       "    .dataframe tbody tr th:only-of-type {\n",
       "        vertical-align: middle;\n",
       "    }\n",
       "\n",
       "    .dataframe tbody tr th {\n",
       "        vertical-align: top;\n",
       "    }\n",
       "\n",
       "    .dataframe thead th {\n",
       "        text-align: right;\n",
       "    }\n",
       "</style>\n",
       "<table border=\"1\" class=\"dataframe\">\n",
       "  <thead>\n",
       "    <tr style=\"text-align: right;\">\n",
       "      <th></th>\n",
       "      <th>week_day</th>\n",
       "      <th>total_ord</th>\n",
       "    </tr>\n",
       "  </thead>\n",
       "  <tbody>\n",
       "    <tr>\n",
       "      <th>0</th>\n",
       "      <td>3</td>\n",
       "      <td>298.560</td>\n",
       "    </tr>\n",
       "    <tr>\n",
       "      <th>1</th>\n",
       "      <td>4</td>\n",
       "      <td>539.577</td>\n",
       "    </tr>\n",
       "    <tr>\n",
       "      <th>2</th>\n",
       "      <td>4</td>\n",
       "      <td>229.249</td>\n",
       "    </tr>\n",
       "  </tbody>\n",
       "</table>\n",
       "</div>"
      ],
      "text/plain": [
       "   week_day  total_ord\n",
       "0         3    298.560\n",
       "1         4    539.577\n",
       "2         4    229.249"
      ]
     },
     "execution_count": 124,
     "metadata": {},
     "output_type": "execute_result"
    }
   ],
   "source": [
    "totals.head(3)"
   ]
  },
  {
   "cell_type": "markdown",
   "metadata": {},
   "source": [
    "__Method 2__\n",
    "\n",
    "The second way to remove a column is to filter dataframe using a list of columns we __want__ :"
   ]
  },
  {
   "cell_type": "code",
   "execution_count": 101,
   "metadata": {
    "scrolled": true
   },
   "outputs": [
    {
     "data": {
      "text/html": [
       "<div>\n",
       "<style scoped>\n",
       "    .dataframe tbody tr th:only-of-type {\n",
       "        vertical-align: middle;\n",
       "    }\n",
       "\n",
       "    .dataframe tbody tr th {\n",
       "        vertical-align: top;\n",
       "    }\n",
       "\n",
       "    .dataframe thead th {\n",
       "        text-align: right;\n",
       "    }\n",
       "</style>\n",
       "<table border=\"1\" class=\"dataframe\">\n",
       "  <thead>\n",
       "    <tr style=\"text-align: right;\">\n",
       "      <th></th>\n",
       "      <th>total_ord</th>\n",
       "    </tr>\n",
       "  </thead>\n",
       "  <tbody>\n",
       "    <tr>\n",
       "      <th>0</th>\n",
       "      <td>298.560</td>\n",
       "    </tr>\n",
       "    <tr>\n",
       "      <th>1</th>\n",
       "      <td>539.577</td>\n",
       "    </tr>\n",
       "    <tr>\n",
       "      <th>2</th>\n",
       "      <td>229.249</td>\n",
       "    </tr>\n",
       "    <tr>\n",
       "      <th>3</th>\n",
       "      <td>224.675</td>\n",
       "    </tr>\n",
       "    <tr>\n",
       "      <th>4</th>\n",
       "      <td>236.304</td>\n",
       "    </tr>\n",
       "    <tr>\n",
       "      <th>5</th>\n",
       "      <td>129.412</td>\n",
       "    </tr>\n",
       "    <tr>\n",
       "      <th>6</th>\n",
       "      <td>297.174</td>\n",
       "    </tr>\n",
       "    <tr>\n",
       "      <th>7</th>\n",
       "      <td>416.830</td>\n",
       "    </tr>\n",
       "    <tr>\n",
       "      <th>8</th>\n",
       "      <td>317.120</td>\n",
       "    </tr>\n",
       "    <tr>\n",
       "      <th>9</th>\n",
       "      <td>409.401</td>\n",
       "    </tr>\n",
       "    <tr>\n",
       "      <th>10</th>\n",
       "      <td>415.187</td>\n",
       "    </tr>\n",
       "    <tr>\n",
       "      <th>11</th>\n",
       "      <td>210.517</td>\n",
       "    </tr>\n",
       "    <tr>\n",
       "      <th>12</th>\n",
       "      <td>231.035</td>\n",
       "    </tr>\n",
       "    <tr>\n",
       "      <th>13</th>\n",
       "      <td>268.002</td>\n",
       "    </tr>\n",
       "    <tr>\n",
       "      <th>14</th>\n",
       "      <td>207.364</td>\n",
       "    </tr>\n",
       "    <tr>\n",
       "      <th>15</th>\n",
       "      <td>238.826</td>\n",
       "    </tr>\n",
       "    <tr>\n",
       "      <th>16</th>\n",
       "      <td>234.503</td>\n",
       "    </tr>\n",
       "    <tr>\n",
       "      <th>17</th>\n",
       "      <td>263.043</td>\n",
       "    </tr>\n",
       "    <tr>\n",
       "      <th>18</th>\n",
       "      <td>235.598</td>\n",
       "    </tr>\n",
       "    <tr>\n",
       "      <th>19</th>\n",
       "      <td>234.724</td>\n",
       "    </tr>\n",
       "    <tr>\n",
       "      <th>20</th>\n",
       "      <td>248.958</td>\n",
       "    </tr>\n",
       "    <tr>\n",
       "      <th>21</th>\n",
       "      <td>242.112</td>\n",
       "    </tr>\n",
       "    <tr>\n",
       "      <th>22</th>\n",
       "      <td>230.064</td>\n",
       "    </tr>\n",
       "    <tr>\n",
       "      <th>23</th>\n",
       "      <td>344.291</td>\n",
       "    </tr>\n",
       "    <tr>\n",
       "      <th>24</th>\n",
       "      <td>490.790</td>\n",
       "    </tr>\n",
       "    <tr>\n",
       "      <th>25</th>\n",
       "      <td>357.394</td>\n",
       "    </tr>\n",
       "    <tr>\n",
       "      <th>26</th>\n",
       "      <td>248.428</td>\n",
       "    </tr>\n",
       "    <tr>\n",
       "      <th>27</th>\n",
       "      <td>289.657</td>\n",
       "    </tr>\n",
       "    <tr>\n",
       "      <th>28</th>\n",
       "      <td>259.246</td>\n",
       "    </tr>\n",
       "    <tr>\n",
       "      <th>29</th>\n",
       "      <td>281.420</td>\n",
       "    </tr>\n",
       "    <tr>\n",
       "      <th>30</th>\n",
       "      <td>298.459</td>\n",
       "    </tr>\n",
       "    <tr>\n",
       "      <th>31</th>\n",
       "      <td>244.235</td>\n",
       "    </tr>\n",
       "    <tr>\n",
       "      <th>32</th>\n",
       "      <td>243.568</td>\n",
       "    </tr>\n",
       "    <tr>\n",
       "      <th>33</th>\n",
       "      <td>323.603</td>\n",
       "    </tr>\n",
       "    <tr>\n",
       "      <th>34</th>\n",
       "      <td>402.607</td>\n",
       "    </tr>\n",
       "    <tr>\n",
       "      <th>35</th>\n",
       "      <td>308.178</td>\n",
       "    </tr>\n",
       "    <tr>\n",
       "      <th>36</th>\n",
       "      <td>255.061</td>\n",
       "    </tr>\n",
       "    <tr>\n",
       "      <th>37</th>\n",
       "      <td>363.402</td>\n",
       "    </tr>\n",
       "    <tr>\n",
       "      <th>38</th>\n",
       "      <td>342.606</td>\n",
       "    </tr>\n",
       "    <tr>\n",
       "      <th>39</th>\n",
       "      <td>336.872</td>\n",
       "    </tr>\n",
       "    <tr>\n",
       "      <th>40</th>\n",
       "      <td>616.453</td>\n",
       "    </tr>\n",
       "    <tr>\n",
       "      <th>41</th>\n",
       "      <td>268.640</td>\n",
       "    </tr>\n",
       "    <tr>\n",
       "      <th>42</th>\n",
       "      <td>246.992</td>\n",
       "    </tr>\n",
       "    <tr>\n",
       "      <th>43</th>\n",
       "      <td>346.035</td>\n",
       "    </tr>\n",
       "    <tr>\n",
       "      <th>44</th>\n",
       "      <td>188.601</td>\n",
       "    </tr>\n",
       "    <tr>\n",
       "      <th>45</th>\n",
       "      <td>308.880</td>\n",
       "    </tr>\n",
       "    <tr>\n",
       "      <th>46</th>\n",
       "      <td>307.645</td>\n",
       "    </tr>\n",
       "    <tr>\n",
       "      <th>47</th>\n",
       "      <td>202.022</td>\n",
       "    </tr>\n",
       "    <tr>\n",
       "      <th>48</th>\n",
       "      <td>233.126</td>\n",
       "    </tr>\n",
       "    <tr>\n",
       "      <th>49</th>\n",
       "      <td>253.847</td>\n",
       "    </tr>\n",
       "    <tr>\n",
       "      <th>50</th>\n",
       "      <td>213.509</td>\n",
       "    </tr>\n",
       "    <tr>\n",
       "      <th>51</th>\n",
       "      <td>404.380</td>\n",
       "    </tr>\n",
       "    <tr>\n",
       "      <th>52</th>\n",
       "      <td>530.944</td>\n",
       "    </tr>\n",
       "    <tr>\n",
       "      <th>53</th>\n",
       "      <td>316.849</td>\n",
       "    </tr>\n",
       "    <tr>\n",
       "      <th>54</th>\n",
       "      <td>333.359</td>\n",
       "    </tr>\n",
       "    <tr>\n",
       "      <th>55</th>\n",
       "      <td>286.412</td>\n",
       "    </tr>\n",
       "    <tr>\n",
       "      <th>56</th>\n",
       "      <td>306.356</td>\n",
       "    </tr>\n",
       "    <tr>\n",
       "      <th>57</th>\n",
       "      <td>303.447</td>\n",
       "    </tr>\n",
       "    <tr>\n",
       "      <th>58</th>\n",
       "      <td>304.950</td>\n",
       "    </tr>\n",
       "    <tr>\n",
       "      <th>59</th>\n",
       "      <td>331.900</td>\n",
       "    </tr>\n",
       "  </tbody>\n",
       "</table>\n",
       "</div>"
      ],
      "text/plain": [
       "    total_ord\n",
       "0     298.560\n",
       "1     539.577\n",
       "2     229.249\n",
       "3     224.675\n",
       "4     236.304\n",
       "5     129.412\n",
       "6     297.174\n",
       "7     416.830\n",
       "8     317.120\n",
       "9     409.401\n",
       "10    415.187\n",
       "11    210.517\n",
       "12    231.035\n",
       "13    268.002\n",
       "14    207.364\n",
       "15    238.826\n",
       "16    234.503\n",
       "17    263.043\n",
       "18    235.598\n",
       "19    234.724\n",
       "20    248.958\n",
       "21    242.112\n",
       "22    230.064\n",
       "23    344.291\n",
       "24    490.790\n",
       "25    357.394\n",
       "26    248.428\n",
       "27    289.657\n",
       "28    259.246\n",
       "29    281.420\n",
       "30    298.459\n",
       "31    244.235\n",
       "32    243.568\n",
       "33    323.603\n",
       "34    402.607\n",
       "35    308.178\n",
       "36    255.061\n",
       "37    363.402\n",
       "38    342.606\n",
       "39    336.872\n",
       "40    616.453\n",
       "41    268.640\n",
       "42    246.992\n",
       "43    346.035\n",
       "44    188.601\n",
       "45    308.880\n",
       "46    307.645\n",
       "47    202.022\n",
       "48    233.126\n",
       "49    253.847\n",
       "50    213.509\n",
       "51    404.380\n",
       "52    530.944\n",
       "53    316.849\n",
       "54    333.359\n",
       "55    286.412\n",
       "56    306.356\n",
       "57    303.447\n",
       "58    304.950\n",
       "59    331.900"
      ]
     },
     "execution_count": 101,
     "metadata": {},
     "output_type": "execute_result"
    }
   ],
   "source": [
    "totals[['total_ord']]"
   ]
  },
  {
   "cell_type": "markdown",
   "metadata": {},
   "source": [
    " "
   ]
  },
  {
   "cell_type": "markdown",
   "metadata": {},
   "source": [
    "<img src=\"../Images/baby.svg\"   width=\"30\" align=\"left\">               "
   ]
  },
  {
   "cell_type": "markdown",
   "metadata": {},
   "source": [
    "**YOUR TURN:**\n",
    "    \n",
    "Using the second method,  remove the _week_day_ column"
   ]
  },
  {
   "cell_type": "code",
   "execution_count": 113,
   "metadata": {
    "scrolled": true
   },
   "outputs": [
    {
     "data": {
      "text/html": [
       "<div>\n",
       "<style scoped>\n",
       "    .dataframe tbody tr th:only-of-type {\n",
       "        vertical-align: middle;\n",
       "    }\n",
       "\n",
       "    .dataframe tbody tr th {\n",
       "        vertical-align: top;\n",
       "    }\n",
       "\n",
       "    .dataframe thead th {\n",
       "        text-align: right;\n",
       "    }\n",
       "</style>\n",
       "<table border=\"1\" class=\"dataframe\">\n",
       "  <thead>\n",
       "    <tr style=\"text-align: right;\">\n",
       "      <th></th>\n",
       "      <th>week_num</th>\n",
       "      <th>total_ord</th>\n",
       "    </tr>\n",
       "  </thead>\n",
       "  <tbody>\n",
       "    <tr>\n",
       "      <th>0</th>\n",
       "      <td>1</td>\n",
       "      <td>298.560</td>\n",
       "    </tr>\n",
       "    <tr>\n",
       "      <th>1</th>\n",
       "      <td>1</td>\n",
       "      <td>539.577</td>\n",
       "    </tr>\n",
       "    <tr>\n",
       "      <th>2</th>\n",
       "      <td>1</td>\n",
       "      <td>229.249</td>\n",
       "    </tr>\n",
       "    <tr>\n",
       "      <th>3</th>\n",
       "      <td>1</td>\n",
       "      <td>224.675</td>\n",
       "    </tr>\n",
       "    <tr>\n",
       "      <th>4</th>\n",
       "      <td>1</td>\n",
       "      <td>236.304</td>\n",
       "    </tr>\n",
       "    <tr>\n",
       "      <th>5</th>\n",
       "      <td>1</td>\n",
       "      <td>129.412</td>\n",
       "    </tr>\n",
       "    <tr>\n",
       "      <th>6</th>\n",
       "      <td>1</td>\n",
       "      <td>297.174</td>\n",
       "    </tr>\n",
       "    <tr>\n",
       "      <th>7</th>\n",
       "      <td>1</td>\n",
       "      <td>416.830</td>\n",
       "    </tr>\n",
       "    <tr>\n",
       "      <th>8</th>\n",
       "      <td>2</td>\n",
       "      <td>317.120</td>\n",
       "    </tr>\n",
       "    <tr>\n",
       "      <th>9</th>\n",
       "      <td>2</td>\n",
       "      <td>409.401</td>\n",
       "    </tr>\n",
       "    <tr>\n",
       "      <th>10</th>\n",
       "      <td>2</td>\n",
       "      <td>415.187</td>\n",
       "    </tr>\n",
       "    <tr>\n",
       "      <th>11</th>\n",
       "      <td>2</td>\n",
       "      <td>210.517</td>\n",
       "    </tr>\n",
       "    <tr>\n",
       "      <th>12</th>\n",
       "      <td>2</td>\n",
       "      <td>231.035</td>\n",
       "    </tr>\n",
       "    <tr>\n",
       "      <th>13</th>\n",
       "      <td>2</td>\n",
       "      <td>268.002</td>\n",
       "    </tr>\n",
       "    <tr>\n",
       "      <th>14</th>\n",
       "      <td>2</td>\n",
       "      <td>207.364</td>\n",
       "    </tr>\n",
       "    <tr>\n",
       "      <th>15</th>\n",
       "      <td>2</td>\n",
       "      <td>238.826</td>\n",
       "    </tr>\n",
       "    <tr>\n",
       "      <th>16</th>\n",
       "      <td>2</td>\n",
       "      <td>234.503</td>\n",
       "    </tr>\n",
       "    <tr>\n",
       "      <th>17</th>\n",
       "      <td>2</td>\n",
       "      <td>263.043</td>\n",
       "    </tr>\n",
       "    <tr>\n",
       "      <th>18</th>\n",
       "      <td>2</td>\n",
       "      <td>235.598</td>\n",
       "    </tr>\n",
       "    <tr>\n",
       "      <th>19</th>\n",
       "      <td>2</td>\n",
       "      <td>234.724</td>\n",
       "    </tr>\n",
       "    <tr>\n",
       "      <th>20</th>\n",
       "      <td>2</td>\n",
       "      <td>248.958</td>\n",
       "    </tr>\n",
       "    <tr>\n",
       "      <th>21</th>\n",
       "      <td>2</td>\n",
       "      <td>242.112</td>\n",
       "    </tr>\n",
       "    <tr>\n",
       "      <th>22</th>\n",
       "      <td>2</td>\n",
       "      <td>230.064</td>\n",
       "    </tr>\n",
       "    <tr>\n",
       "      <th>23</th>\n",
       "      <td>3</td>\n",
       "      <td>344.291</td>\n",
       "    </tr>\n",
       "    <tr>\n",
       "      <th>24</th>\n",
       "      <td>3</td>\n",
       "      <td>490.790</td>\n",
       "    </tr>\n",
       "    <tr>\n",
       "      <th>25</th>\n",
       "      <td>3</td>\n",
       "      <td>357.394</td>\n",
       "    </tr>\n",
       "    <tr>\n",
       "      <th>26</th>\n",
       "      <td>3</td>\n",
       "      <td>248.428</td>\n",
       "    </tr>\n",
       "    <tr>\n",
       "      <th>27</th>\n",
       "      <td>3</td>\n",
       "      <td>289.657</td>\n",
       "    </tr>\n",
       "    <tr>\n",
       "      <th>28</th>\n",
       "      <td>3</td>\n",
       "      <td>259.246</td>\n",
       "    </tr>\n",
       "    <tr>\n",
       "      <th>29</th>\n",
       "      <td>3</td>\n",
       "      <td>281.420</td>\n",
       "    </tr>\n",
       "    <tr>\n",
       "      <th>30</th>\n",
       "      <td>3</td>\n",
       "      <td>298.459</td>\n",
       "    </tr>\n",
       "    <tr>\n",
       "      <th>31</th>\n",
       "      <td>3</td>\n",
       "      <td>244.235</td>\n",
       "    </tr>\n",
       "    <tr>\n",
       "      <th>32</th>\n",
       "      <td>3</td>\n",
       "      <td>243.568</td>\n",
       "    </tr>\n",
       "    <tr>\n",
       "      <th>33</th>\n",
       "      <td>3</td>\n",
       "      <td>323.603</td>\n",
       "    </tr>\n",
       "    <tr>\n",
       "      <th>34</th>\n",
       "      <td>3</td>\n",
       "      <td>402.607</td>\n",
       "    </tr>\n",
       "    <tr>\n",
       "      <th>35</th>\n",
       "      <td>3</td>\n",
       "      <td>308.178</td>\n",
       "    </tr>\n",
       "    <tr>\n",
       "      <th>36</th>\n",
       "      <td>3</td>\n",
       "      <td>255.061</td>\n",
       "    </tr>\n",
       "    <tr>\n",
       "      <th>37</th>\n",
       "      <td>4</td>\n",
       "      <td>363.402</td>\n",
       "    </tr>\n",
       "    <tr>\n",
       "      <th>38</th>\n",
       "      <td>4</td>\n",
       "      <td>342.606</td>\n",
       "    </tr>\n",
       "    <tr>\n",
       "      <th>39</th>\n",
       "      <td>4</td>\n",
       "      <td>336.872</td>\n",
       "    </tr>\n",
       "    <tr>\n",
       "      <th>40</th>\n",
       "      <td>4</td>\n",
       "      <td>616.453</td>\n",
       "    </tr>\n",
       "    <tr>\n",
       "      <th>41</th>\n",
       "      <td>4</td>\n",
       "      <td>268.640</td>\n",
       "    </tr>\n",
       "    <tr>\n",
       "      <th>42</th>\n",
       "      <td>4</td>\n",
       "      <td>246.992</td>\n",
       "    </tr>\n",
       "    <tr>\n",
       "      <th>43</th>\n",
       "      <td>4</td>\n",
       "      <td>346.035</td>\n",
       "    </tr>\n",
       "    <tr>\n",
       "      <th>44</th>\n",
       "      <td>4</td>\n",
       "      <td>188.601</td>\n",
       "    </tr>\n",
       "    <tr>\n",
       "      <th>45</th>\n",
       "      <td>4</td>\n",
       "      <td>308.880</td>\n",
       "    </tr>\n",
       "    <tr>\n",
       "      <th>46</th>\n",
       "      <td>4</td>\n",
       "      <td>307.645</td>\n",
       "    </tr>\n",
       "    <tr>\n",
       "      <th>47</th>\n",
       "      <td>4</td>\n",
       "      <td>202.022</td>\n",
       "    </tr>\n",
       "    <tr>\n",
       "      <th>48</th>\n",
       "      <td>4</td>\n",
       "      <td>233.126</td>\n",
       "    </tr>\n",
       "    <tr>\n",
       "      <th>49</th>\n",
       "      <td>4</td>\n",
       "      <td>253.847</td>\n",
       "    </tr>\n",
       "    <tr>\n",
       "      <th>50</th>\n",
       "      <td>4</td>\n",
       "      <td>213.509</td>\n",
       "    </tr>\n",
       "    <tr>\n",
       "      <th>51</th>\n",
       "      <td>5</td>\n",
       "      <td>404.380</td>\n",
       "    </tr>\n",
       "    <tr>\n",
       "      <th>52</th>\n",
       "      <td>5</td>\n",
       "      <td>530.944</td>\n",
       "    </tr>\n",
       "    <tr>\n",
       "      <th>53</th>\n",
       "      <td>5</td>\n",
       "      <td>316.849</td>\n",
       "    </tr>\n",
       "    <tr>\n",
       "      <th>54</th>\n",
       "      <td>5</td>\n",
       "      <td>333.359</td>\n",
       "    </tr>\n",
       "    <tr>\n",
       "      <th>55</th>\n",
       "      <td>5</td>\n",
       "      <td>286.412</td>\n",
       "    </tr>\n",
       "    <tr>\n",
       "      <th>56</th>\n",
       "      <td>5</td>\n",
       "      <td>306.356</td>\n",
       "    </tr>\n",
       "    <tr>\n",
       "      <th>57</th>\n",
       "      <td>5</td>\n",
       "      <td>303.447</td>\n",
       "    </tr>\n",
       "    <tr>\n",
       "      <th>58</th>\n",
       "      <td>5</td>\n",
       "      <td>304.950</td>\n",
       "    </tr>\n",
       "    <tr>\n",
       "      <th>59</th>\n",
       "      <td>5</td>\n",
       "      <td>331.900</td>\n",
       "    </tr>\n",
       "  </tbody>\n",
       "</table>\n",
       "</div>"
      ],
      "text/plain": [
       "    week_num  total_ord\n",
       "0          1    298.560\n",
       "1          1    539.577\n",
       "2          1    229.249\n",
       "3          1    224.675\n",
       "4          1    236.304\n",
       "5          1    129.412\n",
       "6          1    297.174\n",
       "7          1    416.830\n",
       "8          2    317.120\n",
       "9          2    409.401\n",
       "10         2    415.187\n",
       "11         2    210.517\n",
       "12         2    231.035\n",
       "13         2    268.002\n",
       "14         2    207.364\n",
       "15         2    238.826\n",
       "16         2    234.503\n",
       "17         2    263.043\n",
       "18         2    235.598\n",
       "19         2    234.724\n",
       "20         2    248.958\n",
       "21         2    242.112\n",
       "22         2    230.064\n",
       "23         3    344.291\n",
       "24         3    490.790\n",
       "25         3    357.394\n",
       "26         3    248.428\n",
       "27         3    289.657\n",
       "28         3    259.246\n",
       "29         3    281.420\n",
       "30         3    298.459\n",
       "31         3    244.235\n",
       "32         3    243.568\n",
       "33         3    323.603\n",
       "34         3    402.607\n",
       "35         3    308.178\n",
       "36         3    255.061\n",
       "37         4    363.402\n",
       "38         4    342.606\n",
       "39         4    336.872\n",
       "40         4    616.453\n",
       "41         4    268.640\n",
       "42         4    246.992\n",
       "43         4    346.035\n",
       "44         4    188.601\n",
       "45         4    308.880\n",
       "46         4    307.645\n",
       "47         4    202.022\n",
       "48         4    233.126\n",
       "49         4    253.847\n",
       "50         4    213.509\n",
       "51         5    404.380\n",
       "52         5    530.944\n",
       "53         5    316.849\n",
       "54         5    333.359\n",
       "55         5    286.412\n",
       "56         5    306.356\n",
       "57         5    303.447\n",
       "58         5    304.950\n",
       "59         5    331.900"
      ]
     },
     "execution_count": 113,
     "metadata": {},
     "output_type": "execute_result"
    }
   ],
   "source": [
    "totals[[col for col in totals.columns if 'day' not in col]]"
   ]
  },
  {
   "cell_type": "markdown",
   "metadata": {},
   "source": [
    "### Time-Series Resampling"
   ]
  },
  {
   "cell_type": "markdown",
   "metadata": {},
   "source": [
    "Pandas has lots of tools for dealing with Time-Series data. Resampling is aggregation of certain time period into another one. In the following example first we create a dataframe with random values, with daily frequency."
   ]
  },
  {
   "cell_type": "code",
   "execution_count": 123,
   "metadata": {},
   "outputs": [],
   "source": [
    "# creating a time period (365 days)\n",
    "rng = pd.date_range('1/1/2020', periods=365, freq= 'D')\n",
    "\n",
    "# creating 365 random values between 0 and 13.3\n",
    "ts_data = np.random.uniform(low=0, high=13.3, size=(len(rng),))\n",
    "\n",
    "# creating a dataframe \n",
    "ts_df = pd.DataFrame(rng, ts_data)\n",
    "\n",
    "ts_df.reset_index(inplace=True)"
   ]
  },
  {
   "cell_type": "code",
   "execution_count": 124,
   "metadata": {},
   "outputs": [
    {
     "data": {
      "text/html": [
       "<div>\n",
       "<style scoped>\n",
       "    .dataframe tbody tr th:only-of-type {\n",
       "        vertical-align: middle;\n",
       "    }\n",
       "\n",
       "    .dataframe tbody tr th {\n",
       "        vertical-align: top;\n",
       "    }\n",
       "\n",
       "    .dataframe thead th {\n",
       "        text-align: right;\n",
       "    }\n",
       "</style>\n",
       "<table border=\"1\" class=\"dataframe\">\n",
       "  <thead>\n",
       "    <tr style=\"text-align: right;\">\n",
       "      <th></th>\n",
       "      <th>index</th>\n",
       "      <th>0</th>\n",
       "    </tr>\n",
       "  </thead>\n",
       "  <tbody>\n",
       "    <tr>\n",
       "      <th>0</th>\n",
       "      <td>2.738648</td>\n",
       "      <td>2020-01-01</td>\n",
       "    </tr>\n",
       "    <tr>\n",
       "      <th>1</th>\n",
       "      <td>10.711207</td>\n",
       "      <td>2020-01-02</td>\n",
       "    </tr>\n",
       "    <tr>\n",
       "      <th>2</th>\n",
       "      <td>2.006095</td>\n",
       "      <td>2020-01-03</td>\n",
       "    </tr>\n",
       "    <tr>\n",
       "      <th>3</th>\n",
       "      <td>11.642559</td>\n",
       "      <td>2020-01-04</td>\n",
       "    </tr>\n",
       "    <tr>\n",
       "      <th>4</th>\n",
       "      <td>9.124337</td>\n",
       "      <td>2020-01-05</td>\n",
       "    </tr>\n",
       "  </tbody>\n",
       "</table>\n",
       "</div>"
      ],
      "text/plain": [
       "       index          0\n",
       "0   2.738648 2020-01-01\n",
       "1  10.711207 2020-01-02\n",
       "2   2.006095 2020-01-03\n",
       "3  11.642559 2020-01-04\n",
       "4   9.124337 2020-01-05"
      ]
     },
     "execution_count": 124,
     "metadata": {},
     "output_type": "execute_result"
    }
   ],
   "source": [
    "ts_df.head()"
   ]
  },
  {
   "cell_type": "code",
   "execution_count": 125,
   "metadata": {},
   "outputs": [],
   "source": [
    "ts_df.columns = ['value','date']"
   ]
  },
  {
   "cell_type": "code",
   "execution_count": 127,
   "metadata": {},
   "outputs": [
    {
     "data": {
      "text/html": [
       "<div>\n",
       "<style scoped>\n",
       "    .dataframe tbody tr th:only-of-type {\n",
       "        vertical-align: middle;\n",
       "    }\n",
       "\n",
       "    .dataframe tbody tr th {\n",
       "        vertical-align: top;\n",
       "    }\n",
       "\n",
       "    .dataframe thead th {\n",
       "        text-align: right;\n",
       "    }\n",
       "</style>\n",
       "<table border=\"1\" class=\"dataframe\">\n",
       "  <thead>\n",
       "    <tr style=\"text-align: right;\">\n",
       "      <th></th>\n",
       "      <th>value</th>\n",
       "      <th>date</th>\n",
       "    </tr>\n",
       "  </thead>\n",
       "  <tbody>\n",
       "    <tr>\n",
       "      <th>0</th>\n",
       "      <td>2.738648</td>\n",
       "      <td>2020-01-01</td>\n",
       "    </tr>\n",
       "    <tr>\n",
       "      <th>1</th>\n",
       "      <td>10.711207</td>\n",
       "      <td>2020-01-02</td>\n",
       "    </tr>\n",
       "    <tr>\n",
       "      <th>2</th>\n",
       "      <td>2.006095</td>\n",
       "      <td>2020-01-03</td>\n",
       "    </tr>\n",
       "    <tr>\n",
       "      <th>3</th>\n",
       "      <td>11.642559</td>\n",
       "      <td>2020-01-04</td>\n",
       "    </tr>\n",
       "    <tr>\n",
       "      <th>4</th>\n",
       "      <td>9.124337</td>\n",
       "      <td>2020-01-05</td>\n",
       "    </tr>\n",
       "  </tbody>\n",
       "</table>\n",
       "</div>"
      ],
      "text/plain": [
       "       value       date\n",
       "0   2.738648 2020-01-01\n",
       "1  10.711207 2020-01-02\n",
       "2   2.006095 2020-01-03\n",
       "3  11.642559 2020-01-04\n",
       "4   9.124337 2020-01-05"
      ]
     },
     "execution_count": 127,
     "metadata": {},
     "output_type": "execute_result"
    }
   ],
   "source": [
    "ts_df.head()"
   ]
  },
  {
   "cell_type": "markdown",
   "metadata": {},
   "source": [
    "Now using __resample__ method we can calculate average value of each month"
   ]
  },
  {
   "cell_type": "code",
   "execution_count": 298,
   "metadata": {},
   "outputs": [
    {
     "data": {
      "text/html": [
       "<div>\n",
       "<style scoped>\n",
       "    .dataframe tbody tr th:only-of-type {\n",
       "        vertical-align: middle;\n",
       "    }\n",
       "\n",
       "    .dataframe tbody tr th {\n",
       "        vertical-align: top;\n",
       "    }\n",
       "\n",
       "    .dataframe thead th {\n",
       "        text-align: right;\n",
       "    }\n",
       "</style>\n",
       "<table border=\"1\" class=\"dataframe\">\n",
       "  <thead>\n",
       "    <tr style=\"text-align: right;\">\n",
       "      <th></th>\n",
       "      <th>date</th>\n",
       "      <th>value</th>\n",
       "    </tr>\n",
       "  </thead>\n",
       "  <tbody>\n",
       "    <tr>\n",
       "      <th>0</th>\n",
       "      <td>2020-01-31</td>\n",
       "      <td>7.220358</td>\n",
       "    </tr>\n",
       "    <tr>\n",
       "      <th>1</th>\n",
       "      <td>2020-02-29</td>\n",
       "      <td>6.939249</td>\n",
       "    </tr>\n",
       "    <tr>\n",
       "      <th>2</th>\n",
       "      <td>2020-03-31</td>\n",
       "      <td>6.284377</td>\n",
       "    </tr>\n",
       "    <tr>\n",
       "      <th>3</th>\n",
       "      <td>2020-04-30</td>\n",
       "      <td>6.619520</td>\n",
       "    </tr>\n",
       "    <tr>\n",
       "      <th>4</th>\n",
       "      <td>2020-05-31</td>\n",
       "      <td>6.621165</td>\n",
       "    </tr>\n",
       "    <tr>\n",
       "      <th>5</th>\n",
       "      <td>2020-06-30</td>\n",
       "      <td>8.161623</td>\n",
       "    </tr>\n",
       "    <tr>\n",
       "      <th>6</th>\n",
       "      <td>2020-07-31</td>\n",
       "      <td>6.219482</td>\n",
       "    </tr>\n",
       "    <tr>\n",
       "      <th>7</th>\n",
       "      <td>2020-08-31</td>\n",
       "      <td>7.365859</td>\n",
       "    </tr>\n",
       "    <tr>\n",
       "      <th>8</th>\n",
       "      <td>2020-09-30</td>\n",
       "      <td>8.118496</td>\n",
       "    </tr>\n",
       "    <tr>\n",
       "      <th>9</th>\n",
       "      <td>2020-10-31</td>\n",
       "      <td>5.848800</td>\n",
       "    </tr>\n",
       "    <tr>\n",
       "      <th>10</th>\n",
       "      <td>2020-11-30</td>\n",
       "      <td>6.404476</td>\n",
       "    </tr>\n",
       "    <tr>\n",
       "      <th>11</th>\n",
       "      <td>2020-12-31</td>\n",
       "      <td>6.813859</td>\n",
       "    </tr>\n",
       "  </tbody>\n",
       "</table>\n",
       "</div>"
      ],
      "text/plain": [
       "         date     value\n",
       "0  2020-01-31  7.220358\n",
       "1  2020-02-29  6.939249\n",
       "2  2020-03-31  6.284377\n",
       "3  2020-04-30  6.619520\n",
       "4  2020-05-31  6.621165\n",
       "5  2020-06-30  8.161623\n",
       "6  2020-07-31  6.219482\n",
       "7  2020-08-31  7.365859\n",
       "8  2020-09-30  8.118496\n",
       "9  2020-10-31  5.848800\n",
       "10 2020-11-30  6.404476\n",
       "11 2020-12-31  6.813859"
      ]
     },
     "execution_count": 298,
     "metadata": {},
     "output_type": "execute_result"
    }
   ],
   "source": [
    "ts_df.resample('M', on='date').mean().reset_index()"
   ]
  },
  {
   "cell_type": "markdown",
   "metadata": {},
   "source": [
    "### Moving Window functions"
   ]
  },
  {
   "cell_type": "markdown",
   "metadata": {},
   "source": [
    "Often in finance, we should calculate moving aggregation of values (mean, median, etc.).\n",
    "In the following example we calculate quarterly moving average of _Apple_ stock price."
   ]
  },
  {
   "cell_type": "code",
   "execution_count": 130,
   "metadata": {},
   "outputs": [],
   "source": [
    "import matplotlib.pyplot as plt\n",
    "plt.rcParams['figure.figsize'] = 13,6"
   ]
  },
  {
   "cell_type": "code",
   "execution_count": 131,
   "metadata": {},
   "outputs": [],
   "source": [
    "close_px_all = pd.read_csv('./stock_px.csv', parse_dates=True, index_col=0)"
   ]
  },
  {
   "cell_type": "code",
   "execution_count": 132,
   "metadata": {},
   "outputs": [
    {
     "data": {
      "text/html": [
       "<div>\n",
       "<style scoped>\n",
       "    .dataframe tbody tr th:only-of-type {\n",
       "        vertical-align: middle;\n",
       "    }\n",
       "\n",
       "    .dataframe tbody tr th {\n",
       "        vertical-align: top;\n",
       "    }\n",
       "\n",
       "    .dataframe thead th {\n",
       "        text-align: right;\n",
       "    }\n",
       "</style>\n",
       "<table border=\"1\" class=\"dataframe\">\n",
       "  <thead>\n",
       "    <tr style=\"text-align: right;\">\n",
       "      <th></th>\n",
       "      <th>AA</th>\n",
       "      <th>AAPL</th>\n",
       "      <th>GE</th>\n",
       "      <th>IBM</th>\n",
       "      <th>JNJ</th>\n",
       "      <th>MSFT</th>\n",
       "      <th>PEP</th>\n",
       "      <th>SPX</th>\n",
       "      <th>XOM</th>\n",
       "    </tr>\n",
       "    <tr>\n",
       "      <th></th>\n",
       "      <th></th>\n",
       "      <th></th>\n",
       "      <th></th>\n",
       "      <th></th>\n",
       "      <th></th>\n",
       "      <th></th>\n",
       "      <th></th>\n",
       "      <th></th>\n",
       "      <th></th>\n",
       "    </tr>\n",
       "  </thead>\n",
       "  <tbody>\n",
       "    <tr>\n",
       "      <th>1990-02-01</th>\n",
       "      <td>4.98</td>\n",
       "      <td>7.86</td>\n",
       "      <td>2.87</td>\n",
       "      <td>16.79</td>\n",
       "      <td>4.27</td>\n",
       "      <td>0.51</td>\n",
       "      <td>6.04</td>\n",
       "      <td>328.79</td>\n",
       "      <td>6.12</td>\n",
       "    </tr>\n",
       "    <tr>\n",
       "      <th>1990-02-02</th>\n",
       "      <td>5.04</td>\n",
       "      <td>8.00</td>\n",
       "      <td>2.87</td>\n",
       "      <td>16.89</td>\n",
       "      <td>4.37</td>\n",
       "      <td>0.51</td>\n",
       "      <td>6.09</td>\n",
       "      <td>330.92</td>\n",
       "      <td>6.24</td>\n",
       "    </tr>\n",
       "    <tr>\n",
       "      <th>1990-02-05</th>\n",
       "      <td>5.07</td>\n",
       "      <td>8.18</td>\n",
       "      <td>2.87</td>\n",
       "      <td>17.32</td>\n",
       "      <td>4.34</td>\n",
       "      <td>0.51</td>\n",
       "      <td>6.05</td>\n",
       "      <td>331.85</td>\n",
       "      <td>6.25</td>\n",
       "    </tr>\n",
       "    <tr>\n",
       "      <th>1990-02-06</th>\n",
       "      <td>5.01</td>\n",
       "      <td>8.12</td>\n",
       "      <td>2.88</td>\n",
       "      <td>17.56</td>\n",
       "      <td>4.32</td>\n",
       "      <td>0.51</td>\n",
       "      <td>6.15</td>\n",
       "      <td>329.66</td>\n",
       "      <td>6.23</td>\n",
       "    </tr>\n",
       "    <tr>\n",
       "      <th>1990-02-07</th>\n",
       "      <td>5.04</td>\n",
       "      <td>7.77</td>\n",
       "      <td>2.91</td>\n",
       "      <td>17.93</td>\n",
       "      <td>4.38</td>\n",
       "      <td>0.51</td>\n",
       "      <td>6.17</td>\n",
       "      <td>333.75</td>\n",
       "      <td>6.33</td>\n",
       "    </tr>\n",
       "  </tbody>\n",
       "</table>\n",
       "</div>"
      ],
      "text/plain": [
       "                      AA      AAPL     GE      IBM      JNJ     MSFT    \\\n",
       "                                                                         \n",
       "1990-02-01              4.98     7.86    2.87    16.79    4.27    0.51   \n",
       "1990-02-02              5.04     8.00    2.87    16.89    4.37    0.51   \n",
       "1990-02-05              5.07     8.18    2.87    17.32    4.34    0.51   \n",
       "1990-02-06              5.01     8.12    2.88    17.56    4.32    0.51   \n",
       "1990-02-07              5.04     7.77    2.91    17.93    4.38    0.51   \n",
       "\n",
       "                      PEP     SPX        XOM  \n",
       "                                              \n",
       "1990-02-01            6.04      328.79  6.12  \n",
       "1990-02-02            6.09      330.92  6.24  \n",
       "1990-02-05            6.05      331.85  6.25  \n",
       "1990-02-06            6.15      329.66  6.23  \n",
       "1990-02-07            6.17      333.75  6.33  "
      ]
     },
     "execution_count": 132,
     "metadata": {},
     "output_type": "execute_result"
    }
   ],
   "source": [
    "close_px_all.head()"
   ]
  },
  {
   "cell_type": "code",
   "execution_count": 133,
   "metadata": {},
   "outputs": [],
   "source": [
    "close_px = close_px_all[['AAPL   ', 'MSFT  ', 'XOM']] # Apple, Microsoft, Exxonmobil"
   ]
  },
  {
   "cell_type": "markdown",
   "metadata": {},
   "source": [
    "<img src=\"../Images/student.svg\"   width=\"30\" align=\"left\">               "
   ]
  },
  {
   "cell_type": "markdown",
   "metadata": {},
   "source": [
    "**YOUR TURN:**\n",
    "    \n",
    "Write a function that gets a list and for each item in the list, replaces the _space_ with an underscore"
   ]
  },
  {
   "cell_type": "code",
   "execution_count": 136,
   "metadata": {},
   "outputs": [],
   "source": [
    "def replace_space(data):\n",
    "    return [x.replace(' ', '_') for x in data]"
   ]
  },
  {
   "cell_type": "code",
   "execution_count": 137,
   "metadata": {},
   "outputs": [
    {
     "data": {
      "text/plain": [
       "['AAPL___', 'MSFT__', 'XOM']"
      ]
     },
     "execution_count": 137,
     "metadata": {},
     "output_type": "execute_result"
    }
   ],
   "source": [
    "replace_space(close_px.columns)"
   ]
  },
  {
   "cell_type": "code",
   "execution_count": 282,
   "metadata": {},
   "outputs": [],
   "source": [
    "# adding cleaned cokumn names manually\n",
    "close_px.columns = ['AAPL', 'MSFT', 'XOM']"
   ]
  },
  {
   "cell_type": "markdown",
   "metadata": {},
   "source": [
    "Before seeing how we can calculate a rolling function, let's take a look at our data. Following plot shows the _Apple_ stock price:"
   ]
  },
  {
   "cell_type": "code",
   "execution_count": 151,
   "metadata": {},
   "outputs": [
    {
     "data": {
      "image/png": "[encoded data removed]",
      "text/plain": [
       "<Figure size 936x432 with 1 Axes>"
      ]
     },
     "metadata": {
      "needs_background": "light"
     },
     "output_type": "display_data"
    }
   ],
   "source": [
    "# main plot\n",
    "close_px.AAPL.plot()\n",
    "# adding the title\n",
    "plt.title('Apple Stock Price', fontsize=20, loc='left')\n",
    "# adding a legend\n",
    "plt.legend(['Apple'], loc='upper left')\n",
    "# changing xticks\n",
    "plt.xticks(fontsize=12, rotation=90)\n",
    "# adding grid\n",
    "plt.grid()\n",
    "plt.show()"
   ]
  },
  {
   "cell_type": "markdown",
   "metadata": {},
   "source": [
    "Now we should use _.rolling_ method to create a moving window:"
   ]
  },
  {
   "cell_type": "code",
   "execution_count": 283,
   "metadata": {},
   "outputs": [
    {
     "data": {
      "image/png": "[encoded data removed]",
      "text/plain": [
       "<Figure size 936x432 with 1 Axes>"
      ]
     },
     "metadata": {
      "needs_background": "light"
     },
     "output_type": "display_data"
    }
   ],
   "source": [
    "close_px.AAPL.plot(label='AAPL')\n",
    "close_px.rolling(90)['AAPL'].mean().plot(label='AAPL :90 days rolling-average')\n",
    "plt.legend()\n",
    "plt.xlim(close_px.index[90],close_px.index[-1])\n",
    "plt.show()"
   ]
  },
  {
   "cell_type": "markdown",
   "metadata": {},
   "source": [
    "What happened in **close_px.rolling(90)['AAPL'].mean().plot(label='AAPL :90 days rolling-average')** ?\n",
    "\n",
    "- **close_px** --> getting dataframe\n",
    "- **.rolling(90)['AAPL'].mean()** --> get moving average of _90_ days for _AAPL_ column\n",
    "- **.plot(label='AAPL :90 days rolling-average')** --> plotting the results"
   ]
  },
  {
   "cell_type": "markdown",
   "metadata": {},
   "source": [
    "<img src=\"../Images/wizard.svg\"   width=\"30\" align=\"left\">               "
   ]
  },
  {
   "cell_type": "markdown",
   "metadata": {},
   "source": [
    "**YOUR TURN:**\n",
    "    \n",
    "write a function that takes the stock name and rolling period and makes the above plot (pay attention to the plot label!)"
   ]
  },
  {
   "cell_type": "code",
   "execution_count": null,
   "metadata": {},
   "outputs": [],
   "source": [
    "def rolling_plot(stock, period):\n",
    "    \"\"\"\n",
    "    plot a stock price and its rolling average values for the given period\n",
    "    \n",
    "    args:\n",
    "    stock : name of the column (str)\n",
    "    period : the period we want to the rolling for\n",
    "    \n",
    "    returns:\n",
    "    None\n",
    "    \n",
    "    Plots the stock price and its rolling values\n",
    "    \"\"\"\n",
    "    close_px[stock].plot(label=stock)\n",
    "    close_px.rolling(period)[stock].mean().plot(label=f'{stock} :{period} days rolling-average')\n",
    "    plt.legend()\n",
    "    plt.show()"
   ]
  },
  {
   "cell_type": "code",
   "execution_count": 284,
   "metadata": {},
   "outputs": [
    {
     "data": {
      "image/png": "[encoded data removed]",
      "text/plain": [
       "<Figure size 936x432 with 1 Axes>"
      ]
     },
     "metadata": {
      "needs_background": "light"
     },
     "output_type": "display_data"
    }
   ],
   "source": [
    "rolling_plot('MSFT', 33)"
   ]
  },
  {
   "cell_type": "markdown",
   "metadata": {},
   "source": [
    "## Error Handling"
   ]
  },
  {
   "cell_type": "markdown",
   "metadata": {},
   "source": [
    "In section 8 and 12 we've seen some examples of Syntax and Exception errors and we also saw how can we *Translate* error messages into *human language*. In this part we will have deeper look on errors and how can we __handle__ them.\n",
    "\n",
    "First, let's have a recap of different types of errors:"
   ]
  },
  {
   "cell_type": "markdown",
   "metadata": {},
   "source": [
    "__Syntax Error__"
   ]
  },
  {
   "cell_type": "code",
   "execution_count": 168,
   "metadata": {},
   "outputs": [
    {
     "ename": "SyntaxError",
     "evalue": "invalid syntax (<ipython-input-168-ad95df0c582c>, line 1)",
     "output_type": "error",
     "traceback": [
      "\u001b[0;36m  File \u001b[0;32m\"<ipython-input-168-ad95df0c582c>\"\u001b[0;36m, line \u001b[0;32m1\u001b[0m\n\u001b[0;31m    my_string = 'It's 6 AM and I'm already working!'\u001b[0m\n\u001b[0m                    ^\u001b[0m\n\u001b[0;31mSyntaxError\u001b[0m\u001b[0;31m:\u001b[0m invalid syntax\n"
     ]
    }
   ],
   "source": [
    "my_string = 'It's 6 AM and I'm already working!'\n",
    "print(my_string)"
   ]
  },
  {
   "cell_type": "markdown",
   "metadata": {},
   "source": [
    "__Exception Error__"
   ]
  },
  {
   "cell_type": "code",
   "execution_count": 169,
   "metadata": {},
   "outputs": [
    {
     "ename": "TypeError",
     "evalue": "'int' object is not subscriptable",
     "output_type": "error",
     "traceback": [
      "\u001b[0;31m---------------------------------------------------------------------------\u001b[0m",
      "\u001b[0;31mTypeError\u001b[0m                                 Traceback (most recent call last)",
      "\u001b[0;32m<ipython-input-169-4995238c8576>\u001b[0m in \u001b[0;36m<module>\u001b[0;34m\u001b[0m\n\u001b[0;32m----> 1\u001b[0;31m \u001b[0msome_list\u001b[0m \u001b[0;34m=\u001b[0m \u001b[0;34m[\u001b[0m\u001b[0mx\u001b[0m\u001b[0;34m[\u001b[0m\u001b[0;36m0\u001b[0m\u001b[0;34m]\u001b[0m \u001b[0;32mfor\u001b[0m \u001b[0mx\u001b[0m \u001b[0;32min\u001b[0m \u001b[0;34m[\u001b[0m\u001b[0;36m55\u001b[0m\u001b[0;34m,\u001b[0m \u001b[0;34m'foo'\u001b[0m\u001b[0;34m,\u001b[0m \u001b[0;34m'bar'\u001b[0m\u001b[0;34m,\u001b[0m \u001b[0;36m42\u001b[0m\u001b[0;34m]\u001b[0m\u001b[0;34m]\u001b[0m\u001b[0;34m\u001b[0m\u001b[0;34m\u001b[0m\u001b[0m\n\u001b[0m\u001b[1;32m      2\u001b[0m \u001b[0mprint\u001b[0m\u001b[0;34m(\u001b[0m\u001b[0msome_list\u001b[0m\u001b[0;34m)\u001b[0m\u001b[0;34m\u001b[0m\u001b[0;34m\u001b[0m\u001b[0m\n",
      "\u001b[0;32m<ipython-input-169-4995238c8576>\u001b[0m in \u001b[0;36m<listcomp>\u001b[0;34m(.0)\u001b[0m\n\u001b[0;32m----> 1\u001b[0;31m \u001b[0msome_list\u001b[0m \u001b[0;34m=\u001b[0m \u001b[0;34m[\u001b[0m\u001b[0mx\u001b[0m\u001b[0;34m[\u001b[0m\u001b[0;36m0\u001b[0m\u001b[0;34m]\u001b[0m \u001b[0;32mfor\u001b[0m \u001b[0mx\u001b[0m \u001b[0;32min\u001b[0m \u001b[0;34m[\u001b[0m\u001b[0;36m55\u001b[0m\u001b[0;34m,\u001b[0m \u001b[0;34m'foo'\u001b[0m\u001b[0;34m,\u001b[0m \u001b[0;34m'bar'\u001b[0m\u001b[0;34m,\u001b[0m \u001b[0;36m42\u001b[0m\u001b[0;34m]\u001b[0m\u001b[0;34m]\u001b[0m\u001b[0;34m\u001b[0m\u001b[0;34m\u001b[0m\u001b[0m\n\u001b[0m\u001b[1;32m      2\u001b[0m \u001b[0mprint\u001b[0m\u001b[0;34m(\u001b[0m\u001b[0msome_list\u001b[0m\u001b[0;34m)\u001b[0m\u001b[0;34m\u001b[0m\u001b[0;34m\u001b[0m\u001b[0m\n",
      "\u001b[0;31mTypeError\u001b[0m: 'int' object is not subscriptable"
     ]
    }
   ],
   "source": [
    "some_list = [x[0] for x in [55, 'foo', 'bar', 42]]\n",
    "print(some_list)"
   ]
  },
  {
   "cell_type": "markdown",
   "metadata": {},
   "source": [
    "<img src=\"../Images/student.svg\"   width=\"30\" align=\"left\">               "
   ]
  },
  {
   "cell_type": "markdown",
   "metadata": {},
   "source": [
    "**YOUR TURN:**\n",
    "    \n",
    "Re-write the above code blocks in a correct way --> the result should be ['5', 'f', 'b', '4']"
   ]
  },
  {
   "cell_type": "code",
   "execution_count": 170,
   "metadata": {},
   "outputs": [
    {
     "name": "stdout",
     "output_type": "stream",
     "text": [
      "It's 6 AM and I'm already working!\n",
      "['5', 'f', 'b', '4']\n"
     ]
    }
   ],
   "source": [
    "my_string = \"It's 6 AM and I'm already working!\"\n",
    "print(my_string)\n",
    "some_list = [str(x)[0] for x in [55, 'foo', 'bar', 42]]\n",
    "print(some_list)"
   ]
  },
  {
   "cell_type": "markdown",
   "metadata": {},
   "source": [
    "### Raising your own Exceptions"
   ]
  },
  {
   "cell_type": "markdown",
   "metadata": {},
   "source": [
    "We saw how Python uses __Exceptions__ to show you are doing something wrong. In the same way you can __raise__ your own exceptions to warn users and stop the code."
   ]
  },
  {
   "cell_type": "markdown",
   "metadata": {},
   "source": [
    "Let's make a function which gets a string as ___\"name surname\"__ and prints out __\"Your name is name and your surname is surname\"__"
   ]
  },
  {
   "cell_type": "code",
   "execution_count": 171,
   "metadata": {},
   "outputs": [],
   "source": [
    "def simple_fun(text):\n",
    "    \"\"\"\n",
    "    gets a string of name and surname separeted by space and prints them in a template\n",
    "    \"\"\"\n",
    "    \n",
    "    # splitting the string by space\n",
    "    name, surname = text.split(' ',1)\n",
    "    print(f'Your name is {name} and your surname is {surname}')"
   ]
  },
  {
   "cell_type": "code",
   "execution_count": 172,
   "metadata": {},
   "outputs": [
    {
     "name": "stdout",
     "output_type": "stream",
     "text": [
      "Your name is Mimmo and your surname is Paladino\n"
     ]
    }
   ],
   "source": [
    "simple_fun('Mimmo Paladino')"
   ]
  },
  {
   "cell_type": "markdown",
   "metadata": {},
   "source": [
    "But what happens if someone gives just her name or surname instead?"
   ]
  },
  {
   "cell_type": "code",
   "execution_count": 173,
   "metadata": {},
   "outputs": [
    {
     "ename": "ValueError",
     "evalue": "not enough values to unpack (expected 2, got 1)",
     "output_type": "error",
     "traceback": [
      "\u001b[0;31m---------------------------------------------------------------------------\u001b[0m",
      "\u001b[0;31mValueError\u001b[0m                                Traceback (most recent call last)",
      "\u001b[0;32m<ipython-input-173-f1e3ca517902>\u001b[0m in \u001b[0;36m<module>\u001b[0;34m\u001b[0m\n\u001b[0;32m----> 1\u001b[0;31m \u001b[0msimple_fun\u001b[0m\u001b[0;34m(\u001b[0m\u001b[0;34m'Oliver'\u001b[0m\u001b[0;34m)\u001b[0m\u001b[0;34m\u001b[0m\u001b[0;34m\u001b[0m\u001b[0m\n\u001b[0m",
      "\u001b[0;32m<ipython-input-171-be46b3e3334f>\u001b[0m in \u001b[0;36msimple_fun\u001b[0;34m(text)\u001b[0m\n\u001b[1;32m      3\u001b[0m \u001b[0;34m\u001b[0m\u001b[0m\n\u001b[1;32m      4\u001b[0m     \u001b[0;31m# splitting the string by space\u001b[0m\u001b[0;34m\u001b[0m\u001b[0;34m\u001b[0m\u001b[0;34m\u001b[0m\u001b[0m\n\u001b[0;32m----> 5\u001b[0;31m     \u001b[0mname\u001b[0m\u001b[0;34m,\u001b[0m \u001b[0msurname\u001b[0m \u001b[0;34m=\u001b[0m \u001b[0mtext\u001b[0m\u001b[0;34m.\u001b[0m\u001b[0msplit\u001b[0m\u001b[0;34m(\u001b[0m\u001b[0;34m' '\u001b[0m\u001b[0;34m,\u001b[0m\u001b[0;36m1\u001b[0m\u001b[0;34m)\u001b[0m\u001b[0;34m\u001b[0m\u001b[0;34m\u001b[0m\u001b[0m\n\u001b[0m\u001b[1;32m      6\u001b[0m     \u001b[0mprint\u001b[0m\u001b[0;34m(\u001b[0m\u001b[0;34mf'Your name is {name} and your surname is {surname}'\u001b[0m\u001b[0;34m)\u001b[0m\u001b[0;34m\u001b[0m\u001b[0;34m\u001b[0m\u001b[0m\n",
      "\u001b[0;31mValueError\u001b[0m: not enough values to unpack (expected 2, got 1)"
     ]
    }
   ],
   "source": [
    "simple_fun('Oliver')"
   ]
  },
  {
   "cell_type": "markdown",
   "metadata": {},
   "source": [
    "The error we get is a __ValueError__ and is indicating that we passed just one input while Python was expecting 2.\n",
    "While it may seems easy to understand, for a someone who doesn't know python (or simply is not familiar with your code) may not be so simple to understand what causes the error. We can solve this problem by raising a custom Exception in our function."
   ]
  },
  {
   "cell_type": "code",
   "execution_count": 174,
   "metadata": {},
   "outputs": [],
   "source": [
    "def simple_fun(text):\n",
    "    \"\"\"gets a string of name and surname separeted by space and prints them in a template\"\"\"\n",
    "    \n",
    "    if ' ' not in text :\n",
    "        raise Exception(\"It seems you just entered your name or surname. I need something like this : 'Rickey Gervais'\")\n",
    "    \n",
    "    # splitting the string by space\n",
    "    name, surname = text.split(' ', 1)\n",
    "    print(f'Your name is {name} and your surname is {surname}')"
   ]
  },
  {
   "cell_type": "markdown",
   "metadata": {},
   "source": [
    "Let's check to see if it works"
   ]
  },
  {
   "cell_type": "code",
   "execution_count": 175,
   "metadata": {},
   "outputs": [
    {
     "ename": "Exception",
     "evalue": "It seems you just entered your name or surname. I need something like this : 'Rickey Gervais'",
     "output_type": "error",
     "traceback": [
      "\u001b[0;31m---------------------------------------------------------------------------\u001b[0m",
      "\u001b[0;31mException\u001b[0m                                 Traceback (most recent call last)",
      "\u001b[0;32m<ipython-input-175-f1e3ca517902>\u001b[0m in \u001b[0;36m<module>\u001b[0;34m\u001b[0m\n\u001b[0;32m----> 1\u001b[0;31m \u001b[0msimple_fun\u001b[0m\u001b[0;34m(\u001b[0m\u001b[0;34m'Oliver'\u001b[0m\u001b[0;34m)\u001b[0m\u001b[0;34m\u001b[0m\u001b[0;34m\u001b[0m\u001b[0m\n\u001b[0m",
      "\u001b[0;32m<ipython-input-174-118dee9db527>\u001b[0m in \u001b[0;36msimple_fun\u001b[0;34m(text)\u001b[0m\n\u001b[1;32m      3\u001b[0m \u001b[0;34m\u001b[0m\u001b[0m\n\u001b[1;32m      4\u001b[0m     \u001b[0;32mif\u001b[0m \u001b[0;34m' '\u001b[0m \u001b[0;32mnot\u001b[0m \u001b[0;32min\u001b[0m \u001b[0mtext\u001b[0m \u001b[0;34m:\u001b[0m\u001b[0;34m\u001b[0m\u001b[0;34m\u001b[0m\u001b[0m\n\u001b[0;32m----> 5\u001b[0;31m         \u001b[0;32mraise\u001b[0m \u001b[0mException\u001b[0m\u001b[0;34m(\u001b[0m\u001b[0;34m\"It seems you just entered your name or surname. I need something like this : 'Rickey Gervais'\"\u001b[0m\u001b[0;34m)\u001b[0m\u001b[0;34m\u001b[0m\u001b[0;34m\u001b[0m\u001b[0m\n\u001b[0m\u001b[1;32m      6\u001b[0m \u001b[0;34m\u001b[0m\u001b[0m\n\u001b[1;32m      7\u001b[0m     \u001b[0;31m# splitting the string by space\u001b[0m\u001b[0;34m\u001b[0m\u001b[0;34m\u001b[0m\u001b[0;34m\u001b[0m\u001b[0m\n",
      "\u001b[0;31mException\u001b[0m: It seems you just entered your name or surname. I need something like this : 'Rickey Gervais'"
     ]
    }
   ],
   "source": [
    "simple_fun('Oliver')"
   ]
  },
  {
   "cell_type": "markdown",
   "metadata": {},
   "source": [
    "__General Form__"
   ]
  },
  {
   "cell_type": "markdown",
   "metadata": {},
   "source": [
    "<img src=\"../Images/exception.png\" width=\"800\"> "
   ]
  },
  {
   "cell_type": "markdown",
   "metadata": {},
   "source": [
    "### Assertion"
   ]
  },
  {
   "cell_type": "markdown",
   "metadata": {},
   "source": [
    "To achieve what we did with Exception raising, we can use another method which is __Assertion__. It's simply a *control for a condition*:"
   ]
  },
  {
   "cell_type": "code",
   "execution_count": 178,
   "metadata": {},
   "outputs": [],
   "source": [
    "def simple_fun(text):\n",
    "    \"\"\"gets a string of name and surname separeted by space and prints them in a template\"\"\"\n",
    "    \n",
    "    assert(' ' in text), \"It seems you just entered your name or surname. I need something like this : 'Rickey Gervais'\"\n",
    "    \n",
    "    # splitting the string by space\n",
    "    name, surname = text.split(' ', 1)\n",
    "    print(f'Your name is {name} and your surname is {surname}')"
   ]
  },
  {
   "cell_type": "code",
   "execution_count": 179,
   "metadata": {},
   "outputs": [
    {
     "ename": "AssertionError",
     "evalue": "It seems you just entered your name or surname. I need something like this : 'Rickey Gervais'",
     "output_type": "error",
     "traceback": [
      "\u001b[0;31m---------------------------------------------------------------------------\u001b[0m",
      "\u001b[0;31mAssertionError\u001b[0m                            Traceback (most recent call last)",
      "\u001b[0;32m<ipython-input-179-f1e3ca517902>\u001b[0m in \u001b[0;36m<module>\u001b[0;34m\u001b[0m\n\u001b[0;32m----> 1\u001b[0;31m \u001b[0msimple_fun\u001b[0m\u001b[0;34m(\u001b[0m\u001b[0;34m'Oliver'\u001b[0m\u001b[0;34m)\u001b[0m\u001b[0;34m\u001b[0m\u001b[0;34m\u001b[0m\u001b[0m\n\u001b[0m",
      "\u001b[0;32m<ipython-input-178-a01a568ac134>\u001b[0m in \u001b[0;36msimple_fun\u001b[0;34m(text)\u001b[0m\n\u001b[1;32m      2\u001b[0m     \u001b[0;34m\"\"\"gets a string of name and surname separeted by space and prints them in a template\"\"\"\u001b[0m\u001b[0;34m\u001b[0m\u001b[0;34m\u001b[0m\u001b[0m\n\u001b[1;32m      3\u001b[0m \u001b[0;34m\u001b[0m\u001b[0m\n\u001b[0;32m----> 4\u001b[0;31m     \u001b[0;32massert\u001b[0m\u001b[0;34m(\u001b[0m\u001b[0;34m' '\u001b[0m \u001b[0;32min\u001b[0m \u001b[0mtext\u001b[0m\u001b[0;34m)\u001b[0m\u001b[0;34m,\u001b[0m \u001b[0;34m\"It seems you just entered your name or surname. I need something like this : 'Rickey Gervais'\"\u001b[0m\u001b[0;34m\u001b[0m\u001b[0;34m\u001b[0m\u001b[0m\n\u001b[0m\u001b[1;32m      5\u001b[0m \u001b[0;34m\u001b[0m\u001b[0m\n\u001b[1;32m      6\u001b[0m     \u001b[0;31m# splitting the string by space\u001b[0m\u001b[0;34m\u001b[0m\u001b[0;34m\u001b[0m\u001b[0;34m\u001b[0m\u001b[0m\n",
      "\u001b[0;31mAssertionError\u001b[0m: It seems you just entered your name or surname. I need something like this : 'Rickey Gervais'"
     ]
    }
   ],
   "source": [
    "simple_fun('Oliver')"
   ]
  },
  {
   "cell_type": "markdown",
   "metadata": {},
   "source": [
    "<img src=\"../Images/wizard.svg\"   width=\"30\" align=\"left\">               "
   ]
  },
  {
   "cell_type": "markdown",
   "metadata": {},
   "source": [
    "**YOUR TURN:**\n",
    "    \n",
    "Use Exception raising to write a function that gets a number in centimeter and convert it to inch unit. This function should be able to warn user if the input is not a number.\n",
    "\n",
    "- Hint 1 : a number in this case can be either integer of float\n",
    "- Hint 2 : 1 cm is 0.393701 inch"
   ]
  },
  {
   "cell_type": "code",
   "execution_count": null,
   "metadata": {},
   "outputs": [],
   "source": [
    "(\\   .-.   .-.   .-.   .-.   .-.   .-.   .-.   .-.   /_\")\n",
    " \\\\_//^\\\\_//^\\\\_//^\\\\_//^\\\\_//^\\\\_//^\\\\_//^\\\\_//^\\\\_//\n",
    "  `\"`   `\"`   `\"`   `\"`   `\"`   `\"`   `\"`   `\"`   `\"`"
   ]
  },
  {
   "cell_type": "code",
   "execution_count": 278,
   "metadata": {
    "scrolled": true
   },
   "outputs": [
    {
     "ename": "Exception",
     "evalue": "Please enter an integer or float not a <class 'str'>",
     "output_type": "error",
     "traceback": [
      "\u001b[0;31m---------------------------------------------------------------------------\u001b[0m",
      "\u001b[0;31mException\u001b[0m                                 Traceback (most recent call last)",
      "\u001b[0;32m<ipython-input-278-eb0d30186a3f>\u001b[0m in \u001b[0;36m<module>\u001b[0;34m\u001b[0m\n\u001b[0;32m----> 1\u001b[0;31m \u001b[0mcm2inch\u001b[0m\u001b[0;34m(\u001b[0m\u001b[0;34m'cane'\u001b[0m\u001b[0;34m)\u001b[0m\u001b[0;34m\u001b[0m\u001b[0;34m\u001b[0m\u001b[0m\n\u001b[0m",
      "\u001b[0;32m<ipython-input-261-fc2235c60b4e>\u001b[0m in \u001b[0;36mcm2inch\u001b[0;34m(num)\u001b[0m\n\u001b[1;32m      1\u001b[0m \u001b[0;32mdef\u001b[0m \u001b[0mcm2inch\u001b[0m\u001b[0;34m(\u001b[0m\u001b[0mnum\u001b[0m\u001b[0;34m)\u001b[0m\u001b[0;34m:\u001b[0m\u001b[0;34m\u001b[0m\u001b[0;34m\u001b[0m\u001b[0m\n\u001b[1;32m      2\u001b[0m     \u001b[0;32mif\u001b[0m \u001b[0mtype\u001b[0m\u001b[0;34m(\u001b[0m\u001b[0mnum\u001b[0m\u001b[0;34m)\u001b[0m \u001b[0;34m!=\u001b[0m \u001b[0mfloat\u001b[0m \u001b[0;32mor\u001b[0m \u001b[0mtype\u001b[0m\u001b[0;34m(\u001b[0m\u001b[0mnum\u001b[0m\u001b[0;34m)\u001b[0m \u001b[0;34m!=\u001b[0m \u001b[0mint\u001b[0m\u001b[0;34m:\u001b[0m\u001b[0;34m\u001b[0m\u001b[0;34m\u001b[0m\u001b[0m\n\u001b[0;32m----> 3\u001b[0;31m         \u001b[0;32mraise\u001b[0m \u001b[0mException\u001b[0m\u001b[0;34m(\u001b[0m\u001b[0;34mf'Please enter an integer or float not a {type(num)}'\u001b[0m\u001b[0;34m)\u001b[0m\u001b[0;34m\u001b[0m\u001b[0;34m\u001b[0m\u001b[0m\n\u001b[0m\u001b[1;32m      4\u001b[0m     \u001b[0;32mreturn\u001b[0m \u001b[0mnum\u001b[0m \u001b[0;34m*\u001b[0m \u001b[0;36m0.393701\u001b[0m\u001b[0;34m\u001b[0m\u001b[0;34m\u001b[0m\u001b[0m\n",
      "\u001b[0;31mException\u001b[0m: Please enter an integer or float not a <class 'str'>"
     ]
    }
   ],
   "source": [
    "cm2inch('cane')"
   ]
  },
  {
   "cell_type": "markdown",
   "metadata": {},
   "source": [
    "<img src=\"../Images/wizard.svg\"   width=\"30\" align=\"left\">               "
   ]
  },
  {
   "cell_type": "markdown",
   "metadata": {},
   "source": [
    "**YOUR TURN:**\n",
    "    \n",
    "Use Assertion instead of raising an Exception"
   ]
  },
  {
   "cell_type": "code",
   "execution_count": null,
   "metadata": {},
   "outputs": [],
   "source": [
    "(\\   .-.   .-.   .-.   .-.   .-.   .-.   .-.   .-.   /_\")\n",
    " \\\\_//^\\\\_//^\\\\_//^\\\\_//^\\\\_//^\\\\_//^\\\\_//^\\\\_//^\\\\_//\n",
    "  `\"`   `\"`   `\"`   `\"`   `\"`   `\"`   `\"`   `\"`   `\"`"
   ]
  },
  {
   "cell_type": "code",
   "execution_count": 185,
   "metadata": {
    "scrolled": true
   },
   "outputs": [
    {
     "ename": "AssertionError",
     "evalue": "Please enter an integer or float not a <class 'str'>",
     "output_type": "error",
     "traceback": [
      "\u001b[0;31m---------------------------------------------------------------------------\u001b[0m",
      "\u001b[0;31mAssertionError\u001b[0m                            Traceback (most recent call last)",
      "\u001b[0;32m<ipython-input-185-eb0d30186a3f>\u001b[0m in \u001b[0;36m<module>\u001b[0;34m\u001b[0m\n\u001b[0;32m----> 1\u001b[0;31m \u001b[0mcm2inch\u001b[0m\u001b[0;34m(\u001b[0m\u001b[0;34m'cane'\u001b[0m\u001b[0;34m)\u001b[0m\u001b[0;34m\u001b[0m\u001b[0;34m\u001b[0m\u001b[0m\n\u001b[0m",
      "\u001b[0;32m<ipython-input-184-70d8912dfacd>\u001b[0m in \u001b[0;36mcm2inch\u001b[0;34m(num)\u001b[0m\n\u001b[1;32m      1\u001b[0m \u001b[0;32mdef\u001b[0m \u001b[0mcm2inch\u001b[0m\u001b[0;34m(\u001b[0m\u001b[0mnum\u001b[0m\u001b[0;34m)\u001b[0m\u001b[0;34m:\u001b[0m\u001b[0;34m\u001b[0m\u001b[0;34m\u001b[0m\u001b[0m\n\u001b[0;32m----> 2\u001b[0;31m     \u001b[0;32massert\u001b[0m \u001b[0;34m(\u001b[0m\u001b[0mtype\u001b[0m\u001b[0;34m(\u001b[0m\u001b[0mnum\u001b[0m\u001b[0;34m)\u001b[0m \u001b[0;34m==\u001b[0m \u001b[0mfloat\u001b[0m \u001b[0;32mor\u001b[0m \u001b[0mtype\u001b[0m\u001b[0;34m(\u001b[0m\u001b[0mnum\u001b[0m\u001b[0;34m)\u001b[0m \u001b[0;34m==\u001b[0m \u001b[0mint\u001b[0m\u001b[0;34m)\u001b[0m\u001b[0;34m,\u001b[0m \u001b[0;34mf'Please enter an integer or float not a {type(num)}'\u001b[0m\u001b[0;34m\u001b[0m\u001b[0;34m\u001b[0m\u001b[0m\n\u001b[0m\u001b[1;32m      3\u001b[0m     \u001b[0;32mreturn\u001b[0m \u001b[0mnum\u001b[0m \u001b[0;34m*\u001b[0m \u001b[0;36m0.393701\u001b[0m\u001b[0;34m\u001b[0m\u001b[0;34m\u001b[0m\u001b[0m\n",
      "\u001b[0;31mAssertionError\u001b[0m: Please enter an integer or float not a <class 'str'>"
     ]
    }
   ],
   "source": [
    "cm2inch('cane')"
   ]
  },
  {
   "cell_type": "markdown",
   "metadata": {},
   "source": [
    "__General form__"
   ]
  },
  {
   "cell_type": "markdown",
   "metadata": {},
   "source": [
    "<img src=\"../Images/assertion.png\" width=\"800\"> "
   ]
  },
  {
   "cell_type": "markdown",
   "metadata": {},
   "source": [
    "### Try/Except"
   ]
  },
  {
   "cell_type": "markdown",
   "metadata": {},
   "source": [
    "While Exception raising and assertion are helpful ways to assure the code is behaving in the desired way, they don't actually _handle_ errors as the code crashes no matter the exception/assertion.\n",
    "\n",
    "That's where try and except blocks come in the scene!"
   ]
  },
  {
   "cell_type": "markdown",
   "metadata": {},
   "source": [
    "Let's see an example:"
   ]
  },
  {
   "cell_type": "code",
   "execution_count": 186,
   "metadata": {},
   "outputs": [
    {
     "ename": "ZeroDivisionError",
     "evalue": "division by zero",
     "output_type": "error",
     "traceback": [
      "\u001b[0;31m---------------------------------------------------------------------------\u001b[0m",
      "\u001b[0;31mZeroDivisionError\u001b[0m                         Traceback (most recent call last)",
      "\u001b[0;32m<ipython-input-186-6fb70aede4d9>\u001b[0m in \u001b[0;36m<module>\u001b[0;34m\u001b[0m\n\u001b[1;32m      8\u001b[0m \u001b[0mids\u001b[0m \u001b[0;34m=\u001b[0m \u001b[0minfo\u001b[0m\u001b[0;34m.\u001b[0m\u001b[0mkeys\u001b[0m\u001b[0;34m(\u001b[0m\u001b[0;34m)\u001b[0m\u001b[0;34m\u001b[0m\u001b[0;34m\u001b[0m\u001b[0m\n\u001b[1;32m      9\u001b[0m \u001b[0;32mfor\u001b[0m \u001b[0miid\u001b[0m \u001b[0;32min\u001b[0m \u001b[0mids\u001b[0m\u001b[0;34m:\u001b[0m\u001b[0;34m\u001b[0m\u001b[0;34m\u001b[0m\u001b[0m\n\u001b[0;32m---> 10\u001b[0;31m     \u001b[0minfo\u001b[0m\u001b[0;34m[\u001b[0m\u001b[0miid\u001b[0m\u001b[0;34m]\u001b[0m\u001b[0;34m[\u001b[0m\u001b[0;34m'new_val'\u001b[0m\u001b[0;34m]\u001b[0m \u001b[0;34m=\u001b[0m \u001b[0mround\u001b[0m\u001b[0;34m(\u001b[0m\u001b[0minfo\u001b[0m\u001b[0;34m[\u001b[0m\u001b[0miid\u001b[0m\u001b[0;34m]\u001b[0m\u001b[0;34m[\u001b[0m\u001b[0;34m'balance'\u001b[0m\u001b[0;34m]\u001b[0m \u001b[0;34m/\u001b[0m \u001b[0minfo\u001b[0m\u001b[0;34m[\u001b[0m\u001b[0miid\u001b[0m\u001b[0;34m]\u001b[0m\u001b[0;34m[\u001b[0m\u001b[0;34m'debt'\u001b[0m\u001b[0;34m]\u001b[0m\u001b[0;34m,\u001b[0m \u001b[0;36m1\u001b[0m\u001b[0;34m)\u001b[0m\u001b[0;34m\u001b[0m\u001b[0;34m\u001b[0m\u001b[0m\n\u001b[0m\u001b[1;32m     11\u001b[0m \u001b[0;34m\u001b[0m\u001b[0m\n\u001b[1;32m     12\u001b[0m \u001b[0mpprint\u001b[0m\u001b[0;34m(\u001b[0m\u001b[0minfo\u001b[0m\u001b[0;34m)\u001b[0m\u001b[0;34m\u001b[0m\u001b[0;34m\u001b[0m\u001b[0m\n",
      "\u001b[0;31mZeroDivisionError\u001b[0m: division by zero"
     ]
    }
   ],
   "source": [
    "from pprint import pprint\n",
    "\n",
    "info = {'id_1': {'name': 'Fabio M', 'debt': 67_000, 'balance': 10_000},\n",
    "       'id_2': {'name': 'Mario M', 'debt': 0, 'balance': 350_000},\n",
    "       'id_3': {'name': 'Ale V', 'debt': 100, 'balance': 60_000},\n",
    "       'id_4': {'name': 'Mauro', 'debt': 130, 'balance': 100_000}}\n",
    "\n",
    "ids = info.keys()\n",
    "for iid in ids:\n",
    "    info[iid]['new_val'] = round(info[iid]['balance'] / info[iid]['debt'], 1)\n",
    "\n",
    "pprint(info)"
   ]
  },
  {
   "cell_type": "markdown",
   "metadata": {},
   "source": [
    "We're getting ZeroDivisionError and it's crashing our code. We can use try/except to catch the exception:"
   ]
  },
  {
   "cell_type": "code",
   "execution_count": 187,
   "metadata": {},
   "outputs": [
    {
     "name": "stdout",
     "output_type": "stream",
     "text": [
      "{'id_1': {'balance': 10000, 'debt': 67000, 'name': 'Fabio M', 'new_val': 0.1},\n",
      " 'id_2': {'balance': 350000, 'debt': 0, 'name': 'Mario M', 'new_val': 0},\n",
      " 'id_3': {'balance': 60000, 'debt': 100, 'name': 'Ale V', 'new_val': 600.0},\n",
      " 'id_4': {'balance': 100000, 'debt': 130, 'name': 'Mauro ', 'new_val': 769.2}}\n"
     ]
    }
   ],
   "source": [
    "info = {'id_1': {'name': 'Fabio M', 'debt': 67_000, 'balance': 10_000},\n",
    "       'id_2': {'name': 'Mario M', 'debt': 0, 'balance': 350_000},\n",
    "       'id_3': {'name': 'Ale V', 'debt': 100, 'balance': 60_000},\n",
    "       'id_4': {'name': 'Mauro ', 'debt': 130, 'balance': 100_000}}\n",
    "\n",
    "ids = info.keys()\n",
    "for iid in ids:\n",
    "    try:\n",
    "        info[iid]['new_val'] = round(info[iid]['balance'] / info[iid]['debt'], 1)\n",
    "        \n",
    "    except ZeroDivisionError:\n",
    "        info[iid]['new_val'] = 0\n",
    "        \n",
    "pprint(info)"
   ]
  },
  {
   "cell_type": "markdown",
   "metadata": {},
   "source": [
    "As you can see, unlike last time, our code finished its job , we just handled an error!\n",
    "\n",
    "We can use more than one exception type:"
   ]
  },
  {
   "cell_type": "code",
   "execution_count": 188,
   "metadata": {},
   "outputs": [
    {
     "ename": "ValueError",
     "evalue": "not enough values to unpack (expected 2, got 1)",
     "output_type": "error",
     "traceback": [
      "\u001b[0;31m---------------------------------------------------------------------------\u001b[0m",
      "\u001b[0;31mValueError\u001b[0m                                Traceback (most recent call last)",
      "\u001b[0;32m<ipython-input-188-f36ad3fce12b>\u001b[0m in \u001b[0;36m<module>\u001b[0;34m\u001b[0m\n\u001b[1;32m     12\u001b[0m         \u001b[0minfo\u001b[0m\u001b[0;34m[\u001b[0m\u001b[0miid\u001b[0m\u001b[0;34m]\u001b[0m\u001b[0;34m[\u001b[0m\u001b[0;34m'new_val'\u001b[0m\u001b[0;34m]\u001b[0m \u001b[0;34m=\u001b[0m \u001b[0;36m0\u001b[0m\u001b[0;34m\u001b[0m\u001b[0;34m\u001b[0m\u001b[0m\n\u001b[1;32m     13\u001b[0m \u001b[0;34m\u001b[0m\u001b[0m\n\u001b[0;32m---> 14\u001b[0;31m     \u001b[0mname\u001b[0m\u001b[0;34m,\u001b[0m \u001b[0msurname\u001b[0m \u001b[0;34m=\u001b[0m \u001b[0minfo\u001b[0m\u001b[0;34m[\u001b[0m\u001b[0miid\u001b[0m\u001b[0;34m]\u001b[0m\u001b[0;34m[\u001b[0m\u001b[0;34m'name'\u001b[0m\u001b[0;34m]\u001b[0m\u001b[0;34m.\u001b[0m\u001b[0msplit\u001b[0m\u001b[0;34m(\u001b[0m\u001b[0;34m)\u001b[0m\u001b[0;34m\u001b[0m\u001b[0;34m\u001b[0m\u001b[0m\n\u001b[0m\u001b[1;32m     15\u001b[0m     \u001b[0minfo\u001b[0m\u001b[0;34m[\u001b[0m\u001b[0miid\u001b[0m\u001b[0;34m]\u001b[0m\u001b[0;34m[\u001b[0m\u001b[0;34m'name'\u001b[0m\u001b[0;34m]\u001b[0m \u001b[0;34m=\u001b[0m \u001b[0mname\u001b[0m\u001b[0;34m\u001b[0m\u001b[0;34m\u001b[0m\u001b[0m\n\u001b[1;32m     16\u001b[0m     \u001b[0minfo\u001b[0m\u001b[0;34m[\u001b[0m\u001b[0miid\u001b[0m\u001b[0;34m]\u001b[0m\u001b[0;34m[\u001b[0m\u001b[0;34m'surname'\u001b[0m\u001b[0;34m]\u001b[0m \u001b[0;34m=\u001b[0m \u001b[0msurname\u001b[0m\u001b[0;34m\u001b[0m\u001b[0;34m\u001b[0m\u001b[0m\n",
      "\u001b[0;31mValueError\u001b[0m: not enough values to unpack (expected 2, got 1)"
     ]
    }
   ],
   "source": [
    "info = {'id_1': {'name': 'Fabio M', 'debt': 67_000, 'balance': 10_000},\n",
    "       'id_2': {'name': 'Mario M', 'debt': 0, 'balance': 350_000},\n",
    "       'id_3': {'name': 'Ale V', 'debt': 100, 'balance': 60_000},\n",
    "       'id_4': {'name': 'Mauro ', 'debt': 130, 'balance': 100_000}}\n",
    "\n",
    "ids = info.keys()\n",
    "for iid in ids:\n",
    "    try:\n",
    "        info[iid]['new_val'] = round(info[iid]['balance'] / info[iid]['debt'], 1)\n",
    "        \n",
    "    except ZeroDivisionError:\n",
    "        info[iid]['new_val'] = 0\n",
    "    \n",
    "    name, surname = info[iid]['name'].split()\n",
    "    info[iid]['name'] = name\n",
    "    info[iid]['surname'] = surname\n",
    "        \n",
    "pprint(info)"
   ]
  },
  {
   "cell_type": "code",
   "execution_count": 189,
   "metadata": {},
   "outputs": [
    {
     "name": "stdout",
     "output_type": "stream",
     "text": [
      "{'id_1': {'balance': 10000,\n",
      "          'debt': 67000,\n",
      "          'name': 'Fabio',\n",
      "          'new_val': 0.1,\n",
      "          'surname': 'M'},\n",
      " 'id_2': {'balance': 350000,\n",
      "          'debt': 0,\n",
      "          'name': 'Mario',\n",
      "          'new_val': 0,\n",
      "          'surname': 'M'},\n",
      " 'id_3': {'balance': 60000,\n",
      "          'debt': 100,\n",
      "          'name': 'Ale',\n",
      "          'new_val': 600.0,\n",
      "          'surname': 'V'},\n",
      " 'id_4': {'balance': 100000,\n",
      "          'debt': 130,\n",
      "          'name': 'Mauro ',\n",
      "          'new_val': 769.2,\n",
      "          'surname': ''}}\n"
     ]
    }
   ],
   "source": [
    "info = {'id_1': {'name': 'Fabio M', 'debt': 67_000, 'balance': 10_000},\n",
    "       'id_2': {'name': 'Mario M', 'debt': 0, 'balance': 350_000},\n",
    "       'id_3': {'name': 'Ale V', 'debt': 100, 'balance': 60_000},\n",
    "       'id_4': {'name': 'Mauro ', 'debt': 130, 'balance': 100_000}}\n",
    "\n",
    "ids = info.keys()\n",
    "for iid in ids:\n",
    "    try:\n",
    "        info[iid]['new_val'] = round(info[iid]['balance'] / info[iid]['debt'], 1)\n",
    "        \n",
    "    except ZeroDivisionError:\n",
    "        info[iid]['new_val'] = 0\n",
    "    \n",
    "    try:\n",
    "        name, surname = info[iid]['name'].split()\n",
    "        info[iid]['name'] = name\n",
    "        info[iid]['surname'] = surname\n",
    "    except ValueError:\n",
    "        info[iid]['surname'] = ''\n",
    "        \n",
    "pprint(info)"
   ]
  },
  {
   "cell_type": "markdown",
   "metadata": {},
   "source": [
    "__General form__"
   ]
  },
  {
   "cell_type": "markdown",
   "metadata": {},
   "source": [
    "<img src=\"../Images/try_except.png\" width=\"600\"> "
   ]
  },
  {
   "cell_type": "markdown",
   "metadata": {},
   "source": [
    "You can use except without specifying any particular exception.__It's a bad idea! Don't use such a thing unless you are desperate!__"
   ]
  },
  {
   "cell_type": "markdown",
   "metadata": {},
   "source": [
    "### Else/Finally"
   ]
  },
  {
   "cell_type": "markdown",
   "metadata": {},
   "source": [
    "There are other to statements which can be used within try/except block which are *else* and *finally*. Let's see an example:"
   ]
  },
  {
   "cell_type": "code",
   "execution_count": 190,
   "metadata": {},
   "outputs": [
    {
     "name": "stdout",
     "output_type": "stream",
     "text": [
      "answer  : 7\n",
      "answer  : 5\n"
     ]
    },
    {
     "ename": "TypeError",
     "evalue": "string indices must be integers",
     "output_type": "error",
     "traceback": [
      "\u001b[0;31m---------------------------------------------------------------------------\u001b[0m",
      "\u001b[0;31mTypeError\u001b[0m                                 Traceback (most recent call last)",
      "\u001b[0;32m<ipython-input-190-d514c5f373ad>\u001b[0m in \u001b[0;36m<module>\u001b[0;34m\u001b[0m\n\u001b[1;32m      3\u001b[0m \u001b[0;34m\u001b[0m\u001b[0m\n\u001b[1;32m      4\u001b[0m \u001b[0;32mfor\u001b[0m \u001b[0mitem\u001b[0m \u001b[0;32min\u001b[0m \u001b[0mdata_1\u001b[0m\u001b[0;34m:\u001b[0m\u001b[0;34m\u001b[0m\u001b[0;34m\u001b[0m\u001b[0m\n\u001b[0;32m----> 5\u001b[0;31m     \u001b[0mprint\u001b[0m\u001b[0;34m(\u001b[0m\u001b[0;34mf'answer  : {item[0][item[1]]}'\u001b[0m\u001b[0;34m)\u001b[0m\u001b[0;34m\u001b[0m\u001b[0;34m\u001b[0m\u001b[0m\n\u001b[0m",
      "\u001b[0;31mTypeError\u001b[0m: string indices must be integers"
     ]
    }
   ],
   "source": [
    "data_1 = [('89768745', 2), ('87443665', -1), ('45789345', '1')]\n",
    "data_2 = [('89768745', 2), ('87443665', -1), ('45789345', 1)]\n",
    "\n",
    "for item in data_1:\n",
    "    print(f'answer  : {item[0][item[1]]}')"
   ]
  },
  {
   "cell_type": "code",
   "execution_count": 286,
   "metadata": {},
   "outputs": [
    {
     "name": "stdout",
     "output_type": "stream",
     "text": [
      "answer  : 7\n",
      "answer  : 5\n",
      "wrong index --> 45789345\n",
      "\n",
      "All pairs are controlled\n",
      "--------------------------------------------------\n",
      "answer  : 7\n",
      "answer  : 5\n",
      "answer  : 5\n",
      "All pairs are valid\n",
      "\n",
      "All pairs are controlled\n"
     ]
    }
   ],
   "source": [
    "data_1 = [('89768745', 2), ('87443665', -1), ('45789345', '1')]\n",
    "data_2 = [('89768745', 2), ('87443665', -1), ('45789345', 1)]\n",
    "\n",
    "try:\n",
    "    for item in data_1:\n",
    "        print(f'answer  : {item[0][item[1]]}')\n",
    "        \n",
    "except TypeError:\n",
    "    print(f'wrong index --> {item[0]}')\n",
    "    \n",
    "\n",
    "else:\n",
    "    print('All pairs are valid')\n",
    "\n",
    "finally:\n",
    "    print('\\nAll pairs are controlled')\n",
    "    \n",
    "print('-' * 50)\n",
    "\n",
    "try:\n",
    "    for item in data_2:\n",
    "        print(f'answer  : {item[0][item[1]]}')\n",
    "        \n",
    "except TypeError:\n",
    "    print(f'wrong index --> {item[0]}')\n",
    "    \n",
    "else:\n",
    "    print('All pairs are valid')\n",
    "\n",
    "finally:\n",
    "\n",
    "    print('\\nAll pairs are controlled')"
   ]
  },
  {
   "cell_type": "markdown",
   "metadata": {},
   "source": [
    "__General form__"
   ]
  },
  {
   "cell_type": "markdown",
   "metadata": {},
   "source": [
    "<img src=\"../Images/tryexceptelsefinally.png\" width=\"500\"> "
   ]
  },
  {
   "cell_type": "markdown",
   "metadata": {},
   "source": [
    "## Air Quality Database"
   ]
  },
  {
   "cell_type": "markdown",
   "metadata": {},
   "source": [
    "Let's try to practice what we've learned with this dataset! [Download link](https://bit.ly/38KRxc7)"
   ]
  },
  {
   "cell_type": "markdown",
   "metadata": {},
   "source": [
    "The dataset contains 9358 instances of hourly averaged responses from an array of 5 metal oxide chemical sensors embedded in an Air Quality Chemical Multisensor Device. The device was located on the field in a significantly polluted area, at road level,within an Italian city. Data were recorded from March 2004 to February 2005 (one year)representing the longest freely available recordings of on field deployed air quality chemical sensor devices responses. Ground Truth hourly averaged concentrations for CO, Non Metanic Hydrocarbons, Benzene, Total Nitrogen Oxides (NOx) and Nitrogen Dioxide (NO2) and were provided by a co-located reference certified analyzer. Evidences of cross-sensitivities as well as both concept and sensor drifts are present as described in De Vito et al., Sens. And Act. B, Vol. 129,2,2008 (citation required) eventually affecting sensors concentration estimation capabilities. Missing values are tagged with -200 value.\n",
    "This dataset can be used exclusively for research purposes. Commercial purposes are fully excluded.\n",
    "\n",
    "Attribute Information:\n",
    "\n",
    "0 Date (DD/MM/YYYY)\n",
    "1 Time (HH.MM.SS)\n",
    "2 True hourly averaged concentration CO in mg/m^3 (reference analyzer)\n",
    "3 PT08.S1 (tin oxide) hourly averaged sensor response (nominally CO targeted)\n",
    "4 True hourly averaged overall Non Metanic HydroCarbons concentration in microg/m^3 (reference analyzer)\n",
    "5 True hourly averaged Benzene concentration in microg/m^3 (reference analyzer)\n",
    "6 PT08.S2 (titania) hourly averaged sensor response (nominally NMHC targeted)\n",
    "7 True hourly averaged NOx concentration in ppb (reference analyzer)\n",
    "8 PT08.S3 (tungsten oxide) hourly averaged sensor response (nominally NOx targeted)\n",
    "9 True hourly averaged NO2 concentration in microg/m^3 (reference analyzer)\n",
    "10 PT08.S4 (tungsten oxide) hourly averaged sensor response (nominally NO2 targeted)\n",
    "11 PT08.S5 (indium oxide) hourly averaged sensor response (nominally O3 targeted)\n",
    "12 Temperature in Â°C\n",
    "13 Relative Humidity (%)\n",
    "14 AH Absolute Humidity "
   ]
  },
  {
   "cell_type": "markdown",
   "metadata": {},
   "source": [
    "The file we downloaded is a zip file. Let use **zipfile** library that is come with Python and you don't need to install it:"
   ]
  },
  {
   "cell_type": "code",
   "execution_count": 195,
   "metadata": {},
   "outputs": [],
   "source": [
    "from zipfile import ZipFile "
   ]
  },
  {
   "cell_type": "code",
   "execution_count": 290,
   "metadata": {},
   "outputs": [],
   "source": [
    "# make sure you're in the directory of the zip file"
   ]
  },
  {
   "cell_type": "code",
   "execution_count": 289,
   "metadata": {},
   "outputs": [
    {
     "name": "stdout",
     "output_type": "stream",
     "text": [
      "AirQualityUCI.csv                    data_types.names\r\n",
      "AirQualityUCI.xlsx                   description.txt\r\n",
      "AirQualityUCI.zip                    stock_px.csv\r\n",
      "AirQuality_clean.csv                 totals.csv\r\n",
      "Daily_Demand_Forecasting_Orders.csv  type_1.csv\r\n",
      "adult_names.txt                      type_2.csv\r\n",
      "bank_1.csv                           urg_1.csv\r\n",
      "bank_2.csv                           urg_2.csv\r\n"
     ]
    }
   ],
   "source": [
    "ls"
   ]
  },
  {
   "cell_type": "code",
   "execution_count": 287,
   "metadata": {},
   "outputs": [],
   "source": [
    "# Extracting the zip file \n",
    "with ZipFile('AirQualityUCI.zip', 'r') as obj:\n",
    "    obj.extractall()"
   ]
  },
  {
   "cell_type": "code",
   "execution_count": 291,
   "metadata": {},
   "outputs": [],
   "source": [
    "# now that we've extracted the zip file we can read it with pandas\n",
    "df = pd.read_csv('AirQualityUCI.csv', sep=';')"
   ]
  },
  {
   "cell_type": "code",
   "execution_count": 243,
   "metadata": {},
   "outputs": [
    {
     "data": {
      "text/plain": [
       "(9471, 17)"
      ]
     },
     "execution_count": 243,
     "metadata": {},
     "output_type": "execute_result"
    }
   ],
   "source": [
    "df.shape"
   ]
  },
  {
   "cell_type": "code",
   "execution_count": 244,
   "metadata": {},
   "outputs": [
    {
     "data": {
      "text/html": [
       "<div>\n",
       "<style scoped>\n",
       "    .dataframe tbody tr th:only-of-type {\n",
       "        vertical-align: middle;\n",
       "    }\n",
       "\n",
       "    .dataframe tbody tr th {\n",
       "        vertical-align: top;\n",
       "    }\n",
       "\n",
       "    .dataframe thead th {\n",
       "        text-align: right;\n",
       "    }\n",
       "</style>\n",
       "<table border=\"1\" class=\"dataframe\">\n",
       "  <thead>\n",
       "    <tr style=\"text-align: right;\">\n",
       "      <th></th>\n",
       "      <th>Date</th>\n",
       "      <th>Time</th>\n",
       "      <th>CO(GT)</th>\n",
       "      <th>PT08.S1(CO)</th>\n",
       "      <th>NMHC(GT)</th>\n",
       "      <th>C6H6(GT)</th>\n",
       "      <th>PT08.S2(NMHC)</th>\n",
       "      <th>NOx(GT)</th>\n",
       "      <th>PT08.S3(NOx)</th>\n",
       "      <th>NO2(GT)</th>\n",
       "      <th>PT08.S4(NO2)</th>\n",
       "      <th>PT08.S5(O3)</th>\n",
       "      <th>T</th>\n",
       "      <th>RH</th>\n",
       "      <th>AH</th>\n",
       "      <th>Unnamed: 15</th>\n",
       "      <th>Unnamed: 16</th>\n",
       "    </tr>\n",
       "  </thead>\n",
       "  <tbody>\n",
       "    <tr>\n",
       "      <th>0</th>\n",
       "      <td>10/03/2004</td>\n",
       "      <td>18.00.00</td>\n",
       "      <td>2,6</td>\n",
       "      <td>1360.0</td>\n",
       "      <td>150.0</td>\n",
       "      <td>11,9</td>\n",
       "      <td>1046.0</td>\n",
       "      <td>166.0</td>\n",
       "      <td>1056.0</td>\n",
       "      <td>113.0</td>\n",
       "      <td>1692.0</td>\n",
       "      <td>1268.0</td>\n",
       "      <td>13,6</td>\n",
       "      <td>48,9</td>\n",
       "      <td>0,7578</td>\n",
       "      <td>NaN</td>\n",
       "      <td>NaN</td>\n",
       "    </tr>\n",
       "    <tr>\n",
       "      <th>1</th>\n",
       "      <td>10/03/2004</td>\n",
       "      <td>19.00.00</td>\n",
       "      <td>2</td>\n",
       "      <td>1292.0</td>\n",
       "      <td>112.0</td>\n",
       "      <td>9,4</td>\n",
       "      <td>955.0</td>\n",
       "      <td>103.0</td>\n",
       "      <td>1174.0</td>\n",
       "      <td>92.0</td>\n",
       "      <td>1559.0</td>\n",
       "      <td>972.0</td>\n",
       "      <td>13,3</td>\n",
       "      <td>47,7</td>\n",
       "      <td>0,7255</td>\n",
       "      <td>NaN</td>\n",
       "      <td>NaN</td>\n",
       "    </tr>\n",
       "    <tr>\n",
       "      <th>2</th>\n",
       "      <td>10/03/2004</td>\n",
       "      <td>20.00.00</td>\n",
       "      <td>2,2</td>\n",
       "      <td>1402.0</td>\n",
       "      <td>88.0</td>\n",
       "      <td>9,0</td>\n",
       "      <td>939.0</td>\n",
       "      <td>131.0</td>\n",
       "      <td>1140.0</td>\n",
       "      <td>114.0</td>\n",
       "      <td>1555.0</td>\n",
       "      <td>1074.0</td>\n",
       "      <td>11,9</td>\n",
       "      <td>54,0</td>\n",
       "      <td>0,7502</td>\n",
       "      <td>NaN</td>\n",
       "      <td>NaN</td>\n",
       "    </tr>\n",
       "    <tr>\n",
       "      <th>3</th>\n",
       "      <td>10/03/2004</td>\n",
       "      <td>21.00.00</td>\n",
       "      <td>2,2</td>\n",
       "      <td>1376.0</td>\n",
       "      <td>80.0</td>\n",
       "      <td>9,2</td>\n",
       "      <td>948.0</td>\n",
       "      <td>172.0</td>\n",
       "      <td>1092.0</td>\n",
       "      <td>122.0</td>\n",
       "      <td>1584.0</td>\n",
       "      <td>1203.0</td>\n",
       "      <td>11,0</td>\n",
       "      <td>60,0</td>\n",
       "      <td>0,7867</td>\n",
       "      <td>NaN</td>\n",
       "      <td>NaN</td>\n",
       "    </tr>\n",
       "    <tr>\n",
       "      <th>4</th>\n",
       "      <td>10/03/2004</td>\n",
       "      <td>22.00.00</td>\n",
       "      <td>1,6</td>\n",
       "      <td>1272.0</td>\n",
       "      <td>51.0</td>\n",
       "      <td>6,5</td>\n",
       "      <td>836.0</td>\n",
       "      <td>131.0</td>\n",
       "      <td>1205.0</td>\n",
       "      <td>116.0</td>\n",
       "      <td>1490.0</td>\n",
       "      <td>1110.0</td>\n",
       "      <td>11,2</td>\n",
       "      <td>59,6</td>\n",
       "      <td>0,7888</td>\n",
       "      <td>NaN</td>\n",
       "      <td>NaN</td>\n",
       "    </tr>\n",
       "  </tbody>\n",
       "</table>\n",
       "</div>"
      ],
      "text/plain": [
       "         Date      Time CO(GT)  PT08.S1(CO)  NMHC(GT) C6H6(GT)  PT08.S2(NMHC)  \\\n",
       "0  10/03/2004  18.00.00    2,6       1360.0     150.0     11,9         1046.0   \n",
       "1  10/03/2004  19.00.00      2       1292.0     112.0      9,4          955.0   \n",
       "2  10/03/2004  20.00.00    2,2       1402.0      88.0      9,0          939.0   \n",
       "3  10/03/2004  21.00.00    2,2       1376.0      80.0      9,2          948.0   \n",
       "4  10/03/2004  22.00.00    1,6       1272.0      51.0      6,5          836.0   \n",
       "\n",
       "   NOx(GT)  PT08.S3(NOx)  NO2(GT)  PT08.S4(NO2)  PT08.S5(O3)     T    RH  \\\n",
       "0    166.0        1056.0    113.0        1692.0       1268.0  13,6  48,9   \n",
       "1    103.0        1174.0     92.0        1559.0        972.0  13,3  47,7   \n",
       "2    131.0        1140.0    114.0        1555.0       1074.0  11,9  54,0   \n",
       "3    172.0        1092.0    122.0        1584.0       1203.0  11,0  60,0   \n",
       "4    131.0        1205.0    116.0        1490.0       1110.0  11,2  59,6   \n",
       "\n",
       "       AH  Unnamed: 15  Unnamed: 16  \n",
       "0  0,7578          NaN          NaN  \n",
       "1  0,7255          NaN          NaN  \n",
       "2  0,7502          NaN          NaN  \n",
       "3  0,7867          NaN          NaN  \n",
       "4  0,7888          NaN          NaN  "
      ]
     },
     "execution_count": 244,
     "metadata": {},
     "output_type": "execute_result"
    }
   ],
   "source": [
    "df.head()"
   ]
  },
  {
   "cell_type": "markdown",
   "metadata": {},
   "source": [
    "It seems we have two empty columns at the end. Let's remove them:"
   ]
  },
  {
   "cell_type": "code",
   "execution_count": 246,
   "metadata": {},
   "outputs": [],
   "source": [
    "df = df[list(df.columns)[:-2]]"
   ]
  },
  {
   "cell_type": "code",
   "execution_count": 247,
   "metadata": {},
   "outputs": [
    {
     "data": {
      "text/html": [
       "<div>\n",
       "<style scoped>\n",
       "    .dataframe tbody tr th:only-of-type {\n",
       "        vertical-align: middle;\n",
       "    }\n",
       "\n",
       "    .dataframe tbody tr th {\n",
       "        vertical-align: top;\n",
       "    }\n",
       "\n",
       "    .dataframe thead th {\n",
       "        text-align: right;\n",
       "    }\n",
       "</style>\n",
       "<table border=\"1\" class=\"dataframe\">\n",
       "  <thead>\n",
       "    <tr style=\"text-align: right;\">\n",
       "      <th></th>\n",
       "      <th>PT08.S1(CO)</th>\n",
       "      <th>NMHC(GT)</th>\n",
       "      <th>PT08.S2(NMHC)</th>\n",
       "      <th>NOx(GT)</th>\n",
       "      <th>PT08.S3(NOx)</th>\n",
       "      <th>NO2(GT)</th>\n",
       "      <th>PT08.S4(NO2)</th>\n",
       "      <th>PT08.S5(O3)</th>\n",
       "    </tr>\n",
       "  </thead>\n",
       "  <tbody>\n",
       "    <tr>\n",
       "      <th>count</th>\n",
       "      <td>9357.000000</td>\n",
       "      <td>9357.000000</td>\n",
       "      <td>9357.000000</td>\n",
       "      <td>9357.000000</td>\n",
       "      <td>9357.000000</td>\n",
       "      <td>9357.000000</td>\n",
       "      <td>9357.000000</td>\n",
       "      <td>9357.000000</td>\n",
       "    </tr>\n",
       "    <tr>\n",
       "      <th>mean</th>\n",
       "      <td>1048.990061</td>\n",
       "      <td>-159.090093</td>\n",
       "      <td>894.595276</td>\n",
       "      <td>168.616971</td>\n",
       "      <td>794.990168</td>\n",
       "      <td>58.148873</td>\n",
       "      <td>1391.479641</td>\n",
       "      <td>975.072032</td>\n",
       "    </tr>\n",
       "    <tr>\n",
       "      <th>std</th>\n",
       "      <td>329.832710</td>\n",
       "      <td>139.789093</td>\n",
       "      <td>342.333252</td>\n",
       "      <td>257.433866</td>\n",
       "      <td>321.993552</td>\n",
       "      <td>126.940455</td>\n",
       "      <td>467.210125</td>\n",
       "      <td>456.938184</td>\n",
       "    </tr>\n",
       "    <tr>\n",
       "      <th>min</th>\n",
       "      <td>-200.000000</td>\n",
       "      <td>-200.000000</td>\n",
       "      <td>-200.000000</td>\n",
       "      <td>-200.000000</td>\n",
       "      <td>-200.000000</td>\n",
       "      <td>-200.000000</td>\n",
       "      <td>-200.000000</td>\n",
       "      <td>-200.000000</td>\n",
       "    </tr>\n",
       "    <tr>\n",
       "      <th>25%</th>\n",
       "      <td>921.000000</td>\n",
       "      <td>-200.000000</td>\n",
       "      <td>711.000000</td>\n",
       "      <td>50.000000</td>\n",
       "      <td>637.000000</td>\n",
       "      <td>53.000000</td>\n",
       "      <td>1185.000000</td>\n",
       "      <td>700.000000</td>\n",
       "    </tr>\n",
       "    <tr>\n",
       "      <th>50%</th>\n",
       "      <td>1053.000000</td>\n",
       "      <td>-200.000000</td>\n",
       "      <td>895.000000</td>\n",
       "      <td>141.000000</td>\n",
       "      <td>794.000000</td>\n",
       "      <td>96.000000</td>\n",
       "      <td>1446.000000</td>\n",
       "      <td>942.000000</td>\n",
       "    </tr>\n",
       "    <tr>\n",
       "      <th>75%</th>\n",
       "      <td>1221.000000</td>\n",
       "      <td>-200.000000</td>\n",
       "      <td>1105.000000</td>\n",
       "      <td>284.000000</td>\n",
       "      <td>960.000000</td>\n",
       "      <td>133.000000</td>\n",
       "      <td>1662.000000</td>\n",
       "      <td>1255.000000</td>\n",
       "    </tr>\n",
       "    <tr>\n",
       "      <th>max</th>\n",
       "      <td>2040.000000</td>\n",
       "      <td>1189.000000</td>\n",
       "      <td>2214.000000</td>\n",
       "      <td>1479.000000</td>\n",
       "      <td>2683.000000</td>\n",
       "      <td>340.000000</td>\n",
       "      <td>2775.000000</td>\n",
       "      <td>2523.000000</td>\n",
       "    </tr>\n",
       "  </tbody>\n",
       "</table>\n",
       "</div>"
      ],
      "text/plain": [
       "       PT08.S1(CO)     NMHC(GT)  PT08.S2(NMHC)      NOx(GT)  PT08.S3(NOx)  \\\n",
       "count  9357.000000  9357.000000    9357.000000  9357.000000   9357.000000   \n",
       "mean   1048.990061  -159.090093     894.595276   168.616971    794.990168   \n",
       "std     329.832710   139.789093     342.333252   257.433866    321.993552   \n",
       "min    -200.000000  -200.000000    -200.000000  -200.000000   -200.000000   \n",
       "25%     921.000000  -200.000000     711.000000    50.000000    637.000000   \n",
       "50%    1053.000000  -200.000000     895.000000   141.000000    794.000000   \n",
       "75%    1221.000000  -200.000000    1105.000000   284.000000    960.000000   \n",
       "max    2040.000000  1189.000000    2214.000000  1479.000000   2683.000000   \n",
       "\n",
       "           NO2(GT)  PT08.S4(NO2)  PT08.S5(O3)  \n",
       "count  9357.000000   9357.000000  9357.000000  \n",
       "mean     58.148873   1391.479641   975.072032  \n",
       "std     126.940455    467.210125   456.938184  \n",
       "min    -200.000000   -200.000000  -200.000000  \n",
       "25%      53.000000   1185.000000   700.000000  \n",
       "50%      96.000000   1446.000000   942.000000  \n",
       "75%     133.000000   1662.000000  1255.000000  \n",
       "max     340.000000   2775.000000  2523.000000  "
      ]
     },
     "execution_count": 247,
     "metadata": {},
     "output_type": "execute_result"
    }
   ],
   "source": [
    "df.describe()"
   ]
  },
  {
   "cell_type": "markdown",
   "metadata": {},
   "source": [
    "Columns seem ok now. what about the end of the file?"
   ]
  },
  {
   "cell_type": "code",
   "execution_count": 292,
   "metadata": {},
   "outputs": [
    {
     "data": {
      "text/html": [
       "<div>\n",
       "<style scoped>\n",
       "    .dataframe tbody tr th:only-of-type {\n",
       "        vertical-align: middle;\n",
       "    }\n",
       "\n",
       "    .dataframe tbody tr th {\n",
       "        vertical-align: top;\n",
       "    }\n",
       "\n",
       "    .dataframe thead th {\n",
       "        text-align: right;\n",
       "    }\n",
       "</style>\n",
       "<table border=\"1\" class=\"dataframe\">\n",
       "  <thead>\n",
       "    <tr style=\"text-align: right;\">\n",
       "      <th></th>\n",
       "      <th>Date</th>\n",
       "      <th>Time</th>\n",
       "      <th>CO(GT)</th>\n",
       "      <th>PT08.S1(CO)</th>\n",
       "      <th>NMHC(GT)</th>\n",
       "      <th>C6H6(GT)</th>\n",
       "      <th>PT08.S2(NMHC)</th>\n",
       "      <th>NOx(GT)</th>\n",
       "      <th>PT08.S3(NOx)</th>\n",
       "      <th>NO2(GT)</th>\n",
       "      <th>PT08.S4(NO2)</th>\n",
       "      <th>PT08.S5(O3)</th>\n",
       "      <th>T</th>\n",
       "      <th>RH</th>\n",
       "      <th>AH</th>\n",
       "      <th>Unnamed: 15</th>\n",
       "      <th>Unnamed: 16</th>\n",
       "    </tr>\n",
       "  </thead>\n",
       "  <tbody>\n",
       "    <tr>\n",
       "      <th>9466</th>\n",
       "      <td>NaN</td>\n",
       "      <td>NaN</td>\n",
       "      <td>NaN</td>\n",
       "      <td>NaN</td>\n",
       "      <td>NaN</td>\n",
       "      <td>NaN</td>\n",
       "      <td>NaN</td>\n",
       "      <td>NaN</td>\n",
       "      <td>NaN</td>\n",
       "      <td>NaN</td>\n",
       "      <td>NaN</td>\n",
       "      <td>NaN</td>\n",
       "      <td>NaN</td>\n",
       "      <td>NaN</td>\n",
       "      <td>NaN</td>\n",
       "      <td>NaN</td>\n",
       "      <td>NaN</td>\n",
       "    </tr>\n",
       "    <tr>\n",
       "      <th>9467</th>\n",
       "      <td>NaN</td>\n",
       "      <td>NaN</td>\n",
       "      <td>NaN</td>\n",
       "      <td>NaN</td>\n",
       "      <td>NaN</td>\n",
       "      <td>NaN</td>\n",
       "      <td>NaN</td>\n",
       "      <td>NaN</td>\n",
       "      <td>NaN</td>\n",
       "      <td>NaN</td>\n",
       "      <td>NaN</td>\n",
       "      <td>NaN</td>\n",
       "      <td>NaN</td>\n",
       "      <td>NaN</td>\n",
       "      <td>NaN</td>\n",
       "      <td>NaN</td>\n",
       "      <td>NaN</td>\n",
       "    </tr>\n",
       "    <tr>\n",
       "      <th>9468</th>\n",
       "      <td>NaN</td>\n",
       "      <td>NaN</td>\n",
       "      <td>NaN</td>\n",
       "      <td>NaN</td>\n",
       "      <td>NaN</td>\n",
       "      <td>NaN</td>\n",
       "      <td>NaN</td>\n",
       "      <td>NaN</td>\n",
       "      <td>NaN</td>\n",
       "      <td>NaN</td>\n",
       "      <td>NaN</td>\n",
       "      <td>NaN</td>\n",
       "      <td>NaN</td>\n",
       "      <td>NaN</td>\n",
       "      <td>NaN</td>\n",
       "      <td>NaN</td>\n",
       "      <td>NaN</td>\n",
       "    </tr>\n",
       "    <tr>\n",
       "      <th>9469</th>\n",
       "      <td>NaN</td>\n",
       "      <td>NaN</td>\n",
       "      <td>NaN</td>\n",
       "      <td>NaN</td>\n",
       "      <td>NaN</td>\n",
       "      <td>NaN</td>\n",
       "      <td>NaN</td>\n",
       "      <td>NaN</td>\n",
       "      <td>NaN</td>\n",
       "      <td>NaN</td>\n",
       "      <td>NaN</td>\n",
       "      <td>NaN</td>\n",
       "      <td>NaN</td>\n",
       "      <td>NaN</td>\n",
       "      <td>NaN</td>\n",
       "      <td>NaN</td>\n",
       "      <td>NaN</td>\n",
       "    </tr>\n",
       "    <tr>\n",
       "      <th>9470</th>\n",
       "      <td>NaN</td>\n",
       "      <td>NaN</td>\n",
       "      <td>NaN</td>\n",
       "      <td>NaN</td>\n",
       "      <td>NaN</td>\n",
       "      <td>NaN</td>\n",
       "      <td>NaN</td>\n",
       "      <td>NaN</td>\n",
       "      <td>NaN</td>\n",
       "      <td>NaN</td>\n",
       "      <td>NaN</td>\n",
       "      <td>NaN</td>\n",
       "      <td>NaN</td>\n",
       "      <td>NaN</td>\n",
       "      <td>NaN</td>\n",
       "      <td>NaN</td>\n",
       "      <td>NaN</td>\n",
       "    </tr>\n",
       "  </tbody>\n",
       "</table>\n",
       "</div>"
      ],
      "text/plain": [
       "     Date Time CO(GT)  PT08.S1(CO)  NMHC(GT) C6H6(GT)  PT08.S2(NMHC)  NOx(GT)  \\\n",
       "9466  NaN  NaN    NaN          NaN       NaN      NaN            NaN      NaN   \n",
       "9467  NaN  NaN    NaN          NaN       NaN      NaN            NaN      NaN   \n",
       "9468  NaN  NaN    NaN          NaN       NaN      NaN            NaN      NaN   \n",
       "9469  NaN  NaN    NaN          NaN       NaN      NaN            NaN      NaN   \n",
       "9470  NaN  NaN    NaN          NaN       NaN      NaN            NaN      NaN   \n",
       "\n",
       "      PT08.S3(NOx)  NO2(GT)  PT08.S4(NO2)  PT08.S5(O3)    T   RH   AH  \\\n",
       "9466           NaN      NaN           NaN          NaN  NaN  NaN  NaN   \n",
       "9467           NaN      NaN           NaN          NaN  NaN  NaN  NaN   \n",
       "9468           NaN      NaN           NaN          NaN  NaN  NaN  NaN   \n",
       "9469           NaN      NaN           NaN          NaN  NaN  NaN  NaN   \n",
       "9470           NaN      NaN           NaN          NaN  NaN  NaN  NaN   \n",
       "\n",
       "      Unnamed: 15  Unnamed: 16  \n",
       "9466          NaN          NaN  \n",
       "9467          NaN          NaN  \n",
       "9468          NaN          NaN  \n",
       "9469          NaN          NaN  \n",
       "9470          NaN          NaN  "
      ]
     },
     "execution_count": 292,
     "metadata": {},
     "output_type": "execute_result"
    }
   ],
   "source": [
    "df.tail()"
   ]
  },
  {
   "cell_type": "markdown",
   "metadata": {},
   "source": [
    "Oops! there are lots of **NaN** values there!\n",
    "we can use **.dropna** method to remove them. pay attention to the **how='all'** argument. It means _remove rows that **all** of their values are NaN_"
   ]
  },
  {
   "cell_type": "code",
   "execution_count": 293,
   "metadata": {},
   "outputs": [],
   "source": [
    "df.dropna(how='all', inplace=True)"
   ]
  },
  {
   "cell_type": "code",
   "execution_count": 294,
   "metadata": {},
   "outputs": [
    {
     "data": {
      "text/html": [
       "<div>\n",
       "<style scoped>\n",
       "    .dataframe tbody tr th:only-of-type {\n",
       "        vertical-align: middle;\n",
       "    }\n",
       "\n",
       "    .dataframe tbody tr th {\n",
       "        vertical-align: top;\n",
       "    }\n",
       "\n",
       "    .dataframe thead th {\n",
       "        text-align: right;\n",
       "    }\n",
       "</style>\n",
       "<table border=\"1\" class=\"dataframe\">\n",
       "  <thead>\n",
       "    <tr style=\"text-align: right;\">\n",
       "      <th></th>\n",
       "      <th>Date</th>\n",
       "      <th>Time</th>\n",
       "      <th>CO(GT)</th>\n",
       "      <th>PT08.S1(CO)</th>\n",
       "      <th>NMHC(GT)</th>\n",
       "      <th>C6H6(GT)</th>\n",
       "      <th>PT08.S2(NMHC)</th>\n",
       "      <th>NOx(GT)</th>\n",
       "      <th>PT08.S3(NOx)</th>\n",
       "      <th>NO2(GT)</th>\n",
       "      <th>PT08.S4(NO2)</th>\n",
       "      <th>PT08.S5(O3)</th>\n",
       "      <th>T</th>\n",
       "      <th>RH</th>\n",
       "      <th>AH</th>\n",
       "      <th>Unnamed: 15</th>\n",
       "      <th>Unnamed: 16</th>\n",
       "    </tr>\n",
       "  </thead>\n",
       "  <tbody>\n",
       "    <tr>\n",
       "      <th>9352</th>\n",
       "      <td>04/04/2005</td>\n",
       "      <td>10.00.00</td>\n",
       "      <td>3,1</td>\n",
       "      <td>1314.0</td>\n",
       "      <td>-200.0</td>\n",
       "      <td>13,5</td>\n",
       "      <td>1101.0</td>\n",
       "      <td>472.0</td>\n",
       "      <td>539.0</td>\n",
       "      <td>190.0</td>\n",
       "      <td>1374.0</td>\n",
       "      <td>1729.0</td>\n",
       "      <td>21,9</td>\n",
       "      <td>29,3</td>\n",
       "      <td>0,7568</td>\n",
       "      <td>NaN</td>\n",
       "      <td>NaN</td>\n",
       "    </tr>\n",
       "    <tr>\n",
       "      <th>9353</th>\n",
       "      <td>04/04/2005</td>\n",
       "      <td>11.00.00</td>\n",
       "      <td>2,4</td>\n",
       "      <td>1163.0</td>\n",
       "      <td>-200.0</td>\n",
       "      <td>11,4</td>\n",
       "      <td>1027.0</td>\n",
       "      <td>353.0</td>\n",
       "      <td>604.0</td>\n",
       "      <td>179.0</td>\n",
       "      <td>1264.0</td>\n",
       "      <td>1269.0</td>\n",
       "      <td>24,3</td>\n",
       "      <td>23,7</td>\n",
       "      <td>0,7119</td>\n",
       "      <td>NaN</td>\n",
       "      <td>NaN</td>\n",
       "    </tr>\n",
       "    <tr>\n",
       "      <th>9354</th>\n",
       "      <td>04/04/2005</td>\n",
       "      <td>12.00.00</td>\n",
       "      <td>2,4</td>\n",
       "      <td>1142.0</td>\n",
       "      <td>-200.0</td>\n",
       "      <td>12,4</td>\n",
       "      <td>1063.0</td>\n",
       "      <td>293.0</td>\n",
       "      <td>603.0</td>\n",
       "      <td>175.0</td>\n",
       "      <td>1241.0</td>\n",
       "      <td>1092.0</td>\n",
       "      <td>26,9</td>\n",
       "      <td>18,3</td>\n",
       "      <td>0,6406</td>\n",
       "      <td>NaN</td>\n",
       "      <td>NaN</td>\n",
       "    </tr>\n",
       "    <tr>\n",
       "      <th>9355</th>\n",
       "      <td>04/04/2005</td>\n",
       "      <td>13.00.00</td>\n",
       "      <td>2,1</td>\n",
       "      <td>1003.0</td>\n",
       "      <td>-200.0</td>\n",
       "      <td>9,5</td>\n",
       "      <td>961.0</td>\n",
       "      <td>235.0</td>\n",
       "      <td>702.0</td>\n",
       "      <td>156.0</td>\n",
       "      <td>1041.0</td>\n",
       "      <td>770.0</td>\n",
       "      <td>28,3</td>\n",
       "      <td>13,5</td>\n",
       "      <td>0,5139</td>\n",
       "      <td>NaN</td>\n",
       "      <td>NaN</td>\n",
       "    </tr>\n",
       "    <tr>\n",
       "      <th>9356</th>\n",
       "      <td>04/04/2005</td>\n",
       "      <td>14.00.00</td>\n",
       "      <td>2,2</td>\n",
       "      <td>1071.0</td>\n",
       "      <td>-200.0</td>\n",
       "      <td>11,9</td>\n",
       "      <td>1047.0</td>\n",
       "      <td>265.0</td>\n",
       "      <td>654.0</td>\n",
       "      <td>168.0</td>\n",
       "      <td>1129.0</td>\n",
       "      <td>816.0</td>\n",
       "      <td>28,5</td>\n",
       "      <td>13,1</td>\n",
       "      <td>0,5028</td>\n",
       "      <td>NaN</td>\n",
       "      <td>NaN</td>\n",
       "    </tr>\n",
       "  </tbody>\n",
       "</table>\n",
       "</div>"
      ],
      "text/plain": [
       "            Date      Time CO(GT)  PT08.S1(CO)  NMHC(GT) C6H6(GT)  \\\n",
       "9352  04/04/2005  10.00.00    3,1       1314.0    -200.0     13,5   \n",
       "9353  04/04/2005  11.00.00    2,4       1163.0    -200.0     11,4   \n",
       "9354  04/04/2005  12.00.00    2,4       1142.0    -200.0     12,4   \n",
       "9355  04/04/2005  13.00.00    2,1       1003.0    -200.0      9,5   \n",
       "9356  04/04/2005  14.00.00    2,2       1071.0    -200.0     11,9   \n",
       "\n",
       "      PT08.S2(NMHC)  NOx(GT)  PT08.S3(NOx)  NO2(GT)  PT08.S4(NO2)  \\\n",
       "9352         1101.0    472.0         539.0    190.0        1374.0   \n",
       "9353         1027.0    353.0         604.0    179.0        1264.0   \n",
       "9354         1063.0    293.0         603.0    175.0        1241.0   \n",
       "9355          961.0    235.0         702.0    156.0        1041.0   \n",
       "9356         1047.0    265.0         654.0    168.0        1129.0   \n",
       "\n",
       "      PT08.S5(O3)     T    RH      AH  Unnamed: 15  Unnamed: 16  \n",
       "9352       1729.0  21,9  29,3  0,7568          NaN          NaN  \n",
       "9353       1269.0  24,3  23,7  0,7119          NaN          NaN  \n",
       "9354       1092.0  26,9  18,3  0,6406          NaN          NaN  \n",
       "9355        770.0  28,3  13,5  0,5139          NaN          NaN  \n",
       "9356        816.0  28,5  13,1  0,5028          NaN          NaN  "
      ]
     },
     "execution_count": 294,
     "metadata": {},
     "output_type": "execute_result"
    }
   ],
   "source": [
    "df.tail()"
   ]
  },
  {
   "cell_type": "code",
   "execution_count": 251,
   "metadata": {},
   "outputs": [
    {
     "data": {
      "text/plain": [
       "(9357, 15)"
      ]
     },
     "execution_count": 251,
     "metadata": {},
     "output_type": "execute_result"
    }
   ],
   "source": [
    "df.shape"
   ]
  },
  {
   "cell_type": "markdown",
   "metadata": {},
   "source": [
    "Reading the dataset info , we fond out that the creators used **-200** to fill the blanks. We should replace these values with real *Nan*s:"
   ]
  },
  {
   "cell_type": "code",
   "execution_count": 295,
   "metadata": {},
   "outputs": [],
   "source": [
    "df.replace(-200, np.nan, inplace=True)"
   ]
  },
  {
   "cell_type": "markdown",
   "metadata": {},
   "source": [
    "Ok we've correctly identified the *NaN* values but how much *NaN*s we have now?"
   ]
  },
  {
   "cell_type": "code",
   "execution_count": 297,
   "metadata": {},
   "outputs": [
    {
     "data": {
      "text/plain": [
       "Date                0\n",
       "Time                0\n",
       "CO(GT)              0\n",
       "PT08.S1(CO)       366\n",
       "NMHC(GT)         8443\n",
       "C6H6(GT)            0\n",
       "PT08.S2(NMHC)     366\n",
       "NOx(GT)          1639\n",
       "PT08.S3(NOx)      366\n",
       "NO2(GT)          1642\n",
       "PT08.S4(NO2)      366\n",
       "PT08.S5(O3)       366\n",
       "T                   0\n",
       "RH                  0\n",
       "AH                  0\n",
       "Unnamed: 15      9357\n",
       "Unnamed: 16      9357\n",
       "dtype: int64"
      ]
     },
     "execution_count": 297,
     "metadata": {},
     "output_type": "execute_result"
    }
   ],
   "source": [
    "df.isna().sum()"
   ]
  },
  {
   "cell_type": "markdown",
   "metadata": {},
   "source": [
    "What happened above? first we used **.isna()** method to check each value in the DataFrame to see if it's *NaN* . This returns a New DataFrame with just *True* and *False* values(*True* if the value is *NaN* and *False* if it's not a *NaN*). Then we use **.sum()** to add them up. You may not expected Python to sum *True/False* (Boolean) values but the reason it happens is that Python sees *True* as 1 and *False* as 0."
   ]
  },
  {
   "cell_type": "markdown",
   "metadata": {},
   "source": [
    "Ok, at the end of the data cleaning, we can save our cleaned data to a csv:"
   ]
  },
  {
   "cell_type": "code",
   "execution_count": 300,
   "metadata": {},
   "outputs": [],
   "source": [
    "df.to_csv('../Results/AirQuality_clean.csv', index=False)"
   ]
  },
  {
   "cell_type": "markdown",
   "metadata": {},
   "source": [
    "## Exercises"
   ]
  },
  {
   "cell_type": "markdown",
   "metadata": {},
   "source": [
    "<img src=\"../Images/student.svg\"   width=\"30\" align=\"left\">               "
   ]
  },
  {
   "cell_type": "markdown",
   "metadata": {},
   "source": [
    "Write two function for the given formulas:"
   ]
  },
  {
   "cell_type": "markdown",
   "metadata": {},
   "source": [
    "<img src=\"../Images/sphere.png\" width=\"700\"> "
   ]
  },
  {
   "cell_type": "markdown",
   "metadata": {},
   "source": [
    "The first function *(get_sphere_volume)* should get **5** and return **523.6**\n",
    "\n",
    "The first function *(get_sphere_radius)* should get **17** and return **1.6**\n",
    "\n",
    "hint: for $\\pi$ use *math.pi* (import math)"
   ]
  },
  {
   "cell_type": "code",
   "execution_count": null,
   "metadata": {},
   "outputs": [],
   "source": [
    "(\\   .-.   .-.   .-.   .-.   .-.   .-.   .-.   .-.   /_\")\n",
    " \\\\_//^\\\\_//^\\\\_//^\\\\_//^\\\\_//^\\\\_//^\\\\_//^\\\\_//^\\\\_//\n",
    "  `\"`   `\"`   `\"`   `\"`   `\"`   `\"`   `\"`   `\"`   `\"`"
   ]
  },
  {
   "cell_type": "code",
   "execution_count": 3,
   "metadata": {},
   "outputs": [],
   "source": [
    "import math\n",
    "\n",
    "def get_sphere_volume(radius):\n",
    "    return (4/3) * (math.pi * (radius ** 3))\n",
    "\n",
    "def get_sphere_radius(volume):\n",
    "    return (3 * (volume / (4 * math.pi))) ** (1/3)"
   ]
  },
  {
   "cell_type": "markdown",
   "metadata": {},
   "source": [
    "### Finding index of a list/string item/character"
   ]
  },
  {
   "cell_type": "markdown",
   "metadata": {},
   "source": [
    "It often happens that we want to find the index of an item (or character) in a list (or a string). The easiest way to do so is using *index* method:"
   ]
  },
  {
   "cell_type": "code",
   "execution_count": 6,
   "metadata": {},
   "outputs": [
    {
     "data": {
      "text/plain": [
       "2"
      ]
     },
     "execution_count": 6,
     "metadata": {},
     "output_type": "execute_result"
    }
   ],
   "source": [
    "# finding the index of 'foo'\n",
    "small_list = ['pipa', 'papa', 'foo', 'bar', 'ham']\n",
    "small_list.index('foo')"
   ]
  },
  {
   "cell_type": "markdown",
   "metadata": {},
   "source": [
    "The same thing exists for strings:"
   ]
  },
  {
   "cell_type": "code",
   "execution_count": 9,
   "metadata": {},
   "outputs": [
    {
     "data": {
      "text/plain": [
       "22"
      ]
     },
     "execution_count": 9,
     "metadata": {},
     "output_type": "execute_result"
    }
   ],
   "source": [
    "# getting index of 'want'\n",
    "example_string = 'this is a test text I want to use here'\n",
    "example_string.index('want')"
   ]
  },
  {
   "cell_type": "markdown",
   "metadata": {},
   "source": [
    "In this case, 22 is the *start* of the *want*"
   ]
  },
  {
   "cell_type": "markdown",
   "metadata": {},
   "source": [
    "<img src=\"../Images/wizard.svg\"   width=\"30\" align=\"left\">               "
   ]
  },
  {
   "cell_type": "markdown",
   "metadata": {},
   "source": [
    "Write a function name fancy_case that does the following conversions:"
   ]
  },
  {
   "cell_type": "markdown",
   "metadata": {},
   "source": [
    "<img src=\"../Images/string_function.png\" width=\"700\"> "
   ]
  },
  {
   "cell_type": "code",
   "execution_count": null,
   "metadata": {},
   "outputs": [],
   "source": [
    "(\\   .-.   .-.   .-.   .-.   .-.   .-.   .-.   .-.   /_\")\n",
    " \\\\_//^\\\\_//^\\\\_//^\\\\_//^\\\\_//^\\\\_//^\\\\_//^\\\\_//^\\\\_//\n",
    "  `\"`   `\"`   `\"`   `\"`   `\"`   `\"`   `\"`   `\"`   `\"`"
   ]
  },
  {
   "cell_type": "code",
   "execution_count": 21,
   "metadata": {},
   "outputs": [],
   "source": [
    "def fancy_case(text):\n",
    "    und_ind = text.index('_')\n",
    "    res = text[:und_ind-1] +\\\n",
    "        text[und_ind-1].upper() +\\\n",
    "        '_' +\\\n",
    "        text[und_ind+1].upper() +\\\n",
    "        text[und_ind+2:]\n",
    "    return res"
   ]
  },
  {
   "cell_type": "code",
   "execution_count": 22,
   "metadata": {},
   "outputs": [
    {
     "data": {
      "text/plain": [
       "'mY_Cat'"
      ]
     },
     "execution_count": 22,
     "metadata": {},
     "output_type": "execute_result"
    }
   ],
   "source": [
    "fancy_case('my_cat')"
   ]
  },
  {
   "cell_type": "markdown",
   "metadata": {},
   "source": [
    "## .py files\n",
    "- Creatung a new notebook\n",
    "- Converting a notebook to a .py file\n",
    "- running a .py file\n",
    "- Reading from a py file\n",
    "- argparse"
   ]
  },
  {
   "cell_type": "code",
   "execution_count": 7,
   "metadata": {
    "ExecuteTime": {
     "end_time": "2020-05-22T09:07:09.577388Z",
     "start_time": "2020-05-22T09:07:09.573310Z"
    }
   },
   "outputs": [],
   "source": [
    "import my_functions as mf"
   ]
  },
  {
   "cell_type": "code",
   "execution_count": 2,
   "metadata": {
    "ExecuteTime": {
     "end_time": "2020-05-22T08:55:58.625751Z",
     "start_time": "2020-05-22T08:55:58.602800Z"
    }
   },
   "outputs": [
    {
     "data": {
      "text/plain": [
       "\"I'm just a test text\""
      ]
     },
     "execution_count": 2,
     "metadata": {},
     "output_type": "execute_result"
    }
   ],
   "source": [
    "mf.text_cleaner(\"   I'm just a test text...\")"
   ]
  },
  {
   "cell_type": "code",
   "execution_count": 6,
   "metadata": {
    "ExecuteTime": {
     "end_time": "2020-05-22T09:06:22.280988Z",
     "start_time": "2020-05-22T09:06:22.252274Z"
    }
   },
   "outputs": [
    {
     "ename": "AttributeError",
     "evalue": "module 'my_functions' has no attribute 'text_splitter'",
     "output_type": "error",
     "traceback": [
      "\u001b[0;31m---------------------------------------------------------------------------\u001b[0m",
      "\u001b[0;31mAttributeError\u001b[0m                            Traceback (most recent call last)",
      "\u001b[0;32m<ipython-input-6-f98554f7f69d>\u001b[0m in \u001b[0;36m<module>\u001b[0;34m\u001b[0m\n\u001b[0;32m----> 1\u001b[0;31m \u001b[0mmf\u001b[0m\u001b[0;34m.\u001b[0m\u001b[0mtext_splitter\u001b[0m\u001b[0;34m(\u001b[0m\u001b[0;34m\"   I'm just a test text...\"\u001b[0m\u001b[0;34m)\u001b[0m\u001b[0;34m\u001b[0m\u001b[0;34m\u001b[0m\u001b[0m\n\u001b[0m",
      "\u001b[0;31mAttributeError\u001b[0m: module 'my_functions' has no attribute 'text_splitter'"
     ]
    }
   ],
   "source": [
    "mf.text_splitter(\"   I'm just a test text...\")"
   ]
  },
  {
   "cell_type": "markdown",
   "metadata": {},
   "source": [
    "<img src=\"../Images/wizard.svg\"   width=\"30\" align=\"left\">               "
   ]
  },
  {
   "cell_type": "markdown",
   "metadata": {},
   "source": [
    "**YOUR TURN:**\n",
    "    \n",
    "It seems we've forgot to add the **text_splitter** function!\n",
    "Add this function which : Takes a string, first run in through text_clener and then split the result on *space* and returns the result."
   ]
  },
  {
   "cell_type": "code",
   "execution_count": 10,
   "metadata": {
    "ExecuteTime": {
     "end_time": "2020-05-22T09:10:21.076296Z",
     "start_time": "2020-05-22T09:10:21.064774Z"
    }
   },
   "outputs": [
    {
     "data": {
      "text/plain": [
       "[\"I'm\", 'just', 'a', 'test', 'text']"
      ]
     },
     "execution_count": 10,
     "metadata": {},
     "output_type": "execute_result"
    }
   ],
   "source": [
    "# if we add something to the my_functions, we can't simplt re-import it by using import my_functions as mf\n",
    "# instead we need to use imp module to do so (The other way is to restart the kernel)\n",
    "import imp\n",
    "imp.reload(mf)\n",
    "\n",
    "mf.text_splitter(\"   I'm just a test text...\")"
   ]
  },
  {
   "cell_type": "markdown",
   "metadata": {},
   "source": [
    " "
   ]
  },
  {
   "cell_type": "markdown",
   "metadata": {},
   "source": [
    "## Reading from SQL Server"
   ]
  },
  {
   "cell_type": "code",
   "execution_count": null,
   "metadata": {},
   "outputs": [],
   "source": [
    "from pyathenajdbc import connect\n",
    "\n",
    "query = \"\"\"\n",
    "        XXX\n",
    "        \"\"\"\n",
    "conn = connect( access_key='XXX',\n",
    "                secret_key='XXX',\n",
    "                region_name='XXX',\n",
    "                schema_name='XXX',\n",
    "                s3_staging_dir='XXX')\n",
    "\n",
    "try:\n",
    "    df = pd.read_sql(query, conn)\n",
    "    \n",
    "except:\n",
    "    print('Connection Error')\n",
    "    \n",
    "finally:\n",
    "    conn.close()"
   ]
  },
  {
   "cell_type": "markdown",
   "metadata": {},
   "source": [
    "## The Other Built-in functions:"
   ]
  },
  {
   "cell_type": "markdown",
   "metadata": {},
   "source": [
    "### isinstance"
   ]
  },
  {
   "cell_type": "code",
   "execution_count": 17,
   "metadata": {
    "ExecuteTime": {
     "end_time": "2020-05-22T09:19:40.269471Z",
     "start_time": "2020-05-22T09:19:40.260772Z"
    }
   },
   "outputs": [],
   "source": [
    "cities = ['CO', 'MI', 'BN', 22100, 'RO', 20147, 'LE']"
   ]
  },
  {
   "cell_type": "code",
   "execution_count": 21,
   "metadata": {
    "ExecuteTime": {
     "end_time": "2020-05-22T09:22:21.637166Z",
     "start_time": "2020-05-22T09:22:21.631215Z"
    }
   },
   "outputs": [
    {
     "name": "stdout",
     "output_type": "stream",
     "text": [
      "Wrong format --> 22100\n",
      "Wrong format --> 20147\n"
     ]
    }
   ],
   "source": [
    "for city in cities:\n",
    "    if type(city) != str:\n",
    "        print(f'Wrong format --> {city}')"
   ]
  },
  {
   "cell_type": "code",
   "execution_count": 28,
   "metadata": {
    "ExecuteTime": {
     "end_time": "2020-05-22T09:25:52.664118Z",
     "start_time": "2020-05-22T09:25:52.625169Z"
    }
   },
   "outputs": [
    {
     "name": "stdout",
     "output_type": "stream",
     "text": [
      "Wrong format --> 22100\n",
      "Wrong format --> 20147\n"
     ]
    }
   ],
   "source": [
    "for city in cities:\n",
    "    if not isinstance(city, str):\n",
    "        print(f'Wrong format --> {city}')"
   ]
  },
  {
   "cell_type": "markdown",
   "metadata": {},
   "source": [
    "<img src=\"../Images/wizard.svg\"   width=\"30\" align=\"left\" >               "
   ]
  },
  {
   "cell_type": "markdown",
   "metadata": {},
   "source": [
    "**YOUR TURN:**\n",
    "    \n",
    "What is happening in the following code?"
   ]
  },
  {
   "cell_type": "code",
   "execution_count": 30,
   "metadata": {
    "ExecuteTime": {
     "end_time": "2020-05-22T09:27:30.304603Z",
     "start_time": "2020-05-22T09:27:30.282885Z"
    }
   },
   "outputs": [
    {
     "name": "stdout",
     "output_type": "stream",
     "text": [
      "Wrong format --> 22100\n",
      "Wrong format --> 20147\n"
     ]
    }
   ],
   "source": [
    "print(*[f'Wrong format --> {city}' for city in cities if not isinstance(city, str)], sep='\\n')"
   ]
  },
  {
   "cell_type": "markdown",
   "metadata": {},
   "source": [
    "### filter"
   ]
  },
  {
   "cell_type": "code",
   "execution_count": 36,
   "metadata": {
    "ExecuteTime": {
     "end_time": "2020-05-22T09:41:35.788322Z",
     "start_time": "2020-05-22T09:41:35.774595Z"
    }
   },
   "outputs": [
    {
     "name": "stdout",
     "output_type": "stream",
     "text": [
      "Wrong format --> 22100\n",
      "Wrong format --> 20147\n"
     ]
    }
   ],
   "source": [
    "cities = ['CO', 'MI', 'BN', 22100, 'RO', 20147, 'LE']\n",
    "\n",
    "def filter_cities(city):\n",
    "    if type(city) != str:\n",
    "        return True\n",
    "\n",
    "filtered_items = filter(filter_cities, cities)\n",
    "\n",
    "for item in filtered_items:\n",
    "    print(f'Wrong format --> {item}')"
   ]
  },
  {
   "cell_type": "markdown",
   "metadata": {},
   "source": [
    "<img src=\"../Images/wizard.svg\"   width=\"30\" align=\"left\" >               "
   ]
  },
  {
   "cell_type": "markdown",
   "metadata": {},
   "source": [
    "**YOUR TURN:**\n",
    "    \n",
    "What is happening in the following code?"
   ]
  },
  {
   "cell_type": "code",
   "execution_count": 37,
   "metadata": {},
   "outputs": [
    {
     "name": "stdout",
     "output_type": "stream",
     "text": [
      "Wrong format --> 22100\n",
      "Wrong format --> 20147\n"
     ]
    }
   ],
   "source": [
    "print(*[f'Wrong format --> {city}' for city in list(filter(lambda x: not isinstance(x, str), cities))], sep='\\n')"
   ]
  },
  {
   "cell_type": "markdown",
   "metadata": {},
   "source": [
    "### all"
   ]
  },
  {
   "cell_type": "code",
   "execution_count": 44,
   "metadata": {
    "ExecuteTime": {
     "end_time": "2020-05-22T09:56:56.360131Z",
     "start_time": "2020-05-22T09:56:56.322438Z"
    }
   },
   "outputs": [
    {
     "data": {
      "text/plain": [
       "False"
      ]
     },
     "execution_count": 44,
     "metadata": {},
     "output_type": "execute_result"
    }
   ],
   "source": [
    "cities = ['CO', 'MI', 'BN', 22100, 'RO', 20147, 'LE']\n",
    "\n",
    "all([isinstance(city, str) for city in cities])"
   ]
  },
  {
   "cell_type": "markdown",
   "metadata": {},
   "source": [
    "### any"
   ]
  },
  {
   "cell_type": "code",
   "execution_count": 45,
   "metadata": {
    "ExecuteTime": {
     "end_time": "2020-05-22T09:57:07.098449Z",
     "start_time": "2020-05-22T09:57:07.083560Z"
    }
   },
   "outputs": [
    {
     "data": {
      "text/plain": [
       "True"
      ]
     },
     "execution_count": 45,
     "metadata": {},
     "output_type": "execute_result"
    }
   ],
   "source": [
    "any([isinstance(city, str) for city in cities])"
   ]
  },
  {
   "cell_type": "markdown",
   "metadata": {},
   "source": [
    "<img src=\"../Images/wizard.svg\"   width=\"30\" align=\"left\" >               "
   ]
  },
  {
   "cell_type": "markdown",
   "metadata": {},
   "source": [
    "**YOUR TURN:**\n",
    "    \n",
    "Use the df below and filter it for the rows that all of their items are bigger than one:"
   ]
  },
  {
   "cell_type": "code",
   "execution_count": 4,
   "metadata": {},
   "outputs": [],
   "source": [
    "import pandas as pd\n",
    "df = pd.DataFrame({'C_1':'a 3ab ac a5d ce af ah a a7e ak a3l'.split(),\n",
    "                   'C_2':'aa ytcb c a3d ce af agh at3i aj ank fa'.split()})"
   ]
  },
  {
   "cell_type": "code",
   "execution_count": 5,
   "metadata": {},
   "outputs": [
    {
     "data": {
      "text/html": [
       "<div>\n",
       "<style scoped>\n",
       "    .dataframe tbody tr th:only-of-type {\n",
       "        vertical-align: middle;\n",
       "    }\n",
       "\n",
       "    .dataframe tbody tr th {\n",
       "        vertical-align: top;\n",
       "    }\n",
       "\n",
       "    .dataframe thead th {\n",
       "        text-align: right;\n",
       "    }\n",
       "</style>\n",
       "<table border=\"1\" class=\"dataframe\">\n",
       "  <thead>\n",
       "    <tr style=\"text-align: right;\">\n",
       "      <th></th>\n",
       "      <th>C_1</th>\n",
       "      <th>C_2</th>\n",
       "    </tr>\n",
       "  </thead>\n",
       "  <tbody>\n",
       "    <tr>\n",
       "      <th>0</th>\n",
       "      <td>a</td>\n",
       "      <td>aa</td>\n",
       "    </tr>\n",
       "    <tr>\n",
       "      <th>1</th>\n",
       "      <td>3ab</td>\n",
       "      <td>ytcb</td>\n",
       "    </tr>\n",
       "    <tr>\n",
       "      <th>2</th>\n",
       "      <td>ac</td>\n",
       "      <td>c</td>\n",
       "    </tr>\n",
       "    <tr>\n",
       "      <th>3</th>\n",
       "      <td>a5d</td>\n",
       "      <td>a3d</td>\n",
       "    </tr>\n",
       "    <tr>\n",
       "      <th>4</th>\n",
       "      <td>ce</td>\n",
       "      <td>ce</td>\n",
       "    </tr>\n",
       "    <tr>\n",
       "      <th>5</th>\n",
       "      <td>af</td>\n",
       "      <td>af</td>\n",
       "    </tr>\n",
       "    <tr>\n",
       "      <th>6</th>\n",
       "      <td>ah</td>\n",
       "      <td>agh</td>\n",
       "    </tr>\n",
       "    <tr>\n",
       "      <th>7</th>\n",
       "      <td>a</td>\n",
       "      <td>at3i</td>\n",
       "    </tr>\n",
       "    <tr>\n",
       "      <th>8</th>\n",
       "      <td>a7e</td>\n",
       "      <td>aj</td>\n",
       "    </tr>\n",
       "    <tr>\n",
       "      <th>9</th>\n",
       "      <td>ak</td>\n",
       "      <td>ank</td>\n",
       "    </tr>\n",
       "    <tr>\n",
       "      <th>10</th>\n",
       "      <td>a3l</td>\n",
       "      <td>fa</td>\n",
       "    </tr>\n",
       "  </tbody>\n",
       "</table>\n",
       "</div>"
      ],
      "text/plain": [
       "    C_1   C_2\n",
       "0     a    aa\n",
       "1   3ab  ytcb\n",
       "2    ac     c\n",
       "3   a5d   a3d\n",
       "4    ce    ce\n",
       "5    af    af\n",
       "6    ah   agh\n",
       "7     a  at3i\n",
       "8   a7e    aj\n",
       "9    ak   ank\n",
       "10  a3l    fa"
      ]
     },
     "execution_count": 5,
     "metadata": {},
     "output_type": "execute_result"
    }
   ],
   "source": [
    "df"
   ]
  },
  {
   "cell_type": "code",
   "execution_count": 7,
   "metadata": {},
   "outputs": [
    {
     "data": {
      "text/html": [
       "<div>\n",
       "<style scoped>\n",
       "    .dataframe tbody tr th:only-of-type {\n",
       "        vertical-align: middle;\n",
       "    }\n",
       "\n",
       "    .dataframe tbody tr th {\n",
       "        vertical-align: top;\n",
       "    }\n",
       "\n",
       "    .dataframe thead th {\n",
       "        text-align: right;\n",
       "    }\n",
       "</style>\n",
       "<table border=\"1\" class=\"dataframe\">\n",
       "  <thead>\n",
       "    <tr style=\"text-align: right;\">\n",
       "      <th></th>\n",
       "      <th>0</th>\n",
       "      <th>1</th>\n",
       "    </tr>\n",
       "  </thead>\n",
       "  <tbody>\n",
       "    <tr>\n",
       "      <th>0</th>\n",
       "      <td>3ab</td>\n",
       "      <td>ytcb</td>\n",
       "    </tr>\n",
       "    <tr>\n",
       "      <th>0</th>\n",
       "      <td>a5d</td>\n",
       "      <td>a3d</td>\n",
       "    </tr>\n",
       "    <tr>\n",
       "      <th>0</th>\n",
       "      <td>ce</td>\n",
       "      <td>ce</td>\n",
       "    </tr>\n",
       "    <tr>\n",
       "      <th>0</th>\n",
       "      <td>af</td>\n",
       "      <td>af</td>\n",
       "    </tr>\n",
       "    <tr>\n",
       "      <th>0</th>\n",
       "      <td>ah</td>\n",
       "      <td>agh</td>\n",
       "    </tr>\n",
       "    <tr>\n",
       "      <th>0</th>\n",
       "      <td>a7e</td>\n",
       "      <td>aj</td>\n",
       "    </tr>\n",
       "    <tr>\n",
       "      <th>0</th>\n",
       "      <td>ak</td>\n",
       "      <td>ank</td>\n",
       "    </tr>\n",
       "    <tr>\n",
       "      <th>0</th>\n",
       "      <td>a3l</td>\n",
       "      <td>fa</td>\n",
       "    </tr>\n",
       "  </tbody>\n",
       "</table>\n",
       "</div>"
      ],
      "text/plain": [
       "     0     1\n",
       "0  3ab  ytcb\n",
       "0  a5d   a3d\n",
       "0   ce    ce\n",
       "0   af    af\n",
       "0   ah   agh\n",
       "0  a7e    aj\n",
       "0   ak   ank\n",
       "0  a3l    fa"
      ]
     },
     "execution_count": 7,
     "metadata": {},
     "output_type": "execute_result"
    }
   ],
   "source": [
    "res = []\n",
    "for i in range(len(df)):\n",
    "    if all([len(x) > 1 for x in df.iloc[i, :]]):\n",
    "        res.append(pd.DataFrame(df.iloc[i, :].values).T)\n",
    "pd.concat(res)#.reset_index(drop=True)"
   ]
  },
  {
   "cell_type": "code",
   "execution_count": 93,
   "metadata": {},
   "outputs": [
    {
     "data": {
      "text/html": [
       "<div>\n",
       "<style scoped>\n",
       "    .dataframe tbody tr th:only-of-type {\n",
       "        vertical-align: middle;\n",
       "    }\n",
       "\n",
       "    .dataframe tbody tr th {\n",
       "        vertical-align: top;\n",
       "    }\n",
       "\n",
       "    .dataframe thead th {\n",
       "        text-align: right;\n",
       "    }\n",
       "</style>\n",
       "<table border=\"1\" class=\"dataframe\">\n",
       "  <thead>\n",
       "    <tr style=\"text-align: right;\">\n",
       "      <th></th>\n",
       "      <th>C_1</th>\n",
       "      <th>C_2</th>\n",
       "    </tr>\n",
       "  </thead>\n",
       "  <tbody>\n",
       "    <tr>\n",
       "      <th>1</th>\n",
       "      <td>3ab</td>\n",
       "      <td>ytcb</td>\n",
       "    </tr>\n",
       "    <tr>\n",
       "      <th>3</th>\n",
       "      <td>a5d</td>\n",
       "      <td>a3d</td>\n",
       "    </tr>\n",
       "    <tr>\n",
       "      <th>4</th>\n",
       "      <td>ce</td>\n",
       "      <td>ce</td>\n",
       "    </tr>\n",
       "    <tr>\n",
       "      <th>5</th>\n",
       "      <td>af</td>\n",
       "      <td>af</td>\n",
       "    </tr>\n",
       "    <tr>\n",
       "      <th>6</th>\n",
       "      <td>ah</td>\n",
       "      <td>agh</td>\n",
       "    </tr>\n",
       "    <tr>\n",
       "      <th>8</th>\n",
       "      <td>a7e</td>\n",
       "      <td>aj</td>\n",
       "    </tr>\n",
       "    <tr>\n",
       "      <th>9</th>\n",
       "      <td>ak</td>\n",
       "      <td>ank</td>\n",
       "    </tr>\n",
       "    <tr>\n",
       "      <th>10</th>\n",
       "      <td>a3l</td>\n",
       "      <td>fa</td>\n",
       "    </tr>\n",
       "  </tbody>\n",
       "</table>\n",
       "</div>"
      ],
      "text/plain": [
       "    C_1   C_2\n",
       "1   3ab  ytcb\n",
       "3   a5d   a3d\n",
       "4    ce    ce\n",
       "5    af    af\n",
       "6    ah   agh\n",
       "8   a7e    aj\n",
       "9    ak   ank\n",
       "10  a3l    fa"
      ]
     },
     "execution_count": 93,
     "metadata": {},
     "output_type": "execute_result"
    }
   ],
   "source": [
    "res = []\n",
    "for i in range(len(df)):\n",
    "    if all([len(x) > 1 for x in df.iloc[i, :]]): # try to re-write the code using any\n",
    "        res.append(i)\n",
    "df[df.index.isin(res)]"
   ]
  },
  {
   "cell_type": "markdown",
   "metadata": {},
   "source": [
    "## Navigation"
   ]
  },
  {
   "cell_type": "code",
   "execution_count": 46,
   "metadata": {
    "ExecuteTime": {
     "end_time": "2020-05-22T10:05:48.439595Z",
     "start_time": "2020-05-22T10:05:48.419690Z"
    }
   },
   "outputs": [
    {
     "data": {
      "text/plain": [
       "['etc_files',\n",
       " 'Images',\n",
       " 'PyStyle-master',\n",
       " '__pycache__',\n",
       " 'my_functions.py',\n",
       " 'README.md',\n",
       " 'Results',\n",
       " 'Py_intro.ipynb',\n",
       " 'MedSys.py',\n",
       " '.gitignore',\n",
       " 'Py_intro_temp.ipynb',\n",
       " 'desc_csv.py',\n",
       " '.ipynb_checkpoints',\n",
       " 'data_preparation.py',\n",
       " '.git',\n",
       " 'example_dir',\n",
       " '.vscode',\n",
       " 'Data',\n",
       " 'TBD.txt']"
      ]
     },
     "execution_count": 46,
     "metadata": {},
     "output_type": "execute_result"
    }
   ],
   "source": [
    "import os\n",
    "os.listdir()"
   ]
  },
  {
   "cell_type": "code",
   "execution_count": 5,
   "metadata": {},
   "outputs": [
    {
     "name": "stdout",
     "output_type": "stream",
     "text": [
      "\u001b[34mData\u001b[m\u001b[m/                README.md            data_preparation.py\r\n",
      "\u001b[34mImages\u001b[m\u001b[m/              \u001b[34mResults\u001b[m\u001b[m/             desc_csv.py\r\n",
      "MedSys.py            TBD.txt              \u001b[34metc_files\u001b[m\u001b[m/\r\n",
      "Py_intro.ipynb       \u001b[34m__pycache__\u001b[m\u001b[m/         my_functions.py\r\n"
     ]
    }
   ],
   "source": [
    "ls"
   ]
  },
  {
   "cell_type": "code",
   "execution_count": 47,
   "metadata": {
    "ExecuteTime": {
     "end_time": "2020-05-22T10:07:52.051104Z",
     "start_time": "2020-05-22T10:07:52.036655Z"
    }
   },
   "outputs": [],
   "source": [
    "os.mkdir('example_directory/')"
   ]
  },
  {
   "cell_type": "code",
   "execution_count": 49,
   "metadata": {
    "ExecuteTime": {
     "end_time": "2020-05-22T10:07:58.224327Z",
     "start_time": "2020-05-22T10:07:58.087315Z"
    }
   },
   "outputs": [
    {
     "name": "stdout",
     "output_type": "stream",
     "text": [
      "\u001b[34mData\u001b[m\u001b[m/                README.md            \u001b[34metc_files\u001b[m\u001b[m/\r\n",
      "\u001b[34mImages\u001b[m\u001b[m/              \u001b[34mResults\u001b[m\u001b[m/             \u001b[34mexample_dir\u001b[m\u001b[m/\r\n",
      "MedSys.py            TBD.txt              \u001b[34mexample_directory\u001b[m\u001b[m/\r\n",
      "\u001b[34mPyStyle-master\u001b[m\u001b[m/      \u001b[34m__pycache__\u001b[m\u001b[m/         my_functions.py\r\n",
      "Py_intro.ipynb       data_preparation.py\r\n",
      "Py_intro_temp.ipynb  desc_csv.py\r\n"
     ]
    }
   ],
   "source": [
    "ls"
   ]
  },
  {
   "cell_type": "code",
   "execution_count": 50,
   "metadata": {
    "ExecuteTime": {
     "end_time": "2020-05-22T10:08:27.289829Z",
     "start_time": "2020-05-22T10:08:27.129851Z"
    }
   },
   "outputs": [
    {
     "name": "stdout",
     "output_type": "stream",
     "text": [
      "mkdir: example_directory: File exists\r\n"
     ]
    }
   ],
   "source": [
    "mkdir example_directory"
   ]
  },
  {
   "cell_type": "markdown",
   "metadata": {},
   "source": [
    "### Filename pattern matching"
   ]
  },
  {
   "cell_type": "code",
   "execution_count": 51,
   "metadata": {
    "ExecuteTime": {
     "end_time": "2020-05-22T10:09:49.071242Z",
     "start_time": "2020-05-22T10:09:49.051487Z"
    }
   },
   "outputs": [
    {
     "name": "stdout",
     "output_type": "stream",
     "text": [
      "my_functions.py\n",
      "MedSys.py\n",
      "desc_csv.py\n",
      "data_preparation.py\n"
     ]
    }
   ],
   "source": [
    "for f_name in os.listdir():\n",
    "    if f_name.endswith('.py'):\n",
    "        print(f_name)"
   ]
  },
  {
   "cell_type": "code",
   "execution_count": 1,
   "metadata": {
    "ExecuteTime": {
     "end_time": "2020-05-26T09:28:26.056627Z",
     "start_time": "2020-05-26T09:28:26.053648Z"
    }
   },
   "outputs": [],
   "source": [
    "import glob"
   ]
  },
  {
   "cell_type": "code",
   "execution_count": 62,
   "metadata": {
    "ExecuteTime": {
     "end_time": "2020-05-22T10:15:54.306525Z",
     "start_time": "2020-05-22T10:15:54.285031Z"
    }
   },
   "outputs": [
    {
     "name": "stdout",
     "output_type": "stream",
     "text": [
      "my_functions.py\n",
      "MedSys.py\n",
      "desc_csv.py\n",
      "data_preparation.py\n"
     ]
    }
   ],
   "source": [
    "for file in glob.glob('*.py'):\n",
    "    print(file)"
   ]
  },
  {
   "cell_type": "code",
   "execution_count": 5,
   "metadata": {
    "ExecuteTime": {
     "end_time": "2020-05-26T09:34:42.803140Z",
     "start_time": "2020-05-26T09:34:42.646704Z"
    }
   },
   "outputs": [
    {
     "name": "stdout",
     "output_type": "stream",
     "text": [
      "\u001b[34mData\u001b[m\u001b[m/                Py_intro_temp.ipynb  desc_csv.py\r\n",
      "Exercise.ipynb       README.md            \u001b[34metc_files\u001b[m\u001b[m/\r\n",
      "\u001b[34mImages\u001b[m\u001b[m/              \u001b[34mResults\u001b[m\u001b[m/             \u001b[34mexample_dir\u001b[m\u001b[m/\r\n",
      "MedSys.py            TBD.txt              \u001b[34mexample_directory\u001b[m\u001b[m/\r\n",
      "\u001b[34mPyStyle-master\u001b[m\u001b[m/      \u001b[34m__pycache__\u001b[m\u001b[m/         \u001b[34mlecture_notes\u001b[m\u001b[m/\r\n",
      "Py_intro.ipynb       data_preparation.py  my_functions.py\r\n"
     ]
    }
   ],
   "source": [
    "ls"
   ]
  },
  {
   "cell_type": "code",
   "execution_count": 6,
   "metadata": {
    "ExecuteTime": {
     "end_time": "2020-05-26T09:34:47.095621Z",
     "start_time": "2020-05-26T09:34:47.088810Z"
    }
   },
   "outputs": [
    {
     "name": "stdout",
     "output_type": "stream",
     "text": [
      "Data/urg_1.csv\n",
      "Data/review.txt\n",
      "Data/urg_2.csv\n",
      "Data/adult.csv\n",
      "Data/Daily_Demand_Forecasting_Orders.csv\n",
      "Data/stock_px.csv\n",
      "Data/emp_data\n",
      "Data/AirQualityUCI.csv\n",
      "Data/type_1.csv\n",
      "Data/AirQualityUCI.zip\n",
      "Data/type_2.csv\n",
      "Data/bank_2.csv\n",
      "Data/adult_names.txt\n",
      "Data/bank_1.csv\n",
      "Data/AirQualityUCI.xlsx\n",
      "Data/totals.csv\n",
      "Data/description.txt\n",
      "Data/data_types.names\n"
     ]
    }
   ],
   "source": [
    "for file in glob.iglob('Data/*', recursive=True):\n",
    "    print(file)"
   ]
  },
  {
   "cell_type": "code",
   "execution_count": 24,
   "metadata": {},
   "outputs": [
    {
     "name": "stdout",
     "output_type": "stream",
     "text": [
      "my_functions.py\n",
      "MedSys.py\n",
      "desc_csv.py\n",
      "data_preparation.py\n"
     ]
    }
   ],
   "source": [
    "from pathlib import Path\n",
    "\n",
    "p = Path('.')\n",
    "for name in p.glob('*.p*'):\n",
    "    print(name)"
   ]
  },
  {
   "cell_type": "markdown",
   "metadata": {},
   "source": [
    "### Deleting"
   ]
  },
  {
   "cell_type": "code",
   "execution_count": 68,
   "metadata": {
    "ExecuteTime": {
     "end_time": "2020-05-22T10:26:53.488194Z",
     "start_time": "2020-05-22T10:26:53.347248Z"
    }
   },
   "outputs": [
    {
     "name": "stdout",
     "output_type": "stream",
     "text": [
      "\u001b[34mData\u001b[m\u001b[m/                README.md            \u001b[34metc_files\u001b[m\u001b[m/\r\n",
      "\u001b[34mImages\u001b[m\u001b[m/              \u001b[34mResults\u001b[m\u001b[m/             \u001b[34mexample_dir\u001b[m\u001b[m/\r\n",
      "MedSys.py            TBD.txt              \u001b[34mexample_directory\u001b[m\u001b[m/\r\n",
      "\u001b[34mPyStyle-master\u001b[m\u001b[m/      \u001b[34m__pycache__\u001b[m\u001b[m/         my_functions.py\r\n",
      "Py_intro.ipynb       data_preparation.py  pippo.xml\r\n",
      "Py_intro_temp.ipynb  desc_csv.py\r\n"
     ]
    }
   ],
   "source": [
    "ls"
   ]
  },
  {
   "cell_type": "code",
   "execution_count": 69,
   "metadata": {
    "ExecuteTime": {
     "end_time": "2020-05-22T10:27:29.605542Z",
     "start_time": "2020-05-22T10:27:29.596031Z"
    }
   },
   "outputs": [],
   "source": [
    "data_file = 'pippo.xml'\n",
    "if os.path.isfile(data_file):\n",
    "    os.remove(data_file)"
   ]
  },
  {
   "cell_type": "code",
   "execution_count": 70,
   "metadata": {
    "ExecuteTime": {
     "end_time": "2020-05-22T10:28:19.783299Z",
     "start_time": "2020-05-22T10:28:19.641020Z"
    }
   },
   "outputs": [],
   "source": [
    "rm topolino.py"
   ]
  },
  {
   "cell_type": "code",
   "execution_count": 72,
   "metadata": {
    "ExecuteTime": {
     "end_time": "2020-05-22T10:28:58.041626Z",
     "start_time": "2020-05-22T10:28:57.892200Z"
    }
   },
   "outputs": [],
   "source": [
    "rm -rf foo/"
   ]
  },
  {
   "cell_type": "markdown",
   "metadata": {},
   "source": [
    "https://realpython.com/working-with-files-in-python/"
   ]
  },
  {
   "cell_type": "markdown",
   "metadata": {},
   "source": [
    "## Styling\n"
   ]
  },
  {
   "cell_type": "markdown",
   "metadata": {},
   "source": [
    "Go to https://github.com/Naviden/PyStyle and download the zip file:"
   ]
  },
  {
   "cell_type": "markdown",
   "metadata": {},
   "source": [
    "<img src=\"../Images/pystyle.png\" width=\"500\"> "
   ]
  },
  {
   "cell_type": "code",
   "execution_count": 2,
   "metadata": {},
   "outputs": [
    {
     "name": "stdout",
     "output_type": "stream",
     "text": [
      "\u001b[34mData\u001b[m\u001b[m/                README.md            desc_csv.py\r\n",
      "\u001b[34mImages\u001b[m\u001b[m/              \u001b[34mResults\u001b[m\u001b[m/             \u001b[34metc_files\u001b[m\u001b[m/\r\n",
      "MedSys.py            TBD.txt              \u001b[34mexample_dir\u001b[m\u001b[m/\r\n",
      "PyStyle-master.zip   \u001b[34m__pycache__\u001b[m\u001b[m/         my_functions.py\r\n",
      "Py_intro.ipynb       data_preparation.py\r\n"
     ]
    }
   ],
   "source": [
    "ls"
   ]
  },
  {
   "cell_type": "code",
   "execution_count": 3,
   "metadata": {},
   "outputs": [],
   "source": [
    "from zipfile import ZipFile"
   ]
  },
  {
   "cell_type": "code",
   "execution_count": 4,
   "metadata": {},
   "outputs": [],
   "source": [
    "with ZipFile('PyStyle-master.zip', 'r') as obj:\n",
    "    obj.extractall()"
   ]
  },
  {
   "cell_type": "code",
   "execution_count": 6,
   "metadata": {},
   "outputs": [],
   "source": [
    "rm PyStyle-master.zip"
   ]
  },
  {
   "cell_type": "code",
   "execution_count": 7,
   "metadata": {},
   "outputs": [
    {
     "name": "stdout",
     "output_type": "stream",
     "text": [
      "\u001b[34mData\u001b[m\u001b[m/                README.md            desc_csv.py\r\n",
      "\u001b[34mImages\u001b[m\u001b[m/              \u001b[34mResults\u001b[m\u001b[m/             \u001b[34metc_files\u001b[m\u001b[m/\r\n",
      "MedSys.py            TBD.txt              \u001b[34mexample_dir\u001b[m\u001b[m/\r\n",
      "\u001b[34mPyStyle-master\u001b[m\u001b[m/      \u001b[34m__pycache__\u001b[m\u001b[m/         my_functions.py\r\n",
      "Py_intro.ipynb       data_preparation.py\r\n"
     ]
    }
   ],
   "source": [
    "ls"
   ]
  },
  {
   "cell_type": "code",
   "execution_count": 8,
   "metadata": {},
   "outputs": [
    {
     "name": "stdout",
     "output_type": "stream",
     "text": [
      "/Users/navid/Google Drive/python_files/Python_introduction/PyStyle-master\n"
     ]
    }
   ],
   "source": [
    "cd PyStyle-master/"
   ]
  },
  {
   "cell_type": "code",
   "execution_count": 9,
   "metadata": {},
   "outputs": [
    {
     "name": "stdout",
     "output_type": "stream",
     "text": [
      "PyStyle.py  README.md   \u001b[34mimages\u001b[m\u001b[m/\r\n"
     ]
    }
   ],
   "source": [
    "ls"
   ]
  },
  {
   "cell_type": "code",
   "execution_count": 10,
   "metadata": {},
   "outputs": [],
   "source": [
    "import PyStyle as ps"
   ]
  },
  {
   "cell_type": "code",
   "execution_count": 11,
   "metadata": {},
   "outputs": [
    {
     "name": "stdout",
     "output_type": "stream",
     "text": [
      "\n",
      "\n",
      "\u001b[1mStandard Colors\u001b[0m\n",
      "\n",
      "\u001b[48;5;0m    0    \u001b[48;5;1m    1    \u001b[48;5;2m    2    \u001b[48;5;3m    3    \u001b[48;5;4m    4    \u001b[48;5;5m    5    \u001b[48;5;6m    6    \u001b[48;5;7m    7    \u001b[0m\n",
      "\n",
      "\n",
      "\u001b[1mHigh-Intensity Colors\u001b[0m\n",
      "\n",
      "\u001b[48;5;8m    8    \u001b[48;5;9m    9    \u001b[48;5;10m    10   \u001b[48;5;11m    11   \u001b[48;5;12m    12   \u001b[48;5;13m    13   \u001b[48;5;14m    14   \u001b[48;5;15m    15   \u001b[0m\n",
      "\n",
      "\n",
      "\u001b[1mColors\u001b[0m\n",
      "\n",
      "\u001b[48;5;16m 16 \u001b[48;5;17m 17 \u001b[48;5;18m 18 \u001b[48;5;19m 19 \u001b[48;5;20m 20 \u001b[48;5;21m 21 \u001b[48;5;22m 22 \u001b[48;5;23m 23 \u001b[48;5;24m 24 \u001b[48;5;25m 25 \u001b[48;5;26m 26 \u001b[48;5;27m 27 \u001b[48;5;28m 28 \u001b[48;5;29m 29 \u001b[48;5;30m 30 \u001b[48;5;31m 31 \u001b[48;5;32m 32 \u001b[48;5;33m 33 \u001b[48;5;34m 34 \u001b[48;5;35m 35 \u001b[48;5;36m 36 \u001b[48;5;37m 37 \u001b[48;5;38m 38 \u001b[48;5;39m 39 \u001b[48;5;40m 40 \u001b[48;5;41m 41 \u001b[48;5;42m 42 \u001b[48;5;43m 43 \u001b[48;5;44m 44 \u001b[48;5;45m 45 \u001b[48;5;46m 46 \u001b[48;5;47m 47 \u001b[48;5;48m 48 \u001b[48;5;49m 49 \u001b[48;5;50m 50 \u001b[48;5;51m 51 \u001b[0m\n",
      "\u001b[48;5;52m 52 \u001b[48;5;53m 53 \u001b[48;5;54m 54 \u001b[48;5;55m 55 \u001b[48;5;56m 56 \u001b[48;5;57m 57 \u001b[48;5;58m 58 \u001b[48;5;59m 59 \u001b[48;5;60m 60 \u001b[48;5;61m 61 \u001b[48;5;62m 62 \u001b[48;5;63m 63 \u001b[48;5;64m 64 \u001b[48;5;65m 65 \u001b[48;5;66m 66 \u001b[48;5;67m 67 \u001b[48;5;68m 68 \u001b[48;5;69m 69 \u001b[48;5;70m 70 \u001b[48;5;71m 71 \u001b[48;5;72m 72 \u001b[48;5;73m 73 \u001b[48;5;74m 74 \u001b[48;5;75m 75 \u001b[48;5;76m 76 \u001b[48;5;77m 77 \u001b[48;5;78m 78 \u001b[48;5;79m 79 \u001b[48;5;80m 80 \u001b[48;5;81m 81 \u001b[48;5;82m 82 \u001b[48;5;83m 83 \u001b[48;5;84m 84 \u001b[48;5;85m 85 \u001b[48;5;86m 86 \u001b[48;5;87m 87 \u001b[0m\n",
      "\u001b[48;5;88m 88 \u001b[48;5;89m 89 \u001b[48;5;90m 90 \u001b[48;5;91m 91 \u001b[48;5;92m 92 \u001b[48;5;93m 93 \u001b[48;5;94m 94 \u001b[48;5;95m 95 \u001b[48;5;96m 96 \u001b[48;5;97m 97 \u001b[48;5;98m 98 \u001b[48;5;99m 99 \u001b[48;5;100m 100\u001b[48;5;101m 101\u001b[48;5;102m 102\u001b[48;5;103m 103\u001b[48;5;104m 104\u001b[48;5;105m 105\u001b[48;5;106m 106\u001b[48;5;107m 107\u001b[48;5;108m 108\u001b[48;5;109m 109\u001b[48;5;110m 110\u001b[48;5;111m 111\u001b[48;5;112m 112\u001b[48;5;113m 113\u001b[48;5;114m 114\u001b[48;5;115m 115\u001b[48;5;116m 116\u001b[48;5;117m 117\u001b[48;5;118m 118\u001b[48;5;119m 119\u001b[48;5;120m 120\u001b[48;5;121m 121\u001b[48;5;122m 122\u001b[48;5;123m 123\u001b[0m\n",
      "\u001b[48;5;124m 124\u001b[48;5;125m 125\u001b[48;5;126m 126\u001b[48;5;127m 127\u001b[48;5;128m 128\u001b[48;5;129m 129\u001b[48;5;130m 130\u001b[48;5;131m 131\u001b[48;5;132m 132\u001b[48;5;133m 133\u001b[48;5;134m 134\u001b[48;5;135m 135\u001b[48;5;136m 136\u001b[48;5;137m 137\u001b[48;5;138m 138\u001b[48;5;139m 139\u001b[48;5;140m 140\u001b[48;5;141m 141\u001b[48;5;142m 142\u001b[48;5;143m 143\u001b[48;5;144m 144\u001b[48;5;145m 145\u001b[48;5;146m 146\u001b[48;5;147m 147\u001b[48;5;148m 148\u001b[48;5;149m 149\u001b[48;5;150m 150\u001b[48;5;151m 151\u001b[48;5;152m 152\u001b[48;5;153m 153\u001b[48;5;154m 154\u001b[48;5;155m 155\u001b[48;5;156m 156\u001b[48;5;157m 157\u001b[48;5;158m 158\u001b[48;5;159m 159\u001b[0m\n",
      "\u001b[48;5;160m 160\u001b[48;5;161m 161\u001b[48;5;162m 162\u001b[48;5;163m 163\u001b[48;5;164m 164\u001b[48;5;165m 165\u001b[48;5;166m 166\u001b[48;5;167m 167\u001b[48;5;168m 168\u001b[48;5;169m 169\u001b[48;5;170m 170\u001b[48;5;171m 171\u001b[48;5;172m 172\u001b[48;5;173m 173\u001b[48;5;174m 174\u001b[48;5;175m 175\u001b[48;5;176m 176\u001b[48;5;177m 177\u001b[48;5;178m 178\u001b[48;5;179m 179\u001b[48;5;180m 180\u001b[48;5;181m 181\u001b[48;5;182m 182\u001b[48;5;183m 183\u001b[48;5;184m 184\u001b[48;5;185m 185\u001b[48;5;186m 186\u001b[48;5;187m 187\u001b[48;5;188m 188\u001b[48;5;189m 189\u001b[48;5;190m 190\u001b[48;5;191m 191\u001b[48;5;192m 192\u001b[48;5;193m 193\u001b[48;5;194m 194\u001b[48;5;195m 195\u001b[0m\n",
      "\u001b[48;5;196m 196\u001b[48;5;197m 197\u001b[48;5;198m 198\u001b[48;5;199m 199\u001b[48;5;200m 200\u001b[48;5;201m 201\u001b[48;5;202m 202\u001b[48;5;203m 203\u001b[48;5;204m 204\u001b[48;5;205m 205\u001b[48;5;206m 206\u001b[48;5;207m 207\u001b[48;5;208m 208\u001b[48;5;209m 209\u001b[48;5;210m 210\u001b[48;5;211m 211\u001b[48;5;212m 212\u001b[48;5;213m 213\u001b[48;5;214m 214\u001b[48;5;215m 215\u001b[48;5;216m 216\u001b[48;5;217m 217\u001b[48;5;218m 218\u001b[48;5;219m 219\u001b[48;5;220m 220\u001b[48;5;221m 221\u001b[48;5;222m 222\u001b[48;5;223m 223\u001b[48;5;224m 224\u001b[48;5;225m 225\u001b[48;5;226m 226\u001b[48;5;227m 227\u001b[48;5;228m 228\u001b[48;5;229m 229\u001b[48;5;230m 230\u001b[48;5;231m 231\u001b[0m\n",
      "\n",
      "\n",
      "\u001b[1mGrayscale colors\u001b[0m\n",
      "\n",
      "\u001b[48;5;232m 232  \u001b[48;5;233m 233  \u001b[48;5;234m 234  \u001b[48;5;235m 235  \u001b[48;5;236m 236  \u001b[48;5;237m 237  \u001b[48;5;238m 238  \u001b[48;5;239m 239  \u001b[48;5;240m 240  \u001b[48;5;241m 241  \u001b[48;5;242m 242  \u001b[48;5;243m 243  \u001b[48;5;244m 244  \u001b[48;5;245m 245  \u001b[48;5;246m 246  \u001b[48;5;247m 247  \u001b[48;5;248m 248  \u001b[48;5;249m 249  \u001b[48;5;250m 250  \u001b[48;5;251m 251  \u001b[48;5;252m 252  \u001b[48;5;253m 253  \u001b[48;5;254m 254  \u001b[48;5;255m 255  \u001b[0m\n"
     ]
    }
   ],
   "source": [
    "ps.color_guide()"
   ]
  },
  {
   "cell_type": "code",
   "execution_count": 14,
   "metadata": {},
   "outputs": [
    {
     "name": "stdout",
     "output_type": "stream",
     "text": [
      "\u001b[1m\u001b[48;5;220m\u001b[38;5;203mLet's have some fun!\u001b[0m\n"
     ]
    }
   ],
   "source": [
    "formatted_text = ps.text_formatter(\"Let's have some fun!\", tc=203, bc=220, bold=True)\n",
    "print(formatted_text)"
   ]
  },
  {
   "cell_type": "markdown",
   "metadata": {},
   "source": [
    "## Object Oriented Programming"
   ]
  },
  {
   "cell_type": "markdown",
   "metadata": {},
   "source": [
    "### Class and Object definition"
   ]
  },
  {
   "cell_type": "markdown",
   "metadata": {},
   "source": [
    "Object oriented programming is not limited just to Python. Almost all moder programming languages benefit from this paradigm.\n",
    "In fact, OOP is a complex subject and due to our lack of time we can't go through all of them. Here I try to make you familiar with very basic and simple of OOP concepts. \n",
    "\n",
    "To start, let's imagine that we want to manage our pets' data in python. Since all of our pets are animals, we can do so by creating an objecy - a class - which serves us as a blueprint or template. The following is the most simple way possible to create a class:"
   ]
  },
  {
   "cell_type": "code",
   "execution_count": 9,
   "metadata": {},
   "outputs": [],
   "source": [
    "class Animal:\n",
    "    pass"
   ]
  },
  {
   "cell_type": "markdown",
   "metadata": {},
   "source": [
    "Ok, imagine that I have a cat names __Oliver__ and a dog named __Zoli__. \n",
    "For each one, First I create an _Animal_ instance and then I add information (Attributes) to it:"
   ]
  },
  {
   "cell_type": "code",
   "execution_count": 13,
   "metadata": {},
   "outputs": [],
   "source": [
    "oliver = Animal()\n",
    "oliver.kind = 'cat'\n",
    "oliver.color = 'black'\n",
    "oliver.age = 1\n",
    "\n",
    "zoli = Animal()\n",
    "zoli.color = 'black & white'\n",
    "zoli.age = 8"
   ]
  },
  {
   "cell_type": "markdown",
   "metadata": {},
   "source": [
    "Now let's use _fstring_ to print info we've added for Oliver and Zoli:"
   ]
  },
  {
   "cell_type": "code",
   "execution_count": 14,
   "metadata": {},
   "outputs": [
    {
     "name": "stdout",
     "output_type": "stream",
     "text": [
      "Oliver is a cat, he is black and he is 1 year old!\n"
     ]
    }
   ],
   "source": [
    "print(f'Oliver is a {oliver.kind}, he is {oliver.color} and he is {oliver.age} year old!')"
   ]
  },
  {
   "cell_type": "code",
   "execution_count": 15,
   "metadata": {},
   "outputs": [
    {
     "ename": "AttributeError",
     "evalue": "'Animal' object has no attribute 'kind'",
     "output_type": "error",
     "traceback": [
      "\u001b[0;31m---------------------------------------------------------------------------\u001b[0m",
      "\u001b[0;31mAttributeError\u001b[0m                            Traceback (most recent call last)",
      "\u001b[0;32m<ipython-input-15-c214939f0143>\u001b[0m in \u001b[0;36m<module>\u001b[0;34m\u001b[0m\n\u001b[0;32m----> 1\u001b[0;31m \u001b[0mprint\u001b[0m\u001b[0;34m(\u001b[0m\u001b[0;34mf'Zoli is a {zoli.kind}, she is {zoli.color} and she is {zoli.age} years old!'\u001b[0m\u001b[0;34m)\u001b[0m\u001b[0;34m\u001b[0m\u001b[0;34m\u001b[0m\u001b[0m\n\u001b[0m",
      "\u001b[0;31mAttributeError\u001b[0m: 'Animal' object has no attribute 'kind'"
     ]
    }
   ],
   "source": [
    "print(f'Zoli is a {zoli.kind}, she is {zoli.color} and she is {zoli.age} years old!')"
   ]
  },
  {
   "cell_type": "markdown",
   "metadata": {},
   "source": [
    "Oops! It seems I forgot to add _kind_ to _Zoli_ instance. This happens, specially when we're sealing with multiple stances and _Attributes_.\n",
    "The better (correct?) way to create a class is to initialize it with arguments:"
   ]
  },
  {
   "cell_type": "code",
   "execution_count": 13,
   "metadata": {},
   "outputs": [],
   "source": [
    "class Animal:\n",
    "    def __init__(self, kind, color, age):\n",
    "        self.kind = kind\n",
    "        self.color = color\n",
    "        self.age = age\n",
    "    "
   ]
  },
  {
   "cell_type": "markdown",
   "metadata": {},
   "source": [
    "In this way, instead of crating an emopth instance and then adding attributes to it later, we add them when we' re creating the instance:"
   ]
  },
  {
   "cell_type": "code",
   "execution_count": 14,
   "metadata": {},
   "outputs": [],
   "source": [
    "oliver = Animal('cat', 'black', 1)\n",
    "zoli = Animal('dog', 'black & white', 8)"
   ]
  },
  {
   "cell_type": "code",
   "execution_count": 15,
   "metadata": {},
   "outputs": [
    {
     "name": "stdout",
     "output_type": "stream",
     "text": [
      "Oliver is a cat, he is black and he is 1 year old!\n",
      "Zoli is a dog, she is black & white and she is 8 years old!\n"
     ]
    }
   ],
   "source": [
    "print(f'Oliver is a {oliver.kind}, he is {oliver.color} and he is {oliver.age} year old!')\n",
    "print(f'Zoli is a {zoli.kind}, she is {zoli.color} and she is {zoli.age} years old!')"
   ]
  },
  {
   "cell_type": "markdown",
   "metadata": {},
   "source": [
    "Now that we have successfully created the class and inizialized it, we can add a method to it : __greet__ !"
   ]
  },
  {
   "cell_type": "code",
   "execution_count": 16,
   "metadata": {},
   "outputs": [],
   "source": [
    "class Animal:\n",
    "    def __init__(self, kind, color, age, gender):\n",
    "        self.kind = kind\n",
    "        self.color = color\n",
    "        self.age = age\n",
    "        self.gender = gender\n",
    "    \n",
    "    def greet(self):\n",
    "        if (self.gender).lower() == 'F':\n",
    "            pronoun = 'she'\n",
    "        elif (self.gender).lower() == 'm':\n",
    "            pronoun = 'he'\n",
    "        print(f'Animal is a {self.kind}, {pronoun} is {self.color} and {pronoun} is {self.age} year old!')"
   ]
  },
  {
   "cell_type": "markdown",
   "metadata": {},
   "source": [
    "Let's try it:"
   ]
  },
  {
   "cell_type": "code",
   "execution_count": 17,
   "metadata": {},
   "outputs": [
    {
     "name": "stdout",
     "output_type": "stream",
     "text": [
      "Animal is a cat, he is black and he is 1 year old!\n"
     ]
    }
   ],
   "source": [
    "oliver = Animal('cat', 'black', 1, 'm')\n",
    "oliver.greet()"
   ]
  },
  {
   "cell_type": "markdown",
   "metadata": {},
   "source": [
    "<img src=\"../Images/wizard.svg\"   width=\"30\" align=\"left\">               "
   ]
  },
  {
   "cell_type": "markdown",
   "metadata": {},
   "source": [
    "**YOUR TURN:**\n",
    "    \n",
    "Redefine the Animal class:\n",
    "- It should get __name__ attribute in _\\__init___ method\n",
    "- It based on the age, it should use either _year_ or _years_"
   ]
  },
  {
   "cell_type": "code",
   "execution_count": 29,
   "metadata": {},
   "outputs": [],
   "source": [
    "class Animal:\n",
    "    def __init__(self, name, kind, color, age, gender):\n",
    "        self.name = name\n",
    "        self.kind = kind\n",
    "        self.color = color\n",
    "        self.age = age\n",
    "        self.gender = gender\n",
    "    \n",
    "    def greet(self):\n",
    "        if (self.gender).lower() == 'f':\n",
    "            pronoun = 'she'\n",
    "        elif (self.gender).lower() == 'm':\n",
    "            pronoun = 'he'\n",
    "            \n",
    "        if self.age > 1:\n",
    "            y = 'years'\n",
    "        else:\n",
    "            y = 'year'\n",
    "            \n",
    "        print(f'{self.name} is a {self.kind}, {pronoun} is {self.color} and {pronoun} is {self.age} {y} old!')"
   ]
  },
  {
   "cell_type": "code",
   "execution_count": 30,
   "metadata": {},
   "outputs": [
    {
     "name": "stdout",
     "output_type": "stream",
     "text": [
      "Oliver is a cat, he is black and he is 1 year old!\n",
      "Zoli is a dog, she is black & white and she is 8 years old!\n"
     ]
    }
   ],
   "source": [
    "a1 = Animal('Oliver', 'cat', 'black', 1, 'm')\n",
    "a1.greet()\n",
    "\n",
    "a2 = Animal('Zoli', 'dog', 'black & white', 8, 'F')\n",
    "a2.greet()"
   ]
  }
 ],
 "metadata": {
  "kernelspec": {
   "display_name": "Python 3 (ipykernel)",
   "language": "python",
   "name": "python3"
  },
  "language_info": {
   "codemirror_mode": {
    "name": "ipython",
    "version": 3
   },
   "file_extension": ".py",
   "mimetype": "text/x-python",
   "name": "python",
   "nbconvert_exporter": "python",
   "pygments_lexer": "ipython3",
   "version": "3.11.5"
  },
  "toc": {
   "base_numbering": 1,
   "nav_menu": {},
   "number_sections": true,
   "sideBar": true,
   "skip_h1_title": false,
   "title_cell": "Table of Contents",
   "title_sidebar": "Contents",
   "toc_cell": false,
   "toc_position": {
    "height": "863.333px",
    "left": "33px",
    "top": "135.722px",
    "width": "263.583px"
   },
   "toc_section_display": true,
   "toc_window_display": true
  }
 },
 "nbformat": 4,
 "nbformat_minor": 2
}
