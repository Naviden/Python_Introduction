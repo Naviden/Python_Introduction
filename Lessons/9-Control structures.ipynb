{
 "cells": [
  {
   "cell_type": "markdown",
   "metadata": {},
   "source": [
    "# Control Flow"
   ]
  },
  {
   "cell_type": "markdown",
   "metadata": {},
   "source": [
    "Until now, we've works with single items. for example we sliced a string, or write a file. But what if we want to do something (perform an action) on a sequence of objects? The first type of loops we explore is for loops."
   ]
  },
  {
   "cell_type": "markdown",
   "metadata": {},
   "source": [
    "## For statement"
   ]
  },
  {
   "cell_type": "markdown",
   "metadata": {},
   "source": [
    "Suppose that we have a list of our colleagues year of births and we want to calculate their ages, print them and put them in a new list called ages:"
   ]
  },
  {
   "cell_type": "code",
   "execution_count": 88,
   "metadata": {},
   "outputs": [],
   "source": [
    "years = [1987, 1990, 1980, 1973]\n",
    "ages = [] # creating an empty list"
   ]
  },
  {
   "cell_type": "markdown",
   "metadata": {},
   "source": [
    "We know how to get a list's items using indexes. So what if we take each item and subtract it from 2019?"
   ]
  },
  {
   "cell_type": "code",
   "execution_count": 89,
   "metadata": {},
   "outputs": [
    {
     "name": "stdout",
     "output_type": "stream",
     "text": [
      "32\n",
      "29\n",
      "39\n",
      "46\n"
     ]
    }
   ],
   "source": [
    "age_1 = 2019 - years[0]\n",
    "print(age_1)\n",
    "ages.append(age_1)\n",
    "\n",
    "age_2 = 2019 - years[1]\n",
    "print(age_2)\n",
    "ages.append(age_2)\n",
    "\n",
    "age_3 = 2019 - years[2]\n",
    "print(age_3)\n",
    "ages.append(age_3)\n",
    "\n",
    "age_4 = 2019 - years[3]\n",
    "print(age_4)\n",
    "ages.append(age_4)"
   ]
  },
  {
   "cell_type": "code",
   "execution_count": 90,
   "metadata": {},
   "outputs": [
    {
     "name": "stdout",
     "output_type": "stream",
     "text": [
      "[32, 29, 39, 46]\n"
     ]
    }
   ],
   "source": [
    "print(ages)"
   ]
  },
  {
   "cell_type": "markdown",
   "metadata": {},
   "source": [
    "Ok, we did what we've we asked for! but I think you agree that it wasn't quite efficient as we've written more than 12 lines of code to perform three simple operations on 4 items! imagine you want to calculate the age of all Bicocca employees! Fortunately we for repetitive tasks like this( when we are dealing with sequence objects like lists, tuples, dictionaries or strings) we can use loops. In this case we're going to use a for loop:"
   ]
  },
  {
   "cell_type": "code",
   "execution_count": 98,
   "metadata": {},
   "outputs": [
    {
     "name": "stdout",
     "output_type": "stream",
     "text": [
      "32\n",
      "29\n",
      "39\n",
      "46\n"
     ]
    }
   ],
   "source": [
    "ages = []\n",
    "for year in years:\n",
    "    age = 2019 - year\n",
    "    print(age)\n",
    "    ages.append(age)"
   ]
  },
  {
   "cell_type": "markdown",
   "metadata": {},
   "source": [
    "This is the general structure of a for loop:\n",
    "\n",
    "<img src=\"Images/for_loop.png\" width=\"500\"> "
   ]
  },
  {
   "cell_type": "markdown",
   "metadata": {},
   "source": [
    "*Notice: for loops can have an \"else\" clause but we're not going to talk about them here*"
   ]
  },
  {
   "cell_type": "markdown",
   "metadata": {},
   "source": [
    "  "
   ]
  },
  {
   "cell_type": "markdown",
   "metadata": {},
   "source": [
    "<img src=\"Images/baby.svg\"   width=\"30\" align=\"left\">               "
   ]
  },
  {
   "cell_type": "markdown",
   "metadata": {},
   "source": [
    "**YOUR TURN**:\n",
    "In the previous example, Why can't we define the empty list inside the loop instead of outside it?"
   ]
  },
  {
   "cell_type": "code",
   "execution_count": null,
   "metadata": {},
   "outputs": [],
   "source": [
    "(\\   .-.   .-.   .-.   .-.   .-.   .-.   .-.   .-.   /_\")\n",
    " \\\\_//^\\\\_//^\\\\_//^\\\\_//^\\\\_//^\\\\_//^\\\\_//^\\\\_//^\\\\_//\n",
    "  `\"`   `\"`   `\"`   `\"`   `\"`   `\"`   `\"`   `\"`   `\"`"
   ]
  },
  {
   "cell_type": "markdown",
   "metadata": {},
   "source": [
    "## While statement"
   ]
  },
  {
   "cell_type": "markdown",
   "metadata": {},
   "source": [
    "While loops has a similar objective as for loops but while for loops, in theory iterate through all the items in the provided sequence, a while loop goes forward until meeting a certain condition.\n",
    "Suppose we want to print numbers between 0 and 10 and we want to do it using **while**.\n",
    "Let's see the info we have from the question:\n",
    "\n",
    "- we should print numbers\n",
    "- numbers should be between 0 and 10"
   ]
  },
  {
   "cell_type": "code",
   "execution_count": 10,
   "metadata": {},
   "outputs": [
    {
     "name": "stdout",
     "output_type": "stream",
     "text": [
      "0-1-2-3-4-5-6-7-8-9-10-"
     ]
    }
   ],
   "source": [
    "num = 0 # initial number is set to 0\n",
    "while num <= 10: # while the number is less than or equal 10, continue\n",
    "    print(num, end='-')\n",
    "    num = num + 1 # adding one to the current value of the num = num+=1"
   ]
  },
  {
   "cell_type": "markdown",
   "metadata": {},
   "source": [
    "Just like any other thing, we can achieve the same result using different methods and functions. For example we can get the numbers we want by using a for loop:"
   ]
  },
  {
   "cell_type": "code",
   "execution_count": 12,
   "metadata": {},
   "outputs": [
    {
     "name": "stdout",
     "output_type": "stream",
     "text": [
      "0\t1\t2\t3\t4\t5\t6\t7\t8\t9\t10\t"
     ]
    }
   ],
   "source": [
    "for num in range(11): # what is range?\n",
    "    print(num, end='\\t')"
   ]
  },
  {
   "cell_type": "markdown",
   "metadata": {},
   "source": [
    "*Note: Just like for loops, while loops also can have a else clause*"
   ]
  },
  {
   "cell_type": "markdown",
   "metadata": {},
   "source": [
    "Here is the general structure of a while loop:\n",
    "\n",
    "<img src=\"Images/while_loop.png\" width=\"500\"> "
   ]
  },
  {
   "cell_type": "markdown",
   "metadata": {},
   "source": [
    "  "
   ]
  },
  {
   "cell_type": "markdown",
   "metadata": {},
   "source": [
    "<img src=\"Images/student.svg\"   width=\"30\" align=\"left\">               "
   ]
  },
  {
   "cell_type": "markdown",
   "metadata": {},
   "source": [
    "**YOUR TURN**:\n",
    "What if we use a condition which is always true?"
   ]
  },
  {
   "cell_type": "code",
   "execution_count": null,
   "metadata": {},
   "outputs": [],
   "source": [
    "(\\   .-.   .-.   .-.   .-.   .-.   .-.   .-.   .-.   /_\")\n",
    " \\\\_//^\\\\_//^\\\\_//^\\\\_//^\\\\_//^\\\\_//^\\\\_//^\\\\_//^\\\\_//\n",
    "  `\"`   `\"`   `\"`   `\"`   `\"`   `\"`   `\"`   `\"`   `\"`"
   ]
  },
  {
   "cell_type": "markdown",
   "metadata": {},
   "source": [
    "## If statement"
   ]
  },
  {
   "cell_type": "markdown",
   "metadata": {},
   "source": [
    "Often, you need to execute some statements only if some condition holds, or choose statements to execute depending on several mutually exclusive conditions. The Python compound statement if, which uses if, elif, and else clauses, lets you conditionally execute blocks of statements. Here’s the syntax for the if statement:\n",
    "\n",
    "It's common that you want to execute a part of code if a certain condition holds (it's True). To do so in Python we use If statement. Let's go back to the simple example of printing numbers we've seen for while and for statements but this time suppose that you want to print the number only if it's an odd number:"
   ]
  },
  {
   "cell_type": "code",
   "execution_count": 3,
   "metadata": {},
   "outputs": [
    {
     "name": "stdout",
     "output_type": "stream",
     "text": [
      "1\n",
      "3\n",
      "5\n",
      "7\n",
      "9\n",
      "11\n",
      "13\n",
      "15\n",
      "17\n",
      "19\n"
     ]
    }
   ],
   "source": [
    "num = 0 # initial number is set to 0\n",
    "while num <= 20: # while the number is less than or equal 20, continue\n",
    "    if num%2 != 0: # if the reminder of them with 2\n",
    "        print(num)\n",
    "    num = num + 1 # adding one to the current value of the num = num+=1"
   ]
  },
  {
   "cell_type": "markdown",
   "metadata": {},
   "source": [
    "Ok, now let's use also *eles* and *elif* clauses. Imagine that you have a set of ages and you want to print one if the following labels based on the age:\n",
    "- kid\n",
    "- Teen\n",
    "- adult\n",
    "- old"
   ]
  },
  {
   "cell_type": "code",
   "execution_count": 91,
   "metadata": {},
   "outputs": [
    {
     "name": "stdout",
     "output_type": "stream",
     "text": [
      "56 - Adult\n",
      "2 - Kid\n",
      "14 - Teen\n",
      "8 - Kid\n",
      "33 - Adult\n",
      "23 - Adult\n",
      "19 - Teen\n",
      "80 - Old\n",
      "6 - Kid\n",
      "9 - Kid\n",
      "27 - Adult\n"
     ]
    }
   ],
   "source": [
    "ages = [56, 2, 14, 8, 33, 23, 19, 80, 6, 9, 27]\n",
    "\n",
    "for age in ages:\n",
    "    if age <= 12:\n",
    "        print(age, 'Kid', sep=' - ')\n",
    "    elif age <= 19 and age >= 13:\n",
    "        print(age, 'Teen', sep=' - ')\n",
    "    elif age <= 60 and age >= 20:\n",
    "        print(f'{age} - Adult') # Did you noticed anything new here?\n",
    "    else:\n",
    "        print(age, 'Old', sep=' - ')"
   ]
  },
  {
   "cell_type": "markdown",
   "metadata": {},
   "source": [
    "## Break, Continue and pass clauses"
   ]
  },
  {
   "cell_type": "markdown",
   "metadata": {},
   "source": [
    "Let's have a quick review of statements we have learned until now:\n",
    "- **For statement** : repeats a task for a given sequence\n",
    "- **While statement** : repeats a task while a given condition is True\n",
    "- **If statement** : Evaluates a condition and acts upon the result\n",
    "\n",
    "Looking at these statements it's clear that we can combine them to get a certain task done. For instance: For each item in this list check if condition 1 is True do action 1, otherwise do action 2:"
   ]
  },
  {
   "cell_type": "code",
   "execution_count": 106,
   "metadata": {},
   "outputs": [
    {
     "name": "stdout",
     "output_type": "stream",
     "text": [
      "1,000,000 : High\n",
      "5,000 : Low\n",
      "11,000 : Low\n"
     ]
    }
   ],
   "source": [
    "salaries = [1000000, 5000, 11000]\n",
    "\n",
    "for salary in salaries:\n",
    "    if salary < 120_000:\n",
    "        print(f'{salary:,} : Low')\n",
    "    elif salary > 999_000:\n",
    "        print(f'{salary:,} : High')\n",
    "    else:\n",
    "        print(f'{salary:,} : Normal')"
   ]
  },
  {
   "cell_type": "markdown",
   "metadata": {},
   "source": [
    "In the above example we used **for** and **if** together to examine each item and print a label based on the item's value. Well, It's not alway the case to go through every item of a sequence. Sometime we need to break the loop or continue to the next item without spending time with the current item. We can achive these types of action by using these clauses:\n",
    "\n",
    "- continue\n",
    "- break\n",
    "- pass"
   ]
  },
  {
   "cell_type": "markdown",
   "metadata": {},
   "source": [
    "Suppose you want to find the first number that is less than a specific number in any given list of numbers. You can create a function to do this using a for loop:"
   ]
  },
  {
   "cell_type": "code",
   "execution_count": 107,
   "metadata": {},
   "outputs": [],
   "source": [
    "def find_number(data, limit):\n",
    "    \"\"\"Finds the first number in a given list which is less than the defined threshold\n",
    "    \n",
    "    Args:\n",
    "        data : A list containing numerical values\n",
    "        limit : Threshold defined by user\n",
    "    \n",
    "    Returns:\n",
    "        The first number in the given list smaller than threshold\n",
    "    \"\"\"\n",
    "    all_good = []\n",
    "    for i in data:\n",
    "        if i < limit:\n",
    "            answer = i\n",
    "            all_good.append(i)\n",
    "    return all_good"
   ]
  },
  {
   "cell_type": "markdown",
   "metadata": {},
   "source": [
    "Ok, let's test our function:"
   ]
  },
  {
   "cell_type": "code",
   "execution_count": 108,
   "metadata": {},
   "outputs": [
    {
     "name": "stdout",
     "output_type": "stream",
     "text": [
      "[-1428, -788, -1187]\n"
     ]
    }
   ],
   "source": [
    "nums = [973, -1428, 315, -788, 1477, -428, -1187, 592, -108, 370]\n",
    "limit = -500\n",
    "\n",
    "print(find_number(nums, limit))"
   ]
  },
  {
   "cell_type": "markdown",
   "metadata": {},
   "source": [
    "Well, it kinda works...the problem is that it return the last number in the list that is less than -500 instead of the first one! (-1428)\n",
    "Of course it's not because Python couldn't find the first number (-1428) but the problem is since we simply just used a for loop, after finding -1428 Python continued to examine other items in the list...something that we shouldn't have done. There are cases like this that we want to stop(break) the loop as soon as a certain condition is satisfied. We can write our function like this:\n"
   ]
  },
  {
   "cell_type": "code",
   "execution_count": 22,
   "metadata": {},
   "outputs": [
    {
     "name": "stdout",
     "output_type": "stream",
     "text": [
      "-1428\n"
     ]
    }
   ],
   "source": [
    "def find_number(data, limit):\n",
    "    \"\"\"Finds the first number in a given list which is less than the defined threshold\n",
    "    \n",
    "    Args:\n",
    "        data : A list containing numerical values\n",
    "        limit : Threshold defined by user\n",
    "    \n",
    "    Returns:\n",
    "        The first number in the given list smaller than threshold\n",
    "    \"\"\"\n",
    "    for i in data:\n",
    "        if i < limit:\n",
    "            answer = i\n",
    "            break\n",
    "    return answer\n",
    "\n",
    "print(find_number(nums, limit))"
   ]
  },
  {
   "cell_type": "markdown",
   "metadata": {},
   "source": [
    "And as you can see this time we get the right answer. In this simple case we could have achieve this also without using break and just by putting  return clause in a different place:"
   ]
  },
  {
   "cell_type": "code",
   "execution_count": 23,
   "metadata": {},
   "outputs": [
    {
     "name": "stdout",
     "output_type": "stream",
     "text": [
      "-1428\n"
     ]
    }
   ],
   "source": [
    "def find_number(data, limit):\n",
    "    \"\"\"Finds the first number in a given list which is less than the defined threshold\n",
    "    \n",
    "    Args:\n",
    "        data : A list containing numerical values\n",
    "        limit : Threshold defined by user\n",
    "    \n",
    "    Returns:\n",
    "        The first number in the given list smaller than threshold\n",
    "    \"\"\"\n",
    "    for i in data:\n",
    "        if i < limit:\n",
    "            answer = i\n",
    "            return answer\n",
    "\n",
    "print(find_number(nums, limit))"
   ]
  },
  {
   "cell_type": "markdown",
   "metadata": {},
   "source": [
    "The reason that the function above give us the answer even without using break is that when Python reaches a **return** in a function, it exits immediately before continuing with the rest of code.\n",
    "Let's do another example: Suppose you received 4 orders for a can of beer from 4 of your customers. In order to know if you can proceed with the order or not, you need to check 3 things: client having at least 18 years old, having at least 2 Euros in his bank card and be in a 3 kilometer radius from your shop. As you can see in the following cell, we can use continue clause after age check. In this way if the client has less than 18 years old, it's useless to check for the other conditions:"
   ]
  },
  {
   "cell_type": "code",
   "execution_count": 27,
   "metadata": {},
   "outputs": [
    {
     "name": "stdout",
     "output_type": "stream",
     "text": [
      "Ettore can have a beer!\n"
     ]
    }
   ],
   "source": [
    "clients = {'2341': {'age': 15, 'name': 'Ale', 'balance': 658, 'distance': 11},\n",
    "           '5682': {'age': 61, 'name': 'Ettore', 'balance': 890, 'distance': 1},\n",
    "           '1873': {'age': 19, 'name': 'Tacca', 'balance': 121, 'distance': 5},\n",
    "           '9950': {'age': 31, 'name': 'Navid', 'balance': 0, 'distance': 12}}\n",
    "\n",
    "codes = list(clients.keys())\n",
    "\n",
    "for code in codes:\n",
    "    if clients[code]['age'] < 18:\n",
    "        continue\n",
    "    if clients[code]['balance'] >= 2 and clients[code]['distance'] < 3:\n",
    "        print(f\"{clients[code]['name']} can have a beer!\")"
   ]
  },
  {
   "cell_type": "markdown",
   "metadata": {},
   "source": [
    "Now imagine that the shop manager tells you that he is thinking to do something for the clients that have all the conditions (age and credit) but are living in more distant neighbourhoods. The problem is that it's Fridays evening, you want to go home as soon as possible but he can't make his mind about how exactly he's going to handle the delivery situation. So you know you need to modify your function to reflect the new situation but you still don't know what would be the solution. So you can use a pass clause as a placeholder in your function:"
   ]
  },
  {
   "cell_type": "code",
   "execution_count": 29,
   "metadata": {},
   "outputs": [
    {
     "name": "stdout",
     "output_type": "stream",
     "text": [
      "Ettore can have a beer!\n"
     ]
    }
   ],
   "source": [
    "clients = {'2341': {'age': 15, 'name': 'Ale', 'balance': 658, 'distance': 11},\n",
    "           '5682': {'age': 61, 'name': 'Ettore', 'balance': 890, 'distance': 1},\n",
    "           '1873': {'age': 19, 'name': 'Tacca', 'balance': 121, 'distance': 5},\n",
    "           '9950': {'age': 31, 'name': 'Navid', 'balance': 0, 'distance': 12}}\n",
    "\n",
    "codes = list(clients.keys())\n",
    "\n",
    "for code in codes:\n",
    "    if clients[code]['age'] < 18:\n",
    "        continue\n",
    "    if clients[code]['balance'] >= 2:\n",
    "        if  clients[code]['distance'] < 3:\n",
    "            print(f\"{clients[code]['name']} can have a beer!\")\n",
    "        else:\n",
    "            pass"
   ]
  },
  {
   "cell_type": "markdown",
   "metadata": {},
   "source": [
    "<img src=\"Images/baby.svg\"   width=\"30\" align=\"left\" >               "
   ]
  },
  {
   "cell_type": "markdown",
   "metadata": {},
   "source": [
    "**YOUR TURN:**\n",
    "    \n",
    "Why the codes below are not the same?"
   ]
  },
  {
   "cell_type": "code",
   "execution_count": null,
   "metadata": {},
   "outputs": [],
   "source": [
    "vals = '43 65 342 78 89 4 32 54 687 23 675 87 43 675 -546 54 432 786 76 123 4 324'.split()"
   ]
  },
  {
   "cell_type": "code",
   "execution_count": null,
   "metadata": {},
   "outputs": [],
   "source": [
    "for val in vals:\n",
    "    if int(val) < 0:\n",
    "        break\n",
    "    print(val, end=' ')"
   ]
  },
  {
   "cell_type": "code",
   "execution_count": null,
   "metadata": {},
   "outputs": [],
   "source": [
    "for val in vals:\n",
    "    if int(val) > 0:\n",
    "        print(val, end=' ')"
   ]
  },
  {
   "cell_type": "markdown",
   "metadata": {},
   "source": [
    " "
   ]
  },
  {
   "cell_type": "markdown",
   "metadata": {},
   "source": [
    "<img src=\"Images/wizard.svg\"   width=\"30\" align=\"left\">               "
   ]
  },
  {
   "cell_type": "markdown",
   "metadata": {},
   "source": [
    "**YOUR TURN**: Use **break** to write a function that calculates the sum of the first n items of the given number list."
   ]
  },
  {
   "cell_type": "code",
   "execution_count": 69,
   "metadata": {},
   "outputs": [],
   "source": [
    "def sum_n(data, n):\n",
    "    num = 1\n",
    "    summ = 0\n",
    "    for i in data:\n",
    "        if num > n:\n",
    "            break\n",
    "        summ += i\n",
    "        num += 1\n",
    "    return summ"
   ]
  },
  {
   "cell_type": "code",
   "execution_count": null,
   "metadata": {},
   "outputs": [],
   "source": [
    "(\\   .-.   .-.   .-.   .-.   .-.   .-.   .-.   .-.   /_\")\n",
    " \\\\_//^\\\\_//^\\\\_//^\\\\_//^\\\\_//^\\\\_//^\\\\_//^\\\\_//^\\\\_//\n",
    "  `\"`   `\"`   `\"`   `\"`   `\"`   `\"`   `\"`   `\"`   `\"`"
   ]
  }
 ],
 "metadata": {
  "kernelspec": {
   "display_name": "Python 3 (ipykernel)",
   "language": "python",
   "name": "python3"
  },
  "language_info": {
   "codemirror_mode": {
    "name": "ipython",
    "version": 3
   },
   "file_extension": ".py",
   "mimetype": "text/x-python",
   "name": "python",
   "nbconvert_exporter": "python",
   "pygments_lexer": "ipython3",
   "version": "3.11.5"
  },
  "toc": {
   "base_numbering": 1,
   "nav_menu": {},
   "number_sections": true,
   "sideBar": true,
   "skip_h1_title": false,
   "title_cell": "Table of Contents",
   "title_sidebar": "Contents",
   "toc_cell": false,
   "toc_position": {
    "height": "863.333px",
    "left": "33px",
    "top": "135.722px",
    "width": "263.583px"
   },
   "toc_section_display": true,
   "toc_window_display": true
  }
 },
 "nbformat": 4,
 "nbformat_minor": 2
}
