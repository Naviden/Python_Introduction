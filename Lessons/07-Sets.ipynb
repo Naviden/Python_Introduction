{
 "cells": [
  {
   "cell_type": "markdown",
   "id": "b54ac915",
   "metadata": {},
   "source": [
    "Sets are unordered collections of unique elements. They are useful for performing mathematical set operations like union, intersection, difference, and symmetric difference. Sets are defined by enclosing elements in curly braces `{}` or by using the `set()` constructor. It's important to note that, unlike lists and tuples, sets do not allow duplicate elements and are not indexed.\n",
    "\n",
    "### Basic Syntax\n",
    "\n",
    "Creating a set with curly braces:"
   ]
  },
  {
   "cell_type": "code",
   "execution_count": 14,
   "id": "f15b4090",
   "metadata": {},
   "outputs": [],
   "source": [
    "my_set = {1, 2, 3, 4, 5}"
   ]
  },
  {
   "cell_type": "markdown",
   "id": "d8c0dc4c",
   "metadata": {},
   "source": [
    "Creating an empty set using the `set()` constructor (using `{}` creates an empty dictionary, not a set):"
   ]
  },
  {
   "cell_type": "code",
   "execution_count": 15,
   "id": "943982c3",
   "metadata": {},
   "outputs": [
    {
     "name": "stdout",
     "output_type": "stream",
     "text": [
      "set()\n"
     ]
    }
   ],
   "source": [
    "empty_set = set()\n",
    "print(empty_set)"
   ]
  },
  {
   "cell_type": "markdown",
   "id": "8cc1aab3",
   "metadata": {},
   "source": [
    "### Adding and Updating Elements\n",
    "\n",
    "- **Adding an Element**: Use the `.add()` method to add a single element to the set."
   ]
  },
  {
   "cell_type": "code",
   "execution_count": 16,
   "id": "4f703418",
   "metadata": {},
   "outputs": [
    {
     "name": "stdout",
     "output_type": "stream",
     "text": [
      "{1, 2, 3, 4, 5}\n",
      "{1, 2, 3, 4, 5, 6}\n"
     ]
    }
   ],
   "source": [
    "print(my_set)\n",
    "\n",
    "my_set.add(6)\n",
    "\n",
    "print(my_set)"
   ]
  },
  {
   "cell_type": "markdown",
   "id": "ef0ada81",
   "metadata": {},
   "source": [
    "- **Updating a Set**: Use the `.update()` method to add multiple elements to the set. The `.update()` method can take tuples, lists, strings, or other sets as its argument."
   ]
  },
  {
   "cell_type": "code",
   "execution_count": 17,
   "id": "37777852",
   "metadata": {},
   "outputs": [
    {
     "name": "stdout",
     "output_type": "stream",
     "text": [
      "{1, 2, 3, 4, 5, 6}\n",
      "{1, 2, 3, 4, 5, 6, 7, 8, 9, 10}\n"
     ]
    }
   ],
   "source": [
    "print(my_set)\n",
    "\n",
    "my_set.update([7, 8], {9, 10})\n",
    "\n",
    "print(my_set)"
   ]
  },
  {
   "cell_type": "markdown",
   "id": "726a8d74",
   "metadata": {},
   "source": [
    "### Removing Elements\n",
    "\n",
    "- **Remove an Element**: The `.remove()` method removes a specified element from the set. If the element does not exist, it raises a `KeyError`."
   ]
  },
  {
   "cell_type": "code",
   "execution_count": 18,
   "id": "7768a474",
   "metadata": {},
   "outputs": [
    {
     "name": "stdout",
     "output_type": "stream",
     "text": [
      "{1, 2, 3, 4, 5, 6, 7, 8, 9, 10}\n",
      "{1, 2, 3, 4, 6, 7, 8, 9, 10}\n"
     ]
    }
   ],
   "source": [
    "print(my_set)\n",
    "\n",
    "my_set.remove(5)\n",
    "\n",
    "print(my_set)"
   ]
  },
  {
   "cell_type": "markdown",
   "id": "3c146d16",
   "metadata": {},
   "source": [
    "- **Discard an Element**: Similar to `.remove()`, but if the element does not exist, it does nothing (no `KeyError` is raised)."
   ]
  },
  {
   "cell_type": "code",
   "execution_count": 19,
   "id": "0ed6c538",
   "metadata": {},
   "outputs": [
    {
     "name": "stdout",
     "output_type": "stream",
     "text": [
      "{1, 2, 3, 4, 6, 7, 8, 9, 10}\n",
      "{1, 2, 3, 6, 7, 8, 9, 10}\n"
     ]
    }
   ],
   "source": [
    "print(my_set)\n",
    "\n",
    "my_set.discard(4)\n",
    "\n",
    "print(my_set)"
   ]
  },
  {
   "cell_type": "markdown",
   "id": "45edb0de",
   "metadata": {},
   "source": [
    "- **Pop an Element**: The `.pop()` method removes and returns an arbitrary element from the set. Since sets are unordered, you cannot predict which element is removed."
   ]
  },
  {
   "cell_type": "code",
   "execution_count": 20,
   "id": "578d0772",
   "metadata": {},
   "outputs": [
    {
     "name": "stdout",
     "output_type": "stream",
     "text": [
      "1\n",
      "{2, 3, 6, 7, 8, 9, 10}\n"
     ]
    }
   ],
   "source": [
    "element = my_set.pop()\n",
    "\n",
    "print(element)\n",
    "print(my_set)"
   ]
  },
  {
   "cell_type": "markdown",
   "id": "c0074236",
   "metadata": {},
   "source": [
    "- **Clear the Set**: The `.clear()` method removes all elements from the set."
   ]
  },
  {
   "cell_type": "code",
   "execution_count": 21,
   "id": "eb6de2d6",
   "metadata": {},
   "outputs": [
    {
     "name": "stdout",
     "output_type": "stream",
     "text": [
      "{2, 3, 6, 7, 8, 9, 10}\n",
      "set()\n"
     ]
    }
   ],
   "source": [
    "print(my_set)\n",
    "\n",
    "my_set.clear()\n",
    "\n",
    "print(my_set)"
   ]
  },
  {
   "cell_type": "markdown",
   "id": "20392847",
   "metadata": {},
   "source": [
    "### Set Operations\n",
    "\n",
    "- **Union (`|`)**: Combines two sets to form a new set containing all unique elements from both sets."
   ]
  },
  {
   "cell_type": "code",
   "execution_count": 22,
   "id": "afe43d9f",
   "metadata": {},
   "outputs": [
    {
     "name": "stdout",
     "output_type": "stream",
     "text": [
      "{1, 2, 3, 4, 5}\n"
     ]
    }
   ],
   "source": [
    "set1 = {1, 2, 3}\n",
    "set2 = {3, 4, 5}\n",
    "union_set = set1 | set2 \n",
    "\n",
    "print(union_set)"
   ]
  },
  {
   "cell_type": "markdown",
   "id": "b5a84793",
   "metadata": {},
   "source": [
    "- **Intersection (`&`)**: Creates a new set with elements common to both sets."
   ]
  },
  {
   "cell_type": "code",
   "execution_count": 26,
   "id": "555cbeec",
   "metadata": {},
   "outputs": [
    {
     "name": "stdout",
     "output_type": "stream",
     "text": [
      "{1, 2, 3}\n",
      "{3, 4, 5}\n",
      "{3}\n"
     ]
    }
   ],
   "source": [
    "intersection_set = set1 & set2 \n",
    "print(set1)\n",
    "print(set2)\n",
    "\n",
    "print(intersection_set)"
   ]
  },
  {
   "cell_type": "markdown",
   "id": "2f05aae0",
   "metadata": {},
   "source": [
    "- **Difference (`-`)**: Creates a new set with elements in the first set but not in the second."
   ]
  },
  {
   "cell_type": "code",
   "execution_count": 27,
   "id": "638ac369",
   "metadata": {},
   "outputs": [
    {
     "name": "stdout",
     "output_type": "stream",
     "text": [
      "{1, 2, 3}\n",
      "{3, 4, 5}\n",
      "{1, 2}\n"
     ]
    }
   ],
   "source": [
    "difference_set = set1 - set2\n",
    "\n",
    "print(set1)\n",
    "print(set2)\n",
    "print(difference_set)"
   ]
  },
  {
   "cell_type": "markdown",
   "id": "cfdc5172",
   "metadata": {},
   "source": [
    "- **Symmetric Difference (`^`)**: Creates a new set with elements in either the first or the second set but not in both."
   ]
  },
  {
   "cell_type": "code",
   "execution_count": 28,
   "id": "98ea0748",
   "metadata": {},
   "outputs": [
    {
     "name": "stdout",
     "output_type": "stream",
     "text": [
      "{1, 2, 3}\n",
      "{3, 4, 5}\n",
      "{1, 2, 4, 5}\n"
     ]
    }
   ],
   "source": [
    "symmetric_difference_set = set1 ^ set2 \n",
    "\n",
    "print(set1)\n",
    "print(set2)\n",
    "print(symmetric_difference_set)"
   ]
  },
  {
   "cell_type": "markdown",
   "id": "29df7066",
   "metadata": {},
   "source": [
    "### Membership Test\n",
    "\n",
    "You can use the `in` operator to check if an element is in a set:"
   ]
  },
  {
   "cell_type": "code",
   "execution_count": 14,
   "id": "b1fda778",
   "metadata": {},
   "outputs": [
    {
     "name": "stdout",
     "output_type": "stream",
     "text": [
      "1 is in set1\n"
     ]
    }
   ],
   "source": [
    "if 1 in set1:\n",
    "    print(\"1 is in set1\")"
   ]
  },
  {
   "cell_type": "markdown",
   "id": "6e97af67",
   "metadata": {},
   "source": [
    "### Iterating Over a Set\n",
    "\n",
    "You can iterate over a set using a `for` loop:"
   ]
  },
  {
   "cell_type": "code",
   "execution_count": 15,
   "id": "6ce4a7c7",
   "metadata": {},
   "outputs": [
    {
     "name": "stdout",
     "output_type": "stream",
     "text": [
      "1\n",
      "2\n",
      "3\n"
     ]
    }
   ],
   "source": [
    "for element in set1:\n",
    "    print(element)"
   ]
  },
  {
   "cell_type": "markdown",
   "id": "94a62b71",
   "metadata": {},
   "source": [
    "### Use Cases\n",
    "\n",
    "Sets are particularly useful for:\n",
    "\n",
    "- Removing duplicates from a sequence.\n",
    "- Performing set operations like unions, intersections, etc.\n",
    "- Membership testing, as sets are implemented using hash tables, making these operations highly efficient.\n",
    "\n",
    "### Note on Mutability\n",
    "\n",
    "Sets are mutable; however, the elements contained in a set must be of immutable types. This means you can add or remove elements from a set, but you cannot modify the elements themselves once they are in the set. For storing collections of sets or other mutable types, Python provides the `frozenset` type, which is an immutable version of a set."
   ]
  }
 ],
 "metadata": {
  "kernelspec": {
   "display_name": "Python 3 (ipykernel)",
   "language": "python",
   "name": "python3"
  },
  "language_info": {
   "codemirror_mode": {
    "name": "ipython",
    "version": 3
   },
   "file_extension": ".py",
   "mimetype": "text/x-python",
   "name": "python",
   "nbconvert_exporter": "python",
   "pygments_lexer": "ipython3",
   "version": "3.11.5"
  }
 },
 "nbformat": 4,
 "nbformat_minor": 5
}
