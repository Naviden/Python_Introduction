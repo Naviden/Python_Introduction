{
 "cells": [
  {
   "cell_type": "markdown",
   "metadata": {},
   "source": [
    "## Tuples"
   ]
  },
  {
   "cell_type": "markdown",
   "metadata": {},
   "source": [
    "Tuples are a fundamental data structure that can store a sequence of values. Tuples are similar to lists, but with one crucial difference: tuples are immutable. This means that once a tuple is created, its contents cannot be changed, added to, or removed. Tuples are defined by enclosing the elements in parentheses `()`.\n",
    "\n",
    "### Basic Syntax\n",
    "\n",
    "To create a tuple, you place the elements within parentheses `()`, separated by commas:"
   ]
  },
  {
   "cell_type": "code",
   "execution_count": 1,
   "metadata": {},
   "outputs": [],
   "source": [
    "my_tuple = (1, \"hello\", 3.14)"
   ]
  },
  {
   "cell_type": "markdown",
   "metadata": {},
   "source": [
    "A tuple with a single element must include a comma after the element, otherwise Python will not recognize it as a tuple:"
   ]
  },
  {
   "cell_type": "code",
   "execution_count": 2,
   "metadata": {},
   "outputs": [],
   "source": [
    "single_element_tuple = (42,)"
   ]
  },
  {
   "cell_type": "markdown",
   "metadata": {},
   "source": [
    "### Accessing Elements\n",
    "\n",
    "Tuples are indexed in the same way as lists, with the first element at index 0:"
   ]
  },
  {
   "cell_type": "code",
   "execution_count": 4,
   "metadata": {},
   "outputs": [
    {
     "name": "stdout",
     "output_type": "stream",
     "text": [
      "hello\n"
     ]
    }
   ],
   "source": [
    "print(my_tuple[1])  "
   ]
  },
  {
   "cell_type": "markdown",
   "metadata": {},
   "source": [
    "Slicing also works similarly to lists, allowing you to obtain a subset of the tuple:"
   ]
  },
  {
   "cell_type": "code",
   "execution_count": 5,
   "metadata": {},
   "outputs": [
    {
     "name": "stdout",
     "output_type": "stream",
     "text": [
      "(1, 'hello')\n"
     ]
    }
   ],
   "source": [
    "print(my_tuple[0:2])"
   ]
  },
  {
   "cell_type": "markdown",
   "metadata": {},
   "source": [
    "### Immutability\n",
    "\n",
    "The immutability of tuples means you cannot change, add, or remove items after the tuple is created. Attempting to do so will raise a `TypeError`. However, if a tuple contains mutable objects, such as lists, those mutable objects can be modified:"
   ]
  },
  {
   "cell_type": "code",
   "execution_count": 6,
   "metadata": {},
   "outputs": [
    {
     "name": "stdout",
     "output_type": "stream",
     "text": [
      "(1, ['a', 3])\n"
     ]
    }
   ],
   "source": [
    "tuple_with_list = (1, [2, 3])\n",
    "tuple_with_list[1][0] = 'a'  # This is allowed\n",
    "print(tuple_with_list) "
   ]
  },
  {
   "cell_type": "markdown",
   "metadata": {},
   "source": [
    "### Operations and Methods\n",
    "\n",
    "- **Concatenation**: You can concatenate tuples using the `+` operator to create a new tuple.\n",
    "- **Repetition**: The `*` operator can be used to repeat a tuple a specified number of times.\n",
    "- **Membership Test**: The `in` operator can be used to check if an item exists in a tuple.\n",
    "- **Length**: The `len()` function returns the number of items in a tuple.\n",
    "- **Count**: The `.count(x)` method returns the number of times `x` appears in the tuple.\n",
    "- **Index**: The `.index(x)` method returns the index of the first occurrence of `x` in the tuple.\n",
    "\n",
    "### Use Cases\n",
    "\n",
    "Due to their immutability, tuples are often used to store data that shouldn't change over the course of a program, such as function arguments, or when returning multiple values from a function. Their immutability also makes them slightly faster than lists when iterating through large amounts of data.\n",
    "\n",
    "### Example: Swapping Values\n",
    "\n",
    "Tuples can be used to swap the values of two variables in a concise way:"
   ]
  },
  {
   "cell_type": "code",
   "execution_count": 7,
   "metadata": {},
   "outputs": [
    {
     "name": "stdout",
     "output_type": "stream",
     "text": [
      "10 5\n"
     ]
    }
   ],
   "source": [
    "a = 5\n",
    "b = 10\n",
    "a, b = b, a\n",
    "print(a, b)  # Output: 10 5"
   ]
  },
  {
   "cell_type": "markdown",
   "metadata": {},
   "source": [
    "This takes advantage of tuple packing and unpacking. The expression `b, a` creates a tuple `(10, 5)`, which is then unpacked into `a` and `b`, swapping their values."
   ]
  }
 ],
 "metadata": {
  "kernelspec": {
   "display_name": "Python 3 (ipykernel)",
   "language": "python",
   "name": "python3"
  },
  "language_info": {
   "codemirror_mode": {
    "name": "ipython",
    "version": 3
   },
   "file_extension": ".py",
   "mimetype": "text/x-python",
   "name": "python",
   "nbconvert_exporter": "python",
   "pygments_lexer": "ipython3",
   "version": "3.11.5"
  },
  "toc": {
   "base_numbering": 1,
   "nav_menu": {},
   "number_sections": true,
   "sideBar": true,
   "skip_h1_title": false,
   "title_cell": "Table of Contents",
   "title_sidebar": "Contents",
   "toc_cell": false,
   "toc_position": {
    "height": "863.333px",
    "left": "33px",
    "top": "135.722px",
    "width": "263.583px"
   },
   "toc_section_display": true,
   "toc_window_display": true
  }
 },
 "nbformat": 4,
 "nbformat_minor": 2
}
