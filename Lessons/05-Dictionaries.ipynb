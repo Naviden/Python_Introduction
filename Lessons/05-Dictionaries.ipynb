{
 "cells": [
  {
   "cell_type": "markdown",
   "metadata": {},
   "source": [
    "## Dictionaries"
   ]
  },
  {
   "cell_type": "markdown",
   "metadata": {},
   "source": [
    "Dictionaries in Python are powerful data structures used to store and manage data in a key-value pair format. Each key-value pair maps the key to its associated value. Dictionaries are mutable, which means you can modify them after their creation. They are indexed by keys, which must be immutable types (e.g., strings, numbers, or tuples with immutable elements) and unique within a dictionary.\n",
    "\n",
    "### Basic Syntax\n",
    "\n",
    "A dictionary in Python can be created using curly braces `{}` with pairs separated by commas, and a colon `:` separates each key from its value:"
   ]
  },
  {
   "cell_type": "code",
   "execution_count": 1,
   "metadata": {},
   "outputs": [],
   "source": [
    "my_dict = {'key1': 'value1', 'key2': 'value2'}"
   ]
  },
  {
   "cell_type": "markdown",
   "metadata": {},
   "source": [
    "Alternatively, you can use the `dict()` constructor:\n",
    "\n",
    "\n",
    "my_dict = dict(key1='value1', key2='value2')"
   ]
  },
  {
   "cell_type": "markdown",
   "metadata": {},
   "source": [
    "### Accessing Elements\n",
    "\n",
    "You can access a value by referencing its key in square brackets `[]`:"
   ]
  },
  {
   "cell_type": "code",
   "execution_count": 2,
   "metadata": {},
   "outputs": [
    {
     "name": "stdout",
     "output_type": "stream",
     "text": [
      "value1\n"
     ]
    }
   ],
   "source": [
    "print(my_dict['key1'])  # Output: value1"
   ]
  },
  {
   "cell_type": "markdown",
   "metadata": {},
   "source": [
    "If you try to access a key that does not exist, it will raise a `KeyError`. To avoid this, you can use the `get()` method, which returns `None` (or a specified default value) if the key is not found:"
   ]
  },
  {
   "cell_type": "code",
   "execution_count": 3,
   "metadata": {},
   "outputs": [
    {
     "name": "stdout",
     "output_type": "stream",
     "text": [
      "None\n",
      "default_value\n"
     ]
    }
   ],
   "source": [
    "print(my_dict.get('nonexistent_key'))  # Output: None\n",
    "print(my_dict.get('nonexistent_key', 'default_value'))  # Output: default_value"
   ]
  },
  {
   "cell_type": "markdown",
   "metadata": {},
   "source": [
    "### Adding and Modifying Elements\n",
    "\n",
    "You can add a new key-value pair or modify an existing one by assigning a value to a key:"
   ]
  },
  {
   "cell_type": "code",
   "execution_count": 5,
   "metadata": {},
   "outputs": [],
   "source": [
    "my_dict['new_key'] = 'new_value'  # Adds a new key-value pair\n",
    "my_dict['key1'] = 'updated_value'  # Updates the value of an existing key"
   ]
  },
  {
   "cell_type": "markdown",
   "metadata": {},
   "source": [
    "### Removing Elements\n",
    "\n",
    "Use the `del` statement to remove a key-value pair by specifying its key:"
   ]
  },
  {
   "cell_type": "code",
   "execution_count": 6,
   "metadata": {},
   "outputs": [],
   "source": [
    "del my_dict['key1']"
   ]
  },
  {
   "cell_type": "markdown",
   "metadata": {},
   "source": [
    "Or, you can use the `pop()` method, which also returns the value that was associated with the removed key:"
   ]
  },
  {
   "cell_type": "code",
   "execution_count": 7,
   "metadata": {},
   "outputs": [],
   "source": [
    "removed_value = my_dict.pop('key2')"
   ]
  },
  {
   "cell_type": "markdown",
   "metadata": {},
   "source": [
    "### Iterating Over a Dictionary\n",
    "\n",
    "You can iterate over a dictionary using a loop. By default, looping over a dictionary iterates over its keys:"
   ]
  },
  {
   "cell_type": "code",
   "execution_count": 8,
   "metadata": {},
   "outputs": [
    {
     "name": "stdout",
     "output_type": "stream",
     "text": [
      "new_key new_value\n"
     ]
    }
   ],
   "source": [
    "for key in my_dict:\n",
    "    print(key, my_dict[key])"
   ]
  },
  {
   "cell_type": "markdown",
   "metadata": {},
   "source": [
    "You can also iterate over keys and values together using the `items()` method:"
   ]
  },
  {
   "cell_type": "code",
   "execution_count": 9,
   "metadata": {},
   "outputs": [
    {
     "name": "stdout",
     "output_type": "stream",
     "text": [
      "new_key new_value\n"
     ]
    }
   ],
   "source": [
    "for key, value in my_dict.items():\n",
    "    print(key, value)"
   ]
  },
  {
   "cell_type": "markdown",
   "metadata": {},
   "source": [
    "### Dictionary Comprehensions\n",
    "\n",
    "Similar to list comprehensions, dictionary comprehensions allow you to create dictionaries using an expressive and concise syntax:"
   ]
  },
  {
   "cell_type": "code",
   "execution_count": 10,
   "metadata": {},
   "outputs": [],
   "source": [
    "squares = {x: x**2 for x in range(6)}"
   ]
  },
  {
   "cell_type": "markdown",
   "metadata": {},
   "source": [
    "This creates a dictionary where each key is a number from 0 to 5, and each value is the square of the key.\n",
    "\n",
    "### Useful Dictionary Methods"
   ]
  },
  {
   "cell_type": "markdown",
   "metadata": {},
   "source": [
    "- `keys()`: Returns a view object containing the dictionary's keys.\n",
    "- `values()`: Returns a view object containing the dictionary's values.\n",
    "- `items()`: Returns a view object containing tuples of (key, value) pairs.\n",
    "- `clear()`: Removes all the items from the dictionary.\n",
    "- `copy()`: Returns a shallow copy of the dictionary."
   ]
  },
  {
   "cell_type": "markdown",
   "metadata": {},
   "source": [
    "Dictionaries are versatile and can be nested, meaning you can have dictionaries within dictionaries, allowing for complex data structures. They are widely used for data manipulation, configuration settings, and more, due to their flexibility and performance in accessing elements."
   ]
  }
 ],
 "metadata": {
  "kernelspec": {
   "display_name": "Python 3 (ipykernel)",
   "language": "python",
   "name": "python3"
  },
  "language_info": {
   "codemirror_mode": {
    "name": "ipython",
    "version": 3
   },
   "file_extension": ".py",
   "mimetype": "text/x-python",
   "name": "python",
   "nbconvert_exporter": "python",
   "pygments_lexer": "ipython3",
   "version": "3.11.5"
  },
  "toc": {
   "base_numbering": 1,
   "nav_menu": {},
   "number_sections": true,
   "sideBar": true,
   "skip_h1_title": false,
   "title_cell": "Table of Contents",
   "title_sidebar": "Contents",
   "toc_cell": false,
   "toc_position": {
    "height": "863.333px",
    "left": "33px",
    "top": "135.722px",
    "width": "263.583px"
   },
   "toc_section_display": true,
   "toc_window_display": true
  }
 },
 "nbformat": 4,
 "nbformat_minor": 2
}
