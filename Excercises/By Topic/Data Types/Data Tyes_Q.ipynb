{
 "cells": [
  {
   "cell_type": "code",
   "execution_count": 1,
   "id": "93863d36",
   "metadata": {},
   "outputs": [],
   "source": [
    "# 1. String to Integer Conversion\n",
    "# Convert the string \"123\" to an integer."
   ]
  },
  {
   "cell_type": "code",
   "execution_count": 2,
   "id": "cabe4ad9",
   "metadata": {},
   "outputs": [],
   "source": [
    "# 2. Floating-Point Number to Integer\n",
    "# Convert the float 123.456 to an integer."
   ]
  },
  {
   "cell_type": "code",
   "execution_count": null,
   "id": "385c9609",
   "metadata": {},
   "outputs": [],
   "source": [
    "# 3. Integer to String Conversion\n",
    "# Convert the integer 123 to a string."
   ]
  },
  {
   "cell_type": "code",
   "execution_count": 3,
   "id": "0cfedc9b",
   "metadata": {},
   "outputs": [],
   "source": [
    "# 4. List to Tuple Conversion\n",
    "# Convert the list [1, 2, 3] to a tuple."
   ]
  },
  {
   "cell_type": "code",
   "execution_count": 4,
   "id": "aea521d1",
   "metadata": {},
   "outputs": [],
   "source": [
    "# 5. Tuple to List Conversion\n",
    "# Convert the tuple (1, 2, 3) to a list."
   ]
  },
  {
   "cell_type": "code",
   "execution_count": 5,
   "id": "d1d5d3c4",
   "metadata": {},
   "outputs": [],
   "source": [
    "# 6. String to List Conversion\n",
    "# Convert the string \"123\" to a list of characters."
   ]
  },
  {
   "cell_type": "code",
   "execution_count": null,
   "id": "94d7b0ff",
   "metadata": {},
   "outputs": [],
   "source": [
    "# 7. List of Strings to Single String\n",
    "# Concatenate the list of strings [\"Hello\", \"World\"] into a single string, separated by spaces."
   ]
  },
  {
   "cell_type": "code",
   "execution_count": null,
   "id": "1a482293",
   "metadata": {},
   "outputs": [],
   "source": [
    "# 8. Check data type\n",
    "# check what is the data type of the following variable"
   ]
  },
  {
   "cell_type": "code",
   "execution_count": 6,
   "id": "073edf07",
   "metadata": {},
   "outputs": [],
   "source": [
    "# 9. Dictionary to List of Tuples\n",
    "# Convert the dictionary {\"a\": 1, \"b\": 2, \"c\": 3} to a list of tuples representing key-value pairs."
   ]
  },
  {
   "cell_type": "code",
   "execution_count": null,
   "id": "0f5bb966",
   "metadata": {},
   "outputs": [],
   "source": [
    "# 10. Binary String to Integer\n",
    "# Convert the binary string '1111011' back to an integer."
   ]
  },
  {
   "cell_type": "code",
   "execution_count": null,
   "id": "e949c9a3",
   "metadata": {},
   "outputs": [],
   "source": [
    "# 11. Floating-Point Number to String with 2 Decimal Places\n",
    "# Convert the floating-point number 123.456 to a string, formatted to have two decimal places."
   ]
  },
  {
   "cell_type": "code",
   "execution_count": null,
   "id": "450c91eb",
   "metadata": {},
   "outputs": [],
   "source": [
    "# 12. String to Floating-Point Number\n",
    "# Convert the string \"123.456\" to a floating-point number."
   ]
  },
  {
   "cell_type": "code",
   "execution_count": 2,
   "id": "7f5a2053",
   "metadata": {},
   "outputs": [],
   "source": [
    "# 13. Combine Two Lists into a Dictionary\n",
    "# Combine the lists [\"a\", \"b\", \"c\"] and [1, 2, 3] into a dictionary."
   ]
  },
  {
   "cell_type": "code",
   "execution_count": null,
   "id": "63b2dddf",
   "metadata": {},
   "outputs": [],
   "source": [
    "# 14. Extract Values Greater Than a Number\n",
    "# From the dictionary {\"a\": 1, \"b\": 5, \"c\": 10}, extract values greater than 3 into a new dictionary."
   ]
  },
  {
   "cell_type": "code",
   "execution_count": null,
   "id": "235d1473",
   "metadata": {},
   "outputs": [],
   "source": [
    "# 15. Check for a specific data type\n",
    "# check if the following variable is a string"
   ]
  },
  {
   "cell_type": "code",
   "execution_count": null,
   "id": "de09537c",
   "metadata": {},
   "outputs": [],
   "source": [
    "# 16. Type conversion\n",
    "# use list comprehension to convert the items of the following list to string"
   ]
  }
 ],
 "metadata": {
  "kernelspec": {
   "display_name": "Python 3 (ipykernel)",
   "language": "python",
   "name": "python3"
  },
  "language_info": {
   "codemirror_mode": {
    "name": "ipython",
    "version": 3
   },
   "file_extension": ".py",
   "mimetype": "text/x-python",
   "name": "python",
   "nbconvert_exporter": "python",
   "pygments_lexer": "ipython3",
   "version": "3.11.5"
  }
 },
 "nbformat": 4,
 "nbformat_minor": 5
}
