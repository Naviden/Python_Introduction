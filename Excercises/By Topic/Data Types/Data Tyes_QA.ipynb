{
 "cells": [
  {
   "cell_type": "code",
   "execution_count": 1,
   "id": "93863d36",
   "metadata": {},
   "outputs": [],
   "source": [
    "# 1. String to Integer Conversion\n",
    "# Convert the string \"123\" to an integer.\n",
    "num = int(\"123\")"
   ]
  },
  {
   "cell_type": "code",
   "execution_count": 2,
   "id": "cabe4ad9",
   "metadata": {},
   "outputs": [],
   "source": [
    "# 2. Floating-Point Number to Integer\n",
    "# Convert the float 123.456 to an integer.\n",
    "num = int(123.456)"
   ]
  },
  {
   "cell_type": "code",
   "execution_count": 4,
   "id": "385c9609",
   "metadata": {},
   "outputs": [],
   "source": [
    "# 3. Integer to String Conversion\n",
    "# Convert the integer 123 to a string.\n",
    "num_str = str(123)"
   ]
  },
  {
   "cell_type": "code",
   "execution_count": 5,
   "id": "0cfedc9b",
   "metadata": {},
   "outputs": [],
   "source": [
    "# 4. List to Tuple Conversion\n",
    "# Convert the list [1, 2, 3] to a tuple.\n",
    "my_tuple = tuple([1, 2, 3])"
   ]
  },
  {
   "cell_type": "code",
   "execution_count": null,
   "id": "aea521d1",
   "metadata": {},
   "outputs": [],
   "source": [
    "# 5. Tuple to List Conversion\n",
    "# Convert the tuple (1, 2, 3) to a list.\n",
    "my_list = list((1, 2, 3))"
   ]
  },
  {
   "cell_type": "code",
   "execution_count": 6,
   "id": "d1d5d3c4",
   "metadata": {},
   "outputs": [],
   "source": [
    "# 6. String to List Conversion\n",
    "# Convert the string \"123\" to a list of characters.\n",
    "char_list = list(\"123\")"
   ]
  },
  {
   "cell_type": "code",
   "execution_count": 7,
   "id": "94d7b0ff",
   "metadata": {},
   "outputs": [],
   "source": [
    "# 7. List of Strings to Single String\n",
    "# Concatenate the list of strings [\"Hello\", \"World\"] into a single string, separated by spaces.\n",
    "joined_string = \" \".join([\"Hello\", \"World\"])"
   ]
  },
  {
   "cell_type": "code",
   "execution_count": null,
   "id": "1a482293",
   "metadata": {},
   "outputs": [],
   "source": [
    "# 8. Check data type\n",
    "# check what is the data type of the following variable\n",
    "cool_var = '3.1415'\n",
    "print(type(cool_var))"
   ]
  },
  {
   "cell_type": "code",
   "execution_count": 8,
   "id": "073edf07",
   "metadata": {},
   "outputs": [],
   "source": [
    "# 9. Dictionary to List of Tuples\n",
    "# Convert the dictionary {\"a\": 1, \"b\": 2, \"c\": 3} to a list of tuples representing key-value pairs.\n",
    "my_dict = {\"a\": 1, \"b\": 2, \"c\": 3}\n",
    "dict_items = list(my_dict.items())"
   ]
  },
  {
   "cell_type": "code",
   "execution_count": 9,
   "id": "0f5bb966",
   "metadata": {},
   "outputs": [],
   "source": [
    "# 10. Binary String to Integer\n",
    "# Convert the binary string '1111011' back to an integer.\n",
    "integer_from_binary = int('1111011', 2)"
   ]
  },
  {
   "cell_type": "code",
   "execution_count": null,
   "id": "e949c9a3",
   "metadata": {},
   "outputs": [],
   "source": [
    "# 11. Floating-Point Number to String with 2 Decimal Places\n",
    "# Convert the floating-point number 123.456 to a string, formatted to have two decimal places.\n",
    "formatted_str = \"{:.2f}\".format(123.456)"
   ]
  },
  {
   "cell_type": "code",
   "execution_count": 10,
   "id": "450c91eb",
   "metadata": {},
   "outputs": [],
   "source": [
    "# 12. String to Floating-Point Number\n",
    "# Convert the string \"123.456\" to a floating-point number.\n",
    "float_num = float(\"123.456\")"
   ]
  },
  {
   "cell_type": "code",
   "execution_count": 11,
   "id": "7f5a2053",
   "metadata": {},
   "outputs": [],
   "source": [
    "# 13. Combine Two Lists into a Dictionary\n",
    "# Combine the lists [\"a\", \"b\", \"c\"] and [1, 2, 3] into a dictionary.\n",
    "keys = [\"a\", \"b\", \"c\"]\n",
    "values = [1, 2, 3]\n",
    "combined_dict = dict(zip(keys, values))"
   ]
  },
  {
   "cell_type": "code",
   "execution_count": 12,
   "id": "63b2dddf",
   "metadata": {},
   "outputs": [],
   "source": [
    "# 14. Extract Values Greater Than a Number\n",
    "# From the dictionary {\"a\": 1, \"b\": 5, \"c\": 10}, extract values greater than 3 into a new dictionary.\n",
    "original_dict = {\"a\": 1, \"b\": 5, \"c\": 10}\n",
    "filtered_dict = {k: v for k, v in original_dict.items() if v > 3}"
   ]
  },
  {
   "cell_type": "code",
   "execution_count": 13,
   "id": "235d1473",
   "metadata": {},
   "outputs": [
    {
     "name": "stdout",
     "output_type": "stream",
     "text": [
      "True\n"
     ]
    }
   ],
   "source": [
    "# 15. Check for a specific data type\n",
    "# check if the following variable is a string\n",
    "record = 'missing data'\n",
    "print(isinstance(record, str))"
   ]
  },
  {
   "cell_type": "code",
   "execution_count": null,
   "id": "de09537c",
   "metadata": {},
   "outputs": [],
   "source": [
    "# 16. Type conversion\n",
    "# use list comprehension to convert the items of the following list to string\n",
    "my_list = [1, 45, 11, 'a fancy cat', '13']\n",
    "[str(item) for item in my_list]"
   ]
  }
 ],
 "metadata": {
  "kernelspec": {
   "display_name": "Python 3 (ipykernel)",
   "language": "python",
   "name": "python3"
  },
  "language_info": {
   "codemirror_mode": {
    "name": "ipython",
    "version": 3
   },
   "file_extension": ".py",
   "mimetype": "text/x-python",
   "name": "python",
   "nbconvert_exporter": "python",
   "pygments_lexer": "ipython3",
   "version": "3.11.5"
  }
 },
 "nbformat": 4,
 "nbformat_minor": 5
}
