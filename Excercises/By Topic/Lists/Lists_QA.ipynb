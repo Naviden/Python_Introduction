{
 "cells": [
  {
   "cell_type": "code",
   "execution_count": null,
   "id": "be34e773",
   "metadata": {},
   "outputs": [],
   "source": [
    "# 1. Create a List with five integer elements.\n",
    "my_list = [1, 2, 3, 4, 5]"
   ]
  },
  {
   "cell_type": "code",
   "execution_count": null,
   "id": "5bbea552",
   "metadata": {},
   "outputs": [],
   "source": [
    "# 2. Access and print the first element of the list.\n",
    "print(my_list[0])"
   ]
  },
  {
   "cell_type": "code",
   "execution_count": null,
   "id": "74951f8d",
   "metadata": {},
   "outputs": [],
   "source": [
    "# 3. Change the value of the second element to 10.\n",
    "my_list[1] = 10"
   ]
  },
  {
   "cell_type": "code",
   "execution_count": null,
   "id": "0b0888f8",
   "metadata": {},
   "outputs": [],
   "source": [
    "# 4. Add a new element to the end of the list.\n",
    "my_list.append(6)"
   ]
  },
  {
   "cell_type": "code",
   "execution_count": null,
   "id": "9435ad1e",
   "metadata": {},
   "outputs": [],
   "source": [
    "# 5. Insert the value 25 at the third position of a list.\n",
    "my_list.insert(2, 25)"
   ]
  },
  {
   "cell_type": "code",
   "execution_count": null,
   "id": "4a8f07d3",
   "metadata": {},
   "outputs": [],
   "source": [
    "# 6. Remove the last element from a list.\n",
    "my_list.pop()"
   ]
  },
  {
   "cell_type": "code",
   "execution_count": null,
   "id": "41da3b5b",
   "metadata": {},
   "outputs": [],
   "source": [
    "# 7. Find the length of a list.\n",
    "print(len(my_list))"
   ]
  },
  {
   "cell_type": "code",
   "execution_count": null,
   "id": "509811f0",
   "metadata": {},
   "outputs": [],
   "source": [
    "# 8. Slice a list to extract elements from the 2nd to the 4th position.\n",
    "sliced_list = my_list[1:4]"
   ]
  },
  {
   "cell_type": "code",
   "execution_count": null,
   "id": "0a9ff313",
   "metadata": {},
   "outputs": [],
   "source": [
    "# 9. Print each element of a list using a loop.\n",
    "for element in my_list:\n",
    "    print(element)"
   ]
  },
  {
   "cell_type": "code",
   "execution_count": null,
   "id": "530ba1b3",
   "metadata": {},
   "outputs": [],
   "source": [
    "# 10. Create a new list containing squares of all elements from an existing list.\n",
    "squared_list = [x**2 for x in my_list]"
   ]
  },
  {
   "cell_type": "code",
   "execution_count": null,
   "id": "67b57e07",
   "metadata": {},
   "outputs": [],
   "source": [
    "# 11. Create a copy of a list.\n",
    "list_copy = my_list.copy()"
   ]
  },
  {
   "cell_type": "code",
   "execution_count": null,
   "id": "ad9cfb1f",
   "metadata": {},
   "outputs": [],
   "source": [
    "# 12. Reverse the order of elements in a list.\n",
    "my_list.reverse()"
   ]
  },
  {
   "cell_type": "code",
   "execution_count": null,
   "id": "240d6642",
   "metadata": {},
   "outputs": [],
   "source": [
    "# 13. Sort a list of numbers in ascending order.\n",
    "my_list.sort()"
   ]
  },
  {
   "cell_type": "code",
   "execution_count": null,
   "id": "84c9094b",
   "metadata": {},
   "outputs": [],
   "source": [
    "# 14. Count how many times 5 appears in a list.\n",
    "print(my_list.count(5))"
   ]
  },
  {
   "cell_type": "code",
   "execution_count": null,
   "id": "f974dcf1",
   "metadata": {},
   "outputs": [],
   "source": [
    "# 15. Remove the first occurrence of element 20 from a list.\n",
    "my_list.remove(20)"
   ]
  },
  {
   "cell_type": "code",
   "execution_count": null,
   "id": "ed3e242b",
   "metadata": {},
   "outputs": [],
   "source": [
    "# 16. Extend a list by appending all elements from another list.\n",
    "another_list = [7, 8, 9]\n",
    "my_list.extend(another_list)"
   ]
  },
  {
   "cell_type": "code",
   "execution_count": null,
   "id": "c42de2a7",
   "metadata": {},
   "outputs": [],
   "source": [
    "# 17. Find the index of the first occurrence of element 30.\n",
    "print(my_list.index(30))"
   ]
  },
  {
   "cell_type": "code",
   "execution_count": null,
   "id": "cf9396da",
   "metadata": {},
   "outputs": [],
   "source": [
    "# 18. Calculate the sum of all numbers in a list.\n",
    "print(sum(my_list))"
   ]
  },
  {
   "cell_type": "code",
   "execution_count": null,
   "id": "270b827e",
   "metadata": {},
   "outputs": [],
   "source": [
    "# 19. Multiply all the items in a list.\n",
    "from functools import reduce\n",
    "print(reduce(lambda x, y: x*y, my_list))"
   ]
  },
  {
   "cell_type": "markdown",
   "id": "27120da9",
   "metadata": {},
   "source": [
    "### A word on `reduce()`\n",
    "reduce() applies a function of two arguments cumulatively to the items of an iterable, from left to right, so as to reduce the iterable to a single value. This can be particularly useful for operations like summing the elements of a list, multiplying them together, finding the maximum, and so on."
   ]
  },
  {
   "cell_type": "code",
   "execution_count": null,
   "id": "92d1292c",
   "metadata": {},
   "outputs": [],
   "source": [
    "# 20. Check if the element 25 is present in a list.\n",
    "print(25 in my_list)"
   ]
  },
  {
   "cell_type": "code",
   "execution_count": null,
   "id": "727c9fa1",
   "metadata": {},
   "outputs": [],
   "source": [
    "# 21. Flatten a nested list.\n",
    "# Hint: Consider using recursion or an iterative approach.\n",
    "nested_list = [[1, 2], [3, 4], [5, 6]]\n",
    "flat_list = [item for sublist in nested_list for item in sublist]"
   ]
  },
  {
   "cell_type": "code",
   "execution_count": null,
   "id": "d521f180",
   "metadata": {},
   "outputs": [],
   "source": [
    "# 22. Rotate a list to the right by 3 places.\n",
    "# Hint: Use slicing.\n",
    "rotated_list = my_list[-3:] + my_list[:-3]"
   ]
  },
  {
   "cell_type": "code",
   "execution_count": null,
   "id": "1658aca9",
   "metadata": {},
   "outputs": [],
   "source": [
    "# 23. Filter out all odd numbers from a list, leaving only even numbers.\n",
    "# Hint: Use a list comprehension with a condition.\n",
    "even_numbers = [num for num in my_list if num % 2 == 0]"
   ]
  },
  {
   "cell_type": "code",
   "execution_count": null,
   "id": "db816984",
   "metadata": {},
   "outputs": [],
   "source": [
    "# 24. Convert a list of characters into a string.\n",
    "# Hint: Use the join() method.\n",
    "char_list = ['P', 'y', 't', 'h', 'o', 'n']\n",
    "str_from_list = ''.join(char_list)"
   ]
  },
  {
   "cell_type": "code",
   "execution_count": null,
   "id": "3ca2cb21",
   "metadata": {},
   "outputs": [],
   "source": [
    "# 25. Remove all duplicate elements from a list.\n",
    "# Hint: Use a set to track seen elements.\n",
    "unique_list = list(set(my_list))"
   ]
  },
  {
   "cell_type": "code",
   "execution_count": null,
   "id": "403c02e0",
   "metadata": {},
   "outputs": [],
   "source": [
    "# 26. Find the intersection of two lists.\n",
    "# Hint: Use set operations.\n",
    "list_a = [1, 2, 3, 4]\n",
    "list_b = [3, 4, 5, 6]\n",
    "intersection = list(set(list_a) & set(list_b))"
   ]
  },
  {
   "cell_type": "code",
   "execution_count": null,
   "id": "767a1af9",
   "metadata": {},
   "outputs": [],
   "source": [
    "# 27. Get the difference between two lists.\n",
    "# Hint: Use list comprehension and `in`.\n",
    "difference = [item for item in list_a if item not in list_b]"
   ]
  },
  {
   "cell_type": "code",
   "execution_count": null,
   "id": "5028fc1f",
   "metadata": {},
   "outputs": [],
   "source": [
    "# 28. Find the symmetric difference between two lists.\n",
    "# Hint: Use set operations.\n",
    "symmetric_difference = list(set(list_a) ^ set(list_b))"
   ]
  },
  {
   "cell_type": "code",
   "execution_count": null,
   "id": "c0244ec6",
   "metadata": {},
   "outputs": [],
   "source": [
    "# 29. Find all sublists in a list that contain the element 5.\n",
    "# Hint: Use a combination of list comprehension and the `any()` function.\n",
    "list_of_lists = [[1, 2, 3], [4, 5, 6], [5, 7, 8], [9, 0]]\n",
    "sublists_containing_5 = [sublist for sublist in list_of_lists if 5 in sublist]"
   ]
  },
  {
   "cell_type": "code",
   "execution_count": null,
   "id": "5284ef41",
   "metadata": {},
   "outputs": [],
   "source": [
    "# 30. Generate all permutations of a list.\n",
    "# Hint: Use the itertools.permutations function.\n",
    "import itertools\n",
    "perms = list(itertools.permutations(my_list))"
   ]
  }
 ],
 "metadata": {
  "kernelspec": {
   "display_name": "Python 3 (ipykernel)",
   "language": "python",
   "name": "python3"
  },
  "language_info": {
   "codemirror_mode": {
    "name": "ipython",
    "version": 3
   },
   "file_extension": ".py",
   "mimetype": "text/x-python",
   "name": "python",
   "nbconvert_exporter": "python",
   "pygments_lexer": "ipython3",
   "version": "3.11.5"
  },
  "toc": {
   "base_numbering": 1,
   "nav_menu": {},
   "number_sections": true,
   "sideBar": true,
   "skip_h1_title": false,
   "title_cell": "Table of Contents",
   "title_sidebar": "Contents",
   "toc_cell": false,
   "toc_position": {},
   "toc_section_display": true,
   "toc_window_display": false
  }
 },
 "nbformat": 4,
 "nbformat_minor": 5
}
