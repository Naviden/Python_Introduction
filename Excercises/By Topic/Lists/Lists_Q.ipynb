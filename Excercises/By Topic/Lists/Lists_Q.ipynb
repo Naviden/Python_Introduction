{
 "cells": [
  {
   "cell_type": "code",
   "execution_count": 1,
   "id": "be34e773",
   "metadata": {},
   "outputs": [],
   "source": [
    "# 1. Create a List with five integer elements."
   ]
  },
  {
   "cell_type": "code",
   "execution_count": 2,
   "id": "5bbea552",
   "metadata": {},
   "outputs": [],
   "source": [
    "# 2. Access and print the first element of the above list."
   ]
  },
  {
   "cell_type": "code",
   "execution_count": 3,
   "id": "74951f8d",
   "metadata": {},
   "outputs": [],
   "source": [
    "# 3. Change the value of the second element of the above list to 10."
   ]
  },
  {
   "cell_type": "code",
   "execution_count": 4,
   "id": "0b0888f8",
   "metadata": {},
   "outputs": [],
   "source": [
    "# 4. Add a new element to the end of the above list."
   ]
  },
  {
   "cell_type": "code",
   "execution_count": 5,
   "id": "9435ad1e",
   "metadata": {},
   "outputs": [],
   "source": [
    "# 5. Insert the value 25 at the third position of the above list."
   ]
  },
  {
   "cell_type": "code",
   "execution_count": 6,
   "id": "4a8f07d3",
   "metadata": {},
   "outputs": [],
   "source": [
    "# 6. Remove the last element from the above list."
   ]
  },
  {
   "cell_type": "code",
   "execution_count": 7,
   "id": "41da3b5b",
   "metadata": {},
   "outputs": [],
   "source": [
    "# 7. Find the length of the above list."
   ]
  },
  {
   "cell_type": "code",
   "execution_count": 8,
   "id": "509811f0",
   "metadata": {},
   "outputs": [],
   "source": [
    "# 8. Slice the above list to extract elements from the 2nd to the 4th position."
   ]
  },
  {
   "cell_type": "code",
   "execution_count": 9,
   "id": "0a9ff313",
   "metadata": {},
   "outputs": [],
   "source": [
    "# 9. Print each element of a the above list using a loop."
   ]
  },
  {
   "cell_type": "code",
   "execution_count": 10,
   "id": "530ba1b3",
   "metadata": {},
   "outputs": [],
   "source": [
    "# 10. Create a new list containing squares of all elements from the above list."
   ]
  },
  {
   "cell_type": "code",
   "execution_count": 11,
   "id": "67b57e07",
   "metadata": {},
   "outputs": [],
   "source": [
    "# 11. Create a copy of the new list."
   ]
  },
  {
   "cell_type": "code",
   "execution_count": 12,
   "id": "ad9cfb1f",
   "metadata": {},
   "outputs": [],
   "source": [
    "# 12. Reverse the order of elements in the above list."
   ]
  },
  {
   "cell_type": "code",
   "execution_count": 13,
   "id": "240d6642",
   "metadata": {},
   "outputs": [],
   "source": [
    "# 13. Sort a list of numbers in ascending order.\n",
    "number_list = [5, 3.14, 7, 1, 0, -14]"
   ]
  },
  {
   "cell_type": "code",
   "execution_count": 37,
   "id": "84c9094b",
   "metadata": {},
   "outputs": [],
   "source": [
    "# 14. Count how many times 5 appears in a list.\n",
    "my_list = [\n",
    "    9, 2, 9, 5, 5, 2, 20, 5, 10, 7, 10, 5, 4, 5, 4, 8, 2, 5, 27, 5, 7, 5, 10, 4,\n",
    "    5, 10, 7, 10, 5, 20, 5, 4, 10, 5, 4, 4, 6, 6, 9, 5, 5, 2, 4, 5, 4, 4, 12, 11\n",
    "]"
   ]
  },
  {
   "cell_type": "code",
   "execution_count": 38,
   "id": "f974dcf1",
   "metadata": {},
   "outputs": [],
   "source": [
    "# 15. Remove the first occurrence of element 20 from the above list."
   ]
  },
  {
   "cell_type": "code",
   "execution_count": 16,
   "id": "ed3e242b",
   "metadata": {},
   "outputs": [],
   "source": [
    "# 16. Extend a list by appending all elements from another list."
   ]
  },
  {
   "cell_type": "code",
   "execution_count": 17,
   "id": "c42de2a7",
   "metadata": {},
   "outputs": [],
   "source": [
    "# 17. Find the index of the first occurrence of element 30.\n",
    "my_list = [3, 0, 30, [30], '30', 30, 3030]"
   ]
  },
  {
   "cell_type": "code",
   "execution_count": 18,
   "id": "cf9396da",
   "metadata": {},
   "outputs": [],
   "source": [
    "# 18. Calculate the sum of all numbers.\n",
    "my_list = [4, 3.14, 67, 499]"
   ]
  },
  {
   "cell_type": "code",
   "execution_count": 39,
   "id": "270b827e",
   "metadata": {},
   "outputs": [],
   "source": [
    "# 19. Multiply all the items in a list using reduce()\n",
    "my_list = [1, 3, 9, 27, 81]"
   ]
  },
  {
   "cell_type": "code",
   "execution_count": 27,
   "id": "92d1292c",
   "metadata": {},
   "outputs": [],
   "source": [
    "# 20. Check if the element 25 is present in a list.\n",
    "my_list = list(range(1, 500, 4))"
   ]
  },
  {
   "cell_type": "code",
   "execution_count": 28,
   "id": "727c9fa1",
   "metadata": {},
   "outputs": [],
   "source": [
    "# 21. Flatten a nested list using list comprehension\n",
    "nested_list = [[1, 2], [3, 4], [5, 6]]"
   ]
  },
  {
   "cell_type": "code",
   "execution_count": 29,
   "id": "d521f180",
   "metadata": {},
   "outputs": [],
   "source": [
    "# 22. Rotate a list to the right by 3 places.\n",
    "# Hint: Use slicing."
   ]
  },
  {
   "cell_type": "code",
   "execution_count": 30,
   "id": "1658aca9",
   "metadata": {},
   "outputs": [],
   "source": [
    "# 23. Filter out all odd numbers from a list, leaving only even numbers.\n",
    "# Hint: Use a list comprehension with a condition."
   ]
  },
  {
   "cell_type": "code",
   "execution_count": 31,
   "id": "db816984",
   "metadata": {},
   "outputs": [],
   "source": [
    "# 24. Convert a list of characters into a string.\n",
    "# Hint: Use the join() method.\n",
    "char_list = ['P', 'y', 't', 'h', 'o', 'n']"
   ]
  },
  {
   "cell_type": "code",
   "execution_count": 35,
   "id": "3ca2cb21",
   "metadata": {},
   "outputs": [],
   "source": [
    "# 25. Remove all duplicate elements from a list.\n",
    "# Hint: Use a set to track seen elements.\n",
    "my_list = [3, 0, 30, 30, '30', 30, 3030, 30, 300, 30]"
   ]
  },
  {
   "cell_type": "code",
   "execution_count": null,
   "id": "403c02e0",
   "metadata": {},
   "outputs": [],
   "source": [
    "# 26. Find the intersection of two lists.\n",
    "# Hint: Use set operations.\n",
    "list_a = [1, 2, 3, 4]\n",
    "list_b = [3, 4, 5, 6]"
   ]
  },
  {
   "cell_type": "code",
   "execution_count": null,
   "id": "767a1af9",
   "metadata": {},
   "outputs": [],
   "source": [
    "# 27. Get the difference between list_a and list_b.\n",
    "# Hint: Use list comprehension and `in`.\n",
    "list_a = [0, 1, 2, 3, 4]\n",
    "list_b = [3, 4, 5, 6, 0]"
   ]
  },
  {
   "cell_type": "code",
   "execution_count": 36,
   "id": "5028fc1f",
   "metadata": {},
   "outputs": [],
   "source": [
    "# 28. Find the symmetric difference between two lists.\n",
    "# Hint: Use set operations.\n",
    "list_a = [0, 1, 2, 3, 4, 11]\n",
    "list_b = [3, 4, 10, 5, 6, 0]"
   ]
  },
  {
   "cell_type": "code",
   "execution_count": null,
   "id": "c0244ec6",
   "metadata": {},
   "outputs": [],
   "source": [
    "# 29. Find all sublists in a list that contain the element 5.\n",
    "# Hint: Use a combination of list comprehension and the `any()` function.\n",
    "list_of_lists = [[1, 2, 3], [4, 5, 6], [5, 7, 8], [9, 0]]"
   ]
  },
  {
   "cell_type": "code",
   "execution_count": null,
   "id": "5284ef41",
   "metadata": {},
   "outputs": [],
   "source": [
    "# 30. Generate all permutations of a list.\n",
    "# Hint: Use the itertools.permutations function."
   ]
  }
 ],
 "metadata": {
  "kernelspec": {
   "display_name": "Python 3 (ipykernel)",
   "language": "python",
   "name": "python3"
  },
  "language_info": {
   "codemirror_mode": {
    "name": "ipython",
    "version": 3
   },
   "file_extension": ".py",
   "mimetype": "text/x-python",
   "name": "python",
   "nbconvert_exporter": "python",
   "pygments_lexer": "ipython3",
   "version": "3.11.5"
  },
  "toc": {
   "base_numbering": 1,
   "nav_menu": {},
   "number_sections": true,
   "sideBar": true,
   "skip_h1_title": false,
   "title_cell": "Table of Contents",
   "title_sidebar": "Contents",
   "toc_cell": false,
   "toc_position": {},
   "toc_section_display": true,
   "toc_window_display": false
  }
 },
 "nbformat": 4,
 "nbformat_minor": 5
}
