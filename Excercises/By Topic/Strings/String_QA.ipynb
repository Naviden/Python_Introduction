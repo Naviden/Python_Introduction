{
 "cells": [
  {
   "cell_type": "code",
   "execution_count": null,
   "id": "01a05677",
   "metadata": {},
   "outputs": [],
   "source": [
    "# 1. Create a String Variable called \"greetings\"\n",
    "greeting = \"Hello, World!\""
   ]
  },
  {
   "cell_type": "code",
   "execution_count": null,
   "id": "9267a21c",
   "metadata": {},
   "outputs": [],
   "source": [
    "# 2. Access Characters in a String\n",
    "# Print the first character of the string greeting.\n",
    "print(greeting[0])"
   ]
  },
  {
   "cell_type": "code",
   "execution_count": null,
   "id": "9c4c703f",
   "metadata": {},
   "outputs": [],
   "source": [
    "# 3. Concatenate Strings\n",
    "# Concatenate the strings \"Hello, \" and \"Python!\" and print the result.\n",
    "hello_python = \"Hello, \" + \"Python!\"\n",
    "print(hello_python)"
   ]
  },
  {
   "cell_type": "code",
   "execution_count": null,
   "id": "1f7a636d",
   "metadata": {},
   "outputs": [],
   "source": [
    "# 4. String Length\n",
    "# Find and print the length of the string \"Hello, Python!\".\n",
    "print(len(\"Hello, Python!\"))"
   ]
  },
  {
   "cell_type": "code",
   "execution_count": null,
   "id": "5f6c1eb4",
   "metadata": {},
   "outputs": [],
   "source": [
    "# 5. Convert to Upper Case\n",
    "# Convert the string \"hello, world!\" to upper case.\n",
    "upper_case_string = \"hello, world!\".upper()\n",
    "print(upper_case_string)"
   ]
  },
  {
   "cell_type": "code",
   "execution_count": null,
   "id": "5f8dc0bc",
   "metadata": {},
   "outputs": [],
   "source": [
    "# 6. Convert to Lower Case\n",
    "# Convert the string \"HELLO, WORLD!\" to lower case.\n",
    "lower_case_string = \"HELLO, WORLD!\".lower()\n",
    "print(lower_case_string)"
   ]
  },
  {
   "cell_type": "code",
   "execution_count": null,
   "id": "16d2bf9e",
   "metadata": {},
   "outputs": [],
   "source": [
    "# 7. Replace String Content\n",
    "# Replace \"Hello\" with \"Goodbye\" in the string \"Hello, Python!\".\n",
    "replaced_string = \"Hello, Python!\".replace(\"Hello\", \"Goodbye\")\n",
    "print(replaced_string)"
   ]
  },
  {
   "cell_type": "code",
   "execution_count": null,
   "id": "d62a0af8",
   "metadata": {},
   "outputs": [],
   "source": [
    "# 8. Strip Whitespace\n",
    "# Remove whitespace from the beginning and end of the string \"  Hello, Python!  \".\n",
    "stripped_string = \"  Hello, Python!  \".strip()\n",
    "print(stripped_string)"
   ]
  },
  {
   "cell_type": "code",
   "execution_count": null,
   "id": "4f433d18",
   "metadata": {},
   "outputs": [],
   "source": [
    "# 9. Split a String\n",
    "# Split the string \"Hello, World, Python\" into a list of words.\n",
    "word_list = \"Hello, World, Python\".split(\", \")\n",
    "print(word_list)"
   ]
  },
  {
   "cell_type": "code",
   "execution_count": null,
   "id": "fe0cafe4",
   "metadata": {},
   "outputs": [],
   "source": [
    "# 10. Check String for Substring\n",
    "# Check if \"World\" is in the string \"Hello, World!\".\n",
    "print(\"World\" in \"Hello, World!\")"
   ]
  },
  {
   "cell_type": "code",
   "execution_count": null,
   "id": "c8462c20",
   "metadata": {},
   "outputs": [],
   "source": [
    "# 11. String Formatting with %\n",
    "# Use % formatting to insert \"Python\" into the string \"Hello, %s!\".\n",
    "formatted_string = \"Hello, %s!\" % \"Python\"\n",
    "print(formatted_string)"
   ]
  },
  {
   "cell_type": "code",
   "execution_count": null,
   "id": "9437699f",
   "metadata": {},
   "outputs": [],
   "source": [
    "# 12. String Formatting with .format()\n",
    "# Use .format() to insert \"Python\" into the string \"Hello, {}!\".\n",
    "formatted_string = \"Hello, {}!\".format(\"Python\")\n",
    "print(formatted_string)"
   ]
  },
  {
   "cell_type": "code",
   "execution_count": null,
   "id": "f4d55b8d",
   "metadata": {},
   "outputs": [],
   "source": [
    "# 13. String Formatting with f-String (Python 3.6+)\n",
    "# Use an f-string to insert \"Python\" into the string \"Hello, {name}!\".\n",
    "name = \"Python\"\n",
    "formatted_string = f\"Hello, {name}!\"\n",
    "print(formatted_string)"
   ]
  },
  {
   "cell_type": "code",
   "execution_count": null,
   "id": "d49daa5f",
   "metadata": {},
   "outputs": [],
   "source": [
    "# 14. Find Substring Position\n",
    "# Find the position of \"World\" in the string \"Hello, World!\".\n",
    "position = \"Hello, World!\".find(\"World\")\n",
    "print(position)"
   ]
  },
  {
   "cell_type": "code",
   "execution_count": null,
   "id": "0657556e",
   "metadata": {},
   "outputs": [],
   "source": [
    "# 15. Count Substring Occurrence\n",
    "# Count how many times \"o\" appears in \"Hello, World!\".\n",
    "count = \"Hello, World!\".count(\"o\")\n",
    "print(count)"
   ]
  }
 ],
 "metadata": {
  "kernelspec": {
   "display_name": "Python 3 (ipykernel)",
   "language": "python",
   "name": "python3"
  },
  "language_info": {
   "codemirror_mode": {
    "name": "ipython",
    "version": 3
   },
   "file_extension": ".py",
   "mimetype": "text/x-python",
   "name": "python",
   "nbconvert_exporter": "python",
   "pygments_lexer": "ipython3",
   "version": "3.11.5"
  }
 },
 "nbformat": 4,
 "nbformat_minor": 5
}
