{
 "cells": [
  {
   "cell_type": "code",
   "execution_count": 1,
   "id": "858f84e5",
   "metadata": {},
   "outputs": [],
   "source": [
    "# 1. Create a String Variable called \"greetings\""
   ]
  },
  {
   "cell_type": "code",
   "execution_count": 2,
   "id": "ba310898",
   "metadata": {},
   "outputs": [],
   "source": [
    "# 2. Access Characters in a String\n",
    "# Print the first character of the string greeting."
   ]
  },
  {
   "cell_type": "code",
   "execution_count": 3,
   "id": "29f5874b",
   "metadata": {},
   "outputs": [],
   "source": [
    "# 3. Concatenate Strings\n",
    "# Concatenate the strings \"Hello, \" and \"Python!\" and print the result."
   ]
  },
  {
   "cell_type": "code",
   "execution_count": 4,
   "id": "860a4222",
   "metadata": {},
   "outputs": [],
   "source": [
    "# 4. String Length\n",
    "# Find and print the length of the string \"Hello, Python!\"."
   ]
  },
  {
   "cell_type": "code",
   "execution_count": 5,
   "id": "14a92b6e",
   "metadata": {},
   "outputs": [],
   "source": [
    "# 5. Convert to Upper Case\n",
    "# Convert the string \"hello, world!\" to upper case."
   ]
  },
  {
   "cell_type": "code",
   "execution_count": 6,
   "id": "27e59c18",
   "metadata": {},
   "outputs": [],
   "source": [
    "# 6. Convert to Lower Case\n",
    "# Convert the string \"HELLO, WORLD!\" to lower case."
   ]
  },
  {
   "cell_type": "code",
   "execution_count": null,
   "id": "00c534f3",
   "metadata": {},
   "outputs": [],
   "source": [
    "# 7. Replace String Content\n",
    "# Replace \"Hello\" with \"Goodbye\" in the string \"Hello, Python!\"."
   ]
  },
  {
   "cell_type": "code",
   "execution_count": null,
   "id": "dec3059c",
   "metadata": {},
   "outputs": [],
   "source": [
    "# 8. Strip Whitespace\n",
    "# Remove whitespace from the beginning and end of the string \"  Hello, Python!  \"."
   ]
  },
  {
   "cell_type": "code",
   "execution_count": null,
   "id": "4e6e9e3b",
   "metadata": {},
   "outputs": [],
   "source": [
    "# 9. Split a String\n",
    "# Split the string \"Hello, World, Python\" into a list of words."
   ]
  },
  {
   "cell_type": "code",
   "execution_count": null,
   "id": "abcb264c",
   "metadata": {},
   "outputs": [],
   "source": [
    "# 10. Check String for Substring\n",
    "# Check if \"World\" is in the string \"Hello, World!\"."
   ]
  },
  {
   "cell_type": "code",
   "execution_count": null,
   "id": "7165bc44",
   "metadata": {},
   "outputs": [],
   "source": [
    "# 11. String Formatting with %\n",
    "# Use % formatting to insert \"Python\" into the string \"Hello, %s!\"."
   ]
  },
  {
   "cell_type": "code",
   "execution_count": null,
   "id": "f7f6db3c",
   "metadata": {},
   "outputs": [],
   "source": [
    "# 12. String Formatting with .format()\n",
    "# Use .format() to insert \"Python\" into the string \"Hello, {}!\"."
   ]
  },
  {
   "cell_type": "code",
   "execution_count": null,
   "id": "cc552757",
   "metadata": {},
   "outputs": [],
   "source": [
    "# 13. String Formatting with f-String (Python 3.6+)\n",
    "# Use an f-string to insert \"Python\" into the string \"Hello, {name}!\"."
   ]
  },
  {
   "cell_type": "code",
   "execution_count": 7,
   "id": "f90aa651",
   "metadata": {},
   "outputs": [],
   "source": [
    "# 14. Find Substring Position\n",
    "# Find the position of \"World\" in the string \"Hello, World!\"."
   ]
  },
  {
   "cell_type": "code",
   "execution_count": null,
   "id": "62369048",
   "metadata": {},
   "outputs": [],
   "source": [
    "# 15. Count Substring Occurrence\n",
    "# Count how many times \"o\" appears in \"Hello, World!\"."
   ]
  }
 ],
 "metadata": {
  "kernelspec": {
   "display_name": "Python 3 (ipykernel)",
   "language": "python",
   "name": "python3"
  },
  "language_info": {
   "codemirror_mode": {
    "name": "ipython",
    "version": 3
   },
   "file_extension": ".py",
   "mimetype": "text/x-python",
   "name": "python",
   "nbconvert_exporter": "python",
   "pygments_lexer": "ipython3",
   "version": "3.11.5"
  }
 },
 "nbformat": 4,
 "nbformat_minor": 5
}
